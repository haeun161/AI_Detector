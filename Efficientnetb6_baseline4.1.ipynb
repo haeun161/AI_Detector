{
 "cells": [
  {
   "cell_type": "markdown",
   "metadata": {
    "id": "hgUeI-zlTHSj"
   },
   "source": []
  },
  {
   "cell_type": "markdown",
   "metadata": {
    "id": "R_VelDRqHGgn"
   },
   "source": [
    "## 필요한 라이브러리 install"
   ]
  },
  {
   "cell_type": "code",
   "execution_count": null,
   "metadata": {
    "colab": {
     "base_uri": "https://localhost:8080/"
    },
    "executionInfo": {
     "elapsed": 117353,
     "status": "ok",
     "timestamp": 1739341520044,
     "user": {
      "displayName": "이하은",
      "userId": "06607701604719915973"
     },
     "user_tz": -540
    },
    "id": "V49o4HtsE9dw",
    "outputId": "70d5a609-a3cc-4b07-84ac-566bd68eca47"
   },
   "outputs": [
    {
     "name": "stdout",
     "output_type": "stream",
     "text": [
      "Requirement already satisfied: torch in /home/jangminoh_2/miniconda3/envs/ml-ops/lib/python3.12/site-packages (2.6.0)\n",
      "Requirement already satisfied: torchvision in /home/jangminoh_2/miniconda3/envs/ml-ops/lib/python3.12/site-packages (0.21.0)\n",
      "Requirement already satisfied: torchaudio in /home/jangminoh_2/miniconda3/envs/ml-ops/lib/python3.12/site-packages (2.6.0)\n",
      "Requirement already satisfied: tensorflow in /home/jangminoh_2/miniconda3/envs/ml-ops/lib/python3.12/site-packages (2.17.0)\n",
      "Requirement already satisfied: albumentations in /home/jangminoh_2/miniconda3/envs/ml-ops/lib/python3.12/site-packages (2.0.4)\n",
      "Requirement already satisfied: timm in /home/jangminoh_2/miniconda3/envs/ml-ops/lib/python3.12/site-packages (1.0.14)\n",
      "Requirement already satisfied: opencv-python in /home/jangminoh_2/miniconda3/envs/ml-ops/lib/python3.12/site-packages (4.11.0.86)\n",
      "Requirement already satisfied: matplotlib in /home/jangminoh_2/miniconda3/envs/ml-ops/lib/python3.12/site-packages (3.10.0)\n",
      "Requirement already satisfied: kagglehub in /home/jangminoh_2/miniconda3/envs/ml-ops/lib/python3.12/site-packages (0.3.9)\n",
      "Requirement already satisfied: pandas in /home/jangminoh_2/miniconda3/envs/ml-ops/lib/python3.12/site-packages (2.2.3)\n",
      "Requirement already satisfied: scikit-learn in /home/jangminoh_2/miniconda3/envs/ml-ops/lib/python3.12/site-packages (1.6.1)\n",
      "Requirement already satisfied: seaborn in /home/jangminoh_2/miniconda3/envs/ml-ops/lib/python3.12/site-packages (0.13.2)\n",
      "Requirement already satisfied: filelock in /home/jangminoh_2/miniconda3/envs/ml-ops/lib/python3.12/site-packages (from torch) (3.17.0)\n",
      "Requirement already satisfied: typing-extensions>=4.10.0 in /home/jangminoh_2/miniconda3/envs/ml-ops/lib/python3.12/site-packages (from torch) (4.12.2)\n",
      "Requirement already satisfied: networkx in /home/jangminoh_2/miniconda3/envs/ml-ops/lib/python3.12/site-packages (from torch) (3.4.2)\n",
      "Requirement already satisfied: jinja2 in /home/jangminoh_2/miniconda3/envs/ml-ops/lib/python3.12/site-packages (from torch) (3.1.5)\n",
      "Requirement already satisfied: fsspec in /home/jangminoh_2/miniconda3/envs/ml-ops/lib/python3.12/site-packages (from torch) (2025.2.0)\n",
      "Requirement already satisfied: nvidia-cuda-nvrtc-cu12==12.4.127 in /home/jangminoh_2/miniconda3/envs/ml-ops/lib/python3.12/site-packages (from torch) (12.4.127)\n",
      "Requirement already satisfied: nvidia-cuda-runtime-cu12==12.4.127 in /home/jangminoh_2/miniconda3/envs/ml-ops/lib/python3.12/site-packages (from torch) (12.4.127)\n",
      "Requirement already satisfied: nvidia-cuda-cupti-cu12==12.4.127 in /home/jangminoh_2/miniconda3/envs/ml-ops/lib/python3.12/site-packages (from torch) (12.4.127)\n",
      "Requirement already satisfied: nvidia-cudnn-cu12==9.1.0.70 in /home/jangminoh_2/miniconda3/envs/ml-ops/lib/python3.12/site-packages (from torch) (9.1.0.70)\n",
      "Requirement already satisfied: nvidia-cublas-cu12==12.4.5.8 in /home/jangminoh_2/miniconda3/envs/ml-ops/lib/python3.12/site-packages (from torch) (12.4.5.8)\n",
      "Requirement already satisfied: nvidia-cufft-cu12==11.2.1.3 in /home/jangminoh_2/miniconda3/envs/ml-ops/lib/python3.12/site-packages (from torch) (11.2.1.3)\n",
      "Requirement already satisfied: nvidia-curand-cu12==10.3.5.147 in /home/jangminoh_2/miniconda3/envs/ml-ops/lib/python3.12/site-packages (from torch) (10.3.5.147)\n",
      "Requirement already satisfied: nvidia-cusolver-cu12==11.6.1.9 in /home/jangminoh_2/miniconda3/envs/ml-ops/lib/python3.12/site-packages (from torch) (11.6.1.9)\n",
      "Requirement already satisfied: nvidia-cusparse-cu12==12.3.1.170 in /home/jangminoh_2/miniconda3/envs/ml-ops/lib/python3.12/site-packages (from torch) (12.3.1.170)\n",
      "Requirement already satisfied: nvidia-cusparselt-cu12==0.6.2 in /home/jangminoh_2/miniconda3/envs/ml-ops/lib/python3.12/site-packages (from torch) (0.6.2)\n",
      "Requirement already satisfied: nvidia-nccl-cu12==2.21.5 in /home/jangminoh_2/miniconda3/envs/ml-ops/lib/python3.12/site-packages (from torch) (2.21.5)\n",
      "Requirement already satisfied: nvidia-nvtx-cu12==12.4.127 in /home/jangminoh_2/miniconda3/envs/ml-ops/lib/python3.12/site-packages (from torch) (12.4.127)\n",
      "Requirement already satisfied: nvidia-nvjitlink-cu12==12.4.127 in /home/jangminoh_2/miniconda3/envs/ml-ops/lib/python3.12/site-packages (from torch) (12.4.127)\n",
      "Requirement already satisfied: triton==3.2.0 in /home/jangminoh_2/miniconda3/envs/ml-ops/lib/python3.12/site-packages (from torch) (3.2.0)\n",
      "Requirement already satisfied: setuptools in /home/jangminoh_2/miniconda3/envs/ml-ops/lib/python3.12/site-packages (from torch) (75.8.0)\n",
      "Requirement already satisfied: sympy==1.13.1 in /home/jangminoh_2/miniconda3/envs/ml-ops/lib/python3.12/site-packages (from torch) (1.13.1)\n",
      "Requirement already satisfied: mpmath<1.4,>=1.1.0 in /home/jangminoh_2/miniconda3/envs/ml-ops/lib/python3.12/site-packages (from sympy==1.13.1->torch) (1.3.0)\n",
      "Requirement already satisfied: numpy in /home/jangminoh_2/miniconda3/envs/ml-ops/lib/python3.12/site-packages (from torchvision) (1.26.4)\n",
      "Requirement already satisfied: pillow!=8.3.*,>=5.3.0 in /home/jangminoh_2/miniconda3/envs/ml-ops/lib/python3.12/site-packages (from torchvision) (11.1.0)\n",
      "Requirement already satisfied: absl-py>=1.0.0 in /home/jangminoh_2/miniconda3/envs/ml-ops/lib/python3.12/site-packages (from tensorflow) (2.1.0)\n",
      "Requirement already satisfied: astunparse>=1.6.0 in /home/jangminoh_2/miniconda3/envs/ml-ops/lib/python3.12/site-packages (from tensorflow) (1.6.3)\n",
      "Requirement already satisfied: flatbuffers>=24.3.25 in /home/jangminoh_2/miniconda3/envs/ml-ops/lib/python3.12/site-packages (from tensorflow) (25.2.10)\n",
      "Requirement already satisfied: gast!=0.5.0,!=0.5.1,!=0.5.2,>=0.2.1 in /home/jangminoh_2/miniconda3/envs/ml-ops/lib/python3.12/site-packages (from tensorflow) (0.6.0)\n",
      "Requirement already satisfied: google-pasta>=0.1.1 in /home/jangminoh_2/miniconda3/envs/ml-ops/lib/python3.12/site-packages (from tensorflow) (0.2.0)\n",
      "Requirement already satisfied: h5py>=3.10.0 in /home/jangminoh_2/miniconda3/envs/ml-ops/lib/python3.12/site-packages (from tensorflow) (3.13.0)\n",
      "Requirement already satisfied: libclang>=13.0.0 in /home/jangminoh_2/miniconda3/envs/ml-ops/lib/python3.12/site-packages (from tensorflow) (18.1.1)\n",
      "Requirement already satisfied: ml-dtypes<0.5.0,>=0.3.1 in /home/jangminoh_2/miniconda3/envs/ml-ops/lib/python3.12/site-packages (from tensorflow) (0.4.1)\n",
      "Requirement already satisfied: opt-einsum>=2.3.2 in /home/jangminoh_2/miniconda3/envs/ml-ops/lib/python3.12/site-packages (from tensorflow) (3.4.0)\n",
      "Requirement already satisfied: packaging in /home/jangminoh_2/miniconda3/envs/ml-ops/lib/python3.12/site-packages (from tensorflow) (24.2)\n",
      "Requirement already satisfied: protobuf!=4.21.0,!=4.21.1,!=4.21.2,!=4.21.3,!=4.21.4,!=4.21.5,<5.0.0dev,>=3.20.3 in /home/jangminoh_2/miniconda3/envs/ml-ops/lib/python3.12/site-packages (from tensorflow) (4.25.6)\n",
      "Requirement already satisfied: requests<3,>=2.21.0 in /home/jangminoh_2/miniconda3/envs/ml-ops/lib/python3.12/site-packages (from tensorflow) (2.32.3)\n",
      "Requirement already satisfied: six>=1.12.0 in /home/jangminoh_2/miniconda3/envs/ml-ops/lib/python3.12/site-packages (from tensorflow) (1.17.0)\n",
      "Requirement already satisfied: termcolor>=1.1.0 in /home/jangminoh_2/miniconda3/envs/ml-ops/lib/python3.12/site-packages (from tensorflow) (2.5.0)\n",
      "Requirement already satisfied: wrapt>=1.11.0 in /home/jangminoh_2/miniconda3/envs/ml-ops/lib/python3.12/site-packages (from tensorflow) (1.17.2)\n",
      "Requirement already satisfied: grpcio<2.0,>=1.24.3 in /home/jangminoh_2/miniconda3/envs/ml-ops/lib/python3.12/site-packages (from tensorflow) (1.70.0)\n",
      "Requirement already satisfied: tensorboard<2.18,>=2.17 in /home/jangminoh_2/miniconda3/envs/ml-ops/lib/python3.12/site-packages (from tensorflow) (2.17.1)\n",
      "Requirement already satisfied: keras>=3.2.0 in /home/jangminoh_2/miniconda3/envs/ml-ops/lib/python3.12/site-packages (from tensorflow) (3.8.0)\n",
      "Requirement already satisfied: scipy>=1.10.0 in /home/jangminoh_2/miniconda3/envs/ml-ops/lib/python3.12/site-packages (from albumentations) (1.15.2)\n",
      "Requirement already satisfied: PyYAML in /home/jangminoh_2/miniconda3/envs/ml-ops/lib/python3.12/site-packages (from albumentations) (6.0.2)\n",
      "Requirement already satisfied: pydantic>=2.9.2 in /home/jangminoh_2/miniconda3/envs/ml-ops/lib/python3.12/site-packages (from albumentations) (2.10.6)\n",
      "Requirement already satisfied: albucore==0.0.23 in /home/jangminoh_2/miniconda3/envs/ml-ops/lib/python3.12/site-packages (from albumentations) (0.0.23)\n",
      "Requirement already satisfied: opencv-python-headless>=4.9.0.80 in /home/jangminoh_2/miniconda3/envs/ml-ops/lib/python3.12/site-packages (from albumentations) (4.11.0.86)\n",
      "Requirement already satisfied: stringzilla>=3.10.4 in /home/jangminoh_2/miniconda3/envs/ml-ops/lib/python3.12/site-packages (from albucore==0.0.23->albumentations) (3.11.3)\n",
      "Requirement already satisfied: simsimd>=5.9.2 in /home/jangminoh_2/miniconda3/envs/ml-ops/lib/python3.12/site-packages (from albucore==0.0.23->albumentations) (6.2.1)\n",
      "Requirement already satisfied: huggingface_hub in /home/jangminoh_2/miniconda3/envs/ml-ops/lib/python3.12/site-packages (from timm) (0.29.1)\n",
      "Requirement already satisfied: safetensors in /home/jangminoh_2/miniconda3/envs/ml-ops/lib/python3.12/site-packages (from timm) (0.5.2)\n",
      "Requirement already satisfied: contourpy>=1.0.1 in /home/jangminoh_2/miniconda3/envs/ml-ops/lib/python3.12/site-packages (from matplotlib) (1.3.1)\n",
      "Requirement already satisfied: cycler>=0.10 in /home/jangminoh_2/miniconda3/envs/ml-ops/lib/python3.12/site-packages (from matplotlib) (0.12.1)\n",
      "Requirement already satisfied: fonttools>=4.22.0 in /home/jangminoh_2/miniconda3/envs/ml-ops/lib/python3.12/site-packages (from matplotlib) (4.56.0)\n",
      "Requirement already satisfied: kiwisolver>=1.3.1 in /home/jangminoh_2/miniconda3/envs/ml-ops/lib/python3.12/site-packages (from matplotlib) (1.4.8)\n",
      "Requirement already satisfied: pyparsing>=2.3.1 in /home/jangminoh_2/miniconda3/envs/ml-ops/lib/python3.12/site-packages (from matplotlib) (3.2.1)\n",
      "Requirement already satisfied: python-dateutil>=2.7 in /home/jangminoh_2/miniconda3/envs/ml-ops/lib/python3.12/site-packages (from matplotlib) (2.9.0.post0)\n",
      "Requirement already satisfied: tqdm in /home/jangminoh_2/miniconda3/envs/ml-ops/lib/python3.12/site-packages (from kagglehub) (4.67.1)\n",
      "Requirement already satisfied: pytz>=2020.1 in /home/jangminoh_2/miniconda3/envs/ml-ops/lib/python3.12/site-packages (from pandas) (2025.1)\n",
      "Requirement already satisfied: tzdata>=2022.7 in /home/jangminoh_2/miniconda3/envs/ml-ops/lib/python3.12/site-packages (from pandas) (2025.1)\n",
      "Requirement already satisfied: joblib>=1.2.0 in /home/jangminoh_2/miniconda3/envs/ml-ops/lib/python3.12/site-packages (from scikit-learn) (1.4.2)\n",
      "Requirement already satisfied: threadpoolctl>=3.1.0 in /home/jangminoh_2/miniconda3/envs/ml-ops/lib/python3.12/site-packages (from scikit-learn) (3.5.0)\n",
      "Requirement already satisfied: wheel<1.0,>=0.23.0 in /home/jangminoh_2/miniconda3/envs/ml-ops/lib/python3.12/site-packages (from astunparse>=1.6.0->tensorflow) (0.45.1)\n",
      "Requirement already satisfied: rich in /home/jangminoh_2/miniconda3/envs/ml-ops/lib/python3.12/site-packages (from keras>=3.2.0->tensorflow) (13.9.4)\n",
      "Requirement already satisfied: namex in /home/jangminoh_2/miniconda3/envs/ml-ops/lib/python3.12/site-packages (from keras>=3.2.0->tensorflow) (0.0.8)\n",
      "Requirement already satisfied: optree in /home/jangminoh_2/miniconda3/envs/ml-ops/lib/python3.12/site-packages (from keras>=3.2.0->tensorflow) (0.14.0)\n",
      "Requirement already satisfied: annotated-types>=0.6.0 in /home/jangminoh_2/miniconda3/envs/ml-ops/lib/python3.12/site-packages (from pydantic>=2.9.2->albumentations) (0.7.0)\n",
      "Requirement already satisfied: pydantic-core==2.27.2 in /home/jangminoh_2/miniconda3/envs/ml-ops/lib/python3.12/site-packages (from pydantic>=2.9.2->albumentations) (2.27.2)\n",
      "Requirement already satisfied: charset-normalizer<4,>=2 in /home/jangminoh_2/miniconda3/envs/ml-ops/lib/python3.12/site-packages (from requests<3,>=2.21.0->tensorflow) (3.4.1)\n",
      "Requirement already satisfied: idna<4,>=2.5 in /home/jangminoh_2/miniconda3/envs/ml-ops/lib/python3.12/site-packages (from requests<3,>=2.21.0->tensorflow) (3.10)\n",
      "Requirement already satisfied: urllib3<3,>=1.21.1 in /home/jangminoh_2/miniconda3/envs/ml-ops/lib/python3.12/site-packages (from requests<3,>=2.21.0->tensorflow) (2.3.0)\n",
      "Requirement already satisfied: certifi>=2017.4.17 in /home/jangminoh_2/miniconda3/envs/ml-ops/lib/python3.12/site-packages (from requests<3,>=2.21.0->tensorflow) (2025.1.31)\n",
      "Requirement already satisfied: markdown>=2.6.8 in /home/jangminoh_2/miniconda3/envs/ml-ops/lib/python3.12/site-packages (from tensorboard<2.18,>=2.17->tensorflow) (3.7)\n",
      "Requirement already satisfied: tensorboard-data-server<0.8.0,>=0.7.0 in /home/jangminoh_2/miniconda3/envs/ml-ops/lib/python3.12/site-packages (from tensorboard<2.18,>=2.17->tensorflow) (0.7.2)\n",
      "Requirement already satisfied: werkzeug>=1.0.1 in /home/jangminoh_2/miniconda3/envs/ml-ops/lib/python3.12/site-packages (from tensorboard<2.18,>=2.17->tensorflow) (3.1.3)\n",
      "Requirement already satisfied: MarkupSafe>=2.0 in /home/jangminoh_2/miniconda3/envs/ml-ops/lib/python3.12/site-packages (from jinja2->torch) (3.0.2)\n",
      "Requirement already satisfied: markdown-it-py>=2.2.0 in /home/jangminoh_2/miniconda3/envs/ml-ops/lib/python3.12/site-packages (from rich->keras>=3.2.0->tensorflow) (3.0.0)\n",
      "Requirement already satisfied: pygments<3.0.0,>=2.13.0 in /home/jangminoh_2/miniconda3/envs/ml-ops/lib/python3.12/site-packages (from rich->keras>=3.2.0->tensorflow) (2.19.1)\n",
      "Requirement already satisfied: mdurl~=0.1 in /home/jangminoh_2/miniconda3/envs/ml-ops/lib/python3.12/site-packages (from markdown-it-py>=2.2.0->rich->keras>=3.2.0->tensorflow) (0.1.2)\n"
     ]
    }
   ],
   "source": [
    "!pip install torch torchvision torchaudio tensorflow albumentations timm opencv-python matplotlib kagglehub pandas scikit-learn seaborn"
   ]
  },
  {
   "cell_type": "markdown",
   "metadata": {},
   "source": [
    "## GPU 환경 설정"
   ]
  },
  {
   "cell_type": "code",
   "execution_count": 1,
   "metadata": {},
   "outputs": [
    {
     "name": "stderr",
     "output_type": "stream",
     "text": [
      "2025-03-12 14:40:12.601783: E external/local_xla/xla/stream_executor/cuda/cuda_fft.cc:485] Unable to register cuFFT factory: Attempting to register factory for plugin cuFFT when one has already been registered\n",
      "2025-03-12 14:40:12.615156: E external/local_xla/xla/stream_executor/cuda/cuda_dnn.cc:8454] Unable to register cuDNN factory: Attempting to register factory for plugin cuDNN when one has already been registered\n",
      "2025-03-12 14:40:12.619266: E external/local_xla/xla/stream_executor/cuda/cuda_blas.cc:1452] Unable to register cuBLAS factory: Attempting to register factory for plugin cuBLAS when one has already been registered\n",
      "2025-03-12 14:40:12.630432: I tensorflow/core/platform/cpu_feature_guard.cc:210] This TensorFlow binary is optimized to use available CPU instructions in performance-critical operations.\n",
      "To enable the following instructions: AVX2 FMA, in other operations, rebuild TensorFlow with the appropriate compiler flags.\n",
      "2025-03-12 14:40:13.422731: W tensorflow/compiler/tf2tensorrt/utils/py_utils.cc:38] TF-TRT Warning: Could not find TensorRT\n"
     ]
    },
    {
     "name": "stdout",
     "output_type": "stream",
     "text": [
      "[LogicalDevice(name='/device:GPU:0', device_type='GPU')]\n"
     ]
    },
    {
     "name": "stderr",
     "output_type": "stream",
     "text": [
      "2025-03-12 14:40:14.912756: I tensorflow/core/common_runtime/gpu/gpu_device.cc:2021] Created device /job:localhost/replica:0/task:0/device:GPU:0 with 20184 MB memory:  -> device: 0, name: NVIDIA RTX A5000, pci bus id: 0000:01:00.0, compute capability: 8.6\n"
     ]
    }
   ],
   "source": [
    "import tensorflow as tf\n",
    "\n",
    "# GPU 0만 사용\n",
    "gpus = tf.config.experimental.list_physical_devices('GPU')\n",
    "if gpus:\n",
    "    try:\n",
    "        tf.config.experimental.set_visible_devices(gpus[0], 'GPU')  # GPU 0만 사용\n",
    "        tf.config.experimental.set_memory_growth(gpus[0], True)  # 메모리 동적 할당\n",
    "    except RuntimeError as e:\n",
    "        print(e)\n",
    "\n",
    "# TensorFlow에서 사용할 장치 확인\n",
    "print(tf.config.experimental.list_logical_devices('GPU'))\n"
   ]
  },
  {
   "cell_type": "markdown",
   "metadata": {
    "id": "po_0dOVbepaM"
   },
   "source": []
  },
  {
   "cell_type": "code",
   "execution_count": 2,
   "metadata": {},
   "outputs": [],
   "source": [
    "import os\n",
    "os.environ[\"CUDA_VISIBLE_DEVICES\"] = \"0\""
   ]
  },
  {
   "cell_type": "code",
   "execution_count": 3,
   "metadata": {},
   "outputs": [],
   "source": [
    "# import os\n",
    "# os.environ[\"CUDA_VISIBLE_DEVICES\"] = \"0\"\n",
    "# os.environ[\"CUDNN_PATH\"] = \"/usr/local/cuda\"\n",
    "# os.environ[\"LD_LIBRARY_PATH\"] = \"/usr/local/cuda/lib64\"\n",
    "\n",
    "# import tensorflow as tf\n",
    "# print(tf.sysconfig.get_build_info()[\"cudnn_version\"])  # 9.1.0 출력 확인"
   ]
  },
  {
   "cell_type": "code",
   "execution_count": 4,
   "metadata": {},
   "outputs": [
    {
     "name": "stdout",
     "output_type": "stream",
     "text": [
      "8\n"
     ]
    }
   ],
   "source": [
    "import tensorflow as tf\n",
    "print(tf.sysconfig.get_build_info()[\"cudnn_version\"])"
   ]
  },
  {
   "cell_type": "markdown",
   "metadata": {
    "id": "T4wWg1QfTHSy"
   },
   "source": [
    "## 데이터셋 합치기 + 불러오기"
   ]
  },
  {
   "cell_type": "code",
   "execution_count": 10,
   "metadata": {
    "id": "aMDjZ0oDTHSz"
   },
   "outputs": [],
   "source": [
    "# 캐글 데이터셋 다운로드 라이브러리\n",
    "import kagglehub"
   ]
  },
  {
   "cell_type": "code",
   "execution_count": 11,
   "metadata": {
    "colab": {
     "base_uri": "https://localhost:8080/"
    },
    "executionInfo": {
     "elapsed": 143792,
     "status": "ok",
     "timestamp": 1739368905302,
     "user": {
      "displayName": "이하은",
      "userId": "06607701604719915973"
     },
     "user_tz": -540
    },
    "id": "IcZQpm-PTHS2",
    "outputId": "94e36c19-117e-4d4b-ab06-c5b3c5aa5229"
   },
   "outputs": [
    {
     "name": "stdout",
     "output_type": "stream",
     "text": [
      "Warning: Looks like you're using an outdated `kagglehub` version (installed: 0.3.9), please consider upgrading to the latest version (0.3.10).\n",
      "Path to dataset files: /home/jangminoh_2/.cache/kagglehub/datasets/xhlulu/140k-real-and-fake-faces/versions/2\n"
     ]
    }
   ],
   "source": [
    "## face_data\n",
    "\n",
    "# Download latest version\n",
    "path1 = kagglehub.dataset_download(\"xhlulu/140k-real-and-fake-faces\")\n",
    "\n",
    "print(\"Path to dataset files:\", path1)"
   ]
  },
  {
   "cell_type": "code",
   "execution_count": 12,
   "metadata": {
    "colab": {
     "base_uri": "https://localhost:8080/"
    },
    "executionInfo": {
     "elapsed": 474402,
     "status": "ok",
     "timestamp": 1739369500288,
     "user": {
      "displayName": "이하은",
      "userId": "06607701604719915973"
     },
     "user_tz": -540
    },
    "id": "snRlT7_CTgZO",
    "outputId": "d9599dfb-93e0-416a-99ee-8ec3f34a5e6f"
   },
   "outputs": [
    {
     "name": "stdout",
     "output_type": "stream",
     "text": [
      "Warning: Looks like you're using an outdated `kagglehub` version (installed: 0.3.9), please consider upgrading to the latest version (0.3.10).\n",
      "Path to dataset files: /home/jangminoh_2/.cache/kagglehub/datasets/superpotato9/dalle-recognition-dataset/versions/7\n"
     ]
    }
   ],
   "source": [
    "## Dalle, midjourney\n",
    "\n",
    "path4 = kagglehub.dataset_download(\"superpotato9/dalle-recognition-dataset\")\n",
    "\n",
    "print(\"Path to dataset files:\", path4)"
   ]
  },
  {
   "cell_type": "code",
   "execution_count": 13,
   "metadata": {},
   "outputs": [
    {
     "name": "stdout",
     "output_type": "stream",
     "text": [
      "Warning: Looks like you're using an outdated `kagglehub` version (installed: 0.3.9), please consider upgrading to the latest version (0.3.10).\n",
      "Path to dataset files: /home/jangminoh_2/.cache/kagglehub/datasets/yangsangtai/tiny-genimage/versions/1\n"
     ]
    }
   ],
   "source": [
    "# Download latest version\n",
    "path = kagglehub.dataset_download(\"yangsangtai/tiny-genimage\")\n",
    "\n",
    "print(\"Path to dataset files:\", path)"
   ]
  },
  {
   "cell_type": "code",
   "execution_count": 14,
   "metadata": {},
   "outputs": [
    {
     "name": "stdout",
     "output_type": "stream",
     "text": [
      "Warning: Looks like you're using an outdated `kagglehub` version (installed: 0.3.9), please consider upgrading to the latest version (0.3.10).\n",
      "Path to dataset files: /home/jangminoh_2/.cache/kagglehub/datasets/tristanzhang32/ai-generated-images-vs-real-images/versions/2\n"
     ]
    }
   ],
   "source": [
    "# Download latest version\n",
    "path = kagglehub.dataset_download(\"tristanzhang32/ai-generated-images-vs-real-images\")\n",
    "\n",
    "print(\"Path to dataset files:\", path)"
   ]
  },
  {
   "cell_type": "markdown",
   "metadata": {
    "id": "ar4RozrRUIK0"
   },
   "source": [
    "### 데이터셋 경로 설정"
   ]
  },
  {
   "cell_type": "code",
   "execution_count": 15,
   "metadata": {
    "id": "WTYzHNy_THS7"
   },
   "outputs": [],
   "source": [
    "#face 데이터셋 경로 설정 #70,000 real & 70,000 fake\n",
    "face_train_directory = \"/home/jangminoh_2/.cache/kagglehub/datasets/xhlulu/140k-real-and-fake-faces/versions/2/real_vs_fake/real-vs-fake/train\"\n",
    "face_test_directory = \"/home/jangminoh_2/.cache/kagglehub/datasets/xhlulu/140k-real-and-fake-faces/versions/2/real_vs_fake/real-vs-fake/test\"\n",
    "\n",
    "## dalle + midjourney #17855 & Real Images: 3780\n",
    "fake_dir = \"/home/jangminoh_2/.cache/kagglehub/datasets/superpotato9/dalle-recognition-dataset/versions/7/fakeV2/fake-v2\"\n",
    "real_dir = \"/home/jangminoh_2/.cache/kagglehub/datasets/superpotato9/dalle-recognition-dataset/versions/7/real\"\n",
    "\n",
    "## gen : midjourney\n",
    "gen_mid = \"/home/jangminoh_2/.cache/kagglehub/datasets/yangsangtai/tiny-genimage/versions/1/imagenet_midjourney/train\"\n",
    "gen_sd = \"/home/jangminoh_2/.cache/kagglehub/datasets/yangsangtai/tiny-genimage/versions/1/imagenet_ai_0424_sdv5/train\"\n",
    "\n",
    "gen_mid_fake1 = \"/home/jangminoh_2/.cache/kagglehub/datasets/yangsangtai/tiny-genimage/versions/1/imagenet_ai_0424_sdv5/train/ai\"\n",
    "gen_mid_fake2 = \"/home/jangminoh_2/.cache/kagglehub/datasets/yangsangtai/tiny-genimage/versions/1/imagenet_ai_0424_sdv5/val/ai\"\n",
    "gen_mid_real= \"/home/jangminoh_2/.cache/kagglehub/datasets/yangsangtai/tiny-genimage/versions/1/imagenet_midjourney/train/nature\"\n",
    "\n",
    "# ## gen : stable diffusion\n",
    "# gen_sd_fake = \"/home/jangminoh_2/.cache/kagglehub/datasets/yangsangtai/tiny-genimage/versions/1/imagenet_ai_0424_sdv5/train/ai\"\n",
    "# gen_sd_real= \"/home/jangminoh_2/.cache/kagglehub/datasets/yangsangtai/tiny-genimage/versions/1/imagenet_ai_0424_sdv5/train/nature\"\n",
    "\n",
    "# stable diffusion, dalle, midjourney\n",
    "new_fake = \"/home/jangminoh_2/.cache/kagglehub/datasets/tristanzhang32/ai-generated-images-vs-real-images/versions/2/train/fake\"\n",
    "new_real = \"/home/jangminoh_2/.cache/kagglehub/datasets/tristanzhang32/ai-generated-images-vs-real-images/versions/2/train/real\""
   ]
  },
  {
   "cell_type": "code",
   "execution_count": 16,
   "metadata": {
    "colab": {
     "base_uri": "https://localhost:8080/"
    },
    "executionInfo": {
     "elapsed": 385,
     "status": "ok",
     "timestamp": 1739369500666,
     "user": {
      "displayName": "이하은",
      "userId": "06607701604719915973"
     },
     "user_tz": -540
    },
    "id": "J9b8kMjDbX-H",
    "outputId": "38050d33-a6a2-4187-fbaf-27d3739f09fd"
   },
   "outputs": [
    {
     "name": "stdout",
     "output_type": "stream",
     "text": [
      "Checking directory structure for: /home/jangminoh_2/.cache/kagglehub/datasets/xhlulu/140k-real-and-fake-faces/versions/2/real_vs_fake/real-vs-fake/train\n",
      "  /home/jangminoh_2/.cache/kagglehub/datasets/xhlulu/140k-real-and-fake-faces/versions/2/real_vs_fake/real-vs-fake/train/fake exists as a directory\n",
      "  /home/jangminoh_2/.cache/kagglehub/datasets/xhlulu/140k-real-and-fake-faces/versions/2/real_vs_fake/real-vs-fake/train/real exists as a directory\n",
      "\n",
      "\n",
      "Checking directory structure for: /home/jangminoh_2/.cache/kagglehub/datasets/xhlulu/140k-real-and-fake-faces/versions/2/real_vs_fake/real-vs-fake/test\n",
      "  /home/jangminoh_2/.cache/kagglehub/datasets/xhlulu/140k-real-and-fake-faces/versions/2/real_vs_fake/real-vs-fake/test/fake exists as a directory\n",
      "  /home/jangminoh_2/.cache/kagglehub/datasets/xhlulu/140k-real-and-fake-faces/versions/2/real_vs_fake/real-vs-fake/test/real exists as a directory\n",
      "\n",
      "\n",
      "Checking directory structure for: /home/jangminoh_2/.cache/kagglehub/datasets/superpotato9/dalle-recognition-dataset/versions/7/fakeV2/fake-v2\n",
      "\n",
      "\n",
      "Checking directory structure for: /home/jangminoh_2/.cache/kagglehub/datasets/superpotato9/dalle-recognition-dataset/versions/7/real\n",
      "\n",
      "\n",
      "Checking directory structure for: /home/jangminoh_2/.cache/kagglehub/datasets/yangsangtai/tiny-genimage/versions/1/imagenet_midjourney/train\n",
      "  /home/jangminoh_2/.cache/kagglehub/datasets/yangsangtai/tiny-genimage/versions/1/imagenet_midjourney/train/ai exists as a directory\n",
      "  /home/jangminoh_2/.cache/kagglehub/datasets/yangsangtai/tiny-genimage/versions/1/imagenet_midjourney/train/nature exists as a directory\n",
      "\n",
      "\n",
      "Checking directory structure for: /home/jangminoh_2/.cache/kagglehub/datasets/tristanzhang32/ai-generated-images-vs-real-images/versions/2/train/fake\n",
      "\n",
      "\n",
      "Checking directory structure for: /home/jangminoh_2/.cache/kagglehub/datasets/tristanzhang32/ai-generated-images-vs-real-images/versions/2/train/real\n",
      "\n",
      "\n"
     ]
    }
   ],
   "source": [
    "import os\n",
    "# 디렉토리 리스트로 구성\n",
    "directories = [\n",
    "    face_train_directory,\n",
    "    face_test_directory,\n",
    "    fake_dir,\n",
    "    real_dir,\n",
    "    gen_mid,\n",
    "    new_fake,\n",
    "    new_real    \n",
    "]\n",
    "\n",
    "# 각 디렉토리에서 real과 fake 폴더의 구조 출력\n",
    "for directory in directories:\n",
    "    print(f\"Checking directory structure for: {directory}\")\n",
    "\n",
    "    if os.path.exists(directory):\n",
    "        for subdir in os.listdir(directory):\n",
    "            subdir_path = os.path.join(directory, subdir)\n",
    "            if os.path.isdir(subdir_path):\n",
    "                print(f\"  {subdir_path} exists as a directory\")\n",
    "    else:\n",
    "        print(f\"  {directory} does not exist\")\n",
    "    print(\"\\n\")"
   ]
  },
  {
   "cell_type": "code",
   "execution_count": 17,
   "metadata": {},
   "outputs": [
    {
     "data": {
      "text/html": [
       "<div>\n",
       "<style scoped>\n",
       "    .dataframe tbody tr th:only-of-type {\n",
       "        vertical-align: middle;\n",
       "    }\n",
       "\n",
       "    .dataframe tbody tr th {\n",
       "        vertical-align: top;\n",
       "    }\n",
       "\n",
       "    .dataframe thead th {\n",
       "        text-align: right;\n",
       "    }\n",
       "</style>\n",
       "<table border=\"1\" class=\"dataframe\">\n",
       "  <thead>\n",
       "    <tr style=\"text-align: right;\">\n",
       "      <th></th>\n",
       "      <th>Directory</th>\n",
       "      <th>Image Count</th>\n",
       "    </tr>\n",
       "  </thead>\n",
       "  <tbody>\n",
       "    <tr>\n",
       "      <th>0</th>\n",
       "      <td>GAN_FaceData_train/fake</td>\n",
       "      <td>50000</td>\n",
       "    </tr>\n",
       "    <tr>\n",
       "      <th>1</th>\n",
       "      <td>GAN_FaceData_train/real</td>\n",
       "      <td>50000</td>\n",
       "    </tr>\n",
       "    <tr>\n",
       "      <th>2</th>\n",
       "      <td>GAN_FaceData_test/fake</td>\n",
       "      <td>10000</td>\n",
       "    </tr>\n",
       "    <tr>\n",
       "      <th>3</th>\n",
       "      <td>GAN_FaceData_test/real</td>\n",
       "      <td>10000</td>\n",
       "    </tr>\n",
       "    <tr>\n",
       "      <th>4</th>\n",
       "      <td>Midjourney&amp;Dalle/fake</td>\n",
       "      <td>17855</td>\n",
       "    </tr>\n",
       "    <tr>\n",
       "      <th>5</th>\n",
       "      <td>Midjourney&amp;Dalle/real</td>\n",
       "      <td>3780</td>\n",
       "    </tr>\n",
       "    <tr>\n",
       "      <th>6</th>\n",
       "      <td>gen_dataset/midjourney/real</td>\n",
       "      <td>2000</td>\n",
       "    </tr>\n",
       "    <tr>\n",
       "      <th>7</th>\n",
       "      <td>gen_dataset/midjourney/fake</td>\n",
       "      <td>500</td>\n",
       "    </tr>\n",
       "    <tr>\n",
       "      <th>8</th>\n",
       "      <td>gen_dataset/stable_diffusion/real</td>\n",
       "      <td>24000</td>\n",
       "    </tr>\n",
       "    <tr>\n",
       "      <th>9</th>\n",
       "      <td>gen_dataset/stable_diffusion/fake</td>\n",
       "      <td>24000</td>\n",
       "    </tr>\n",
       "  </tbody>\n",
       "</table>\n",
       "</div>"
      ],
      "text/plain": [
       "                           Directory  Image Count\n",
       "0            GAN_FaceData_train/fake        50000\n",
       "1            GAN_FaceData_train/real        50000\n",
       "2             GAN_FaceData_test/fake        10000\n",
       "3             GAN_FaceData_test/real        10000\n",
       "4              Midjourney&Dalle/fake        17855\n",
       "5              Midjourney&Dalle/real         3780\n",
       "6        gen_dataset/midjourney/real         2000\n",
       "7        gen_dataset/midjourney/fake          500\n",
       "8  gen_dataset/stable_diffusion/real        24000\n",
       "9  gen_dataset/stable_diffusion/fake        24000"
      ]
     },
     "metadata": {},
     "output_type": "display_data"
    }
   ],
   "source": [
    "import os\n",
    "import pandas as pd\n",
    "from IPython.display import display\n",
    "\n",
    "# ✅ 이미지 확장자 목록\n",
    "image_extensions = (\".jpg\", \".jpeg\", \".png\", \".bmp\", \".tiff\", \".webp\", \".gif\")\n",
    "\n",
    "# ✅ 디렉토리 매핑 (fake/real 추가)\n",
    "directories_with_labels = {\n",
    "    \"GAN_FaceData_train/fake\": f\"{face_train_directory}/fake\",\n",
    "    \"GAN_FaceData_train/real\": f\"{face_train_directory}/real\",\n",
    "    \"GAN_FaceData_test/fake\": f\"{face_test_directory}/fake\",\n",
    "    \"GAN_FaceData_test/real\": f\"{face_test_directory}/real\",\n",
    "    \"Midjourney&Dalle/fake\":fake_dir,\n",
    "    \"Midjourney&Dalle/real\":real_dir,\n",
    "    \n",
    "    ## 추가한 새로운 데이터\n",
    "    \"gen_dataset/midjourney/real\":gen_mid_real,\n",
    "    \"gen_dataset/midjourney/fake\": gen_mid_fake1,\n",
    "    \"gen_dataset/midjourney/fake\": gen_mid_fake2,\n",
    "    \"gen_dataset/stable_diffusion/real\": new_real,\n",
    "    \"gen_dataset/stable_diffusion/fake\": new_fake,        \n",
    "}\n",
    "\n",
    "# ✅ 각 디렉토리 내 이미지 개수 확인\n",
    "image_counts = {}\n",
    "\n",
    "for label, directory in directories_with_labels.items():\n",
    "    if os.path.exists(directory) and os.path.isdir(directory):\n",
    "        image_counts[label] = sum(\n",
    "            1 for f in os.listdir(directory) if f.lower().endswith(image_extensions)\n",
    "        )\n",
    "    else:\n",
    "        image_counts[label] = \"Directory not found\"\n",
    "\n",
    "# ✅ 결과 출력\n",
    "df = pd.DataFrame(list(image_counts.items()), columns=[\"Directory\", \"Image Count\"])\n",
    "\n",
    "# Jupyter Notebook에서 보기 좋게 출력\n",
    "display(df)\n"
   ]
  },
  {
   "cell_type": "markdown",
   "metadata": {
    "id": "uWr2RT0ZVAIM"
   },
   "source": [
    "### 샘플링"
   ]
  },
  {
   "cell_type": "code",
   "execution_count": 22,
   "metadata": {
    "colab": {
     "background_save": true,
     "base_uri": "https://localhost:8080/"
    },
    "id": "pKhrEY9oDNPx",
    "outputId": "fb77c030-b20a-48c6-d1a7-d37e006336c0"
   },
   "outputs": [
    {
     "name": "stdout",
     "output_type": "stream",
     "text": [
      "📊 전체 Fake 데이터 개수: 11000\n",
      "📊 전체 Real 데이터 개수: 11000\n",
      "\n",
      "📊 최종 데이터셋 크기:\n",
      "  🔹 Train - Fake: 8800, Real: 8800\n",
      "  🔹 Test - Fake: 2200, Real: 2200\n",
      "\n",
      "✅ 데이터셋 준비가 완료되었습니다!\n"
     ]
    }
   ],
   "source": [
    "import os\n",
    "import shutil\n",
    "import random\n",
    "from sklearn.model_selection import train_test_split\n",
    "\n",
    "# 저장 디렉토리 설정\n",
    "output_directory = \"data/mixed_Dataset2.1\"\n",
    "train_dir = os.path.join(output_directory, \"train\")\n",
    "test_dir = os.path.join(output_directory, \"test\")\n",
    "os.makedirs(train_dir, exist_ok=True)\n",
    "os.makedirs(test_dir, exist_ok=True)\n",
    "\n",
    "def sample_n_files(directory, n):\n",
    "    \"\"\"디렉토리에서 n개 파일을 랜덤 샘플링\"\"\"\n",
    "    if not os.path.exists(directory) or not os.path.isdir(directory):\n",
    "        print(f\"❌ {directory} 경로가 존재하지 않음!\")\n",
    "        return []\n",
    "    \n",
    "    files = os.listdir(directory)\n",
    "    if len(files) < n:\n",
    "        print(f\"⚠️ {directory}: 데이터 부족 ({len(files)}/{n}) → 모든 파일 사용\")\n",
    "        return [os.path.join(directory, f) for f in files]\n",
    "    \n",
    "    return [os.path.join(directory, f) for f in random.sample(files, n)]\n",
    "\n",
    "def copy_files(files, target_dir):\n",
    "    \"\"\"파일 복사\"\"\"\n",
    "    os.makedirs(target_dir, exist_ok=True)\n",
    "    for file in files:\n",
    "        destination = os.path.join(target_dir, os.path.basename(file))\n",
    "        try:\n",
    "            shutil.copy(file, destination)\n",
    "        except Exception as e:\n",
    "            print(f\"❌ Error copying {file}: {e}\")\n",
    "\n",
    "# 데이터셋 샘플링\n",
    "fake_files = []\n",
    "real_files = []\n",
    "\n",
    "# face 데이터셋\n",
    "fake_files.extend(sample_n_files(os.path.join(face_train_directory, \"fake\"), 500))\n",
    "real_files.extend(sample_n_files(os.path.join(face_train_directory, \"real\"), 500))\n",
    "\n",
    "# dalle + midjourney 데이터셋\n",
    "fake_files.extend(sample_n_files(fake_dir, 2500))\n",
    "real_files.extend(sample_n_files(real_dir, 1000))\n",
    "\n",
    "# gen 데이터셋: midjourney\n",
    "fake_files.extend(sample_n_files(gen_mid_fake1, 2000))\n",
    "fake_files.extend(sample_n_files(gen_mid_fake1, 500))\n",
    "real_files.extend(sample_n_files(gen_mid_real, 2000))\n",
    "\n",
    "# gen 데이터셋: stable_diffusion\n",
    "fake_files.extend(sample_n_files(new_fake, 5500))\n",
    "real_files.extend(sample_n_files(new_real, 7500))\n",
    "\n",
    "# Train-Test Split (8:2)\n",
    "print(f\"📊 전체 Fake 데이터 개수: {len(fake_files)}\")\n",
    "print(f\"📊 전체 Real 데이터 개수: {len(real_files)}\")\n",
    "\n",
    "fake_train, fake_test = train_test_split(fake_files, test_size=0.2, random_state=42)\n",
    "real_train, real_test = train_test_split(real_files, test_size=0.2, random_state=42)\n",
    "\n",
    "# 데이터 저장\n",
    "copy_files(fake_train, os.path.join(train_dir, \"fake\"))\n",
    "copy_files(real_train, os.path.join(train_dir, \"real\"))\n",
    "copy_files(fake_test, os.path.join(test_dir, \"fake\"))\n",
    "copy_files(real_test, os.path.join(test_dir, \"real\"))\n",
    "\n",
    "print(f\"\\n📊 최종 데이터셋 크기:\")\n",
    "print(f\"  🔹 Train - Fake: {len(fake_train)}, Real: {len(real_train)}\")\n",
    "print(f\"  🔹 Test - Fake: {len(fake_test)}, Real: {len(real_test)}\")\n",
    "print(\"\\n✅ 데이터셋 준비가 완료되었습니다!\")\n"
   ]
  },
  {
   "cell_type": "markdown",
   "metadata": {
    "id": "Q1RwILWwSZPz"
   },
   "source": [
    "## EfficientNetb6로 데이터셋에 대해 detection(이진분류)태스크 수행"
   ]
  },
  {
   "cell_type": "markdown",
   "metadata": {
    "id": "gjpMRwYakhBI"
   },
   "source": [
    "### 데이터셋 준비"
   ]
  },
  {
   "cell_type": "code",
   "execution_count": 5,
   "metadata": {
    "executionInfo": {
     "elapsed": 18,
     "status": "ok",
     "timestamp": 1740143009762,
     "user": {
      "displayName": "이하은",
      "userId": "06607701604719915973"
     },
     "user_tz": -540
    },
    "id": "f-kSKQgjfjbX"
   },
   "outputs": [],
   "source": [
    "train_dir = \"data/mixed_Dataset2.1/train\"\n",
    "test_dir = \"data/mixed_Dataset2.1/test\""
   ]
  },
  {
   "cell_type": "code",
   "execution_count": 6,
   "metadata": {
    "colab": {
     "base_uri": "https://localhost:8080/"
    },
    "executionInfo": {
     "elapsed": 43862,
     "status": "ok",
     "timestamp": 1740143054096,
     "user": {
      "displayName": "이하은",
      "userId": "06607701604719915973"
     },
     "user_tz": -540
    },
    "id": "MZfLpfcm3bAg",
    "outputId": "734caaf4-37b2-479a-b843-f36e4b926548"
   },
   "outputs": [
    {
     "name": "stdout",
     "output_type": "stream",
     "text": [
      "Train Fake: 8275\n",
      "Train Real: 8676\n",
      "Test Fake: 2161\n",
      "Test Real: 2193\n"
     ]
    }
   ],
   "source": [
    "import os\n",
    "\n",
    "train_fake_dir = os.path.join(train_dir, \"fake\")\n",
    "train_real_dir = os.path.join(train_dir, \"real\")\n",
    "test_fake_dir = os.path.join(test_dir, \"fake\")\n",
    "test_real_dir = os.path.join(test_dir, \"real\")\n",
    "\n",
    "# 파일 개수 세기\n",
    "train_fake_count = len(os.listdir(train_fake_dir))\n",
    "train_real_count = len(os.listdir(train_real_dir))\n",
    "test_fake_count = len(os.listdir(test_fake_dir))\n",
    "test_real_count = len(os.listdir(test_real_dir))\n",
    "\n",
    "# 출력\n",
    "print(f\"Train Fake: {train_fake_count}\")\n",
    "print(f\"Train Real: {train_real_count}\")\n",
    "print(f\"Test Fake: {test_fake_count}\")\n",
    "print(f\"Test Real: {test_real_count}\")"
   ]
  },
  {
   "cell_type": "code",
   "execution_count": 7,
   "metadata": {
    "executionInfo": {
     "elapsed": 10,
     "status": "ok",
     "timestamp": 1740143054125,
     "user": {
      "displayName": "이하은",
      "userId": "06607701604719915973"
     },
     "user_tz": -540
    },
    "id": "BMaKs4jHkaQW"
   },
   "outputs": [],
   "source": [
    "# from PIL import Image\n",
    "# import os\n",
    "\n",
    "# MAX_PIXELS = 178956970  # 허용되는 최대 픽셀 크기 (Pillow 기본값)\n",
    "# VALID_EXTENSIONS = {\".jpg\", \".jpeg\", \".png\"}\n",
    "# def remove_invalid_images(directory):\n",
    "#     for root, _, files in os.walk(directory):\n",
    "#         for file in files:\n",
    "#             file_path = os.path.join(root, file)\n",
    "#             if not any(file.lower().endswith(ext) for ext in VALID_EXTENSIONS):\n",
    "#                 continue  # 유효한 확장자가 아니면 건너뜀\n",
    "#             try:\n",
    "#                 img = Image.open(file_path)\n",
    "#                 img.verify()  # 손상 여부 확인\n",
    "#                 if img.size[0] * img.size[1] > MAX_PIXELS:\n",
    "#                     print(f\"Removing oversized image: {file_path}\")\n",
    "#                     os.remove(file_path)\n",
    "#             except (IOError, SyntaxError, Image.DecompressionBombError):\n",
    "#                 print(f\"Removing invalid image: {file_path}\")\n",
    "#                 os.remove(file_path)\n",
    "\n",
    "# remove_invalid_images(train_dir)\n",
    "# remove_invalid_images(test_dir)"
   ]
  },
  {
   "cell_type": "code",
   "execution_count": 8,
   "metadata": {},
   "outputs": [],
   "source": [
    "# import os\n",
    "# import numpy as np\n",
    "# from tensorflow.keras.preprocessing.image import load_img, img_to_array\n",
    "# from PIL import Image\n",
    "\n",
    "# def safe_load_image(image_path):\n",
    "#     \"\"\"이미지를 로드하고 손상된 경우 삭제\"\"\"\n",
    "#     try:\n",
    "#         img = Image.open(image_path)\n",
    "#         img.verify()  # 손상 여부 확인\n",
    "#         img = load_img(image_path)  # Keras 방식으로 다시 로드\n",
    "#         return img_to_array(img)  # NumPy 배열로 변환\n",
    "#     except (OSError, IOError, Image.DecompressionBombError) as e:\n",
    "#         print(f\"Invalid image removed: {image_path} ({e})\")\n",
    "#         os.remove(image_path)  # 손상된 이미지 삭제\n",
    "#         return None  # 무효 이미지\n",
    "\n",
    "# def clean_directory(directory):\n",
    "#     \"\"\"디렉토리 내 모든 이미지를 검사하고 손상된 파일 제거\"\"\"\n",
    "#     for root, _, files in os.walk(directory):\n",
    "#         for file in files:\n",
    "#             file_path = os.path.join(root, file)\n",
    "#             if safe_load_image(file_path) is None:\n",
    "#                 continue  # 손상된 이미지는 자동 삭제됨\n",
    "\n",
    "# # 이미지 폴더 정리\n",
    "# clean_directory(train_dir)\n",
    "# clean_directory(test_dir)\n"
   ]
  },
  {
   "cell_type": "markdown",
   "metadata": {},
   "source": [
    "### 학습 시작"
   ]
  },
  {
   "cell_type": "code",
   "execution_count": 9,
   "metadata": {
    "executionInfo": {
     "elapsed": 50,
     "status": "ok",
     "timestamp": 1740144791035,
     "user": {
      "displayName": "이하은",
      "userId": "06607701604719915973"
     },
     "user_tz": -540
    },
    "id": "qatkA2kUTHS-"
   },
   "outputs": [],
   "source": [
    "#필수 라이브러리 임포트\n",
    "import tensorflow as tf\n",
    "from tensorflow.keras import layers, models,regularizers\n",
    "from tensorflow.keras.applications import EfficientNetB6\n",
    "from tensorflow.keras.optimizers import Adam\n",
    "from tensorflow.keras.losses import BinaryCrossentropy\n",
    "import matplotlib.pyplot as plt\n",
    "from tensorflow.keras.callbacks import EarlyStopping\n",
    "from tensorflow.keras.applications.efficientnet import preprocess_input\n",
    "from tensorflow.keras.preprocessing.image import img_to_array, load_img"
   ]
  },
  {
   "cell_type": "code",
   "execution_count": 10,
   "metadata": {
    "executionInfo": {
     "elapsed": 21,
     "status": "aborted",
     "timestamp": 1740145208328,
     "user": {
      "displayName": "이하은",
      "userId": "06607701604719915973"
     },
     "user_tz": -540
    },
    "id": "HzID_wGO6tHy"
   },
   "outputs": [],
   "source": [
    "# CONFIGURATION 설정\n",
    "CONFIGURATION = {\n",
    "    \"BATCH_SIZE\": 4,\n",
    "    \"IM_SIZE\": 528,\n",
    "    \"LEARNING_RATE\": 5e-4,\n",
    "    \"N_EPOCHS\": 50,\n",
    "    \"DROPOUT_RATE\": 0.2, #일반적으로 0.2~0.5\n",
    "    \"REGULARIZATION_RATE\": 0.005,\n",
    "    \"N_DENSE_1\": 1024,\n",
    "    \"NUM_CLASSES\": 2,\n",
    "    \"CLASS_NAMES\": ['fake', 'real']\n",
    "}"
   ]
  },
  {
   "cell_type": "code",
   "execution_count": 11,
   "metadata": {},
   "outputs": [],
   "source": [
    "## Layer 개수\n",
    "n = 10 #20~25"
   ]
  },
  {
   "cell_type": "code",
   "execution_count": 12,
   "metadata": {
    "executionInfo": {
     "elapsed": 4,
     "status": "ok",
     "timestamp": 1740144818459,
     "user": {
      "displayName": "이하은",
      "userId": "06607701604719915973"
     },
     "user_tz": -540
    },
    "id": "ueNtbe-Xf9Hw"
   },
   "outputs": [],
   "source": [
    "#EfficientNetB0,B6 모델 구성\n",
    "input_shape = (CONFIGURATION[\"IM_SIZE\"], CONFIGURATION[\"IM_SIZE\"], 3)\n",
    "\n",
    "# EfficientNetB6 모델 불러오기\n",
    "base_model = tf.keras.applications.EfficientNetB6(\n",
    "    weights='imagenet',\n",
    "    include_top=False,\n",
    "    input_shape=input_shape\n",
    ")\n",
    "\n",
    "# EfficientNet의 마지막 n개 레이어만 학습 가능하도록 설정\n",
    "for layer in base_model.layers[:-n]:  # 마지막 N개 레이어만 학습 가능\n",
    "    layer.trainable = False\n",
    "for layer in base_model.layers[-n:]:\n",
    "    layer.trainable = True\n",
    "    \n",
    "#Sequential 모델 정의 및 추가 계층 설정\n",
    "model = models.Sequential([\n",
    "    base_model,\n",
    "    layers.GlobalAveragePooling2D(),\n",
    "    layers.Dropout(CONFIGURATION[\"DROPOUT_RATE\"]),\n",
    "    layers.Dense(CONFIGURATION[\"N_DENSE_1\"], activation=\"relu\",\n",
    "                 kernel_regularizer=regularizers.l2(CONFIGURATION[\"REGULARIZATION_RATE\"])),\n",
    "    layers.Dropout(CONFIGURATION[\"DROPOUT_RATE\"]),\n",
    "    layers.Dense(1, activation=\"sigmoid\")  #이진 분류\n",
    "])\n",
    "\n",
    "\n",
    "#모델 컴파일 (binary_crossentropy 사용)\n",
    "loss_function = 'binary_crossentropy'\n",
    "model.compile(optimizer=Adam(learning_rate=CONFIGURATION[\"LEARNING_RATE\"]),\n",
    "              loss=loss_function,\n",
    "              metrics=['accuracy'])\n"
   ]
  },
  {
   "cell_type": "code",
   "execution_count": 13,
   "metadata": {},
   "outputs": [
    {
     "name": "stdout",
     "output_type": "stream",
     "text": [
      "Found 16951 images belonging to 2 classes.\n",
      "Found 4354 images belonging to 2 classes.\n"
     ]
    }
   ],
   "source": [
    "\n",
    "#데이터 증강을 위한 ImageDataGenerator 사용\n",
    "train_datagen = tf.keras.preprocessing.image.ImageDataGenerator(\n",
    "    preprocessing_function=tf.keras.applications.efficientnet.preprocess_input,  # EfficientNet용 전처리\n",
    "    # width_shift_range=0.2,\n",
    "    # height_shift_range=0.2,\n",
    "    # shear_range=0.2,\n",
    "    # zoom_range=0.1,\n",
    "    # fill_mode='reflect',\n",
    "    # rotation_range=30\n",
    ")\n",
    "\n",
    "val_datagen = tf.keras.preprocessing.image.ImageDataGenerator(\n",
    "    preprocessing_function=tf.keras.applications.efficientnet.preprocess_input  # EfficientNet용 전처리\n",
    ")\n",
    "\n",
    "#학습 데이터 로드 및 전처리\n",
    "#train_dataset\n",
    "train_dataset = train_datagen.flow_from_directory(\n",
    "    train_dir,  # 학습 데이터가 있는 디렉토리\n",
    "    class_mode='binary',  # 이진 분류 (fake vs real)\n",
    "    color_mode='rgb',\n",
    "    batch_size=CONFIGURATION[\"BATCH_SIZE\"],\n",
    "    target_size=(CONFIGURATION[\"IM_SIZE\"], CONFIGURATION[\"IM_SIZE\"]),\n",
    "    shuffle=True\n",
    ")\n",
    "\n",
    "#val_dataset\n",
    "val_dataset = val_datagen.flow_from_directory(\n",
    "    test_dir,  # 검증 데이터가 있는 디렉토리\n",
    "    class_mode='binary',  # 이진 분류 (fake vs real)\n",
    "    color_mode='rgb',\n",
    "    batch_size=1,  # 검증에서는 배치 크기를 1로 설정\n",
    "    target_size=(CONFIGURATION[\"IM_SIZE\"], CONFIGURATION[\"IM_SIZE\"]),\n",
    "    shuffle=False,  # 검증 데이터셋에서는 shuffle=False\n",
    "    seed=99  # 동일한 검증 데이터를 항상 사용할 수 있도록 시드 설정\n",
    ")"
   ]
  },
  {
   "cell_type": "markdown",
   "metadata": {
    "id": "ZeFaVCyhSop7"
   },
   "source": [
    "### 모델 저장"
   ]
  },
  {
   "cell_type": "code",
   "execution_count": null,
   "metadata": {
    "colab": {
     "base_uri": "https://localhost:8080/",
     "height": 408
    },
    "executionInfo": {
     "elapsed": 256359,
     "status": "error",
     "timestamp": 1740145208323,
     "user": {
      "displayName": "이하은",
      "userId": "06607701604719915973"
     },
     "user_tz": -540
    },
    "id": "OQqzo7zrvxQi",
    "outputId": "5247b4db-019d-467a-cd45-01554e6bf7d2"
   },
   "outputs": [
    {
     "name": "stderr",
     "output_type": "stream",
     "text": [
      "/home/jangminoh_2/miniconda3/envs/ml-ops/lib/python3.12/site-packages/keras/src/trainers/data_adapters/py_dataset_adapter.py:121: UserWarning: Your `PyDataset` class should call `super().__init__(**kwargs)` in its constructor. `**kwargs` can include `workers`, `use_multiprocessing`, `max_queue_size`. Do not pass these arguments to `fit()`, as they will be ignored.\n",
      "  self._warn_if_super_not_called()\n"
     ]
    },
    {
     "name": "stdout",
     "output_type": "stream",
     "text": [
      "Epoch 1/50\n"
     ]
    },
    {
     "name": "stderr",
     "output_type": "stream",
     "text": [
      "WARNING: All log messages before absl::InitializeLog() is called are written to STDERR\n",
      "I0000 00:00:1741758051.612370 3566543 service.cc:146] XLA service 0x7b4718003b50 initialized for platform CUDA (this does not guarantee that XLA will be used). Devices:\n",
      "I0000 00:00:1741758051.612433 3566543 service.cc:154]   StreamExecutor device (0): NVIDIA RTX A5000, Compute Capability 8.6\n",
      "2025-03-12 14:40:52.308253: I tensorflow/compiler/mlir/tensorflow/utils/dump_mlir_util.cc:268] disabling MLIR crash reproducer, set env var `MLIR_CRASH_REPRODUCER_DIRECTORY` to enable.\n",
      "2025-03-12 14:40:55.325915: I external/local_xla/xla/stream_executor/cuda/cuda_dnn.cc:531] Loaded cuDNN version 8907\n"
     ]
    },
    {
     "name": "stdout",
     "output_type": "stream",
     "text": [
      "\u001b[1m   2/4238\u001b[0m \u001b[37m━━━━━━━━━━━━━━━━━━━━\u001b[0m \u001b[1m4:55\u001b[0m 70ms/step - accuracy: 0.3125 - loss: 7.8201   "
     ]
    },
    {
     "name": "stderr",
     "output_type": "stream",
     "text": [
      "I0000 00:00:1741758079.889833 3566543 device_compiler.h:188] Compiled cluster using XLA!  This line is logged at most once for the lifetime of the process.\n"
     ]
    },
    {
     "name": "stdout",
     "output_type": "stream",
     "text": [
      "\u001b[1m1236/4238\u001b[0m \u001b[32m━━━━━\u001b[0m\u001b[37m━━━━━━━━━━━━━━━\u001b[0m \u001b[1m7:31\u001b[0m 150ms/step - accuracy: 0.6762 - loss: 2.4427"
     ]
    },
    {
     "name": "stderr",
     "output_type": "stream",
     "text": [
      "/home/jangminoh_2/miniconda3/envs/ml-ops/lib/python3.12/site-packages/PIL/Image.py:1045: UserWarning: Palette images with Transparency expressed in bytes should be converted to RGBA images\n",
      "  warnings.warn(\n"
     ]
    },
    {
     "name": "stdout",
     "output_type": "stream",
     "text": [
      "\u001b[1m1860/4238\u001b[0m \u001b[32m━━━━━━━━\u001b[0m\u001b[37m━━━━━━━━━━━━\u001b[0m \u001b[1m5:35\u001b[0m 141ms/step - accuracy: 0.6904 - loss: 1.9995"
     ]
    },
    {
     "name": "stderr",
     "output_type": "stream",
     "text": [
      "/home/jangminoh_2/miniconda3/envs/ml-ops/lib/python3.12/site-packages/PIL/Image.py:3402: DecompressionBombWarning: Image size (98806617 pixels) exceeds limit of 89478485 pixels, could be decompression bomb DOS attack.\n",
      "  warnings.warn(\n"
     ]
    },
    {
     "name": "stdout",
     "output_type": "stream",
     "text": [
      "\u001b[1m2187/4238\u001b[0m \u001b[32m━━━━━━━━━━\u001b[0m\u001b[37m━━━━━━━━━━\u001b[0m \u001b[1m4:48\u001b[0m 140ms/step - accuracy: 0.6959 - loss: 1.8487"
     ]
    },
    {
     "name": "stderr",
     "output_type": "stream",
     "text": [
      "/home/jangminoh_2/miniconda3/envs/ml-ops/lib/python3.12/site-packages/PIL/Image.py:3402: DecompressionBombWarning: Image size (99991727 pixels) exceeds limit of 89478485 pixels, could be decompression bomb DOS attack.\n",
      "  warnings.warn(\n"
     ]
    },
    {
     "name": "stdout",
     "output_type": "stream",
     "text": [
      "\u001b[1m2454/4238\u001b[0m \u001b[32m━━━━━━━━━━━\u001b[0m\u001b[37m━━━━━━━━━\u001b[0m \u001b[1m4:10\u001b[0m 140ms/step - accuracy: 0.7000 - loss: 1.7488"
     ]
    },
    {
     "name": "stderr",
     "output_type": "stream",
     "text": [
      "/home/jangminoh_2/miniconda3/envs/ml-ops/lib/python3.12/site-packages/PIL/Image.py:3402: DecompressionBombWarning: Image size (107184040 pixels) exceeds limit of 89478485 pixels, could be decompression bomb DOS attack.\n",
      "  warnings.warn(\n"
     ]
    },
    {
     "name": "stdout",
     "output_type": "stream",
     "text": [
      "\u001b[1m4238/4238\u001b[0m \u001b[32m━━━━━━━━━━━━━━━━━━━━\u001b[0m\u001b[37m\u001b[0m \u001b[1m0s\u001b[0m 134ms/step - accuracy: 0.7195 - loss: 1.3564"
     ]
    },
    {
     "name": "stderr",
     "output_type": "stream",
     "text": [
      "2025-03-12 14:50:52.919562: I external/local_xla/xla/stream_executor/cuda/cuda_asm_compiler.cc:393] ptxas warning : Registers are spilled to local memory in function 'gemm_fusion_dot_2', 36 bytes spill stores, 36 bytes spill loads\n",
      "\n"
     ]
    }
   ],
   "source": [
    "#모델 컴파일\n",
    "model.compile(optimizer=Adam(learning_rate=CONFIGURATION[\"LEARNING_RATE\"]),\n",
    "              loss='binary_crossentropy',  #이진 분류에 적합한 손실 함수\n",
    "              metrics=['accuracy'])\n",
    "#조기멈춤 도입\n",
    "early_stopping = EarlyStopping(monitor='val_loss', #accuracy #val_loss\n",
    "                               patience=5,           #N번의 에폭 동안 개선이 없으면 중단\n",
    "                               restore_best_weights=True)  #중단된 지점에서 최적의 가중치로 복원\n",
    "\n",
    "#모델 학습\n",
    "history = model.fit(\n",
    "    train_dataset,\n",
    "    validation_data=val_dataset,\n",
    "    epochs=CONFIGURATION[\"N_EPOCHS\"],\n",
    "    verbose=1,\n",
    "    callbacks=[early_stopping]  # EarlyStopping 콜백 추가\n",
    ")\n",
    "\n",
    "#학습 과정 시각화\n",
    "plt.plot(history.history['loss'], label='train_loss')\n",
    "plt.plot(history.history['val_loss'], label='val_loss')\n",
    "plt.title('Model loss')\n",
    "plt.xlabel('Epoch')\n",
    "plt.ylabel('Loss')\n",
    "plt.legend(['Train Loss', 'Validation Loss'])\n",
    "plt.show()"
   ]
  },
  {
   "cell_type": "code",
   "execution_count": null,
   "metadata": {
    "colab": {
     "base_uri": "https://localhost:8080/"
    },
    "executionInfo": {
     "elapsed": 624,
     "status": "ok",
     "timestamp": 1739774930932,
     "user": {
      "displayName": "이하은",
      "userId": "06607701604719915973"
     },
     "user_tz": -540
    },
    "id": "rRWHSAGE_Jmf",
    "outputId": "676b86eb-6b11-4dc3-9bcb-6a6ac8e8df2f"
   },
   "outputs": [
    {
     "ename": "NameError",
     "evalue": "name 'model' is not defined",
     "output_type": "error",
     "traceback": [
      "\u001b[0;31m---------------------------------------------------------------------------\u001b[0m",
      "\u001b[0;31mNameError\u001b[0m                                 Traceback (most recent call last)",
      "Cell \u001b[0;32mIn[3], line 2\u001b[0m\n\u001b[1;32m      1\u001b[0m \u001b[38;5;66;03m#모델 저장\u001b[39;00m\n\u001b[0;32m----> 2\u001b[0m \u001b[43mmodel\u001b[49m\u001b[38;5;241m.\u001b[39msave(\u001b[38;5;124m\"\u001b[39m\u001b[38;5;124mmodel/model_v5.h5\u001b[39m\u001b[38;5;124m\"\u001b[39m)\n\u001b[1;32m      3\u001b[0m \u001b[38;5;66;03m#model.save(\"model/model_v3.h5\", save_format='h5', include_optimizer=True)\u001b[39;00m\n",
      "\u001b[0;31mNameError\u001b[0m: name 'model' is not defined"
     ]
    }
   ],
   "source": [
    "#모델 저장\n",
    "model.save(\"model/model_v1.h5\")\n",
    "#model.save(\"model/model_v3.h5\", save_format='h5', include_optimizer=True)"
   ]
  },
  {
   "cell_type": "markdown",
   "metadata": {},
   "source": [
    "- 모델 로드"
   ]
  },
  {
   "cell_type": "code",
   "execution_count": 22,
   "metadata": {},
   "outputs": [
    {
     "name": "stderr",
     "output_type": "stream",
     "text": [
      "WARNING:absl:Compiled the loaded model, but the compiled metrics have yet to be built. `model.compile_metrics` will be empty until you train or evaluate the model.\n"
     ]
    }
   ],
   "source": [
    "# 모델 로드\n",
    "from tensorflow.keras.models import load_model\n",
    "\n",
    "model = load_model(\"model/model_v6.h5\")"
   ]
  },
  {
   "cell_type": "markdown",
   "metadata": {},
   "source": [
    "### 모델 평가"
   ]
  },
  {
   "cell_type": "code",
   "execution_count": null,
   "metadata": {
    "colab": {
     "background_save": true,
     "base_uri": "https://localhost:8080/"
    },
    "id": "IA_V-jIQzyVu",
    "outputId": "5b442490-6618-4743-99c0-5b85328bf2c7"
   },
   "outputs": [
    {
     "name": "stdout",
     "output_type": "stream",
     "text": [
      "\u001b[1m 531/2588\u001b[0m \u001b[32m━━━━\u001b[0m\u001b[37m━━━━━━━━━━━━━━━━\u001b[0m \u001b[1m43s\u001b[0m 21ms/step - accuracy: 0.7585 - loss: 0.7021"
     ]
    },
    {
     "name": "stderr",
     "output_type": "stream",
     "text": [
      "/home/jangminoh_2/miniconda3/envs/ml-ops/lib/python3.12/site-packages/PIL/Image.py:1045: UserWarning: Palette images with Transparency expressed in bytes should be converted to RGBA images\n",
      "  warnings.warn(\n"
     ]
    },
    {
     "name": "stdout",
     "output_type": "stream",
     "text": [
      "\u001b[1m2588/2588\u001b[0m \u001b[32m━━━━━━━━━━━━━━━━━━━━\u001b[0m\u001b[37m\u001b[0m \u001b[1m78s\u001b[0m 30ms/step - accuracy: 0.7968 - loss: 0.5655\n",
      "Validation Accuracy: 84.58%\n",
      "[[0.00539185]]\n",
      "[[0.12102728]]\n",
      "[[0.0217219]]\n",
      "[[0.00372737]]\n",
      "[[0.71529025]]\n",
      "[[0.39277798]]\n",
      "[[0.38754082]]\n",
      "[[0.22826412]]\n",
      "[[0.3067649]]\n",
      "[[0.9346255]]\n",
      "[[0.01093449]]\n",
      "[[0.7362338]]\n",
      "[[0.37514657]]\n",
      "[[0.01825056]]\n",
      "[[0.00520331]]\n",
      "[[0.677478]]\n",
      "[[0.00392907]]\n",
      "[[0.81534463]]\n",
      "[[0.28928807]]\n",
      "[[0.00314535]]\n",
      "[[0.01120607]]\n",
      "[[0.26860255]]\n",
      "[[0.9923873]]\n",
      "[[0.00346284]]\n",
      "[[0.18378311]]\n",
      "[[0.07710338]]\n",
      "[[0.01773727]]\n",
      "[[0.00012273]]\n",
      "[[0.14929755]]\n",
      "[[0.6142427]]\n",
      "[[0.00497112]]\n",
      "[[0.16701469]]\n",
      "[[0.00073754]]\n",
      "[[6.9349684e-05]]\n",
      "[[0.18975028]]\n",
      "[[0.08196437]]\n",
      "[[0.99741626]]\n",
      "[[0.9364809]]\n",
      "[[0.33852312]]\n",
      "[[0.66593087]]\n",
      "[[0.47232828]]\n",
      "[[0.08595224]]\n",
      "[[0.7329911]]\n",
      "[[0.00036234]]\n",
      "[[0.01218746]]\n",
      "[[0.99681205]]\n",
      "[[0.8099566]]\n",
      "[[0.12987873]]\n",
      "[[0.8438174]]\n",
      "[[0.54247546]]\n",
      "[[0.01241445]]\n",
      "[[0.9061066]]\n",
      "[[0.00125016]]\n",
      "[[0.20036022]]\n",
      "[[0.00288707]]\n",
      "[[0.9692583]]\n",
      "[[0.3717037]]\n",
      "[[0.00135511]]\n",
      "[[0.70180804]]\n",
      "[[0.00039652]]\n",
      "[[0.04793315]]\n",
      "[[0.00369547]]\n",
      "[[0.36241916]]\n",
      "[[0.01407417]]\n",
      "[[0.0007967]]\n",
      "[[0.3425645]]\n",
      "[[0.04700388]]\n",
      "[[0.10563931]]\n",
      "[[0.00132611]]\n",
      "[[0.02192535]]\n",
      "[[0.25521407]]\n",
      "[[0.83340186]]\n",
      "[[0.38472265]]\n",
      "[[0.01627817]]\n",
      "[[0.04672801]]\n",
      "[[0.06260743]]\n",
      "[[0.18683907]]\n",
      "[[0.03293835]]\n",
      "[[0.00516433]]\n",
      "[[0.0934274]]\n",
      "[[0.12720236]]\n",
      "[[0.00849507]]\n",
      "[[0.8043591]]\n",
      "[[0.0572566]]\n",
      "[[0.00351884]]\n",
      "[[0.4470671]]\n",
      "[[0.44245768]]\n",
      "[[0.03668807]]\n",
      "[[0.9809765]]\n",
      "[[0.01724486]]\n",
      "[[0.89160615]]\n",
      "[[0.9985863]]\n",
      "[[0.00263142]]\n",
      "[[0.89862627]]\n",
      "[[0.15124968]]\n",
      "[[0.9911383]]\n",
      "[[0.66167444]]\n",
      "[[0.01198747]]\n",
      "[[0.07944413]]\n",
      "[[0.04073923]]\n",
      "[[0.01100075]]\n",
      "[[0.05754941]]\n",
      "[[0.04054577]]\n",
      "[[0.00691682]]\n",
      "[[0.8384]]\n",
      "[[0.04204275]]\n",
      "[[0.31510186]]\n",
      "[[0.01162269]]\n",
      "[[0.12414511]]\n",
      "[[0.9897536]]\n",
      "[[0.0720882]]\n",
      "[[0.0231627]]\n",
      "[[0.2188821]]\n",
      "[[0.21556348]]\n",
      "[[0.00838291]]\n",
      "[[0.4048499]]\n",
      "[[0.04908827]]\n",
      "[[0.0049242]]\n",
      "[[0.44167444]]\n",
      "[[0.00057741]]\n",
      "[[0.00046008]]\n",
      "[[0.1505621]]\n",
      "[[0.00957869]]\n",
      "[[0.98608184]]\n",
      "[[0.4614017]]\n",
      "[[0.6600515]]\n",
      "[[0.5810098]]\n",
      "[[0.02292191]]\n",
      "[[0.05592626]]\n",
      "[[0.20996033]]\n",
      "[[0.88212156]]\n",
      "[[0.0739651]]\n",
      "[[0.6184947]]\n",
      "[[0.05604429]]\n",
      "[[0.90139955]]\n",
      "[[0.20758523]]\n",
      "[[0.00811089]]\n",
      "[[0.00777714]]\n",
      "[[0.03183364]]\n",
      "[[0.43001804]]\n",
      "[[0.9708289]]\n",
      "[[0.0354443]]\n",
      "[[0.00025657]]\n",
      "[[0.00026277]]\n",
      "[[0.00971723]]\n",
      "[[0.06673309]]\n",
      "[[0.61915034]]\n",
      "[[0.5902881]]\n",
      "[[0.94737023]]\n",
      "[[0.12955895]]\n",
      "[[0.8623068]]\n",
      "[[0.00239099]]\n",
      "[[0.00103475]]\n",
      "[[0.00121815]]\n",
      "[[0.5121899]]\n",
      "[[0.54649085]]\n",
      "[[0.13194312]]\n",
      "[[0.01693119]]\n",
      "[[0.7504209]]\n",
      "[[0.00575813]]\n",
      "[[0.5723443]]\n",
      "[[0.38310465]]\n",
      "[[0.27581885]]\n",
      "[[0.03557764]]\n",
      "[[1.0658436e-05]]\n",
      "[[0.99190724]]\n",
      "[[0.00346097]]\n",
      "[[0.5776264]]\n",
      "[[0.44941497]]\n",
      "[[0.11032871]]\n",
      "[[0.23956938]]\n",
      "[[0.00024194]]\n",
      "[[0.2700904]]\n",
      "[[0.88619983]]\n",
      "[[0.00619974]]\n",
      "[[0.01888645]]\n",
      "[[0.12642011]]\n",
      "[[0.00083614]]\n",
      "[[0.06954087]]\n",
      "[[0.08795197]]\n",
      "[[0.01295948]]\n",
      "[[0.8697173]]\n",
      "[[0.833406]]\n",
      "[[0.01814121]]\n",
      "[[0.01906259]]\n",
      "[[0.18679705]]\n",
      "[[0.7898962]]\n",
      "[[0.17924096]]\n",
      "[[0.2738691]]\n",
      "[[0.03997608]]\n",
      "[[0.7273311]]\n",
      "[[0.0025995]]\n",
      "[[0.23739567]]\n",
      "[[0.94357234]]\n",
      "[[0.02564988]]\n",
      "[[0.18536575]]\n",
      "[[0.03499717]]\n",
      "[[0.9435756]]\n",
      "[[0.07972257]]\n",
      "[[0.06312242]]\n",
      "[[0.00515053]]\n",
      "[[0.7550062]]\n",
      "[[0.00219287]]\n",
      "[[0.00701296]]\n",
      "[[0.8607401]]\n",
      "[[0.01817106]]\n",
      "[[0.7313183]]\n",
      "[[0.11079702]]\n",
      "[[0.13415168]]\n",
      "[[0.33116955]]\n",
      "[[0.97005713]]\n",
      "[[0.7752631]]\n",
      "[[0.03639492]]\n",
      "[[0.17685199]]\n",
      "[[0.16470227]]\n",
      "[[0.07001832]]\n",
      "[[0.4062466]]\n",
      "[[0.32691893]]\n",
      "[[7.883781e-05]]\n",
      "[[0.00082741]]\n",
      "[[0.69240016]]\n",
      "[[0.6102154]]\n",
      "[[0.02101937]]\n",
      "[[0.00043455]]\n",
      "[[0.00015662]]\n",
      "[[0.55004555]]\n",
      "[[0.05302752]]\n",
      "[[0.05737981]]\n",
      "[[0.7039941]]\n",
      "[[0.30249152]]\n",
      "[[0.16743399]]\n",
      "[[0.01629747]]\n",
      "[[0.00852888]]\n",
      "[[0.71462005]]\n",
      "[[0.0315828]]\n",
      "[[0.15028681]]\n",
      "[[0.32363528]]\n",
      "[[0.0258873]]\n",
      "[[0.0553645]]\n",
      "[[0.02008695]]\n",
      "[[0.02202073]]\n",
      "[[0.02550272]]\n",
      "[[0.03261525]]\n",
      "[[0.01017882]]\n",
      "[[0.15805246]]\n",
      "[[0.00025082]]\n",
      "[[0.00329298]]\n",
      "[[0.03462565]]\n",
      "[[0.00898743]]\n",
      "[[0.7724961]]\n",
      "[[0.2521297]]\n",
      "[[0.37775692]]\n",
      "[[0.00341056]]\n",
      "[[0.01725721]]\n",
      "[[0.02505954]]\n",
      "[[0.5022788]]\n",
      "[[0.42534056]]\n",
      "[[0.44068304]]\n",
      "[[1.2515895e-06]]\n",
      "[[0.21564141]]\n",
      "[[0.46134365]]\n",
      "[[0.03358864]]\n",
      "[[0.0278653]]\n",
      "[[0.06297393]]\n",
      "[[0.15447947]]\n",
      "[[0.01160747]]\n",
      "[[0.00150339]]\n",
      "[[0.5981262]]\n",
      "[[0.02001146]]\n",
      "[[0.3953454]]\n",
      "[[0.00713163]]\n",
      "[[0.54049927]]\n",
      "[[0.00122856]]\n",
      "[[0.22493942]]\n",
      "[[0.00435806]]\n",
      "[[0.1856399]]\n",
      "[[0.00070917]]\n",
      "[[0.00937247]]\n",
      "[[0.05227461]]\n",
      "[[0.15262555]]\n",
      "[[0.1857948]]\n",
      "[[0.25683922]]\n",
      "[[0.4275079]]\n",
      "[[0.370588]]\n",
      "[[0.06614694]]\n",
      "[[0.6820955]]\n",
      "[[0.01873797]]\n",
      "[[0.02310499]]\n",
      "[[0.05139187]]\n",
      "[[0.02249893]]\n",
      "[[0.9293704]]\n",
      "[[0.4382599]]\n",
      "[[0.03856627]]\n",
      "[[0.9915734]]\n",
      "[[0.6679868]]\n",
      "[[0.00167149]]\n",
      "[[0.85112256]]\n",
      "[[0.34851277]]\n",
      "[[0.00936365]]\n",
      "[[0.00219859]]\n",
      "[[0.02157595]]\n",
      "[[0.9951344]]\n",
      "[[0.9940508]]\n",
      "[[0.19561036]]\n",
      "[[0.0291143]]\n",
      "[[0.00913261]]\n",
      "[[0.22479907]]\n",
      "[[0.00861381]]\n",
      "[[0.02287654]]\n",
      "[[0.2748677]]\n",
      "[[0.08182206]]\n",
      "[[0.88664746]]\n",
      "[[0.7323429]]\n",
      "[[0.43564874]]\n",
      "[[0.3838502]]\n",
      "[[0.00539687]]\n",
      "[[0.00040289]]\n",
      "[[0.02385917]]\n",
      "[[0.13802432]]\n",
      "[[0.00119451]]\n",
      "[[0.15159698]]\n",
      "[[0.64698863]]\n",
      "[[0.5611505]]\n",
      "[[0.4163883]]\n",
      "[[0.31282648]]\n",
      "[[0.00265682]]\n",
      "[[0.0055884]]\n",
      "[[0.4624477]]\n",
      "[[0.9524725]]\n",
      "[[0.31276527]]\n",
      "[[0.0377022]]\n",
      "[[0.9497729]]\n",
      "[[0.01534642]]\n",
      "[[5.2229505e-05]]\n",
      "[[0.07342244]]\n",
      "[[0.21056046]]\n",
      "[[0.5053307]]\n",
      "[[0.00039544]]\n",
      "[[0.18031052]]\n",
      "[[0.10429426]]\n",
      "[[0.00193519]]\n",
      "[[0.11727173]]\n",
      "[[0.19407736]]\n",
      "[[0.35153005]]\n",
      "[[0.7028597]]\n",
      "[[0.01360179]]\n",
      "[[0.03551226]]\n",
      "[[0.00407397]]\n",
      "[[0.00114723]]\n",
      "[[0.09077761]]\n",
      "[[0.05664454]]\n",
      "[[0.0040533]]\n",
      "[[0.00027734]]\n",
      "[[0.0064522]]\n",
      "[[0.00217029]]\n",
      "[[0.00088999]]\n",
      "[[0.00037816]]\n",
      "[[0.00608264]]\n",
      "[[0.8086476]]\n",
      "[[0.04132915]]\n",
      "[[0.72834736]]\n",
      "[[0.78690034]]\n",
      "[[0.00689514]]\n",
      "[[0.86133844]]\n",
      "[[0.06712677]]\n",
      "[[0.9287673]]\n",
      "[[0.0499796]]\n",
      "[[0.47959843]]\n",
      "[[0.0004953]]\n"
     ]
    }
   ],
   "source": [
    "import numpy as np\n",
    "from sklearn.metrics import confusion_matrix\n",
    "import seaborn as sns\n",
    "\n",
    "#모델 평가: validation dataset에 대한 정확도 계산\n",
    "val_loss, val_accuracy = model.evaluate(val_dataset)\n",
    "print(f\"Validation Accuracy: {val_accuracy * 100:.2f}%\")\n",
    "\n",
    "\n",
    "#예측 및 실제 레이블을 추출하여 Confusion Matrix 계산\n",
    "y_true = []\n",
    "y_pred = []\n",
    "\n",
    "#validation dataset에 대해 예측 수행\n",
    "for images, labels in val_dataset:\n",
    "    predictions = model.predict(images, verbose=0)#로그 출력 생략verbose=0\n",
    "    print(predictions)\n",
    "    y_true.extend(labels)  #실제 레이블\n",
    "    y_pred.extend(np.round(predictions).astype(int))  #예측 레이블 (0 또는 1로 변환)\n",
    "\n",
    "# #Confusion Matrix 계산\n",
    "# cm = confusion_matrix(y_true, y_pred)\n",
    "\n",
    "# #Confusion Matrix 시각화\n",
    "# plt.figure(figsize=(6, 6))\n",
    "# sns.heatmap(cm, annot=True, fmt='d', cmap='Blues', xticklabels=CONFIGURATION[\"CLASS_NAMES\"], yticklabels=CONFIGURATION[\"CLASS_NAMES\"])\n",
    "# plt.xlabel('Predicted')\n",
    "# plt.ylabel('True')\n",
    "# plt.title('Confusion Matrix')\n",
    "# plt.show()\n",
    "\n",
    "# #Confusion Matrix 출력\n",
    "# print(\"Confusion Matrix:\")\n",
    "# print(cm)"
   ]
  },
  {
   "cell_type": "markdown",
   "metadata": {},
   "source": [
    "## 자체 데이터셋에 대하여 테스트"
   ]
  },
  {
   "cell_type": "markdown",
   "metadata": {},
   "source": [
    "### 데이터셋 준비"
   ]
  },
  {
   "cell_type": "code",
   "execution_count": 20,
   "metadata": {},
   "outputs": [],
   "source": [
    "# from PIL import Image\n",
    "# import os\n",
    "\n",
    "# MAX_PIXELS = 178956970  # 허용되는 최대 픽셀 크기 (Pillow 기본값)\n",
    "# VALID_EXTENSIONS = {\".jpg\", \".jpeg\", \".png\"}\n",
    "# def remove_invalid_images(directory):\n",
    "#     for root, _, files in os.walk(directory):\n",
    "#         for file in files:\n",
    "#             file_path = os.path.join(root, file)\n",
    "#             if not any(file.lower().endswith(ext) for ext in VALID_EXTENSIONS):\n",
    "#                 continue  # 유효한 확장자가 아니면 건너뜀\n",
    "#             try:\n",
    "#                 img = Image.open(file_path)\n",
    "#                 img.verify()  # 손상 여부 확인\n",
    "#                 if img.size[0] * img.size[1] > MAX_PIXELS:\n",
    "#                     print(f\"Removing oversized image: {file_path}\")\n",
    "#                     os.remove(file_path)\n",
    "#             except (IOError, SyntaxError, Image.DecompressionBombError):\n",
    "#                 print(f\"Removing invalid image: {file_path}\")\n",
    "#                 os.remove(file_path)\n",
    "\n",
    "# remove_invalid_images(fake_dir)\n",
    "# remove_invalid_images(real_dir)"
   ]
  },
  {
   "cell_type": "markdown",
   "metadata": {},
   "source": [
    "### 평가 수행"
   ]
  },
  {
   "cell_type": "code",
   "execution_count": 21,
   "metadata": {},
   "outputs": [],
   "source": [
    "import os\n",
    "import numpy as np\n",
    "import matplotlib.pyplot as plt\n",
    "import seaborn as sns\n",
    "from tensorflow.keras.models import load_model\n",
    "from tensorflow.keras.preprocessing.image import ImageDataGenerator\n",
    "from sklearn.metrics import confusion_matrix, classification_report\n",
    "\n",
    "# 데이터셋 경로\n",
    "dataset_dir = \"data/gen_without_envir\"\n",
    "fake_dir = \"data/gen_without_envir/fake\"\n",
    "real_dir = \"data/gen_without_envir/real\""
   ]
  },
  {
   "cell_type": "code",
   "execution_count": 22,
   "metadata": {},
   "outputs": [
    {
     "name": "stdout",
     "output_type": "stream",
     "text": [
      "Fake: 270, Real: 133\n"
     ]
    }
   ],
   "source": [
    "fake_count = len(os.listdir(fake_dir)) if os.path.exists(fake_dir) else 0\n",
    "real_count = len(os.listdir(real_dir)) if os.path.exists(real_dir) else 0\n",
    "\n",
    "print(f\"Fake: {fake_count}, Real: {real_count}\")"
   ]
  },
  {
   "cell_type": "code",
   "execution_count": 23,
   "metadata": {},
   "outputs": [
    {
     "name": "stderr",
     "output_type": "stream",
     "text": [
      "WARNING:absl:Compiled the loaded model, but the compiled metrics have yet to be built. `model.compile_metrics` will be empty until you train or evaluate the model.\n"
     ]
    }
   ],
   "source": [
    "# 모델 로드\n",
    "model_path = \"model/model_v5.h5\"\n",
    "model = load_model(model_path, compile=True)"
   ]
  },
  {
   "cell_type": "code",
   "execution_count": 13,
   "metadata": {},
   "outputs": [
    {
     "name": "stdout",
     "output_type": "stream",
     "text": [
      "Found 398 images belonging to 2 classes.\n"
     ]
    },
    {
     "name": "stderr",
     "output_type": "stream",
     "text": [
      "/home/jangminoh_2/miniconda3/envs/ml-ops/lib/python3.12/site-packages/keras/src/trainers/data_adapters/py_dataset_adapter.py:121: UserWarning: Your `PyDataset` class should call `super().__init__(**kwargs)` in its constructor. `**kwargs` can include `workers`, `use_multiprocessing`, `max_queue_size`. Do not pass these arguments to `fit()`, as they will be ignored.\n",
      "  self._warn_if_super_not_called()\n",
      "WARNING: All log messages before absl::InitializeLog() is called are written to STDERR\n",
      "I0000 00:00:1741708423.127291 3532870 service.cc:146] XLA service 0x7b667c0053d0 initialized for platform CUDA (this does not guarantee that XLA will be used). Devices:\n",
      "I0000 00:00:1741708423.127337 3532870 service.cc:154]   StreamExecutor device (0): NVIDIA RTX A5000, Compute Capability 8.6\n",
      "I0000 00:00:1741708423.127340 3532870 service.cc:154]   StreamExecutor device (1): NVIDIA RTX A5000, Compute Capability 8.6\n",
      "I0000 00:00:1741708423.127343 3532870 service.cc:154]   StreamExecutor device (2): NVIDIA RTX A5000, Compute Capability 8.6\n",
      "I0000 00:00:1741708423.127346 3532870 service.cc:154]   StreamExecutor device (3): NVIDIA RTX A5000, Compute Capability 8.6\n",
      "I0000 00:00:1741708423.127374 3532870 service.cc:154]   StreamExecutor device (4): NVIDIA RTX A5000, Compute Capability 8.6\n",
      "I0000 00:00:1741708423.127376 3532870 service.cc:154]   StreamExecutor device (5): NVIDIA RTX A5000, Compute Capability 8.6\n",
      "I0000 00:00:1741708423.127379 3532870 service.cc:154]   StreamExecutor device (6): NVIDIA RTX A5000, Compute Capability 8.6\n",
      "I0000 00:00:1741708423.127381 3532870 service.cc:154]   StreamExecutor device (7): NVIDIA RTX A5000, Compute Capability 8.6\n",
      "2025-03-12 00:53:43.281979: I tensorflow/compiler/mlir/tensorflow/utils/dump_mlir_util.cc:268] disabling MLIR crash reproducer, set env var `MLIR_CRASH_REPRODUCER_DIRECTORY` to enable.\n",
      "2025-03-12 00:53:44.299467: I external/local_xla/xla/stream_executor/cuda/cuda_dnn.cc:531] Loaded cuDNN version 8907\n",
      "2025-03-12 00:53:45.183337: I external/local_xla/xla/stream_executor/cuda/cuda_asm_compiler.cc:393] ptxas warning : Registers are spilled to local memory in function 'gemm_fusion_dot_2', 36 bytes spill stores, 36 bytes spill loads\n",
      "\n"
     ]
    },
    {
     "name": "stdout",
     "output_type": "stream",
     "text": [
      "\u001b[1m  7/398\u001b[0m \u001b[37m━━━━━━━━━━━━━━━━━━━━\u001b[0m \u001b[1m7s\u001b[0m 20ms/step   "
     ]
    },
    {
     "name": "stderr",
     "output_type": "stream",
     "text": [
      "I0000 00:00:1741708433.710249 3532870 device_compiler.h:188] Compiled cluster using XLA!  This line is logged at most once for the lifetime of the process.\n"
     ]
    },
    {
     "name": "stdout",
     "output_type": "stream",
     "text": [
      "\u001b[1m398/398\u001b[0m \u001b[32m━━━━━━━━━━━━━━━━━━━━\u001b[0m\u001b[37m\u001b[0m \u001b[1m22s\u001b[0m 20ms/step\n",
      "[[7.8221911e-01]\n",
      " [8.7705618e-01]\n",
      " [7.5708538e-01]\n",
      " [3.7027091e-01]\n",
      " [4.3376574e-01]\n",
      " [2.4568513e-01]\n",
      " [1.2186113e-01]\n",
      " [1.1617788e-01]\n",
      " [1.1818294e-01]\n",
      " [6.6673118e-01]\n",
      " [6.7333055e-01]\n",
      " [6.6098142e-01]\n",
      " [8.7676400e-01]\n",
      " [7.1145481e-01]\n",
      " [6.5535957e-01]\n",
      " [3.9337512e-02]\n",
      " [5.2297893e-03]\n",
      " [2.0266184e-01]\n",
      " [7.4829721e-01]\n",
      " [3.2500762e-01]\n",
      " [1.0775388e-02]\n",
      " [2.8774881e-01]\n",
      " [8.1312135e-03]\n",
      " [5.0901449e-01]\n",
      " [3.1174032e-02]\n",
      " [1.1508236e-02]\n",
      " [2.3218551e-01]\n",
      " [1.6471653e-01]\n",
      " [9.8585480e-01]\n",
      " [8.9878333e-01]\n",
      " [1.7455414e-01]\n",
      " [8.9614922e-01]\n",
      " [4.4213954e-01]\n",
      " [7.2249152e-02]\n",
      " [8.2668418e-01]\n",
      " [8.9237267e-01]\n",
      " [7.0789441e-02]\n",
      " [3.4393820e-03]\n",
      " [9.9971944e-01]\n",
      " [7.0634291e-02]\n",
      " [4.6608727e-02]\n",
      " [9.2945574e-03]\n",
      " [5.2174341e-02]\n",
      " [3.1089669e-01]\n",
      " [6.8516202e-02]\n",
      " [9.8885405e-01]\n",
      " [9.6382838e-01]\n",
      " [6.3562483e-02]\n",
      " [2.3322238e-02]\n",
      " [7.2989172e-01]\n",
      " [3.6899500e-02]\n",
      " [9.9943823e-01]\n",
      " [9.9734277e-01]\n",
      " [1.0434911e-01]\n",
      " [6.8145186e-01]\n",
      " [8.3656329e-01]\n",
      " [1.7941929e-01]\n",
      " [9.9473143e-01]\n",
      " [9.9886453e-01]\n",
      " [9.9701202e-01]\n",
      " [7.7704538e-04]\n",
      " [9.6657717e-01]\n",
      " [1.9073216e-02]\n",
      " [9.5737052e-01]\n",
      " [1.9245756e-01]\n",
      " [9.1155839e-01]\n",
      " [9.9810350e-01]\n",
      " [2.0353214e-01]\n",
      " [5.9150958e-01]\n",
      " [5.2065694e-01]\n",
      " [3.5378203e-01]\n",
      " [9.9639291e-01]\n",
      " [9.9830532e-01]\n",
      " [8.4847403e-01]\n",
      " [7.4836653e-01]\n",
      " [2.2511998e-02]\n",
      " [9.5769930e-01]\n",
      " [9.8630524e-01]\n",
      " [6.9826591e-01]\n",
      " [5.7730246e-01]\n",
      " [2.5226015e-01]\n",
      " [4.9502543e-01]\n",
      " [9.9811423e-01]\n",
      " [9.9983418e-01]\n",
      " [9.9698764e-01]\n",
      " [9.9204552e-01]\n",
      " [2.2785401e-01]\n",
      " [9.9024981e-01]\n",
      " [9.8217976e-01]\n",
      " [9.9472719e-01]\n",
      " [8.7324935e-01]\n",
      " [4.6721876e-01]\n",
      " [9.9852103e-01]\n",
      " [6.8879777e-01]\n",
      " [9.8567331e-01]\n",
      " [9.3076086e-01]\n",
      " [7.4738806e-01]\n",
      " [2.9645672e-01]\n",
      " [9.5205837e-01]\n",
      " [9.5980102e-01]\n",
      " [1.2885449e-02]\n",
      " [2.0050602e-02]\n",
      " [9.2421788e-01]\n",
      " [9.7653574e-01]\n",
      " [1.6692601e-01]\n",
      " [8.2933533e-01]\n",
      " [7.9422736e-01]\n",
      " [3.8077813e-01]\n",
      " [2.4183385e-01]\n",
      " [8.2776982e-01]\n",
      " [2.1512698e-01]\n",
      " [8.3400655e-01]\n",
      " [9.6457124e-02]\n",
      " [1.3948183e-01]\n",
      " [7.8798229e-01]\n",
      " [5.4265839e-01]\n",
      " [9.5895672e-01]\n",
      " [3.7507801e-03]\n",
      " [6.0437005e-02]\n",
      " [3.9573494e-02]\n",
      " [8.6023575e-01]\n",
      " [8.9539506e-02]\n",
      " [2.0541941e-01]\n",
      " [7.6276678e-01]\n",
      " [2.0286553e-02]\n",
      " [9.7950453e-01]\n",
      " [7.1318454e-01]\n",
      " [9.9983430e-01]\n",
      " [9.8946160e-01]\n",
      " [1.8081051e-01]\n",
      " [9.9030662e-01]\n",
      " [3.4980184e-01]\n",
      " [9.9335068e-01]\n",
      " [9.9249107e-01]\n",
      " [9.9551255e-01]\n",
      " [9.9686569e-01]\n",
      " [9.9763107e-01]\n",
      " [9.9995840e-01]\n",
      " [9.9924147e-01]\n",
      " [9.5287538e-01]\n",
      " [9.5423591e-01]\n",
      " [9.9332786e-01]\n",
      " [9.5891833e-01]\n",
      " [4.2145923e-01]\n",
      " [2.9453667e-02]\n",
      " [9.8739594e-01]\n",
      " [9.9091011e-01]\n",
      " [9.9948752e-01]\n",
      " [9.9958867e-01]\n",
      " [9.9769896e-01]\n",
      " [9.9203038e-01]\n",
      " [9.9661189e-01]\n",
      " [6.3402623e-01]\n",
      " [9.0698195e-01]\n",
      " [9.8633528e-01]\n",
      " [4.0768972e-01]\n",
      " [5.3464830e-01]\n",
      " [5.0165653e-01]\n",
      " [4.3949473e-01]\n",
      " [4.0292770e-01]\n",
      " [9.9080491e-01]\n",
      " [9.8541671e-01]\n",
      " [9.6450150e-01]\n",
      " [9.6316659e-01]\n",
      " [9.8709118e-01]\n",
      " [9.9084431e-01]\n",
      " [9.9478924e-01]\n",
      " [9.7626346e-01]\n",
      " [6.8053937e-01]\n",
      " [9.8478568e-01]\n",
      " [9.2915487e-01]\n",
      " [8.8339913e-01]\n",
      " [9.8478568e-01]\n",
      " [9.2570996e-01]\n",
      " [8.2941264e-01]\n",
      " [8.9468914e-01]\n",
      " [3.2869661e-01]\n",
      " [4.8571044e-01]\n",
      " [9.1072017e-01]\n",
      " [9.9160767e-01]\n",
      " [9.7108120e-01]\n",
      " [9.7616291e-01]\n",
      " [9.8176217e-01]\n",
      " [7.8076981e-02]\n",
      " [9.0329373e-01]\n",
      " [9.8462462e-01]\n",
      " [1.5833335e-01]\n",
      " [5.9535965e-02]\n",
      " [1.4361422e-01]\n",
      " [4.8977986e-02]\n",
      " [3.1513058e-02]\n",
      " [1.3332073e-01]\n",
      " [2.0150860e-01]\n",
      " [5.8502918e-01]\n",
      " [2.8879723e-01]\n",
      " [1.4239934e-01]\n",
      " [2.6178157e-01]\n",
      " [9.5234089e-02]\n",
      " [1.5677109e-02]\n",
      " [8.5436302e-01]\n",
      " [3.5769880e-01]\n",
      " [3.8659981e-01]\n",
      " [9.6068180e-01]\n",
      " [9.9602759e-01]\n",
      " [9.9535561e-01]\n",
      " [9.5529634e-01]\n",
      " [9.2449683e-01]\n",
      " [9.8314339e-01]\n",
      " [1.5616851e-01]\n",
      " [9.4768488e-01]\n",
      " [9.1050559e-01]\n",
      " [9.4928646e-01]\n",
      " [9.6315223e-01]\n",
      " [9.6509284e-01]\n",
      " [9.6635625e-02]\n",
      " [9.9319410e-01]\n",
      " [9.9782372e-01]\n",
      " [9.9973637e-01]\n",
      " [9.9983490e-01]\n",
      " [9.9957591e-01]\n",
      " [2.6096702e-01]\n",
      " [7.1640104e-01]\n",
      " [6.8704635e-02]\n",
      " [6.6059077e-01]\n",
      " [8.3530074e-01]\n",
      " [8.5790527e-01]\n",
      " [7.9178160e-01]\n",
      " [8.4592026e-01]\n",
      " [5.8698291e-01]\n",
      " [2.2944716e-01]\n",
      " [3.6961788e-01]\n",
      " [8.3094990e-01]\n",
      " [9.9978155e-01]\n",
      " [9.9882990e-01]\n",
      " [2.8217125e-01]\n",
      " [9.9253255e-01]\n",
      " [8.3039671e-01]\n",
      " [9.1781098e-01]\n",
      " [3.4604535e-01]\n",
      " [3.6494586e-01]\n",
      " [8.7376958e-01]\n",
      " [9.7882229e-01]\n",
      " [4.7670398e-02]\n",
      " [1.7536014e-02]\n",
      " [4.7349125e-02]\n",
      " [2.4336685e-01]\n",
      " [9.8270148e-01]\n",
      " [1.9774966e-01]\n",
      " [5.6500715e-01]\n",
      " [3.0924480e-02]\n",
      " [7.8036422e-01]\n",
      " [9.7866279e-01]\n",
      " [9.6176308e-01]\n",
      " [9.8927689e-01]\n",
      " [9.9256855e-01]\n",
      " [5.0747268e-02]\n",
      " [4.0161617e-02]\n",
      " [9.9332136e-01]\n",
      " [9.9688905e-01]\n",
      " [9.9901175e-01]\n",
      " [9.9653900e-01]\n",
      " [7.2276241e-01]\n",
      " [4.5680788e-01]\n",
      " [5.3957725e-01]\n",
      " [2.1697168e-01]\n",
      " [9.2198312e-01]\n",
      " [9.6024740e-01]\n",
      " [6.5760213e-01]\n",
      " [9.5493269e-01]\n",
      " [9.7982740e-01]\n",
      " [9.9304563e-01]\n",
      " [9.9502951e-01]\n",
      " [4.1021982e-01]\n",
      " [9.9322575e-01]\n",
      " [4.3386474e-01]\n",
      " [8.9260292e-01]\n",
      " [2.3532683e-01]\n",
      " [9.5338082e-01]\n",
      " [9.9979156e-01]\n",
      " [9.9998283e-01]\n",
      " [9.1275167e-01]\n",
      " [9.2901808e-01]\n",
      " [3.2012470e-02]\n",
      " [9.9027401e-01]\n",
      " [9.9758410e-01]\n",
      " [9.9916768e-01]\n",
      " [9.8012036e-01]\n",
      " [9.8498559e-01]\n",
      " [8.2560569e-01]\n",
      " [9.5877278e-01]\n",
      " [6.4076400e-01]\n",
      " [7.7628225e-01]\n",
      " [4.2114648e-01]\n",
      " [4.6146730e-01]\n",
      " [8.8504130e-01]\n",
      " [9.5665979e-01]\n",
      " [9.5871592e-01]\n",
      " [9.9974746e-01]\n",
      " [9.9984860e-01]\n",
      " [9.6630991e-01]\n",
      " [7.5390518e-01]\n",
      " [9.6592319e-01]\n",
      " [4.2020306e-01]\n",
      " [8.4024662e-01]\n",
      " [9.5262706e-01]\n",
      " [9.9816483e-01]\n",
      " [1.6006193e-01]\n",
      " [5.8024985e-01]\n",
      " [9.5145774e-01]\n",
      " [9.9114999e-02]\n",
      " [7.8031021e-01]\n",
      " [4.8508003e-02]\n",
      " [9.8016453e-01]\n",
      " [2.7089569e-01]\n",
      " [6.3089961e-01]\n",
      " [9.9708062e-01]\n",
      " [9.9524564e-01]\n",
      " [7.0891201e-01]\n",
      " [7.9578906e-01]\n",
      " [8.2488000e-01]\n",
      " [9.5768237e-01]\n",
      " [9.9806005e-01]\n",
      " [9.9869615e-01]\n",
      " [9.8217463e-01]\n",
      " [9.8336190e-01]\n",
      " [8.2783455e-01]\n",
      " [9.5749962e-01]\n",
      " [9.3286298e-02]\n",
      " [6.5642804e-02]\n",
      " [9.9899286e-01]\n",
      " [7.8524518e-01]\n",
      " [7.7378917e-01]\n",
      " [9.0880863e-02]\n",
      " [5.9619164e-01]\n",
      " [9.9790382e-01]\n",
      " [9.9682814e-01]\n",
      " [8.0463237e-01]\n",
      " [4.1404843e-01]\n",
      " [1.3021371e-01]\n",
      " [7.6727277e-01]\n",
      " [7.6593506e-01]\n",
      " [8.4523904e-01]\n",
      " [8.8247907e-01]\n",
      " [5.0898725e-01]\n",
      " [6.3839639e-03]\n",
      " [9.8784900e-01]\n",
      " [9.0846580e-01]\n",
      " [9.7490883e-01]\n",
      " [9.9782062e-01]\n",
      " [9.9656218e-01]\n",
      " [9.3435735e-01]\n",
      " [9.3927723e-01]\n",
      " [9.8088223e-01]\n",
      " [9.9445182e-01]\n",
      " [9.9921572e-01]\n",
      " [9.9712068e-01]\n",
      " [9.5358074e-01]\n",
      " [9.8675829e-01]\n",
      " [9.9358255e-01]\n",
      " [9.8396403e-01]\n",
      " [9.9801069e-01]\n",
      " [9.9533409e-01]\n",
      " [9.9575907e-01]\n",
      " [9.9485457e-01]\n",
      " [9.9975604e-01]\n",
      " [6.8239707e-01]\n",
      " [9.9227917e-01]\n",
      " [8.8135415e-01]\n",
      " [8.4751248e-01]\n",
      " [9.3553746e-01]\n",
      " [9.9282736e-01]\n",
      " [9.9485838e-01]\n",
      " [8.9030921e-01]\n",
      " [8.7337583e-01]\n",
      " [9.9487901e-01]\n",
      " [9.9824858e-01]\n",
      " [8.7072361e-01]\n",
      " [9.3038458e-01]\n",
      " [2.1219344e-01]\n",
      " [9.9757200e-01]\n",
      " [9.8976177e-01]\n",
      " [9.1756934e-01]\n",
      " [9.8015779e-01]\n",
      " [9.9496883e-01]\n",
      " [3.4298843e-01]\n",
      " [6.3819341e-02]\n",
      " [9.6540505e-01]\n",
      " [9.5731187e-01]\n",
      " [5.9707844e-01]\n",
      " [4.1334593e-01]\n",
      " [9.9962568e-01]\n",
      " [4.2364028e-01]\n",
      " [3.2619226e-01]\n",
      " [8.7591469e-01]\n",
      " [9.8907453e-01]\n",
      " [6.1401628e-02]\n",
      " [9.9887592e-01]\n",
      " [8.2018697e-01]]\n",
      "Model Accuracy: 0.5151\n"
     ]
    },
    {
     "data": {
      "image/png": "[encoded data removed]",
      "text/plain": [
       "<Figure size 600x500 with 2 Axes>"
      ]
     },
     "metadata": {},
     "output_type": "display_data"
    },
    {
     "name": "stdout",
     "output_type": "stream",
     "text": [
      "\n",
      "Classification Report:\n",
      "              precision    recall  f1-score   support\n",
      "\n",
      "        fake       0.81      0.37      0.51       270\n",
      "        real       0.38      0.81      0.52       128\n",
      "\n",
      "    accuracy                           0.52       398\n",
      "   macro avg       0.59      0.59      0.52       398\n",
      "weighted avg       0.67      0.52      0.51       398\n",
      "\n"
     ]
    }
   ],
   "source": [
    "# 이미지 크기 및 배치 사이즈 설정\n",
    "img_size = (528, 528)  # EfficientNetB6의 입력 크기에 맞게 변경 가능\n",
    "batch_size = 1\n",
    "\n",
    "# 데이터 로더 설정 (test용)\n",
    "datagen = ImageDataGenerator(\n",
    "    preprocessing_function=tf.keras.applications.efficientnet.preprocess_input\n",
    ")\n",
    "\n",
    "test_generator = datagen.flow_from_directory(\n",
    "    dataset_dir,\n",
    "    target_size=img_size,\n",
    "    batch_size=batch_size,\n",
    "    class_mode=\"binary\",  # 이진 분류 (fake vs real)\n",
    "    shuffle= False\n",
    ")\n",
    "\n",
    "# 실제 라벨 가져오기\n",
    "y_true = test_generator.classes  # 0: fake, 1: real\n",
    "#print(y_true)\n",
    "class_names = list(test_generator.class_indices.keys())\n",
    "#print(class_names) #['fake', 'real']\n",
    "#print(test_generator.class_indices)\n",
    "\n",
    "# 예측 수행\n",
    "y_pred_probs = model.predict(test_generator, steps=test_generator.samples)  # 확률값 출력\n",
    "print(y_pred_probs)\n",
    "y_pred = (y_pred_probs > 0.5).astype(int).flatten()  # 0.5 이상이면 1(real), 아니면 0(fake)\n",
    "\n",
    "# 정확도 출력\n",
    "accuracy = np.mean(y_pred == y_true)\n",
    "print(f\"Model Accuracy: {accuracy:.4f}\")\n",
    "\n",
    "# Confusion Matrix 생성\n",
    "cm = confusion_matrix(y_true, y_pred)\n",
    "\n",
    "# Confusion Matrix 시각화\n",
    "plt.figure(figsize=(6, 5))\n",
    "sns.heatmap(cm, annot=True, fmt=\"d\", cmap=\"Blues\", xticklabels=class_names, yticklabels=class_names)\n",
    "plt.xlabel(\"Predicted Label\")\n",
    "plt.ylabel(\"True Label\")\n",
    "plt.title(\"Confusion Matrix\")\n",
    "plt.show()\n",
    "\n",
    "# 분류 보고서 출력\n",
    "print(\"\\nClassification Report:\")\n",
    "print(classification_report(y_true, y_pred, target_names=class_names))\n"
   ]
  },
  {
   "cell_type": "markdown",
   "metadata": {},
   "source": [
    "## 자체 환경 데이터셋 추가 후, 테스트"
   ]
  },
  {
   "cell_type": "markdown",
   "metadata": {
    "id": "0K7briMGE6eR"
   },
   "source": [
    "### 자체 데이터셋 준비"
   ]
  },
  {
   "cell_type": "code",
   "execution_count": 14,
   "metadata": {
    "colab": {
     "base_uri": "https://localhost:8080/"
    },
    "executionInfo": {
     "elapsed": 1488,
     "status": "ok",
     "timestamp": 1740137750775,
     "user": {
      "displayName": "이하은",
      "userId": "06607701604719915973"
     },
     "user_tz": -540
    },
    "id": "mw_7TUhzC-g8",
    "outputId": "d69a26eb-1ac2-4a37-eef2-6bdeb02a52d9"
   },
   "outputs": [
    {
     "name": "stdout",
     "output_type": "stream",
     "text": [
      "Fake: 350, Real: 175\n"
     ]
    }
   ],
   "source": [
    "import os\n",
    "\n",
    "dataset_dir = \"data/generated_dataset/labeled\"\n",
    "fake_dir = os.path.join(dataset_dir, \"fake\")\n",
    "real_dir = os.path.join(dataset_dir, \"real\")\n",
    "\n",
    "fake_count = len(os.listdir(fake_dir)) if os.path.exists(fake_dir) else 0\n",
    "real_count = len(os.listdir(real_dir)) if os.path.exists(real_dir) else 0\n",
    "\n",
    "print(f\"Fake: {fake_count}, Real: {real_count}\")\n"
   ]
  },
  {
   "cell_type": "markdown",
   "metadata": {
    "id": "uAqmLRYiTtSR"
   },
   "source": [
    "### 자체데이터 평가 수행"
   ]
  },
  {
   "cell_type": "code",
   "execution_count": 15,
   "metadata": {
    "executionInfo": {
     "elapsed": 13,
     "status": "ok",
     "timestamp": 1740143978678,
     "user": {
      "displayName": "이하은",
      "userId": "06607701604719915973"
     },
     "user_tz": -540
    },
    "id": "FLRCxx5m_Hnb"
   },
   "outputs": [],
   "source": [
    "import os\n",
    "import numpy as np\n",
    "import matplotlib.pyplot as plt\n",
    "import seaborn as sns\n",
    "from tensorflow.keras.models import load_model\n",
    "from tensorflow.keras.preprocessing.image import ImageDataGenerator\n",
    "from sklearn.metrics import confusion_matrix, classification_report\n",
    "\n",
    "# 데이터셋 경로\n",
    "dataset_dir = \"data/generated_dataset/labeled\"\n",
    "fake_dir = \"data/generated_dataset/labeled/fake\"\n",
    "real_dir = \"data/generated_dataset/labeled/real\""
   ]
  },
  {
   "cell_type": "code",
   "execution_count": 16,
   "metadata": {
    "colab": {
     "base_uri": "https://localhost:8080/"
    },
    "executionInfo": {
     "elapsed": 34,
     "status": "ok",
     "timestamp": 1740143978730,
     "user": {
      "displayName": "이하은",
      "userId": "06607701604719915973"
     },
     "user_tz": -540
    },
    "id": "zMHYX4VgmnTl",
    "outputId": "0dc2eda6-0aa3-4cef-954c-8dbc5fa12248"
   },
   "outputs": [
    {
     "name": "stdout",
     "output_type": "stream",
     "text": [
      "Fake: 350, Real: 175\n"
     ]
    }
   ],
   "source": [
    "fake_count = len(os.listdir(fake_dir)) if os.path.exists(fake_dir) else 0\n",
    "real_count = len(os.listdir(real_dir)) if os.path.exists(real_dir) else 0\n",
    "\n",
    "print(f\"Fake: {fake_count}, Real: {real_count}\")"
   ]
  },
  {
   "cell_type": "code",
   "execution_count": 18,
   "metadata": {
    "colab": {
     "base_uri": "https://localhost:8080/"
    },
    "executionInfo": {
     "elapsed": 4612,
     "status": "ok",
     "timestamp": 1740143097995,
     "user": {
      "displayName": "이하은",
      "userId": "06607701604719915973"
     },
     "user_tz": -540
    },
    "id": "3sYELdsPFDaE",
    "outputId": "21e2cdaa-6356-4fa3-a30d-2da4d6113ae9"
   },
   "outputs": [
    {
     "name": "stderr",
     "output_type": "stream",
     "text": [
      "WARNING:absl:Compiled the loaded model, but the compiled metrics have yet to be built. `model.compile_metrics` will be empty until you train or evaluate the model.\n"
     ]
    }
   ],
   "source": [
    "# 모델 로드\n",
    "model_path = \"model/model_v5.h5\"\n",
    "model = load_model(model_path)"
   ]
  },
  {
   "cell_type": "code",
   "execution_count": 19,
   "metadata": {
    "colab": {
     "base_uri": "https://localhost:8080/",
     "height": 1000
    },
    "executionInfo": {
     "elapsed": 13833,
     "status": "ok",
     "timestamp": 1740144714670,
     "user": {
      "displayName": "이하은",
      "userId": "06607701604719915973"
     },
     "user_tz": -540
    },
    "id": "uPQw4aklTxvA",
    "outputId": "989f5859-0719-40a9-cea2-93f31923c2a0"
   },
   "outputs": [
    {
     "name": "stdout",
     "output_type": "stream",
     "text": [
      "Found 520 images belonging to 2 classes.\n"
     ]
    },
    {
     "name": "stderr",
     "output_type": "stream",
     "text": [
      "/home/jangminoh_2/miniconda3/envs/ml-ops/lib/python3.12/site-packages/keras/src/trainers/data_adapters/py_dataset_adapter.py:121: UserWarning: Your `PyDataset` class should call `super().__init__(**kwargs)` in its constructor. `**kwargs` can include `workers`, `use_multiprocessing`, `max_queue_size`. Do not pass these arguments to `fit()`, as they will be ignored.\n",
      "  self._warn_if_super_not_called()\n"
     ]
    },
    {
     "name": "stdout",
     "output_type": "stream",
     "text": [
      "\u001b[1m520/520\u001b[0m \u001b[32m━━━━━━━━━━━━━━━━━━━━\u001b[0m\u001b[37m\u001b[0m \u001b[1m20s\u001b[0m 21ms/step\n",
      "[[9.88336146e-01]\n",
      " [7.49939620e-01]\n",
      " [9.86264110e-01]\n",
      " [2.15869337e-01]\n",
      " [6.30144477e-01]\n",
      " [1.01773791e-01]\n",
      " [9.44168210e-01]\n",
      " [1.64693639e-01]\n",
      " [9.54734445e-01]\n",
      " [9.36720371e-01]\n",
      " [1.87492501e-02]\n",
      " [2.82353535e-02]\n",
      " [2.51319688e-02]\n",
      " [5.98950505e-01]\n",
      " [1.91019252e-01]\n",
      " [6.18187904e-01]\n",
      " [7.42885470e-01]\n",
      " [1.03995726e-01]\n",
      " [4.41204935e-01]\n",
      " [9.23493743e-01]\n",
      " [8.69769990e-01]\n",
      " [1.41246128e-04]\n",
      " [2.33917207e-01]\n",
      " [4.47571240e-02]\n",
      " [3.29333782e-01]\n",
      " [2.48618349e-02]\n",
      " [1.57989755e-01]\n",
      " [6.78858817e-01]\n",
      " [6.38735220e-02]\n",
      " [5.72605915e-02]\n",
      " [7.82219112e-01]\n",
      " [8.77056181e-01]\n",
      " [7.57085383e-01]\n",
      " [3.70270908e-01]\n",
      " [5.77807307e-01]\n",
      " [9.99277294e-01]\n",
      " [7.42335543e-02]\n",
      " [9.64645922e-01]\n",
      " [9.99070108e-01]\n",
      " [9.79187489e-01]\n",
      " [4.29678679e-01]\n",
      " [9.98085499e-01]\n",
      " [9.79579568e-01]\n",
      " [9.99908566e-01]\n",
      " [9.43340480e-01]\n",
      " [6.22762293e-02]\n",
      " [9.79423463e-01]\n",
      " [7.36275256e-01]\n",
      " [8.77289414e-01]\n",
      " [7.37516999e-01]\n",
      " [9.95632470e-01]\n",
      " [2.84279659e-02]\n",
      " [1.67625532e-01]\n",
      " [1.93517372e-01]\n",
      " [3.11893057e-02]\n",
      " [9.22362745e-01]\n",
      " [2.78093636e-01]\n",
      " [8.48633349e-01]\n",
      " [3.21455337e-02]\n",
      " [9.82562304e-01]\n",
      " [9.35275018e-01]\n",
      " [8.11442375e-01]\n",
      " [8.91916454e-01]\n",
      " [1.29087329e-01]\n",
      " [4.33765739e-01]\n",
      " [2.45685130e-01]\n",
      " [1.21861130e-01]\n",
      " [1.16177879e-01]\n",
      " [1.18182942e-01]\n",
      " [9.56988513e-01]\n",
      " [9.97147501e-01]\n",
      " [9.73562956e-01]\n",
      " [9.98851180e-01]\n",
      " [9.11307931e-01]\n",
      " [9.54706848e-01]\n",
      " [9.98450279e-01]\n",
      " [9.98654962e-01]\n",
      " [9.85125422e-01]\n",
      " [9.98190105e-01]\n",
      " [2.21164167e-01]\n",
      " [9.94089842e-01]\n",
      " [9.22825456e-01]\n",
      " [8.94409537e-01]\n",
      " [7.22261012e-01]\n",
      " [7.21496582e-01]\n",
      " [3.61331284e-01]\n",
      " [9.60033238e-01]\n",
      " [9.29775119e-01]\n",
      " [7.92564172e-03]\n",
      " [6.66731179e-01]\n",
      " [6.73330545e-01]\n",
      " [6.60981417e-01]\n",
      " [8.76763999e-01]\n",
      " [7.11454809e-01]\n",
      " [6.55359566e-01]\n",
      " [3.93375121e-02]\n",
      " [5.22978930e-03]\n",
      " [2.02661842e-01]\n",
      " [7.48297215e-01]\n",
      " [3.25007617e-01]\n",
      " [1.07753882e-02]\n",
      " [2.87748814e-01]\n",
      " [8.13121349e-03]\n",
      " [5.09014487e-01]\n",
      " [3.11740320e-02]\n",
      " [1.15082357e-02]\n",
      " [2.32185513e-01]\n",
      " [1.64716527e-01]\n",
      " [9.85854805e-01]\n",
      " [8.98783326e-01]\n",
      " [1.74554139e-01]\n",
      " [8.96149218e-01]\n",
      " [4.42139536e-01]\n",
      " [7.22491518e-02]\n",
      " [8.26684177e-01]\n",
      " [8.92372668e-01]\n",
      " [7.07894415e-02]\n",
      " [3.43938195e-03]\n",
      " [9.99719441e-01]\n",
      " [7.06342906e-02]\n",
      " [4.66087274e-02]\n",
      " [9.29455739e-03]\n",
      " [5.21743409e-02]\n",
      " [3.10896695e-01]\n",
      " [6.85162023e-02]\n",
      " [9.88854051e-01]\n",
      " [9.63828385e-01]\n",
      " [6.35624826e-02]\n",
      " [2.33222377e-02]\n",
      " [7.29891717e-01]\n",
      " [3.68994996e-02]\n",
      " [9.99438226e-01]\n",
      " [9.97342765e-01]\n",
      " [9.93350685e-01]\n",
      " [9.92491066e-01]\n",
      " [9.95512545e-01]\n",
      " [9.96865690e-01]\n",
      " [9.97631073e-01]\n",
      " [9.99958396e-01]\n",
      " [9.99241471e-01]\n",
      " [1.04349107e-01]\n",
      " [9.52875376e-01]\n",
      " [9.54235911e-01]\n",
      " [9.93327856e-01]\n",
      " [9.58918333e-01]\n",
      " [6.81451857e-01]\n",
      " [8.36563289e-01]\n",
      " [1.79419294e-01]\n",
      " [9.94731426e-01]\n",
      " [4.21459228e-01]\n",
      " [2.94536669e-02]\n",
      " [9.98864532e-01]\n",
      " [9.97012019e-01]\n",
      " [9.87395942e-01]\n",
      " [9.90910113e-01]\n",
      " [9.99487519e-01]\n",
      " [9.99588668e-01]\n",
      " [9.97698963e-01]\n",
      " [9.92030382e-01]\n",
      " [9.96611893e-01]\n",
      " [7.77045381e-04]\n",
      " [9.66577172e-01]\n",
      " [6.34026229e-01]\n",
      " [9.06981945e-01]\n",
      " [1.90732162e-02]\n",
      " [9.57370520e-01]\n",
      " [9.86335278e-01]\n",
      " [4.07689720e-01]\n",
      " [5.34648299e-01]\n",
      " [5.01656532e-01]\n",
      " [4.39494729e-01]\n",
      " [4.02927697e-01]\n",
      " [1.92457557e-01]\n",
      " [9.11558390e-01]\n",
      " [9.90804911e-01]\n",
      " [9.85416710e-01]\n",
      " [9.64501500e-01]\n",
      " [9.63166595e-01]\n",
      " [9.87091184e-01]\n",
      " [9.98103499e-01]\n",
      " [2.03532144e-01]\n",
      " [5.91509581e-01]\n",
      " [5.20656943e-01]\n",
      " [3.53782028e-01]\n",
      " [9.90844309e-01]\n",
      " [9.94789243e-01]\n",
      " [9.96392906e-01]\n",
      " [9.76263463e-01]\n",
      " [6.80539370e-01]\n",
      " [9.98305321e-01]\n",
      " [8.48474026e-01]\n",
      " [9.84785676e-01]\n",
      " [9.29154873e-01]\n",
      " [8.83399129e-01]\n",
      " [9.84785676e-01]\n",
      " [9.25709963e-01]\n",
      " [8.29412639e-01]\n",
      " [8.94689143e-01]\n",
      " [3.28696609e-01]\n",
      " [7.48366535e-01]\n",
      " [2.25119982e-02]\n",
      " [4.85710442e-01]\n",
      " [9.10720170e-01]\n",
      " [9.91607666e-01]\n",
      " [9.71081197e-01]\n",
      " [9.76162910e-01]\n",
      " [9.81762171e-01]\n",
      " [9.57699299e-01]\n",
      " [9.86305237e-01]\n",
      " [6.98265910e-01]\n",
      " [5.77302456e-01]\n",
      " [2.52260149e-01]\n",
      " [4.95025426e-01]\n",
      " [7.80769810e-02]\n",
      " [9.03293729e-01]\n",
      " [9.84624624e-01]\n",
      " [9.98114228e-01]\n",
      " [9.99834180e-01]\n",
      " [9.96987641e-01]\n",
      " [9.92045522e-01]\n",
      " [1.58333346e-01]\n",
      " [5.95359653e-02]\n",
      " [1.43614218e-01]\n",
      " [4.89779860e-02]\n",
      " [3.15130576e-02]\n",
      " [1.33320734e-01]\n",
      " [2.01508597e-01]\n",
      " [5.85029185e-01]\n",
      " [2.88797230e-01]\n",
      " [1.42399341e-01]\n",
      " [2.61781573e-01]\n",
      " [9.52340886e-02]\n",
      " [1.56771094e-02]\n",
      " [8.54363024e-01]\n",
      " [3.57698798e-01]\n",
      " [3.86599809e-01]\n",
      " [2.27854013e-01]\n",
      " [9.60681796e-01]\n",
      " [9.96027589e-01]\n",
      " [9.95355606e-01]\n",
      " [9.55296338e-01]\n",
      " [9.90249813e-01]\n",
      " [9.24496830e-01]\n",
      " [9.83143389e-01]\n",
      " [1.56168506e-01]\n",
      " [9.47684884e-01]\n",
      " [9.10505593e-01]\n",
      " [9.82179761e-01]\n",
      " [9.49286461e-01]\n",
      " [9.63152230e-01]\n",
      " [9.65092838e-01]\n",
      " [9.94727194e-01]\n",
      " [8.73249352e-01]\n",
      " [9.66356248e-02]\n",
      " [4.67218757e-01]\n",
      " [9.93194103e-01]\n",
      " [9.97823715e-01]\n",
      " [9.99736369e-01]\n",
      " [9.99834895e-01]\n",
      " [9.99575913e-01]\n",
      " [9.98521030e-01]\n",
      " [6.88797772e-01]\n",
      " [2.60967016e-01]\n",
      " [9.85673308e-01]\n",
      " [7.16401041e-01]\n",
      " [6.87046349e-02]\n",
      " [9.30760860e-01]\n",
      " [6.60590768e-01]\n",
      " [8.35300744e-01]\n",
      " [8.57905269e-01]\n",
      " [7.91781604e-01]\n",
      " [7.47388065e-01]\n",
      " [8.45920265e-01]\n",
      " [5.86982906e-01]\n",
      " [2.29447156e-01]\n",
      " [3.69617879e-01]\n",
      " [8.30949903e-01]\n",
      " [9.99781549e-01]\n",
      " [9.98829901e-01]\n",
      " [2.82171249e-01]\n",
      " [9.92532551e-01]\n",
      " [2.96456724e-01]\n",
      " [9.52058375e-01]\n",
      " [9.59801018e-01]\n",
      " [8.30396712e-01]\n",
      " [9.17810977e-01]\n",
      " [1.28854495e-02]\n",
      " [2.00506020e-02]\n",
      " [9.24217880e-01]\n",
      " [9.76535738e-01]\n",
      " [3.46045345e-01]\n",
      " [3.64945859e-01]\n",
      " [1.66926011e-01]\n",
      " [8.29335332e-01]\n",
      " [7.94227362e-01]\n",
      " [3.80778134e-01]\n",
      " [2.41833851e-01]\n",
      " [8.27769816e-01]\n",
      " [2.15126976e-01]\n",
      " [8.34006548e-01]\n",
      " [8.73769581e-01]\n",
      " [9.78822291e-01]\n",
      " [9.64571238e-02]\n",
      " [1.39481828e-01]\n",
      " [7.87982285e-01]\n",
      " [5.42658389e-01]\n",
      " [4.76703979e-02]\n",
      " [1.75360143e-02]\n",
      " [9.58956718e-01]\n",
      " [4.73491251e-02]\n",
      " [2.43366852e-01]\n",
      " [3.75078013e-03]\n",
      " [9.82701480e-01]\n",
      " [6.04370050e-02]\n",
      " [3.95734943e-02]\n",
      " [8.60235751e-01]\n",
      " [1.97749659e-01]\n",
      " [5.65007150e-01]\n",
      " [8.95395055e-02]\n",
      " [2.05419406e-01]\n",
      " [3.09244804e-02]\n",
      " [7.80364215e-01]\n",
      " [9.78662789e-01]\n",
      " [9.61763084e-01]\n",
      " [9.89276886e-01]\n",
      " [9.92568552e-01]\n",
      " [5.07472679e-02]\n",
      " [4.01616171e-02]\n",
      " [9.93321359e-01]\n",
      " [9.96889055e-01]\n",
      " [9.99011755e-01]\n",
      " [9.96538997e-01]\n",
      " [7.62766778e-01]\n",
      " [2.02865526e-02]\n",
      " [7.22762406e-01]\n",
      " [4.56807882e-01]\n",
      " [5.39577246e-01]\n",
      " [2.16971681e-01]\n",
      " [9.21983123e-01]\n",
      " [9.79504526e-01]\n",
      " [7.13184536e-01]\n",
      " [9.60247397e-01]\n",
      " [6.57602131e-01]\n",
      " [9.99834299e-01]\n",
      " [9.89461601e-01]\n",
      " [1.80810511e-01]\n",
      " [9.90306616e-01]\n",
      " [9.54932690e-01]\n",
      " [9.79827404e-01]\n",
      " [3.49801838e-01]\n",
      " [9.93045628e-01]\n",
      " [9.95029509e-01]\n",
      " [4.10219818e-01]\n",
      " [9.93225753e-01]\n",
      " [4.33864743e-01]\n",
      " [8.92602921e-01]\n",
      " [2.35326827e-01]\n",
      " [9.53380823e-01]\n",
      " [9.99791563e-01]\n",
      " [9.99982834e-01]\n",
      " [9.12751675e-01]\n",
      " [9.29018080e-01]\n",
      " [3.20124701e-02]\n",
      " [9.90274012e-01]\n",
      " [9.97584105e-01]\n",
      " [9.99167681e-01]\n",
      " [9.80120361e-01]\n",
      " [9.84985590e-01]\n",
      " [8.25605690e-01]\n",
      " [9.58772779e-01]\n",
      " [6.40763998e-01]\n",
      " [7.76282251e-01]\n",
      " [4.21146482e-01]\n",
      " [4.61467296e-01]\n",
      " [8.85041296e-01]\n",
      " [9.56659794e-01]\n",
      " [9.58715916e-01]\n",
      " [9.99747455e-01]\n",
      " [9.99848604e-01]\n",
      " [9.66309905e-01]\n",
      " [7.53905177e-01]\n",
      " [9.65923190e-01]\n",
      " [4.20203060e-01]\n",
      " [8.40246618e-01]\n",
      " [9.52627063e-01]\n",
      " [9.98164833e-01]\n",
      " [1.60061926e-01]\n",
      " [5.80249846e-01]\n",
      " [9.51457739e-01]\n",
      " [9.91149992e-02]\n",
      " [7.80310214e-01]\n",
      " [4.85080034e-02]\n",
      " [9.80164528e-01]\n",
      " [2.70895690e-01]\n",
      " [6.30899608e-01]\n",
      " [9.97080624e-01]\n",
      " [9.95245636e-01]\n",
      " [7.08912015e-01]\n",
      " [7.95789063e-01]\n",
      " [8.24880004e-01]\n",
      " [9.57682371e-01]\n",
      " [9.98060048e-01]\n",
      " [9.98696148e-01]\n",
      " [9.82174635e-01]\n",
      " [9.83361900e-01]\n",
      " [8.27834547e-01]\n",
      " [9.57499623e-01]\n",
      " [9.32862982e-02]\n",
      " [6.56428039e-02]\n",
      " [9.98992860e-01]\n",
      " [7.85245180e-01]\n",
      " [7.73789167e-01]\n",
      " [9.08808634e-02]\n",
      " [5.96191645e-01]\n",
      " [9.97903824e-01]\n",
      " [9.96828139e-01]\n",
      " [8.04632366e-01]\n",
      " [4.14048433e-01]\n",
      " [1.30213708e-01]\n",
      " [7.67272770e-01]\n",
      " [7.65935063e-01]\n",
      " [8.45239043e-01]\n",
      " [8.82479072e-01]\n",
      " [5.08987248e-01]\n",
      " [6.38396386e-03]\n",
      " [9.87848997e-01]\n",
      " [9.08465803e-01]\n",
      " [9.74908829e-01]\n",
      " [9.97820616e-01]\n",
      " [9.96562183e-01]\n",
      " [9.34357345e-01]\n",
      " [9.39277232e-01]\n",
      " [9.80882227e-01]\n",
      " [9.94451821e-01]\n",
      " [9.99215722e-01]\n",
      " [9.97120678e-01]\n",
      " [9.53580737e-01]\n",
      " [9.86758292e-01]\n",
      " [9.93582547e-01]\n",
      " [9.83964026e-01]\n",
      " [9.98010695e-01]\n",
      " [9.95334089e-01]\n",
      " [9.95759070e-01]\n",
      " [9.94854569e-01]\n",
      " [9.99756038e-01]\n",
      " [9.72959876e-01]\n",
      " [9.61715519e-01]\n",
      " [9.96565878e-01]\n",
      " [7.31560886e-01]\n",
      " [9.80980873e-01]\n",
      " [9.96615946e-01]\n",
      " [9.83832896e-01]\n",
      " [9.00815248e-01]\n",
      " [9.85081136e-01]\n",
      " [9.77419853e-01]\n",
      " [9.95966673e-01]\n",
      " [9.56920266e-01]\n",
      " [9.99221683e-01]\n",
      " [9.94377077e-01]\n",
      " [9.94110167e-01]\n",
      " [8.95931482e-01]\n",
      " [9.91859138e-01]\n",
      " [9.99442756e-01]\n",
      " [9.94319141e-01]\n",
      " [9.94920909e-01]\n",
      " [9.67876315e-01]\n",
      " [9.97690439e-01]\n",
      " [9.93940473e-01]\n",
      " [9.53459501e-01]\n",
      " [9.99013543e-01]\n",
      " [9.96252656e-01]\n",
      " [9.89504218e-01]\n",
      " [9.94326055e-01]\n",
      " [9.87836182e-01]\n",
      " [9.99387503e-01]\n",
      " [9.84269023e-01]\n",
      " [9.96425688e-01]\n",
      " [9.83221173e-01]\n",
      " [9.98314261e-01]\n",
      " [9.98412132e-01]\n",
      " [9.89139378e-01]\n",
      " [9.99569714e-01]\n",
      " [9.98795629e-01]\n",
      " [9.99261200e-01]\n",
      " [9.97519314e-01]\n",
      " [9.98803139e-01]\n",
      " [9.94277656e-01]\n",
      " [6.82397068e-01]\n",
      " [9.92279172e-01]\n",
      " [8.81354153e-01]\n",
      " [8.47512484e-01]\n",
      " [9.35537457e-01]\n",
      " [9.92827356e-01]\n",
      " [9.94858384e-01]\n",
      " [8.90309215e-01]\n",
      " [8.73375833e-01]\n",
      " [9.94879007e-01]\n",
      " [9.98248577e-01]\n",
      " [8.70723605e-01]\n",
      " [9.30384576e-01]\n",
      " [2.12193444e-01]\n",
      " [9.97572005e-01]\n",
      " [9.89761770e-01]\n",
      " [9.17569339e-01]\n",
      " [9.80157793e-01]\n",
      " [9.94968832e-01]\n",
      " [3.42988431e-01]\n",
      " [6.38193414e-02]\n",
      " [9.65405047e-01]\n",
      " [9.57311869e-01]\n",
      " [5.97078443e-01]\n",
      " [4.13345933e-01]\n",
      " [9.99625683e-01]\n",
      " [4.23640281e-01]\n",
      " [3.26192260e-01]\n",
      " [8.75914693e-01]\n",
      " [9.89074528e-01]\n",
      " [6.14016280e-02]\n",
      " [9.98875916e-01]\n",
      " [8.20186973e-01]]\n",
      "Model Accuracy: 0.5327\n"
     ]
    },
    {
     "data": {
      "image/png": "[encoded data removed]",
      "text/plain": [
       "<Figure size 600x500 with 2 Axes>"
      ]
     },
     "metadata": {},
     "output_type": "display_data"
    },
    {
     "name": "stdout",
     "output_type": "stream",
     "text": [
      "\n",
      "Classification Report:\n",
      "              precision    recall  f1-score   support\n",
      "\n",
      "        fake       0.85      0.37      0.52       350\n",
      "        real       0.40      0.86      0.55       170\n",
      "\n",
      "    accuracy                           0.53       520\n",
      "   macro avg       0.62      0.62      0.53       520\n",
      "weighted avg       0.70      0.53      0.53       520\n",
      "\n"
     ]
    }
   ],
   "source": [
    "# 이미지 크기 및 배치 사이즈 설정\n",
    "img_size = (528, 528)  # EfficientNetB6의 입력 크기에 맞게 변경 가능\n",
    "batch_size = 1\n",
    "\n",
    "# 데이터 로더 설정 (test용)\n",
    "datagen = ImageDataGenerator(\n",
    "    preprocessing_function=tf.keras.applications.efficientnet.preprocess_input\n",
    ")\n",
    "\n",
    "test_generator = datagen.flow_from_directory(\n",
    "    dataset_dir,\n",
    "    target_size=img_size,\n",
    "    batch_size=batch_size,\n",
    "    class_mode=\"binary\",  # 이진 분류 (fake vs real)\n",
    "    shuffle= False\n",
    ")\n",
    "\n",
    "# 실제 라벨 가져오기\n",
    "y_true = test_generator.classes  # 0: fake, 1: real\n",
    "#print(y_true)\n",
    "class_names = list(test_generator.class_indices.keys())\n",
    "#print(class_names) #['fake', 'real']\n",
    "#print(test_generator.class_indices)\n",
    "\n",
    "# 예측 수행\n",
    "y_pred_probs = model.predict(test_generator, steps=test_generator.samples)  # 확률값 출력\n",
    "print(y_pred_probs)\n",
    "y_pred = (y_pred_probs > 0.5).astype(int).flatten()  # 0.5 이상이면 1(real), 아니면 0(fake)\n",
    "\n",
    "# 정확도 출력\n",
    "accuracy = np.mean(y_pred == y_true)\n",
    "print(f\"Model Accuracy: {accuracy:.4f}\")\n",
    "\n",
    "# Confusion Matrix 생성\n",
    "cm = confusion_matrix(y_true, y_pred)\n",
    "\n",
    "# Confusion Matrix 시각화\n",
    "plt.figure(figsize=(6, 5))\n",
    "sns.heatmap(cm, annot=True, fmt=\"d\", cmap=\"Blues\", xticklabels=class_names, yticklabels=class_names)\n",
    "plt.xlabel(\"Predicted Label\")\n",
    "plt.ylabel(\"True Label\")\n",
    "plt.title(\"Confusion Matrix\")\n",
    "plt.show()\n",
    "\n",
    "# 분류 보고서 출력\n",
    "print(\"\\nClassification Report:\")\n",
    "print(classification_report(y_true, y_pred, target_names=class_names))\n"
   ]
  },
  {
   "cell_type": "markdown",
   "metadata": {
    "id": "S_HjFuO9AP1P"
   },
   "source": [
    "## 저장된 모델 로딩 -> 자체이미지 데이터셋에서 학습 후 이진분류"
   ]
  },
  {
   "cell_type": "code",
   "execution_count": 2,
   "metadata": {
    "id": "c5YN7zdVBFKd"
   },
   "outputs": [
    {
     "name": "stderr",
     "output_type": "stream",
     "text": [
      "2025-02-27 23:53:57.407735: E external/local_xla/xla/stream_executor/cuda/cuda_fft.cc:485] Unable to register cuFFT factory: Attempting to register factory for plugin cuFFT when one has already been registered\n",
      "2025-02-27 23:53:57.421753: E external/local_xla/xla/stream_executor/cuda/cuda_dnn.cc:8454] Unable to register cuDNN factory: Attempting to register factory for plugin cuDNN when one has already been registered\n",
      "2025-02-27 23:53:57.426212: E external/local_xla/xla/stream_executor/cuda/cuda_blas.cc:1452] Unable to register cuBLAS factory: Attempting to register factory for plugin cuBLAS when one has already been registered\n",
      "2025-02-27 23:53:57.438840: I tensorflow/core/platform/cpu_feature_guard.cc:210] This TensorFlow binary is optimized to use available CPU instructions in performance-critical operations.\n",
      "To enable the following instructions: AVX2 FMA, in other operations, rebuild TensorFlow with the appropriate compiler flags.\n",
      "2025-02-27 23:53:58.304472: W tensorflow/compiler/tf2tensorrt/utils/py_utils.cc:38] TF-TRT Warning: Could not find TensorRT\n"
     ]
    }
   ],
   "source": [
    "import os\n",
    "import shutil\n",
    "import random\n",
    "from sklearn.model_selection import train_test_split\n",
    "\n",
    "import tensorflow as tf\n",
    "from tensorflow.keras.models import load_model\n",
    "from tensorflow.keras.optimizers import Adam\n",
    "from tensorflow.keras.callbacks import EarlyStopping\n",
    "from tensorflow.keras import layers, regularizers\n",
    "import matplotlib.pyplot as plt\n",
    "\n",
    "import numpy as np\n",
    "from sklearn.metrics import confusion_matrix\n",
    "import seaborn as sns"
   ]
  },
  {
   "cell_type": "code",
   "execution_count": 3,
   "metadata": {
    "id": "GTyUnWEK7nhe"
   },
   "outputs": [],
   "source": [
    "train_dir = \"data/generated_dataset/train_new\"\n",
    "test_dir = \"data/generated_dataset/test_new\""
   ]
  },
  {
   "cell_type": "markdown",
   "metadata": {},
   "source": [
    "### train, test 데이터셋 준비"
   ]
  },
  {
   "cell_type": "code",
   "execution_count": null,
   "metadata": {
    "colab": {
     "base_uri": "https://localhost:8080/"
    },
    "executionInfo": {
     "elapsed": 58737,
     "status": "ok",
     "timestamp": 1739766445105,
     "user": {
      "displayName": "이하은",
      "userId": "06607701604719915973"
     },
     "user_tz": -540
    },
    "id": "hbJE2mnv2zNs",
    "outputId": "3cf3760f-6547-4aef-8d3e-d204a5c509d3"
   },
   "outputs": [
    {
     "name": "stdout",
     "output_type": "stream",
     "text": [
      "데이터셋 분할 완료!\n"
     ]
    }
   ],
   "source": [
    "# # 데이터 경로 (가정: images 폴더에 fake와 real 이미지들이 있음)\n",
    "# dataset_dir = \"data/generated_dataset\"\n",
    "# fake_dir = os.path.join(dataset_dir, \"fake\")\n",
    "# real_dir = os.path.join(dataset_dir, \"real\")\n",
    "\n",
    "# # Train-Test Split을 위한 디렉토리 생성\n",
    "# train_dir = \"data/generated_dataset/train_new\"\n",
    "# test_dir = \"data/generated_dataset/test_new\"\n",
    "# os.makedirs(train_dir, exist_ok=True)\n",
    "# os.makedirs(test_dir, exist_ok=True)\n",
    "\n",
    "# train_fake_dir = os.path.join(train_dir, \"fake\")\n",
    "# test_fake_dir = os.path.join(test_dir, \"fake\")\n",
    "# train_real_dir = os.path.join(train_dir, \"real\")\n",
    "# test_real_dir = os.path.join(test_dir, \"real\")\n",
    "\n",
    "# os.makedirs(train_fake_dir, exist_ok=True)\n",
    "# os.makedirs(test_fake_dir, exist_ok=True)\n",
    "# os.makedirs(train_real_dir, exist_ok=True)\n",
    "# os.makedirs(test_real_dir, exist_ok=True)\n",
    "\n",
    "# # 이미지 파일 리스트 가져오기\n",
    "# fake_files = [os.path.join(fake_dir, f) for f in os.listdir(fake_dir) if os.path.isfile(os.path.join(fake_dir, f))]\n",
    "# real_files = [os.path.join(real_dir, f) for f in os.listdir(real_dir) if os.path.isfile(os.path.join(real_dir, f))]\n",
    "\n",
    "# # train-test split (80% train, 20% test)\n",
    "# fake_train, fake_test = train_test_split(fake_files, test_size=0.2, random_state=42)\n",
    "# real_train, real_test = train_test_split(real_files, test_size=0.2, random_state=42)\n",
    "\n",
    "# # 파일 이동\n",
    "# for file in fake_train:\n",
    "#     shutil.copy(file, train_fake_dir)\n",
    "# for file in fake_test:\n",
    "#     shutil.copy(file, test_fake_dir)\n",
    "# for file in real_train:\n",
    "#     shutil.copy(file, train_real_dir)\n",
    "# for file in real_test:\n",
    "#     shutil.copy(file, test_real_dir)\n",
    "\n",
    "# print(\"데이터셋 분할 완료!\")\n"
   ]
  },
  {
   "cell_type": "code",
   "execution_count": null,
   "metadata": {
    "id": "c2qeVUPd5fiI"
   },
   "outputs": [],
   "source": [
    "# from PIL import Image\n",
    "# import os\n",
    "\n",
    "# MAX_PIXELS = 178956970  # 허용되는 최대 픽셀 크기 (Pillow 기본값)\n",
    "# VALID_EXTENSIONS = {\".jpg\", \".jpeg\", \".png\"}\n",
    "# def remove_invalid_images(directory):\n",
    "#     for root, _, files in os.walk(directory):\n",
    "#         for file in files:\n",
    "#             file_path = os.path.join(root, file)\n",
    "#             if not any(file.lower().endswith(ext) for ext in VALID_EXTENSIONS):\n",
    "#                 continue  # 유효한 확장자가 아니면 건너뜀\n",
    "#             try:\n",
    "#                 img = Image.open(file_path)\n",
    "#                 img.verify()  # 손상 여부 확인\n",
    "#                 if img.size[0] * img.size[1] > MAX_PIXELS:\n",
    "#                     print(f\"Removing oversized image: {file_path}\")\n",
    "#                     os.remove(file_path)\n",
    "#             except (IOError, SyntaxError, Image.DecompressionBombError):\n",
    "#                 print(f\"Removing invalid image: {file_path}\")\n",
    "#                 os.remove(file_path)\n",
    "\n",
    "# remove_invalid_images(train_dir)\n",
    "# remove_invalid_images(test_dir)"
   ]
  },
  {
   "cell_type": "code",
   "execution_count": 50,
   "metadata": {
    "colab": {
     "base_uri": "https://localhost:8080/"
    },
    "executionInfo": {
     "elapsed": 278,
     "status": "ok",
     "timestamp": 1739769130520,
     "user": {
      "displayName": "이하은",
      "userId": "06607701604719915973"
     },
     "user_tz": -540
    },
    "id": "ZEJ80mM-Jguv",
    "outputId": "588e7ea9-21e2-419e-b782-8c44273275e6"
   },
   "outputs": [
    {
     "name": "stdout",
     "output_type": "stream",
     "text": [
      "280 140 70 35\n",
      "Fake: 350, Real: 175\n"
     ]
    }
   ],
   "source": [
    "import os\n",
    "\n",
    "train_fake_dir = os.path.join(train_dir, \"fake\")\n",
    "train_real_dir = os.path.join(train_dir, \"real\")\n",
    "test_fake_dir = os.path.join(test_dir, \"fake\")\n",
    "test_real_dir = os.path.join(test_dir, \"real\")\n",
    "\n",
    "train_fake_count = len(os.listdir(train_fake_dir)) if os.path.exists(train_fake_dir) else 0\n",
    "train_real_count = len(os.listdir(train_real_dir)) if os.path.exists(train_real_dir) else 0\n",
    "test_fake_count = len(os.listdir(test_fake_dir)) if os.path.exists(test_fake_dir) else 0\n",
    "test_real_count = len(os.listdir(test_real_dir)) if os.path.exists(test_real_dir) else 0\n",
    "\n",
    "print(train_fake_count,train_real_count,test_fake_count,test_real_count )\n",
    "print(f\"Fake: {train_fake_count + test_fake_count}, Real: {train_real_count + test_real_count}\")\n"
   ]
  },
  {
   "cell_type": "markdown",
   "metadata": {},
   "source": [
    "### 학습"
   ]
  },
  {
   "cell_type": "code",
   "execution_count": 4,
   "metadata": {
    "colab": {
     "base_uri": "https://localhost:8080/"
    },
    "executionInfo": {
     "elapsed": 1316,
     "status": "ok",
     "timestamp": 1739768778725,
     "user": {
      "displayName": "이하은",
      "userId": "06607701604719915973"
     },
     "user_tz": -540
    },
    "id": "pdUAoptDSazp",
    "outputId": "48d93bac-4821-4dc1-d011-e8bcd24acf9a"
   },
   "outputs": [
    {
     "name": "stderr",
     "output_type": "stream",
     "text": [
      "2025-02-27 23:54:20.300653: I tensorflow/core/common_runtime/gpu/gpu_device.cc:2021] Created device /job:localhost/replica:0/task:0/device:GPU:0 with 22495 MB memory:  -> device: 0, name: NVIDIA RTX A5000, pci bus id: 0000:01:00.0, compute capability: 8.6\n",
      "2025-02-27 23:54:20.302012: I tensorflow/core/common_runtime/gpu/gpu_device.cc:2021] Created device /job:localhost/replica:0/task:0/device:GPU:1 with 22495 MB memory:  -> device: 1, name: NVIDIA RTX A5000, pci bus id: 0000:21:00.0, compute capability: 8.6\n",
      "2025-02-27 23:54:20.303176: I tensorflow/core/common_runtime/gpu/gpu_device.cc:2021] Created device /job:localhost/replica:0/task:0/device:GPU:2 with 22495 MB memory:  -> device: 2, name: NVIDIA RTX A5000, pci bus id: 0000:41:00.0, compute capability: 8.6\n",
      "2025-02-27 23:54:20.304278: I tensorflow/core/common_runtime/gpu/gpu_device.cc:2021] Created device /job:localhost/replica:0/task:0/device:GPU:3 with 22495 MB memory:  -> device: 3, name: NVIDIA RTX A5000, pci bus id: 0000:61:00.0, compute capability: 8.6\n",
      "2025-02-27 23:54:20.305275: I tensorflow/core/common_runtime/gpu/gpu_device.cc:2021] Created device /job:localhost/replica:0/task:0/device:GPU:4 with 22495 MB memory:  -> device: 4, name: NVIDIA RTX A5000, pci bus id: 0000:81:00.0, compute capability: 8.6\n",
      "2025-02-27 23:54:20.306289: I tensorflow/core/common_runtime/gpu/gpu_device.cc:2021] Created device /job:localhost/replica:0/task:0/device:GPU:5 with 22495 MB memory:  -> device: 5, name: NVIDIA RTX A5000, pci bus id: 0000:a1:00.0, compute capability: 8.6\n",
      "2025-02-27 23:54:20.307294: I tensorflow/core/common_runtime/gpu/gpu_device.cc:2021] Created device /job:localhost/replica:0/task:0/device:GPU:6 with 22495 MB memory:  -> device: 6, name: NVIDIA RTX A5000, pci bus id: 0000:c1:00.0, compute capability: 8.6\n",
      "2025-02-27 23:54:20.308259: I tensorflow/core/common_runtime/gpu/gpu_device.cc:2021] Created device /job:localhost/replica:0/task:0/device:GPU:7 with 22495 MB memory:  -> device: 7, name: NVIDIA RTX A5000, pci bus id: 0000:e1:00.0, compute capability: 8.6\n",
      "WARNING:absl:Compiled the loaded model, but the compiled metrics have yet to be built. `model.compile_metrics` will be empty until you train or evaluate the model.\n"
     ]
    }
   ],
   "source": [
    "#저장된 EfficientNetB6 모델 로드\n",
    "model_path = \"model/model_v7.h5\"\n",
    "model = load_model(model_path)"
   ]
  },
  {
   "cell_type": "markdown",
   "metadata": {
    "id": "bH396jDqOtaV"
   },
   "source": []
  },
  {
   "cell_type": "code",
   "execution_count": 5,
   "metadata": {
    "id": "DVbTwxcMzyS_"
   },
   "outputs": [],
   "source": [
    "#하이퍼파라미터 설정\n",
    "CONFIGURATION = {\n",
    "    \"BATCH_SIZE\": 4,\n",
    "    \"IM_SIZE\": 528,  # EfficientNetB6의 입력 크기\n",
    "    \"LEARNING_RATE\": 1e-4,\n",
    "    \"N_EPOCHS\": 10,\n",
    "    \"DROPOUT_RATE\": 0.2,\n",
    "    \"REGULARIZATION_RATE\": 0.001,\n",
    "    \"N_DENSE_1\": 1024,\n",
    "    \"CLASS_NAMES\": [\"fake\", \"real\"]\n",
    "}\n",
    "\n",
    "n = 1\n",
    "for layer in model.layers[:-n]:\n",
    "    layer.trainable = False\n",
    "for layer in model.layers[-n:]:\n",
    "    layer.trainable = True"
   ]
  },
  {
   "cell_type": "code",
   "execution_count": 6,
   "metadata": {
    "colab": {
     "base_uri": "https://localhost:8080/",
     "height": 827
    },
    "executionInfo": {
     "elapsed": 223952,
     "status": "ok",
     "timestamp": 1739766780043,
     "user": {
      "displayName": "이하은",
      "userId": "06607701604719915973"
     },
     "user_tz": -540
    },
    "id": "cV4FGHa9vxLn",
    "outputId": "3b277583-c0f8-4648-ab88-70f8d4e31371"
   },
   "outputs": [
    {
     "name": "stdout",
     "output_type": "stream",
     "text": [
      "Found 415 images belonging to 2 classes.\n",
      "Found 105 images belonging to 2 classes.\n"
     ]
    },
    {
     "name": "stderr",
     "output_type": "stream",
     "text": [
      "/home/jangminoh_2/miniconda3/envs/ml-ops/lib/python3.12/site-packages/keras/src/trainers/data_adapters/py_dataset_adapter.py:121: UserWarning: Your `PyDataset` class should call `super().__init__(**kwargs)` in its constructor. `**kwargs` can include `workers`, `use_multiprocessing`, `max_queue_size`. Do not pass these arguments to `fit()`, as they will be ignored.\n",
      "  self._warn_if_super_not_called()\n"
     ]
    },
    {
     "name": "stdout",
     "output_type": "stream",
     "text": [
      "Epoch 1/10\n"
     ]
    },
    {
     "name": "stderr",
     "output_type": "stream",
     "text": [
      "WARNING: All log messages before absl::InitializeLog() is called are written to STDERR\n",
      "I0000 00:00:1740668078.358736  706812 service.cc:146] XLA service 0x7ed8240c91f0 initialized for platform CUDA (this does not guarantee that XLA will be used). Devices:\n",
      "I0000 00:00:1740668078.358777  706812 service.cc:154]   StreamExecutor device (0): NVIDIA RTX A5000, Compute Capability 8.6\n",
      "I0000 00:00:1740668078.358781  706812 service.cc:154]   StreamExecutor device (1): NVIDIA RTX A5000, Compute Capability 8.6\n",
      "I0000 00:00:1740668078.358785  706812 service.cc:154]   StreamExecutor device (2): NVIDIA RTX A5000, Compute Capability 8.6\n",
      "I0000 00:00:1740668078.358789  706812 service.cc:154]   StreamExecutor device (3): NVIDIA RTX A5000, Compute Capability 8.6\n",
      "I0000 00:00:1740668078.358794  706812 service.cc:154]   StreamExecutor device (4): NVIDIA RTX A5000, Compute Capability 8.6\n",
      "I0000 00:00:1740668078.358804  706812 service.cc:154]   StreamExecutor device (5): NVIDIA RTX A5000, Compute Capability 8.6\n",
      "I0000 00:00:1740668078.358809  706812 service.cc:154]   StreamExecutor device (6): NVIDIA RTX A5000, Compute Capability 8.6\n",
      "I0000 00:00:1740668078.358812  706812 service.cc:154]   StreamExecutor device (7): NVIDIA RTX A5000, Compute Capability 8.6\n",
      "2025-02-27 23:54:38.877243: I tensorflow/compiler/mlir/tensorflow/utils/dump_mlir_util.cc:268] disabling MLIR crash reproducer, set env var `MLIR_CRASH_REPRODUCER_DIRECTORY` to enable.\n",
      "2025-02-27 23:54:41.773904: I external/local_xla/xla/stream_executor/cuda/cuda_dnn.cc:531] Loaded cuDNN version 8907\n"
     ]
    },
    {
     "name": "stdout",
     "output_type": "stream",
     "text": [
      "\u001b[1m  2/104\u001b[0m \u001b[37m━━━━━━━━━━━━━━━━━━━━\u001b[0m \u001b[1m5s\u001b[0m 56ms/step - accuracy: 0.5625 - loss: 1.0335    "
     ]
    },
    {
     "name": "stderr",
     "output_type": "stream",
     "text": [
      "I0000 00:00:1740668104.195077  706812 device_compiler.h:188] Compiled cluster using XLA!  This line is logged at most once for the lifetime of the process.\n"
     ]
    },
    {
     "name": "stdout",
     "output_type": "stream",
     "text": [
      "\u001b[1m104/104\u001b[0m \u001b[32m━━━━━━━━━━━━━━━━━━━━\u001b[0m\u001b[37m\u001b[0m \u001b[1m0s\u001b[0m 390ms/step - accuracy: 0.5844 - loss: 0.9543"
     ]
    },
    {
     "name": "stderr",
     "output_type": "stream",
     "text": [
      "2025-02-27 23:55:58.861923: I external/local_xla/xla/stream_executor/cuda/cuda_asm_compiler.cc:393] ptxas warning : Registers are spilled to local memory in function 'gemm_fusion_dot_2', 36 bytes spill stores, 36 bytes spill loads\n",
      "\n"
     ]
    },
    {
     "name": "stdout",
     "output_type": "stream",
     "text": [
      "\u001b[1m104/104\u001b[0m \u001b[32m━━━━━━━━━━━━━━━━━━━━\u001b[0m\u001b[37m\u001b[0m \u001b[1m104s\u001b[0m 617ms/step - accuracy: 0.5846 - loss: 0.9538 - val_accuracy: 0.5524 - val_loss: 1.0071\n",
      "Epoch 2/10\n",
      "\u001b[1m104/104\u001b[0m \u001b[32m━━━━━━━━━━━━━━━━━━━━\u001b[0m\u001b[37m\u001b[0m \u001b[1m19s\u001b[0m 183ms/step - accuracy: 0.5845 - loss: 0.9364 - val_accuracy: 0.5619 - val_loss: 0.9762\n",
      "Epoch 3/10\n",
      "\u001b[1m104/104\u001b[0m \u001b[32m━━━━━━━━━━━━━━━━━━━━\u001b[0m\u001b[37m\u001b[0m \u001b[1m20s\u001b[0m 187ms/step - accuracy: 0.5908 - loss: 0.8363 - val_accuracy: 0.5524 - val_loss: 0.9489\n",
      "Epoch 4/10\n",
      "\u001b[1m104/104\u001b[0m \u001b[32m━━━━━━━━━━━━━━━━━━━━\u001b[0m\u001b[37m\u001b[0m \u001b[1m19s\u001b[0m 180ms/step - accuracy: 0.6107 - loss: 0.8629 - val_accuracy: 0.5429 - val_loss: 0.9210\n",
      "Epoch 5/10\n",
      "\u001b[1m104/104\u001b[0m \u001b[32m━━━━━━━━━━━━━━━━━━━━\u001b[0m\u001b[37m\u001b[0m \u001b[1m19s\u001b[0m 182ms/step - accuracy: 0.6175 - loss: 0.8876 - val_accuracy: 0.5333 - val_loss: 0.8967\n",
      "Epoch 6/10\n",
      "\u001b[1m104/104\u001b[0m \u001b[32m━━━━━━━━━━━━━━━━━━━━\u001b[0m\u001b[37m\u001b[0m \u001b[1m19s\u001b[0m 183ms/step - accuracy: 0.5881 - loss: 0.8786 - val_accuracy: 0.5333 - val_loss: 0.8718\n",
      "Epoch 7/10\n",
      "\u001b[1m104/104\u001b[0m \u001b[32m━━━━━━━━━━━━━━━━━━━━\u001b[0m\u001b[37m\u001b[0m \u001b[1m19s\u001b[0m 184ms/step - accuracy: 0.5711 - loss: 0.9040 - val_accuracy: 0.5333 - val_loss: 0.8488\n",
      "Epoch 8/10\n",
      "\u001b[1m104/104\u001b[0m \u001b[32m━━━━━━━━━━━━━━━━━━━━\u001b[0m\u001b[37m\u001b[0m \u001b[1m19s\u001b[0m 183ms/step - accuracy: 0.6295 - loss: 0.8034 - val_accuracy: 0.5333 - val_loss: 0.8300\n",
      "Epoch 9/10\n",
      "\u001b[1m104/104\u001b[0m \u001b[32m━━━━━━━━━━━━━━━━━━━━\u001b[0m\u001b[37m\u001b[0m \u001b[1m19s\u001b[0m 185ms/step - accuracy: 0.6163 - loss: 0.7191 - val_accuracy: 0.5333 - val_loss: 0.8118\n",
      "Epoch 10/10\n",
      "\u001b[1m104/104\u001b[0m \u001b[32m━━━━━━━━━━━━━━━━━━━━\u001b[0m\u001b[37m\u001b[0m \u001b[1m19s\u001b[0m 184ms/step - accuracy: 0.6511 - loss: 0.6744 - val_accuracy: 0.5238 - val_loss: 0.7947\n"
     ]
    },
    {
     "data": {
      "image/png": "[encoded data removed]",
      "text/plain": [
       "<Figure size 1000x600 with 1 Axes>"
      ]
     },
     "metadata": {},
     "output_type": "display_data"
    }
   ],
   "source": [
    "#데이터 증강 및 로드\n",
    "train_datagen = tf.keras.preprocessing.image.ImageDataGenerator(\n",
    "    preprocessing_function=tf.keras.applications.efficientnet.preprocess_input,  # EfficientNet용 전처리\n",
    "    width_shift_range=0.2,\n",
    "    height_shift_range=0.2,\n",
    "    shear_range=0.2,\n",
    "    zoom_range=0.1,\n",
    "    fill_mode='reflect',\n",
    "    rotation_range=30\n",
    ")\n",
    "\n",
    "val_datagen = tf.keras.preprocessing.image.ImageDataGenerator( preprocessing_function=tf.keras.applications.efficientnet.preprocess_input,)\n",
    "\n",
    "train_dataset = train_datagen.flow_from_directory(\n",
    "    train_dir,\n",
    "    target_size=(CONFIGURATION[\"IM_SIZE\"], CONFIGURATION[\"IM_SIZE\"]),\n",
    "    batch_size=CONFIGURATION[\"BATCH_SIZE\"],\n",
    "    class_mode='binary'\n",
    ")\n",
    "val_dataset = val_datagen.flow_from_directory(\n",
    "    test_dir,\n",
    "    target_size=(CONFIGURATION[\"IM_SIZE\"], CONFIGURATION[\"IM_SIZE\"]),\n",
    "    batch_size=CONFIGURATION[\"BATCH_SIZE\"],\n",
    "    class_mode='binary',\n",
    "    shuffle=False,\n",
    "    seed = 99\n",
    ")\n",
    "\n",
    "#모델 컴파일\n",
    "model.compile(optimizer=Adam(learning_rate=CONFIGURATION[\"LEARNING_RATE\"]),\n",
    "              loss='binary_crossentropy',\n",
    "              metrics=['accuracy'])\n",
    "\n",
    "#early_stopping = EarlyStopping(monitor='val_accuracy', patience=3, restore_best_weights=True)\n",
    "early_stopping = EarlyStopping(monitor='loss', patience=5, restore_best_weights=True)\n",
    "\n",
    "#모델 학습\n",
    "history = model.fit(\n",
    "    train_dataset,\n",
    "    validation_data=val_dataset,\n",
    "    epochs=CONFIGURATION[\"N_EPOCHS\"],\n",
    "    callbacks=[early_stopping],\n",
    "    verbose=1\n",
    ")\n",
    "\n",
    "#학습 과정 시각화\n",
    "plt.figure(figsize=(10, 6))\n",
    "plt.plot(history.history['loss'], label='Train Loss')\n",
    "plt.plot(history.history['val_loss'], label='Validation Loss')\n",
    "plt.title('Model Loss')\n",
    "plt.xlabel('Epochs')\n",
    "plt.ylabel('Loss')\n",
    "plt.legend()\n",
    "plt.show()"
   ]
  },
  {
   "cell_type": "code",
   "execution_count": null,
   "metadata": {
    "id": "b5jVtfYVYxMF"
   },
   "outputs": [
    {
     "name": "stderr",
     "output_type": "stream",
     "text": [
      "WARNING:absl:The `save_format` argument is deprecated in Keras 3. We recommend removing this argument as it can be inferred from the file path. Received: save_format=h5\n",
      "WARNING:absl:You are saving your model as an HDF5 file via `model.save()` or `keras.saving.save_model(model)`. This file format is considered legacy. We recommend using instead the native Keras format, e.g. `model.save('my_model.keras')` or `keras.saving.save_model(model, 'my_model.keras')`. \n"
     ]
    },
    {
     "ename": "TypeError",
     "evalue": "cannot pickle 'module' object",
     "output_type": "error",
     "traceback": [
      "\u001b[0;31m---------------------------------------------------------------------------\u001b[0m",
      "\u001b[0;31mTypeError\u001b[0m                                 Traceback (most recent call last)",
      "Cell \u001b[0;32mIn[7], line 5\u001b[0m\n\u001b[1;32m      2\u001b[0m \u001b[38;5;28;01mimport\u001b[39;00m\u001b[38;5;250m \u001b[39m\u001b[38;5;21;01mtensorflow\u001b[39;00m\u001b[38;5;250m \u001b[39m\u001b[38;5;28;01mas\u001b[39;00m\u001b[38;5;250m \u001b[39m\u001b[38;5;21;01mtf\u001b[39;00m\n\u001b[1;32m      4\u001b[0m \u001b[38;5;66;03m#model.save(\"model/final_model_v7.keras\")  # 최신 Keras 형식 사용\u001b[39;00m\n\u001b[0;32m----> 5\u001b[0m \u001b[43mmodel\u001b[49m\u001b[38;5;241;43m.\u001b[39;49m\u001b[43msave\u001b[49m\u001b[43m(\u001b[49m\u001b[38;5;124;43m\"\u001b[39;49m\u001b[38;5;124;43mmodel/final_model_v7.h5\u001b[39;49m\u001b[38;5;124;43m\"\u001b[39;49m\u001b[43m,\u001b[49m\u001b[43m \u001b[49m\u001b[43msave_format\u001b[49m\u001b[38;5;241;43m=\u001b[39;49m\u001b[38;5;124;43m\"\u001b[39;49m\u001b[38;5;124;43mh5\u001b[39;49m\u001b[38;5;124;43m\"\u001b[39;49m\u001b[43m)\u001b[49m\n",
      "File \u001b[0;32m~/miniconda3/envs/ml-ops/lib/python3.12/site-packages/keras/src/utils/traceback_utils.py:122\u001b[0m, in \u001b[0;36mfilter_traceback.<locals>.error_handler\u001b[0;34m(*args, **kwargs)\u001b[0m\n\u001b[1;32m    119\u001b[0m     filtered_tb \u001b[38;5;241m=\u001b[39m _process_traceback_frames(e\u001b[38;5;241m.\u001b[39m__traceback__)\n\u001b[1;32m    120\u001b[0m     \u001b[38;5;66;03m# To get the full stack trace, call:\u001b[39;00m\n\u001b[1;32m    121\u001b[0m     \u001b[38;5;66;03m# `keras.config.disable_traceback_filtering()`\u001b[39;00m\n\u001b[0;32m--> 122\u001b[0m     \u001b[38;5;28;01mraise\u001b[39;00m e\u001b[38;5;241m.\u001b[39mwith_traceback(filtered_tb) \u001b[38;5;28;01mfrom\u001b[39;00m\u001b[38;5;250m \u001b[39m\u001b[38;5;28;01mNone\u001b[39;00m\n\u001b[1;32m    123\u001b[0m \u001b[38;5;28;01mfinally\u001b[39;00m:\n\u001b[1;32m    124\u001b[0m     \u001b[38;5;28;01mdel\u001b[39;00m filtered_tb\n",
      "File \u001b[0;32m~/miniconda3/envs/ml-ops/lib/python3.12/copy.py:136\u001b[0m, in \u001b[0;36mdeepcopy\u001b[0;34m(x, memo, _nil)\u001b[0m\n\u001b[1;32m    134\u001b[0m copier \u001b[38;5;241m=\u001b[39m _deepcopy_dispatch\u001b[38;5;241m.\u001b[39mget(\u001b[38;5;28mcls\u001b[39m)\n\u001b[1;32m    135\u001b[0m \u001b[38;5;28;01mif\u001b[39;00m copier \u001b[38;5;129;01mis\u001b[39;00m \u001b[38;5;129;01mnot\u001b[39;00m \u001b[38;5;28;01mNone\u001b[39;00m:\n\u001b[0;32m--> 136\u001b[0m     y \u001b[38;5;241m=\u001b[39m \u001b[43mcopier\u001b[49m\u001b[43m(\u001b[49m\u001b[43mx\u001b[49m\u001b[43m,\u001b[49m\u001b[43m \u001b[49m\u001b[43mmemo\u001b[49m\u001b[43m)\u001b[49m\n\u001b[1;32m    137\u001b[0m \u001b[38;5;28;01melse\u001b[39;00m:\n\u001b[1;32m    138\u001b[0m     \u001b[38;5;28;01mif\u001b[39;00m \u001b[38;5;28missubclass\u001b[39m(\u001b[38;5;28mcls\u001b[39m, \u001b[38;5;28mtype\u001b[39m):\n",
      "File \u001b[0;32m~/miniconda3/envs/ml-ops/lib/python3.12/copy.py:221\u001b[0m, in \u001b[0;36m_deepcopy_dict\u001b[0;34m(x, memo, deepcopy)\u001b[0m\n\u001b[1;32m    219\u001b[0m memo[\u001b[38;5;28mid\u001b[39m(x)] \u001b[38;5;241m=\u001b[39m y\n\u001b[1;32m    220\u001b[0m \u001b[38;5;28;01mfor\u001b[39;00m key, value \u001b[38;5;129;01min\u001b[39;00m x\u001b[38;5;241m.\u001b[39mitems():\n\u001b[0;32m--> 221\u001b[0m     y[deepcopy(key, memo)] \u001b[38;5;241m=\u001b[39m \u001b[43mdeepcopy\u001b[49m\u001b[43m(\u001b[49m\u001b[43mvalue\u001b[49m\u001b[43m,\u001b[49m\u001b[43m \u001b[49m\u001b[43mmemo\u001b[49m\u001b[43m)\u001b[49m\n\u001b[1;32m    222\u001b[0m \u001b[38;5;28;01mreturn\u001b[39;00m y\n",
      "File \u001b[0;32m~/miniconda3/envs/ml-ops/lib/python3.12/copy.py:136\u001b[0m, in \u001b[0;36mdeepcopy\u001b[0;34m(x, memo, _nil)\u001b[0m\n\u001b[1;32m    134\u001b[0m copier \u001b[38;5;241m=\u001b[39m _deepcopy_dispatch\u001b[38;5;241m.\u001b[39mget(\u001b[38;5;28mcls\u001b[39m)\n\u001b[1;32m    135\u001b[0m \u001b[38;5;28;01mif\u001b[39;00m copier \u001b[38;5;129;01mis\u001b[39;00m \u001b[38;5;129;01mnot\u001b[39;00m \u001b[38;5;28;01mNone\u001b[39;00m:\n\u001b[0;32m--> 136\u001b[0m     y \u001b[38;5;241m=\u001b[39m \u001b[43mcopier\u001b[49m\u001b[43m(\u001b[49m\u001b[43mx\u001b[49m\u001b[43m,\u001b[49m\u001b[43m \u001b[49m\u001b[43mmemo\u001b[49m\u001b[43m)\u001b[49m\n\u001b[1;32m    137\u001b[0m \u001b[38;5;28;01melse\u001b[39;00m:\n\u001b[1;32m    138\u001b[0m     \u001b[38;5;28;01mif\u001b[39;00m \u001b[38;5;28missubclass\u001b[39m(\u001b[38;5;28mcls\u001b[39m, \u001b[38;5;28mtype\u001b[39m):\n",
      "File \u001b[0;32m~/miniconda3/envs/ml-ops/lib/python3.12/copy.py:196\u001b[0m, in \u001b[0;36m_deepcopy_list\u001b[0;34m(x, memo, deepcopy)\u001b[0m\n\u001b[1;32m    194\u001b[0m append \u001b[38;5;241m=\u001b[39m y\u001b[38;5;241m.\u001b[39mappend\n\u001b[1;32m    195\u001b[0m \u001b[38;5;28;01mfor\u001b[39;00m a \u001b[38;5;129;01min\u001b[39;00m x:\n\u001b[0;32m--> 196\u001b[0m     append(\u001b[43mdeepcopy\u001b[49m\u001b[43m(\u001b[49m\u001b[43ma\u001b[49m\u001b[43m,\u001b[49m\u001b[43m \u001b[49m\u001b[43mmemo\u001b[49m\u001b[43m)\u001b[49m)\n\u001b[1;32m    197\u001b[0m \u001b[38;5;28;01mreturn\u001b[39;00m y\n",
      "File \u001b[0;32m~/miniconda3/envs/ml-ops/lib/python3.12/copy.py:136\u001b[0m, in \u001b[0;36mdeepcopy\u001b[0;34m(x, memo, _nil)\u001b[0m\n\u001b[1;32m    134\u001b[0m copier \u001b[38;5;241m=\u001b[39m _deepcopy_dispatch\u001b[38;5;241m.\u001b[39mget(\u001b[38;5;28mcls\u001b[39m)\n\u001b[1;32m    135\u001b[0m \u001b[38;5;28;01mif\u001b[39;00m copier \u001b[38;5;129;01mis\u001b[39;00m \u001b[38;5;129;01mnot\u001b[39;00m \u001b[38;5;28;01mNone\u001b[39;00m:\n\u001b[0;32m--> 136\u001b[0m     y \u001b[38;5;241m=\u001b[39m \u001b[43mcopier\u001b[49m\u001b[43m(\u001b[49m\u001b[43mx\u001b[49m\u001b[43m,\u001b[49m\u001b[43m \u001b[49m\u001b[43mmemo\u001b[49m\u001b[43m)\u001b[49m\n\u001b[1;32m    137\u001b[0m \u001b[38;5;28;01melse\u001b[39;00m:\n\u001b[1;32m    138\u001b[0m     \u001b[38;5;28;01mif\u001b[39;00m \u001b[38;5;28missubclass\u001b[39m(\u001b[38;5;28mcls\u001b[39m, \u001b[38;5;28mtype\u001b[39m):\n",
      "File \u001b[0;32m~/miniconda3/envs/ml-ops/lib/python3.12/copy.py:221\u001b[0m, in \u001b[0;36m_deepcopy_dict\u001b[0;34m(x, memo, deepcopy)\u001b[0m\n\u001b[1;32m    219\u001b[0m memo[\u001b[38;5;28mid\u001b[39m(x)] \u001b[38;5;241m=\u001b[39m y\n\u001b[1;32m    220\u001b[0m \u001b[38;5;28;01mfor\u001b[39;00m key, value \u001b[38;5;129;01min\u001b[39;00m x\u001b[38;5;241m.\u001b[39mitems():\n\u001b[0;32m--> 221\u001b[0m     y[deepcopy(key, memo)] \u001b[38;5;241m=\u001b[39m \u001b[43mdeepcopy\u001b[49m\u001b[43m(\u001b[49m\u001b[43mvalue\u001b[49m\u001b[43m,\u001b[49m\u001b[43m \u001b[49m\u001b[43mmemo\u001b[49m\u001b[43m)\u001b[49m\n\u001b[1;32m    222\u001b[0m \u001b[38;5;28;01mreturn\u001b[39;00m y\n",
      "File \u001b[0;32m~/miniconda3/envs/ml-ops/lib/python3.12/copy.py:136\u001b[0m, in \u001b[0;36mdeepcopy\u001b[0;34m(x, memo, _nil)\u001b[0m\n\u001b[1;32m    134\u001b[0m copier \u001b[38;5;241m=\u001b[39m _deepcopy_dispatch\u001b[38;5;241m.\u001b[39mget(\u001b[38;5;28mcls\u001b[39m)\n\u001b[1;32m    135\u001b[0m \u001b[38;5;28;01mif\u001b[39;00m copier \u001b[38;5;129;01mis\u001b[39;00m \u001b[38;5;129;01mnot\u001b[39;00m \u001b[38;5;28;01mNone\u001b[39;00m:\n\u001b[0;32m--> 136\u001b[0m     y \u001b[38;5;241m=\u001b[39m \u001b[43mcopier\u001b[49m\u001b[43m(\u001b[49m\u001b[43mx\u001b[49m\u001b[43m,\u001b[49m\u001b[43m \u001b[49m\u001b[43mmemo\u001b[49m\u001b[43m)\u001b[49m\n\u001b[1;32m    137\u001b[0m \u001b[38;5;28;01melse\u001b[39;00m:\n\u001b[1;32m    138\u001b[0m     \u001b[38;5;28;01mif\u001b[39;00m \u001b[38;5;28missubclass\u001b[39m(\u001b[38;5;28mcls\u001b[39m, \u001b[38;5;28mtype\u001b[39m):\n",
      "File \u001b[0;32m~/miniconda3/envs/ml-ops/lib/python3.12/copy.py:221\u001b[0m, in \u001b[0;36m_deepcopy_dict\u001b[0;34m(x, memo, deepcopy)\u001b[0m\n\u001b[1;32m    219\u001b[0m memo[\u001b[38;5;28mid\u001b[39m(x)] \u001b[38;5;241m=\u001b[39m y\n\u001b[1;32m    220\u001b[0m \u001b[38;5;28;01mfor\u001b[39;00m key, value \u001b[38;5;129;01min\u001b[39;00m x\u001b[38;5;241m.\u001b[39mitems():\n\u001b[0;32m--> 221\u001b[0m     y[deepcopy(key, memo)] \u001b[38;5;241m=\u001b[39m \u001b[43mdeepcopy\u001b[49m\u001b[43m(\u001b[49m\u001b[43mvalue\u001b[49m\u001b[43m,\u001b[49m\u001b[43m \u001b[49m\u001b[43mmemo\u001b[49m\u001b[43m)\u001b[49m\n\u001b[1;32m    222\u001b[0m \u001b[38;5;28;01mreturn\u001b[39;00m y\n",
      "File \u001b[0;32m~/miniconda3/envs/ml-ops/lib/python3.12/copy.py:162\u001b[0m, in \u001b[0;36mdeepcopy\u001b[0;34m(x, memo, _nil)\u001b[0m\n\u001b[1;32m    160\u001b[0m                 y \u001b[38;5;241m=\u001b[39m x\n\u001b[1;32m    161\u001b[0m             \u001b[38;5;28;01melse\u001b[39;00m:\n\u001b[0;32m--> 162\u001b[0m                 y \u001b[38;5;241m=\u001b[39m \u001b[43m_reconstruct\u001b[49m\u001b[43m(\u001b[49m\u001b[43mx\u001b[49m\u001b[43m,\u001b[49m\u001b[43m \u001b[49m\u001b[43mmemo\u001b[49m\u001b[43m,\u001b[49m\u001b[43m \u001b[49m\u001b[38;5;241;43m*\u001b[39;49m\u001b[43mrv\u001b[49m\u001b[43m)\u001b[49m\n\u001b[1;32m    164\u001b[0m \u001b[38;5;66;03m# If is its own copy, don't memoize.\u001b[39;00m\n\u001b[1;32m    165\u001b[0m \u001b[38;5;28;01mif\u001b[39;00m y \u001b[38;5;129;01mis\u001b[39;00m \u001b[38;5;129;01mnot\u001b[39;00m x:\n",
      "File \u001b[0;32m~/miniconda3/envs/ml-ops/lib/python3.12/copy.py:259\u001b[0m, in \u001b[0;36m_reconstruct\u001b[0;34m(x, memo, func, args, state, listiter, dictiter, deepcopy)\u001b[0m\n\u001b[1;32m    257\u001b[0m \u001b[38;5;28;01mif\u001b[39;00m state \u001b[38;5;129;01mis\u001b[39;00m \u001b[38;5;129;01mnot\u001b[39;00m \u001b[38;5;28;01mNone\u001b[39;00m:\n\u001b[1;32m    258\u001b[0m     \u001b[38;5;28;01mif\u001b[39;00m deep:\n\u001b[0;32m--> 259\u001b[0m         state \u001b[38;5;241m=\u001b[39m \u001b[43mdeepcopy\u001b[49m\u001b[43m(\u001b[49m\u001b[43mstate\u001b[49m\u001b[43m,\u001b[49m\u001b[43m \u001b[49m\u001b[43mmemo\u001b[49m\u001b[43m)\u001b[49m\n\u001b[1;32m    260\u001b[0m     \u001b[38;5;28;01mif\u001b[39;00m \u001b[38;5;28mhasattr\u001b[39m(y, \u001b[38;5;124m'\u001b[39m\u001b[38;5;124m__setstate__\u001b[39m\u001b[38;5;124m'\u001b[39m):\n\u001b[1;32m    261\u001b[0m         y\u001b[38;5;241m.\u001b[39m__setstate__(state)\n",
      "File \u001b[0;32m~/miniconda3/envs/ml-ops/lib/python3.12/copy.py:136\u001b[0m, in \u001b[0;36mdeepcopy\u001b[0;34m(x, memo, _nil)\u001b[0m\n\u001b[1;32m    134\u001b[0m copier \u001b[38;5;241m=\u001b[39m _deepcopy_dispatch\u001b[38;5;241m.\u001b[39mget(\u001b[38;5;28mcls\u001b[39m)\n\u001b[1;32m    135\u001b[0m \u001b[38;5;28;01mif\u001b[39;00m copier \u001b[38;5;129;01mis\u001b[39;00m \u001b[38;5;129;01mnot\u001b[39;00m \u001b[38;5;28;01mNone\u001b[39;00m:\n\u001b[0;32m--> 136\u001b[0m     y \u001b[38;5;241m=\u001b[39m \u001b[43mcopier\u001b[49m\u001b[43m(\u001b[49m\u001b[43mx\u001b[49m\u001b[43m,\u001b[49m\u001b[43m \u001b[49m\u001b[43mmemo\u001b[49m\u001b[43m)\u001b[49m\n\u001b[1;32m    137\u001b[0m \u001b[38;5;28;01melse\u001b[39;00m:\n\u001b[1;32m    138\u001b[0m     \u001b[38;5;28;01mif\u001b[39;00m \u001b[38;5;28missubclass\u001b[39m(\u001b[38;5;28mcls\u001b[39m, \u001b[38;5;28mtype\u001b[39m):\n",
      "File \u001b[0;32m~/miniconda3/envs/ml-ops/lib/python3.12/copy.py:221\u001b[0m, in \u001b[0;36m_deepcopy_dict\u001b[0;34m(x, memo, deepcopy)\u001b[0m\n\u001b[1;32m    219\u001b[0m memo[\u001b[38;5;28mid\u001b[39m(x)] \u001b[38;5;241m=\u001b[39m y\n\u001b[1;32m    220\u001b[0m \u001b[38;5;28;01mfor\u001b[39;00m key, value \u001b[38;5;129;01min\u001b[39;00m x\u001b[38;5;241m.\u001b[39mitems():\n\u001b[0;32m--> 221\u001b[0m     y[deepcopy(key, memo)] \u001b[38;5;241m=\u001b[39m \u001b[43mdeepcopy\u001b[49m\u001b[43m(\u001b[49m\u001b[43mvalue\u001b[49m\u001b[43m,\u001b[49m\u001b[43m \u001b[49m\u001b[43mmemo\u001b[49m\u001b[43m)\u001b[49m\n\u001b[1;32m    222\u001b[0m \u001b[38;5;28;01mreturn\u001b[39;00m y\n",
      "File \u001b[0;32m~/miniconda3/envs/ml-ops/lib/python3.12/copy.py:162\u001b[0m, in \u001b[0;36mdeepcopy\u001b[0;34m(x, memo, _nil)\u001b[0m\n\u001b[1;32m    160\u001b[0m                 y \u001b[38;5;241m=\u001b[39m x\n\u001b[1;32m    161\u001b[0m             \u001b[38;5;28;01melse\u001b[39;00m:\n\u001b[0;32m--> 162\u001b[0m                 y \u001b[38;5;241m=\u001b[39m \u001b[43m_reconstruct\u001b[49m\u001b[43m(\u001b[49m\u001b[43mx\u001b[49m\u001b[43m,\u001b[49m\u001b[43m \u001b[49m\u001b[43mmemo\u001b[49m\u001b[43m,\u001b[49m\u001b[43m \u001b[49m\u001b[38;5;241;43m*\u001b[39;49m\u001b[43mrv\u001b[49m\u001b[43m)\u001b[49m\n\u001b[1;32m    164\u001b[0m \u001b[38;5;66;03m# If is its own copy, don't memoize.\u001b[39;00m\n\u001b[1;32m    165\u001b[0m \u001b[38;5;28;01mif\u001b[39;00m y \u001b[38;5;129;01mis\u001b[39;00m \u001b[38;5;129;01mnot\u001b[39;00m x:\n",
      "File \u001b[0;32m~/miniconda3/envs/ml-ops/lib/python3.12/copy.py:259\u001b[0m, in \u001b[0;36m_reconstruct\u001b[0;34m(x, memo, func, args, state, listiter, dictiter, deepcopy)\u001b[0m\n\u001b[1;32m    257\u001b[0m \u001b[38;5;28;01mif\u001b[39;00m state \u001b[38;5;129;01mis\u001b[39;00m \u001b[38;5;129;01mnot\u001b[39;00m \u001b[38;5;28;01mNone\u001b[39;00m:\n\u001b[1;32m    258\u001b[0m     \u001b[38;5;28;01mif\u001b[39;00m deep:\n\u001b[0;32m--> 259\u001b[0m         state \u001b[38;5;241m=\u001b[39m \u001b[43mdeepcopy\u001b[49m\u001b[43m(\u001b[49m\u001b[43mstate\u001b[49m\u001b[43m,\u001b[49m\u001b[43m \u001b[49m\u001b[43mmemo\u001b[49m\u001b[43m)\u001b[49m\n\u001b[1;32m    260\u001b[0m     \u001b[38;5;28;01mif\u001b[39;00m \u001b[38;5;28mhasattr\u001b[39m(y, \u001b[38;5;124m'\u001b[39m\u001b[38;5;124m__setstate__\u001b[39m\u001b[38;5;124m'\u001b[39m):\n\u001b[1;32m    261\u001b[0m         y\u001b[38;5;241m.\u001b[39m__setstate__(state)\n",
      "File \u001b[0;32m~/miniconda3/envs/ml-ops/lib/python3.12/copy.py:136\u001b[0m, in \u001b[0;36mdeepcopy\u001b[0;34m(x, memo, _nil)\u001b[0m\n\u001b[1;32m    134\u001b[0m copier \u001b[38;5;241m=\u001b[39m _deepcopy_dispatch\u001b[38;5;241m.\u001b[39mget(\u001b[38;5;28mcls\u001b[39m)\n\u001b[1;32m    135\u001b[0m \u001b[38;5;28;01mif\u001b[39;00m copier \u001b[38;5;129;01mis\u001b[39;00m \u001b[38;5;129;01mnot\u001b[39;00m \u001b[38;5;28;01mNone\u001b[39;00m:\n\u001b[0;32m--> 136\u001b[0m     y \u001b[38;5;241m=\u001b[39m \u001b[43mcopier\u001b[49m\u001b[43m(\u001b[49m\u001b[43mx\u001b[49m\u001b[43m,\u001b[49m\u001b[43m \u001b[49m\u001b[43mmemo\u001b[49m\u001b[43m)\u001b[49m\n\u001b[1;32m    137\u001b[0m \u001b[38;5;28;01melse\u001b[39;00m:\n\u001b[1;32m    138\u001b[0m     \u001b[38;5;28;01mif\u001b[39;00m \u001b[38;5;28missubclass\u001b[39m(\u001b[38;5;28mcls\u001b[39m, \u001b[38;5;28mtype\u001b[39m):\n",
      "File \u001b[0;32m~/miniconda3/envs/ml-ops/lib/python3.12/copy.py:221\u001b[0m, in \u001b[0;36m_deepcopy_dict\u001b[0;34m(x, memo, deepcopy)\u001b[0m\n\u001b[1;32m    219\u001b[0m memo[\u001b[38;5;28mid\u001b[39m(x)] \u001b[38;5;241m=\u001b[39m y\n\u001b[1;32m    220\u001b[0m \u001b[38;5;28;01mfor\u001b[39;00m key, value \u001b[38;5;129;01min\u001b[39;00m x\u001b[38;5;241m.\u001b[39mitems():\n\u001b[0;32m--> 221\u001b[0m     y[deepcopy(key, memo)] \u001b[38;5;241m=\u001b[39m \u001b[43mdeepcopy\u001b[49m\u001b[43m(\u001b[49m\u001b[43mvalue\u001b[49m\u001b[43m,\u001b[49m\u001b[43m \u001b[49m\u001b[43mmemo\u001b[49m\u001b[43m)\u001b[49m\n\u001b[1;32m    222\u001b[0m \u001b[38;5;28;01mreturn\u001b[39;00m y\n",
      "File \u001b[0;32m~/miniconda3/envs/ml-ops/lib/python3.12/copy.py:136\u001b[0m, in \u001b[0;36mdeepcopy\u001b[0;34m(x, memo, _nil)\u001b[0m\n\u001b[1;32m    134\u001b[0m copier \u001b[38;5;241m=\u001b[39m _deepcopy_dispatch\u001b[38;5;241m.\u001b[39mget(\u001b[38;5;28mcls\u001b[39m)\n\u001b[1;32m    135\u001b[0m \u001b[38;5;28;01mif\u001b[39;00m copier \u001b[38;5;129;01mis\u001b[39;00m \u001b[38;5;129;01mnot\u001b[39;00m \u001b[38;5;28;01mNone\u001b[39;00m:\n\u001b[0;32m--> 136\u001b[0m     y \u001b[38;5;241m=\u001b[39m \u001b[43mcopier\u001b[49m\u001b[43m(\u001b[49m\u001b[43mx\u001b[49m\u001b[43m,\u001b[49m\u001b[43m \u001b[49m\u001b[43mmemo\u001b[49m\u001b[43m)\u001b[49m\n\u001b[1;32m    137\u001b[0m \u001b[38;5;28;01melse\u001b[39;00m:\n\u001b[1;32m    138\u001b[0m     \u001b[38;5;28;01mif\u001b[39;00m \u001b[38;5;28missubclass\u001b[39m(\u001b[38;5;28mcls\u001b[39m, \u001b[38;5;28mtype\u001b[39m):\n",
      "File \u001b[0;32m~/miniconda3/envs/ml-ops/lib/python3.12/copy.py:221\u001b[0m, in \u001b[0;36m_deepcopy_dict\u001b[0;34m(x, memo, deepcopy)\u001b[0m\n\u001b[1;32m    219\u001b[0m memo[\u001b[38;5;28mid\u001b[39m(x)] \u001b[38;5;241m=\u001b[39m y\n\u001b[1;32m    220\u001b[0m \u001b[38;5;28;01mfor\u001b[39;00m key, value \u001b[38;5;129;01min\u001b[39;00m x\u001b[38;5;241m.\u001b[39mitems():\n\u001b[0;32m--> 221\u001b[0m     y[deepcopy(key, memo)] \u001b[38;5;241m=\u001b[39m \u001b[43mdeepcopy\u001b[49m\u001b[43m(\u001b[49m\u001b[43mvalue\u001b[49m\u001b[43m,\u001b[49m\u001b[43m \u001b[49m\u001b[43mmemo\u001b[49m\u001b[43m)\u001b[49m\n\u001b[1;32m    222\u001b[0m \u001b[38;5;28;01mreturn\u001b[39;00m y\n",
      "File \u001b[0;32m~/miniconda3/envs/ml-ops/lib/python3.12/copy.py:136\u001b[0m, in \u001b[0;36mdeepcopy\u001b[0;34m(x, memo, _nil)\u001b[0m\n\u001b[1;32m    134\u001b[0m copier \u001b[38;5;241m=\u001b[39m _deepcopy_dispatch\u001b[38;5;241m.\u001b[39mget(\u001b[38;5;28mcls\u001b[39m)\n\u001b[1;32m    135\u001b[0m \u001b[38;5;28;01mif\u001b[39;00m copier \u001b[38;5;129;01mis\u001b[39;00m \u001b[38;5;129;01mnot\u001b[39;00m \u001b[38;5;28;01mNone\u001b[39;00m:\n\u001b[0;32m--> 136\u001b[0m     y \u001b[38;5;241m=\u001b[39m \u001b[43mcopier\u001b[49m\u001b[43m(\u001b[49m\u001b[43mx\u001b[49m\u001b[43m,\u001b[49m\u001b[43m \u001b[49m\u001b[43mmemo\u001b[49m\u001b[43m)\u001b[49m\n\u001b[1;32m    137\u001b[0m \u001b[38;5;28;01melse\u001b[39;00m:\n\u001b[1;32m    138\u001b[0m     \u001b[38;5;28;01mif\u001b[39;00m \u001b[38;5;28missubclass\u001b[39m(\u001b[38;5;28mcls\u001b[39m, \u001b[38;5;28mtype\u001b[39m):\n",
      "File \u001b[0;32m~/miniconda3/envs/ml-ops/lib/python3.12/copy.py:201\u001b[0m, in \u001b[0;36m_deepcopy_tuple\u001b[0;34m(x, memo, deepcopy)\u001b[0m\n\u001b[1;32m    200\u001b[0m \u001b[38;5;28;01mdef\u001b[39;00m\u001b[38;5;250m \u001b[39m\u001b[38;5;21m_deepcopy_tuple\u001b[39m(x, memo, deepcopy\u001b[38;5;241m=\u001b[39mdeepcopy):\n\u001b[0;32m--> 201\u001b[0m     y \u001b[38;5;241m=\u001b[39m [deepcopy(a, memo) \u001b[38;5;28;01mfor\u001b[39;00m a \u001b[38;5;129;01min\u001b[39;00m x]\n\u001b[1;32m    202\u001b[0m     \u001b[38;5;66;03m# We're not going to put the tuple in the memo, but it's still important we\u001b[39;00m\n\u001b[1;32m    203\u001b[0m     \u001b[38;5;66;03m# check for it, in case the tuple contains recursive mutable structures.\u001b[39;00m\n\u001b[1;32m    204\u001b[0m     \u001b[38;5;28;01mtry\u001b[39;00m:\n",
      "File \u001b[0;32m~/miniconda3/envs/ml-ops/lib/python3.12/copy.py:136\u001b[0m, in \u001b[0;36mdeepcopy\u001b[0;34m(x, memo, _nil)\u001b[0m\n\u001b[1;32m    134\u001b[0m copier \u001b[38;5;241m=\u001b[39m _deepcopy_dispatch\u001b[38;5;241m.\u001b[39mget(\u001b[38;5;28mcls\u001b[39m)\n\u001b[1;32m    135\u001b[0m \u001b[38;5;28;01mif\u001b[39;00m copier \u001b[38;5;129;01mis\u001b[39;00m \u001b[38;5;129;01mnot\u001b[39;00m \u001b[38;5;28;01mNone\u001b[39;00m:\n\u001b[0;32m--> 136\u001b[0m     y \u001b[38;5;241m=\u001b[39m \u001b[43mcopier\u001b[49m\u001b[43m(\u001b[49m\u001b[43mx\u001b[49m\u001b[43m,\u001b[49m\u001b[43m \u001b[49m\u001b[43mmemo\u001b[49m\u001b[43m)\u001b[49m\n\u001b[1;32m    137\u001b[0m \u001b[38;5;28;01melse\u001b[39;00m:\n\u001b[1;32m    138\u001b[0m     \u001b[38;5;28;01mif\u001b[39;00m \u001b[38;5;28missubclass\u001b[39m(\u001b[38;5;28mcls\u001b[39m, \u001b[38;5;28mtype\u001b[39m):\n",
      "File \u001b[0;32m~/miniconda3/envs/ml-ops/lib/python3.12/copy.py:196\u001b[0m, in \u001b[0;36m_deepcopy_list\u001b[0;34m(x, memo, deepcopy)\u001b[0m\n\u001b[1;32m    194\u001b[0m append \u001b[38;5;241m=\u001b[39m y\u001b[38;5;241m.\u001b[39mappend\n\u001b[1;32m    195\u001b[0m \u001b[38;5;28;01mfor\u001b[39;00m a \u001b[38;5;129;01min\u001b[39;00m x:\n\u001b[0;32m--> 196\u001b[0m     append(\u001b[43mdeepcopy\u001b[49m\u001b[43m(\u001b[49m\u001b[43ma\u001b[49m\u001b[43m,\u001b[49m\u001b[43m \u001b[49m\u001b[43mmemo\u001b[49m\u001b[43m)\u001b[49m)\n\u001b[1;32m    197\u001b[0m \u001b[38;5;28;01mreturn\u001b[39;00m y\n",
      "File \u001b[0;32m~/miniconda3/envs/ml-ops/lib/python3.12/copy.py:162\u001b[0m, in \u001b[0;36mdeepcopy\u001b[0;34m(x, memo, _nil)\u001b[0m\n\u001b[1;32m    160\u001b[0m                 y \u001b[38;5;241m=\u001b[39m x\n\u001b[1;32m    161\u001b[0m             \u001b[38;5;28;01melse\u001b[39;00m:\n\u001b[0;32m--> 162\u001b[0m                 y \u001b[38;5;241m=\u001b[39m \u001b[43m_reconstruct\u001b[49m\u001b[43m(\u001b[49m\u001b[43mx\u001b[49m\u001b[43m,\u001b[49m\u001b[43m \u001b[49m\u001b[43mmemo\u001b[49m\u001b[43m,\u001b[49m\u001b[43m \u001b[49m\u001b[38;5;241;43m*\u001b[39;49m\u001b[43mrv\u001b[49m\u001b[43m)\u001b[49m\n\u001b[1;32m    164\u001b[0m \u001b[38;5;66;03m# If is its own copy, don't memoize.\u001b[39;00m\n\u001b[1;32m    165\u001b[0m \u001b[38;5;28;01mif\u001b[39;00m y \u001b[38;5;129;01mis\u001b[39;00m \u001b[38;5;129;01mnot\u001b[39;00m x:\n",
      "File \u001b[0;32m~/miniconda3/envs/ml-ops/lib/python3.12/copy.py:259\u001b[0m, in \u001b[0;36m_reconstruct\u001b[0;34m(x, memo, func, args, state, listiter, dictiter, deepcopy)\u001b[0m\n\u001b[1;32m    257\u001b[0m \u001b[38;5;28;01mif\u001b[39;00m state \u001b[38;5;129;01mis\u001b[39;00m \u001b[38;5;129;01mnot\u001b[39;00m \u001b[38;5;28;01mNone\u001b[39;00m:\n\u001b[1;32m    258\u001b[0m     \u001b[38;5;28;01mif\u001b[39;00m deep:\n\u001b[0;32m--> 259\u001b[0m         state \u001b[38;5;241m=\u001b[39m \u001b[43mdeepcopy\u001b[49m\u001b[43m(\u001b[49m\u001b[43mstate\u001b[49m\u001b[43m,\u001b[49m\u001b[43m \u001b[49m\u001b[43mmemo\u001b[49m\u001b[43m)\u001b[49m\n\u001b[1;32m    260\u001b[0m     \u001b[38;5;28;01mif\u001b[39;00m \u001b[38;5;28mhasattr\u001b[39m(y, \u001b[38;5;124m'\u001b[39m\u001b[38;5;124m__setstate__\u001b[39m\u001b[38;5;124m'\u001b[39m):\n\u001b[1;32m    261\u001b[0m         y\u001b[38;5;241m.\u001b[39m__setstate__(state)\n",
      "File \u001b[0;32m~/miniconda3/envs/ml-ops/lib/python3.12/copy.py:136\u001b[0m, in \u001b[0;36mdeepcopy\u001b[0;34m(x, memo, _nil)\u001b[0m\n\u001b[1;32m    134\u001b[0m copier \u001b[38;5;241m=\u001b[39m _deepcopy_dispatch\u001b[38;5;241m.\u001b[39mget(\u001b[38;5;28mcls\u001b[39m)\n\u001b[1;32m    135\u001b[0m \u001b[38;5;28;01mif\u001b[39;00m copier \u001b[38;5;129;01mis\u001b[39;00m \u001b[38;5;129;01mnot\u001b[39;00m \u001b[38;5;28;01mNone\u001b[39;00m:\n\u001b[0;32m--> 136\u001b[0m     y \u001b[38;5;241m=\u001b[39m \u001b[43mcopier\u001b[49m\u001b[43m(\u001b[49m\u001b[43mx\u001b[49m\u001b[43m,\u001b[49m\u001b[43m \u001b[49m\u001b[43mmemo\u001b[49m\u001b[43m)\u001b[49m\n\u001b[1;32m    137\u001b[0m \u001b[38;5;28;01melse\u001b[39;00m:\n\u001b[1;32m    138\u001b[0m     \u001b[38;5;28;01mif\u001b[39;00m \u001b[38;5;28missubclass\u001b[39m(\u001b[38;5;28mcls\u001b[39m, \u001b[38;5;28mtype\u001b[39m):\n",
      "File \u001b[0;32m~/miniconda3/envs/ml-ops/lib/python3.12/copy.py:221\u001b[0m, in \u001b[0;36m_deepcopy_dict\u001b[0;34m(x, memo, deepcopy)\u001b[0m\n\u001b[1;32m    219\u001b[0m memo[\u001b[38;5;28mid\u001b[39m(x)] \u001b[38;5;241m=\u001b[39m y\n\u001b[1;32m    220\u001b[0m \u001b[38;5;28;01mfor\u001b[39;00m key, value \u001b[38;5;129;01min\u001b[39;00m x\u001b[38;5;241m.\u001b[39mitems():\n\u001b[0;32m--> 221\u001b[0m     y[deepcopy(key, memo)] \u001b[38;5;241m=\u001b[39m \u001b[43mdeepcopy\u001b[49m\u001b[43m(\u001b[49m\u001b[43mvalue\u001b[49m\u001b[43m,\u001b[49m\u001b[43m \u001b[49m\u001b[43mmemo\u001b[49m\u001b[43m)\u001b[49m\n\u001b[1;32m    222\u001b[0m \u001b[38;5;28;01mreturn\u001b[39;00m y\n",
      "File \u001b[0;32m~/miniconda3/envs/ml-ops/lib/python3.12/copy.py:151\u001b[0m, in \u001b[0;36mdeepcopy\u001b[0;34m(x, memo, _nil)\u001b[0m\n\u001b[1;32m    149\u001b[0m reductor \u001b[38;5;241m=\u001b[39m \u001b[38;5;28mgetattr\u001b[39m(x, \u001b[38;5;124m\"\u001b[39m\u001b[38;5;124m__reduce_ex__\u001b[39m\u001b[38;5;124m\"\u001b[39m, \u001b[38;5;28;01mNone\u001b[39;00m)\n\u001b[1;32m    150\u001b[0m \u001b[38;5;28;01mif\u001b[39;00m reductor \u001b[38;5;129;01mis\u001b[39;00m \u001b[38;5;129;01mnot\u001b[39;00m \u001b[38;5;28;01mNone\u001b[39;00m:\n\u001b[0;32m--> 151\u001b[0m     rv \u001b[38;5;241m=\u001b[39m \u001b[43mreductor\u001b[49m\u001b[43m(\u001b[49m\u001b[38;5;241;43m4\u001b[39;49m\u001b[43m)\u001b[49m\n\u001b[1;32m    152\u001b[0m \u001b[38;5;28;01melse\u001b[39;00m:\n\u001b[1;32m    153\u001b[0m     reductor \u001b[38;5;241m=\u001b[39m \u001b[38;5;28mgetattr\u001b[39m(x, \u001b[38;5;124m\"\u001b[39m\u001b[38;5;124m__reduce__\u001b[39m\u001b[38;5;124m\"\u001b[39m, \u001b[38;5;28;01mNone\u001b[39;00m)\n",
      "\u001b[0;31mTypeError\u001b[0m: cannot pickle 'module' object"
     ]
    }
   ],
   "source": [
    "#모델 저장\n",
    "import tensorflow as tf\n",
    "\n",
    "model.save(\"model/final_model_v7.keras\")  # 최신 Keras 형식 사용\n",
    "#model.save(\"model/final_model_v7.h5\", save_format=\"h5\")\n"
   ]
  },
  {
   "cell_type": "code",
   "execution_count": null,
   "metadata": {
    "colab": {
     "base_uri": "https://localhost:8080/",
     "height": 391
    },
    "executionInfo": {
     "elapsed": 1841798,
     "status": "error",
     "timestamp": 1739768737551,
     "user": {
      "displayName": "이하은",
      "userId": "06607701604719915973"
     },
     "user_tz": -540
    },
    "id": "nISPcfzzpgs1",
    "outputId": "1e9f7b06-7fe4-496a-da21-8de78f1c6c63"
   },
   "outputs": [
    {
     "name": "stdout",
     "output_type": "stream",
     "text": [
      "\u001b[1m27/27\u001b[0m \u001b[32m━━━━━━━━━━━━━━━━━━━━\u001b[0m\u001b[37m\u001b[0m \u001b[1m2s\u001b[0m 54ms/step - accuracy: 0.4942 - loss: 0.9055\n",
      "Validation Accuracy: 52.38%\n"
     ]
    }
   ],
   "source": [
    "from sklearn.metrics import confusion_matrix\n",
    "import matplotlib.pyplot as plt\n",
    "import seaborn as sns\n",
    "import numpy as np\n",
    "\n",
    "# 모델 평가: Validation 데이터셋에 대한 정확도 계산\n",
    "val_loss, val_accuracy = model.evaluate(val_dataset)\n",
    "print(f\"Validation Accuracy: {val_accuracy * 100:.2f}%\")\n",
    "\n",
    "# 예측 및 실제 레이블 추출\n",
    "y_true = []\n",
    "y_pred = []\n",
    "\n",
    "# Validation 데이터셋에서 예측 수행\n",
    "for images, labels in val_dataset:\n",
    "    predictions = model.predict(images, verbose=0)  # 로그 출력 생략\n",
    "    y_true.extend(labels)  # 실제 레이블\n",
    "    y_pred.extend(np.round(predictions).flatten())  # 예측 레이블 (0 또는 1로 변환)\n",
    "\n",
    "# Confusion Matrix 계산\n",
    "cm = confusion_matrix(y_true, y_pred)\n",
    "\n",
    "# Confusion Matrix 시각화\n",
    "plt.figure(figsize=(6, 6))\n",
    "sns.heatmap(\n",
    "    cm,\n",
    "    annot=True,\n",
    "    fmt='d',\n",
    "    cmap='Blues',\n",
    "    xticklabels=CONFIGURATION[\"CLASS_NAMES\"],\n",
    "    yticklabels=CONFIGURATION[\"CLASS_NAMES\"],\n",
    ")\n",
    "plt.xlabel('Predicted')\n",
    "plt.ylabel('True')\n",
    "plt.title('Confusion Matrix')\n",
    "plt.show()\n",
    "\n",
    "# Confusion Matrix 출력\n",
    "print(\"Confusion Matrix:\")\n",
    "print(cm)\n"
   ]
  },
  {
   "cell_type": "code",
   "execution_count": null,
   "metadata": {
    "id": "MNNacRwEMBLV"
   },
   "outputs": [],
   "source": []
  },
  {
   "cell_type": "code",
   "execution_count": null,
   "metadata": {},
   "outputs": [],
   "source": []
  }
 ],
 "metadata": {
  "accelerator": "GPU",
  "colab": {
   "gpuType": "T4",
   "provenance": [],
   "toc_visible": true
  },
  "kernelspec": {
   "display_name": "Python (ml-ops)",
   "language": "python",
   "name": "ml-ops"
  },
  "language_info": {
   "codemirror_mode": {
    "name": "ipython",
    "version": 3
   },
   "file_extension": ".py",
   "mimetype": "text/x-python",
   "name": "python",
   "nbconvert_exporter": "python",
   "pygments_lexer": "ipython3",
   "version": "3.12.9"
  }
 },
 "nbformat": 4,
 "nbformat_minor": 0
}
