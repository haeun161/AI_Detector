{
 "cells": [
  {
   "cell_type": "markdown",
   "metadata": {},
   "source": [
    "자체 데이터셋 평가"
   ]
  },
  {
   "cell_type": "markdown",
   "metadata": {},
   "source": [
    "# GPU 할당"
   ]
  },
  {
   "cell_type": "code",
   "execution_count": 1,
   "metadata": {},
   "outputs": [
    {
     "name": "stderr",
     "output_type": "stream",
     "text": [
      "2025-03-13 19:47:40.827245: E external/local_xla/xla/stream_executor/cuda/cuda_fft.cc:485] Unable to register cuFFT factory: Attempting to register factory for plugin cuFFT when one has already been registered\n",
      "2025-03-13 19:47:40.842460: E external/local_xla/xla/stream_executor/cuda/cuda_dnn.cc:8454] Unable to register cuDNN factory: Attempting to register factory for plugin cuDNN when one has already been registered\n",
      "2025-03-13 19:47:40.847262: E external/local_xla/xla/stream_executor/cuda/cuda_blas.cc:1452] Unable to register cuBLAS factory: Attempting to register factory for plugin cuBLAS when one has already been registered\n",
      "2025-03-13 19:47:40.862992: I tensorflow/core/platform/cpu_feature_guard.cc:210] This TensorFlow binary is optimized to use available CPU instructions in performance-critical operations.\n",
      "To enable the following instructions: AVX2 FMA, in other operations, rebuild TensorFlow with the appropriate compiler flags.\n",
      "2025-03-13 19:47:41.805348: W tensorflow/compiler/tf2tensorrt/utils/py_utils.cc:38] TF-TRT Warning: Could not find TensorRT\n"
     ]
    },
    {
     "name": "stdout",
     "output_type": "stream",
     "text": [
      "[LogicalDevice(name='/device:GPU:0', device_type='GPU')]\n"
     ]
    },
    {
     "name": "stderr",
     "output_type": "stream",
     "text": [
      "2025-03-13 19:47:43.376364: I tensorflow/core/common_runtime/gpu/gpu_device.cc:2021] Created device /job:localhost/replica:0/task:0/device:GPU:0 with 20484 MB memory:  -> device: 0, name: NVIDIA RTX A5000, pci bus id: 0000:01:00.0, compute capability: 8.6\n"
     ]
    }
   ],
   "source": [
    "import tensorflow as tf\n",
    "\n",
    "# GPU 0만 사용\n",
    "gpus = tf.config.experimental.list_physical_devices('GPU')\n",
    "if gpus:\n",
    "    try:\n",
    "        tf.config.experimental.set_visible_devices(gpus[0], 'GPU')  # GPU 0만 사용\n",
    "        tf.config.experimental.set_memory_growth(gpus[0], True)  # 메모리 동적 할당\n",
    "    except RuntimeError as e:\n",
    "        print(e)\n",
    "\n",
    "# TensorFlow에서 사용할 장치 확인\n",
    "print(tf.config.experimental.list_logical_devices('GPU'))\n"
   ]
  },
  {
   "cell_type": "code",
   "execution_count": 2,
   "metadata": {},
   "outputs": [],
   "source": [
    "import os\n",
    "os.environ[\"CUDA_VISIBLE_DEVICES\"] = \"0\""
   ]
  },
  {
   "cell_type": "markdown",
   "metadata": {},
   "source": [
    "# 필요한 라이브러리 로드"
   ]
  },
  {
   "cell_type": "code",
   "execution_count": 3,
   "metadata": {},
   "outputs": [],
   "source": [
    "import os\n",
    "import numpy as np\n",
    "import matplotlib.pyplot as plt\n",
    "import seaborn as sns\n",
    "import tensorflow as tf\n",
    "from tensorflow.keras.models import load_model\n",
    "from tensorflow.keras.preprocessing.image import ImageDataGenerator\n",
    "from sklearn.metrics import confusion_matrix, classification_report"
   ]
  },
  {
   "cell_type": "markdown",
   "metadata": {},
   "source": [
    "# 모델 로드"
   ]
  },
  {
   "cell_type": "code",
   "execution_count": 4,
   "metadata": {},
   "outputs": [
    {
     "name": "stderr",
     "output_type": "stream",
     "text": [
      "WARNING:absl:Compiled the loaded model, but the compiled metrics have yet to be built. `model.compile_metrics` will be empty until you train or evaluate the model.\n"
     ]
    }
   ],
   "source": [
    "# 모델 로드\n",
    "model_path = \"/home/jangminoh_2/AI_Detector/model/model_v3.h5\"\n",
    "model = load_model(model_path)"
   ]
  },
  {
   "cell_type": "markdown",
   "metadata": {},
   "source": [
    "# 건축물 데이터셋"
   ]
  },
  {
   "cell_type": "code",
   "execution_count": 5,
   "metadata": {},
   "outputs": [],
   "source": [
    "# 데이터셋 경로\n",
    "dataset_dir = \"/home/jangminoh_2/AI_Detector/data/자체 데이터셋 분류/건축물(빌딩, 유적지 등)\"\n",
    "fake_dir = \"/home/jangminoh_2/AI_Detector/data/자체 데이터셋 분류/건축물(빌딩, 유적지 등)/fake\"\n",
    "real_dir = \"/home/jangminoh_2/AI_Detector/data/자체 데이터셋 분류/건축물(빌딩, 유적지 등)/real\""
   ]
  },
  {
   "cell_type": "code",
   "execution_count": 6,
   "metadata": {},
   "outputs": [
    {
     "name": "stdout",
     "output_type": "stream",
     "text": [
      "Fake: 48, Real: 28\n"
     ]
    }
   ],
   "source": [
    "fake_count = len(os.listdir(fake_dir)) if os.path.exists(fake_dir) else 0\n",
    "real_count = len(os.listdir(real_dir)) if os.path.exists(real_dir) else 0\n",
    "\n",
    "print(f\"Fake: {fake_count}, Real: {real_count}\")"
   ]
  },
  {
   "cell_type": "code",
   "execution_count": 7,
   "metadata": {},
   "outputs": [
    {
     "name": "stdout",
     "output_type": "stream",
     "text": [
      "Found 76 images belonging to 2 classes.\n"
     ]
    },
    {
     "name": "stderr",
     "output_type": "stream",
     "text": [
      "/home/jangminoh_2/miniconda3/envs/ml-ops/lib/python3.12/site-packages/keras/src/trainers/data_adapters/py_dataset_adapter.py:121: UserWarning: Your `PyDataset` class should call `super().__init__(**kwargs)` in its constructor. `**kwargs` can include `workers`, `use_multiprocessing`, `max_queue_size`. Do not pass these arguments to `fit()`, as they will be ignored.\n",
      "  self._warn_if_super_not_called()\n",
      "WARNING: All log messages before absl::InitializeLog() is called are written to STDERR\n",
      "I0000 00:00:1741862892.701547  565251 service.cc:146] XLA service 0x7175f40049a0 initialized for platform CUDA (this does not guarantee that XLA will be used). Devices:\n",
      "I0000 00:00:1741862892.701624  565251 service.cc:154]   StreamExecutor device (0): NVIDIA RTX A5000, Compute Capability 8.6\n",
      "2025-03-13 19:48:12.850555: I tensorflow/compiler/mlir/tensorflow/utils/dump_mlir_util.cc:268] disabling MLIR crash reproducer, set env var `MLIR_CRASH_REPRODUCER_DIRECTORY` to enable.\n",
      "2025-03-13 19:48:13.876322: I external/local_xla/xla/stream_executor/cuda/cuda_dnn.cc:531] Loaded cuDNN version 8907\n",
      "2025-03-13 19:48:14.751910: I external/local_xla/xla/stream_executor/cuda/cuda_asm_compiler.cc:393] ptxas warning : Registers are spilled to local memory in function 'gemm_fusion_dot_2', 36 bytes spill stores, 36 bytes spill loads\n",
      "\n"
     ]
    },
    {
     "name": "stdout",
     "output_type": "stream",
     "text": [
      "\u001b[1m 7/76\u001b[0m \u001b[32m━\u001b[0m\u001b[37m━━━━━━━━━━━━━━━━━━━\u001b[0m \u001b[1m1s\u001b[0m 22ms/step "
     ]
    },
    {
     "name": "stderr",
     "output_type": "stream",
     "text": [
      "I0000 00:00:1741862903.136560  565251 device_compiler.h:188] Compiled cluster using XLA!  This line is logged at most once for the lifetime of the process.\n"
     ]
    },
    {
     "name": "stdout",
     "output_type": "stream",
     "text": [
      "\u001b[1m76/76\u001b[0m \u001b[32m━━━━━━━━━━━━━━━━━━━━\u001b[0m\u001b[37m\u001b[0m \u001b[1m15s\u001b[0m 22ms/step\n",
      "[[7.04898357e-01]\n",
      " [8.97953987e-01]\n",
      " [4.74537820e-01]\n",
      " [7.82905877e-01]\n",
      " [9.67305839e-01]\n",
      " [8.18648994e-01]\n",
      " [1.53897032e-01]\n",
      " [1.64323524e-01]\n",
      " [1.76014736e-01]\n",
      " [2.25860378e-04]\n",
      " [8.15367922e-02]\n",
      " [1.36752438e-03]\n",
      " [1.03877082e-01]\n",
      " [6.45359905e-05]\n",
      " [5.57119660e-02]\n",
      " [9.75778997e-01]\n",
      " [8.90844524e-01]\n",
      " [2.95050472e-01]\n",
      " [5.13746679e-01]\n",
      " [5.24193840e-03]\n",
      " [5.30339126e-03]\n",
      " [1.28488871e-03]\n",
      " [5.80940978e-05]\n",
      " [3.39503944e-01]\n",
      " [3.47613215e-01]\n",
      " [3.65715384e-01]\n",
      " [9.68399569e-02]\n",
      " [2.57252216e-01]\n",
      " [1.10257424e-01]\n",
      " [8.09498597e-03]\n",
      " [3.25698882e-01]\n",
      " [2.09075704e-01]\n",
      " [4.70993876e-01]\n",
      " [9.33705457e-03]\n",
      " [3.45776528e-01]\n",
      " [9.85029280e-01]\n",
      " [2.18068630e-01]\n",
      " [6.21184647e-01]\n",
      " [1.38646916e-01]\n",
      " [8.59741807e-01]\n",
      " [1.23933159e-01]\n",
      " [3.12603027e-01]\n",
      " [2.25746259e-01]\n",
      " [1.11257568e-01]\n",
      " [2.54560143e-01]\n",
      " [2.54560143e-01]\n",
      " [8.01790476e-01]\n",
      " [8.01790476e-01]\n",
      " [9.35886681e-01]\n",
      " [9.98662829e-01]\n",
      " [4.56698209e-01]\n",
      " [1.58307761e-01]\n",
      " [6.47267461e-01]\n",
      " [2.31054217e-01]\n",
      " [8.06041479e-01]\n",
      " [8.26597095e-01]\n",
      " [9.60165739e-01]\n",
      " [7.50996312e-03]\n",
      " [1.12828068e-01]\n",
      " [2.37132132e-01]\n",
      " [9.97967780e-01]\n",
      " [2.05580726e-01]\n",
      " [7.38862529e-02]\n",
      " [9.68039453e-01]\n",
      " [9.99645829e-01]\n",
      " [9.88394260e-01]\n",
      " [8.75237405e-01]\n",
      " [9.69710767e-01]\n",
      " [9.92623806e-01]\n",
      " [9.99933004e-01]\n",
      " [6.93736851e-01]\n",
      " [6.82658553e-01]\n",
      " [3.52494023e-03]\n",
      " [5.01346111e-01]\n",
      " [5.00625432e-01]\n",
      " [2.32820749e-01]]\n",
      "Model Accuracy: 0.6974\n"
     ]
    },
    {
     "data": {
      "image/png": "[encoded data removed]",
      "text/plain": [
       "<Figure size 600x500 with 2 Axes>"
      ]
     },
     "metadata": {},
     "output_type": "display_data"
    },
    {
     "name": "stdout",
     "output_type": "stream",
     "text": [
      "\n",
      "Classification Report:\n",
      "              precision    recall  f1-score   support\n",
      "\n",
      "        fake       0.78      0.73      0.75        48\n",
      "        real       0.58      0.64      0.61        28\n",
      "\n",
      "    accuracy                           0.70        76\n",
      "   macro avg       0.68      0.69      0.68        76\n",
      "weighted avg       0.71      0.70      0.70        76\n",
      "\n"
     ]
    }
   ],
   "source": [
    "# 이미지 크기 및 배치 사이즈 설정\n",
    "img_size = (528, 528)  # EfficientNetB6의 입력 크기에 맞게 변경 가능\n",
    "batch_size = 1\n",
    "\n",
    "# 데이터 로더 설정 (test용)\n",
    "datagen = ImageDataGenerator(\n",
    "    preprocessing_function=tf.keras.applications.efficientnet.preprocess_input\n",
    ")\n",
    "\n",
    "test_generator = datagen.flow_from_directory(\n",
    "    dataset_dir,\n",
    "    target_size=img_size,\n",
    "    batch_size=batch_size,\n",
    "    class_mode=\"binary\",  # 이진 분류 (fake vs real)\n",
    "    shuffle= False\n",
    ")\n",
    "\n",
    "# 실제 라벨 가져오기\n",
    "y_true = test_generator.classes  # 0: fake, 1: real\n",
    "#print(y_true)\n",
    "class_names = list(test_generator.class_indices.keys())\n",
    "#print(class_names) #['fake', 'real']\n",
    "#print(test_generator.class_indices)\n",
    "\n",
    "# 예측 수행\n",
    "y_pred_probs = model.predict(test_generator, steps=test_generator.samples)  # 확률값 출력\n",
    "print(y_pred_probs)\n",
    "y_pred = (y_pred_probs > 0.5).astype(int).flatten()  # 0.5 이상이면 1(real), 아니면 0(fake)\n",
    "\n",
    "# 정확도 출력\n",
    "accuracy = np.mean(y_pred == y_true)\n",
    "print(f\"Model Accuracy: {accuracy:.4f}\")\n",
    "\n",
    "# Confusion Matrix 생성\n",
    "cm = confusion_matrix(y_true, y_pred)\n",
    "\n",
    "# Confusion Matrix 시각화\n",
    "plt.figure(figsize=(6, 5))\n",
    "sns.heatmap(cm, annot=True, fmt=\"d\", cmap=\"Blues\", xticklabels=class_names, yticklabels=class_names)\n",
    "plt.xlabel(\"Predicted Label\")\n",
    "plt.ylabel(\"True Label\")\n",
    "plt.title(\"Confusion Matrix\")\n",
    "plt.show()\n",
    "\n",
    "# 분류 보고서 출력\n",
    "print(\"\\nClassification Report:\")\n",
    "print(classification_report(y_true, y_pred, target_names=class_names))\n"
   ]
  },
  {
   "cell_type": "markdown",
   "metadata": {},
   "source": [
    "# 동물"
   ]
  },
  {
   "cell_type": "code",
   "execution_count": 8,
   "metadata": {},
   "outputs": [],
   "source": [
    "# 데이터셋 경로\n",
    "dataset_dir = \"/home/jangminoh_2/AI_Detector/data/자체 데이터셋 분류/동물\"\n",
    "fake_dir = \"/home/jangminoh_2/AI_Detector/data/자체 데이터셋 분류/동물/fake\"\n",
    "real_dir = \"/home/jangminoh_2/AI_Detector/data/자체 데이터셋 분류/동물/real\""
   ]
  },
  {
   "cell_type": "code",
   "execution_count": 9,
   "metadata": {},
   "outputs": [
    {
     "name": "stdout",
     "output_type": "stream",
     "text": [
      "Fake: 51, Real: 22\n"
     ]
    }
   ],
   "source": [
    "fake_count = len(os.listdir(fake_dir)) if os.path.exists(fake_dir) else 0\n",
    "real_count = len(os.listdir(real_dir)) if os.path.exists(real_dir) else 0\n",
    "\n",
    "print(f\"Fake: {fake_count}, Real: {real_count}\")"
   ]
  },
  {
   "cell_type": "code",
   "execution_count": 10,
   "metadata": {},
   "outputs": [
    {
     "name": "stdout",
     "output_type": "stream",
     "text": [
      "Found 73 images belonging to 2 classes.\n"
     ]
    },
    {
     "name": "stdout",
     "output_type": "stream",
     "text": [
      "\u001b[1m 1/73\u001b[0m \u001b[37m━━━━━━━━━━━━━━━━━━━━\u001b[0m \u001b[1m6s\u001b[0m 84ms/step"
     ]
    },
    {
     "name": "stderr",
     "output_type": "stream",
     "text": [
      "/home/jangminoh_2/miniconda3/envs/ml-ops/lib/python3.12/site-packages/keras/src/trainers/data_adapters/py_dataset_adapter.py:121: UserWarning: Your `PyDataset` class should call `super().__init__(**kwargs)` in its constructor. `**kwargs` can include `workers`, `use_multiprocessing`, `max_queue_size`. Do not pass these arguments to `fit()`, as they will be ignored.\n",
      "  self._warn_if_super_not_called()\n"
     ]
    },
    {
     "name": "stdout",
     "output_type": "stream",
     "text": [
      "\u001b[1m73/73\u001b[0m \u001b[32m━━━━━━━━━━━━━━━━━━━━\u001b[0m\u001b[37m\u001b[0m \u001b[1m2s\u001b[0m 20ms/step\n",
      "[[0.6254756 ]\n",
      " [0.14417662]\n",
      " [0.00719439]\n",
      " [0.06914662]\n",
      " [0.35427928]\n",
      " [0.03203359]\n",
      " [0.67911536]\n",
      " [0.4558026 ]\n",
      " [0.06983084]\n",
      " [0.19513473]\n",
      " [0.847193  ]\n",
      " [0.6081754 ]\n",
      " [0.05880705]\n",
      " [0.02990784]\n",
      " [0.02772118]\n",
      " [0.08402285]\n",
      " [0.04270652]\n",
      " [0.80646884]\n",
      " [0.3915626 ]\n",
      " [0.22032279]\n",
      " [0.01149737]\n",
      " [0.23000066]\n",
      " [0.1101321 ]\n",
      " [0.2831503 ]\n",
      " [0.41456932]\n",
      " [0.05151693]\n",
      " [0.05825199]\n",
      " [0.10857087]\n",
      " [0.07341407]\n",
      " [0.03412495]\n",
      " [0.0142949 ]\n",
      " [0.02644158]\n",
      " [0.02644158]\n",
      " [0.02713588]\n",
      " [0.07675423]\n",
      " [0.99998987]\n",
      " [0.99979514]\n",
      " [0.9661456 ]\n",
      " [0.9887278 ]\n",
      " [0.81153905]\n",
      " [0.9311788 ]\n",
      " [0.36353323]\n",
      " [0.36913514]\n",
      " [0.7012812 ]\n",
      " [0.00248991]\n",
      " [0.00151365]\n",
      " [0.02126818]\n",
      " [0.06283581]\n",
      " [0.88088346]\n",
      " [0.07443307]\n",
      " [0.14634685]\n",
      " [0.9014873 ]\n",
      " [0.99918526]\n",
      " [0.9797894 ]\n",
      " [0.90121   ]\n",
      " [0.641913  ]\n",
      " [0.99607456]\n",
      " [0.9841564 ]\n",
      " [0.08215197]\n",
      " [0.59255975]\n",
      " [0.6754403 ]\n",
      " [0.9466175 ]\n",
      " [0.99965596]\n",
      " [0.9948868 ]\n",
      " [0.9960711 ]\n",
      " [0.19065583]\n",
      " [0.89814   ]\n",
      " [0.9607863 ]\n",
      " [0.99191564]\n",
      " [0.9701644 ]\n",
      " [0.99228114]\n",
      " [0.5866939 ]\n",
      " [0.7159734 ]]\n",
      "Model Accuracy: 0.7945\n"
     ]
    },
    {
     "data": {
      "image/png": "[encoded data removed]",
      "text/plain": [
       "<Figure size 600x500 with 2 Axes>"
      ]
     },
     "metadata": {},
     "output_type": "display_data"
    },
    {
     "name": "stdout",
     "output_type": "stream",
     "text": [
      "\n",
      "Classification Report:\n",
      "              precision    recall  f1-score   support\n",
      "\n",
      "        fake       0.95      0.75      0.84        51\n",
      "        real       0.61      0.91      0.73        22\n",
      "\n",
      "    accuracy                           0.79        73\n",
      "   macro avg       0.78      0.83      0.78        73\n",
      "weighted avg       0.85      0.79      0.80        73\n",
      "\n"
     ]
    }
   ],
   "source": [
    "# 이미지 크기 및 배치 사이즈 설정\n",
    "img_size = (528, 528)  # EfficientNetB6의 입력 크기에 맞게 변경 가능\n",
    "batch_size = 1\n",
    "\n",
    "# 데이터 로더 설정 (test용)\n",
    "datagen = ImageDataGenerator(\n",
    "    preprocessing_function=tf.keras.applications.efficientnet.preprocess_input\n",
    ")\n",
    "\n",
    "test_generator = datagen.flow_from_directory(\n",
    "    dataset_dir,\n",
    "    target_size=img_size,\n",
    "    batch_size=batch_size,\n",
    "    class_mode=\"binary\",  # 이진 분류 (fake vs real)\n",
    "    shuffle= False\n",
    ")\n",
    "\n",
    "# 실제 라벨 가져오기\n",
    "y_true = test_generator.classes  # 0: fake, 1: real\n",
    "#print(y_true)\n",
    "class_names = list(test_generator.class_indices.keys())\n",
    "#print(class_names) #['fake', 'real']\n",
    "#print(test_generator.class_indices)\n",
    "\n",
    "# 예측 수행\n",
    "y_pred_probs = model.predict(test_generator, steps=test_generator.samples)  # 확률값 출력\n",
    "print(y_pred_probs)\n",
    "y_pred = (y_pred_probs > 0.5).astype(int).flatten()  # 0.5 이상이면 1(real), 아니면 0(fake)\n",
    "\n",
    "# 정확도 출력\n",
    "accuracy = np.mean(y_pred == y_true)\n",
    "print(f\"Model Accuracy: {accuracy:.4f}\")\n",
    "\n",
    "# Confusion Matrix 생성\n",
    "cm = confusion_matrix(y_true, y_pred)\n",
    "\n",
    "# Confusion Matrix 시각화\n",
    "plt.figure(figsize=(6, 5))\n",
    "sns.heatmap(cm, annot=True, fmt=\"d\", cmap=\"Blues\", xticklabels=class_names, yticklabels=class_names)\n",
    "plt.xlabel(\"Predicted Label\")\n",
    "plt.ylabel(\"True Label\")\n",
    "plt.title(\"Confusion Matrix\")\n",
    "plt.show()\n",
    "\n",
    "# 분류 보고서 출력\n",
    "print(\"\\nClassification Report:\")\n",
    "print(classification_report(y_true, y_pred, target_names=class_names))"
   ]
  },
  {
   "cell_type": "markdown",
   "metadata": {},
   "source": [
    "# 사물"
   ]
  },
  {
   "cell_type": "code",
   "execution_count": 11,
   "metadata": {},
   "outputs": [],
   "source": [
    "# 데이터셋 경로\n",
    "dataset_dir = \"/home/jangminoh_2/AI_Detector/data/자체 데이터셋 분류/사물\"\n",
    "fake_dir = \"/home/jangminoh_2/AI_Detector/data/자체 데이터셋 분류/사물/fake\"\n",
    "real_dir = \"/home/jangminoh_2/AI_Detector/data/자체 데이터셋 분류/사물/real\""
   ]
  },
  {
   "cell_type": "code",
   "execution_count": 12,
   "metadata": {},
   "outputs": [
    {
     "name": "stdout",
     "output_type": "stream",
     "text": [
      "Fake: 40, Real: 29\n"
     ]
    }
   ],
   "source": [
    "fake_count = len(os.listdir(fake_dir)) if os.path.exists(fake_dir) else 0\n",
    "real_count = len(os.listdir(real_dir)) if os.path.exists(real_dir) else 0\n",
    "\n",
    "print(f\"Fake: {fake_count}, Real: {real_count}\")"
   ]
  },
  {
   "cell_type": "code",
   "execution_count": 13,
   "metadata": {},
   "outputs": [
    {
     "name": "stdout",
     "output_type": "stream",
     "text": [
      "Found 68 images belonging to 2 classes.\n"
     ]
    },
    {
     "name": "stdout",
     "output_type": "stream",
     "text": [
      "\u001b[1m 4/68\u001b[0m \u001b[32m━\u001b[0m\u001b[37m━━━━━━━━━━━━━━━━━━━\u001b[0m \u001b[1m1s\u001b[0m 20ms/step"
     ]
    },
    {
     "name": "stderr",
     "output_type": "stream",
     "text": [
      "/home/jangminoh_2/miniconda3/envs/ml-ops/lib/python3.12/site-packages/keras/src/trainers/data_adapters/py_dataset_adapter.py:121: UserWarning: Your `PyDataset` class should call `super().__init__(**kwargs)` in its constructor. `**kwargs` can include `workers`, `use_multiprocessing`, `max_queue_size`. Do not pass these arguments to `fit()`, as they will be ignored.\n",
      "  self._warn_if_super_not_called()\n"
     ]
    },
    {
     "name": "stdout",
     "output_type": "stream",
     "text": [
      "\u001b[1m68/68\u001b[0m \u001b[32m━━━━━━━━━━━━━━━━━━━━\u001b[0m\u001b[37m\u001b[0m \u001b[1m1s\u001b[0m 21ms/step\n",
      "[[2.78209406e-03]\n",
      " [2.27694660e-02]\n",
      " [9.05087143e-02]\n",
      " [8.92006978e-02]\n",
      " [1.66692509e-04]\n",
      " [3.76771986e-02]\n",
      " [1.47002473e-01]\n",
      " [2.69598871e-01]\n",
      " [2.27327466e-01]\n",
      " [5.20249316e-03]\n",
      " [1.07307404e-01]\n",
      " [1.09435439e-01]\n",
      " [3.42087336e-02]\n",
      " [4.93064895e-02]\n",
      " [9.50712919e-01]\n",
      " [4.15501595e-01]\n",
      " [7.99647212e-01]\n",
      " [8.12929794e-02]\n",
      " [5.37697859e-02]\n",
      " [3.18166427e-02]\n",
      " [6.86319694e-02]\n",
      " [9.61172730e-02]\n",
      " [4.07017201e-01]\n",
      " [1.62628666e-01]\n",
      " [3.46526146e-01]\n",
      " [7.21106753e-02]\n",
      " [4.35801819e-02]\n",
      " [1.92219779e-01]\n",
      " [1.97231591e-01]\n",
      " [1.75925717e-01]\n",
      " [1.29469052e-01]\n",
      " [2.05736786e-01]\n",
      " [7.03153163e-02]\n",
      " [8.40198174e-02]\n",
      " [2.83961315e-02]\n",
      " [2.97000725e-03]\n",
      " [6.19709909e-01]\n",
      " [6.06809892e-02]\n",
      " [6.38030231e-01]\n",
      " [3.06091249e-01]\n",
      " [2.54861534e-01]\n",
      " [4.36112046e-01]\n",
      " [8.53606224e-01]\n",
      " [7.44161904e-01]\n",
      " [8.62257838e-01]\n",
      " [9.33509707e-01]\n",
      " [4.10834342e-01]\n",
      " [1.50598407e-01]\n",
      " [8.35124969e-01]\n",
      " [1.37496337e-01]\n",
      " [1.67940613e-02]\n",
      " [1.45983130e-01]\n",
      " [9.43977296e-01]\n",
      " [2.80029416e-01]\n",
      " [9.80669796e-01]\n",
      " [1.57550335e-01]\n",
      " [7.56345928e-01]\n",
      " [8.75423774e-02]\n",
      " [1.79418042e-01]\n",
      " [8.55322480e-01]\n",
      " [7.46642873e-02]\n",
      " [9.94236827e-01]\n",
      " [2.01126084e-01]\n",
      " [8.43723536e-01]\n",
      " [1.56460688e-01]\n",
      " [9.55613181e-02]\n",
      " [6.81410870e-03]\n",
      " [6.31550729e-01]]\n",
      "Model Accuracy: 0.7059\n"
     ]
    },
    {
     "data": {
      "image/png": "[encoded data removed]",
      "text/plain": [
       "<Figure size 600x500 with 2 Axes>"
      ]
     },
     "metadata": {},
     "output_type": "display_data"
    },
    {
     "name": "stdout",
     "output_type": "stream",
     "text": [
      "\n",
      "Classification Report:\n",
      "              precision    recall  f1-score   support\n",
      "\n",
      "        fake       0.69      0.90      0.78        40\n",
      "        real       0.75      0.43      0.55        28\n",
      "\n",
      "    accuracy                           0.71        68\n",
      "   macro avg       0.72      0.66      0.66        68\n",
      "weighted avg       0.72      0.71      0.68        68\n",
      "\n"
     ]
    }
   ],
   "source": [
    "# 이미지 크기 및 배치 사이즈 설정\n",
    "img_size = (528, 528)  # EfficientNetB6의 입력 크기에 맞게 변경 가능\n",
    "batch_size = 1\n",
    "\n",
    "# 데이터 로더 설정 (test용)\n",
    "datagen = ImageDataGenerator(\n",
    "    preprocessing_function=tf.keras.applications.efficientnet.preprocess_input\n",
    ")\n",
    "\n",
    "test_generator = datagen.flow_from_directory(\n",
    "    dataset_dir,\n",
    "    target_size=img_size,\n",
    "    batch_size=batch_size,\n",
    "    class_mode=\"binary\",  # 이진 분류 (fake vs real)\n",
    "    shuffle= False\n",
    ")\n",
    "\n",
    "# 실제 라벨 가져오기\n",
    "y_true = test_generator.classes  # 0: fake, 1: real\n",
    "#print(y_true)\n",
    "class_names = list(test_generator.class_indices.keys())\n",
    "#print(class_names) #['fake', 'real']\n",
    "#print(test_generator.class_indices)\n",
    "\n",
    "# 예측 수행\n",
    "y_pred_probs = model.predict(test_generator, steps=test_generator.samples)  # 확률값 출력\n",
    "print(y_pred_probs)\n",
    "y_pred = (y_pred_probs > 0.5).astype(int).flatten()  # 0.5 이상이면 1(real), 아니면 0(fake)\n",
    "\n",
    "# 정확도 출력\n",
    "accuracy = np.mean(y_pred == y_true)\n",
    "print(f\"Model Accuracy: {accuracy:.4f}\")\n",
    "\n",
    "# Confusion Matrix 생성\n",
    "cm = confusion_matrix(y_true, y_pred)\n",
    "\n",
    "# Confusion Matrix 시각화\n",
    "plt.figure(figsize=(6, 5))\n",
    "sns.heatmap(cm, annot=True, fmt=\"d\", cmap=\"Blues\", xticklabels=class_names, yticklabels=class_names)\n",
    "plt.xlabel(\"Predicted Label\")\n",
    "plt.ylabel(\"True Label\")\n",
    "plt.title(\"Confusion Matrix\")\n",
    "plt.show()\n",
    "\n",
    "# 분류 보고서 출력\n",
    "print(\"\\nClassification Report:\")\n",
    "print(classification_report(y_true, y_pred, target_names=class_names))\n"
   ]
  },
  {
   "cell_type": "markdown",
   "metadata": {},
   "source": [
    "# 실내공간"
   ]
  },
  {
   "cell_type": "code",
   "execution_count": 14,
   "metadata": {},
   "outputs": [],
   "source": [
    "# 데이터셋 경로\n",
    "dataset_dir = \"/home/jangminoh_2/AI_Detector/data/자체 데이터셋 분류/실내공간\"\n",
    "fake_dir = \"/home/jangminoh_2/AI_Detector/data/자체 데이터셋 분류/실내공간/fake\"\n",
    "real_dir = \"/home/jangminoh_2/AI_Detector/data/자체 데이터셋 분류/실내공간/real\""
   ]
  },
  {
   "cell_type": "code",
   "execution_count": 15,
   "metadata": {},
   "outputs": [
    {
     "name": "stdout",
     "output_type": "stream",
     "text": [
      "Fake: 16, Real: 6\n"
     ]
    }
   ],
   "source": [
    "fake_count = len(os.listdir(fake_dir)) if os.path.exists(fake_dir) else 0\n",
    "real_count = len(os.listdir(real_dir)) if os.path.exists(real_dir) else 0\n",
    "\n",
    "print(f\"Fake: {fake_count}, Real: {real_count}\")"
   ]
  },
  {
   "cell_type": "code",
   "execution_count": 16,
   "metadata": {},
   "outputs": [
    {
     "name": "stdout",
     "output_type": "stream",
     "text": [
      "Found 21 images belonging to 2 classes.\n"
     ]
    },
    {
     "name": "stdout",
     "output_type": "stream",
     "text": [
      "\u001b[1m 4/21\u001b[0m \u001b[32m━━━\u001b[0m\u001b[37m━━━━━━━━━━━━━━━━━\u001b[0m \u001b[1m0s\u001b[0m 20ms/step"
     ]
    },
    {
     "name": "stderr",
     "output_type": "stream",
     "text": [
      "/home/jangminoh_2/miniconda3/envs/ml-ops/lib/python3.12/site-packages/keras/src/trainers/data_adapters/py_dataset_adapter.py:121: UserWarning: Your `PyDataset` class should call `super().__init__(**kwargs)` in its constructor. `**kwargs` can include `workers`, `use_multiprocessing`, `max_queue_size`. Do not pass these arguments to `fit()`, as they will be ignored.\n",
      "  self._warn_if_super_not_called()\n"
     ]
    },
    {
     "name": "stdout",
     "output_type": "stream",
     "text": [
      "\u001b[1m21/21\u001b[0m \u001b[32m━━━━━━━━━━━━━━━━━━━━\u001b[0m\u001b[37m\u001b[0m \u001b[1m1s\u001b[0m 23ms/step\n",
      "[[0.04893018]\n",
      " [0.47898915]\n",
      " [0.23120195]\n",
      " [0.97058094]\n",
      " [0.97058094]\n",
      " [0.45277473]\n",
      " [0.45277473]\n",
      " [0.8427001 ]\n",
      " [0.3694307 ]\n",
      " [0.01201189]\n",
      " [0.00359317]\n",
      " [0.01438568]\n",
      " [0.02517125]\n",
      " [0.31781906]\n",
      " [0.36975864]\n",
      " [0.2661545 ]\n",
      " [0.9373643 ]\n",
      " [0.26669502]\n",
      " [0.994991  ]\n",
      " [0.10807013]\n",
      " [0.10807013]]\n",
      "Model Accuracy: 0.7143\n"
     ]
    },
    {
     "data": {
      "image/png": "[encoded data removed]",
      "text/plain": [
       "<Figure size 600x500 with 2 Axes>"
      ]
     },
     "metadata": {},
     "output_type": "display_data"
    },
    {
     "name": "stdout",
     "output_type": "stream",
     "text": [
      "\n",
      "Classification Report:\n",
      "              precision    recall  f1-score   support\n",
      "\n",
      "        fake       0.81      0.81      0.81        16\n",
      "        real       0.40      0.40      0.40         5\n",
      "\n",
      "    accuracy                           0.71        21\n",
      "   macro avg       0.61      0.61      0.61        21\n",
      "weighted avg       0.71      0.71      0.71        21\n",
      "\n"
     ]
    }
   ],
   "source": [
    "# 이미지 크기 및 배치 사이즈 설정\n",
    "img_size = (528, 528)  # EfficientNetB6의 입력 크기에 맞게 변경 가능\n",
    "batch_size = 1\n",
    "\n",
    "# 데이터 로더 설정 (test용)\n",
    "datagen = ImageDataGenerator(\n",
    "    preprocessing_function=tf.keras.applications.efficientnet.preprocess_input\n",
    ")\n",
    "\n",
    "test_generator = datagen.flow_from_directory(\n",
    "    dataset_dir,\n",
    "    target_size=img_size,\n",
    "    batch_size=batch_size,\n",
    "    class_mode=\"binary\",  # 이진 분류 (fake vs real)\n",
    "    shuffle= False\n",
    ")\n",
    "\n",
    "# 실제 라벨 가져오기\n",
    "y_true = test_generator.classes  # 0: fake, 1: real\n",
    "#print(y_true)\n",
    "class_names = list(test_generator.class_indices.keys())\n",
    "#print(class_names) #['fake', 'real']\n",
    "#print(test_generator.class_indices)\n",
    "\n",
    "# 예측 수행\n",
    "y_pred_probs = model.predict(test_generator, steps=test_generator.samples)  # 확률값 출력\n",
    "print(y_pred_probs)\n",
    "y_pred = (y_pred_probs > 0.5).astype(int).flatten()  # 0.5 이상이면 1(real), 아니면 0(fake)\n",
    "\n",
    "# 정확도 출력\n",
    "accuracy = np.mean(y_pred == y_true)\n",
    "print(f\"Model Accuracy: {accuracy:.4f}\")\n",
    "\n",
    "# Confusion Matrix 생성\n",
    "cm = confusion_matrix(y_true, y_pred)\n",
    "\n",
    "# Confusion Matrix 시각화\n",
    "plt.figure(figsize=(6, 5))\n",
    "sns.heatmap(cm, annot=True, fmt=\"d\", cmap=\"Blues\", xticklabels=class_names, yticklabels=class_names)\n",
    "plt.xlabel(\"Predicted Label\")\n",
    "plt.ylabel(\"True Label\")\n",
    "plt.title(\"Confusion Matrix\")\n",
    "plt.show()\n",
    "\n",
    "# 분류 보고서 출력\n",
    "print(\"\\nClassification Report:\")\n",
    "print(classification_report(y_true, y_pred, target_names=class_names))\n"
   ]
  },
  {
   "cell_type": "markdown",
   "metadata": {},
   "source": [
    "# 음식"
   ]
  },
  {
   "cell_type": "code",
   "execution_count": 17,
   "metadata": {},
   "outputs": [
    {
     "name": "stdout",
     "output_type": "stream",
     "text": [
      "Fake: 76, Real: 28\n"
     ]
    }
   ],
   "source": [
    "import os\n",
    "\n",
    "dataset_dir = \"/home/jangminoh_2/AI_Detector/data/자체 데이터셋 분류/음식\"\n",
    "fake_dir = os.path.join(dataset_dir, \"fake\")\n",
    "real_dir = os.path.join(dataset_dir, \"real\")\n",
    "\n",
    "fake_count = len(os.listdir(fake_dir)) if os.path.exists(fake_dir) else 0\n",
    "real_count = len(os.listdir(real_dir)) if os.path.exists(real_dir) else 0\n",
    "\n",
    "print(f\"Fake: {fake_count}, Real: {real_count}\")\n"
   ]
  },
  {
   "cell_type": "code",
   "execution_count": 18,
   "metadata": {},
   "outputs": [],
   "source": [
    "import os\n",
    "import numpy as np\n",
    "import matplotlib.pyplot as plt\n",
    "import seaborn as sns\n",
    "from tensorflow.keras.models import load_model\n",
    "from tensorflow.keras.preprocessing.image import ImageDataGenerator\n",
    "from sklearn.metrics import confusion_matrix, classification_report\n",
    "\n",
    "# 데이터셋 경로\n",
    "dataset_dir = \"/home/jangminoh_2/AI_Detector/data/자체 데이터셋 분류/음식\"\n",
    "fake_dir = \"/home/jangminoh_2/AI_Detector/data/자체 데이터셋 분류/음식/fake\"\n",
    "real_dir = \"/home/jangminoh_2/AI_Detector/data/자체 데이터셋 분류/음식/real\""
   ]
  },
  {
   "cell_type": "code",
   "execution_count": 19,
   "metadata": {},
   "outputs": [
    {
     "name": "stdout",
     "output_type": "stream",
     "text": [
      "Fake: 76, Real: 28\n"
     ]
    }
   ],
   "source": [
    "fake_count = len(os.listdir(fake_dir)) if os.path.exists(fake_dir) else 0\n",
    "real_count = len(os.listdir(real_dir)) if os.path.exists(real_dir) else 0\n",
    "\n",
    "print(f\"Fake: {fake_count}, Real: {real_count}\")"
   ]
  },
  {
   "cell_type": "code",
   "execution_count": 21,
   "metadata": {},
   "outputs": [
    {
     "name": "stderr",
     "output_type": "stream",
     "text": [
      "WARNING:absl:Compiled the loaded model, but the compiled metrics have yet to be built. `model.compile_metrics` will be empty until you train or evaluate the model.\n"
     ]
    }
   ],
   "source": [
    "# 모델 로드\n",
    "model_path = \"/home/jangminoh_2/AI_Detector/model/model_v3.h5\"\n",
    "model = load_model(model_path)"
   ]
  },
  {
   "cell_type": "code",
   "execution_count": 22,
   "metadata": {},
   "outputs": [
    {
     "name": "stdout",
     "output_type": "stream",
     "text": [
      "Found 101 images belonging to 2 classes.\n"
     ]
    },
    {
     "name": "stderr",
     "output_type": "stream",
     "text": [
      "/home/jangminoh_2/miniconda3/envs/ml-ops/lib/python3.12/site-packages/keras/src/trainers/data_adapters/py_dataset_adapter.py:121: UserWarning: Your `PyDataset` class should call `super().__init__(**kwargs)` in its constructor. `**kwargs` can include `workers`, `use_multiprocessing`, `max_queue_size`. Do not pass these arguments to `fit()`, as they will be ignored.\n",
      "  self._warn_if_super_not_called()\n"
     ]
    },
    {
     "name": "stdout",
     "output_type": "stream",
     "text": [
      "\u001b[1m101/101\u001b[0m \u001b[32m━━━━━━━━━━━━━━━━━━━━\u001b[0m\u001b[37m\u001b[0m \u001b[1m12s\u001b[0m 21ms/step\n",
      "[[9.5457536e-01]\n",
      " [9.9650687e-01]\n",
      " [9.9789399e-01]\n",
      " [9.9528056e-01]\n",
      " [1.4182043e-02]\n",
      " [4.2086679e-01]\n",
      " [2.7795950e-01]\n",
      " [8.4263301e-03]\n",
      " [1.1576612e-01]\n",
      " [6.4771641e-03]\n",
      " [2.7021831e-01]\n",
      " [1.1172198e-01]\n",
      " [3.0880790e-02]\n",
      " [9.1544956e-02]\n",
      " [6.9640923e-01]\n",
      " [1.8242188e-01]\n",
      " [7.7422269e-02]\n",
      " [4.4562940e-02]\n",
      " [4.9694709e-02]\n",
      " [2.8740713e-01]\n",
      " [4.4468018e-01]\n",
      " [1.7547445e-01]\n",
      " [8.2179505e-01]\n",
      " [4.4468018e-01]\n",
      " [7.7521706e-01]\n",
      " [7.8964061e-01]\n",
      " [8.8630486e-01]\n",
      " [1.6053618e-01]\n",
      " [7.3564792e-01]\n",
      " [7.6726365e-01]\n",
      " [9.4506037e-01]\n",
      " [9.3184173e-01]\n",
      " [1.2950917e-01]\n",
      " [4.5356533e-01]\n",
      " [1.0160146e-01]\n",
      " [2.8444105e-01]\n",
      " [7.5584787e-01]\n",
      " [7.5584787e-01]\n",
      " [2.1353092e-02]\n",
      " [8.4159836e-02]\n",
      " [8.0243282e-02]\n",
      " [9.3402386e-02]\n",
      " [1.9571429e-01]\n",
      " [1.1987637e-03]\n",
      " [9.6224932e-05]\n",
      " [1.1128248e-01]\n",
      " [1.1293284e-01]\n",
      " [5.5030249e-02]\n",
      " [1.8481077e-01]\n",
      " [1.8048327e-01]\n",
      " [9.7667575e-03]\n",
      " [8.2685041e-01]\n",
      " [4.1052160e-01]\n",
      " [7.4954653e-01]\n",
      " [1.4748780e-01]\n",
      " [8.1468809e-01]\n",
      " [5.5403709e-02]\n",
      " [3.7293130e-01]\n",
      " [3.7293130e-01]\n",
      " [1.2724911e-01]\n",
      " [1.2724911e-01]\n",
      " [6.7943913e-01]\n",
      " [4.6476933e-01]\n",
      " [8.1605881e-01]\n",
      " [9.1760015e-01]\n",
      " [2.4898490e-01]\n",
      " [9.2254430e-02]\n",
      " [1.7034326e-01]\n",
      " [5.2284992e-01]\n",
      " [2.3639199e-01]\n",
      " [2.4960634e-01]\n",
      " [7.9973626e-01]\n",
      " [3.9362490e-01]\n",
      " [7.3593879e-01]\n",
      " [1.0180201e-01]\n",
      " [1.2584262e-01]\n",
      " [9.6983653e-01]\n",
      " [9.6525508e-01]\n",
      " [6.3913077e-01]\n",
      " [3.7153611e-01]\n",
      " [9.4033480e-01]\n",
      " [2.7752927e-01]\n",
      " [7.7803677e-01]\n",
      " [8.6069596e-01]\n",
      " [9.9697089e-01]\n",
      " [8.2437521e-01]\n",
      " [2.5628629e-01]\n",
      " [7.5174779e-01]\n",
      " [1.6590425e-01]\n",
      " [4.9532216e-02]\n",
      " [3.5033850e-03]\n",
      " [8.6034781e-01]\n",
      " [1.3260590e-01]\n",
      " [4.6171570e-01]\n",
      " [3.4768257e-01]\n",
      " [9.9942446e-01]\n",
      " [2.8673244e-01]\n",
      " [9.9777395e-01]\n",
      " [3.8584939e-01]\n",
      " [1.4182328e-01]\n",
      " [4.8249784e-01]]\n",
      "Model Accuracy: 0.6337\n"
     ]
    },
    {
     "data": {
      "image/png": "[encoded data removed]",
      "text/plain": [
       "<Figure size 600x500 with 2 Axes>"
      ]
     },
     "metadata": {},
     "output_type": "display_data"
    },
    {
     "name": "stdout",
     "output_type": "stream",
     "text": [
      "\n",
      "Classification Report:\n",
      "              precision    recall  f1-score   support\n",
      "\n",
      "        fake       0.80      0.68      0.74        76\n",
      "        real       0.33      0.48      0.39        25\n",
      "\n",
      "    accuracy                           0.63       101\n",
      "   macro avg       0.57      0.58      0.57       101\n",
      "weighted avg       0.68      0.63      0.65       101\n",
      "\n"
     ]
    }
   ],
   "source": [
    "# 이미지 크기 및 배치 사이즈 설정\n",
    "img_size = (528, 528)  # EfficientNetB6의 입력 크기에 맞게 변경 가능\n",
    "batch_size = 1\n",
    "\n",
    "# 데이터 로더 설정 (test용)\n",
    "datagen = ImageDataGenerator(\n",
    "    preprocessing_function=tf.keras.applications.efficientnet.preprocess_input\n",
    ")\n",
    "\n",
    "test_generator = datagen.flow_from_directory(\n",
    "    dataset_dir,\n",
    "    target_size=img_size,\n",
    "    batch_size=batch_size,\n",
    "    class_mode=\"binary\",  # 이진 분류 (fake vs real)\n",
    "    shuffle= False\n",
    ")\n",
    "\n",
    "# 실제 라벨 가져오기\n",
    "y_true = test_generator.classes  # 0: fake, 1: real\n",
    "#print(y_true)\n",
    "class_names = list(test_generator.class_indices.keys())\n",
    "#print(class_names) #['fake', 'real']\n",
    "#print(test_generator.class_indices)\n",
    "\n",
    "# 예측 수행\n",
    "y_pred_probs = model.predict(test_generator, steps=test_generator.samples)  # 확률값 출력\n",
    "print(y_pred_probs)\n",
    "y_pred = (y_pred_probs > 0.5).astype(int).flatten()  # 0.5 이상이면 1(real), 아니면 0(fake)\n",
    "\n",
    "# 정확도 출력\n",
    "accuracy = np.mean(y_pred == y_true)\n",
    "print(f\"Model Accuracy: {accuracy:.4f}\")\n",
    "\n",
    "# Confusion Matrix 생성\n",
    "cm = confusion_matrix(y_true, y_pred)\n",
    "\n",
    "# Confusion Matrix 시각화\n",
    "plt.figure(figsize=(6, 5))\n",
    "sns.heatmap(cm, annot=True, fmt=\"d\", cmap=\"Blues\", xticklabels=class_names, yticklabels=class_names)\n",
    "plt.xlabel(\"Predicted Label\")\n",
    "plt.ylabel(\"True Label\")\n",
    "plt.title(\"Confusion Matrix\")\n",
    "plt.show()\n",
    "\n",
    "# 분류 보고서 출력\n",
    "print(\"\\nClassification Report:\")\n",
    "print(classification_report(y_true, y_pred, target_names=class_names))\n"
   ]
  },
  {
   "cell_type": "markdown",
   "metadata": {},
   "source": [
    "# 인물"
   ]
  },
  {
   "cell_type": "code",
   "execution_count": 23,
   "metadata": {},
   "outputs": [
    {
     "name": "stdout",
     "output_type": "stream",
     "text": [
      "Fake: 6, Real: 4\n"
     ]
    }
   ],
   "source": [
    "import os\n",
    "\n",
    "dataset_dir = \"/home/jangminoh_2/AI_Detector/data/자체 데이터셋 분류/인물\"\n",
    "fake_dir = os.path.join(dataset_dir, \"fake\")\n",
    "real_dir = os.path.join(dataset_dir, \"real\")\n",
    "\n",
    "fake_count = len(os.listdir(fake_dir)) if os.path.exists(fake_dir) else 0\n",
    "real_count = len(os.listdir(real_dir)) if os.path.exists(real_dir) else 0\n",
    "\n",
    "print(f\"Fake: {fake_count}, Real: {real_count}\")\n"
   ]
  },
  {
   "cell_type": "code",
   "execution_count": 24,
   "metadata": {},
   "outputs": [],
   "source": [
    "import os\n",
    "import numpy as np\n",
    "import matplotlib.pyplot as plt\n",
    "import seaborn as sns\n",
    "from tensorflow.keras.models import load_model\n",
    "from tensorflow.keras.preprocessing.image import ImageDataGenerator\n",
    "from sklearn.metrics import confusion_matrix, classification_report\n",
    "\n",
    "# 데이터셋 경로\n",
    "dataset_dir = \"/home/jangminoh_2/AI_Detector/data/자체 데이터셋 분류/인물\"\n",
    "fake_dir = \"/home/jangminoh_2/AI_Detector/data/자체 데이터셋 분류/인물/fake\"\n",
    "real_dir = \"/home/jangminoh_2/AI_Detector/data/자체 데이터셋 분류/인물/real\""
   ]
  },
  {
   "cell_type": "code",
   "execution_count": 25,
   "metadata": {},
   "outputs": [
    {
     "name": "stdout",
     "output_type": "stream",
     "text": [
      "Fake: 6, Real: 4\n"
     ]
    }
   ],
   "source": [
    "fake_count = len(os.listdir(fake_dir)) if os.path.exists(fake_dir) else 0\n",
    "real_count = len(os.listdir(real_dir)) if os.path.exists(real_dir) else 0\n",
    "\n",
    "print(f\"Fake: {fake_count}, Real: {real_count}\")"
   ]
  },
  {
   "cell_type": "code",
   "execution_count": 28,
   "metadata": {},
   "outputs": [
    {
     "name": "stderr",
     "output_type": "stream",
     "text": [
      "WARNING:absl:Compiled the loaded model, but the compiled metrics have yet to be built. `model.compile_metrics` will be empty until you train or evaluate the model.\n"
     ]
    }
   ],
   "source": [
    "# 모델 로드\n",
    "model_path = \"/home/jangminoh_2/AI_Detector/model/model_v3.h5\"\n",
    "model = load_model(model_path)"
   ]
  },
  {
   "cell_type": "code",
   "execution_count": 29,
   "metadata": {},
   "outputs": [
    {
     "name": "stdout",
     "output_type": "stream",
     "text": [
      "Found 10 images belonging to 2 classes.\n"
     ]
    },
    {
     "name": "stderr",
     "output_type": "stream",
     "text": [
      "/home/jangminoh_2/miniconda3/envs/ml-ops/lib/python3.12/site-packages/keras/src/trainers/data_adapters/py_dataset_adapter.py:121: UserWarning: Your `PyDataset` class should call `super().__init__(**kwargs)` in its constructor. `**kwargs` can include `workers`, `use_multiprocessing`, `max_queue_size`. Do not pass these arguments to `fit()`, as they will be ignored.\n",
      "  self._warn_if_super_not_called()\n"
     ]
    },
    {
     "name": "stdout",
     "output_type": "stream",
     "text": [
      "\u001b[1m10/10\u001b[0m \u001b[32m━━━━━━━━━━━━━━━━━━━━\u001b[0m\u001b[37m\u001b[0m \u001b[1m10s\u001b[0m 22ms/step\n",
      "[[0.01730872]\n",
      " [0.21533085]\n",
      " [0.17414533]\n",
      " [0.13931541]\n",
      " [0.12213163]\n",
      " [0.00377311]\n",
      " [0.62005347]\n",
      " [0.2077292 ]\n",
      " [0.16205381]\n",
      " [0.17170203]]\n",
      "Model Accuracy: 0.7000\n"
     ]
    },
    {
     "data": {
      "image/png": "[encoded data removed]",
      "text/plain": [
       "<Figure size 600x500 with 2 Axes>"
      ]
     },
     "metadata": {},
     "output_type": "display_data"
    },
    {
     "name": "stdout",
     "output_type": "stream",
     "text": [
      "\n",
      "Classification Report:\n",
      "              precision    recall  f1-score   support\n",
      "\n",
      "        fake       0.67      1.00      0.80         6\n",
      "        real       1.00      0.25      0.40         4\n",
      "\n",
      "    accuracy                           0.70        10\n",
      "   macro avg       0.83      0.62      0.60        10\n",
      "weighted avg       0.80      0.70      0.64        10\n",
      "\n"
     ]
    }
   ],
   "source": [
    "# 이미지 크기 및 배치 사이즈 설정\n",
    "img_size = (528, 528)  # EfficientNetB6의 입력 크기에 맞게 변경 가능\n",
    "batch_size = 1\n",
    "\n",
    "# 데이터 로더 설정 (test용)\n",
    "datagen = ImageDataGenerator(\n",
    "    preprocessing_function=tf.keras.applications.efficientnet.preprocess_input\n",
    ")\n",
    "\n",
    "test_generator = datagen.flow_from_directory(\n",
    "    dataset_dir,\n",
    "    target_size=img_size,\n",
    "    batch_size=batch_size,\n",
    "    class_mode=\"binary\",  # 이진 분류 (fake vs real)\n",
    "    shuffle= False\n",
    ")\n",
    "\n",
    "# 실제 라벨 가져오기\n",
    "y_true = test_generator.classes  # 0: fake, 1: real\n",
    "#print(y_true)\n",
    "class_names = list(test_generator.class_indices.keys())\n",
    "#print(class_names) #['fake', 'real']\n",
    "#print(test_generator.class_indices)\n",
    "\n",
    "# 예측 수행\n",
    "y_pred_probs = model.predict(test_generator, steps=test_generator.samples)  # 확률값 출력\n",
    "print(y_pred_probs)\n",
    "y_pred = (y_pred_probs > 0.5).astype(int).flatten()  # 0.5 이상이면 1(real), 아니면 0(fake)\n",
    "\n",
    "# 정확도 출력\n",
    "accuracy = np.mean(y_pred == y_true)\n",
    "print(f\"Model Accuracy: {accuracy:.4f}\")\n",
    "\n",
    "# Confusion Matrix 생성\n",
    "cm = confusion_matrix(y_true, y_pred)\n",
    "\n",
    "# Confusion Matrix 시각화\n",
    "plt.figure(figsize=(6, 5))\n",
    "sns.heatmap(cm, annot=True, fmt=\"d\", cmap=\"Blues\", xticklabels=class_names, yticklabels=class_names)\n",
    "plt.xlabel(\"Predicted Label\")\n",
    "plt.ylabel(\"True Label\")\n",
    "plt.title(\"Confusion Matrix\")\n",
    "plt.show()\n",
    "\n",
    "# 분류 보고서 출력\n",
    "print(\"\\nClassification Report:\")\n",
    "print(classification_report(y_true, y_pred, target_names=class_names))\n"
   ]
  },
  {
   "cell_type": "markdown",
   "metadata": {},
   "source": [
    "# 풍경"
   ]
  },
  {
   "cell_type": "code",
   "execution_count": 30,
   "metadata": {},
   "outputs": [
    {
     "name": "stdout",
     "output_type": "stream",
     "text": [
      "Fake: 90, Real: 42\n"
     ]
    }
   ],
   "source": [
    "import os\n",
    "\n",
    "dataset_dir = \"/home/jangminoh_2/AI_Detector/data/자체 데이터셋 분류/풍경(70)\"\n",
    "fake_dir = os.path.join(dataset_dir, \"fake\")\n",
    "real_dir = os.path.join(dataset_dir, \"real\")\n",
    "\n",
    "fake_count = len(os.listdir(fake_dir)) if os.path.exists(fake_dir) else 0\n",
    "real_count = len(os.listdir(real_dir)) if os.path.exists(real_dir) else 0\n",
    "\n",
    "print(f\"Fake: {fake_count}, Real: {real_count}\")\n"
   ]
  },
  {
   "cell_type": "code",
   "execution_count": 32,
   "metadata": {},
   "outputs": [],
   "source": [
    "import os\n",
    "import numpy as np\n",
    "import matplotlib.pyplot as plt\n",
    "import seaborn as sns\n",
    "from tensorflow.keras.models import load_model\n",
    "from tensorflow.keras.preprocessing.image import ImageDataGenerator\n",
    "from sklearn.metrics import confusion_matrix, classification_report\n",
    "# 데이터셋 경로\n",
    "dataset_dir = \"/home/jangminoh_2/AI_Detector/data/자체 데이터셋 분류/풍경(70)\"\n",
    "fake_dir = \"/home/jangminoh_2/AI_Detector/data/자체 데이터셋 분류/풍경(70)/fake\"\n",
    "real_dir = \"/home/jangminoh_2/AI_Detector/data/자체 데이터셋 분류/풍경(70)/real\""
   ]
  },
  {
   "cell_type": "code",
   "execution_count": 33,
   "metadata": {},
   "outputs": [
    {
     "name": "stdout",
     "output_type": "stream",
     "text": [
      "Fake: 90, Real: 42\n"
     ]
    }
   ],
   "source": [
    "fake_count = len(os.listdir(fake_dir)) if os.path.exists(fake_dir) else 0\n",
    "real_count = len(os.listdir(real_dir)) if os.path.exists(real_dir) else 0\n",
    "\n",
    "print(f\"Fake: {fake_count}, Real: {real_count}\")"
   ]
  },
  {
   "cell_type": "code",
   "execution_count": null,
   "metadata": {},
   "outputs": [
    {
     "name": "stderr",
     "output_type": "stream",
     "text": [
      "WARNING:absl:Compiled the loaded model, but the compiled metrics have yet to be built. `model.compile_metrics` will be empty until you train or evaluate the model.\n"
     ]
    }
   ],
   "source": [
    "# 모델 로드\n",
    "model_path = \"/home/jangminoh_2/AI_Detector/model/model_v3.h5\"\n",
    "model = load_model(model_path)"
   ]
  },
  {
   "cell_type": "code",
   "execution_count": 34,
   "metadata": {},
   "outputs": [
    {
     "name": "stdout",
     "output_type": "stream",
     "text": [
      "Found 122 images belonging to 2 classes.\n"
     ]
    },
    {
     "name": "stdout",
     "output_type": "stream",
     "text": [
      "\u001b[1m  4/122\u001b[0m \u001b[37m━━━━━━━━━━━━━━━━━━━━\u001b[0m \u001b[1m2s\u001b[0m 20ms/step"
     ]
    },
    {
     "name": "stderr",
     "output_type": "stream",
     "text": [
      "/home/jangminoh_2/miniconda3/envs/ml-ops/lib/python3.12/site-packages/keras/src/trainers/data_adapters/py_dataset_adapter.py:121: UserWarning: Your `PyDataset` class should call `super().__init__(**kwargs)` in its constructor. `**kwargs` can include `workers`, `use_multiprocessing`, `max_queue_size`. Do not pass these arguments to `fit()`, as they will be ignored.\n",
      "  self._warn_if_super_not_called()\n"
     ]
    },
    {
     "name": "stdout",
     "output_type": "stream",
     "text": [
      "\u001b[1m122/122\u001b[0m \u001b[32m━━━━━━━━━━━━━━━━━━━━\u001b[0m\u001b[37m\u001b[0m \u001b[1m2s\u001b[0m 19ms/step\n",
      "[[0.6806289 ]\n",
      " [0.93015885]\n",
      " [0.04198333]\n",
      " [0.33093908]\n",
      " [0.9574407 ]\n",
      " [0.84490174]\n",
      " [0.20941131]\n",
      " [0.94405377]\n",
      " [0.9340155 ]\n",
      " [0.9903763 ]\n",
      " [0.8300643 ]\n",
      " [0.20598328]\n",
      " [0.0797137 ]\n",
      " [0.9024134 ]\n",
      " [0.8718362 ]\n",
      " [0.45284295]\n",
      " [0.99417526]\n",
      " [0.99617696]\n",
      " [0.8399935 ]\n",
      " [0.93132883]\n",
      " [0.98510695]\n",
      " [0.6931249 ]\n",
      " [0.12091379]\n",
      " [0.9595847 ]\n",
      " [0.99126387]\n",
      " [0.8955217 ]\n",
      " [0.90877527]\n",
      " [0.9589691 ]\n",
      " [0.36800545]\n",
      " [0.32625115]\n",
      " [0.9287557 ]\n",
      " [0.47559154]\n",
      " [0.98900944]\n",
      " [0.00598035]\n",
      " [0.92711943]\n",
      " [0.9757101 ]\n",
      " [0.9706755 ]\n",
      " [0.99579453]\n",
      " [0.22163452]\n",
      " [0.48037186]\n",
      " [0.00739175]\n",
      " [0.07157359]\n",
      " [0.9628238 ]\n",
      " [0.22401631]\n",
      " [0.9733829 ]\n",
      " [0.9565209 ]\n",
      " [0.01648417]\n",
      " [0.9824253 ]\n",
      " [0.95121145]\n",
      " [0.7944812 ]\n",
      " [0.94093555]\n",
      " [0.10525543]\n",
      " [0.01447047]\n",
      " [0.06093998]\n",
      " [0.96348035]\n",
      " [0.18738016]\n",
      " [0.6393932 ]\n",
      " [0.00356462]\n",
      " [0.17960487]\n",
      " [0.9487889 ]\n",
      " [0.0293229 ]\n",
      " [0.33275077]\n",
      " [0.01339777]\n",
      " [0.05265506]\n",
      " [0.7337343 ]\n",
      " [0.02185622]\n",
      " [0.76361316]\n",
      " [0.8590583 ]\n",
      " [0.79117346]\n",
      " [0.9278579 ]\n",
      " [0.96770644]\n",
      " [0.5284655 ]\n",
      " [0.99748385]\n",
      " [0.95025736]\n",
      " [0.65868354]\n",
      " [0.7798075 ]\n",
      " [0.99441105]\n",
      " [0.970463  ]\n",
      " [0.99561876]\n",
      " [0.99899215]\n",
      " [0.98442286]\n",
      " [0.42381245]\n",
      " [0.9760719 ]\n",
      " [0.90276474]\n",
      " [0.96695054]\n",
      " [0.9982681 ]\n",
      " [0.9960939 ]\n",
      " [0.9074815 ]\n",
      " [0.9648243 ]\n",
      " [0.95958155]\n",
      " [0.99725026]\n",
      " [0.9374087 ]\n",
      " [0.9966965 ]\n",
      " [0.97484165]\n",
      " [0.99504167]\n",
      " [0.95135427]\n",
      " [0.99014354]\n",
      " [0.9955987 ]\n",
      " [0.9920174 ]\n",
      " [0.9975922 ]\n",
      " [0.5608425 ]\n",
      " [0.8313779 ]\n",
      " [0.99388725]\n",
      " [0.9586133 ]\n",
      " [0.9947448 ]\n",
      " [0.9725673 ]\n",
      " [0.9940999 ]\n",
      " [0.9960238 ]\n",
      " [0.991932  ]\n",
      " [0.9996195 ]\n",
      " [0.95461327]\n",
      " [0.9989843 ]\n",
      " [0.9924056 ]\n",
      " [0.8256824 ]\n",
      " [0.9990916 ]\n",
      " [0.9932191 ]\n",
      " [0.95233333]\n",
      " [0.9703583 ]\n",
      " [0.9982704 ]\n",
      " [0.880406  ]\n",
      " [0.99071634]\n",
      " [0.988596  ]]\n",
      "Model Accuracy: 0.5656\n"
     ]
    },
    {
     "data": {
      "image/png": "[encoded data removed]",
      "text/plain": [
       "<Figure size 600x500 with 2 Axes>"
      ]
     },
     "metadata": {},
     "output_type": "display_data"
    },
    {
     "name": "stdout",
     "output_type": "stream",
     "text": [
      "\n",
      "Classification Report:\n",
      "              precision    recall  f1-score   support\n",
      "\n",
      "        fake       0.97      0.35      0.51        80\n",
      "        real       0.44      0.98      0.61        42\n",
      "\n",
      "    accuracy                           0.57       122\n",
      "   macro avg       0.70      0.66      0.56       122\n",
      "weighted avg       0.78      0.57      0.55       122\n",
      "\n"
     ]
    }
   ],
   "source": [
    "# 이미지 크기 및 배치 사이즈 설정\n",
    "img_size = (528, 528)  # EfficientNetB6의 입력 크기에 맞게 변경 가능\n",
    "batch_size = 1\n",
    "\n",
    "# 데이터 로더 설정 (test용)\n",
    "datagen = ImageDataGenerator(\n",
    "    preprocessing_function=tf.keras.applications.efficientnet.preprocess_input\n",
    ")\n",
    "\n",
    "test_generator = datagen.flow_from_directory(\n",
    "    dataset_dir,\n",
    "    target_size=img_size,\n",
    "    batch_size=batch_size,\n",
    "    class_mode=\"binary\",  # 이진 분류 (fake vs real)\n",
    "    shuffle= False\n",
    ")\n",
    "\n",
    "# 실제 라벨 가져오기\n",
    "y_true = test_generator.classes  # 0: fake, 1: real\n",
    "#print(y_true)\n",
    "class_names = list(test_generator.class_indices.keys())\n",
    "#print(class_names) #['fake', 'real']\n",
    "#print(test_generator.class_indices)\n",
    "\n",
    "# 예측 수행\n",
    "y_pred_probs = model.predict(test_generator, steps=test_generator.samples)  # 확률값 출력\n",
    "print(y_pred_probs)\n",
    "y_pred = (y_pred_probs > 0.5).astype(int).flatten()  # 0.5 이상이면 1(real), 아니면 0(fake)\n",
    "\n",
    "# 정확도 출력\n",
    "accuracy = np.mean(y_pred == y_true)\n",
    "print(f\"Model Accuracy: {accuracy:.4f}\")\n",
    "\n",
    "# Confusion Matrix 생성\n",
    "cm = confusion_matrix(y_true, y_pred)\n",
    "\n",
    "# Confusion Matrix 시각화\n",
    "plt.figure(figsize=(6, 5))\n",
    "sns.heatmap(cm, annot=True, fmt=\"d\", cmap=\"Blues\", xticklabels=class_names, yticklabels=class_names)\n",
    "plt.xlabel(\"Predicted Label\")\n",
    "plt.ylabel(\"True Label\")\n",
    "plt.title(\"Confusion Matrix\")\n",
    "plt.show()\n",
    "\n",
    "# 분류 보고서 출력\n",
    "print(\"\\nClassification Report:\")\n",
    "print(classification_report(y_true, y_pred, target_names=class_names))\n"
   ]
  },
  {
   "cell_type": "markdown",
   "metadata": {},
   "source": [
    "# 풍경화"
   ]
  },
  {
   "cell_type": "code",
   "execution_count": 35,
   "metadata": {},
   "outputs": [
    {
     "name": "stdout",
     "output_type": "stream",
     "text": [
      "Fake: 111, Real: 0\n"
     ]
    }
   ],
   "source": [
    "import os\n",
    "\n",
    "dataset_dir = \"/home/jangminoh_2/AI_Detector/data/자체 데이터셋 분류/풍경화(111)\"\n",
    "fake_dir = os.path.join(dataset_dir, \"fake\")\n",
    "real_dir = os.path.join(dataset_dir, \"real\")\n",
    "\n",
    "fake_count = len(os.listdir(fake_dir)) if os.path.exists(fake_dir) else 0\n",
    "real_count = len(os.listdir(real_dir)) if os.path.exists(real_dir) else 0\n",
    "\n",
    "print(f\"Fake: {fake_count}, Real: {real_count}\")\n"
   ]
  },
  {
   "cell_type": "code",
   "execution_count": 36,
   "metadata": {},
   "outputs": [],
   "source": [
    "import os\n",
    "import numpy as np\n",
    "import matplotlib.pyplot as plt\n",
    "import seaborn as sns\n",
    "from tensorflow.keras.models import load_model\n",
    "from tensorflow.keras.preprocessing.image import ImageDataGenerator\n",
    "from sklearn.metrics import confusion_matrix, classification_report\n",
    "\n",
    "# 데이터셋 경로\n",
    "dataset_dir = \"/home/jangminoh_2/AI_Detector/data/자체 데이터셋 분류/풍경화(111)\"\n",
    "fake_dir = \"/home/jangminoh_2/AI_Detector/data/자체 데이터셋 분류/풍경화(111)/fake\"\n",
    "real_dir = \"/home/jangminoh_2/AI_Detector/data/자체 데이터셋 분류/풍경화(111)/real\""
   ]
  },
  {
   "cell_type": "code",
   "execution_count": 37,
   "metadata": {},
   "outputs": [
    {
     "name": "stdout",
     "output_type": "stream",
     "text": [
      "Fake: 111, Real: 0\n"
     ]
    }
   ],
   "source": [
    "fake_count = len(os.listdir(fake_dir)) if os.path.exists(fake_dir) else 0\n",
    "real_count = len(os.listdir(real_dir)) if os.path.exists(real_dir) else 0\n",
    "\n",
    "print(f\"Fake: {fake_count}, Real: {real_count}\")"
   ]
  },
  {
   "cell_type": "code",
   "execution_count": 39,
   "metadata": {},
   "outputs": [
    {
     "name": "stderr",
     "output_type": "stream",
     "text": [
      "WARNING:absl:Compiled the loaded model, but the compiled metrics have yet to be built. `model.compile_metrics` will be empty until you train or evaluate the model.\n"
     ]
    }
   ],
   "source": [
    "# 모델 로드\n",
    "model_path = \"/home/jangminoh_2/AI_Detector/model/model_v3.h5\"\n",
    "model = load_model(model_path)"
   ]
  },
  {
   "cell_type": "code",
   "execution_count": 40,
   "metadata": {},
   "outputs": [
    {
     "name": "stdout",
     "output_type": "stream",
     "text": [
      "Found 92 images belonging to 2 classes.\n"
     ]
    },
    {
     "name": "stderr",
     "output_type": "stream",
     "text": [
      "/home/jangminoh_2/miniconda3/envs/ml-ops/lib/python3.12/site-packages/keras/src/trainers/data_adapters/py_dataset_adapter.py:121: UserWarning: Your `PyDataset` class should call `super().__init__(**kwargs)` in its constructor. `**kwargs` can include `workers`, `use_multiprocessing`, `max_queue_size`. Do not pass these arguments to `fit()`, as they will be ignored.\n",
      "  self._warn_if_super_not_called()\n"
     ]
    },
    {
     "name": "stdout",
     "output_type": "stream",
     "text": [
      "\u001b[1m92/92\u001b[0m \u001b[32m━━━━━━━━━━━━━━━━━━━━\u001b[0m\u001b[37m\u001b[0m \u001b[1m12s\u001b[0m 19ms/step\n",
      "[[1.45533457e-04]\n",
      " [9.08497989e-01]\n",
      " [8.88572872e-01]\n",
      " [9.94575381e-01]\n",
      " [9.90309060e-01]\n",
      " [9.46474552e-01]\n",
      " [5.93204081e-01]\n",
      " [8.76157403e-01]\n",
      " [1.76102802e-01]\n",
      " [8.49487543e-01]\n",
      " [4.71898705e-01]\n",
      " [4.78108615e-01]\n",
      " [9.07286227e-01]\n",
      " [9.01508152e-01]\n",
      " [7.94436097e-01]\n",
      " [8.05222869e-01]\n",
      " [7.55886197e-01]\n",
      " [2.32796714e-01]\n",
      " [8.19565773e-01]\n",
      " [7.17163861e-01]\n",
      " [7.33723998e-01]\n",
      " [2.45942287e-02]\n",
      " [7.71870136e-01]\n",
      " [1.38262333e-02]\n",
      " [9.96879697e-01]\n",
      " [1.08440146e-01]\n",
      " [9.70900357e-01]\n",
      " [1.73761137e-02]\n",
      " [1.47697166e-01]\n",
      " [1.06507272e-01]\n",
      " [6.99229240e-02]\n",
      " [9.84586120e-01]\n",
      " [9.98400509e-01]\n",
      " [9.63573933e-01]\n",
      " [9.59583640e-01]\n",
      " [9.96268511e-01]\n",
      " [8.26447904e-01]\n",
      " [3.57539922e-01]\n",
      " [9.50543940e-01]\n",
      " [9.98215437e-01]\n",
      " [4.76916321e-02]\n",
      " [9.72688437e-01]\n",
      " [7.85357237e-01]\n",
      " [9.88287032e-01]\n",
      " [8.94000351e-01]\n",
      " [9.71022606e-01]\n",
      " [7.65086710e-01]\n",
      " [7.76344478e-01]\n",
      " [8.14115822e-01]\n",
      " [9.84730482e-01]\n",
      " [9.04820979e-01]\n",
      " [8.44426811e-01]\n",
      " [5.93254149e-01]\n",
      " [9.91534770e-01]\n",
      " [2.37215817e-01]\n",
      " [5.78901112e-01]\n",
      " [9.89288926e-01]\n",
      " [3.79497617e-01]\n",
      " [8.18212032e-02]\n",
      " [9.90964413e-01]\n",
      " [9.96763110e-01]\n",
      " [3.25626254e-01]\n",
      " [9.10900652e-01]\n",
      " [1.69863433e-01]\n",
      " [7.52348378e-02]\n",
      " [4.78252500e-01]\n",
      " [3.13316554e-01]\n",
      " [5.39609790e-01]\n",
      " [9.73032892e-01]\n",
      " [8.12059104e-01]\n",
      " [3.25630069e-01]\n",
      " [7.66183197e-01]\n",
      " [7.49911249e-01]\n",
      " [1.85203794e-02]\n",
      " [1.40814289e-01]\n",
      " [4.67621714e-01]\n",
      " [1.66839421e-01]\n",
      " [5.21190725e-02]\n",
      " [8.37198973e-01]\n",
      " [4.46833551e-01]\n",
      " [8.13768864e-01]\n",
      " [9.89878774e-01]\n",
      " [8.76907051e-01]\n",
      " [9.76661742e-01]\n",
      " [3.68416816e-01]\n",
      " [8.19483697e-01]\n",
      " [9.76458311e-01]\n",
      " [9.98046398e-01]\n",
      " [9.51524377e-02]\n",
      " [2.57897731e-02]\n",
      " [9.90408897e-01]\n",
      " [9.71073091e-01]]\n",
      "Model Accuracy: 0.3478\n"
     ]
    },
    {
     "data": {
      "image/png": "[encoded data removed]",
      "text/plain": [
       "<Figure size 600x500 with 2 Axes>"
      ]
     },
     "metadata": {},
     "output_type": "display_data"
    },
    {
     "name": "stdout",
     "output_type": "stream",
     "text": [
      "\n",
      "Classification Report:\n",
      "              precision    recall  f1-score   support\n",
      "\n",
      "        fake       1.00      0.35      0.52        92\n",
      "        real       0.00      0.00      0.00         0\n",
      "\n",
      "    accuracy                           0.35        92\n",
      "   macro avg       0.50      0.17      0.26        92\n",
      "weighted avg       1.00      0.35      0.52        92\n",
      "\n"
     ]
    },
    {
     "name": "stderr",
     "output_type": "stream",
     "text": [
      "/home/jangminoh_2/miniconda3/envs/ml-ops/lib/python3.12/site-packages/sklearn/metrics/_classification.py:1565: UndefinedMetricWarning: Recall is ill-defined and being set to 0.0 in labels with no true samples. Use `zero_division` parameter to control this behavior.\n",
      "  _warn_prf(average, modifier, f\"{metric.capitalize()} is\", len(result))\n",
      "/home/jangminoh_2/miniconda3/envs/ml-ops/lib/python3.12/site-packages/sklearn/metrics/_classification.py:1565: UndefinedMetricWarning: Recall is ill-defined and being set to 0.0 in labels with no true samples. Use `zero_division` parameter to control this behavior.\n",
      "  _warn_prf(average, modifier, f\"{metric.capitalize()} is\", len(result))\n",
      "/home/jangminoh_2/miniconda3/envs/ml-ops/lib/python3.12/site-packages/sklearn/metrics/_classification.py:1565: UndefinedMetricWarning: Recall is ill-defined and being set to 0.0 in labels with no true samples. Use `zero_division` parameter to control this behavior.\n",
      "  _warn_prf(average, modifier, f\"{metric.capitalize()} is\", len(result))\n"
     ]
    }
   ],
   "source": [
    "# 이미지 크기 및 배치 사이즈 설정\n",
    "img_size = (528, 528)  # EfficientNetB6의 입력 크기에 맞게 변경 가능\n",
    "batch_size = 1\n",
    "\n",
    "# 데이터 로더 설정 (test용)\n",
    "datagen = ImageDataGenerator(\n",
    "    preprocessing_function=tf.keras.applications.efficientnet.preprocess_input\n",
    ")\n",
    "\n",
    "test_generator = datagen.flow_from_directory(\n",
    "    dataset_dir,\n",
    "    target_size=img_size,\n",
    "    batch_size=batch_size,\n",
    "    class_mode=\"binary\",  # 이진 분류 (fake vs real)\n",
    "    shuffle= False\n",
    ")\n",
    "\n",
    "# 실제 라벨 가져오기\n",
    "y_true = test_generator.classes  # 0: fake, 1: real\n",
    "#print(y_true)\n",
    "class_names = list(test_generator.class_indices.keys())\n",
    "#print(class_names) #['fake', 'real']\n",
    "#print(test_generator.class_indices)\n",
    "\n",
    "# 예측 수행\n",
    "y_pred_probs = model.predict(test_generator, steps=test_generator.samples)  # 확률값 출력\n",
    "print(y_pred_probs)\n",
    "y_pred = (y_pred_probs > 0.5).astype(int).flatten()  # 0.5 이상이면 1(real), 아니면 0(fake)\n",
    "\n",
    "# 정확도 출력\n",
    "accuracy = np.mean(y_pred == y_true)\n",
    "print(f\"Model Accuracy: {accuracy:.4f}\")\n",
    "\n",
    "# Confusion Matrix 생성\n",
    "cm = confusion_matrix(y_true, y_pred)\n",
    "\n",
    "# Confusion Matrix 시각화\n",
    "plt.figure(figsize=(6, 5))\n",
    "sns.heatmap(cm, annot=True, fmt=\"d\", cmap=\"Blues\", xticklabels=class_names, yticklabels=class_names)\n",
    "plt.xlabel(\"Predicted Label\")\n",
    "plt.ylabel(\"True Label\")\n",
    "plt.title(\"Confusion Matrix\")\n",
    "plt.show()\n",
    "\n",
    "# 분류 보고서 출력\n",
    "print(\"\\nClassification Report:\")\n",
    "print(classification_report(y_true, y_pred, target_names=class_names))\n"
   ]
  },
  {
   "cell_type": "markdown",
   "metadata": {},
   "source": [
    "# 흑백사진"
   ]
  },
  {
   "cell_type": "code",
   "execution_count": 41,
   "metadata": {},
   "outputs": [
    {
     "name": "stdout",
     "output_type": "stream",
     "text": [
      "Fake: 11, Real: 3\n"
     ]
    }
   ],
   "source": [
    "import os\n",
    "\n",
    "dataset_dir = \"/home/jangminoh_2/AI_Detector/data/자체 데이터셋 분류/흑백사진\"\n",
    "fake_dir = os.path.join(dataset_dir, \"fake\")\n",
    "real_dir = os.path.join(dataset_dir, \"real\")\n",
    "\n",
    "fake_count = len(os.listdir(fake_dir)) if os.path.exists(fake_dir) else 0\n",
    "real_count = len(os.listdir(real_dir)) if os.path.exists(real_dir) else 0\n",
    "\n",
    "print(f\"Fake: {fake_count}, Real: {real_count}\")\n"
   ]
  },
  {
   "cell_type": "code",
   "execution_count": 42,
   "metadata": {},
   "outputs": [],
   "source": [
    "import os\n",
    "import numpy as np\n",
    "import matplotlib.pyplot as plt\n",
    "import seaborn as sns\n",
    "from tensorflow.keras.models import load_model\n",
    "from tensorflow.keras.preprocessing.image import ImageDataGenerator\n",
    "from sklearn.metrics import confusion_matrix, classification_report\n",
    "\n",
    "# 데이터셋 경로\n",
    "dataset_dir = \"/home/jangminoh_2/AI_Detector/data/자체 데이터셋 분류/흑백사진\"\n",
    "fake_dir = \"/home/jangminoh_2/AI_Detector/data/자체 데이터셋 분류/흑백사진/fake\"\n",
    "real_dir = \"/home/jangminoh_2/AI_Detector/data/자체 데이터셋 분류/흑백사진/real\""
   ]
  },
  {
   "cell_type": "code",
   "execution_count": 43,
   "metadata": {},
   "outputs": [
    {
     "name": "stdout",
     "output_type": "stream",
     "text": [
      "Fake: 11, Real: 3\n"
     ]
    }
   ],
   "source": [
    "fake_count = len(os.listdir(fake_dir)) if os.path.exists(fake_dir) else 0\n",
    "real_count = len(os.listdir(real_dir)) if os.path.exists(real_dir) else 0\n",
    "\n",
    "print(f\"Fake: {fake_count}, Real: {real_count}\")"
   ]
  },
  {
   "cell_type": "code",
   "execution_count": 24,
   "metadata": {},
   "outputs": [
    {
     "name": "stderr",
     "output_type": "stream",
     "text": [
      "WARNING:absl:Compiled the loaded model, but the compiled metrics have yet to be built. `model.compile_metrics` will be empty until you train or evaluate the model.\n"
     ]
    }
   ],
   "source": [
    "# 모델 로드\n",
    "model_path = \"/home/jangminoh_2/AI_Detector/model/model_v7.h5\"\n",
    "model = load_model(model_path)"
   ]
  },
  {
   "cell_type": "code",
   "execution_count": 44,
   "metadata": {},
   "outputs": [
    {
     "name": "stdout",
     "output_type": "stream",
     "text": [
      "Found 14 images belonging to 2 classes.\n"
     ]
    },
    {
     "name": "stdout",
     "output_type": "stream",
     "text": [
      "\u001b[1m 1/14\u001b[0m \u001b[32m━\u001b[0m\u001b[37m━━━━━━━━━━━━━━━━━━━\u001b[0m \u001b[1m1s\u001b[0m 82ms/step"
     ]
    },
    {
     "name": "stderr",
     "output_type": "stream",
     "text": [
      "/home/jangminoh_2/miniconda3/envs/ml-ops/lib/python3.12/site-packages/keras/src/trainers/data_adapters/py_dataset_adapter.py:121: UserWarning: Your `PyDataset` class should call `super().__init__(**kwargs)` in its constructor. `**kwargs` can include `workers`, `use_multiprocessing`, `max_queue_size`. Do not pass these arguments to `fit()`, as they will be ignored.\n",
      "  self._warn_if_super_not_called()\n"
     ]
    },
    {
     "name": "stdout",
     "output_type": "stream",
     "text": [
      "\u001b[1m14/14\u001b[0m \u001b[32m━━━━━━━━━━━━━━━━━━━━\u001b[0m\u001b[37m\u001b[0m \u001b[1m0s\u001b[0m 21ms/step\n",
      "[[0.06554352]\n",
      " [0.04350508]\n",
      " [0.05180035]\n",
      " [0.07396573]\n",
      " [0.09789239]\n",
      " [0.01910481]\n",
      " [0.00462563]\n",
      " [0.7645095 ]\n",
      " [0.9140981 ]\n",
      " [0.53219694]\n",
      " [0.25280586]\n",
      " [0.65303034]\n",
      " [0.92425036]\n",
      " [0.0519803 ]]\n",
      "Model Accuracy: 0.7143\n"
     ]
    },
    {
     "data": {
      "image/png": "[encoded data removed]",
      "text/plain": [
       "<Figure size 600x500 with 2 Axes>"
      ]
     },
     "metadata": {},
     "output_type": "display_data"
    },
    {
     "name": "stdout",
     "output_type": "stream",
     "text": [
      "\n",
      "Classification Report:\n",
      "              precision    recall  f1-score   support\n",
      "\n",
      "        fake       0.89      0.73      0.80        11\n",
      "        real       0.40      0.67      0.50         3\n",
      "\n",
      "    accuracy                           0.71        14\n",
      "   macro avg       0.64      0.70      0.65        14\n",
      "weighted avg       0.78      0.71      0.74        14\n",
      "\n"
     ]
    }
   ],
   "source": [
    "# 이미지 크기 및 배치 사이즈 설정\n",
    "img_size = (528, 528)  # EfficientNetB6의 입력 크기에 맞게 변경 가능\n",
    "batch_size = 1\n",
    "\n",
    "# 데이터 로더 설정 (test용)\n",
    "datagen = ImageDataGenerator(\n",
    "    preprocessing_function=tf.keras.applications.efficientnet.preprocess_input\n",
    ")\n",
    "\n",
    "test_generator = datagen.flow_from_directory(\n",
    "    dataset_dir,\n",
    "    target_size=img_size,\n",
    "    batch_size=batch_size,\n",
    "    class_mode=\"binary\",  # 이진 분류 (fake vs real)\n",
    "    shuffle= False\n",
    ")\n",
    "\n",
    "# 실제 라벨 가져오기\n",
    "y_true = test_generator.classes  # 0: fake, 1: real\n",
    "#print(y_true)\n",
    "class_names = list(test_generator.class_indices.keys())\n",
    "#print(class_names) #['fake', 'real']\n",
    "#print(test_generator.class_indices)\n",
    "\n",
    "# 예측 수행\n",
    "y_pred_probs = model.predict(test_generator, steps=test_generator.samples)  # 확률값 출력\n",
    "print(y_pred_probs)\n",
    "y_pred = (y_pred_probs > 0.5).astype(int).flatten()  # 0.5 이상이면 1(real), 아니면 0(fake)\n",
    "\n",
    "# 정확도 출력\n",
    "accuracy = np.mean(y_pred == y_true)\n",
    "print(f\"Model Accuracy: {accuracy:.4f}\")\n",
    "\n",
    "# Confusion Matrix 생성\n",
    "cm = confusion_matrix(y_true, y_pred)\n",
    "\n",
    "# Confusion Matrix 시각화\n",
    "plt.figure(figsize=(6, 5))\n",
    "sns.heatmap(cm, annot=True, fmt=\"d\", cmap=\"Blues\", xticklabels=class_names, yticklabels=class_names)\n",
    "plt.xlabel(\"Predicted Label\")\n",
    "plt.ylabel(\"True Label\")\n",
    "plt.title(\"Confusion Matrix\")\n",
    "plt.show()\n",
    "\n",
    "# 분류 보고서 출력\n",
    "print(\"\\nClassification Report:\")\n",
    "print(classification_report(y_true, y_pred, target_names=class_names))\n"
   ]
  },
  {
   "cell_type": "markdown",
   "metadata": {},
   "source": []
  }
 ],
 "metadata": {
  "kernelspec": {
   "display_name": "ml-ops",
   "language": "python",
   "name": "python3"
  },
  "language_info": {
   "codemirror_mode": {
    "name": "ipython",
    "version": 3
   },
   "file_extension": ".py",
   "mimetype": "text/x-python",
   "name": "python",
   "nbconvert_exporter": "python",
   "pygments_lexer": "ipython3",
   "version": "3.12.9"
  }
 },
 "nbformat": 4,
 "nbformat_minor": 2
}
