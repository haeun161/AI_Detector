{
 "cells": [
  {
   "cell_type": "markdown",
   "metadata": {
    "id": "hgUeI-zlTHSj"
   },
   "source": []
  },
  {
   "cell_type": "markdown",
   "metadata": {
    "id": "R_VelDRqHGgn"
   },
   "source": [
    "## 필요한 라이브러리 install"
   ]
  },
  {
   "cell_type": "code",
   "execution_count": 42,
   "metadata": {
    "colab": {
     "base_uri": "https://localhost:8080/"
    },
    "executionInfo": {
     "elapsed": 117353,
     "status": "ok",
     "timestamp": 1739341520044,
     "user": {
      "displayName": "이하은",
      "userId": "06607701604719915973"
     },
     "user_tz": -540
    },
    "id": "V49o4HtsE9dw",
    "outputId": "70d5a609-a3cc-4b07-84ac-566bd68eca47"
   },
   "outputs": [
    {
     "name": "stdout",
     "output_type": "stream",
     "text": [
      "Requirement already satisfied: torch in /home/jangminoh_2/miniconda3/envs/ml-ops/lib/python3.12/site-packages (2.6.0)\n",
      "Requirement already satisfied: torchvision in /home/jangminoh_2/miniconda3/envs/ml-ops/lib/python3.12/site-packages (0.21.0)\n",
      "Requirement already satisfied: torchaudio in /home/jangminoh_2/miniconda3/envs/ml-ops/lib/python3.12/site-packages (2.6.0)\n",
      "Requirement already satisfied: tensorflow in /home/jangminoh_2/miniconda3/envs/ml-ops/lib/python3.12/site-packages (2.17.0)\n",
      "Requirement already satisfied: albumentations in /home/jangminoh_2/miniconda3/envs/ml-ops/lib/python3.12/site-packages (2.0.4)\n",
      "Requirement already satisfied: timm in /home/jangminoh_2/miniconda3/envs/ml-ops/lib/python3.12/site-packages (1.0.14)\n",
      "Requirement already satisfied: opencv-python in /home/jangminoh_2/miniconda3/envs/ml-ops/lib/python3.12/site-packages (4.11.0.86)\n",
      "Requirement already satisfied: matplotlib in /home/jangminoh_2/miniconda3/envs/ml-ops/lib/python3.12/site-packages (3.10.0)\n",
      "Requirement already satisfied: kagglehub in /home/jangminoh_2/miniconda3/envs/ml-ops/lib/python3.12/site-packages (0.3.9)\n",
      "Requirement already satisfied: pandas in /home/jangminoh_2/miniconda3/envs/ml-ops/lib/python3.12/site-packages (2.2.3)\n",
      "Requirement already satisfied: scikit-learn in /home/jangminoh_2/miniconda3/envs/ml-ops/lib/python3.12/site-packages (1.6.1)\n",
      "Collecting seaborn\n",
      "  Downloading seaborn-0.13.2-py3-none-any.whl.metadata (5.4 kB)\n",
      "Requirement already satisfied: filelock in /home/jangminoh_2/miniconda3/envs/ml-ops/lib/python3.12/site-packages (from torch) (3.17.0)\n",
      "Requirement already satisfied: typing-extensions>=4.10.0 in /home/jangminoh_2/miniconda3/envs/ml-ops/lib/python3.12/site-packages (from torch) (4.12.2)\n",
      "Requirement already satisfied: networkx in /home/jangminoh_2/miniconda3/envs/ml-ops/lib/python3.12/site-packages (from torch) (3.4.2)\n",
      "Requirement already satisfied: jinja2 in /home/jangminoh_2/miniconda3/envs/ml-ops/lib/python3.12/site-packages (from torch) (3.1.5)\n",
      "Requirement already satisfied: fsspec in /home/jangminoh_2/miniconda3/envs/ml-ops/lib/python3.12/site-packages (from torch) (2025.2.0)\n",
      "Requirement already satisfied: nvidia-cuda-nvrtc-cu12==12.4.127 in /home/jangminoh_2/miniconda3/envs/ml-ops/lib/python3.12/site-packages (from torch) (12.4.127)\n",
      "Requirement already satisfied: nvidia-cuda-runtime-cu12==12.4.127 in /home/jangminoh_2/miniconda3/envs/ml-ops/lib/python3.12/site-packages (from torch) (12.4.127)\n",
      "Requirement already satisfied: nvidia-cuda-cupti-cu12==12.4.127 in /home/jangminoh_2/miniconda3/envs/ml-ops/lib/python3.12/site-packages (from torch) (12.4.127)\n",
      "Requirement already satisfied: nvidia-cudnn-cu12==9.1.0.70 in /home/jangminoh_2/miniconda3/envs/ml-ops/lib/python3.12/site-packages (from torch) (9.1.0.70)\n",
      "Requirement already satisfied: nvidia-cublas-cu12==12.4.5.8 in /home/jangminoh_2/miniconda3/envs/ml-ops/lib/python3.12/site-packages (from torch) (12.4.5.8)\n",
      "Requirement already satisfied: nvidia-cufft-cu12==11.2.1.3 in /home/jangminoh_2/miniconda3/envs/ml-ops/lib/python3.12/site-packages (from torch) (11.2.1.3)\n",
      "Requirement already satisfied: nvidia-curand-cu12==10.3.5.147 in /home/jangminoh_2/miniconda3/envs/ml-ops/lib/python3.12/site-packages (from torch) (10.3.5.147)\n",
      "Requirement already satisfied: nvidia-cusolver-cu12==11.6.1.9 in /home/jangminoh_2/miniconda3/envs/ml-ops/lib/python3.12/site-packages (from torch) (11.6.1.9)\n",
      "Requirement already satisfied: nvidia-cusparse-cu12==12.3.1.170 in /home/jangminoh_2/miniconda3/envs/ml-ops/lib/python3.12/site-packages (from torch) (12.3.1.170)\n",
      "Requirement already satisfied: nvidia-cusparselt-cu12==0.6.2 in /home/jangminoh_2/miniconda3/envs/ml-ops/lib/python3.12/site-packages (from torch) (0.6.2)\n",
      "Requirement already satisfied: nvidia-nccl-cu12==2.21.5 in /home/jangminoh_2/miniconda3/envs/ml-ops/lib/python3.12/site-packages (from torch) (2.21.5)\n",
      "Requirement already satisfied: nvidia-nvtx-cu12==12.4.127 in /home/jangminoh_2/miniconda3/envs/ml-ops/lib/python3.12/site-packages (from torch) (12.4.127)\n",
      "Requirement already satisfied: nvidia-nvjitlink-cu12==12.4.127 in /home/jangminoh_2/miniconda3/envs/ml-ops/lib/python3.12/site-packages (from torch) (12.4.127)\n",
      "Requirement already satisfied: triton==3.2.0 in /home/jangminoh_2/miniconda3/envs/ml-ops/lib/python3.12/site-packages (from torch) (3.2.0)\n",
      "Requirement already satisfied: setuptools in /home/jangminoh_2/miniconda3/envs/ml-ops/lib/python3.12/site-packages (from torch) (75.8.0)\n",
      "Requirement already satisfied: sympy==1.13.1 in /home/jangminoh_2/miniconda3/envs/ml-ops/lib/python3.12/site-packages (from torch) (1.13.1)\n",
      "Requirement already satisfied: mpmath<1.4,>=1.1.0 in /home/jangminoh_2/miniconda3/envs/ml-ops/lib/python3.12/site-packages (from sympy==1.13.1->torch) (1.3.0)\n",
      "Requirement already satisfied: numpy in /home/jangminoh_2/miniconda3/envs/ml-ops/lib/python3.12/site-packages (from torchvision) (1.26.4)\n",
      "Requirement already satisfied: pillow!=8.3.*,>=5.3.0 in /home/jangminoh_2/miniconda3/envs/ml-ops/lib/python3.12/site-packages (from torchvision) (11.1.0)\n",
      "Requirement already satisfied: absl-py>=1.0.0 in /home/jangminoh_2/miniconda3/envs/ml-ops/lib/python3.12/site-packages (from tensorflow) (2.1.0)\n",
      "Requirement already satisfied: astunparse>=1.6.0 in /home/jangminoh_2/miniconda3/envs/ml-ops/lib/python3.12/site-packages (from tensorflow) (1.6.3)\n",
      "Requirement already satisfied: flatbuffers>=24.3.25 in /home/jangminoh_2/miniconda3/envs/ml-ops/lib/python3.12/site-packages (from tensorflow) (25.2.10)\n",
      "Requirement already satisfied: gast!=0.5.0,!=0.5.1,!=0.5.2,>=0.2.1 in /home/jangminoh_2/miniconda3/envs/ml-ops/lib/python3.12/site-packages (from tensorflow) (0.6.0)\n",
      "Requirement already satisfied: google-pasta>=0.1.1 in /home/jangminoh_2/miniconda3/envs/ml-ops/lib/python3.12/site-packages (from tensorflow) (0.2.0)\n",
      "Requirement already satisfied: h5py>=3.10.0 in /home/jangminoh_2/miniconda3/envs/ml-ops/lib/python3.12/site-packages (from tensorflow) (3.13.0)\n",
      "Requirement already satisfied: libclang>=13.0.0 in /home/jangminoh_2/miniconda3/envs/ml-ops/lib/python3.12/site-packages (from tensorflow) (18.1.1)\n",
      "Requirement already satisfied: ml-dtypes<0.5.0,>=0.3.1 in /home/jangminoh_2/miniconda3/envs/ml-ops/lib/python3.12/site-packages (from tensorflow) (0.4.1)\n",
      "Requirement already satisfied: opt-einsum>=2.3.2 in /home/jangminoh_2/miniconda3/envs/ml-ops/lib/python3.12/site-packages (from tensorflow) (3.4.0)\n",
      "Requirement already satisfied: packaging in /home/jangminoh_2/miniconda3/envs/ml-ops/lib/python3.12/site-packages (from tensorflow) (24.2)\n",
      "Requirement already satisfied: protobuf!=4.21.0,!=4.21.1,!=4.21.2,!=4.21.3,!=4.21.4,!=4.21.5,<5.0.0dev,>=3.20.3 in /home/jangminoh_2/miniconda3/envs/ml-ops/lib/python3.12/site-packages (from tensorflow) (4.25.6)\n",
      "Requirement already satisfied: requests<3,>=2.21.0 in /home/jangminoh_2/miniconda3/envs/ml-ops/lib/python3.12/site-packages (from tensorflow) (2.32.3)\n",
      "Requirement already satisfied: six>=1.12.0 in /home/jangminoh_2/miniconda3/envs/ml-ops/lib/python3.12/site-packages (from tensorflow) (1.17.0)\n",
      "Requirement already satisfied: termcolor>=1.1.0 in /home/jangminoh_2/miniconda3/envs/ml-ops/lib/python3.12/site-packages (from tensorflow) (2.5.0)\n",
      "Requirement already satisfied: wrapt>=1.11.0 in /home/jangminoh_2/miniconda3/envs/ml-ops/lib/python3.12/site-packages (from tensorflow) (1.17.2)\n",
      "Requirement already satisfied: grpcio<2.0,>=1.24.3 in /home/jangminoh_2/miniconda3/envs/ml-ops/lib/python3.12/site-packages (from tensorflow) (1.70.0)\n",
      "Requirement already satisfied: tensorboard<2.18,>=2.17 in /home/jangminoh_2/miniconda3/envs/ml-ops/lib/python3.12/site-packages (from tensorflow) (2.17.1)\n",
      "Requirement already satisfied: keras>=3.2.0 in /home/jangminoh_2/miniconda3/envs/ml-ops/lib/python3.12/site-packages (from tensorflow) (3.8.0)\n",
      "Requirement already satisfied: scipy>=1.10.0 in /home/jangminoh_2/miniconda3/envs/ml-ops/lib/python3.12/site-packages (from albumentations) (1.15.2)\n",
      "Requirement already satisfied: PyYAML in /home/jangminoh_2/miniconda3/envs/ml-ops/lib/python3.12/site-packages (from albumentations) (6.0.2)\n",
      "Requirement already satisfied: pydantic>=2.9.2 in /home/jangminoh_2/miniconda3/envs/ml-ops/lib/python3.12/site-packages (from albumentations) (2.10.6)\n",
      "Requirement already satisfied: albucore==0.0.23 in /home/jangminoh_2/miniconda3/envs/ml-ops/lib/python3.12/site-packages (from albumentations) (0.0.23)\n",
      "Requirement already satisfied: opencv-python-headless>=4.9.0.80 in /home/jangminoh_2/miniconda3/envs/ml-ops/lib/python3.12/site-packages (from albumentations) (4.11.0.86)\n",
      "Requirement already satisfied: stringzilla>=3.10.4 in /home/jangminoh_2/miniconda3/envs/ml-ops/lib/python3.12/site-packages (from albucore==0.0.23->albumentations) (3.11.3)\n",
      "Requirement already satisfied: simsimd>=5.9.2 in /home/jangminoh_2/miniconda3/envs/ml-ops/lib/python3.12/site-packages (from albucore==0.0.23->albumentations) (6.2.1)\n",
      "Requirement already satisfied: huggingface_hub in /home/jangminoh_2/miniconda3/envs/ml-ops/lib/python3.12/site-packages (from timm) (0.29.1)\n",
      "Requirement already satisfied: safetensors in /home/jangminoh_2/miniconda3/envs/ml-ops/lib/python3.12/site-packages (from timm) (0.5.2)\n",
      "Requirement already satisfied: contourpy>=1.0.1 in /home/jangminoh_2/miniconda3/envs/ml-ops/lib/python3.12/site-packages (from matplotlib) (1.3.1)\n",
      "Requirement already satisfied: cycler>=0.10 in /home/jangminoh_2/miniconda3/envs/ml-ops/lib/python3.12/site-packages (from matplotlib) (0.12.1)\n",
      "Requirement already satisfied: fonttools>=4.22.0 in /home/jangminoh_2/miniconda3/envs/ml-ops/lib/python3.12/site-packages (from matplotlib) (4.56.0)\n",
      "Requirement already satisfied: kiwisolver>=1.3.1 in /home/jangminoh_2/miniconda3/envs/ml-ops/lib/python3.12/site-packages (from matplotlib) (1.4.8)\n",
      "Requirement already satisfied: pyparsing>=2.3.1 in /home/jangminoh_2/miniconda3/envs/ml-ops/lib/python3.12/site-packages (from matplotlib) (3.2.1)\n",
      "Requirement already satisfied: python-dateutil>=2.7 in /home/jangminoh_2/miniconda3/envs/ml-ops/lib/python3.12/site-packages (from matplotlib) (2.9.0.post0)\n",
      "Requirement already satisfied: tqdm in /home/jangminoh_2/miniconda3/envs/ml-ops/lib/python3.12/site-packages (from kagglehub) (4.67.1)\n",
      "Requirement already satisfied: pytz>=2020.1 in /home/jangminoh_2/miniconda3/envs/ml-ops/lib/python3.12/site-packages (from pandas) (2025.1)\n",
      "Requirement already satisfied: tzdata>=2022.7 in /home/jangminoh_2/miniconda3/envs/ml-ops/lib/python3.12/site-packages (from pandas) (2025.1)\n",
      "Requirement already satisfied: joblib>=1.2.0 in /home/jangminoh_2/miniconda3/envs/ml-ops/lib/python3.12/site-packages (from scikit-learn) (1.4.2)\n",
      "Requirement already satisfied: threadpoolctl>=3.1.0 in /home/jangminoh_2/miniconda3/envs/ml-ops/lib/python3.12/site-packages (from scikit-learn) (3.5.0)\n",
      "Requirement already satisfied: wheel<1.0,>=0.23.0 in /home/jangminoh_2/miniconda3/envs/ml-ops/lib/python3.12/site-packages (from astunparse>=1.6.0->tensorflow) (0.45.1)\n",
      "Requirement already satisfied: rich in /home/jangminoh_2/miniconda3/envs/ml-ops/lib/python3.12/site-packages (from keras>=3.2.0->tensorflow) (13.9.4)\n",
      "Requirement already satisfied: namex in /home/jangminoh_2/miniconda3/envs/ml-ops/lib/python3.12/site-packages (from keras>=3.2.0->tensorflow) (0.0.8)\n",
      "Requirement already satisfied: optree in /home/jangminoh_2/miniconda3/envs/ml-ops/lib/python3.12/site-packages (from keras>=3.2.0->tensorflow) (0.14.0)\n",
      "Requirement already satisfied: annotated-types>=0.6.0 in /home/jangminoh_2/miniconda3/envs/ml-ops/lib/python3.12/site-packages (from pydantic>=2.9.2->albumentations) (0.7.0)\n",
      "Requirement already satisfied: pydantic-core==2.27.2 in /home/jangminoh_2/miniconda3/envs/ml-ops/lib/python3.12/site-packages (from pydantic>=2.9.2->albumentations) (2.27.2)\n",
      "Requirement already satisfied: charset-normalizer<4,>=2 in /home/jangminoh_2/miniconda3/envs/ml-ops/lib/python3.12/site-packages (from requests<3,>=2.21.0->tensorflow) (3.4.1)\n",
      "Requirement already satisfied: idna<4,>=2.5 in /home/jangminoh_2/miniconda3/envs/ml-ops/lib/python3.12/site-packages (from requests<3,>=2.21.0->tensorflow) (3.10)\n",
      "Requirement already satisfied: urllib3<3,>=1.21.1 in /home/jangminoh_2/miniconda3/envs/ml-ops/lib/python3.12/site-packages (from requests<3,>=2.21.0->tensorflow) (2.3.0)\n",
      "Requirement already satisfied: certifi>=2017.4.17 in /home/jangminoh_2/miniconda3/envs/ml-ops/lib/python3.12/site-packages (from requests<3,>=2.21.0->tensorflow) (2025.1.31)\n",
      "Requirement already satisfied: markdown>=2.6.8 in /home/jangminoh_2/miniconda3/envs/ml-ops/lib/python3.12/site-packages (from tensorboard<2.18,>=2.17->tensorflow) (3.7)\n",
      "Requirement already satisfied: tensorboard-data-server<0.8.0,>=0.7.0 in /home/jangminoh_2/miniconda3/envs/ml-ops/lib/python3.12/site-packages (from tensorboard<2.18,>=2.17->tensorflow) (0.7.2)\n",
      "Requirement already satisfied: werkzeug>=1.0.1 in /home/jangminoh_2/miniconda3/envs/ml-ops/lib/python3.12/site-packages (from tensorboard<2.18,>=2.17->tensorflow) (3.1.3)\n",
      "Requirement already satisfied: MarkupSafe>=2.0 in /home/jangminoh_2/miniconda3/envs/ml-ops/lib/python3.12/site-packages (from jinja2->torch) (3.0.2)\n",
      "Requirement already satisfied: markdown-it-py>=2.2.0 in /home/jangminoh_2/miniconda3/envs/ml-ops/lib/python3.12/site-packages (from rich->keras>=3.2.0->tensorflow) (3.0.0)\n",
      "Requirement already satisfied: pygments<3.0.0,>=2.13.0 in /home/jangminoh_2/miniconda3/envs/ml-ops/lib/python3.12/site-packages (from rich->keras>=3.2.0->tensorflow) (2.19.1)\n",
      "Requirement already satisfied: mdurl~=0.1 in /home/jangminoh_2/miniconda3/envs/ml-ops/lib/python3.12/site-packages (from markdown-it-py>=2.2.0->rich->keras>=3.2.0->tensorflow) (0.1.2)\n",
      "Downloading seaborn-0.13.2-py3-none-any.whl (294 kB)\n",
      "Installing collected packages: seaborn\n",
      "Successfully installed seaborn-0.13.2\n"
     ]
    }
   ],
   "source": [
    " !pip install torch torchvision torchaudio tensorflow albumentations timm opencv-python matplotlib kagglehub pandas scikit-learn seaborn"
   ]
  },
  {
   "cell_type": "markdown",
   "metadata": {},
   "source": [
    "## GPU 환경 설정"
   ]
  },
  {
   "cell_type": "code",
   "execution_count": 1,
   "metadata": {},
   "outputs": [
    {
     "name": "stderr",
     "output_type": "stream",
     "text": [
      "2025-02-23 19:53:16.873236: E external/local_xla/xla/stream_executor/cuda/cuda_fft.cc:485] Unable to register cuFFT factory: Attempting to register factory for plugin cuFFT when one has already been registered\n",
      "2025-02-23 19:53:16.887034: E external/local_xla/xla/stream_executor/cuda/cuda_dnn.cc:8454] Unable to register cuDNN factory: Attempting to register factory for plugin cuDNN when one has already been registered\n",
      "2025-02-23 19:53:16.891332: E external/local_xla/xla/stream_executor/cuda/cuda_blas.cc:1452] Unable to register cuBLAS factory: Attempting to register factory for plugin cuBLAS when one has already been registered\n",
      "2025-02-23 19:53:16.902439: I tensorflow/core/platform/cpu_feature_guard.cc:210] This TensorFlow binary is optimized to use available CPU instructions in performance-critical operations.\n",
      "To enable the following instructions: AVX2 FMA, in other operations, rebuild TensorFlow with the appropriate compiler flags.\n",
      "2025-02-23 19:53:17.627803: W tensorflow/compiler/tf2tensorrt/utils/py_utils.cc:38] TF-TRT Warning: Could not find TensorRT\n"
     ]
    },
    {
     "name": "stdout",
     "output_type": "stream",
     "text": [
      "[LogicalDevice(name='/device:GPU:0', device_type='GPU')]\n"
     ]
    },
    {
     "name": "stderr",
     "output_type": "stream",
     "text": [
      "2025-02-23 19:53:19.178132: I tensorflow/core/common_runtime/gpu/gpu_device.cc:2021] Created device /job:localhost/replica:0/task:0/device:GPU:0 with 22495 MB memory:  -> device: 0, name: NVIDIA RTX A5000, pci bus id: 0000:01:00.0, compute capability: 8.6\n"
     ]
    }
   ],
   "source": [
    "import tensorflow as tf\n",
    "\n",
    "# GPU 0만 사용\n",
    "gpus = tf.config.experimental.list_physical_devices('GPU')\n",
    "if gpus:\n",
    "    try:\n",
    "        tf.config.experimental.set_visible_devices(gpus[0], 'GPU')  # GPU 0만 사용\n",
    "        tf.config.experimental.set_memory_growth(gpus[0], True)  # 메모리 동적 할당\n",
    "    except RuntimeError as e:\n",
    "        print(e)\n",
    "\n",
    "# TensorFlow에서 사용할 장치 확인\n",
    "print(tf.config.experimental.list_logical_devices('GPU'))\n"
   ]
  },
  {
   "cell_type": "markdown",
   "metadata": {
    "id": "po_0dOVbepaM"
   },
   "source": []
  },
  {
   "cell_type": "code",
   "execution_count": 2,
   "metadata": {},
   "outputs": [],
   "source": [
    "import os\n",
    "os.environ[\"CUDA_VISIBLE_DEVICES\"] = \"0\""
   ]
  },
  {
   "cell_type": "code",
   "execution_count": 3,
   "metadata": {},
   "outputs": [],
   "source": [
    "# import os\n",
    "# os.environ[\"CUDA_VISIBLE_DEVICES\"] = \"0\"\n",
    "# os.environ[\"CUDNN_PATH\"] = \"/usr/local/cuda\"\n",
    "# os.environ[\"LD_LIBRARY_PATH\"] = \"/usr/local/cuda/lib64\"\n",
    "\n",
    "# import tensorflow as tf\n",
    "# print(tf.sysconfig.get_build_info()[\"cudnn_version\"])  # 9.1.0 출력 확인"
   ]
  },
  {
   "cell_type": "code",
   "execution_count": 4,
   "metadata": {},
   "outputs": [
    {
     "name": "stdout",
     "output_type": "stream",
     "text": [
      "8\n"
     ]
    }
   ],
   "source": [
    "import tensorflow as tf\n",
    "print(tf.sysconfig.get_build_info()[\"cudnn_version\"])"
   ]
  },
  {
   "cell_type": "markdown",
   "metadata": {
    "id": "T4wWg1QfTHSy"
   },
   "source": [
    "## 데이터셋 합치기 + 불러오기"
   ]
  },
  {
   "cell_type": "code",
   "execution_count": 1,
   "metadata": {
    "id": "aMDjZ0oDTHSz"
   },
   "outputs": [],
   "source": [
    "# 캐글 데이터셋 다운로드 라이브러리\n",
    "import kagglehub"
   ]
  },
  {
   "cell_type": "code",
   "execution_count": 2,
   "metadata": {
    "colab": {
     "base_uri": "https://localhost:8080/"
    },
    "executionInfo": {
     "elapsed": 143792,
     "status": "ok",
     "timestamp": 1739368905302,
     "user": {
      "displayName": "이하은",
      "userId": "06607701604719915973"
     },
     "user_tz": -540
    },
    "id": "IcZQpm-PTHS2",
    "outputId": "94e36c19-117e-4d4b-ab06-c5b3c5aa5229"
   },
   "outputs": [
    {
     "name": "stdout",
     "output_type": "stream",
     "text": [
      "Path to dataset files: /home/jangminoh_2/.cache/kagglehub/datasets/xhlulu/140k-real-and-fake-faces/versions/2\n"
     ]
    }
   ],
   "source": [
    "## face_data\n",
    "\n",
    "# Download latest version\n",
    "path1 = kagglehub.dataset_download(\"xhlulu/140k-real-and-fake-faces\")\n",
    "\n",
    "print(\"Path to dataset files:\", path1)"
   ]
  },
  {
   "cell_type": "code",
   "execution_count": 3,
   "metadata": {
    "colab": {
     "base_uri": "https://localhost:8080/"
    },
    "executionInfo": {
     "elapsed": 99170,
     "status": "ok",
     "timestamp": 1739369004469,
     "user": {
      "displayName": "이하은",
      "userId": "06607701604719915973"
     },
     "user_tz": -540
    },
    "id": "uhQ7IjJ2THS4",
    "outputId": "123baf3c-b670-47a7-e6d3-5a39fc4cb2fd"
   },
   "outputs": [
    {
     "name": "stdout",
     "output_type": "stream",
     "text": [
      "Path to dataset files: /home/jangminoh_2/.cache/kagglehub/datasets/mariammarioma/midjourney-cifake-inspired/versions/1\n"
     ]
    }
   ],
   "source": [
    "#CIFAKE Midjourney 변형 데이터셋\n",
    "\n",
    "# Download latest version\n",
    "path2 = kagglehub.dataset_download(\"mariammarioma/midjourney-cifake-inspired\")\n",
    "\n",
    "print(\"Path to dataset files:\", path2)"
   ]
  },
  {
   "cell_type": "code",
   "execution_count": 4,
   "metadata": {
    "colab": {
     "base_uri": "https://localhost:8080/"
    },
    "executionInfo": {
     "elapsed": 21434,
     "status": "ok",
     "timestamp": 1739369025894,
     "user": {
      "displayName": "이하은",
      "userId": "06607701604719915973"
     },
     "user_tz": -540
    },
    "id": "86w99P00THS5",
    "outputId": "e83d5d19-ee57-44e8-822c-a3c000589873"
   },
   "outputs": [
    {
     "name": "stdout",
     "output_type": "stream",
     "text": [
      "Path to dataset files: /home/jangminoh_2/.cache/kagglehub/datasets/birdy654/cifake-real-and-ai-generated-synthetic-images/versions/3\n"
     ]
    }
   ],
   "source": [
    "#CIFAKE 데이터셋\n",
    "\n",
    "# Download latest version\n",
    "path3 = kagglehub.dataset_download(\"birdy654/cifake-real-and-ai-generated-synthetic-images\")\n",
    "\n",
    "print(\"Path to dataset files:\", path3)"
   ]
  },
  {
   "cell_type": "code",
   "execution_count": 5,
   "metadata": {
    "colab": {
     "base_uri": "https://localhost:8080/"
    },
    "executionInfo": {
     "elapsed": 474402,
     "status": "ok",
     "timestamp": 1739369500288,
     "user": {
      "displayName": "이하은",
      "userId": "06607701604719915973"
     },
     "user_tz": -540
    },
    "id": "snRlT7_CTgZO",
    "outputId": "d9599dfb-93e0-416a-99ee-8ec3f34a5e6f"
   },
   "outputs": [
    {
     "name": "stdout",
     "output_type": "stream",
     "text": [
      "Path to dataset files: /home/jangminoh_2/.cache/kagglehub/datasets/superpotato9/dalle-recognition-dataset/versions/7\n"
     ]
    }
   ],
   "source": [
    "## Dalle, midjourney\n",
    "\n",
    "path4 = kagglehub.dataset_download(\"superpotato9/dalle-recognition-dataset\")\n",
    "\n",
    "print(\"Path to dataset files:\", path4)"
   ]
  },
  {
   "cell_type": "markdown",
   "metadata": {
    "id": "ar4RozrRUIK0"
   },
   "source": [
    "### 데이터셋 경로 설정"
   ]
  },
  {
   "cell_type": "code",
   "execution_count": 8,
   "metadata": {
    "id": "WTYzHNy_THS7"
   },
   "outputs": [],
   "source": [
    "#face 데이터셋 경로 설정 #70,000 real & 70,000 fake\n",
    "face_train_directory = \"/home/jangminoh_2/.cache/kagglehub/datasets/xhlulu/140k-real-and-fake-faces/versions/2/real_vs_fake/real-vs-fake/train\"\n",
    "face_test_directory = \"/home/jangminoh_2/.cache/kagglehub/datasets/xhlulu/140k-real-and-fake-faces/versions/2/real_vs_fake/real-vs-fake/test\"\n",
    "\n",
    "#CIFAKE #60,000 real & 60,000 fake\n",
    "cifake_train_directory = \"/home/jangminoh_2/.cache/kagglehub/datasets/birdy654/cifake-real-and-ai-generated-synthetic-images/versions/3/train\"\n",
    "cifake_test_directory = \"/home/jangminoh_2/.cache/kagglehub/datasets/birdy654/cifake-real-and-ai-generated-synthetic-images/versions/3/test\"\n",
    "\n",
    "#CIFAKE Midjourney #2,000 real & 2,000 fake\n",
    "cifake_mid_train_directory = \"/home/jangminoh_2/.cache/kagglehub/datasets/mariammarioma/midjourney-cifake-inspired/versions/1/Midjourney/train\"\n",
    "cifake_mid_test_directory = \"/home/jangminoh_2/.cache/kagglehub/datasets/mariammarioma/midjourney-cifake-inspired/versions/1/Midjourney/test\"\n",
    "cifake_mid_val_directory = \"/home/jangminoh_2/.cache/kagglehub/datasets/mariammarioma/midjourney-cifake-inspired/versions/1/Midjourney/valid\"\n",
    "\n",
    "## dalle + midjourney #17855 & Real Images: 3780\n",
    "fake_dir = \"/home/jangminoh_2/.cache/kagglehub/datasets/superpotato9/dalle-recognition-dataset/versions/7/fakeV2/fake-v2\"\n",
    "real_dir = \"/home/jangminoh_2/.cache/kagglehub/datasets/superpotato9/dalle-recognition-dataset/versions/7/real\""
   ]
  },
  {
   "cell_type": "code",
   "execution_count": 18,
   "metadata": {
    "colab": {
     "base_uri": "https://localhost:8080/"
    },
    "executionInfo": {
     "elapsed": 385,
     "status": "ok",
     "timestamp": 1739369500666,
     "user": {
      "displayName": "이하은",
      "userId": "06607701604719915973"
     },
     "user_tz": -540
    },
    "id": "J9b8kMjDbX-H",
    "outputId": "38050d33-a6a2-4187-fbaf-27d3739f09fd"
   },
   "outputs": [
    {
     "name": "stdout",
     "output_type": "stream",
     "text": [
      "Checking directory structure for: /home/jangminoh_2/.cache/kagglehub/datasets/xhlulu/140k-real-and-fake-faces/versions/2/real_vs_fake/real-vs-fake/train\n",
      "  /home/jangminoh_2/.cache/kagglehub/datasets/xhlulu/140k-real-and-fake-faces/versions/2/real_vs_fake/real-vs-fake/train/fake exists as a directory\n",
      "  /home/jangminoh_2/.cache/kagglehub/datasets/xhlulu/140k-real-and-fake-faces/versions/2/real_vs_fake/real-vs-fake/train/real exists as a directory\n",
      "\n",
      "\n",
      "Checking directory structure for: /home/jangminoh_2/.cache/kagglehub/datasets/xhlulu/140k-real-and-fake-faces/versions/2/real_vs_fake/real-vs-fake/test\n",
      "  /home/jangminoh_2/.cache/kagglehub/datasets/xhlulu/140k-real-and-fake-faces/versions/2/real_vs_fake/real-vs-fake/test/fake exists as a directory\n",
      "  /home/jangminoh_2/.cache/kagglehub/datasets/xhlulu/140k-real-and-fake-faces/versions/2/real_vs_fake/real-vs-fake/test/real exists as a directory\n",
      "\n",
      "\n",
      "Checking directory structure for: /home/jangminoh_2/.cache/kagglehub/datasets/birdy654/cifake-real-and-ai-generated-synthetic-images/versions/3/train\n",
      "  /home/jangminoh_2/.cache/kagglehub/datasets/birdy654/cifake-real-and-ai-generated-synthetic-images/versions/3/train/REAL exists as a directory\n",
      "  /home/jangminoh_2/.cache/kagglehub/datasets/birdy654/cifake-real-and-ai-generated-synthetic-images/versions/3/train/FAKE exists as a directory\n",
      "\n",
      "\n",
      "Checking directory structure for: /home/jangminoh_2/.cache/kagglehub/datasets/birdy654/cifake-real-and-ai-generated-synthetic-images/versions/3/test\n",
      "  /home/jangminoh_2/.cache/kagglehub/datasets/birdy654/cifake-real-and-ai-generated-synthetic-images/versions/3/test/REAL exists as a directory\n",
      "  /home/jangminoh_2/.cache/kagglehub/datasets/birdy654/cifake-real-and-ai-generated-synthetic-images/versions/3/test/FAKE exists as a directory\n",
      "\n",
      "\n",
      "Checking directory structure for: /home/jangminoh_2/.cache/kagglehub/datasets/mariammarioma/midjourney-cifake-inspired/versions/1/Midjourney/train\n",
      "  /home/jangminoh_2/.cache/kagglehub/datasets/mariammarioma/midjourney-cifake-inspired/versions/1/Midjourney/train/REAL exists as a directory\n",
      "  /home/jangminoh_2/.cache/kagglehub/datasets/mariammarioma/midjourney-cifake-inspired/versions/1/Midjourney/train/FAKE exists as a directory\n",
      "\n",
      "\n",
      "Checking directory structure for: /home/jangminoh_2/.cache/kagglehub/datasets/mariammarioma/midjourney-cifake-inspired/versions/1/Midjourney/test\n",
      "  /home/jangminoh_2/.cache/kagglehub/datasets/mariammarioma/midjourney-cifake-inspired/versions/1/Midjourney/test/REAL exists as a directory\n",
      "  /home/jangminoh_2/.cache/kagglehub/datasets/mariammarioma/midjourney-cifake-inspired/versions/1/Midjourney/test/FAKE exists as a directory\n",
      "\n",
      "\n",
      "Checking directory structure for: /home/jangminoh_2/.cache/kagglehub/datasets/mariammarioma/midjourney-cifake-inspired/versions/1/Midjourney/valid\n",
      "  /home/jangminoh_2/.cache/kagglehub/datasets/mariammarioma/midjourney-cifake-inspired/versions/1/Midjourney/valid/REAL exists as a directory\n",
      "  /home/jangminoh_2/.cache/kagglehub/datasets/mariammarioma/midjourney-cifake-inspired/versions/1/Midjourney/valid/FAKE exists as a directory\n",
      "\n",
      "\n",
      "Checking directory structure for: /home/jangminoh_2/.cache/kagglehub/datasets/birdy654/cifake-real-and-ai-generated-synthetic-images/versions/3/train/FAKE\n"
     ]
    },
    {
     "name": "stdout",
     "output_type": "stream",
     "text": [
      "\n",
      "\n",
      "Checking directory structure for: /home/jangminoh_2/.cache/kagglehub/datasets/birdy654/cifake-real-and-ai-generated-synthetic-images/versions/3/train/REAL\n",
      "\n",
      "\n"
     ]
    }
   ],
   "source": [
    "import os\n",
    "# 디렉토리 리스트로 구성\n",
    "directories = [\n",
    "    face_train_directory,\n",
    "    face_test_directory,\n",
    "    cifake_train_directory,\n",
    "    cifake_test_directory,\n",
    "    cifake_mid_train_directory,\n",
    "    cifake_mid_test_directory,\n",
    "    cifake_mid_val_directory,\n",
    "    fake_dir,\n",
    "    real_dir\n",
    "]\n",
    "\n",
    "# 각 디렉토리에서 real과 fake 폴더의 구조 출력\n",
    "for directory in directories:\n",
    "    print(f\"Checking directory structure for: {directory}\")\n",
    "\n",
    "    if os.path.exists(directory):\n",
    "        for subdir in os.listdir(directory):\n",
    "            subdir_path = os.path.join(directory, subdir)\n",
    "            if os.path.isdir(subdir_path):\n",
    "                print(f\"  {subdir_path} exists as a directory\")\n",
    "    else:\n",
    "        print(f\"  {directory} does not exist\")\n",
    "    print(\"\\n\")"
   ]
  },
  {
   "cell_type": "code",
   "execution_count": 19,
   "metadata": {},
   "outputs": [
    {
     "data": {
      "text/html": [
       "<div>\n",
       "<style scoped>\n",
       "    .dataframe tbody tr th:only-of-type {\n",
       "        vertical-align: middle;\n",
       "    }\n",
       "\n",
       "    .dataframe tbody tr th {\n",
       "        vertical-align: top;\n",
       "    }\n",
       "\n",
       "    .dataframe thead th {\n",
       "        text-align: right;\n",
       "    }\n",
       "</style>\n",
       "<table border=\"1\" class=\"dataframe\">\n",
       "  <thead>\n",
       "    <tr style=\"text-align: right;\">\n",
       "      <th></th>\n",
       "      <th>Directory</th>\n",
       "      <th>Image Count</th>\n",
       "    </tr>\n",
       "  </thead>\n",
       "  <tbody>\n",
       "    <tr>\n",
       "      <th>0</th>\n",
       "      <td>GAN_FaceData_train/fake</td>\n",
       "      <td>50000</td>\n",
       "    </tr>\n",
       "    <tr>\n",
       "      <th>1</th>\n",
       "      <td>GAN_FaceData_train/real</td>\n",
       "      <td>50000</td>\n",
       "    </tr>\n",
       "    <tr>\n",
       "      <th>2</th>\n",
       "      <td>GAN_FaceData_test/fake</td>\n",
       "      <td>10000</td>\n",
       "    </tr>\n",
       "    <tr>\n",
       "      <th>3</th>\n",
       "      <td>GAN_FaceData_test/real</td>\n",
       "      <td>10000</td>\n",
       "    </tr>\n",
       "    <tr>\n",
       "      <th>4</th>\n",
       "      <td>Diffusion_train/fake</td>\n",
       "      <td>50000</td>\n",
       "    </tr>\n",
       "    <tr>\n",
       "      <th>5</th>\n",
       "      <td>Diffusion_train/real</td>\n",
       "      <td>50000</td>\n",
       "    </tr>\n",
       "    <tr>\n",
       "      <th>6</th>\n",
       "      <td>Diffusion_test/fake</td>\n",
       "      <td>10000</td>\n",
       "    </tr>\n",
       "    <tr>\n",
       "      <th>7</th>\n",
       "      <td>Diffusion_test/real</td>\n",
       "      <td>10000</td>\n",
       "    </tr>\n",
       "    <tr>\n",
       "      <th>8</th>\n",
       "      <td>Midjourney_train/fake</td>\n",
       "      <td>1000</td>\n",
       "    </tr>\n",
       "    <tr>\n",
       "      <th>9</th>\n",
       "      <td>Midjourney_train/real</td>\n",
       "      <td>1000</td>\n",
       "    </tr>\n",
       "    <tr>\n",
       "      <th>10</th>\n",
       "      <td>Midjourney_test/fake</td>\n",
       "      <td>500</td>\n",
       "    </tr>\n",
       "    <tr>\n",
       "      <th>11</th>\n",
       "      <td>Midjourney_test/real</td>\n",
       "      <td>500</td>\n",
       "    </tr>\n",
       "    <tr>\n",
       "      <th>12</th>\n",
       "      <td>Midjourney_val/fake</td>\n",
       "      <td>500</td>\n",
       "    </tr>\n",
       "    <tr>\n",
       "      <th>13</th>\n",
       "      <td>Midjourney_val/real</td>\n",
       "      <td>500</td>\n",
       "    </tr>\n",
       "    <tr>\n",
       "      <th>14</th>\n",
       "      <td>Midjourney&amp;Dalle/fake</td>\n",
       "      <td>50000</td>\n",
       "    </tr>\n",
       "    <tr>\n",
       "      <th>15</th>\n",
       "      <td>Midjourney&amp;Dalle/real</td>\n",
       "      <td>50000</td>\n",
       "    </tr>\n",
       "  </tbody>\n",
       "</table>\n",
       "</div>"
      ],
      "text/plain": [
       "                  Directory  Image Count\n",
       "0   GAN_FaceData_train/fake        50000\n",
       "1   GAN_FaceData_train/real        50000\n",
       "2    GAN_FaceData_test/fake        10000\n",
       "3    GAN_FaceData_test/real        10000\n",
       "4      Diffusion_train/fake        50000\n",
       "5      Diffusion_train/real        50000\n",
       "6       Diffusion_test/fake        10000\n",
       "7       Diffusion_test/real        10000\n",
       "8     Midjourney_train/fake         1000\n",
       "9     Midjourney_train/real         1000\n",
       "10     Midjourney_test/fake          500\n",
       "11     Midjourney_test/real          500\n",
       "12      Midjourney_val/fake          500\n",
       "13      Midjourney_val/real          500\n",
       "14    Midjourney&Dalle/fake        50000\n",
       "15    Midjourney&Dalle/real        50000"
      ]
     },
     "metadata": {},
     "output_type": "display_data"
    }
   ],
   "source": [
    "import os\n",
    "import pandas as pd\n",
    "from IPython.display import display\n",
    "\n",
    "# ✅ 이미지 확장자 목록\n",
    "image_extensions = (\".jpg\", \".jpeg\", \".png\", \".bmp\", \".tiff\", \".webp\", \".gif\")\n",
    "\n",
    "# ✅ 디렉토리 매핑 (fake/real 추가)\n",
    "directories_with_labels = {\n",
    "    \"GAN_FaceData_train/fake\": f\"{face_train_directory}/fake\",\n",
    "    \"GAN_FaceData_train/real\": f\"{face_train_directory}/real\",\n",
    "    \"GAN_FaceData_test/fake\": f\"{face_test_directory}/fake\",\n",
    "    \"GAN_FaceData_test/real\": f\"{face_test_directory}/real\",\n",
    "    \"Diffusion_train/fake\": f\"{cifake_train_directory}/FAKE\",\n",
    "    \"Diffusion_train/real\": f\"{cifake_train_directory}/REAL\",\n",
    "    \"Diffusion_test/fake\": f\"{cifake_test_directory}/FAKE\",\n",
    "    \"Diffusion_test/real\": f\"{cifake_test_directory}/REAL\",    \n",
    "    \"Midjourney_train/fake\": f\"{cifake_mid_train_directory}/FAKE\",\n",
    "    \"Midjourney_train/real\": f\"{cifake_mid_train_directory}/REAL\",\n",
    "    \"Midjourney_test/fake\": f\"{cifake_mid_test_directory}/FAKE\",\n",
    "    \"Midjourney_test/real\": f\"{cifake_mid_test_directory}/REAL\",\n",
    "    \"Midjourney_val/fake\": f\"{cifake_mid_val_directory}/FAKE\",\n",
    "    \"Midjourney_val/real\": f\"{cifake_mid_val_directory}/REAL\", \n",
    "    \"Midjourney&Dalle/fake\":fake_dir,\n",
    "    \"Midjourney&Dalle/real\":real_dir   \n",
    "    \n",
    "}\n",
    "\n",
    "# ✅ 각 디렉토리 내 이미지 개수 확인\n",
    "image_counts = {}\n",
    "\n",
    "for label, directory in directories_with_labels.items():\n",
    "    if os.path.exists(directory) and os.path.isdir(directory):\n",
    "        image_counts[label] = sum(\n",
    "            1 for f in os.listdir(directory) if f.lower().endswith(image_extensions)\n",
    "        )\n",
    "    else:\n",
    "        image_counts[label] = \"Directory not found\"\n",
    "\n",
    "# ✅ 결과 출력\n",
    "df = pd.DataFrame(list(image_counts.items()), columns=[\"Directory\", \"Image Count\"])\n",
    "\n",
    "# Jupyter Notebook에서 보기 좋게 출력\n",
    "display(df)\n"
   ]
  },
  {
   "cell_type": "markdown",
   "metadata": {
    "id": "uWr2RT0ZVAIM"
   },
   "source": [
    "### 데이터 전처리"
   ]
  },
  {
   "cell_type": "code",
   "execution_count": 17,
   "metadata": {
    "id": "XRl7qhHrd0vx"
   },
   "outputs": [],
   "source": [
    "# import os\n",
    "\n",
    "# # 잘못 저장된 경로\n",
    "# wrong_directory = \"/content/drive/MyDrive/\"\n",
    "\n",
    "# # 삭제할 이미지 확장자 목록\n",
    "# image_extensions = [\".jpg\", \".jpeg\", \".png\", \".gif\", \".bmp\", \".tiff\", \".webp\"]\n",
    "\n",
    "# # 삭제할 파일 찾기\n",
    "# files_to_delete = [f for f in os.listdir(wrong_directory) if f.lower().endswith(tuple(image_extensions))]\n",
    "\n",
    "# # 삭제 수행\n",
    "# for file in files_to_delete:\n",
    "#     file_path = os.path.join(wrong_directory, file)\n",
    "#     try:\n",
    "#         os.remove(file_path)\n",
    "#         print(f\"✅ Deleted: {file_path}\")\n",
    "#     except Exception as e:\n",
    "#         print(f\"❌ Error deleting {file_path}: {e}\")\n",
    "\n",
    "# print(f\"총 {len(files_to_delete)}개의 이미지 파일이 삭제되었습니다!\")\n"
   ]
  },
  {
   "cell_type": "code",
   "execution_count": 31,
   "metadata": {
    "colab": {
     "background_save": true,
     "base_uri": "https://localhost:8080/"
    },
    "id": "pKhrEY9oDNPx",
    "outputId": "fb77c030-b20a-48c6-d1a7-d37e006336c0"
   },
   "outputs": [
    {
     "name": "stdout",
     "output_type": "stream",
     "text": [
      "📊 전체 Fake 데이터 개수: 5000\n",
      "📊 전체 Real 데이터 개수: 5000\n",
      "\n",
      "📊 최종 데이터셋 크기:\n",
      "  🔹 Train - Fake: 4000, Real: 4000\n",
      "  🔹 Test - Fake: 1000, Real: 1000\n",
      "\n",
      "✅ 데이터셋 준비가 완료되었습니다!\n"
     ]
    }
   ],
   "source": [
    "import os\n",
    "import shutil\n",
    "import random\n",
    "from sklearn.model_selection import train_test_split\n",
    "\n",
    "# 저장 디렉토리 설정\n",
    "output_directory = \"data/mixed_Dataset\"\n",
    "train_dir = os.path.join(output_directory, \"train\")\n",
    "test_dir = os.path.join(output_directory, \"test\")\n",
    "os.makedirs(train_dir, exist_ok=True)\n",
    "os.makedirs(test_dir, exist_ok=True)\n",
    "\n",
    "def sample_n_files(directory, n):\n",
    "    \"\"\"디렉토리에서 n개 파일을 랜덤 샘플링\"\"\"\n",
    "    if not os.path.exists(directory) or not os.path.isdir(directory):\n",
    "        print(f\"❌ {directory} 경로가 존재하지 않음!\")\n",
    "        return []\n",
    "    \n",
    "    files = os.listdir(directory)\n",
    "    if len(files) < n:\n",
    "        print(f\"⚠️ {directory}: 데이터 부족 ({len(files)}/{n}) → 모든 파일 사용\")\n",
    "        return [os.path.join(directory, f) for f in files]\n",
    "    \n",
    "    return [os.path.join(directory, f) for f in random.sample(files, n)]\n",
    "\n",
    "def copy_files(files, target_dir):\n",
    "    \"\"\"파일 복사\"\"\"\n",
    "    os.makedirs(target_dir, exist_ok=True)\n",
    "    for file in files:\n",
    "        destination = os.path.join(target_dir, os.path.basename(file))\n",
    "        try:\n",
    "            shutil.copy(file, destination)\n",
    "        except Exception as e:\n",
    "            print(f\"❌ Error copying {file}: {e}\")\n",
    "\n",
    "# 데이터셋 샘플링\n",
    "fake_files = []\n",
    "real_files = []\n",
    "\n",
    "# face 데이터셋\n",
    "fake_files.extend(sample_n_files(os.path.join(face_train_directory, \"fake\"), 500))\n",
    "real_files.extend(sample_n_files(os.path.join(face_train_directory, \"real\"), 500))\n",
    "\n",
    "# cifake_midjourney 데이터셋\n",
    "fake_files.extend(sample_n_files(os.path.join(cifake_mid_train_directory, \"FAKE\"), 1000))\n",
    "real_files.extend(sample_n_files(os.path.join(cifake_mid_train_directory, \"REAL\"), 1000))\n",
    "fake_files.extend(sample_n_files(os.path.join(cifake_mid_test_directory, \"FAKE\"), 500))\n",
    "real_files.extend(sample_n_files(os.path.join(cifake_mid_test_directory, \"REAL\"), 500))\n",
    "\n",
    "# cifake 데이터셋\n",
    "fake_files.extend(sample_n_files(os.path.join(cifake_train_directory, \"FAKE\"), 2000))\n",
    "real_files.extend(sample_n_files(os.path.join(cifake_train_directory, \"REAL\"), 2000))\n",
    "\n",
    "# dalle + midjourney 데이터셋\n",
    "fake_files.extend(sample_n_files(fake_dir, 1000))\n",
    "real_files.extend(sample_n_files(real_dir, 1000))\n",
    "\n",
    "# Train-Test Split (8:2)\n",
    "print(f\"📊 전체 Fake 데이터 개수: {len(fake_files)}\")\n",
    "print(f\"📊 전체 Real 데이터 개수: {len(real_files)}\")\n",
    "\n",
    "fake_train, fake_test = train_test_split(fake_files, test_size=0.2, random_state=42)\n",
    "real_train, real_test = train_test_split(real_files, test_size=0.2, random_state=42)\n",
    "\n",
    "# 데이터 저장\n",
    "copy_files(fake_train, os.path.join(train_dir, \"fake\"))\n",
    "copy_files(real_train, os.path.join(train_dir, \"real\"))\n",
    "copy_files(fake_test, os.path.join(test_dir, \"fake\"))\n",
    "copy_files(real_test, os.path.join(test_dir, \"real\"))\n",
    "\n",
    "print(f\"\\n📊 최종 데이터셋 크기:\")\n",
    "print(f\"  🔹 Train - Fake: {len(fake_train)}, Real: {len(real_train)}\")\n",
    "print(f\"  🔹 Test - Fake: {len(fake_test)}, Real: {len(real_test)}\")\n",
    "print(\"\\n✅ 데이터셋 준비가 완료되었습니다!\")\n"
   ]
  },
  {
   "cell_type": "markdown",
   "metadata": {
    "id": "Q1RwILWwSZPz"
   },
   "source": [
    "## EfficientNetb6로 데이터셋에 대해 detection(이진분류)태스크 수행"
   ]
  },
  {
   "cell_type": "markdown",
   "metadata": {
    "id": "gjpMRwYakhBI"
   },
   "source": [
    "### 데이터셋 준비"
   ]
  },
  {
   "cell_type": "code",
   "execution_count": 70,
   "metadata": {
    "executionInfo": {
     "elapsed": 18,
     "status": "ok",
     "timestamp": 1740143009762,
     "user": {
      "displayName": "이하은",
      "userId": "06607701604719915973"
     },
     "user_tz": -540
    },
    "id": "f-kSKQgjfjbX"
   },
   "outputs": [],
   "source": [
    "train_dir = \"data/mixed_Dataset/train\"\n",
    "test_dir = \"data/mixed_Dataset/test\""
   ]
  },
  {
   "cell_type": "code",
   "execution_count": 71,
   "metadata": {
    "colab": {
     "base_uri": "https://localhost:8080/"
    },
    "executionInfo": {
     "elapsed": 43862,
     "status": "ok",
     "timestamp": 1740143054096,
     "user": {
      "displayName": "이하은",
      "userId": "06607701604719915973"
     },
     "user_tz": -540
    },
    "id": "MZfLpfcm3bAg",
    "outputId": "734caaf4-37b2-479a-b843-f36e4b926548"
   },
   "outputs": [
    {
     "name": "stdout",
     "output_type": "stream",
     "text": [
      "Train Fake: 3978\n",
      "Train Real: 3920\n",
      "Test Fake: 997\n",
      "Test Real: 996\n"
     ]
    }
   ],
   "source": [
    "import os\n",
    "\n",
    "train_fake_dir = os.path.join(train_dir, \"fake\")\n",
    "train_real_dir = os.path.join(train_dir, \"real\")\n",
    "test_fake_dir = os.path.join(test_dir, \"fake\")\n",
    "test_real_dir = os.path.join(test_dir, \"real\")\n",
    "\n",
    "# 파일 개수 세기\n",
    "train_fake_count = len(os.listdir(train_fake_dir))\n",
    "train_real_count = len(os.listdir(train_real_dir))\n",
    "test_fake_count = len(os.listdir(test_fake_dir))\n",
    "test_real_count = len(os.listdir(test_real_dir))\n",
    "\n",
    "# 출력\n",
    "print(f\"Train Fake: {train_fake_count}\")\n",
    "print(f\"Train Real: {train_real_count}\")\n",
    "print(f\"Test Fake: {test_fake_count}\")\n",
    "print(f\"Test Real: {test_real_count}\")"
   ]
  },
  {
   "cell_type": "code",
   "execution_count": 72,
   "metadata": {
    "executionInfo": {
     "elapsed": 10,
     "status": "ok",
     "timestamp": 1740143054125,
     "user": {
      "displayName": "이하은",
      "userId": "06607701604719915973"
     },
     "user_tz": -540
    },
    "id": "BMaKs4jHkaQW"
   },
   "outputs": [],
   "source": [
    "# from PIL import Image\n",
    "# import os\n",
    "\n",
    "# MAX_PIXELS = 178956970  # 허용되는 최대 픽셀 크기 (Pillow 기본값)\n",
    "# VALID_EXTENSIONS = {\".jpg\", \".jpeg\", \".png\"}\n",
    "# def remove_invalid_images(directory):\n",
    "#     for root, _, files in os.walk(directory):\n",
    "#         for file in files:\n",
    "#             file_path = os.path.join(root, file)\n",
    "#             if not any(file.lower().endswith(ext) for ext in VALID_EXTENSIONS):\n",
    "#                 continue  # 유효한 확장자가 아니면 건너뜀\n",
    "#             try:\n",
    "#                 img = Image.open(file_path)\n",
    "#                 img.verify()  # 손상 여부 확인\n",
    "#                 if img.size[0] * img.size[1] > MAX_PIXELS:\n",
    "#                     print(f\"Removing oversized image: {file_path}\")\n",
    "#                     os.remove(file_path)\n",
    "#             except (IOError, SyntaxError, Image.DecompressionBombError):\n",
    "#                 print(f\"Removing invalid image: {file_path}\")\n",
    "#                 os.remove(file_path)\n",
    "\n",
    "# remove_invalid_images(train_dir)\n",
    "# remove_invalid_images(test_dir)"
   ]
  },
  {
   "cell_type": "markdown",
   "metadata": {},
   "source": [
    "### 학습 시작"
   ]
  },
  {
   "cell_type": "code",
   "execution_count": 78,
   "metadata": {
    "executionInfo": {
     "elapsed": 50,
     "status": "ok",
     "timestamp": 1740144791035,
     "user": {
      "displayName": "이하은",
      "userId": "06607701604719915973"
     },
     "user_tz": -540
    },
    "id": "qatkA2kUTHS-"
   },
   "outputs": [],
   "source": [
    "#필수 라이브러리 임포트\n",
    "import tensorflow as tf\n",
    "from tensorflow.keras import layers, models,regularizers\n",
    "#from tensorflow.keras.applications import EfficientNetB0\n",
    "from tensorflow.keras.applications import EfficientNetB6\n",
    "from tensorflow.keras.optimizers import Adam\n",
    "from tensorflow.keras.losses import BinaryCrossentropy\n",
    "import matplotlib.pyplot as plt\n",
    "from tensorflow.keras.callbacks import EarlyStopping\n",
    "from tensorflow.keras.applications.efficientnet import preprocess_input"
   ]
  },
  {
   "cell_type": "code",
   "execution_count": 79,
   "metadata": {
    "executionInfo": {
     "elapsed": 21,
     "status": "aborted",
     "timestamp": 1740145208328,
     "user": {
      "displayName": "이하은",
      "userId": "06607701604719915973"
     },
     "user_tz": -540
    },
    "id": "HzID_wGO6tHy"
   },
   "outputs": [],
   "source": [
    "# CONFIGURATION 설정\n",
    "CONFIGURATION = {\n",
    "    \"BATCH_SIZE\": 4,\n",
    "    \"IM_SIZE\": 528,\n",
    "    \"LEARNING_RATE\": 1e-3,\n",
    "    \"N_EPOCHS\": 20,\n",
    "    \"DROPOUT_RATE\": 0.01, #일반적으로 0.2~0.5\n",
    "    \"REGULARIZATION_RATE\": 0.001,\n",
    "    \"N_DENSE_1\": 1024,\n",
    "    \"NUM_CLASSES\": 2,\n",
    "    \"CLASS_NAMES\": ['fake', 'real']\n",
    "}"
   ]
  },
  {
   "cell_type": "code",
   "execution_count": 80,
   "metadata": {
    "executionInfo": {
     "elapsed": 20,
     "status": "aborted",
     "timestamp": 1740145208331,
     "user": {
      "displayName": "이하은",
      "userId": "06607701604719915973"
     },
     "user_tz": -540
    },
    "id": "3Bs4s9q1f4zi"
   },
   "outputs": [],
   "source": [
    "#EfficientNetB0,B6 모델 구성\n",
    "input_shape = (CONFIGURATION[\"IM_SIZE\"], CONFIGURATION[\"IM_SIZE\"], 3)\n",
    "\n",
    "# EfficientNetB6 모델 불러오기\n",
    "base_model = tf.keras.applications.EfficientNetB6(\n",
    "    weights='imagenet',\n",
    "    include_top=False,\n",
    "    input_shape=input_shape\n",
    ")"
   ]
  },
  {
   "cell_type": "code",
   "execution_count": 81,
   "metadata": {
    "executionInfo": {
     "elapsed": 4,
     "status": "ok",
     "timestamp": 1740144818459,
     "user": {
      "displayName": "이하은",
      "userId": "06607701604719915973"
     },
     "user_tz": -540
    },
    "id": "ueNtbe-Xf9Hw"
   },
   "outputs": [],
   "source": [
    "# EfficientNet의 마지막 n개 레이어만 학습 가능하도록 설정\n",
    "n = 10 #20~25\n",
    "for layer in base_model.layers[:-n]:  # 마지막 N개 레이어만 학습 가능\n",
    "    layer.trainable = False\n",
    "for layer in base_model.layers[-n:]:\n",
    "    layer.trainable = True"
   ]
  },
  {
   "cell_type": "code",
   "execution_count": null,
   "metadata": {
    "colab": {
     "base_uri": "https://localhost:8080/",
     "height": 408
    },
    "executionInfo": {
     "elapsed": 256359,
     "status": "error",
     "timestamp": 1740145208323,
     "user": {
      "displayName": "이하은",
      "userId": "06607701604719915973"
     },
     "user_tz": -540
    },
    "id": "OQqzo7zrvxQi",
    "outputId": "5247b4db-019d-467a-cd45-01554e6bf7d2"
   },
   "outputs": [
    {
     "name": "stdout",
     "output_type": "stream",
     "text": [
      "Found 7898 images belonging to 2 classes.\n",
      "Found 1993 images belonging to 2 classes.\n",
      "Epoch 1/20\n",
      "\u001b[1m1975/1975\u001b[0m \u001b[32m━━━━━━━━━━━━━━━━━━━━\u001b[0m\u001b[37m\u001b[0m \u001b[1m0s\u001b[0m 150ms/step - accuracy: 0.5902 - loss: 0.8801"
     ]
    },
    {
     "name": "stderr",
     "output_type": "stream",
     "text": [
      "2025-02-23 20:21:49.009911: I external/local_xla/xla/stream_executor/cuda/cuda_asm_compiler.cc:393] ptxas warning : Registers are spilled to local memory in function 'gemm_fusion_dot_2', 36 bytes spill stores, 36 bytes spill loads\n",
      "\n"
     ]
    },
    {
     "name": "stdout",
     "output_type": "stream",
     "text": [
      "\u001b[1m1975/1975\u001b[0m \u001b[32m━━━━━━━━━━━━━━━━━━━━\u001b[0m\u001b[37m\u001b[0m \u001b[1m396s\u001b[0m 179ms/step - accuracy: 0.5902 - loss: 0.8800 - val_accuracy: 0.6192 - val_loss: 0.6373\n",
      "Epoch 2/20\n",
      "\u001b[1m1975/1975\u001b[0m \u001b[32m━━━━━━━━━━━━━━━━━━━━\u001b[0m\u001b[37m\u001b[0m \u001b[1m311s\u001b[0m 158ms/step - accuracy: 0.6188 - loss: 0.6508 - val_accuracy: 0.6402 - val_loss: 0.6313\n",
      "Epoch 3/20\n",
      "\u001b[1m1975/1975\u001b[0m \u001b[32m━━━━━━━━━━━━━━━━━━━━\u001b[0m\u001b[37m\u001b[0m \u001b[1m0s\u001b[0m 141ms/step - accuracy: 0.6262 - loss: 0.6430"
     ]
    }
   ],
   "source": [
    "#Sequential 모델 정의 및 추가 계층 설정\n",
    "model = models.Sequential([\n",
    "    base_model,\n",
    "    layers.GlobalAveragePooling2D(),\n",
    "    layers.Dropout(CONFIGURATION[\"DROPOUT_RATE\"]),\n",
    "    layers.Dense(CONFIGURATION[\"N_DENSE_1\"], activation=\"relu\",\n",
    "                 kernel_regularizer=regularizers.l2(CONFIGURATION[\"REGULARIZATION_RATE\"])),\n",
    "    layers.Dropout(CONFIGURATION[\"DROPOUT_RATE\"]),\n",
    "    layers.Dense(1, activation=\"sigmoid\")  #이진 분류\n",
    "])\n",
    "\n",
    "#모델 컴파일 (binary_crossentropy 사용)\n",
    "loss_function = 'binary_crossentropy'\n",
    "model.compile(optimizer=Adam(learning_rate=CONFIGURATION[\"LEARNING_RATE\"]),\n",
    "              loss=loss_function,\n",
    "              metrics=['accuracy'])\n",
    "\n",
    "#데이터 증강을 위한 ImageDataGenerator 사용\n",
    "train_datagen = tf.keras.preprocessing.image.ImageDataGenerator(\n",
    "    rescale=1./255,\n",
    "    rotation_range=30,\n",
    "    width_shift_range=0.2,\n",
    "    height_shift_range=0.2,\n",
    "    shear_range=0.2,\n",
    "    zoom_range=0.2,\n",
    "    horizontal_flip=True,\n",
    "    fill_mode='nearest'\n",
    ")\n",
    "\n",
    "val_datagen = tf.keras.preprocessing.image.ImageDataGenerator(rescale=1./255)\n",
    "\n",
    "#학습 데이터 로드 및 전처리\n",
    "#train_dataset\n",
    "train_dataset = train_datagen.flow_from_directory(\n",
    "    train_dir,  # 학습 데이터가 있는 디렉토리\n",
    "    class_mode='binary',  # 이진 분류 (fake vs real)\n",
    "    color_mode='rgb',\n",
    "    batch_size=CONFIGURATION[\"BATCH_SIZE\"],\n",
    "    target_size=(CONFIGURATION[\"IM_SIZE\"], CONFIGURATION[\"IM_SIZE\"]),\n",
    "    shuffle=True\n",
    ")\n",
    "\n",
    "#val_dataset\n",
    "val_dataset = val_datagen.flow_from_directory(\n",
    "    test_dir,  # 검증 데이터가 있는 디렉토리\n",
    "    class_mode='binary',  # 이진 분류 (fake vs real)\n",
    "    color_mode='rgb',\n",
    "    batch_size=1,  # 검증에서는 배치 크기를 1로 설정\n",
    "    target_size=(CONFIGURATION[\"IM_SIZE\"], CONFIGURATION[\"IM_SIZE\"]),\n",
    "    shuffle=False,  # 검증 데이터셋에서는 shuffle=False\n",
    "    seed=99  # 동일한 검증 데이터를 항상 사용할 수 있도록 시드 설정\n",
    ")\n",
    "\n",
    "#모델 컴파일\n",
    "model.compile(optimizer=Adam(learning_rate=CONFIGURATION[\"LEARNING_RATE\"]),\n",
    "              loss='binary_crossentropy',  #이진 분류에 적합한 손실 함수\n",
    "              metrics=['accuracy'])\n",
    "#조기멈춤 도입\n",
    "early_stopping = EarlyStopping(monitor='val_loss', #accuracy\n",
    "                               patience=3,           #3번의 에폭 동안 개선이 없으면 중단\n",
    "                               restore_best_weights=True)  #중단된 지점에서 최적의 가중치로 복원\n",
    "\n",
    "#모델 학습\n",
    "history = model.fit(\n",
    "    train_dataset,\n",
    "    validation_data=val_dataset,\n",
    "    epochs=CONFIGURATION[\"N_EPOCHS\"],\n",
    "    verbose=1,\n",
    "    callbacks=[early_stopping]  # EarlyStopping 콜백 추가\n",
    ")\n",
    "\n",
    "#학습 과정 시각화\n",
    "plt.plot(history.history['loss'], label='train_loss')\n",
    "plt.plot(history.history['val_loss'], label='val_loss')\n",
    "plt.title('Model loss')\n",
    "plt.xlabel('Epoch')\n",
    "plt.ylabel('Loss')\n",
    "plt.legend(['Train Loss', 'Validation Loss'])\n",
    "plt.show()"
   ]
  },
  {
   "cell_type": "markdown",
   "metadata": {
    "id": "ZeFaVCyhSop7"
   },
   "source": [
    "### 모델 저장"
   ]
  },
  {
   "cell_type": "code",
   "execution_count": 14,
   "metadata": {
    "colab": {
     "base_uri": "https://localhost:8080/"
    },
    "executionInfo": {
     "elapsed": 624,
     "status": "ok",
     "timestamp": 1739774930932,
     "user": {
      "displayName": "이하은",
      "userId": "06607701604719915973"
     },
     "user_tz": -540
    },
    "id": "rRWHSAGE_Jmf",
    "outputId": "676b86eb-6b11-4dc3-9bcb-6a6ac8e8df2f"
   },
   "outputs": [
    {
     "name": "stderr",
     "output_type": "stream",
     "text": [
      "WARNING:absl:You are saving your model as an HDF5 file via `model.save()` or `keras.saving.save_model(model)`. This file format is considered legacy. We recommend using instead the native Keras format, e.g. `model.save('my_model.keras')` or `keras.saving.save_model(model, 'my_model.keras')`. \n"
     ]
    }
   ],
   "source": [
    "#모델 저장\n",
    "model.save(\"model/model_v4.h5\")"
   ]
  },
  {
   "cell_type": "code",
   "execution_count": 45,
   "metadata": {},
   "outputs": [
    {
     "name": "stderr",
     "output_type": "stream",
     "text": [
      "WARNING:absl:Compiled the loaded model, but the compiled metrics have yet to be built. `model.compile_metrics` will be empty until you train or evaluate the model.\n"
     ]
    }
   ],
   "source": [
    "# 모델 로드\n",
    "from tensorflow.keras.models import load_model\n",
    "\n",
    "model_path = \"model/model_v3.h5\"\n",
    "model = load_model(model_path)"
   ]
  },
  {
   "cell_type": "code",
   "execution_count": 46,
   "metadata": {
    "colab": {
     "background_save": true,
     "base_uri": "https://localhost:8080/"
    },
    "id": "IA_V-jIQzyVu",
    "outputId": "5b442490-6618-4743-99c0-5b85328bf2c7"
   },
   "outputs": [
    {
     "ename": "NameError",
     "evalue": "name 'val_dataset' is not defined",
     "output_type": "error",
     "traceback": [
      "\u001b[0;31m---------------------------------------------------------------------------\u001b[0m",
      "\u001b[0;31mNameError\u001b[0m                                 Traceback (most recent call last)",
      "Cell \u001b[0;32mIn[46], line 6\u001b[0m\n\u001b[1;32m      3\u001b[0m \u001b[38;5;28;01mimport\u001b[39;00m\u001b[38;5;250m \u001b[39m\u001b[38;5;21;01mseaborn\u001b[39;00m\u001b[38;5;250m \u001b[39m\u001b[38;5;28;01mas\u001b[39;00m\u001b[38;5;250m \u001b[39m\u001b[38;5;21;01msns\u001b[39;00m\n\u001b[1;32m      5\u001b[0m \u001b[38;5;66;03m#모델 평가: validation dataset에 대한 정확도 계산\u001b[39;00m\n\u001b[0;32m----> 6\u001b[0m val_loss, val_accuracy \u001b[38;5;241m=\u001b[39m model\u001b[38;5;241m.\u001b[39mevaluate(\u001b[43mval_dataset\u001b[49m)\n\u001b[1;32m      7\u001b[0m \u001b[38;5;28mprint\u001b[39m(\u001b[38;5;124mf\u001b[39m\u001b[38;5;124m\"\u001b[39m\u001b[38;5;124mValidation Accuracy: \u001b[39m\u001b[38;5;132;01m{\u001b[39;00mval_accuracy\u001b[38;5;250m \u001b[39m\u001b[38;5;241m*\u001b[39m\u001b[38;5;250m \u001b[39m\u001b[38;5;241m100\u001b[39m\u001b[38;5;132;01m:\u001b[39;00m\u001b[38;5;124m.2f\u001b[39m\u001b[38;5;132;01m}\u001b[39;00m\u001b[38;5;124m%\u001b[39m\u001b[38;5;124m\"\u001b[39m)\n\u001b[1;32m      9\u001b[0m \u001b[38;5;66;03m#예측 및 실제 레이블을 추출하여 Confusion Matrix 계산\u001b[39;00m\n",
      "\u001b[0;31mNameError\u001b[0m: name 'val_dataset' is not defined"
     ]
    }
   ],
   "source": [
    "import numpy as np\n",
    "from sklearn.metrics import confusion_matrix\n",
    "import seaborn as sns\n",
    "\n",
    "#모델 평가: validation dataset에 대한 정확도 계산\n",
    "val_loss, val_accuracy = model.evaluate(val_dataset)\n",
    "print(f\"Validation Accuracy: {val_accuracy * 100:.2f}%\")\n",
    "\n",
    "#예측 및 실제 레이블을 추출하여 Confusion Matrix 계산\n",
    "y_true = []\n",
    "y_pred = []\n",
    "\n",
    "#validation dataset에 대해 예측 수행\n",
    "for images, labels in val_dataset:\n",
    "    predictions = model.predict(images,verbose=1)#로그 출력 생략verbose=0\n",
    "    #print(predictions)\n",
    "    y_true.extend(labels)  #실제 레이블\n",
    "    y_pred.extend(np.round(predictions))  #예측 레이블 (0 또는 1로 변환)\n",
    "\n",
    "#Confusion Matrix 계산\n",
    "cm = confusion_matrix(y_true, y_pred)\n",
    "\n",
    "#Confusion Matrix 시각화\n",
    "plt.figure(figsize=(6, 6))\n",
    "sns.heatmap(cm, annot=True, fmt='d', cmap='Blues', xticklabels=CONFIGURATION[\"CLASS_NAMES\"], yticklabels=CONFIGURATION[\"CLASS_NAMES\"])\n",
    "plt.xlabel('Predicted')\n",
    "plt.ylabel('True')\n",
    "plt.title('Confusion Matrix')\n",
    "plt.show()\n",
    "\n",
    "#Confusion Matrix 출력\n",
    "print(\"Confusion Matrix:\")\n",
    "print(cm)"
   ]
  },
  {
   "cell_type": "markdown",
   "metadata": {},
   "source": [
    "## 자체 데이터셋에 대하여 테스트"
   ]
  },
  {
   "cell_type": "markdown",
   "metadata": {},
   "source": [
    "### 데이터셋 준비"
   ]
  },
  {
   "cell_type": "code",
   "execution_count": null,
   "metadata": {},
   "outputs": [],
   "source": [
    "# from PIL import Image\n",
    "# import os\n",
    "\n",
    "# MAX_PIXELS = 178956970  # 허용되는 최대 픽셀 크기 (Pillow 기본값)\n",
    "# VALID_EXTENSIONS = {\".jpg\", \".jpeg\", \".png\"}\n",
    "# def remove_invalid_images(directory):\n",
    "#     for root, _, files in os.walk(directory):\n",
    "#         for file in files:\n",
    "#             file_path = os.path.join(root, file)\n",
    "#             if not any(file.lower().endswith(ext) for ext in VALID_EXTENSIONS):\n",
    "#                 continue  # 유효한 확장자가 아니면 건너뜀\n",
    "#             try:\n",
    "#                 img = Image.open(file_path)\n",
    "#                 img.verify()  # 손상 여부 확인\n",
    "#                 if img.size[0] * img.size[1] > MAX_PIXELS:\n",
    "#                     print(f\"Removing oversized image: {file_path}\")\n",
    "#                     os.remove(file_path)\n",
    "#             except (IOError, SyntaxError, Image.DecompressionBombError):\n",
    "#                 print(f\"Removing invalid image: {file_path}\")\n",
    "#                 os.remove(file_path)\n",
    "\n",
    "# remove_invalid_images(fake_dir)\n",
    "# remove_invalid_images(real_dir)"
   ]
  },
  {
   "cell_type": "markdown",
   "metadata": {},
   "source": [
    "### 평가 수행"
   ]
  },
  {
   "cell_type": "code",
   "execution_count": 55,
   "metadata": {},
   "outputs": [],
   "source": [
    "import os\n",
    "import numpy as np\n",
    "import matplotlib.pyplot as plt\n",
    "import seaborn as sns\n",
    "from tensorflow.keras.models import load_model\n",
    "from tensorflow.keras.preprocessing.image import ImageDataGenerator\n",
    "from sklearn.metrics import confusion_matrix, classification_report\n",
    "\n",
    "# 데이터셋 경로\n",
    "dataset_dir = \"data/gen_without_envir\"\n",
    "fake_dir = \"data/gen_without_envir/fake\"\n",
    "real_dir = \"data/gen_without_envir/real\""
   ]
  },
  {
   "cell_type": "code",
   "execution_count": 56,
   "metadata": {},
   "outputs": [
    {
     "name": "stdout",
     "output_type": "stream",
     "text": [
      "Fake: 270, Real: 133\n"
     ]
    }
   ],
   "source": [
    "fake_count = len(os.listdir(fake_dir)) if os.path.exists(fake_dir) else 0\n",
    "real_count = len(os.listdir(real_dir)) if os.path.exists(real_dir) else 0\n",
    "\n",
    "print(f\"Fake: {fake_count}, Real: {real_count}\")"
   ]
  },
  {
   "cell_type": "code",
   "execution_count": 57,
   "metadata": {},
   "outputs": [
    {
     "name": "stderr",
     "output_type": "stream",
     "text": [
      "WARNING:absl:Compiled the loaded model, but the compiled metrics have yet to be built. `model.compile_metrics` will be empty until you train or evaluate the model.\n"
     ]
    }
   ],
   "source": [
    "# 모델 로드\n",
    "model_path = \"model/model_v1.h5\"\n",
    "model = load_model(model_path)"
   ]
  },
  {
   "cell_type": "code",
   "execution_count": 58,
   "metadata": {},
   "outputs": [
    {
     "name": "stdout",
     "output_type": "stream",
     "text": [
      "Found 398 images belonging to 2 classes.\n"
     ]
    },
    {
     "name": "stderr",
     "output_type": "stream",
     "text": [
      "/home/jangminoh_2/miniconda3/envs/ml-ops/lib/python3.12/site-packages/keras/src/trainers/data_adapters/py_dataset_adapter.py:121: UserWarning: Your `PyDataset` class should call `super().__init__(**kwargs)` in its constructor. `**kwargs` can include `workers`, `use_multiprocessing`, `max_queue_size`. Do not pass these arguments to `fit()`, as they will be ignored.\n",
      "  self._warn_if_super_not_called()\n"
     ]
    },
    {
     "name": "stdout",
     "output_type": "stream",
     "text": [
      "\u001b[1m100/100\u001b[0m \u001b[32m━━━━━━━━━━━━━━━━━━━━\u001b[0m\u001b[37m\u001b[0m \u001b[1m24s\u001b[0m 146ms/step\n",
      "[[0.02125518]\n",
      " [0.02133024]\n",
      " [0.0212321 ]\n",
      " [0.02117726]\n",
      " [0.02118634]\n",
      " [0.02104583]\n",
      " [0.02098217]\n",
      " [0.02082625]\n",
      " [0.02094881]\n",
      " [0.02119111]\n",
      " [0.02117998]\n",
      " [0.02118904]\n",
      " [0.0204004 ]\n",
      " [0.02130445]\n",
      " [0.02124486]\n",
      " [0.02042305]\n",
      " [0.02008843]\n",
      " [0.02117632]\n",
      " [0.02023164]\n",
      " [0.02089529]\n",
      " [0.02106161]\n",
      " [0.02107646]\n",
      " [0.02040255]\n",
      " [0.01971036]\n",
      " [0.02026902]\n",
      " [0.02081185]\n",
      " [0.02050037]\n",
      " [0.02106624]\n",
      " [0.02013108]\n",
      " [0.02118674]\n",
      " [0.02077314]\n",
      " [0.02152601]\n",
      " [0.0215231 ]\n",
      " [0.02063298]\n",
      " [0.02116694]\n",
      " [0.02148172]\n",
      " [0.02096544]\n",
      " [0.0189408 ]\n",
      " [0.02087615]\n",
      " [0.02060076]\n",
      " [0.02099173]\n",
      " [0.01971615]\n",
      " [0.02121308]\n",
      " [0.02028627]\n",
      " [0.01863153]\n",
      " [0.02148587]\n",
      " [0.02150512]\n",
      " [0.01953746]\n",
      " [0.01995688]\n",
      " [0.02151626]\n",
      " [0.02134461]\n",
      " [0.02117896]\n",
      " [0.02116465]\n",
      " [0.0212095 ]\n",
      " [0.0213294 ]\n",
      " [0.02118888]\n",
      " [0.0209713 ]\n",
      " [0.02142269]\n",
      " [0.02138046]\n",
      " [0.02117637]\n",
      " [0.02074325]\n",
      " [0.02068494]\n",
      " [0.02086188]\n",
      " [0.02036409]\n",
      " [0.02125153]\n",
      " [0.02151394]\n",
      " [0.02154132]\n",
      " [0.02087041]\n",
      " [0.0210124 ]\n",
      " [0.0211981 ]\n",
      " [0.02139159]\n",
      " [0.01973658]\n",
      " [0.02146748]\n",
      " [0.02118537]\n",
      " [0.02142506]\n",
      " [0.0207321 ]\n",
      " [0.02120714]\n",
      " [0.02145867]\n",
      " [0.02081902]\n",
      " [0.02111532]\n",
      " [0.02141671]\n",
      " [0.02088632]\n",
      " [0.02150004]\n",
      " [0.02139983]\n",
      " [0.0213751 ]\n",
      " [0.02139565]\n",
      " [0.02124964]\n",
      " [0.02093325]\n",
      " [0.02151831]\n",
      " [0.02148387]\n",
      " [0.02153648]\n",
      " [0.02112831]\n",
      " [0.02128898]\n",
      " [0.02126895]\n",
      " [0.02108529]\n",
      " [0.02155554]\n",
      " [0.02153175]\n",
      " [0.02084791]\n",
      " [0.02144365]\n",
      " [0.02137433]\n",
      " [0.02130141]\n",
      " [0.02116412]\n",
      " [0.0215165 ]\n",
      " [0.02100613]\n",
      " [0.02078396]\n",
      " [0.02124191]\n",
      " [0.02097828]\n",
      " [0.02134958]\n",
      " [0.01955277]\n",
      " [0.02144904]\n",
      " [0.02124102]\n",
      " [0.01991444]\n",
      " [0.0212185 ]\n",
      " [0.02140405]\n",
      " [0.02019146]\n",
      " [0.02071357]\n",
      " [0.02076029]\n",
      " [0.02114296]\n",
      " [0.02119365]\n",
      " [0.02064696]\n",
      " [0.02153003]\n",
      " [0.02113659]\n",
      " [0.0213595 ]\n",
      " [0.02120753]\n",
      " [0.02082407]\n",
      " [0.0215123 ]\n",
      " [0.02134231]\n",
      " [0.02152057]\n",
      " [0.02152404]\n",
      " [0.02134022]\n",
      " [0.02142702]\n",
      " [0.02120066]\n",
      " [0.02147512]\n",
      " [0.02144863]\n",
      " [0.02150021]\n",
      " [0.02145085]\n",
      " [0.02062525]\n",
      " [0.02127868]\n",
      " [0.0212774 ]\n",
      " [0.02141288]\n",
      " [0.02151022]\n",
      " [0.02130677]\n",
      " [0.02135625]\n",
      " [0.02125792]\n",
      " [0.02115366]\n",
      " [0.02136706]\n",
      " [0.02154188]\n",
      " [0.02067051]\n",
      " [0.02139403]\n",
      " [0.02152267]\n",
      " [0.02153244]\n",
      " [0.02152039]\n",
      " [0.02106881]\n",
      " [0.02105623]\n",
      " [0.0212672 ]\n",
      " [0.02112575]\n",
      " [0.02064088]\n",
      " [0.02093814]\n",
      " [0.02085137]\n",
      " [0.02064601]\n",
      " [0.02100747]\n",
      " [0.0212206 ]\n",
      " [0.0209036 ]\n",
      " [0.02110373]\n",
      " [0.02107327]\n",
      " [0.02138232]\n",
      " [0.02143457]\n",
      " [0.02102662]\n",
      " [0.02111215]\n",
      " [0.02091535]\n",
      " [0.02099007]\n",
      " [0.0211905 ]\n",
      " [0.02091535]\n",
      " [0.0203557 ]\n",
      " [0.02093126]\n",
      " [0.02040081]\n",
      " [0.02010113]\n",
      " [0.02089413]\n",
      " [0.02079599]\n",
      " [0.02141125]\n",
      " [0.02139476]\n",
      " [0.02136475]\n",
      " [0.02139189]\n",
      " [0.02123251]\n",
      " [0.02087899]\n",
      " [0.02151546]\n",
      " [0.02057259]\n",
      " [0.0201731 ]\n",
      " [0.02083792]\n",
      " [0.02043391]\n",
      " [0.02092104]\n",
      " [0.02105551]\n",
      " [0.02094779]\n",
      " [0.02096681]\n",
      " [0.0198393 ]\n",
      " [0.020017  ]\n",
      " [0.01942308]\n",
      " [0.01965866]\n",
      " [0.02086928]\n",
      " [0.02113003]\n",
      " [0.02110184]\n",
      " [0.02118124]\n",
      " [0.0215579 ]\n",
      " [0.02158615]\n",
      " [0.0214735 ]\n",
      " [0.02152932]\n",
      " [0.02108008]\n",
      " [0.02088659]\n",
      " [0.02104935]\n",
      " [0.02112586]\n",
      " [0.020865  ]\n",
      " [0.02151022]\n",
      " [0.0214198 ]\n",
      " [0.0214636 ]\n",
      " [0.02044475]\n",
      " [0.02122189]\n",
      " [0.0212193 ]\n",
      " [0.0210737 ]\n",
      " [0.02106857]\n",
      " [0.02105675]\n",
      " [0.0195621 ]\n",
      " [0.02131821]\n",
      " [0.02124926]\n",
      " [0.0212082 ]\n",
      " [0.02135556]\n",
      " [0.0212828 ]\n",
      " [0.02134699]\n",
      " [0.02144357]\n",
      " [0.02136251]\n",
      " [0.02145061]\n",
      " [0.0214876 ]\n",
      " [0.02151966]\n",
      " [0.02091817]\n",
      " [0.02134596]\n",
      " [0.02114928]\n",
      " [0.02136903]\n",
      " [0.02153717]\n",
      " [0.02155261]\n",
      " [0.0213121 ]\n",
      " [0.02118407]\n",
      " [0.02113027]\n",
      " [0.02117972]\n",
      " [0.02127373]\n",
      " [0.02114468]\n",
      " [0.02129297]\n",
      " [0.02090906]\n",
      " [0.0214251 ]\n",
      " [0.02106026]\n",
      " [0.0212691 ]\n",
      " [0.02013317]\n",
      " [0.02155456]\n",
      " [0.02097554]\n",
      " [0.02114111]\n",
      " [0.02109889]\n",
      " [0.02080411]\n",
      " [0.02125856]\n",
      " [0.02119796]\n",
      " [0.02140835]\n",
      " [0.02136258]\n",
      " [0.02148888]\n",
      " [0.02147854]\n",
      " [0.02123764]\n",
      " [0.02131492]\n",
      " [0.02127162]\n",
      " [0.02136623]\n",
      " [0.02124911]\n",
      " [0.02071053]\n",
      " [0.02032214]\n",
      " [0.02134793]\n",
      " [0.02143667]\n",
      " [0.02093583]\n",
      " [0.01755421]\n",
      " [0.02118124]\n",
      " [0.02151598]\n",
      " [0.02089582]\n",
      " [0.01947175]\n",
      " [0.02035112]\n",
      " [0.02085571]\n",
      " [0.01868159]\n",
      " [0.02125333]\n",
      " [0.02113395]\n",
      " [0.02138055]\n",
      " [0.02119739]\n",
      " [0.0214591 ]\n",
      " [0.02132453]\n",
      " [0.02148846]\n",
      " [0.02121351]\n",
      " [0.02148636]\n",
      " [0.02079877]\n",
      " [0.02101286]\n",
      " [0.02109784]\n",
      " [0.02056731]\n",
      " [0.02130586]\n",
      " [0.02124623]\n",
      " [0.02047221]\n",
      " [0.02137185]\n",
      " [0.02099257]\n",
      " [0.02142218]\n",
      " [0.02045643]\n",
      " [0.02100546]\n",
      " [0.02022645]\n",
      " [0.02065786]\n",
      " [0.02086049]\n",
      " [0.01981846]\n",
      " [0.02044925]\n",
      " [0.01936758]\n",
      " [0.02136873]\n",
      " [0.02095114]\n",
      " [0.02147119]\n",
      " [0.01991288]\n",
      " [0.02135619]\n",
      " [0.0209585 ]\n",
      " [0.02154121]\n",
      " [0.02121719]\n",
      " [0.02098405]\n",
      " [0.02155183]\n",
      " [0.02149515]\n",
      " [0.02089884]\n",
      " [0.021334  ]\n",
      " [0.02096151]\n",
      " [0.02137039]\n",
      " [0.02151244]\n",
      " [0.02121608]\n",
      " [0.0213195 ]\n",
      " [0.02144274]\n",
      " [0.02026486]\n",
      " [0.02129115]\n",
      " [0.02148149]\n",
      " [0.02119214]\n",
      " [0.02146024]\n",
      " [0.02140942]\n",
      " [0.02134519]\n",
      " [0.021224  ]\n",
      " [0.02081657]\n",
      " [0.02133678]\n",
      " [0.02134466]\n",
      " [0.02130996]\n",
      " [0.02143264]\n",
      " [0.02132931]\n",
      " [0.0213735 ]\n",
      " [0.02100223]\n",
      " [0.02120915]\n",
      " [0.02137183]\n",
      " [0.02087557]\n",
      " [0.021123  ]\n",
      " [0.0212971 ]\n",
      " [0.01995889]\n",
      " [0.02124409]\n",
      " [0.02135667]\n",
      " [0.02106876]\n",
      " [0.02144036]\n",
      " [0.02042211]\n",
      " [0.02119126]\n",
      " [0.02109676]\n",
      " [0.02121959]\n",
      " [0.0205879 ]\n",
      " [0.02060473]\n",
      " [0.02146822]\n",
      " [0.02088491]\n",
      " [0.02131967]\n",
      " [0.0206568 ]\n",
      " [0.01953617]\n",
      " [0.01947216]\n",
      " [0.02110281]\n",
      " [0.02018237]\n",
      " [0.0202089 ]\n",
      " [0.02133054]\n",
      " [0.02124845]\n",
      " [0.02122399]\n",
      " [0.02145677]\n",
      " [0.0212343 ]\n",
      " [0.02145965]\n",
      " [0.02064016]\n",
      " [0.01674576]\n",
      " [0.02153543]\n",
      " [0.02123636]\n",
      " [0.0210557 ]\n",
      " [0.02120418]\n",
      " [0.02070325]\n",
      " [0.02079942]\n",
      " [0.02135758]\n",
      " [0.02112724]\n",
      " [0.02143127]\n",
      " [0.02146168]\n",
      " [0.01965625]\n",
      " [0.02095595]\n",
      " [0.02096238]\n",
      " [0.02155327]\n",
      " [0.02154551]\n",
      " [0.02103582]\n",
      " [0.02153306]\n",
      " [0.02038052]\n",
      " [0.02116258]\n",
      " [0.02090742]\n",
      " [0.02155603]\n",
      " [0.02121415]\n",
      " [0.02145896]\n",
      " [0.02121701]]\n",
      "y_true length: 398\n",
      "y_pred length: 398\n",
      "Model Accuracy: 0.6784\n"
     ]
    },
    {
     "data": {
      "image/png": "[encoded data removed]",
      "text/plain": [
       "<Figure size 600x500 with 2 Axes>"
      ]
     },
     "metadata": {},
     "output_type": "display_data"
    },
    {
     "name": "stdout",
     "output_type": "stream",
     "text": [
      "\n",
      "Classification Report:\n",
      "              precision    recall  f1-score   support\n",
      "\n",
      "        fake       0.68      1.00      0.81       270\n",
      "        real       0.00      0.00      0.00       128\n",
      "\n",
      "    accuracy                           0.68       398\n",
      "   macro avg       0.34      0.50      0.40       398\n",
      "weighted avg       0.46      0.68      0.55       398\n",
      "\n"
     ]
    },
    {
     "name": "stderr",
     "output_type": "stream",
     "text": [
      "/home/jangminoh_2/miniconda3/envs/ml-ops/lib/python3.12/site-packages/sklearn/metrics/_classification.py:1565: UndefinedMetricWarning: Precision is ill-defined and being set to 0.0 in labels with no predicted samples. Use `zero_division` parameter to control this behavior.\n",
      "  _warn_prf(average, modifier, f\"{metric.capitalize()} is\", len(result))\n",
      "/home/jangminoh_2/miniconda3/envs/ml-ops/lib/python3.12/site-packages/sklearn/metrics/_classification.py:1565: UndefinedMetricWarning: Precision is ill-defined and being set to 0.0 in labels with no predicted samples. Use `zero_division` parameter to control this behavior.\n",
      "  _warn_prf(average, modifier, f\"{metric.capitalize()} is\", len(result))\n",
      "/home/jangminoh_2/miniconda3/envs/ml-ops/lib/python3.12/site-packages/sklearn/metrics/_classification.py:1565: UndefinedMetricWarning: Precision is ill-defined and being set to 0.0 in labels with no predicted samples. Use `zero_division` parameter to control this behavior.\n",
      "  _warn_prf(average, modifier, f\"{metric.capitalize()} is\", len(result))\n"
     ]
    }
   ],
   "source": [
    "# 이미지 크기 및 배치 사이즈 설정\n",
    "img_size = (528, 528)  # EfficientNetB6의 입력 크기에 맞게 변경 가능\n",
    "batch_size = 4\n",
    "\n",
    "# 데이터 로더 설정 (test용)\n",
    "datagen = ImageDataGenerator(rescale=1./255)\n",
    "\n",
    "\n",
    "test_generator = datagen.flow_from_directory(\n",
    "    dataset_dir,\n",
    "    target_size=img_size,\n",
    "    batch_size=batch_size,\n",
    "    class_mode=\"binary\",  # 이진 분류 (fake vs real)\n",
    "    shuffle= False\n",
    ")\n",
    "\n",
    "# 실제 라벨 가져오기\n",
    "y_true = test_generator.classes  # 0: fake, 1: real\n",
    "#print(y_true)\n",
    "class_names = list(test_generator.class_indices.keys())\n",
    "#print(class_names) #['fake', 'real']\n",
    "#print(test_generator.class_indices)\n",
    "\n",
    "# 예측 수행\n",
    "# 예측 수행 (전체 데이터에 대해 예측)\n",
    "y_pred_probs = model.predict(test_generator, steps=None)  \n",
    "print(y_pred_probs)\n",
    "# 이진 분류 (0.5 이상이면 1, 아니면 0)\n",
    "y_pred = (y_pred_probs > 0.5).astype(int).flatten()\n",
    "\n",
    "# 크기 확인\n",
    "print(f\"y_true length: {len(y_true)}\")\n",
    "print(f\"y_pred length: {len(y_pred)}\")\n",
    "\n",
    "# 데이터 개수가 맞지 않으면 맞춰줌\n",
    "min_len = min(len(y_true), len(y_pred))\n",
    "y_true, y_pred = y_true[:min_len], y_pred[:min_len]\n",
    "\n",
    "# 정확도 출력\n",
    "accuracy = np.mean(y_pred == y_true)\n",
    "print(f\"Model Accuracy: {accuracy:.4f}\")\n",
    "\n",
    "# Confusion Matrix 생성\n",
    "cm = confusion_matrix(y_true, y_pred)\n",
    "plt.figure(figsize=(6, 5))\n",
    "sns.heatmap(cm, annot=True, fmt=\"d\", cmap=\"Blues\", xticklabels=class_names, yticklabels=class_names)\n",
    "plt.xlabel(\"Predicted Label\")\n",
    "plt.ylabel(\"True Label\")\n",
    "plt.title(\"Confusion Matrix\")\n",
    "plt.show()\n",
    "\n",
    "# 분류 보고서 출력\n",
    "print(\"\\nClassification Report:\")\n",
    "print(classification_report(y_true, y_pred, target_names=class_names))\n",
    "\n"
   ]
  },
  {
   "cell_type": "markdown",
   "metadata": {},
   "source": [
    "## 자체 환경 데이터셋 추가 후, 테스트"
   ]
  },
  {
   "cell_type": "markdown",
   "metadata": {
    "id": "0K7briMGE6eR"
   },
   "source": [
    "### 자체 데이터셋 준비"
   ]
  },
  {
   "cell_type": "code",
   "execution_count": null,
   "metadata": {
    "id": "6vNY7vrjFl2t"
   },
   "outputs": [
    {
     "name": "stdout",
     "output_type": "stream",
     "text": [
      "📂 fake 디렉토리 파일 정리 및 변환 완료! ✅\n"
     ]
    }
   ],
   "source": [
    "# import os\n",
    "# import unicodedata\n",
    "# from PIL import Image\n",
    "\n",
    "# # 이미지 경로 설정\n",
    "# dataset_dir = \"data/generated_dataset\"\n",
    "# fake_dir = os.path.join(dataset_dir, \"fake\")\n",
    "\n",
    "# # 파일명 정리 + 변환 함수\n",
    "# def clean_and_convert_images(directory):\n",
    "#     for filename in os.listdir(directory):\n",
    "#         # 유니코드 정규화 (한글 깨짐 방지)\n",
    "#         normalized_filename = unicodedata.normalize(\"NFC\", filename)\n",
    "#         new_filename = normalized_filename  # 기본 파일명 설정\n",
    "\n",
    "#         # \"의 사본\" 삭제\n",
    "#         if \"의 사본\" in new_filename:\n",
    "#             new_filename = new_filename.replace(\"의 사본\", \"\").strip()\n",
    "\n",
    "#         # 중복 확장자 제거 (예: .webp.webp → .webp)\n",
    "#         root, ext = os.path.splitext(new_filename)\n",
    "#         if root.endswith(ext):\n",
    "#             new_filename = root\n",
    "\n",
    "#         old_path = os.path.join(directory, filename)\n",
    "#         new_path = os.path.join(directory, new_filename)\n",
    "\n",
    "#         # 파일명이 변경되었을 경우만 수정\n",
    "#         if filename != new_filename:\n",
    "#             os.rename(old_path, new_path)\n",
    "#             print(f\"Renamed: {filename} -> {new_filename}\")\n",
    "#             old_path = new_path  # 변경된 파일명을 기반으로 다시 설정\n",
    "\n",
    "#         # 확장자가 .webp인 경우 .png로 변환\n",
    "#         if new_filename.endswith(\".webp\"):\n",
    "#             png_filename = new_filename.replace(\".webp\", \".png\")\n",
    "#             png_path = os.path.join(directory, png_filename)\n",
    "\n",
    "#             with Image.open(old_path) as img:\n",
    "#                 img.save(png_path, \"PNG\")  # PNG로 저장\n",
    "\n",
    "#             os.remove(old_path)  # 원본 .webp 파일 삭제\n",
    "#             print(f\"Converted: {new_filename} -> {png_filename}\")\n",
    "\n",
    "# # fake 디렉토리에서만 실행\n",
    "# clean_and_convert_images(fake_dir)\n",
    "\n",
    "# print(\"📂 fake 디렉토리 파일 정리 및 변환 완료! ✅\")\n"
   ]
  },
  {
   "cell_type": "code",
   "execution_count": null,
   "metadata": {
    "id": "SkJax2NPDjHG"
   },
   "outputs": [
    {
     "name": "stdout",
     "output_type": "stream",
     "text": [
      "변환 완료!\n"
     ]
    }
   ],
   "source": [
    "# import os\n",
    "# from PIL import Image\n",
    "\n",
    "# # 이미지 경로 설정\n",
    "# dataset_dir = \"data/generated_dataset\"\n",
    "# fake_dir = os.path.join(dataset_dir, \"fake\")\n",
    "# real_dir = os.path.join(dataset_dir, \"real\")\n",
    "\n",
    "# # 변환 함수\n",
    "# def convert_webp_to_jpeg(directory):\n",
    "#     for filename in os.listdir(directory):\n",
    "#         if filename.endswith(\".webp\"):\n",
    "#             webp_path = os.path.join(directory, filename)\n",
    "#             jpeg_path = os.path.join(directory, filename.replace(\".webp\", \".jpeg\"))\n",
    "\n",
    "#             # 이미지 변환\n",
    "#             with Image.open(webp_path) as img:\n",
    "#                 img = img.convert(\"RGB\")  # RGB 모드로 변환\n",
    "#                 img.save(jpeg_path, \"JPEG\", quality=95)  # JPEG로 저장\n",
    "\n",
    "#             # 원본 webp 삭제\n",
    "#             os.remove(webp_path)\n",
    "#             print(f\"Converted and deleted: {webp_path}\")\n",
    "\n",
    "# # 각 디렉토리에서 변환 실행\n",
    "# convert_webp_to_jpeg(fake_dir)\n",
    "# convert_webp_to_jpeg(real_dir)\n",
    "\n",
    "# print(\"변환 완료!\")\n"
   ]
  },
  {
   "cell_type": "code",
   "execution_count": 33,
   "metadata": {
    "colab": {
     "base_uri": "https://localhost:8080/"
    },
    "executionInfo": {
     "elapsed": 1488,
     "status": "ok",
     "timestamp": 1740137750775,
     "user": {
      "displayName": "이하은",
      "userId": "06607701604719915973"
     },
     "user_tz": -540
    },
    "id": "mw_7TUhzC-g8",
    "outputId": "d69a26eb-1ac2-4a37-eef2-6bdeb02a52d9"
   },
   "outputs": [
    {
     "name": "stdout",
     "output_type": "stream",
     "text": [
      "Fake: 350, Real: 175\n"
     ]
    }
   ],
   "source": [
    "import os\n",
    "\n",
    "dataset_dir = \"data/generated_dataset/labeled\"\n",
    "fake_dir = os.path.join(dataset_dir, \"fake\")\n",
    "real_dir = os.path.join(dataset_dir, \"real\")\n",
    "\n",
    "fake_count = len(os.listdir(fake_dir)) if os.path.exists(fake_dir) else 0\n",
    "real_count = len(os.listdir(real_dir)) if os.path.exists(real_dir) else 0\n",
    "\n",
    "print(f\"Fake: {fake_count}, Real: {real_count}\")\n"
   ]
  },
  {
   "cell_type": "code",
   "execution_count": 34,
   "metadata": {
    "id": "BpgocXMOU6Uh"
   },
   "outputs": [],
   "source": [
    "# from PIL import Image\n",
    "# import os\n",
    "\n",
    "# MAX_PIXELS = 178956970  # 허용되는 최대 픽셀 크기 (Pillow 기본값)\n",
    "# VALID_EXTENSIONS = {\".jpg\", \".jpeg\", \".png\"}\n",
    "# def remove_invalid_images(directory):\n",
    "#     for root, _, files in os.walk(directory):\n",
    "#         for file in files:\n",
    "#             file_path = os.path.join(root, file)\n",
    "#             if not any(file.lower().endswith(ext) for ext in VALID_EXTENSIONS):\n",
    "#                 continue  # 유효한 확장자가 아니면 건너뜀\n",
    "#             try:\n",
    "#                 img = Image.open(file_path)\n",
    "#                 img.verify()  # 손상 여부 확인\n",
    "#                 if img.size[0] * img.size[1] > MAX_PIXELS:\n",
    "#                     print(f\"Removing oversized image: {file_path}\")\n",
    "#                     os.remove(file_path)\n",
    "#             except (IOError, SyntaxError, Image.DecompressionBombError):\n",
    "#                 print(f\"Removing invalid image: {file_path}\")\n",
    "#                 os.remove(file_path)\n",
    "\n",
    "# remove_invalid_images(fake_dir)\n",
    "# remove_invalid_images(real_dir)"
   ]
  },
  {
   "cell_type": "markdown",
   "metadata": {
    "id": "uAqmLRYiTtSR"
   },
   "source": [
    "### 자체데이터 평가 수행"
   ]
  },
  {
   "cell_type": "code",
   "execution_count": 59,
   "metadata": {
    "executionInfo": {
     "elapsed": 13,
     "status": "ok",
     "timestamp": 1740143978678,
     "user": {
      "displayName": "이하은",
      "userId": "06607701604719915973"
     },
     "user_tz": -540
    },
    "id": "FLRCxx5m_Hnb"
   },
   "outputs": [],
   "source": [
    "import os\n",
    "import numpy as np\n",
    "import matplotlib.pyplot as plt\n",
    "import seaborn as sns\n",
    "from tensorflow.keras.models import load_model\n",
    "from tensorflow.keras.preprocessing.image import ImageDataGenerator\n",
    "from sklearn.metrics import confusion_matrix, classification_report\n",
    "\n",
    "# 데이터셋 경로\n",
    "dataset_dir = \"data/generated_dataset/labeled\"\n",
    "fake_dir = \"data/generated_dataset/labeled/fake\"\n",
    "real_dir = \"data/generated_dataset/labeled/real\""
   ]
  },
  {
   "cell_type": "code",
   "execution_count": 60,
   "metadata": {
    "colab": {
     "base_uri": "https://localhost:8080/"
    },
    "executionInfo": {
     "elapsed": 34,
     "status": "ok",
     "timestamp": 1740143978730,
     "user": {
      "displayName": "이하은",
      "userId": "06607701604719915973"
     },
     "user_tz": -540
    },
    "id": "zMHYX4VgmnTl",
    "outputId": "0dc2eda6-0aa3-4cef-954c-8dbc5fa12248"
   },
   "outputs": [
    {
     "name": "stdout",
     "output_type": "stream",
     "text": [
      "Fake: 350, Real: 175\n"
     ]
    }
   ],
   "source": [
    "fake_count = len(os.listdir(fake_dir)) if os.path.exists(fake_dir) else 0\n",
    "real_count = len(os.listdir(real_dir)) if os.path.exists(real_dir) else 0\n",
    "\n",
    "print(f\"Fake: {fake_count}, Real: {real_count}\")"
   ]
  },
  {
   "cell_type": "code",
   "execution_count": 61,
   "metadata": {
    "colab": {
     "base_uri": "https://localhost:8080/"
    },
    "executionInfo": {
     "elapsed": 4612,
     "status": "ok",
     "timestamp": 1740143097995,
     "user": {
      "displayName": "이하은",
      "userId": "06607701604719915973"
     },
     "user_tz": -540
    },
    "id": "3sYELdsPFDaE",
    "outputId": "21e2cdaa-6356-4fa3-a30d-2da4d6113ae9"
   },
   "outputs": [
    {
     "name": "stderr",
     "output_type": "stream",
     "text": [
      "WARNING:absl:Compiled the loaded model, but the compiled metrics have yet to be built. `model.compile_metrics` will be empty until you train or evaluate the model.\n"
     ]
    }
   ],
   "source": [
    "# 모델 로드\n",
    "model_path = \"model/model_v1.h5\"\n",
    "model = load_model(model_path)"
   ]
  },
  {
   "cell_type": "code",
   "execution_count": 62,
   "metadata": {
    "colab": {
     "base_uri": "https://localhost:8080/",
     "height": 1000
    },
    "executionInfo": {
     "elapsed": 13833,
     "status": "ok",
     "timestamp": 1740144714670,
     "user": {
      "displayName": "이하은",
      "userId": "06607701604719915973"
     },
     "user_tz": -540
    },
    "id": "uPQw4aklTxvA",
    "outputId": "989f5859-0719-40a9-cea2-93f31923c2a0"
   },
   "outputs": [
    {
     "name": "stdout",
     "output_type": "stream",
     "text": [
      "Found 520 images belonging to 2 classes.\n"
     ]
    },
    {
     "name": "stderr",
     "output_type": "stream",
     "text": [
      "/home/jangminoh_2/miniconda3/envs/ml-ops/lib/python3.12/site-packages/keras/src/trainers/data_adapters/py_dataset_adapter.py:121: UserWarning: Your `PyDataset` class should call `super().__init__(**kwargs)` in its constructor. `**kwargs` can include `workers`, `use_multiprocessing`, `max_queue_size`. Do not pass these arguments to `fit()`, as they will be ignored.\n",
      "  self._warn_if_super_not_called()\n"
     ]
    },
    {
     "name": "stdout",
     "output_type": "stream",
     "text": [
      "\u001b[1m130/130\u001b[0m \u001b[32m━━━━━━━━━━━━━━━━━━━━\u001b[0m\u001b[37m\u001b[0m \u001b[1m16s\u001b[0m 50ms/step\n",
      "[[0.02028265]\n",
      " [0.02126478]\n",
      " [0.02065022]\n",
      " [0.02089962]\n",
      " [0.02094433]\n",
      " [0.02091469]\n",
      " [0.02001077]\n",
      " [0.02111281]\n",
      " [0.01923769]\n",
      " [0.02099108]\n",
      " [0.02080051]\n",
      " [0.01527285]\n",
      " [0.02081802]\n",
      " [0.02091481]\n",
      " [0.02140849]\n",
      " [0.02123209]\n",
      " [0.02139412]\n",
      " [0.0211695 ]\n",
      " [0.02097933]\n",
      " [0.02144588]\n",
      " [0.02140261]\n",
      " [0.0205318 ]\n",
      " [0.02139991]\n",
      " [0.02117424]\n",
      " [0.02067887]\n",
      " [0.02039738]\n",
      " [0.02057471]\n",
      " [0.02118787]\n",
      " [0.02080549]\n",
      " [0.01852519]\n",
      " [0.02125518]\n",
      " [0.02133024]\n",
      " [0.0212321 ]\n",
      " [0.02117726]\n",
      " [0.02142997]\n",
      " [0.02151212]\n",
      " [0.02102291]\n",
      " [0.02141122]\n",
      " [0.02136142]\n",
      " [0.02134757]\n",
      " [0.02102563]\n",
      " [0.02127328]\n",
      " [0.02155257]\n",
      " [0.02153477]\n",
      " [0.02146692]\n",
      " [0.02134822]\n",
      " [0.02111681]\n",
      " [0.021298  ]\n",
      " [0.02130355]\n",
      " [0.02139819]\n",
      " [0.02131708]\n",
      " [0.02128104]\n",
      " [0.02113   ]\n",
      " [0.0199866 ]\n",
      " [0.02093029]\n",
      " [0.02112102]\n",
      " [0.02096309]\n",
      " [0.02048739]\n",
      " [0.02043398]\n",
      " [0.02141193]\n",
      " [0.02142066]\n",
      " [0.0199986 ]\n",
      " [0.02146009]\n",
      " [0.02099761]\n",
      " [0.02118634]\n",
      " [0.02104583]\n",
      " [0.02098217]\n",
      " [0.02082625]\n",
      " [0.02094881]\n",
      " [0.0215346 ]\n",
      " [0.02126572]\n",
      " [0.02147029]\n",
      " [0.02149138]\n",
      " [0.02138315]\n",
      " [0.02144953]\n",
      " [0.02148543]\n",
      " [0.02118121]\n",
      " [0.02148969]\n",
      " [0.02156685]\n",
      " [0.02130257]\n",
      " [0.02149979]\n",
      " [0.02116105]\n",
      " [0.02151376]\n",
      " [0.02126462]\n",
      " [0.02126934]\n",
      " [0.02143988]\n",
      " [0.02142875]\n",
      " [0.02142436]\n",
      " [0.02134634]\n",
      " [0.02119111]\n",
      " [0.02117998]\n",
      " [0.02118904]\n",
      " [0.0204004 ]\n",
      " [0.02130445]\n",
      " [0.02124486]\n",
      " [0.02042305]\n",
      " [0.02008843]\n",
      " [0.02117632]\n",
      " [0.02023164]\n",
      " [0.02089529]\n",
      " [0.02106161]\n",
      " [0.02107646]\n",
      " [0.02040255]\n",
      " [0.01971036]\n",
      " [0.02026902]\n",
      " [0.02081185]\n",
      " [0.02050037]\n",
      " [0.02106624]\n",
      " [0.02013108]\n",
      " [0.02118674]\n",
      " [0.02077314]\n",
      " [0.02152601]\n",
      " [0.0215231 ]\n",
      " [0.02063298]\n",
      " [0.02116694]\n",
      " [0.02148172]\n",
      " [0.02096544]\n",
      " [0.0189408 ]\n",
      " [0.02087615]\n",
      " [0.02060076]\n",
      " [0.02099173]\n",
      " [0.01971615]\n",
      " [0.02121308]\n",
      " [0.02028627]\n",
      " [0.01863153]\n",
      " [0.02148587]\n",
      " [0.02150512]\n",
      " [0.01953746]\n",
      " [0.01995688]\n",
      " [0.02151626]\n",
      " [0.02134461]\n",
      " [0.02117896]\n",
      " [0.02116465]\n",
      " [0.02147512]\n",
      " [0.02144863]\n",
      " [0.02150021]\n",
      " [0.02145085]\n",
      " [0.02062525]\n",
      " [0.02127868]\n",
      " [0.0212774 ]\n",
      " [0.0212095 ]\n",
      " [0.02141288]\n",
      " [0.02151022]\n",
      " [0.02130677]\n",
      " [0.02135625]\n",
      " [0.0213294 ]\n",
      " [0.02118888]\n",
      " [0.0209713 ]\n",
      " [0.02142269]\n",
      " [0.02125792]\n",
      " [0.02115366]\n",
      " [0.02138046]\n",
      " [0.02117637]\n",
      " [0.02136706]\n",
      " [0.02154188]\n",
      " [0.02067051]\n",
      " [0.02139403]\n",
      " [0.02152267]\n",
      " [0.02153244]\n",
      " [0.02152039]\n",
      " [0.02074325]\n",
      " [0.02068494]\n",
      " [0.02106881]\n",
      " [0.02105623]\n",
      " [0.02086188]\n",
      " [0.02036409]\n",
      " [0.0212672 ]\n",
      " [0.02112575]\n",
      " [0.02064088]\n",
      " [0.02093814]\n",
      " [0.02085137]\n",
      " [0.02064601]\n",
      " [0.02125153]\n",
      " [0.02151394]\n",
      " [0.02100747]\n",
      " [0.0212206 ]\n",
      " [0.0209036 ]\n",
      " [0.02110373]\n",
      " [0.02107327]\n",
      " [0.02154132]\n",
      " [0.02087041]\n",
      " [0.0210124 ]\n",
      " [0.0211981 ]\n",
      " [0.02139159]\n",
      " [0.02138232]\n",
      " [0.02143457]\n",
      " [0.01973658]\n",
      " [0.02102662]\n",
      " [0.02111215]\n",
      " [0.02146748]\n",
      " [0.02118537]\n",
      " [0.02091535]\n",
      " [0.02099007]\n",
      " [0.0211905 ]\n",
      " [0.02091535]\n",
      " [0.0203557 ]\n",
      " [0.02093126]\n",
      " [0.02040081]\n",
      " [0.02010113]\n",
      " [0.02142506]\n",
      " [0.0207321 ]\n",
      " [0.02089413]\n",
      " [0.02079599]\n",
      " [0.02141125]\n",
      " [0.02139476]\n",
      " [0.02136475]\n",
      " [0.02139189]\n",
      " [0.02120714]\n",
      " [0.02145867]\n",
      " [0.02081902]\n",
      " [0.02111532]\n",
      " [0.02141671]\n",
      " [0.02088632]\n",
      " [0.02123251]\n",
      " [0.02087899]\n",
      " [0.02151546]\n",
      " [0.02150004]\n",
      " [0.02139983]\n",
      " [0.0213751 ]\n",
      " [0.02139565]\n",
      " [0.02057259]\n",
      " [0.0201731 ]\n",
      " [0.02083792]\n",
      " [0.02043391]\n",
      " [0.02092104]\n",
      " [0.02105551]\n",
      " [0.02094779]\n",
      " [0.02096681]\n",
      " [0.0198393 ]\n",
      " [0.020017  ]\n",
      " [0.01942308]\n",
      " [0.01965866]\n",
      " [0.02086928]\n",
      " [0.02113003]\n",
      " [0.02110184]\n",
      " [0.02118124]\n",
      " [0.02124964]\n",
      " [0.0215579 ]\n",
      " [0.02158615]\n",
      " [0.0214735 ]\n",
      " [0.02152932]\n",
      " [0.02093325]\n",
      " [0.02108008]\n",
      " [0.02088659]\n",
      " [0.02104935]\n",
      " [0.02112586]\n",
      " [0.020865  ]\n",
      " [0.02151831]\n",
      " [0.02151022]\n",
      " [0.0214198 ]\n",
      " [0.0214636 ]\n",
      " [0.02148387]\n",
      " [0.02153648]\n",
      " [0.02044475]\n",
      " [0.02112831]\n",
      " [0.02122189]\n",
      " [0.0212193 ]\n",
      " [0.0210737 ]\n",
      " [0.02106857]\n",
      " [0.02105675]\n",
      " [0.02128898]\n",
      " [0.02126895]\n",
      " [0.0195621 ]\n",
      " [0.02108529]\n",
      " [0.02131821]\n",
      " [0.02124926]\n",
      " [0.02155554]\n",
      " [0.0212082 ]\n",
      " [0.02135556]\n",
      " [0.0212828 ]\n",
      " [0.02134699]\n",
      " [0.02153175]\n",
      " [0.02144357]\n",
      " [0.02136251]\n",
      " [0.02145061]\n",
      " [0.0214876 ]\n",
      " [0.02151966]\n",
      " [0.02091817]\n",
      " [0.02134596]\n",
      " [0.02114928]\n",
      " [0.02136903]\n",
      " [0.02084791]\n",
      " [0.02144365]\n",
      " [0.02137433]\n",
      " [0.02153717]\n",
      " [0.02155261]\n",
      " [0.02130141]\n",
      " [0.02116412]\n",
      " [0.0215165 ]\n",
      " [0.02100613]\n",
      " [0.0213121 ]\n",
      " [0.02118407]\n",
      " [0.02078396]\n",
      " [0.02124191]\n",
      " [0.02097828]\n",
      " [0.02134958]\n",
      " [0.01955277]\n",
      " [0.02144904]\n",
      " [0.02124102]\n",
      " [0.01991444]\n",
      " [0.02113027]\n",
      " [0.02117972]\n",
      " [0.0212185 ]\n",
      " [0.02140405]\n",
      " [0.02019146]\n",
      " [0.02071357]\n",
      " [0.02127373]\n",
      " [0.02114468]\n",
      " [0.02076029]\n",
      " [0.02129297]\n",
      " [0.02090906]\n",
      " [0.02114296]\n",
      " [0.0214251 ]\n",
      " [0.02119365]\n",
      " [0.02064696]\n",
      " [0.02153003]\n",
      " [0.02106026]\n",
      " [0.0212691 ]\n",
      " [0.02113659]\n",
      " [0.0213595 ]\n",
      " [0.02013317]\n",
      " [0.02155456]\n",
      " [0.02097554]\n",
      " [0.02114111]\n",
      " [0.02109889]\n",
      " [0.02080411]\n",
      " [0.02125856]\n",
      " [0.02119796]\n",
      " [0.02140835]\n",
      " [0.02136258]\n",
      " [0.02148888]\n",
      " [0.02147854]\n",
      " [0.02120753]\n",
      " [0.02082407]\n",
      " [0.02123764]\n",
      " [0.02131492]\n",
      " [0.02127162]\n",
      " [0.02136623]\n",
      " [0.02124911]\n",
      " [0.0215123 ]\n",
      " [0.02134231]\n",
      " [0.02071053]\n",
      " [0.02032214]\n",
      " [0.02152057]\n",
      " [0.02152404]\n",
      " [0.02134022]\n",
      " [0.02142702]\n",
      " [0.02134793]\n",
      " [0.02143667]\n",
      " [0.02120066]\n",
      " [0.02093583]\n",
      " [0.01755421]\n",
      " [0.02118124]\n",
      " [0.02151598]\n",
      " [0.02089582]\n",
      " [0.01947175]\n",
      " [0.02035112]\n",
      " [0.02085571]\n",
      " [0.01868159]\n",
      " [0.02125333]\n",
      " [0.02113395]\n",
      " [0.02138055]\n",
      " [0.02119739]\n",
      " [0.0214591 ]\n",
      " [0.02132453]\n",
      " [0.02148846]\n",
      " [0.02121351]\n",
      " [0.02148636]\n",
      " [0.02079877]\n",
      " [0.02101286]\n",
      " [0.02109784]\n",
      " [0.02056731]\n",
      " [0.02130586]\n",
      " [0.02124623]\n",
      " [0.02047221]\n",
      " [0.02137185]\n",
      " [0.02099257]\n",
      " [0.02142218]\n",
      " [0.02045643]\n",
      " [0.02100546]\n",
      " [0.02022645]\n",
      " [0.02065786]\n",
      " [0.02086049]\n",
      " [0.01981846]\n",
      " [0.02044925]\n",
      " [0.01936758]\n",
      " [0.02136873]\n",
      " [0.02095114]\n",
      " [0.02147119]\n",
      " [0.01991288]\n",
      " [0.02135619]\n",
      " [0.0209585 ]\n",
      " [0.02154121]\n",
      " [0.02121719]\n",
      " [0.02098405]\n",
      " [0.02155183]\n",
      " [0.02149515]\n",
      " [0.02089884]\n",
      " [0.021334  ]\n",
      " [0.02096151]\n",
      " [0.02137039]\n",
      " [0.02151244]\n",
      " [0.02121608]\n",
      " [0.0213195 ]\n",
      " [0.02144274]\n",
      " [0.02026486]\n",
      " [0.02129115]\n",
      " [0.02148149]\n",
      " [0.02119214]\n",
      " [0.02146024]\n",
      " [0.02140942]\n",
      " [0.02134519]\n",
      " [0.021224  ]\n",
      " [0.02081657]\n",
      " [0.02133678]\n",
      " [0.02134466]\n",
      " [0.02130996]\n",
      " [0.02143264]\n",
      " [0.02132931]\n",
      " [0.0213735 ]\n",
      " [0.02100223]\n",
      " [0.02120915]\n",
      " [0.02137183]\n",
      " [0.02087557]\n",
      " [0.021123  ]\n",
      " [0.0212971 ]\n",
      " [0.01995889]\n",
      " [0.02124409]\n",
      " [0.02135667]\n",
      " [0.02106876]\n",
      " [0.02144036]\n",
      " [0.02042211]\n",
      " [0.02119126]\n",
      " [0.02109676]\n",
      " [0.02121959]\n",
      " [0.0205879 ]\n",
      " [0.02060473]\n",
      " [0.02146822]\n",
      " [0.02088491]\n",
      " [0.02131967]\n",
      " [0.0206568 ]\n",
      " [0.01953617]\n",
      " [0.01947216]\n",
      " [0.02110281]\n",
      " [0.02018237]\n",
      " [0.02146546]\n",
      " [0.02103502]\n",
      " [0.02152351]\n",
      " [0.02140227]\n",
      " [0.0215105 ]\n",
      " [0.02123375]\n",
      " [0.02109106]\n",
      " [0.02082549]\n",
      " [0.02128839]\n",
      " [0.02146931]\n",
      " [0.02155216]\n",
      " [0.02142219]\n",
      " [0.0213437 ]\n",
      " [0.02152249]\n",
      " [0.0215476 ]\n",
      " [0.02124447]\n",
      " [0.02127246]\n",
      " [0.02088507]\n",
      " [0.02110619]\n",
      " [0.02151761]\n",
      " [0.02081612]\n",
      " [0.02056327]\n",
      " [0.02090205]\n",
      " [0.02049178]\n",
      " [0.0215275 ]\n",
      " [0.02152411]\n",
      " [0.02155549]\n",
      " [0.02145856]\n",
      " [0.02100576]\n",
      " [0.02156792]\n",
      " [0.02142831]\n",
      " [0.02147405]\n",
      " [0.02142703]\n",
      " [0.02037055]\n",
      " [0.02129985]\n",
      " [0.02133374]\n",
      " [0.02144186]\n",
      " [0.02118139]\n",
      " [0.02089822]\n",
      " [0.0214963 ]\n",
      " [0.02070585]\n",
      " [0.02144469]\n",
      " [0.0202089 ]\n",
      " [0.02133054]\n",
      " [0.02124845]\n",
      " [0.02122399]\n",
      " [0.02145677]\n",
      " [0.0212343 ]\n",
      " [0.02145965]\n",
      " [0.02064016]\n",
      " [0.01674576]\n",
      " [0.02153543]\n",
      " [0.02123636]\n",
      " [0.0210557 ]\n",
      " [0.02120418]\n",
      " [0.02070325]\n",
      " [0.02079942]\n",
      " [0.02135758]\n",
      " [0.02112724]\n",
      " [0.02143127]\n",
      " [0.02146168]\n",
      " [0.01965625]\n",
      " [0.02095595]\n",
      " [0.02096238]\n",
      " [0.02155327]\n",
      " [0.02154551]\n",
      " [0.02103582]\n",
      " [0.02153306]\n",
      " [0.02038052]\n",
      " [0.02116258]\n",
      " [0.02090742]\n",
      " [0.02155603]\n",
      " [0.02121415]\n",
      " [0.02145896]\n",
      " [0.02121701]]\n",
      "Model Accuracy: 0.6731\n"
     ]
    },
    {
     "data": {
      "image/png": "[encoded data removed]",
      "text/plain": [
       "<Figure size 600x500 with 2 Axes>"
      ]
     },
     "metadata": {},
     "output_type": "display_data"
    },
    {
     "name": "stdout",
     "output_type": "stream",
     "text": [
      "\n",
      "Classification Report:\n",
      "              precision    recall  f1-score   support\n",
      "\n",
      "        fake       0.67      1.00      0.80       350\n",
      "        real       0.00      0.00      0.00       170\n",
      "\n",
      "    accuracy                           0.67       520\n",
      "   macro avg       0.34      0.50      0.40       520\n",
      "weighted avg       0.45      0.67      0.54       520\n",
      "\n"
     ]
    },
    {
     "name": "stderr",
     "output_type": "stream",
     "text": [
      "/home/jangminoh_2/miniconda3/envs/ml-ops/lib/python3.12/site-packages/sklearn/metrics/_classification.py:1565: UndefinedMetricWarning: Precision is ill-defined and being set to 0.0 in labels with no predicted samples. Use `zero_division` parameter to control this behavior.\n",
      "  _warn_prf(average, modifier, f\"{metric.capitalize()} is\", len(result))\n",
      "/home/jangminoh_2/miniconda3/envs/ml-ops/lib/python3.12/site-packages/sklearn/metrics/_classification.py:1565: UndefinedMetricWarning: Precision is ill-defined and being set to 0.0 in labels with no predicted samples. Use `zero_division` parameter to control this behavior.\n",
      "  _warn_prf(average, modifier, f\"{metric.capitalize()} is\", len(result))\n",
      "/home/jangminoh_2/miniconda3/envs/ml-ops/lib/python3.12/site-packages/sklearn/metrics/_classification.py:1565: UndefinedMetricWarning: Precision is ill-defined and being set to 0.0 in labels with no predicted samples. Use `zero_division` parameter to control this behavior.\n",
      "  _warn_prf(average, modifier, f\"{metric.capitalize()} is\", len(result))\n"
     ]
    }
   ],
   "source": [
    "# 이미지 크기 및 배치 사이즈 설정\n",
    "img_size = (528, 528)  # EfficientNetB6의 입력 크기에 맞게 변경 가능\n",
    "batch_size = 4\n",
    "\n",
    "# 데이터 로더 설정 (test용)\n",
    "datagen = ImageDataGenerator(rescale=1./255)\n",
    "\n",
    "\n",
    "test_generator = datagen.flow_from_directory(\n",
    "    dataset_dir,\n",
    "    target_size=img_size,\n",
    "    batch_size=batch_size,\n",
    "    class_mode=\"binary\",  # 이진 분류 (fake vs real)\n",
    "    shuffle= False\n",
    ")\n",
    "\n",
    "# 실제 라벨 가져오기\n",
    "y_true = test_generator.classes  # 0: fake, 1: real\n",
    "#print(y_true)\n",
    "class_names = list(test_generator.class_indices.keys())\n",
    "#print(class_names) #['fake', 'real']\n",
    "#print(test_generator.class_indices)\n",
    "\n",
    "# 예측 수행\n",
    "y_pred_probs = model.predict(test_generator, steps=test_generator.samples // batch_size)  # 확률값 출력\n",
    "print(y_pred_probs)\n",
    "y_pred = (y_pred_probs > 0.5).astype(int).flatten()  # 0.5 이상이면 1(real), 아니면 0(fake)\n",
    "\n",
    "# 정확도 출력\n",
    "accuracy = np.mean(y_pred == y_true)\n",
    "print(f\"Model Accuracy: {accuracy:.4f}\")\n",
    "\n",
    "# Confusion Matrix 생성\n",
    "cm = confusion_matrix(y_true, y_pred)\n",
    "\n",
    "# Confusion Matrix 시각화\n",
    "plt.figure(figsize=(6, 5))\n",
    "sns.heatmap(cm, annot=True, fmt=\"d\", cmap=\"Blues\", xticklabels=class_names, yticklabels=class_names)\n",
    "plt.xlabel(\"Predicted Label\")\n",
    "plt.ylabel(\"True Label\")\n",
    "plt.title(\"Confusion Matrix\")\n",
    "plt.show()\n",
    "\n",
    "# 분류 보고서 출력\n",
    "print(\"\\nClassification Report:\")\n",
    "print(classification_report(y_true, y_pred, target_names=class_names))\n"
   ]
  },
  {
   "cell_type": "markdown",
   "metadata": {
    "id": "S_HjFuO9AP1P"
   },
   "source": [
    "## 저장된 모델 로딩 -> 자체이미지 데이터셋에서 학습 후 이진분류"
   ]
  },
  {
   "cell_type": "code",
   "execution_count": 37,
   "metadata": {
    "id": "c5YN7zdVBFKd"
   },
   "outputs": [],
   "source": [
    "import os\n",
    "import shutil\n",
    "import random\n",
    "from sklearn.model_selection import train_test_split\n",
    "\n",
    "import tensorflow as tf\n",
    "from tensorflow.keras.models import load_model\n",
    "from tensorflow.keras.optimizers import Adam\n",
    "from tensorflow.keras.callbacks import EarlyStopping\n",
    "from tensorflow.keras import layers, regularizers\n",
    "import matplotlib.pyplot as plt\n",
    "\n",
    "import numpy as np\n",
    "from sklearn.metrics import confusion_matrix\n",
    "import seaborn as sns"
   ]
  },
  {
   "cell_type": "code",
   "execution_count": 39,
   "metadata": {
    "id": "GTyUnWEK7nhe"
   },
   "outputs": [],
   "source": [
    "train_dir = \"data/generated_dataset/train_new\"\n",
    "test_dir = \"data/generated_dataset/test_new\""
   ]
  },
  {
   "cell_type": "markdown",
   "metadata": {},
   "source": [
    "### train, test 데이터셋 준비"
   ]
  },
  {
   "cell_type": "code",
   "execution_count": 40,
   "metadata": {
    "colab": {
     "base_uri": "https://localhost:8080/"
    },
    "executionInfo": {
     "elapsed": 58737,
     "status": "ok",
     "timestamp": 1739766445105,
     "user": {
      "displayName": "이하은",
      "userId": "06607701604719915973"
     },
     "user_tz": -540
    },
    "id": "hbJE2mnv2zNs",
    "outputId": "3cf3760f-6547-4aef-8d3e-d204a5c509d3"
   },
   "outputs": [
    {
     "name": "stdout",
     "output_type": "stream",
     "text": [
      "데이터셋 분할 완료!\n"
     ]
    }
   ],
   "source": [
    "# 데이터 경로 (가정: images 폴더에 fake와 real 이미지들이 있음)\n",
    "dataset_dir = \"data/generated_dataset\"\n",
    "fake_dir = os.path.join(dataset_dir, \"fake\")\n",
    "real_dir = os.path.join(dataset_dir, \"real\")\n",
    "\n",
    "# Train-Test Split을 위한 디렉토리 생성\n",
    "train_dir = \"data/generated_dataset/train_new\"\n",
    "test_dir = \"data/generated_dataset/test_new\"\n",
    "os.makedirs(train_dir, exist_ok=True)\n",
    "os.makedirs(test_dir, exist_ok=True)\n",
    "\n",
    "train_fake_dir = os.path.join(train_dir, \"fake\")\n",
    "test_fake_dir = os.path.join(test_dir, \"fake\")\n",
    "train_real_dir = os.path.join(train_dir, \"real\")\n",
    "test_real_dir = os.path.join(test_dir, \"real\")\n",
    "\n",
    "os.makedirs(train_fake_dir, exist_ok=True)\n",
    "os.makedirs(test_fake_dir, exist_ok=True)\n",
    "os.makedirs(train_real_dir, exist_ok=True)\n",
    "os.makedirs(test_real_dir, exist_ok=True)\n",
    "\n",
    "# 이미지 파일 리스트 가져오기\n",
    "fake_files = [os.path.join(fake_dir, f) for f in os.listdir(fake_dir) if os.path.isfile(os.path.join(fake_dir, f))]\n",
    "real_files = [os.path.join(real_dir, f) for f in os.listdir(real_dir) if os.path.isfile(os.path.join(real_dir, f))]\n",
    "\n",
    "# train-test split (80% train, 20% test)\n",
    "fake_train, fake_test = train_test_split(fake_files, test_size=0.2, random_state=42)\n",
    "real_train, real_test = train_test_split(real_files, test_size=0.2, random_state=42)\n",
    "\n",
    "# 파일 이동\n",
    "for file in fake_train:\n",
    "    shutil.copy(file, train_fake_dir)\n",
    "for file in fake_test:\n",
    "    shutil.copy(file, test_fake_dir)\n",
    "for file in real_train:\n",
    "    shutil.copy(file, train_real_dir)\n",
    "for file in real_test:\n",
    "    shutil.copy(file, test_real_dir)\n",
    "\n",
    "print(\"데이터셋 분할 완료!\")\n"
   ]
  },
  {
   "cell_type": "code",
   "execution_count": 41,
   "metadata": {
    "id": "c2qeVUPd5fiI"
   },
   "outputs": [],
   "source": [
    "from PIL import Image\n",
    "import os\n",
    "\n",
    "MAX_PIXELS = 178956970  # 허용되는 최대 픽셀 크기 (Pillow 기본값)\n",
    "VALID_EXTENSIONS = {\".jpg\", \".jpeg\", \".png\"}\n",
    "def remove_invalid_images(directory):\n",
    "    for root, _, files in os.walk(directory):\n",
    "        for file in files:\n",
    "            file_path = os.path.join(root, file)\n",
    "            if not any(file.lower().endswith(ext) for ext in VALID_EXTENSIONS):\n",
    "                continue  # 유효한 확장자가 아니면 건너뜀\n",
    "            try:\n",
    "                img = Image.open(file_path)\n",
    "                img.verify()  # 손상 여부 확인\n",
    "                if img.size[0] * img.size[1] > MAX_PIXELS:\n",
    "                    print(f\"Removing oversized image: {file_path}\")\n",
    "                    os.remove(file_path)\n",
    "            except (IOError, SyntaxError, Image.DecompressionBombError):\n",
    "                print(f\"Removing invalid image: {file_path}\")\n",
    "                os.remove(file_path)\n",
    "\n",
    "remove_invalid_images(train_dir)\n",
    "remove_invalid_images(test_dir)"
   ]
  },
  {
   "cell_type": "code",
   "execution_count": 42,
   "metadata": {
    "colab": {
     "base_uri": "https://localhost:8080/"
    },
    "executionInfo": {
     "elapsed": 278,
     "status": "ok",
     "timestamp": 1739769130520,
     "user": {
      "displayName": "이하은",
      "userId": "06607701604719915973"
     },
     "user_tz": -540
    },
    "id": "ZEJ80mM-Jguv",
    "outputId": "588e7ea9-21e2-419e-b782-8c44273275e6"
   },
   "outputs": [
    {
     "name": "stdout",
     "output_type": "stream",
     "text": [
      "280 140 70 35\n",
      "Fake: 350, Real: 175\n"
     ]
    }
   ],
   "source": [
    "import os\n",
    "\n",
    "train_fake_dir = os.path.join(train_dir, \"fake\")\n",
    "train_real_dir = os.path.join(train_dir, \"real\")\n",
    "test_fake_dir = os.path.join(test_dir, \"fake\")\n",
    "test_real_dir = os.path.join(test_dir, \"real\")\n",
    "\n",
    "train_fake_count = len(os.listdir(train_fake_dir)) if os.path.exists(train_fake_dir) else 0\n",
    "train_real_count = len(os.listdir(train_real_dir)) if os.path.exists(train_real_dir) else 0\n",
    "test_fake_count = len(os.listdir(test_fake_dir)) if os.path.exists(test_fake_dir) else 0\n",
    "test_real_count = len(os.listdir(test_real_dir)) if os.path.exists(test_real_dir) else 0\n",
    "\n",
    "print(train_fake_count,train_real_count,test_fake_count,test_real_count )\n",
    "print(f\"Fake: {train_fake_count + test_fake_count}, Real: {train_real_count + test_real_count}\")\n"
   ]
  },
  {
   "cell_type": "markdown",
   "metadata": {},
   "source": [
    "### 학습"
   ]
  },
  {
   "cell_type": "code",
   "execution_count": 43,
   "metadata": {
    "colab": {
     "base_uri": "https://localhost:8080/"
    },
    "executionInfo": {
     "elapsed": 1316,
     "status": "ok",
     "timestamp": 1739768778725,
     "user": {
      "displayName": "이하은",
      "userId": "06607701604719915973"
     },
     "user_tz": -540
    },
    "id": "pdUAoptDSazp",
    "outputId": "48d93bac-4821-4dc1-d011-e8bcd24acf9a"
   },
   "outputs": [
    {
     "name": "stderr",
     "output_type": "stream",
     "text": [
      "WARNING:absl:Compiled the loaded model, but the compiled metrics have yet to be built. `model.compile_metrics` will be empty until you train or evaluate the model.\n"
     ]
    }
   ],
   "source": [
    "#저장된 EfficientNetB6 모델 로드\n",
    "model_path = \"model/model_v3.h5\"\n",
    "model = load_model(model_path)"
   ]
  },
  {
   "cell_type": "markdown",
   "metadata": {
    "id": "bH396jDqOtaV"
   },
   "source": []
  },
  {
   "cell_type": "code",
   "execution_count": 44,
   "metadata": {
    "id": "DVbTwxcMzyS_"
   },
   "outputs": [],
   "source": [
    "#하이퍼파라미터 설정\n",
    "CONFIGURATION = {\n",
    "    \"BATCH_SIZE\": 4,\n",
    "    \"IM_SIZE\": 528,  # EfficientNetB6의 입력 크기\n",
    "    \"LEARNING_RATE\": 1e-4,\n",
    "    \"N_EPOCHS\": 5,\n",
    "    \"DROPOUT_RATE\": 0.2,\n",
    "    \"REGULARIZATION_RATE\": 0.001,\n",
    "    \"N_DENSE_1\": 1024,\n",
    "    \"CLASS_NAMES\": [\"fake\", \"real\"]\n",
    "}\n",
    "\n",
    "n = 1\n",
    "for layer in model.layers[:-n]:\n",
    "    layer.trainable = False\n",
    "for layer in model.layers[-n:]:\n",
    "    layer.trainable = True"
   ]
  },
  {
   "cell_type": "code",
   "execution_count": 46,
   "metadata": {
    "colab": {
     "base_uri": "https://localhost:8080/",
     "height": 827
    },
    "executionInfo": {
     "elapsed": 223952,
     "status": "ok",
     "timestamp": 1739766780043,
     "user": {
      "displayName": "이하은",
      "userId": "06607701604719915973"
     },
     "user_tz": -540
    },
    "id": "cV4FGHa9vxLn",
    "outputId": "3b277583-c0f8-4648-ab88-70f8d4e31371"
   },
   "outputs": [
    {
     "name": "stdout",
     "output_type": "stream",
     "text": [
      "Found 415 images belonging to 2 classes.\n",
      "Found 105 images belonging to 2 classes.\n",
      "Epoch 1/5\n",
      "\u001b[1m104/104\u001b[0m \u001b[32m━━━━━━━━━━━━━━━━━━━━\u001b[0m\u001b[37m\u001b[0m \u001b[1m90s\u001b[0m 519ms/step - accuracy: 0.5630 - loss: 0.6904 - val_accuracy: 0.6667 - val_loss: 0.6712\n",
      "Epoch 2/5\n",
      "\u001b[1m104/104\u001b[0m \u001b[32m━━━━━━━━━━━━━━━━━━━━\u001b[0m\u001b[37m\u001b[0m \u001b[1m19s\u001b[0m 178ms/step - accuracy: 0.5132 - loss: 0.7032 - val_accuracy: 0.6667 - val_loss: 0.6660\n",
      "Epoch 3/5\n",
      "\u001b[1m104/104\u001b[0m \u001b[32m━━━━━━━━━━━━━━━━━━━━\u001b[0m\u001b[37m\u001b[0m \u001b[1m18s\u001b[0m 175ms/step - accuracy: 0.5862 - loss: 0.6741 - val_accuracy: 0.6667 - val_loss: 0.6611\n",
      "Epoch 4/5\n",
      "\u001b[1m104/104\u001b[0m \u001b[32m━━━━━━━━━━━━━━━━━━━━\u001b[0m\u001b[37m\u001b[0m \u001b[1m18s\u001b[0m 175ms/step - accuracy: 0.6440 - loss: 0.6676 - val_accuracy: 0.6667 - val_loss: 0.6582\n",
      "Epoch 5/5\n",
      "\u001b[1m104/104\u001b[0m \u001b[32m━━━━━━━━━━━━━━━━━━━━\u001b[0m\u001b[37m\u001b[0m \u001b[1m18s\u001b[0m 174ms/step - accuracy: 0.5711 - loss: 0.6904 - val_accuracy: 0.6667 - val_loss: 0.6547\n"
     ]
    },
    {
     "data": {
      "image/png": "[encoded data removed]",
      "text/plain": [
       "<Figure size 1000x600 with 1 Axes>"
      ]
     },
     "metadata": {},
     "output_type": "display_data"
    }
   ],
   "source": [
    "#데이터 증강 및 로드\n",
    "train_datagen = tf.keras.preprocessing.image.ImageDataGenerator(\n",
    "    rescale=1./255,\n",
    "    rotation_range=30,\n",
    "    width_shift_range=0.2,\n",
    "    height_shift_range=0.2,\n",
    "    shear_range=0.2,\n",
    "    zoom_range=0.2,\n",
    "    horizontal_flip=True,\n",
    "    fill_mode='nearest'\n",
    ")\n",
    "val_datagen = tf.keras.preprocessing.image.ImageDataGenerator(rescale=1./255)\n",
    "\n",
    "train_dataset = train_datagen.flow_from_directory(\n",
    "    train_dir,\n",
    "    target_size=(CONFIGURATION[\"IM_SIZE\"], CONFIGURATION[\"IM_SIZE\"]),\n",
    "    batch_size=CONFIGURATION[\"BATCH_SIZE\"],\n",
    "    class_mode='binary'\n",
    ")\n",
    "val_dataset = val_datagen.flow_from_directory(\n",
    "    test_dir,\n",
    "    target_size=(CONFIGURATION[\"IM_SIZE\"], CONFIGURATION[\"IM_SIZE\"]),\n",
    "    batch_size=CONFIGURATION[\"BATCH_SIZE\"],\n",
    "    class_mode='binary',\n",
    "    shuffle=False,\n",
    "    seed = 99\n",
    ")\n",
    "\n",
    "#모델 컴파일\n",
    "model.compile(optimizer=Adam(learning_rate=CONFIGURATION[\"LEARNING_RATE\"]),\n",
    "              loss='binary_crossentropy',\n",
    "              metrics=['accuracy'])\n",
    "\n",
    "#early_stopping = EarlyStopping(monitor='val_accuracy', patience=3, restore_best_weights=True)\n",
    "early_stopping = EarlyStopping(monitor='accuracy', patience=3, restore_best_weights=True)\n",
    "\n",
    "#모델 학습\n",
    "history = model.fit(\n",
    "    train_dataset,\n",
    "    validation_data=val_dataset,\n",
    "    epochs=CONFIGURATION[\"N_EPOCHS\"],\n",
    "    callbacks=[early_stopping],\n",
    "    verbose=1\n",
    ")\n",
    "\n",
    "#학습 과정 시각화\n",
    "plt.figure(figsize=(10, 6))\n",
    "plt.plot(history.history['loss'], label='Train Loss')\n",
    "plt.plot(history.history['val_loss'], label='Validation Loss')\n",
    "plt.title('Model Loss')\n",
    "plt.xlabel('Epochs')\n",
    "plt.ylabel('Loss')\n",
    "plt.legend()\n",
    "plt.show()"
   ]
  },
  {
   "cell_type": "code",
   "execution_count": null,
   "metadata": {
    "id": "b5jVtfYVYxMF"
   },
   "outputs": [],
   "source": [
    "#모델 저장}|\n",
    "model.save(\"/content/drive/MyDrive/Generative_AI/model/final_model_v1.keras\")"
   ]
  },
  {
   "cell_type": "code",
   "execution_count": null,
   "metadata": {
    "colab": {
     "base_uri": "https://localhost:8080/",
     "height": 391
    },
    "executionInfo": {
     "elapsed": 1841798,
     "status": "error",
     "timestamp": 1739768737551,
     "user": {
      "displayName": "이하은",
      "userId": "06607701604719915973"
     },
     "user_tz": -540
    },
    "id": "nISPcfzzpgs1",
    "outputId": "1e9f7b06-7fe4-496a-da21-8de78f1c6c63"
   },
   "outputs": [
    {
     "name": "stdout",
     "output_type": "stream",
     "text": [
      "\u001b[1m27/27\u001b[0m \u001b[32m━━━━━━━━━━━━━━━━━━━━\u001b[0m\u001b[37m\u001b[0m \u001b[1m2s\u001b[0m 50ms/step - accuracy: 0.9141 - loss: 0.5954\n",
      "Validation Accuracy: 66.67%\n"
     ]
    }
   ],
   "source": [
    "from sklearn.metrics import confusion_matrix\n",
    "import matplotlib.pyplot as plt\n",
    "import seaborn as sns\n",
    "import numpy as np\n",
    "\n",
    "# 모델 평가: Validation 데이터셋에 대한 정확도 계산\n",
    "val_loss, val_accuracy = model.evaluate(val_dataset)\n",
    "print(f\"Validation Accuracy: {val_accuracy * 100:.2f}%\")\n",
    "\n",
    "# 예측 및 실제 레이블 추출\n",
    "y_true = []\n",
    "y_pred = []\n",
    "\n",
    "# Validation 데이터셋에서 예측 수행\n",
    "for images, labels in val_dataset:\n",
    "    predictions = model.predict(images, verbose=0)  # 로그 출력 생략\n",
    "    y_true.extend(labels)  # 실제 레이블\n",
    "    y_pred.extend(np.round(predictions).flatten())  # 예측 레이블 (0 또는 1로 변환)\n",
    "\n",
    "# Confusion Matrix 계산\n",
    "cm = confusion_matrix(y_true, y_pred)\n",
    "\n",
    "# Confusion Matrix 시각화\n",
    "plt.figure(figsize=(6, 6))\n",
    "sns.heatmap(\n",
    "    cm,\n",
    "    annot=True,\n",
    "    fmt='d',\n",
    "    cmap='Blues',\n",
    "    xticklabels=CONFIGURATION[\"CLASS_NAMES\"],\n",
    "    yticklabels=CONFIGURATION[\"CLASS_NAMES\"],\n",
    ")\n",
    "plt.xlabel('Predicted')\n",
    "plt.ylabel('True')\n",
    "plt.title('Confusion Matrix')\n",
    "plt.show()\n",
    "\n",
    "# Confusion Matrix 출력\n",
    "print(\"Confusion Matrix:\")\n",
    "print(cm)\n"
   ]
  },
  {
   "cell_type": "code",
   "execution_count": null,
   "metadata": {
    "id": "MNNacRwEMBLV"
   },
   "outputs": [],
   "source": []
  }
 ],
 "metadata": {
  "accelerator": "GPU",
  "colab": {
   "gpuType": "T4",
   "provenance": [],
   "toc_visible": true
  },
  "kernelspec": {
   "display_name": "Python (ml-ops)",
   "language": "python",
   "name": "ml-ops"
  },
  "language_info": {
   "codemirror_mode": {
    "name": "ipython",
    "version": 3
   },
   "file_extension": ".py",
   "mimetype": "text/x-python",
   "name": "python",
   "nbconvert_exporter": "python",
   "pygments_lexer": "ipython3",
   "version": "3.12.9"
  }
 },
 "nbformat": 4,
 "nbformat_minor": 0
}
