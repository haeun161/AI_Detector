{
 "cells": [
  {
   "cell_type": "markdown",
   "metadata": {
    "id": "hgUeI-zlTHSj"
   },
   "source": []
  },
  {
   "cell_type": "markdown",
   "metadata": {
    "id": "R_VelDRqHGgn"
   },
   "source": [
    "## 필요한 라이브러리 install"
   ]
  },
  {
   "cell_type": "code",
   "execution_count": 1,
   "metadata": {
    "colab": {
     "base_uri": "https://localhost:8080/"
    },
    "executionInfo": {
     "elapsed": 117353,
     "status": "ok",
     "timestamp": 1739341520044,
     "user": {
      "displayName": "이하은",
      "userId": "06607701604719915973"
     },
     "user_tz": -540
    },
    "id": "V49o4HtsE9dw",
    "outputId": "70d5a609-a3cc-4b07-84ac-566bd68eca47"
   },
   "outputs": [
    {
     "name": "stdout",
     "output_type": "stream",
     "text": [
      "Requirement already satisfied: torch in /home/jangminoh_2/miniconda3/envs/ml-ops/lib/python3.12/site-packages (2.6.0)\n",
      "Requirement already satisfied: torchvision in /home/jangminoh_2/miniconda3/envs/ml-ops/lib/python3.12/site-packages (0.21.0)\n",
      "Requirement already satisfied: torchaudio in /home/jangminoh_2/miniconda3/envs/ml-ops/lib/python3.12/site-packages (2.6.0)\n",
      "Requirement already satisfied: tensorflow in /home/jangminoh_2/miniconda3/envs/ml-ops/lib/python3.12/site-packages (2.17.0)\n",
      "Requirement already satisfied: albumentations in /home/jangminoh_2/miniconda3/envs/ml-ops/lib/python3.12/site-packages (2.0.4)\n",
      "Requirement already satisfied: timm in /home/jangminoh_2/miniconda3/envs/ml-ops/lib/python3.12/site-packages (1.0.14)\n",
      "Requirement already satisfied: opencv-python in /home/jangminoh_2/miniconda3/envs/ml-ops/lib/python3.12/site-packages (4.11.0.86)\n",
      "Requirement already satisfied: matplotlib in /home/jangminoh_2/miniconda3/envs/ml-ops/lib/python3.12/site-packages (3.10.0)\n",
      "Requirement already satisfied: kagglehub in /home/jangminoh_2/miniconda3/envs/ml-ops/lib/python3.12/site-packages (0.3.9)\n",
      "Requirement already satisfied: pandas in /home/jangminoh_2/miniconda3/envs/ml-ops/lib/python3.12/site-packages (2.2.3)\n",
      "Requirement already satisfied: scikit-learn in /home/jangminoh_2/miniconda3/envs/ml-ops/lib/python3.12/site-packages (1.6.1)\n",
      "Requirement already satisfied: seaborn in /home/jangminoh_2/miniconda3/envs/ml-ops/lib/python3.12/site-packages (0.13.2)\n",
      "Requirement already satisfied: filelock in /home/jangminoh_2/miniconda3/envs/ml-ops/lib/python3.12/site-packages (from torch) (3.17.0)\n",
      "Requirement already satisfied: typing-extensions>=4.10.0 in /home/jangminoh_2/miniconda3/envs/ml-ops/lib/python3.12/site-packages (from torch) (4.12.2)\n",
      "Requirement already satisfied: networkx in /home/jangminoh_2/miniconda3/envs/ml-ops/lib/python3.12/site-packages (from torch) (3.4.2)\n",
      "Requirement already satisfied: jinja2 in /home/jangminoh_2/miniconda3/envs/ml-ops/lib/python3.12/site-packages (from torch) (3.1.5)\n",
      "Requirement already satisfied: fsspec in /home/jangminoh_2/miniconda3/envs/ml-ops/lib/python3.12/site-packages (from torch) (2025.2.0)\n",
      "Requirement already satisfied: nvidia-cuda-nvrtc-cu12==12.4.127 in /home/jangminoh_2/miniconda3/envs/ml-ops/lib/python3.12/site-packages (from torch) (12.4.127)\n",
      "Requirement already satisfied: nvidia-cuda-runtime-cu12==12.4.127 in /home/jangminoh_2/miniconda3/envs/ml-ops/lib/python3.12/site-packages (from torch) (12.4.127)\n",
      "Requirement already satisfied: nvidia-cuda-cupti-cu12==12.4.127 in /home/jangminoh_2/miniconda3/envs/ml-ops/lib/python3.12/site-packages (from torch) (12.4.127)\n",
      "Requirement already satisfied: nvidia-cudnn-cu12==9.1.0.70 in /home/jangminoh_2/miniconda3/envs/ml-ops/lib/python3.12/site-packages (from torch) (9.1.0.70)\n",
      "Requirement already satisfied: nvidia-cublas-cu12==12.4.5.8 in /home/jangminoh_2/miniconda3/envs/ml-ops/lib/python3.12/site-packages (from torch) (12.4.5.8)\n",
      "Requirement already satisfied: nvidia-cufft-cu12==11.2.1.3 in /home/jangminoh_2/miniconda3/envs/ml-ops/lib/python3.12/site-packages (from torch) (11.2.1.3)\n",
      "Requirement already satisfied: nvidia-curand-cu12==10.3.5.147 in /home/jangminoh_2/miniconda3/envs/ml-ops/lib/python3.12/site-packages (from torch) (10.3.5.147)\n",
      "Requirement already satisfied: nvidia-cusolver-cu12==11.6.1.9 in /home/jangminoh_2/miniconda3/envs/ml-ops/lib/python3.12/site-packages (from torch) (11.6.1.9)\n",
      "Requirement already satisfied: nvidia-cusparse-cu12==12.3.1.170 in /home/jangminoh_2/miniconda3/envs/ml-ops/lib/python3.12/site-packages (from torch) (12.3.1.170)\n",
      "Requirement already satisfied: nvidia-cusparselt-cu12==0.6.2 in /home/jangminoh_2/miniconda3/envs/ml-ops/lib/python3.12/site-packages (from torch) (0.6.2)\n",
      "Requirement already satisfied: nvidia-nccl-cu12==2.21.5 in /home/jangminoh_2/miniconda3/envs/ml-ops/lib/python3.12/site-packages (from torch) (2.21.5)\n",
      "Requirement already satisfied: nvidia-nvtx-cu12==12.4.127 in /home/jangminoh_2/miniconda3/envs/ml-ops/lib/python3.12/site-packages (from torch) (12.4.127)\n",
      "Requirement already satisfied: nvidia-nvjitlink-cu12==12.4.127 in /home/jangminoh_2/miniconda3/envs/ml-ops/lib/python3.12/site-packages (from torch) (12.4.127)\n",
      "Requirement already satisfied: triton==3.2.0 in /home/jangminoh_2/miniconda3/envs/ml-ops/lib/python3.12/site-packages (from torch) (3.2.0)\n",
      "Requirement already satisfied: setuptools in /home/jangminoh_2/miniconda3/envs/ml-ops/lib/python3.12/site-packages (from torch) (75.8.0)\n",
      "Requirement already satisfied: sympy==1.13.1 in /home/jangminoh_2/miniconda3/envs/ml-ops/lib/python3.12/site-packages (from torch) (1.13.1)\n",
      "Requirement already satisfied: mpmath<1.4,>=1.1.0 in /home/jangminoh_2/miniconda3/envs/ml-ops/lib/python3.12/site-packages (from sympy==1.13.1->torch) (1.3.0)\n",
      "Requirement already satisfied: numpy in /home/jangminoh_2/miniconda3/envs/ml-ops/lib/python3.12/site-packages (from torchvision) (1.26.4)\n",
      "Requirement already satisfied: pillow!=8.3.*,>=5.3.0 in /home/jangminoh_2/miniconda3/envs/ml-ops/lib/python3.12/site-packages (from torchvision) (11.1.0)\n",
      "Requirement already satisfied: absl-py>=1.0.0 in /home/jangminoh_2/miniconda3/envs/ml-ops/lib/python3.12/site-packages (from tensorflow) (2.1.0)\n",
      "Requirement already satisfied: astunparse>=1.6.0 in /home/jangminoh_2/miniconda3/envs/ml-ops/lib/python3.12/site-packages (from tensorflow) (1.6.3)\n",
      "Requirement already satisfied: flatbuffers>=24.3.25 in /home/jangminoh_2/miniconda3/envs/ml-ops/lib/python3.12/site-packages (from tensorflow) (25.2.10)\n",
      "Requirement already satisfied: gast!=0.5.0,!=0.5.1,!=0.5.2,>=0.2.1 in /home/jangminoh_2/miniconda3/envs/ml-ops/lib/python3.12/site-packages (from tensorflow) (0.6.0)\n",
      "Requirement already satisfied: google-pasta>=0.1.1 in /home/jangminoh_2/miniconda3/envs/ml-ops/lib/python3.12/site-packages (from tensorflow) (0.2.0)\n",
      "Requirement already satisfied: h5py>=3.10.0 in /home/jangminoh_2/miniconda3/envs/ml-ops/lib/python3.12/site-packages (from tensorflow) (3.13.0)\n",
      "Requirement already satisfied: libclang>=13.0.0 in /home/jangminoh_2/miniconda3/envs/ml-ops/lib/python3.12/site-packages (from tensorflow) (18.1.1)\n",
      "Requirement already satisfied: ml-dtypes<0.5.0,>=0.3.1 in /home/jangminoh_2/miniconda3/envs/ml-ops/lib/python3.12/site-packages (from tensorflow) (0.4.1)\n",
      "Requirement already satisfied: opt-einsum>=2.3.2 in /home/jangminoh_2/miniconda3/envs/ml-ops/lib/python3.12/site-packages (from tensorflow) (3.4.0)\n",
      "Requirement already satisfied: packaging in /home/jangminoh_2/miniconda3/envs/ml-ops/lib/python3.12/site-packages (from tensorflow) (24.2)\n",
      "Requirement already satisfied: protobuf!=4.21.0,!=4.21.1,!=4.21.2,!=4.21.3,!=4.21.4,!=4.21.5,<5.0.0dev,>=3.20.3 in /home/jangminoh_2/miniconda3/envs/ml-ops/lib/python3.12/site-packages (from tensorflow) (4.25.6)\n",
      "Requirement already satisfied: requests<3,>=2.21.0 in /home/jangminoh_2/miniconda3/envs/ml-ops/lib/python3.12/site-packages (from tensorflow) (2.32.3)\n",
      "Requirement already satisfied: six>=1.12.0 in /home/jangminoh_2/miniconda3/envs/ml-ops/lib/python3.12/site-packages (from tensorflow) (1.17.0)\n",
      "Requirement already satisfied: termcolor>=1.1.0 in /home/jangminoh_2/miniconda3/envs/ml-ops/lib/python3.12/site-packages (from tensorflow) (2.5.0)\n",
      "Requirement already satisfied: wrapt>=1.11.0 in /home/jangminoh_2/miniconda3/envs/ml-ops/lib/python3.12/site-packages (from tensorflow) (1.17.2)\n",
      "Requirement already satisfied: grpcio<2.0,>=1.24.3 in /home/jangminoh_2/miniconda3/envs/ml-ops/lib/python3.12/site-packages (from tensorflow) (1.70.0)\n",
      "Requirement already satisfied: tensorboard<2.18,>=2.17 in /home/jangminoh_2/miniconda3/envs/ml-ops/lib/python3.12/site-packages (from tensorflow) (2.17.1)\n",
      "Requirement already satisfied: keras>=3.2.0 in /home/jangminoh_2/miniconda3/envs/ml-ops/lib/python3.12/site-packages (from tensorflow) (3.8.0)\n",
      "Requirement already satisfied: scipy>=1.10.0 in /home/jangminoh_2/miniconda3/envs/ml-ops/lib/python3.12/site-packages (from albumentations) (1.15.2)\n",
      "Requirement already satisfied: PyYAML in /home/jangminoh_2/miniconda3/envs/ml-ops/lib/python3.12/site-packages (from albumentations) (6.0.2)\n",
      "Requirement already satisfied: pydantic>=2.9.2 in /home/jangminoh_2/miniconda3/envs/ml-ops/lib/python3.12/site-packages (from albumentations) (2.10.6)\n",
      "Requirement already satisfied: albucore==0.0.23 in /home/jangminoh_2/miniconda3/envs/ml-ops/lib/python3.12/site-packages (from albumentations) (0.0.23)\n",
      "Requirement already satisfied: opencv-python-headless>=4.9.0.80 in /home/jangminoh_2/miniconda3/envs/ml-ops/lib/python3.12/site-packages (from albumentations) (4.11.0.86)\n",
      "Requirement already satisfied: stringzilla>=3.10.4 in /home/jangminoh_2/miniconda3/envs/ml-ops/lib/python3.12/site-packages (from albucore==0.0.23->albumentations) (3.11.3)\n",
      "Requirement already satisfied: simsimd>=5.9.2 in /home/jangminoh_2/miniconda3/envs/ml-ops/lib/python3.12/site-packages (from albucore==0.0.23->albumentations) (6.2.1)\n",
      "Requirement already satisfied: huggingface_hub in /home/jangminoh_2/miniconda3/envs/ml-ops/lib/python3.12/site-packages (from timm) (0.29.1)\n",
      "Requirement already satisfied: safetensors in /home/jangminoh_2/miniconda3/envs/ml-ops/lib/python3.12/site-packages (from timm) (0.5.2)\n",
      "Requirement already satisfied: contourpy>=1.0.1 in /home/jangminoh_2/miniconda3/envs/ml-ops/lib/python3.12/site-packages (from matplotlib) (1.3.1)\n",
      "Requirement already satisfied: cycler>=0.10 in /home/jangminoh_2/miniconda3/envs/ml-ops/lib/python3.12/site-packages (from matplotlib) (0.12.1)\n",
      "Requirement already satisfied: fonttools>=4.22.0 in /home/jangminoh_2/miniconda3/envs/ml-ops/lib/python3.12/site-packages (from matplotlib) (4.56.0)\n",
      "Requirement already satisfied: kiwisolver>=1.3.1 in /home/jangminoh_2/miniconda3/envs/ml-ops/lib/python3.12/site-packages (from matplotlib) (1.4.8)\n",
      "Requirement already satisfied: pyparsing>=2.3.1 in /home/jangminoh_2/miniconda3/envs/ml-ops/lib/python3.12/site-packages (from matplotlib) (3.2.1)\n",
      "Requirement already satisfied: python-dateutil>=2.7 in /home/jangminoh_2/miniconda3/envs/ml-ops/lib/python3.12/site-packages (from matplotlib) (2.9.0.post0)\n",
      "Requirement already satisfied: tqdm in /home/jangminoh_2/miniconda3/envs/ml-ops/lib/python3.12/site-packages (from kagglehub) (4.67.1)\n",
      "Requirement already satisfied: pytz>=2020.1 in /home/jangminoh_2/miniconda3/envs/ml-ops/lib/python3.12/site-packages (from pandas) (2025.1)\n",
      "Requirement already satisfied: tzdata>=2022.7 in /home/jangminoh_2/miniconda3/envs/ml-ops/lib/python3.12/site-packages (from pandas) (2025.1)\n",
      "Requirement already satisfied: joblib>=1.2.0 in /home/jangminoh_2/miniconda3/envs/ml-ops/lib/python3.12/site-packages (from scikit-learn) (1.4.2)\n",
      "Requirement already satisfied: threadpoolctl>=3.1.0 in /home/jangminoh_2/miniconda3/envs/ml-ops/lib/python3.12/site-packages (from scikit-learn) (3.5.0)\n",
      "Requirement already satisfied: wheel<1.0,>=0.23.0 in /home/jangminoh_2/miniconda3/envs/ml-ops/lib/python3.12/site-packages (from astunparse>=1.6.0->tensorflow) (0.45.1)\n",
      "Requirement already satisfied: rich in /home/jangminoh_2/miniconda3/envs/ml-ops/lib/python3.12/site-packages (from keras>=3.2.0->tensorflow) (13.9.4)\n",
      "Requirement already satisfied: namex in /home/jangminoh_2/miniconda3/envs/ml-ops/lib/python3.12/site-packages (from keras>=3.2.0->tensorflow) (0.0.8)\n",
      "Requirement already satisfied: optree in /home/jangminoh_2/miniconda3/envs/ml-ops/lib/python3.12/site-packages (from keras>=3.2.0->tensorflow) (0.14.0)\n",
      "Requirement already satisfied: annotated-types>=0.6.0 in /home/jangminoh_2/miniconda3/envs/ml-ops/lib/python3.12/site-packages (from pydantic>=2.9.2->albumentations) (0.7.0)\n",
      "Requirement already satisfied: pydantic-core==2.27.2 in /home/jangminoh_2/miniconda3/envs/ml-ops/lib/python3.12/site-packages (from pydantic>=2.9.2->albumentations) (2.27.2)\n",
      "Requirement already satisfied: charset-normalizer<4,>=2 in /home/jangminoh_2/miniconda3/envs/ml-ops/lib/python3.12/site-packages (from requests<3,>=2.21.0->tensorflow) (3.4.1)\n",
      "Requirement already satisfied: idna<4,>=2.5 in /home/jangminoh_2/miniconda3/envs/ml-ops/lib/python3.12/site-packages (from requests<3,>=2.21.0->tensorflow) (3.10)\n",
      "Requirement already satisfied: urllib3<3,>=1.21.1 in /home/jangminoh_2/miniconda3/envs/ml-ops/lib/python3.12/site-packages (from requests<3,>=2.21.0->tensorflow) (2.3.0)\n",
      "Requirement already satisfied: certifi>=2017.4.17 in /home/jangminoh_2/miniconda3/envs/ml-ops/lib/python3.12/site-packages (from requests<3,>=2.21.0->tensorflow) (2025.1.31)\n",
      "Requirement already satisfied: markdown>=2.6.8 in /home/jangminoh_2/miniconda3/envs/ml-ops/lib/python3.12/site-packages (from tensorboard<2.18,>=2.17->tensorflow) (3.7)\n",
      "Requirement already satisfied: tensorboard-data-server<0.8.0,>=0.7.0 in /home/jangminoh_2/miniconda3/envs/ml-ops/lib/python3.12/site-packages (from tensorboard<2.18,>=2.17->tensorflow) (0.7.2)\n",
      "Requirement already satisfied: werkzeug>=1.0.1 in /home/jangminoh_2/miniconda3/envs/ml-ops/lib/python3.12/site-packages (from tensorboard<2.18,>=2.17->tensorflow) (3.1.3)\n",
      "Requirement already satisfied: MarkupSafe>=2.0 in /home/jangminoh_2/miniconda3/envs/ml-ops/lib/python3.12/site-packages (from jinja2->torch) (3.0.2)\n",
      "Requirement already satisfied: markdown-it-py>=2.2.0 in /home/jangminoh_2/miniconda3/envs/ml-ops/lib/python3.12/site-packages (from rich->keras>=3.2.0->tensorflow) (3.0.0)\n",
      "Requirement already satisfied: pygments<3.0.0,>=2.13.0 in /home/jangminoh_2/miniconda3/envs/ml-ops/lib/python3.12/site-packages (from rich->keras>=3.2.0->tensorflow) (2.19.1)\n",
      "Requirement already satisfied: mdurl~=0.1 in /home/jangminoh_2/miniconda3/envs/ml-ops/lib/python3.12/site-packages (from markdown-it-py>=2.2.0->rich->keras>=3.2.0->tensorflow) (0.1.2)\n"
     ]
    }
   ],
   "source": [
    "!pip install torch torchvision torchaudio tensorflow albumentations timm opencv-python matplotlib kagglehub pandas scikit-learn seaborn"
   ]
  },
  {
   "cell_type": "markdown",
   "metadata": {},
   "source": [
    "## GPU 환경 설정"
   ]
  },
  {
   "cell_type": "code",
   "execution_count": 1,
   "metadata": {},
   "outputs": [
    {
     "name": "stderr",
     "output_type": "stream",
     "text": [
      "2025-03-17 23:14:00.604902: E external/local_xla/xla/stream_executor/cuda/cuda_fft.cc:485] Unable to register cuFFT factory: Attempting to register factory for plugin cuFFT when one has already been registered\n",
      "2025-03-17 23:14:00.618220: E external/local_xla/xla/stream_executor/cuda/cuda_dnn.cc:8454] Unable to register cuDNN factory: Attempting to register factory for plugin cuDNN when one has already been registered\n",
      "2025-03-17 23:14:00.622299: E external/local_xla/xla/stream_executor/cuda/cuda_blas.cc:1452] Unable to register cuBLAS factory: Attempting to register factory for plugin cuBLAS when one has already been registered\n",
      "2025-03-17 23:14:00.633569: I tensorflow/core/platform/cpu_feature_guard.cc:210] This TensorFlow binary is optimized to use available CPU instructions in performance-critical operations.\n",
      "To enable the following instructions: AVX2 FMA, in other operations, rebuild TensorFlow with the appropriate compiler flags.\n",
      "2025-03-17 23:14:01.415381: W tensorflow/compiler/tf2tensorrt/utils/py_utils.cc:38] TF-TRT Warning: Could not find TensorRT\n"
     ]
    },
    {
     "name": "stdout",
     "output_type": "stream",
     "text": [
      "[LogicalDevice(name='/device:GPU:0', device_type='GPU')]\n"
     ]
    },
    {
     "name": "stderr",
     "output_type": "stream",
     "text": [
      "2025-03-17 23:14:02.852241: I tensorflow/core/common_runtime/gpu/gpu_device.cc:2021] Created device /job:localhost/replica:0/task:0/device:GPU:0 with 22288 MB memory:  -> device: 0, name: NVIDIA RTX A5000, pci bus id: 0000:01:00.0, compute capability: 8.6\n"
     ]
    }
   ],
   "source": [
    "import tensorflow as tf\n",
    "\n",
    "# GPU 0만 사용\n",
    "gpus = tf.config.experimental.list_physical_devices('GPU')\n",
    "if gpus:\n",
    "    try:\n",
    "        tf.config.experimental.set_visible_devices(gpus[0], 'GPU')  # GPU 0만 사용\n",
    "        tf.config.experimental.set_memory_growth(gpus[0], True)  # 메모리 동적 할당\n",
    "    except RuntimeError as e:\n",
    "        print(e)\n",
    "\n",
    "# TensorFlow에서 사용할 장치 확인\n",
    "print(tf.config.experimental.list_logical_devices('GPU'))\n"
   ]
  },
  {
   "cell_type": "markdown",
   "metadata": {
    "id": "po_0dOVbepaM"
   },
   "source": []
  },
  {
   "cell_type": "code",
   "execution_count": 2,
   "metadata": {},
   "outputs": [],
   "source": [
    "import os\n",
    "os.environ[\"CUDA_VISIBLE_DEVICES\"] = \"0\""
   ]
  },
  {
   "cell_type": "code",
   "execution_count": 3,
   "metadata": {},
   "outputs": [],
   "source": [
    "# import os\n",
    "# os.environ[\"CUDA_VISIBLE_DEVICES\"] = \"0\"\n",
    "# os.environ[\"CUDNN_PATH\"] = \"/usr/local/cuda\"\n",
    "# os.environ[\"LD_LIBRARY_PATH\"] = \"/usr/local/cuda/lib64\"\n",
    "\n",
    "# import tensorflow as tf\n",
    "# print(tf.sysconfig.get_build_info()[\"cudnn_version\"])  # 9.1.0 출력 확인"
   ]
  },
  {
   "cell_type": "code",
   "execution_count": 4,
   "metadata": {},
   "outputs": [
    {
     "name": "stdout",
     "output_type": "stream",
     "text": [
      "8\n"
     ]
    }
   ],
   "source": [
    "import tensorflow as tf\n",
    "print(tf.sysconfig.get_build_info()[\"cudnn_version\"])"
   ]
  },
  {
   "cell_type": "markdown",
   "metadata": {
    "id": "T4wWg1QfTHSy"
   },
   "source": [
    "## 데이터셋 합치기 + 불러오기"
   ]
  },
  {
   "cell_type": "code",
   "execution_count": 5,
   "metadata": {
    "id": "aMDjZ0oDTHSz"
   },
   "outputs": [],
   "source": [
    "# 캐글 데이터셋 다운로드 라이브러리\n",
    "import kagglehub"
   ]
  },
  {
   "cell_type": "code",
   "execution_count": 6,
   "metadata": {
    "colab": {
     "base_uri": "https://localhost:8080/"
    },
    "executionInfo": {
     "elapsed": 143792,
     "status": "ok",
     "timestamp": 1739368905302,
     "user": {
      "displayName": "이하은",
      "userId": "06607701604719915973"
     },
     "user_tz": -540
    },
    "id": "IcZQpm-PTHS2",
    "outputId": "94e36c19-117e-4d4b-ab06-c5b3c5aa5229"
   },
   "outputs": [
    {
     "name": "stdout",
     "output_type": "stream",
     "text": [
      "Warning: Looks like you're using an outdated `kagglehub` version (installed: 0.3.9), please consider upgrading to the latest version (0.3.10).\n",
      "Path to dataset files: /home/jangminoh_2/.cache/kagglehub/datasets/xhlulu/140k-real-and-fake-faces/versions/2\n"
     ]
    }
   ],
   "source": [
    "## face_data\n",
    "\n",
    "# Download latest version\n",
    "path1 = kagglehub.dataset_download(\"xhlulu/140k-real-and-fake-faces\")\n",
    "\n",
    "print(\"Path to dataset files:\", path1)"
   ]
  },
  {
   "cell_type": "code",
   "execution_count": 7,
   "metadata": {
    "colab": {
     "base_uri": "https://localhost:8080/"
    },
    "executionInfo": {
     "elapsed": 474402,
     "status": "ok",
     "timestamp": 1739369500288,
     "user": {
      "displayName": "이하은",
      "userId": "06607701604719915973"
     },
     "user_tz": -540
    },
    "id": "snRlT7_CTgZO",
    "outputId": "d9599dfb-93e0-416a-99ee-8ec3f34a5e6f"
   },
   "outputs": [
    {
     "name": "stdout",
     "output_type": "stream",
     "text": [
      "Warning: Looks like you're using an outdated `kagglehub` version (installed: 0.3.9), please consider upgrading to the latest version (0.3.10).\n",
      "Path to dataset files: /home/jangminoh_2/.cache/kagglehub/datasets/superpotato9/dalle-recognition-dataset/versions/7\n"
     ]
    }
   ],
   "source": [
    "## Dalle, midjourney\n",
    "\n",
    "path4 = kagglehub.dataset_download(\"superpotato9/dalle-recognition-dataset\")\n",
    "\n",
    "print(\"Path to dataset files:\", path4)"
   ]
  },
  {
   "cell_type": "code",
   "execution_count": 8,
   "metadata": {},
   "outputs": [
    {
     "name": "stdout",
     "output_type": "stream",
     "text": [
      "Warning: Looks like you're using an outdated `kagglehub` version (installed: 0.3.9), please consider upgrading to the latest version (0.3.10).\n",
      "Path to dataset files: /home/jangminoh_2/.cache/kagglehub/datasets/yangsangtai/tiny-genimage/versions/1\n"
     ]
    }
   ],
   "source": [
    "# Download latest version\n",
    "path = kagglehub.dataset_download(\"yangsangtai/tiny-genimage\")\n",
    "\n",
    "print(\"Path to dataset files:\", path)"
   ]
  },
  {
   "cell_type": "code",
   "execution_count": 9,
   "metadata": {},
   "outputs": [
    {
     "name": "stdout",
     "output_type": "stream",
     "text": [
      "Warning: Looks like you're using an outdated `kagglehub` version (installed: 0.3.9), please consider upgrading to the latest version (0.3.10).\n",
      "Path to dataset files: /home/jangminoh_2/.cache/kagglehub/datasets/tristanzhang32/ai-generated-images-vs-real-images/versions/2\n"
     ]
    }
   ],
   "source": [
    "# Download latest version\n",
    "path = kagglehub.dataset_download(\"tristanzhang32/ai-generated-images-vs-real-images\")\n",
    "\n",
    "print(\"Path to dataset files:\", path)"
   ]
  },
  {
   "cell_type": "markdown",
   "metadata": {
    "id": "ar4RozrRUIK0"
   },
   "source": [
    "### 데이터셋 경로 설정"
   ]
  },
  {
   "cell_type": "code",
   "execution_count": 10,
   "metadata": {
    "id": "WTYzHNy_THS7"
   },
   "outputs": [],
   "source": [
    "#face 데이터셋 경로 설정 #70,000 real & 70,000 fake\n",
    "face_train_directory = \"/home/jangminoh_2/.cache/kagglehub/datasets/xhlulu/140k-real-and-fake-faces/versions/2/real_vs_fake/real-vs-fake/train\"\n",
    "face_test_directory = \"/home/jangminoh_2/.cache/kagglehub/datasets/xhlulu/140k-real-and-fake-faces/versions/2/real_vs_fake/real-vs-fake/test\"\n",
    "\n",
    "## dalle + midjourney #17855 & Real Images: 3780\n",
    "fake_dir = \"/home/jangminoh_2/.cache/kagglehub/datasets/superpotato9/dalle-recognition-dataset/versions/7/fakeV2/fake-v2\"\n",
    "real_dir = \"/home/jangminoh_2/.cache/kagglehub/datasets/superpotato9/dalle-recognition-dataset/versions/7/real\"\n",
    "\n",
    "## gen : midjourney\n",
    "gen_mid = \"/home/jangminoh_2/.cache/kagglehub/datasets/yangsangtai/tiny-genimage/versions/1/imagenet_midjourney/train\"\n",
    "gen_sd = \"/home/jangminoh_2/.cache/kagglehub/datasets/yangsangtai/tiny-genimage/versions/1/imagenet_ai_0424_sdv5/train\"\n",
    "\n",
    "gen_mid_fake1 = \"/home/jangminoh_2/.cache/kagglehub/datasets/yangsangtai/tiny-genimage/versions/1/imagenet_ai_0424_sdv5/train/ai\"\n",
    "gen_mid_fake2 = \"/home/jangminoh_2/.cache/kagglehub/datasets/yangsangtai/tiny-genimage/versions/1/imagenet_ai_0424_sdv5/val/ai\"\n",
    "gen_mid_real= \"/home/jangminoh_2/.cache/kagglehub/datasets/yangsangtai/tiny-genimage/versions/1/imagenet_midjourney/train/nature\"\n",
    "\n",
    "# ## gen : stable diffusion\n",
    "# gen_sd_fake = \"/home/jangminoh_2/.cache/kagglehub/datasets/yangsangtai/tiny-genimage/versions/1/imagenet_ai_0424_sdv5/train/ai\"\n",
    "# gen_sd_real= \"/home/jangminoh_2/.cache/kagglehub/datasets/yangsangtai/tiny-genimage/versions/1/imagenet_ai_0424_sdv5/train/nature\"\n",
    "\n",
    "# stable diffusion, dalle, midjourney\n",
    "new_fake = \"/home/jangminoh_2/.cache/kagglehub/datasets/tristanzhang32/ai-generated-images-vs-real-images/versions/2/train/fake\"\n",
    "new_real = \"/home/jangminoh_2/.cache/kagglehub/datasets/tristanzhang32/ai-generated-images-vs-real-images/versions/2/train/real\"\n",
    "\n",
    "new_fake2 = \"/home/jangminoh_2/.cache/kagglehub/datasets/tristanzhang32/ai-generated-images-vs-real-images/versions/2/test/fake\"\n",
    "new_real2 = \"/home/jangminoh_2/.cache/kagglehub/datasets/tristanzhang32/ai-generated-images-vs-real-images/versions/2/test/real\""
   ]
  },
  {
   "cell_type": "code",
   "execution_count": 11,
   "metadata": {
    "colab": {
     "base_uri": "https://localhost:8080/"
    },
    "executionInfo": {
     "elapsed": 385,
     "status": "ok",
     "timestamp": 1739369500666,
     "user": {
      "displayName": "이하은",
      "userId": "06607701604719915973"
     },
     "user_tz": -540
    },
    "id": "J9b8kMjDbX-H",
    "outputId": "38050d33-a6a2-4187-fbaf-27d3739f09fd"
   },
   "outputs": [
    {
     "name": "stdout",
     "output_type": "stream",
     "text": [
      "Checking directory structure for: /home/jangminoh_2/.cache/kagglehub/datasets/xhlulu/140k-real-and-fake-faces/versions/2/real_vs_fake/real-vs-fake/train\n",
      "  /home/jangminoh_2/.cache/kagglehub/datasets/xhlulu/140k-real-and-fake-faces/versions/2/real_vs_fake/real-vs-fake/train/fake exists as a directory\n",
      "  /home/jangminoh_2/.cache/kagglehub/datasets/xhlulu/140k-real-and-fake-faces/versions/2/real_vs_fake/real-vs-fake/train/real exists as a directory\n",
      "\n",
      "\n",
      "Checking directory structure for: /home/jangminoh_2/.cache/kagglehub/datasets/xhlulu/140k-real-and-fake-faces/versions/2/real_vs_fake/real-vs-fake/test\n",
      "  /home/jangminoh_2/.cache/kagglehub/datasets/xhlulu/140k-real-and-fake-faces/versions/2/real_vs_fake/real-vs-fake/test/fake exists as a directory\n",
      "  /home/jangminoh_2/.cache/kagglehub/datasets/xhlulu/140k-real-and-fake-faces/versions/2/real_vs_fake/real-vs-fake/test/real exists as a directory\n",
      "\n",
      "\n",
      "Checking directory structure for: /home/jangminoh_2/.cache/kagglehub/datasets/superpotato9/dalle-recognition-dataset/versions/7/fakeV2/fake-v2\n",
      "\n",
      "\n",
      "Checking directory structure for: /home/jangminoh_2/.cache/kagglehub/datasets/superpotato9/dalle-recognition-dataset/versions/7/real\n",
      "\n",
      "\n",
      "Checking directory structure for: /home/jangminoh_2/.cache/kagglehub/datasets/yangsangtai/tiny-genimage/versions/1/imagenet_midjourney/train\n",
      "  /home/jangminoh_2/.cache/kagglehub/datasets/yangsangtai/tiny-genimage/versions/1/imagenet_midjourney/train/ai exists as a directory\n",
      "  /home/jangminoh_2/.cache/kagglehub/datasets/yangsangtai/tiny-genimage/versions/1/imagenet_midjourney/train/nature exists as a directory\n",
      "\n",
      "\n",
      "Checking directory structure for: /home/jangminoh_2/.cache/kagglehub/datasets/tristanzhang32/ai-generated-images-vs-real-images/versions/2/train/fake\n",
      "\n",
      "\n",
      "Checking directory structure for: /home/jangminoh_2/.cache/kagglehub/datasets/tristanzhang32/ai-generated-images-vs-real-images/versions/2/train/real\n",
      "\n",
      "\n",
      "Checking directory structure for: /home/jangminoh_2/.cache/kagglehub/datasets/tristanzhang32/ai-generated-images-vs-real-images/versions/2/test/fake\n",
      "\n",
      "\n",
      "Checking directory structure for: /home/jangminoh_2/.cache/kagglehub/datasets/tristanzhang32/ai-generated-images-vs-real-images/versions/2/test/real\n",
      "\n",
      "\n"
     ]
    }
   ],
   "source": [
    "import os\n",
    "# 디렉토리 리스트로 구성\n",
    "directories = [\n",
    "    face_train_directory,\n",
    "    face_test_directory,\n",
    "    fake_dir,\n",
    "    real_dir,\n",
    "    gen_mid,\n",
    "    new_fake,\n",
    "    new_real,\n",
    "    new_fake2,\n",
    "    new_real2       \n",
    "]\n",
    "\n",
    "# 각 디렉토리에서 real과 fake 폴더의 구조 출력\n",
    "for directory in directories:\n",
    "    print(f\"Checking directory structure for: {directory}\")\n",
    "\n",
    "    if os.path.exists(directory):\n",
    "        for subdir in os.listdir(directory):\n",
    "            subdir_path = os.path.join(directory, subdir)\n",
    "            if os.path.isdir(subdir_path):\n",
    "                print(f\"  {subdir_path} exists as a directory\")\n",
    "    else:\n",
    "        print(f\"  {directory} does not exist\")\n",
    "    print(\"\\n\")"
   ]
  },
  {
   "cell_type": "code",
   "execution_count": 12,
   "metadata": {},
   "outputs": [
    {
     "data": {
      "text/html": [
       "<div>\n",
       "<style scoped>\n",
       "    .dataframe tbody tr th:only-of-type {\n",
       "        vertical-align: middle;\n",
       "    }\n",
       "\n",
       "    .dataframe tbody tr th {\n",
       "        vertical-align: top;\n",
       "    }\n",
       "\n",
       "    .dataframe thead th {\n",
       "        text-align: right;\n",
       "    }\n",
       "</style>\n",
       "<table border=\"1\" class=\"dataframe\">\n",
       "  <thead>\n",
       "    <tr style=\"text-align: right;\">\n",
       "      <th></th>\n",
       "      <th>Directory</th>\n",
       "      <th>Image Count</th>\n",
       "    </tr>\n",
       "  </thead>\n",
       "  <tbody>\n",
       "    <tr>\n",
       "      <th>0</th>\n",
       "      <td>GAN_FaceData_train/fake</td>\n",
       "      <td>50000</td>\n",
       "    </tr>\n",
       "    <tr>\n",
       "      <th>1</th>\n",
       "      <td>GAN_FaceData_train/real</td>\n",
       "      <td>50000</td>\n",
       "    </tr>\n",
       "    <tr>\n",
       "      <th>2</th>\n",
       "      <td>GAN_FaceData_test/fake</td>\n",
       "      <td>10000</td>\n",
       "    </tr>\n",
       "    <tr>\n",
       "      <th>3</th>\n",
       "      <td>GAN_FaceData_test/real</td>\n",
       "      <td>10000</td>\n",
       "    </tr>\n",
       "    <tr>\n",
       "      <th>4</th>\n",
       "      <td>Midjourney&amp;Dalle/fake</td>\n",
       "      <td>17855</td>\n",
       "    </tr>\n",
       "    <tr>\n",
       "      <th>5</th>\n",
       "      <td>Midjourney&amp;Dalle/real</td>\n",
       "      <td>3780</td>\n",
       "    </tr>\n",
       "    <tr>\n",
       "      <th>6</th>\n",
       "      <td>gen_dataset/midjourney/real</td>\n",
       "      <td>2000</td>\n",
       "    </tr>\n",
       "    <tr>\n",
       "      <th>7</th>\n",
       "      <td>gen_dataset/midjourney/fake</td>\n",
       "      <td>500</td>\n",
       "    </tr>\n",
       "    <tr>\n",
       "      <th>8</th>\n",
       "      <td>new/real1</td>\n",
       "      <td>24000</td>\n",
       "    </tr>\n",
       "    <tr>\n",
       "      <th>9</th>\n",
       "      <td>mew/fake1</td>\n",
       "      <td>24000</td>\n",
       "    </tr>\n",
       "    <tr>\n",
       "      <th>10</th>\n",
       "      <td>new/real2</td>\n",
       "      <td>6000</td>\n",
       "    </tr>\n",
       "    <tr>\n",
       "      <th>11</th>\n",
       "      <td>mew/fake2</td>\n",
       "      <td>6000</td>\n",
       "    </tr>\n",
       "  </tbody>\n",
       "</table>\n",
       "</div>"
      ],
      "text/plain": [
       "                      Directory  Image Count\n",
       "0       GAN_FaceData_train/fake        50000\n",
       "1       GAN_FaceData_train/real        50000\n",
       "2        GAN_FaceData_test/fake        10000\n",
       "3        GAN_FaceData_test/real        10000\n",
       "4         Midjourney&Dalle/fake        17855\n",
       "5         Midjourney&Dalle/real         3780\n",
       "6   gen_dataset/midjourney/real         2000\n",
       "7   gen_dataset/midjourney/fake          500\n",
       "8                     new/real1        24000\n",
       "9                     mew/fake1        24000\n",
       "10                    new/real2         6000\n",
       "11                    mew/fake2         6000"
      ]
     },
     "metadata": {},
     "output_type": "display_data"
    }
   ],
   "source": [
    "import os\n",
    "import pandas as pd\n",
    "from IPython.display import display\n",
    "\n",
    "# ✅ 이미지 확장자 목록\n",
    "image_extensions = (\".jpg\", \".jpeg\", \".png\", \".bmp\", \".tiff\", \".webp\", \".gif\")\n",
    "\n",
    "# ✅ 디렉토리 매핑 (fake/real 추가)\n",
    "directories_with_labels = {\n",
    "    \"GAN_FaceData_train/fake\": f\"{face_train_directory}/fake\",\n",
    "    \"GAN_FaceData_train/real\": f\"{face_train_directory}/real\",\n",
    "    \"GAN_FaceData_test/fake\": f\"{face_test_directory}/fake\",\n",
    "    \"GAN_FaceData_test/real\": f\"{face_test_directory}/real\",\n",
    "    \"Midjourney&Dalle/fake\":fake_dir,\n",
    "    \"Midjourney&Dalle/real\":real_dir,\n",
    "    \n",
    "    ## 추가한 새로운 데이터\n",
    "    \"gen_dataset/midjourney/real\":gen_mid_real,\n",
    "    \"gen_dataset/midjourney/fake\": gen_mid_fake1,\n",
    "    \"gen_dataset/midjourney/fake\": gen_mid_fake2,\n",
    "    \"new/real1\": new_real,\n",
    "    \"mew/fake1\": new_fake,\n",
    "    \"new/real2\": new_real2,\n",
    "    \"mew/fake2\": new_fake2,              \n",
    "}\n",
    "\n",
    "# ✅ 각 디렉토리 내 이미지 개수 확인\n",
    "image_counts = {}\n",
    "\n",
    "for label, directory in directories_with_labels.items():\n",
    "    if os.path.exists(directory) and os.path.isdir(directory):\n",
    "        image_counts[label] = sum(\n",
    "            1 for f in os.listdir(directory) if f.lower().endswith(image_extensions)\n",
    "        )\n",
    "    else:\n",
    "        image_counts[label] = \"Directory not found\"\n",
    "\n",
    "# ✅ 결과 출력\n",
    "df = pd.DataFrame(list(image_counts.items()), columns=[\"Directory\", \"Image Count\"])\n",
    "\n",
    "# Jupyter Notebook에서 보기 좋게 출력\n",
    "display(df)\n"
   ]
  },
  {
   "cell_type": "markdown",
   "metadata": {
    "id": "uWr2RT0ZVAIM"
   },
   "source": [
    "### 샘플링"
   ]
  },
  {
   "cell_type": "code",
   "execution_count": null,
   "metadata": {
    "colab": {
     "background_save": true,
     "base_uri": "https://localhost:8080/"
    },
    "id": "pKhrEY9oDNPx",
    "outputId": "fb77c030-b20a-48c6-d1a7-d37e006336c0"
   },
   "outputs": [
    {
     "name": "stdout",
     "output_type": "stream",
     "text": [
      "📊 전체 Fake 데이터 개수: 11000\n",
      "📊 전체 Real 데이터 개수: 11000\n",
      "\n",
      "📊 최종 데이터셋 크기:\n",
      "  🔹 Train - Fake: 8800, Real: 8800\n",
      "  🔹 Test - Fake: 2200, Real: 2200\n",
      "\n",
      "✅ 데이터셋 준비가 완료되었습니다!\n"
     ]
    }
   ],
   "source": [
    "import os\n",
    "import shutil\n",
    "import random\n",
    "from sklearn.model_selection import train_test_split\n",
    "\n",
    "# 저장 디렉토리 설정\n",
    "output_directory = \"data/mixed_Dataset2.1\"\n",
    "train_dir = os.path.join(output_directory, \"train\")\n",
    "test_dir = os.path.join(output_directory, \"test\")\n",
    "os.makedirs(train_dir, exist_ok=True)\n",
    "os.makedirs(test_dir, exist_ok=True)\n",
    "\n",
    "def sample_n_files(directory, n):\n",
    "    \"\"\"디렉토리에서 n개 파일을 랜덤 샘플링\"\"\"\n",
    "    if not os.path.exists(directory) or not os.path.isdir(directory):\n",
    "        print(f\"❌ {directory} 경로가 존재하지 않음!\")\n",
    "        return []\n",
    "    \n",
    "    files = os.listdir(directory)\n",
    "    if len(files) < n:\n",
    "        print(f\"⚠️ {directory}: 데이터 부족 ({len(files)}/{n}) → 모든 파일 사용\")\n",
    "        return [os.path.join(directory, f) for f in files]\n",
    "    \n",
    "    return [os.path.join(directory, f) for f in random.sample(files, n)]\n",
    "\n",
    "def copy_files(files, target_dir):\n",
    "    \"\"\"파일 복사\"\"\"\n",
    "    os.makedirs(target_dir, exist_ok=True)\n",
    "    for file in files:\n",
    "        destination = os.path.join(target_dir, os.path.basename(file))\n",
    "        try:\n",
    "            shutil.copy(file, destination)\n",
    "        except Exception as e:\n",
    "            print(f\"❌ Error copying {file}: {e}\")\n",
    "\n",
    "# 데이터셋 샘플링\n",
    "fake_files = []\n",
    "real_files = []\n",
    "\n",
    "# face 데이터셋\n",
    "fake_files.extend(sample_n_files(os.path.join(face_train_directory, \"fake\"), 500))\n",
    "real_files.extend(sample_n_files(os.path.join(face_train_directory, \"real\"), 500))\n",
    "\n",
    "# dalle + midjourney 데이터셋\n",
    "fake_files.extend(sample_n_files(fake_dir, 3200))\n",
    "real_files.extend(sample_n_files(real_dir, 3700))\n",
    "\n",
    "# gen 데이터셋: midjourney\n",
    "fake_files.extend(sample_n_files(gen_mid_fake1, 2000))\n",
    "fake_files.extend(sample_n_files(gen_mid_fake1, 500))\n",
    "real_files.extend(sample_n_files(gen_mid_real, 2000))\n",
    "\n",
    "# new\n",
    "fake_files.extend(sample_n_files(new_fake, 24000))\n",
    "real_files.extend(sample_n_files(new_real, 24000))\n",
    "fake_files.extend(sample_n_files(new_fake, 6000))\n",
    "real_files.extend(sample_n_files(new_real, 6000))\n",
    "# Train-Test Split (8:2)\n",
    "print(f\"📊 전체 Fake 데이터 개수: {len(fake_files)}\")\n",
    "print(f\"📊 전체 Real 데이터 개수: {len(real_files)}\")\n",
    "\n",
    "fake_train, fake_test = train_test_split(fake_files, test_size=0.2, random_state=42)\n",
    "real_train, real_test = train_test_split(real_files, test_size=0.2, random_state=42)\n",
    "\n",
    "# 데이터 저장\n",
    "copy_files(fake_train, os.path.join(train_dir, \"fake\"))\n",
    "copy_files(real_train, os.path.join(train_dir, \"real\"))\n",
    "copy_files(fake_test, os.path.join(test_dir, \"fake\"))\n",
    "copy_files(real_test, os.path.join(test_dir, \"real\"))\n",
    "\n",
    "print(f\"\\n📊 최종 데이터셋 크기:\")\n",
    "print(f\"  🔹 Train - Fake: {len(fake_train)}, Real: {len(real_train)}\")\n",
    "print(f\"  🔹 Test - Fake: {len(fake_test)}, Real: {len(real_test)}\")\n",
    "print(\"\\n✅ 데이터셋 준비가 완료되었습니다!\")\n"
   ]
  },
  {
   "cell_type": "markdown",
   "metadata": {
    "id": "Q1RwILWwSZPz"
   },
   "source": [
    "## EfficientNetb6로 데이터셋에 대해 detection(이진분류)태스크 수행"
   ]
  },
  {
   "cell_type": "markdown",
   "metadata": {
    "id": "gjpMRwYakhBI"
   },
   "source": [
    "### 데이터셋 준비"
   ]
  },
  {
   "cell_type": "code",
   "execution_count": 9,
   "metadata": {
    "executionInfo": {
     "elapsed": 18,
     "status": "ok",
     "timestamp": 1740143009762,
     "user": {
      "displayName": "이하은",
      "userId": "06607701604719915973"
     },
     "user_tz": -540
    },
    "id": "f-kSKQgjfjbX"
   },
   "outputs": [],
   "source": [
    "train_dir = \"data/mixed_Dataset2.1/train\"\n",
    "test_dir = \"data/mixed_Dataset2.1/test\""
   ]
  },
  {
   "cell_type": "code",
   "execution_count": 10,
   "metadata": {
    "colab": {
     "base_uri": "https://localhost:8080/"
    },
    "executionInfo": {
     "elapsed": 43862,
     "status": "ok",
     "timestamp": 1740143054096,
     "user": {
      "displayName": "이하은",
      "userId": "06607701604719915973"
     },
     "user_tz": -540
    },
    "id": "MZfLpfcm3bAg",
    "outputId": "734caaf4-37b2-479a-b843-f36e4b926548"
   },
   "outputs": [
    {
     "name": "stdout",
     "output_type": "stream",
     "text": [
      "Train Fake: 8275\n",
      "Train Real: 8676\n",
      "Test Fake: 2161\n",
      "Test Real: 2193\n"
     ]
    }
   ],
   "source": [
    "import os\n",
    "\n",
    "train_fake_dir = os.path.join(train_dir, \"fake\")\n",
    "train_real_dir = os.path.join(train_dir, \"real\")\n",
    "test_fake_dir = os.path.join(test_dir, \"fake\")\n",
    "test_real_dir = os.path.join(test_dir, \"real\")\n",
    "\n",
    "# 파일 개수 세기\n",
    "train_fake_count = len(os.listdir(train_fake_dir))\n",
    "train_real_count = len(os.listdir(train_real_dir))\n",
    "test_fake_count = len(os.listdir(test_fake_dir))\n",
    "test_real_count = len(os.listdir(test_real_dir))\n",
    "\n",
    "# 출력\n",
    "print(f\"Train Fake: {train_fake_count}\")\n",
    "print(f\"Train Real: {train_real_count}\")\n",
    "print(f\"Test Fake: {test_fake_count}\")\n",
    "print(f\"Test Real: {test_real_count}\")"
   ]
  },
  {
   "cell_type": "code",
   "execution_count": 11,
   "metadata": {
    "executionInfo": {
     "elapsed": 10,
     "status": "ok",
     "timestamp": 1740143054125,
     "user": {
      "displayName": "이하은",
      "userId": "06607701604719915973"
     },
     "user_tz": -540
    },
    "id": "BMaKs4jHkaQW"
   },
   "outputs": [],
   "source": [
    "# from PIL import Image\n",
    "# import os\n",
    "\n",
    "# MAX_PIXELS = 178956970  # 허용되는 최대 픽셀 크기 (Pillow 기본값)\n",
    "# VALID_EXTENSIONS = {\".jpg\", \".jpeg\", \".png\"}\n",
    "# def remove_invalid_images(directory):\n",
    "#     for root, _, files in os.walk(directory):\n",
    "#         for file in files:\n",
    "#             file_path = os.path.join(root, file)\n",
    "#             if not any(file.lower().endswith(ext) for ext in VALID_EXTENSIONS):\n",
    "#                 continue  # 유효한 확장자가 아니면 건너뜀\n",
    "#             try:\n",
    "#                 img = Image.open(file_path)\n",
    "#                 img.verify()  # 손상 여부 확인\n",
    "#                 if img.size[0] * img.size[1] > MAX_PIXELS:\n",
    "#                     print(f\"Removing oversized image: {file_path}\")\n",
    "#                     os.remove(file_path)\n",
    "#             except (IOError, SyntaxError, Image.DecompressionBombError):\n",
    "#                 print(f\"Removing invalid image: {file_path}\")\n",
    "#                 os.remove(file_path)\n",
    "\n",
    "# remove_invalid_images(train_dir)\n",
    "# remove_invalid_images(test_dir)"
   ]
  },
  {
   "cell_type": "code",
   "execution_count": 12,
   "metadata": {},
   "outputs": [],
   "source": [
    "# import os\n",
    "# import numpy as np\n",
    "# from tensorflow.keras.preprocessing.image import load_img, img_to_array\n",
    "# from PIL import Image\n",
    "\n",
    "# def safe_load_image(image_path):\n",
    "#     \"\"\"이미지를 로드하고 손상된 경우 삭제\"\"\"\n",
    "#     try:\n",
    "#         img = Image.open(image_path)\n",
    "#         img.verify()  # 손상 여부 확인\n",
    "#         img = load_img(image_path)  # Keras 방식으로 다시 로드\n",
    "#         return img_to_array(img)  # NumPy 배열로 변환\n",
    "#     except (OSError, IOError, Image.DecompressionBombError) as e:\n",
    "#         print(f\"Invalid image removed: {image_path} ({e})\")\n",
    "#         os.remove(image_path)  # 손상된 이미지 삭제\n",
    "#         return None  # 무효 이미지\n",
    "\n",
    "# def clean_directory(directory):\n",
    "#     \"\"\"디렉토리 내 모든 이미지를 검사하고 손상된 파일 제거\"\"\"\n",
    "#     for root, _, files in os.walk(directory):\n",
    "#         for file in files:\n",
    "#             file_path = os.path.join(root, file)\n",
    "#             if safe_load_image(file_path) is None:\n",
    "#                 continue  # 손상된 이미지는 자동 삭제됨\n",
    "\n",
    "# # 이미지 폴더 정리\n",
    "# clean_directory(train_dir)\n",
    "# clean_directory(test_dir)\n"
   ]
  },
  {
   "cell_type": "markdown",
   "metadata": {},
   "source": [
    "### 학습 시작"
   ]
  },
  {
   "cell_type": "code",
   "execution_count": 13,
   "metadata": {
    "executionInfo": {
     "elapsed": 50,
     "status": "ok",
     "timestamp": 1740144791035,
     "user": {
      "displayName": "이하은",
      "userId": "06607701604719915973"
     },
     "user_tz": -540
    },
    "id": "qatkA2kUTHS-"
   },
   "outputs": [],
   "source": [
    "#필수 라이브러리 임포트\n",
    "import tensorflow as tf\n",
    "from tensorflow.keras import layers, models,regularizers\n",
    "from tensorflow.keras.applications import EfficientNetB6\n",
    "from tensorflow.keras.optimizers import Adam\n",
    "from tensorflow.keras.losses import BinaryCrossentropy\n",
    "import matplotlib.pyplot as plt\n",
    "from tensorflow.keras.callbacks import EarlyStopping, ReduceLROnPlateau\n",
    "from tensorflow.keras.applications.efficientnet import preprocess_input\n",
    "from tensorflow.keras.preprocessing.image import img_to_array, load_img"
   ]
  },
  {
   "cell_type": "code",
   "execution_count": 14,
   "metadata": {
    "executionInfo": {
     "elapsed": 21,
     "status": "aborted",
     "timestamp": 1740145208328,
     "user": {
      "displayName": "이하은",
      "userId": "06607701604719915973"
     },
     "user_tz": -540
    },
    "id": "HzID_wGO6tHy"
   },
   "outputs": [],
   "source": [
    "# CONFIGURATION 설정\n",
    "CONFIGURATION = {\n",
    "    \"BATCH_SIZE\": 16,\n",
    "    \"IM_SIZE\": 528,\n",
    "    \"LEARNING_RATE\": 5e-4,\n",
    "    \"N_EPOCHS\": 20,\n",
    "    \"DROPOUT_RATE\": 0.3, #일반적으로 0.2~0.5\n",
    "    \"REGULARIZATION_RATE\": 0.005,\n",
    "    \"N_DENSE_1\": 1024,\n",
    "    \"NUM_CLASSES\": 2,\n",
    "    \"CLASS_NAMES\": ['fake', 'real']\n",
    "}"
   ]
  },
  {
   "cell_type": "code",
   "execution_count": 15,
   "metadata": {},
   "outputs": [],
   "source": [
    "## Layer 개수\n",
    "n = 20 #20~25"
   ]
  },
  {
   "cell_type": "code",
   "execution_count": 16,
   "metadata": {
    "executionInfo": {
     "elapsed": 4,
     "status": "ok",
     "timestamp": 1740144818459,
     "user": {
      "displayName": "이하은",
      "userId": "06607701604719915973"
     },
     "user_tz": -540
    },
    "id": "ueNtbe-Xf9Hw"
   },
   "outputs": [],
   "source": [
    "#EfficientNetB0,B6 모델 구성\n",
    "input_shape = (CONFIGURATION[\"IM_SIZE\"], CONFIGURATION[\"IM_SIZE\"], 3)\n",
    "\n",
    "# EfficientNetB6 모델 불러오기\n",
    "base_model = tf.keras.applications.EfficientNetB6(\n",
    "    weights='imagenet',\n",
    "    include_top=False,\n",
    "    input_shape=input_shape\n",
    ")\n",
    "\n",
    "# EfficientNet의 마지막 n개 레이어만 학습 가능하도록 설정\n",
    "for layer in base_model.layers[:-n]:  # 마지막 N개 레이어만 학습 가능\n",
    "    layer.trainable = False\n",
    "for layer in base_model.layers[-n:]:\n",
    "    layer.trainable = True\n",
    "    \n",
    "#Sequential 모델 정의 및 추가 계층 설정\n",
    "model = models.Sequential([\n",
    "    base_model,\n",
    "    layers.GlobalAveragePooling2D(),\n",
    "    layers.Dropout(CONFIGURATION[\"DROPOUT_RATE\"]),\n",
    "    layers.Dense(CONFIGURATION[\"N_DENSE_1\"], activation=\"relu\",\n",
    "                 kernel_regularizer=regularizers.l2(CONFIGURATION[\"REGULARIZATION_RATE\"])),\n",
    "    layers.Dropout(CONFIGURATION[\"DROPOUT_RATE\"]),\n",
    "    layers.Dense(1, activation=\"sigmoid\")  #이진 분류\n",
    "])\n",
    "\n",
    "\n",
    "#모델 컴파일 (binary_crossentropy 사용)\n",
    "loss_function = 'binary_crossentropy'\n",
    "model.compile(optimizer=Adam(learning_rate=CONFIGURATION[\"LEARNING_RATE\"]),\n",
    "              loss=loss_function,\n",
    "              metrics=['accuracy'])\n"
   ]
  },
  {
   "cell_type": "code",
   "execution_count": 17,
   "metadata": {},
   "outputs": [
    {
     "name": "stdout",
     "output_type": "stream",
     "text": [
      "Found 16951 images belonging to 2 classes.\n",
      "Found 4354 images belonging to 2 classes.\n"
     ]
    }
   ],
   "source": [
    "\n",
    "#데이터 증강을 위한 ImageDataGenerator 사용\n",
    "train_datagen = tf.keras.preprocessing.image.ImageDataGenerator(\n",
    "    preprocessing_function=tf.keras.applications.efficientnet.preprocess_input,  # EfficientNet용 전처리\n",
    "    # width_shift_range=0.2,\n",
    "    # height_shift_range=0.2,\n",
    "    # shear_range=0.2,\n",
    "    # zoom_range=0.1,\n",
    "    # fill_mode='reflect',\n",
    "    # rotation_range=30\n",
    ")\n",
    "\n",
    "val_datagen = tf.keras.preprocessing.image.ImageDataGenerator(\n",
    "    preprocessing_function=tf.keras.applications.efficientnet.preprocess_input  # EfficientNet용 전처리\n",
    ")\n",
    "\n",
    "#학습 데이터 로드 및 전처리\n",
    "#train_dataset\n",
    "train_dataset = train_datagen.flow_from_directory(\n",
    "    train_dir,  # 학습 데이터가 있는 디렉토리\n",
    "    class_mode='binary',  # 이진 분류 (fake vs real)\n",
    "    color_mode='rgb',\n",
    "    batch_size=CONFIGURATION[\"BATCH_SIZE\"],\n",
    "    target_size=(CONFIGURATION[\"IM_SIZE\"], CONFIGURATION[\"IM_SIZE\"]),\n",
    "    shuffle=True\n",
    ")\n",
    "\n",
    "#val_dataset\n",
    "val_dataset = val_datagen.flow_from_directory(\n",
    "    test_dir,  # 검증 데이터가 있는 디렉토리\n",
    "    class_mode='binary',  # 이진 분류 (fake vs real)\n",
    "    color_mode='rgb',\n",
    "    batch_size=1,  # 검증에서는 배치 크기를 1로 설정\n",
    "    target_size=(CONFIGURATION[\"IM_SIZE\"], CONFIGURATION[\"IM_SIZE\"]),\n",
    "    shuffle=False,  # 검증 데이터셋에서는 shuffle=False\n",
    "    seed=99  # 동일한 검증 데이터를 항상 사용할 수 있도록 시드 설정\n",
    ")"
   ]
  },
  {
   "cell_type": "markdown",
   "metadata": {
    "id": "ZeFaVCyhSop7"
   },
   "source": [
    "### 모델 저장"
   ]
  },
  {
   "cell_type": "code",
   "execution_count": null,
   "metadata": {
    "colab": {
     "base_uri": "https://localhost:8080/",
     "height": 408
    },
    "executionInfo": {
     "elapsed": 256359,
     "status": "error",
     "timestamp": 1740145208323,
     "user": {
      "displayName": "이하은",
      "userId": "06607701604719915973"
     },
     "user_tz": -540
    },
    "id": "OQqzo7zrvxQi",
    "outputId": "5247b4db-019d-467a-cd45-01554e6bf7d2"
   },
   "outputs": [
    {
     "name": "stderr",
     "output_type": "stream",
     "text": [
      "/home/jangminoh_2/miniconda3/envs/ml-ops/lib/python3.12/site-packages/keras/src/trainers/data_adapters/py_dataset_adapter.py:121: UserWarning: Your `PyDataset` class should call `super().__init__(**kwargs)` in its constructor. `**kwargs` can include `workers`, `use_multiprocessing`, `max_queue_size`. Do not pass these arguments to `fit()`, as they will be ignored.\n",
      "  self._warn_if_super_not_called()\n"
     ]
    },
    {
     "name": "stdout",
     "output_type": "stream",
     "text": [
      "Epoch 1/20\n"
     ]
    },
    {
     "name": "stderr",
     "output_type": "stream",
     "text": [
      "WARNING: All log messages before absl::InitializeLog() is called are written to STDERR\n",
      "I0000 00:00:1741850045.602588  525230 service.cc:146] XLA service 0x7c1b580015e0 initialized for platform CUDA (this does not guarantee that XLA will be used). Devices:\n",
      "I0000 00:00:1741850045.602661  525230 service.cc:154]   StreamExecutor device (0): NVIDIA RTX A5000, Compute Capability 8.6\n",
      "2025-03-13 16:14:06.310039: I tensorflow/compiler/mlir/tensorflow/utils/dump_mlir_util.cc:268] disabling MLIR crash reproducer, set env var `MLIR_CRASH_REPRODUCER_DIRECTORY` to enable.\n",
      "2025-03-13 16:14:09.333308: I external/local_xla/xla/stream_executor/cuda/cuda_dnn.cc:531] Loaded cuDNN version 8907\n",
      "I0000 00:00:1741850079.634608  525230 device_compiler.h:188] Compiled cluster using XLA!  This line is logged at most once for the lifetime of the process.\n"
     ]
    },
    {
     "name": "stdout",
     "output_type": "stream",
     "text": [
      "\u001b[1m 204/1060\u001b[0m \u001b[32m━━━\u001b[0m\u001b[37m━━━━━━━━━━━━━━━━━\u001b[0m \u001b[1m6:03\u001b[0m 425ms/step - accuracy: 0.6974 - loss: 4.6769"
     ]
    },
    {
     "name": "stderr",
     "output_type": "stream",
     "text": [
      "/home/jangminoh_2/miniconda3/envs/ml-ops/lib/python3.12/site-packages/PIL/Image.py:1045: UserWarning: Palette images with Transparency expressed in bytes should be converted to RGBA images\n",
      "  warnings.warn(\n"
     ]
    },
    {
     "name": "stdout",
     "output_type": "stream",
     "text": [
      "\u001b[1m 361/1060\u001b[0m \u001b[32m━━━━━━\u001b[0m\u001b[37m━━━━━━━━━━━━━━\u001b[0m \u001b[1m5:02\u001b[0m 433ms/step - accuracy: 0.7175 - loss: 3.6993"
     ]
    },
    {
     "name": "stderr",
     "output_type": "stream",
     "text": [
      "/home/jangminoh_2/miniconda3/envs/ml-ops/lib/python3.12/site-packages/PIL/Image.py:3402: DecompressionBombWarning: Image size (98806617 pixels) exceeds limit of 89478485 pixels, could be decompression bomb DOS attack.\n",
      "  warnings.warn(\n"
     ]
    },
    {
     "name": "stdout",
     "output_type": "stream",
     "text": [
      "\u001b[1m 514/1060\u001b[0m \u001b[32m━━━━━━━━━\u001b[0m\u001b[37m━━━━━━━━━━━\u001b[0m \u001b[1m3:51\u001b[0m 424ms/step - accuracy: 0.7289 - loss: 3.1297"
     ]
    },
    {
     "name": "stderr",
     "output_type": "stream",
     "text": [
      "/home/jangminoh_2/miniconda3/envs/ml-ops/lib/python3.12/site-packages/PIL/Image.py:3402: DecompressionBombWarning: Image size (99991727 pixels) exceeds limit of 89478485 pixels, could be decompression bomb DOS attack.\n",
      "  warnings.warn(\n"
     ]
    },
    {
     "name": "stdout",
     "output_type": "stream",
     "text": [
      "\u001b[1m 798/1060\u001b[0m \u001b[32m━━━━━━━━━━━━━━━\u001b[0m\u001b[37m━━━━━\u001b[0m \u001b[1m2:01\u001b[0m 464ms/step - accuracy: 0.7434 - loss: 2.5036"
     ]
    },
    {
     "name": "stderr",
     "output_type": "stream",
     "text": [
      "/home/jangminoh_2/miniconda3/envs/ml-ops/lib/python3.12/site-packages/PIL/Image.py:3402: DecompressionBombWarning: Image size (107184040 pixels) exceeds limit of 89478485 pixels, could be decompression bomb DOS attack.\n",
      "  warnings.warn(\n"
     ]
    },
    {
     "name": "stdout",
     "output_type": "stream",
     "text": [
      "\u001b[1m1060/1060\u001b[0m \u001b[32m━━━━━━━━━━━━━━━━━━━━\u001b[0m\u001b[37m\u001b[0m \u001b[1m0s\u001b[0m 452ms/step - accuracy: 0.7527 - loss: 2.1578"
     ]
    },
    {
     "name": "stderr",
     "output_type": "stream",
     "text": [
      "2025-03-13 16:22:45.276508: I external/local_xla/xla/stream_executor/cuda/cuda_asm_compiler.cc:393] ptxas warning : Registers are spilled to local memory in function 'gemm_fusion_dot_2', 36 bytes spill stores, 36 bytes spill loads\n",
      "\n",
      "/home/jangminoh_2/miniconda3/envs/ml-ops/lib/python3.12/site-packages/PIL/Image.py:3402: DecompressionBombWarning: Image size (96000000 pixels) exceeds limit of 89478485 pixels, could be decompression bomb DOS attack.\n",
      "  warnings.warn(\n"
     ]
    },
    {
     "name": "stdout",
     "output_type": "stream",
     "text": [
      "\u001b[1m1060/1060\u001b[0m \u001b[32m━━━━━━━━━━━━━━━━━━━━\u001b[0m\u001b[37m\u001b[0m \u001b[1m709s\u001b[0m 620ms/step - accuracy: 0.7528 - loss: 2.1567 - val_accuracy: 0.8530 - val_loss: 0.4046 - learning_rate: 5.0000e-04\n",
      "Epoch 2/20\n",
      "\u001b[1m1060/1060\u001b[0m \u001b[32m━━━━━━━━━━━━━━━━━━━━\u001b[0m\u001b[37m\u001b[0m \u001b[1m653s\u001b[0m 616ms/step - accuracy: 0.8543 - loss: 0.3938 - val_accuracy: 0.8730 - val_loss: 0.3446 - learning_rate: 5.0000e-04\n",
      "Epoch 3/20\n",
      "\u001b[1m1060/1060\u001b[0m \u001b[32m━━━━━━━━━━━━━━━━━━━━\u001b[0m\u001b[37m\u001b[0m \u001b[1m603s\u001b[0m 569ms/step - accuracy: 0.8898 - loss: 0.3153 - val_accuracy: 0.8868 - val_loss: 0.3177 - learning_rate: 5.0000e-04\n",
      "Epoch 4/20\n",
      "\u001b[1m1060/1060\u001b[0m \u001b[32m━━━━━━━━━━━━━━━━━━━━\u001b[0m\u001b[37m\u001b[0m \u001b[1m678s\u001b[0m 639ms/step - accuracy: 0.9103 - loss: 0.2693 - val_accuracy: 0.8939 - val_loss: 0.3203 - learning_rate: 5.0000e-04\n",
      "Epoch 5/20\n",
      "\u001b[1m1060/1060\u001b[0m \u001b[32m━━━━━━━━━━━━━━━━━━━━\u001b[0m\u001b[37m\u001b[0m \u001b[1m614s\u001b[0m 579ms/step - accuracy: 0.9202 - loss: 0.2369 - val_accuracy: 0.8985 - val_loss: 0.3060 - learning_rate: 5.0000e-04\n",
      "Epoch 6/20\n",
      "\u001b[1m1060/1060\u001b[0m \u001b[32m━━━━━━━━━━━━━━━━━━━━\u001b[0m\u001b[37m\u001b[0m \u001b[1m601s\u001b[0m 567ms/step - accuracy: 0.9309 - loss: 0.2083 - val_accuracy: 0.8909 - val_loss: 0.3392 - learning_rate: 5.0000e-04\n",
      "Epoch 7/20\n",
      "\u001b[1m1060/1060\u001b[0m \u001b[32m━━━━━━━━━━━━━━━━━━━━\u001b[0m\u001b[37m\u001b[0m \u001b[1m615s\u001b[0m 580ms/step - accuracy: 0.9401 - loss: 0.1873 - val_accuracy: 0.8941 - val_loss: 0.3295 - learning_rate: 5.0000e-04\n",
      "Epoch 8/20\n",
      "\u001b[1m1060/1060\u001b[0m \u001b[32m━━━━━━━━━━━━━━━━━━━━\u001b[0m\u001b[37m\u001b[0m \u001b[1m608s\u001b[0m 573ms/step - accuracy: 0.9459 - loss: 0.1756 - val_accuracy: 0.8992 - val_loss: 0.3511 - learning_rate: 5.0000e-04\n",
      "Epoch 9/20\n",
      "\u001b[1m1060/1060\u001b[0m \u001b[32m━━━━━━━━━━━━━━━━━━━━\u001b[0m\u001b[37m\u001b[0m \u001b[1m596s\u001b[0m 562ms/step - accuracy: 0.9599 - loss: 0.1351 - val_accuracy: 0.9068 - val_loss: 0.3069 - learning_rate: 2.5000e-04\n",
      "Epoch 10/20\n",
      "\u001b[1m1060/1060\u001b[0m \u001b[32m━━━━━━━━━━━━━━━━━━━━\u001b[0m\u001b[37m\u001b[0m \u001b[1m607s\u001b[0m 573ms/step - accuracy: 0.9675 - loss: 0.1074 - val_accuracy: 0.9070 - val_loss: 0.3103 - learning_rate: 2.5000e-04\n"
     ]
    },
    {
     "data": {
      "image/png": "[encoded data removed]",
      "text/plain": [
       "<Figure size 640x480 with 1 Axes>"
      ]
     },
     "metadata": {},
     "output_type": "display_data"
    }
   ],
   "source": [
    "#모델 컴파일\n",
    "model.compile(optimizer=Adam(learning_rate=CONFIGURATION[\"LEARNING_RATE\"]),\n",
    "              loss='binary_crossentropy',  #이진 분류에 적합한 손실 함수\n",
    "              metrics=['accuracy'])\n",
    "#조기멈춤 도입\n",
    "early_stopping = EarlyStopping(monitor='val_loss', #accuracy #val_loss\n",
    "                               patience=5,           #N번의 에폭 동안 개선이 없으면 중단\n",
    "                               restore_best_weights=True)  #중단된 지점에서 최적의 가중치로 복원\n",
    "reduce_lr = ReduceLROnPlateau(monitor='val_loss', factor=0.5, patience=3, min_lr=1e-6)\n",
    "\n",
    "#모델 학습\n",
    "history = model.fit(\n",
    "    train_dataset,\n",
    "    validation_data=val_dataset,\n",
    "    epochs=CONFIGURATION[\"N_EPOCHS\"],\n",
    "    verbose=1,\n",
    "    callbacks=[early_stopping,reduce_lr]  # EarlyStopping 콜백 추가\n",
    ")\n",
    "\n",
    "#학습 과정 시각화\n",
    "plt.plot(history.history['loss'], label='train_loss')\n",
    "plt.plot(history.history['val_loss'], label='val_loss')\n",
    "plt.title('Model loss')\n",
    "plt.xlabel('Epoch')\n",
    "plt.ylabel('Loss')\n",
    "plt.legend(['Train Loss', 'Validation Loss'])\n",
    "plt.show()"
   ]
  },
  {
   "cell_type": "code",
   "execution_count": 16,
   "metadata": {
    "colab": {
     "base_uri": "https://localhost:8080/"
    },
    "executionInfo": {
     "elapsed": 624,
     "status": "ok",
     "timestamp": 1739774930932,
     "user": {
      "displayName": "이하은",
      "userId": "06607701604719915973"
     },
     "user_tz": -540
    },
    "id": "rRWHSAGE_Jmf",
    "outputId": "676b86eb-6b11-4dc3-9bcb-6a6ac8e8df2f"
   },
   "outputs": [
    {
     "name": "stderr",
     "output_type": "stream",
     "text": [
      "WARNING:absl:You are saving your model as an HDF5 file via `model.save()` or `keras.saving.save_model(model)`. This file format is considered legacy. We recommend using instead the native Keras format, e.g. `model.save('my_model.keras')` or `keras.saving.save_model(model, 'my_model.keras')`. \n"
     ]
    }
   ],
   "source": [
    "#모델 저장\n",
    "model.save(\"model/model_v4.h5\")\n",
    "#model.save(\"model/model_v3.h5\", save_format='h5', include_optimizer=True)"
   ]
  },
  {
   "cell_type": "markdown",
   "metadata": {},
   "source": [
    "- 모델 로드"
   ]
  },
  {
   "cell_type": "code",
   "execution_count": 18,
   "metadata": {},
   "outputs": [
    {
     "name": "stderr",
     "output_type": "stream",
     "text": [
      "WARNING:absl:Compiled the loaded model, but the compiled metrics have yet to be built. `model.compile_metrics` will be empty until you train or evaluate the model.\n"
     ]
    }
   ],
   "source": [
    "# 모델 로드\n",
    "from tensorflow.keras.models import load_model\n",
    "\n",
    "model = load_model(\"model/model_v5.h5\")"
   ]
  },
  {
   "cell_type": "markdown",
   "metadata": {},
   "source": [
    "### 모델 평가"
   ]
  },
  {
   "cell_type": "code",
   "execution_count": null,
   "metadata": {
    "colab": {
     "background_save": true,
     "base_uri": "https://localhost:8080/"
    },
    "id": "IA_V-jIQzyVu",
    "outputId": "5b442490-6618-4743-99c0-5b85328bf2c7"
   },
   "outputs": [
    {
     "name": "stderr",
     "output_type": "stream",
     "text": [
      "/home/jangminoh_2/miniconda3/envs/ml-ops/lib/python3.12/site-packages/keras/src/trainers/data_adapters/py_dataset_adapter.py:121: UserWarning: Your `PyDataset` class should call `super().__init__(**kwargs)` in its constructor. `**kwargs` can include `workers`, `use_multiprocessing`, `max_queue_size`. Do not pass these arguments to `fit()`, as they will be ignored.\n",
      "  self._warn_if_super_not_called()\n"
     ]
    },
    {
     "name": "stdout",
     "output_type": "stream",
     "text": [
      "\u001b[1m 720/4354\u001b[0m \u001b[32m━━━\u001b[0m\u001b[37m━━━━━━━━━━━━━━━━━\u001b[0m \u001b[1m1:13\u001b[0m 20ms/step - accuracy: 0.8165 - loss: 0.5343"
     ]
    },
    {
     "name": "stderr",
     "output_type": "stream",
     "text": [
      "/home/jangminoh_2/miniconda3/envs/ml-ops/lib/python3.12/site-packages/PIL/Image.py:1045: UserWarning: Palette images with Transparency expressed in bytes should be converted to RGBA images\n",
      "  warnings.warn(\n"
     ]
    },
    {
     "name": "stdout",
     "output_type": "stream",
     "text": [
      "\u001b[1m2991/4354\u001b[0m \u001b[32m━━━━━━━━━━━━━\u001b[0m\u001b[37m━━━━━━━\u001b[0m \u001b[1m49s\u001b[0m 36ms/step - accuracy: 0.8459 - loss: 0.4659"
     ]
    },
    {
     "name": "stderr",
     "output_type": "stream",
     "text": [
      "/home/jangminoh_2/miniconda3/envs/ml-ops/lib/python3.12/site-packages/PIL/Image.py:3402: DecompressionBombWarning: Image size (96000000 pixels) exceeds limit of 89478485 pixels, could be decompression bomb DOS attack.\n",
      "  warnings.warn(\n"
     ]
    },
    {
     "name": "stdout",
     "output_type": "stream",
     "text": [
      "\u001b[1m4354/4354\u001b[0m \u001b[32m━━━━━━━━━━━━━━━━━━━━\u001b[0m\u001b[37m\u001b[0m \u001b[1m178s\u001b[0m 38ms/step - accuracy: 0.8531 - loss: 0.4389\n",
      "Validation Accuracy: 86.77%\n"
     ]
    },
    {
     "ename": "KeyboardInterrupt",
     "evalue": "",
     "output_type": "error",
     "traceback": [
      "\u001b[0;31m---------------------------------------------------------------------------\u001b[0m",
      "\u001b[0;31mKeyboardInterrupt\u001b[0m                         Traceback (most recent call last)",
      "Cell \u001b[0;32mIn[19], line 16\u001b[0m\n\u001b[1;32m     14\u001b[0m \u001b[38;5;66;03m#validation dataset에 대해 예측 수행\u001b[39;00m\n\u001b[1;32m     15\u001b[0m \u001b[38;5;28;01mfor\u001b[39;00m images, labels \u001b[38;5;129;01min\u001b[39;00m val_dataset:\n\u001b[0;32m---> 16\u001b[0m     predictions \u001b[38;5;241m=\u001b[39m \u001b[43mmodel\u001b[49m\u001b[38;5;241;43m.\u001b[39;49m\u001b[43mpredict\u001b[49m\u001b[43m(\u001b[49m\u001b[43mimages\u001b[49m\u001b[43m,\u001b[49m\u001b[43m \u001b[49m\u001b[43mverbose\u001b[49m\u001b[38;5;241;43m=\u001b[39;49m\u001b[38;5;241;43m0\u001b[39;49m\u001b[43m)\u001b[49m\u001b[38;5;66;03m#로그 출력 생략verbose=0\u001b[39;00m\n\u001b[1;32m     17\u001b[0m     \u001b[38;5;66;03m#print(predictions)\u001b[39;00m\n\u001b[1;32m     18\u001b[0m     y_true\u001b[38;5;241m.\u001b[39mextend(labels)  \u001b[38;5;66;03m#실제 레이블\u001b[39;00m\n",
      "File \u001b[0;32m~/miniconda3/envs/ml-ops/lib/python3.12/site-packages/keras/src/utils/traceback_utils.py:117\u001b[0m, in \u001b[0;36mfilter_traceback.<locals>.error_handler\u001b[0;34m(*args, **kwargs)\u001b[0m\n\u001b[1;32m    115\u001b[0m filtered_tb \u001b[38;5;241m=\u001b[39m \u001b[38;5;28;01mNone\u001b[39;00m\n\u001b[1;32m    116\u001b[0m \u001b[38;5;28;01mtry\u001b[39;00m:\n\u001b[0;32m--> 117\u001b[0m     \u001b[38;5;28;01mreturn\u001b[39;00m \u001b[43mfn\u001b[49m\u001b[43m(\u001b[49m\u001b[38;5;241;43m*\u001b[39;49m\u001b[43margs\u001b[49m\u001b[43m,\u001b[49m\u001b[43m \u001b[49m\u001b[38;5;241;43m*\u001b[39;49m\u001b[38;5;241;43m*\u001b[39;49m\u001b[43mkwargs\u001b[49m\u001b[43m)\u001b[49m\n\u001b[1;32m    118\u001b[0m \u001b[38;5;28;01mexcept\u001b[39;00m \u001b[38;5;167;01mException\u001b[39;00m \u001b[38;5;28;01mas\u001b[39;00m e:\n\u001b[1;32m    119\u001b[0m     filtered_tb \u001b[38;5;241m=\u001b[39m _process_traceback_frames(e\u001b[38;5;241m.\u001b[39m__traceback__)\n",
      "File \u001b[0;32m~/miniconda3/envs/ml-ops/lib/python3.12/site-packages/keras/src/backend/tensorflow/trainer.py:500\u001b[0m, in \u001b[0;36mTensorFlowTrainer.predict\u001b[0;34m(self, x, batch_size, verbose, steps, callbacks)\u001b[0m\n\u001b[1;32m    495\u001b[0m \u001b[38;5;129m@traceback_utils\u001b[39m\u001b[38;5;241m.\u001b[39mfilter_traceback\n\u001b[1;32m    496\u001b[0m \u001b[38;5;28;01mdef\u001b[39;00m\u001b[38;5;250m \u001b[39m\u001b[38;5;21mpredict\u001b[39m(\n\u001b[1;32m    497\u001b[0m     \u001b[38;5;28mself\u001b[39m, x, batch_size\u001b[38;5;241m=\u001b[39m\u001b[38;5;28;01mNone\u001b[39;00m, verbose\u001b[38;5;241m=\u001b[39m\u001b[38;5;124m\"\u001b[39m\u001b[38;5;124mauto\u001b[39m\u001b[38;5;124m\"\u001b[39m, steps\u001b[38;5;241m=\u001b[39m\u001b[38;5;28;01mNone\u001b[39;00m, callbacks\u001b[38;5;241m=\u001b[39m\u001b[38;5;28;01mNone\u001b[39;00m\n\u001b[1;32m    498\u001b[0m ):\n\u001b[1;32m    499\u001b[0m     \u001b[38;5;66;03m# Create an iterator that yields batches of input data.\u001b[39;00m\n\u001b[0;32m--> 500\u001b[0m     epoch_iterator \u001b[38;5;241m=\u001b[39m \u001b[43mTFEpochIterator\u001b[49m\u001b[43m(\u001b[49m\n\u001b[1;32m    501\u001b[0m \u001b[43m        \u001b[49m\u001b[43mx\u001b[49m\u001b[38;5;241;43m=\u001b[39;49m\u001b[43mx\u001b[49m\u001b[43m,\u001b[49m\n\u001b[1;32m    502\u001b[0m \u001b[43m        \u001b[49m\u001b[43mbatch_size\u001b[49m\u001b[38;5;241;43m=\u001b[39;49m\u001b[43mbatch_size\u001b[49m\u001b[43m,\u001b[49m\n\u001b[1;32m    503\u001b[0m \u001b[43m        \u001b[49m\u001b[43msteps_per_epoch\u001b[49m\u001b[38;5;241;43m=\u001b[39;49m\u001b[43msteps\u001b[49m\u001b[43m,\u001b[49m\n\u001b[1;32m    504\u001b[0m \u001b[43m        \u001b[49m\u001b[43mshuffle\u001b[49m\u001b[38;5;241;43m=\u001b[39;49m\u001b[38;5;28;43;01mFalse\u001b[39;49;00m\u001b[43m,\u001b[49m\n\u001b[1;32m    505\u001b[0m \u001b[43m        \u001b[49m\u001b[43mdistribute_strategy\u001b[49m\u001b[38;5;241;43m=\u001b[39;49m\u001b[38;5;28;43mself\u001b[39;49m\u001b[38;5;241;43m.\u001b[39;49m\u001b[43mdistribute_strategy\u001b[49m\u001b[43m,\u001b[49m\n\u001b[1;32m    506\u001b[0m \u001b[43m        \u001b[49m\u001b[43msteps_per_execution\u001b[49m\u001b[38;5;241;43m=\u001b[39;49m\u001b[38;5;28;43mself\u001b[39;49m\u001b[38;5;241;43m.\u001b[39;49m\u001b[43msteps_per_execution\u001b[49m\u001b[43m,\u001b[49m\n\u001b[1;32m    507\u001b[0m \u001b[43m    \u001b[49m\u001b[43m)\u001b[49m\n\u001b[1;32m    509\u001b[0m     \u001b[38;5;66;03m# Container that configures and calls callbacks.\u001b[39;00m\n\u001b[1;32m    510\u001b[0m     \u001b[38;5;28;01mif\u001b[39;00m \u001b[38;5;129;01mnot\u001b[39;00m \u001b[38;5;28misinstance\u001b[39m(callbacks, callbacks_module\u001b[38;5;241m.\u001b[39mCallbackList):\n",
      "File \u001b[0;32m~/miniconda3/envs/ml-ops/lib/python3.12/site-packages/keras/src/backend/tensorflow/trainer.py:722\u001b[0m, in \u001b[0;36mTFEpochIterator.__init__\u001b[0;34m(self, distribute_strategy, *args, **kwargs)\u001b[0m\n\u001b[1;32m    720\u001b[0m \u001b[38;5;28msuper\u001b[39m()\u001b[38;5;241m.\u001b[39m\u001b[38;5;21m__init__\u001b[39m(\u001b[38;5;241m*\u001b[39margs, \u001b[38;5;241m*\u001b[39m\u001b[38;5;241m*\u001b[39mkwargs)\n\u001b[1;32m    721\u001b[0m \u001b[38;5;28mself\u001b[39m\u001b[38;5;241m.\u001b[39m_distribute_strategy \u001b[38;5;241m=\u001b[39m distribute_strategy\n\u001b[0;32m--> 722\u001b[0m dataset \u001b[38;5;241m=\u001b[39m \u001b[38;5;28;43mself\u001b[39;49m\u001b[38;5;241;43m.\u001b[39;49m\u001b[43mdata_adapter\u001b[49m\u001b[38;5;241;43m.\u001b[39;49m\u001b[43mget_tf_dataset\u001b[49m\u001b[43m(\u001b[49m\u001b[43m)\u001b[49m\n\u001b[1;32m    723\u001b[0m \u001b[38;5;28;01mif\u001b[39;00m \u001b[38;5;129;01mnot\u001b[39;00m \u001b[38;5;28misinstance\u001b[39m(dataset, tf\u001b[38;5;241m.\u001b[39mdistribute\u001b[38;5;241m.\u001b[39mDistributedDataset):\n\u001b[1;32m    724\u001b[0m     dataset \u001b[38;5;241m=\u001b[39m \u001b[38;5;28mself\u001b[39m\u001b[38;5;241m.\u001b[39m_distribute_strategy\u001b[38;5;241m.\u001b[39mexperimental_distribute_dataset(\n\u001b[1;32m    725\u001b[0m         dataset\n\u001b[1;32m    726\u001b[0m     )\n",
      "File \u001b[0;32m~/miniconda3/envs/ml-ops/lib/python3.12/site-packages/keras/src/trainers/data_adapters/array_data_adapter.py:140\u001b[0m, in \u001b[0;36mArrayDataAdapter.get_tf_dataset\u001b[0;34m(self)\u001b[0m\n\u001b[1;32m    133\u001b[0m     \u001b[38;5;28;01mreturn\u001b[39;00m indices\n\u001b[1;32m    135\u001b[0m \u001b[38;5;66;03m# We prefetch a single element. Computing large permutations can take\u001b[39;00m\n\u001b[1;32m    136\u001b[0m \u001b[38;5;66;03m# quite a while so we don't want to wait for prefetching over an epoch\u001b[39;00m\n\u001b[1;32m    137\u001b[0m \u001b[38;5;66;03m# boundary to trigger the next permutation. On the other hand, too many\u001b[39;00m\n\u001b[1;32m    138\u001b[0m \u001b[38;5;66;03m# simultaneous shuffles can contend on a hardware level and degrade all\u001b[39;00m\n\u001b[1;32m    139\u001b[0m \u001b[38;5;66;03m# performance.\u001b[39;00m\n\u001b[0;32m--> 140\u001b[0m indices_dataset \u001b[38;5;241m=\u001b[39m \u001b[43mindices_dataset\u001b[49m\u001b[38;5;241;43m.\u001b[39;49m\u001b[43mmap\u001b[49m\u001b[43m(\u001b[49m\u001b[43mpermutation\u001b[49m\u001b[43m)\u001b[49m\u001b[38;5;241m.\u001b[39mprefetch(\u001b[38;5;241m1\u001b[39m)\n\u001b[1;32m    142\u001b[0m \u001b[38;5;28;01mdef\u001b[39;00m\u001b[38;5;250m \u001b[39m\u001b[38;5;21mslice_batch_indices\u001b[39m(indices):\n\u001b[1;32m    143\u001b[0m \u001b[38;5;250m    \u001b[39m\u001b[38;5;124;03m\"\"\"Convert a Tensor of indices into a dataset of batched indices.\u001b[39;00m\n\u001b[1;32m    144\u001b[0m \n\u001b[1;32m    145\u001b[0m \u001b[38;5;124;03m    This step can be accomplished in several ways. The most natural is\u001b[39;00m\n\u001b[0;32m   (...)\u001b[0m\n\u001b[1;32m    157\u001b[0m \u001b[38;5;124;03m        A Dataset of batched indices.\u001b[39;00m\n\u001b[1;32m    158\u001b[0m \u001b[38;5;124;03m    \"\"\"\u001b[39;00m\n",
      "File \u001b[0;32m~/miniconda3/envs/ml-ops/lib/python3.12/site-packages/tensorflow/python/data/ops/dataset_ops.py:2311\u001b[0m, in \u001b[0;36mDatasetV2.map\u001b[0;34m(self, map_func, num_parallel_calls, deterministic, name)\u001b[0m\n\u001b[1;32m   2307\u001b[0m \u001b[38;5;66;03m# Loaded lazily due to a circular dependency (dataset_ops -> map_op ->\u001b[39;00m\n\u001b[1;32m   2308\u001b[0m \u001b[38;5;66;03m# dataset_ops).\u001b[39;00m\n\u001b[1;32m   2309\u001b[0m \u001b[38;5;66;03m# pylint: disable=g-import-not-at-top,protected-access\u001b[39;00m\n\u001b[1;32m   2310\u001b[0m \u001b[38;5;28;01mfrom\u001b[39;00m\u001b[38;5;250m \u001b[39m\u001b[38;5;21;01mtensorflow\u001b[39;00m\u001b[38;5;21;01m.\u001b[39;00m\u001b[38;5;21;01mpython\u001b[39;00m\u001b[38;5;21;01m.\u001b[39;00m\u001b[38;5;21;01mdata\u001b[39;00m\u001b[38;5;21;01m.\u001b[39;00m\u001b[38;5;21;01mops\u001b[39;00m\u001b[38;5;250m \u001b[39m\u001b[38;5;28;01mimport\u001b[39;00m map_op\n\u001b[0;32m-> 2311\u001b[0m \u001b[38;5;28;01mreturn\u001b[39;00m \u001b[43mmap_op\u001b[49m\u001b[38;5;241;43m.\u001b[39;49m\u001b[43m_map_v2\u001b[49m\u001b[43m(\u001b[49m\n\u001b[1;32m   2312\u001b[0m \u001b[43m    \u001b[49m\u001b[38;5;28;43mself\u001b[39;49m\u001b[43m,\u001b[49m\n\u001b[1;32m   2313\u001b[0m \u001b[43m    \u001b[49m\u001b[43mmap_func\u001b[49m\u001b[43m,\u001b[49m\n\u001b[1;32m   2314\u001b[0m \u001b[43m    \u001b[49m\u001b[43mnum_parallel_calls\u001b[49m\u001b[38;5;241;43m=\u001b[39;49m\u001b[43mnum_parallel_calls\u001b[49m\u001b[43m,\u001b[49m\n\u001b[1;32m   2315\u001b[0m \u001b[43m    \u001b[49m\u001b[43mdeterministic\u001b[49m\u001b[38;5;241;43m=\u001b[39;49m\u001b[43mdeterministic\u001b[49m\u001b[43m,\u001b[49m\n\u001b[1;32m   2316\u001b[0m \u001b[43m    \u001b[49m\u001b[43mname\u001b[49m\u001b[38;5;241;43m=\u001b[39;49m\u001b[43mname\u001b[49m\u001b[43m)\u001b[49m\n",
      "File \u001b[0;32m~/miniconda3/envs/ml-ops/lib/python3.12/site-packages/tensorflow/python/data/ops/map_op.py:37\u001b[0m, in \u001b[0;36m_map_v2\u001b[0;34m(input_dataset, map_func, num_parallel_calls, deterministic, name)\u001b[0m\n\u001b[1;32m     34\u001b[0m   \u001b[38;5;28;01mif\u001b[39;00m deterministic \u001b[38;5;129;01mis\u001b[39;00m \u001b[38;5;129;01mnot\u001b[39;00m \u001b[38;5;28;01mNone\u001b[39;00m \u001b[38;5;129;01mand\u001b[39;00m \u001b[38;5;129;01mnot\u001b[39;00m debug_mode\u001b[38;5;241m.\u001b[39mDEBUG_MODE:\n\u001b[1;32m     35\u001b[0m     warnings\u001b[38;5;241m.\u001b[39mwarn(\u001b[38;5;124m\"\u001b[39m\u001b[38;5;124mThe `deterministic` argument has no effect unless the \u001b[39m\u001b[38;5;124m\"\u001b[39m\n\u001b[1;32m     36\u001b[0m                   \u001b[38;5;124m\"\u001b[39m\u001b[38;5;124m`num_parallel_calls` argument is specified.\u001b[39m\u001b[38;5;124m\"\u001b[39m)\n\u001b[0;32m---> 37\u001b[0m   \u001b[38;5;28;01mreturn\u001b[39;00m \u001b[43m_MapDataset\u001b[49m\u001b[43m(\u001b[49m\n\u001b[1;32m     38\u001b[0m \u001b[43m      \u001b[49m\u001b[43minput_dataset\u001b[49m\u001b[43m,\u001b[49m\u001b[43m \u001b[49m\u001b[43mmap_func\u001b[49m\u001b[43m,\u001b[49m\u001b[43m \u001b[49m\u001b[43mpreserve_cardinality\u001b[49m\u001b[38;5;241;43m=\u001b[39;49m\u001b[38;5;28;43;01mTrue\u001b[39;49;00m\u001b[43m,\u001b[49m\u001b[43m \u001b[49m\u001b[43mname\u001b[49m\u001b[38;5;241;43m=\u001b[39;49m\u001b[43mname\u001b[49m\u001b[43m)\u001b[49m\n\u001b[1;32m     39\u001b[0m \u001b[38;5;28;01melse\u001b[39;00m:\n\u001b[1;32m     40\u001b[0m   \u001b[38;5;28;01mreturn\u001b[39;00m _ParallelMapDataset(\n\u001b[1;32m     41\u001b[0m       input_dataset,\n\u001b[1;32m     42\u001b[0m       map_func,\n\u001b[0;32m   (...)\u001b[0m\n\u001b[1;32m     45\u001b[0m       preserve_cardinality\u001b[38;5;241m=\u001b[39m\u001b[38;5;28;01mTrue\u001b[39;00m,\n\u001b[1;32m     46\u001b[0m       name\u001b[38;5;241m=\u001b[39mname)\n",
      "File \u001b[0;32m~/miniconda3/envs/ml-ops/lib/python3.12/site-packages/tensorflow/python/data/ops/map_op.py:107\u001b[0m, in \u001b[0;36m_MapDataset.__init__\u001b[0;34m(self, input_dataset, map_func, use_inter_op_parallelism, preserve_cardinality, use_legacy_function, name)\u001b[0m\n\u001b[1;32m    105\u001b[0m \u001b[38;5;28mself\u001b[39m\u001b[38;5;241m.\u001b[39m_use_inter_op_parallelism \u001b[38;5;241m=\u001b[39m use_inter_op_parallelism\n\u001b[1;32m    106\u001b[0m \u001b[38;5;28mself\u001b[39m\u001b[38;5;241m.\u001b[39m_preserve_cardinality \u001b[38;5;241m=\u001b[39m preserve_cardinality\n\u001b[0;32m--> 107\u001b[0m \u001b[38;5;28mself\u001b[39m\u001b[38;5;241m.\u001b[39m_map_func \u001b[38;5;241m=\u001b[39m \u001b[43mstructured_function\u001b[49m\u001b[38;5;241;43m.\u001b[39;49m\u001b[43mStructuredFunctionWrapper\u001b[49m\u001b[43m(\u001b[49m\n\u001b[1;32m    108\u001b[0m \u001b[43m    \u001b[49m\u001b[43mmap_func\u001b[49m\u001b[43m,\u001b[49m\n\u001b[1;32m    109\u001b[0m \u001b[43m    \u001b[49m\u001b[38;5;28;43mself\u001b[39;49m\u001b[38;5;241;43m.\u001b[39;49m\u001b[43m_transformation_name\u001b[49m\u001b[43m(\u001b[49m\u001b[43m)\u001b[49m\u001b[43m,\u001b[49m\n\u001b[1;32m    110\u001b[0m \u001b[43m    \u001b[49m\u001b[43mdataset\u001b[49m\u001b[38;5;241;43m=\u001b[39;49m\u001b[43minput_dataset\u001b[49m\u001b[43m,\u001b[49m\n\u001b[1;32m    111\u001b[0m \u001b[43m    \u001b[49m\u001b[43muse_legacy_function\u001b[49m\u001b[38;5;241;43m=\u001b[39;49m\u001b[43muse_legacy_function\u001b[49m\u001b[43m)\u001b[49m\n\u001b[1;32m    112\u001b[0m \u001b[38;5;28mself\u001b[39m\u001b[38;5;241m.\u001b[39m_name \u001b[38;5;241m=\u001b[39m name\n\u001b[1;32m    113\u001b[0m variant_tensor \u001b[38;5;241m=\u001b[39m gen_dataset_ops\u001b[38;5;241m.\u001b[39mmap_dataset(\n\u001b[1;32m    114\u001b[0m     input_dataset\u001b[38;5;241m.\u001b[39m_variant_tensor,  \u001b[38;5;66;03m# pylint: disable=protected-access\u001b[39;00m\n\u001b[1;32m    115\u001b[0m     \u001b[38;5;28mself\u001b[39m\u001b[38;5;241m.\u001b[39m_map_func\u001b[38;5;241m.\u001b[39mfunction\u001b[38;5;241m.\u001b[39mcaptured_inputs,\n\u001b[0;32m   (...)\u001b[0m\n\u001b[1;32m    118\u001b[0m     preserve_cardinality\u001b[38;5;241m=\u001b[39m\u001b[38;5;28mself\u001b[39m\u001b[38;5;241m.\u001b[39m_preserve_cardinality,\n\u001b[1;32m    119\u001b[0m     \u001b[38;5;241m*\u001b[39m\u001b[38;5;241m*\u001b[39m\u001b[38;5;28mself\u001b[39m\u001b[38;5;241m.\u001b[39m_common_args)\n",
      "File \u001b[0;32m~/miniconda3/envs/ml-ops/lib/python3.12/site-packages/tensorflow/python/data/ops/structured_function.py:265\u001b[0m, in \u001b[0;36mStructuredFunctionWrapper.__init__\u001b[0;34m(self, func, transformation_name, dataset, input_classes, input_shapes, input_types, input_structure, add_to_graph, use_legacy_function, defun_kwargs)\u001b[0m\n\u001b[1;32m    258\u001b[0m       warnings\u001b[38;5;241m.\u001b[39mwarn(\n\u001b[1;32m    259\u001b[0m           \u001b[38;5;124m\"\u001b[39m\u001b[38;5;124mEven though the `tf.config.experimental_run_functions_eagerly` \u001b[39m\u001b[38;5;124m\"\u001b[39m\n\u001b[1;32m    260\u001b[0m           \u001b[38;5;124m\"\u001b[39m\u001b[38;5;124moption is set, this option does not apply to tf.data functions. \u001b[39m\u001b[38;5;124m\"\u001b[39m\n\u001b[1;32m    261\u001b[0m           \u001b[38;5;124m\"\u001b[39m\u001b[38;5;124mTo force eager execution of tf.data functions, please use \u001b[39m\u001b[38;5;124m\"\u001b[39m\n\u001b[1;32m    262\u001b[0m           \u001b[38;5;124m\"\u001b[39m\u001b[38;5;124m`tf.data.experimental.enable_debug_mode()`.\u001b[39m\u001b[38;5;124m\"\u001b[39m)\n\u001b[1;32m    263\u001b[0m     fn_factory \u001b[38;5;241m=\u001b[39m trace_tf_function(defun_kwargs)\n\u001b[0;32m--> 265\u001b[0m \u001b[38;5;28mself\u001b[39m\u001b[38;5;241m.\u001b[39m_function \u001b[38;5;241m=\u001b[39m \u001b[43mfn_factory\u001b[49m\u001b[43m(\u001b[49m\u001b[43m)\u001b[49m\n\u001b[1;32m    266\u001b[0m \u001b[38;5;66;03m# There is no graph to add in eager mode.\u001b[39;00m\n\u001b[1;32m    267\u001b[0m add_to_graph \u001b[38;5;241m&\u001b[39m\u001b[38;5;241m=\u001b[39m \u001b[38;5;129;01mnot\u001b[39;00m context\u001b[38;5;241m.\u001b[39mexecuting_eagerly()\n",
      "File \u001b[0;32m~/miniconda3/envs/ml-ops/lib/python3.12/site-packages/tensorflow/python/eager/polymorphic_function/polymorphic_function.py:1251\u001b[0m, in \u001b[0;36mFunction.get_concrete_function\u001b[0;34m(self, *args, **kwargs)\u001b[0m\n\u001b[1;32m   1249\u001b[0m \u001b[38;5;28;01mdef\u001b[39;00m\u001b[38;5;250m \u001b[39m\u001b[38;5;21mget_concrete_function\u001b[39m(\u001b[38;5;28mself\u001b[39m, \u001b[38;5;241m*\u001b[39margs, \u001b[38;5;241m*\u001b[39m\u001b[38;5;241m*\u001b[39mkwargs):\n\u001b[1;32m   1250\u001b[0m   \u001b[38;5;66;03m# Implements PolymorphicFunction.get_concrete_function.\u001b[39;00m\n\u001b[0;32m-> 1251\u001b[0m   concrete \u001b[38;5;241m=\u001b[39m \u001b[38;5;28;43mself\u001b[39;49m\u001b[38;5;241;43m.\u001b[39;49m\u001b[43m_get_concrete_function_garbage_collected\u001b[49m\u001b[43m(\u001b[49m\u001b[38;5;241;43m*\u001b[39;49m\u001b[43margs\u001b[49m\u001b[43m,\u001b[49m\u001b[43m \u001b[49m\u001b[38;5;241;43m*\u001b[39;49m\u001b[38;5;241;43m*\u001b[39;49m\u001b[43mkwargs\u001b[49m\u001b[43m)\u001b[49m\n\u001b[1;32m   1252\u001b[0m   concrete\u001b[38;5;241m.\u001b[39m_garbage_collector\u001b[38;5;241m.\u001b[39mrelease()  \u001b[38;5;66;03m# pylint: disable=protected-access\u001b[39;00m\n\u001b[1;32m   1253\u001b[0m   \u001b[38;5;28;01mreturn\u001b[39;00m concrete\n",
      "File \u001b[0;32m~/miniconda3/envs/ml-ops/lib/python3.12/site-packages/tensorflow/python/eager/polymorphic_function/polymorphic_function.py:1221\u001b[0m, in \u001b[0;36mFunction._get_concrete_function_garbage_collected\u001b[0;34m(self, *args, **kwargs)\u001b[0m\n\u001b[1;32m   1219\u001b[0m   \u001b[38;5;28;01mif\u001b[39;00m \u001b[38;5;28mself\u001b[39m\u001b[38;5;241m.\u001b[39m_variable_creation_config \u001b[38;5;129;01mis\u001b[39;00m \u001b[38;5;28;01mNone\u001b[39;00m:\n\u001b[1;32m   1220\u001b[0m     initializers \u001b[38;5;241m=\u001b[39m []\n\u001b[0;32m-> 1221\u001b[0m     \u001b[38;5;28;43mself\u001b[39;49m\u001b[38;5;241;43m.\u001b[39;49m\u001b[43m_initialize\u001b[49m\u001b[43m(\u001b[49m\u001b[43margs\u001b[49m\u001b[43m,\u001b[49m\u001b[43m \u001b[49m\u001b[43mkwargs\u001b[49m\u001b[43m,\u001b[49m\u001b[43m \u001b[49m\u001b[43madd_initializers_to\u001b[49m\u001b[38;5;241;43m=\u001b[39;49m\u001b[43minitializers\u001b[49m\u001b[43m)\u001b[49m\n\u001b[1;32m   1222\u001b[0m     \u001b[38;5;28mself\u001b[39m\u001b[38;5;241m.\u001b[39m_initialize_uninitialized_variables(initializers)\n\u001b[1;32m   1224\u001b[0m \u001b[38;5;28;01mif\u001b[39;00m \u001b[38;5;28mself\u001b[39m\u001b[38;5;241m.\u001b[39m_created_variables:\n\u001b[1;32m   1225\u001b[0m   \u001b[38;5;66;03m# In this case we have created variables on the first call, so we run the\u001b[39;00m\n\u001b[1;32m   1226\u001b[0m   \u001b[38;5;66;03m# version which is guaranteed to never create variables.\u001b[39;00m\n",
      "File \u001b[0;32m~/miniconda3/envs/ml-ops/lib/python3.12/site-packages/tensorflow/python/eager/polymorphic_function/polymorphic_function.py:696\u001b[0m, in \u001b[0;36mFunction._initialize\u001b[0;34m(self, args, kwds, add_initializers_to)\u001b[0m\n\u001b[1;32m    691\u001b[0m \u001b[38;5;28mself\u001b[39m\u001b[38;5;241m.\u001b[39m_variable_creation_config \u001b[38;5;241m=\u001b[39m \u001b[38;5;28mself\u001b[39m\u001b[38;5;241m.\u001b[39m_generate_scoped_tracing_options(\n\u001b[1;32m    692\u001b[0m     variable_capturing_scope,\n\u001b[1;32m    693\u001b[0m     tracing_compilation\u001b[38;5;241m.\u001b[39mScopeType\u001b[38;5;241m.\u001b[39mVARIABLE_CREATION,\n\u001b[1;32m    694\u001b[0m )\n\u001b[1;32m    695\u001b[0m \u001b[38;5;66;03m# Force the definition of the function for these arguments\u001b[39;00m\n\u001b[0;32m--> 696\u001b[0m \u001b[38;5;28mself\u001b[39m\u001b[38;5;241m.\u001b[39m_concrete_variable_creation_fn \u001b[38;5;241m=\u001b[39m \u001b[43mtracing_compilation\u001b[49m\u001b[38;5;241;43m.\u001b[39;49m\u001b[43mtrace_function\u001b[49m\u001b[43m(\u001b[49m\n\u001b[1;32m    697\u001b[0m \u001b[43m    \u001b[49m\u001b[43margs\u001b[49m\u001b[43m,\u001b[49m\u001b[43m \u001b[49m\u001b[43mkwds\u001b[49m\u001b[43m,\u001b[49m\u001b[43m \u001b[49m\u001b[38;5;28;43mself\u001b[39;49m\u001b[38;5;241;43m.\u001b[39;49m\u001b[43m_variable_creation_config\u001b[49m\n\u001b[1;32m    698\u001b[0m \u001b[43m\u001b[49m\u001b[43m)\u001b[49m\n\u001b[1;32m    700\u001b[0m \u001b[38;5;28;01mdef\u001b[39;00m\u001b[38;5;250m \u001b[39m\u001b[38;5;21minvalid_creator_scope\u001b[39m(\u001b[38;5;241m*\u001b[39munused_args, \u001b[38;5;241m*\u001b[39m\u001b[38;5;241m*\u001b[39munused_kwds):\n\u001b[1;32m    701\u001b[0m \u001b[38;5;250m  \u001b[39m\u001b[38;5;124;03m\"\"\"Disables variable creation.\"\"\"\u001b[39;00m\n",
      "File \u001b[0;32m~/miniconda3/envs/ml-ops/lib/python3.12/site-packages/tensorflow/python/eager/polymorphic_function/tracing_compilation.py:178\u001b[0m, in \u001b[0;36mtrace_function\u001b[0;34m(args, kwargs, tracing_options)\u001b[0m\n\u001b[1;32m    175\u001b[0m     args \u001b[38;5;241m=\u001b[39m tracing_options\u001b[38;5;241m.\u001b[39minput_signature\n\u001b[1;32m    176\u001b[0m     kwargs \u001b[38;5;241m=\u001b[39m {}\n\u001b[0;32m--> 178\u001b[0m   concrete_function \u001b[38;5;241m=\u001b[39m \u001b[43m_maybe_define_function\u001b[49m\u001b[43m(\u001b[49m\n\u001b[1;32m    179\u001b[0m \u001b[43m      \u001b[49m\u001b[43margs\u001b[49m\u001b[43m,\u001b[49m\u001b[43m \u001b[49m\u001b[43mkwargs\u001b[49m\u001b[43m,\u001b[49m\u001b[43m \u001b[49m\u001b[43mtracing_options\u001b[49m\n\u001b[1;32m    180\u001b[0m \u001b[43m  \u001b[49m\u001b[43m)\u001b[49m\n\u001b[1;32m    182\u001b[0m \u001b[38;5;28;01mif\u001b[39;00m \u001b[38;5;129;01mnot\u001b[39;00m tracing_options\u001b[38;5;241m.\u001b[39mbind_graph_to_function:\n\u001b[1;32m    183\u001b[0m   concrete_function\u001b[38;5;241m.\u001b[39m_garbage_collector\u001b[38;5;241m.\u001b[39mrelease()  \u001b[38;5;66;03m# pylint: disable=protected-access\u001b[39;00m\n",
      "File \u001b[0;32m~/miniconda3/envs/ml-ops/lib/python3.12/site-packages/tensorflow/python/eager/polymorphic_function/tracing_compilation.py:283\u001b[0m, in \u001b[0;36m_maybe_define_function\u001b[0;34m(args, kwargs, tracing_options)\u001b[0m\n\u001b[1;32m    281\u001b[0m \u001b[38;5;28;01melse\u001b[39;00m:\n\u001b[1;32m    282\u001b[0m   target_func_type \u001b[38;5;241m=\u001b[39m lookup_func_type\n\u001b[0;32m--> 283\u001b[0m concrete_function \u001b[38;5;241m=\u001b[39m \u001b[43m_create_concrete_function\u001b[49m\u001b[43m(\u001b[49m\n\u001b[1;32m    284\u001b[0m \u001b[43m    \u001b[49m\u001b[43mtarget_func_type\u001b[49m\u001b[43m,\u001b[49m\u001b[43m \u001b[49m\u001b[43mlookup_func_context\u001b[49m\u001b[43m,\u001b[49m\u001b[43m \u001b[49m\u001b[43mfunc_graph\u001b[49m\u001b[43m,\u001b[49m\u001b[43m \u001b[49m\u001b[43mtracing_options\u001b[49m\n\u001b[1;32m    285\u001b[0m \u001b[43m\u001b[49m\u001b[43m)\u001b[49m\n\u001b[1;32m    287\u001b[0m \u001b[38;5;28;01mif\u001b[39;00m tracing_options\u001b[38;5;241m.\u001b[39mfunction_cache \u001b[38;5;129;01mis\u001b[39;00m \u001b[38;5;129;01mnot\u001b[39;00m \u001b[38;5;28;01mNone\u001b[39;00m:\n\u001b[1;32m    288\u001b[0m   tracing_options\u001b[38;5;241m.\u001b[39mfunction_cache\u001b[38;5;241m.\u001b[39madd(\n\u001b[1;32m    289\u001b[0m       concrete_function, current_func_context\n\u001b[1;32m    290\u001b[0m   )\n",
      "File \u001b[0;32m~/miniconda3/envs/ml-ops/lib/python3.12/site-packages/tensorflow/python/eager/polymorphic_function/tracing_compilation.py:303\u001b[0m, in \u001b[0;36m_create_concrete_function\u001b[0;34m(function_type, type_context, func_graph, tracing_options)\u001b[0m\n\u001b[1;32m    299\u001b[0m placeholder_context \u001b[38;5;241m=\u001b[39m trace_type\u001b[38;5;241m.\u001b[39mInternalPlaceholderContext(\n\u001b[1;32m    300\u001b[0m     func_graph, type_context\u001b[38;5;241m.\u001b[39mget_placeholder_mapping()\n\u001b[1;32m    301\u001b[0m )\n\u001b[1;32m    302\u001b[0m \u001b[38;5;28;01mwith\u001b[39;00m func_graph\u001b[38;5;241m.\u001b[39mas_default():\n\u001b[0;32m--> 303\u001b[0m   placeholder_bound_args \u001b[38;5;241m=\u001b[39m \u001b[43mfunction_type\u001b[49m\u001b[38;5;241;43m.\u001b[39;49m\u001b[43mplaceholder_arguments\u001b[49m\u001b[43m(\u001b[49m\n\u001b[1;32m    304\u001b[0m \u001b[43m      \u001b[49m\u001b[43mplaceholder_context\u001b[49m\n\u001b[1;32m    305\u001b[0m \u001b[43m  \u001b[49m\u001b[43m)\u001b[49m\n\u001b[1;32m    307\u001b[0m disable_acd \u001b[38;5;241m=\u001b[39m tracing_options\u001b[38;5;241m.\u001b[39mattributes \u001b[38;5;129;01mand\u001b[39;00m tracing_options\u001b[38;5;241m.\u001b[39mattributes\u001b[38;5;241m.\u001b[39mget(\n\u001b[1;32m    308\u001b[0m     attributes_lib\u001b[38;5;241m.\u001b[39mDISABLE_ACD, \u001b[38;5;28;01mFalse\u001b[39;00m\n\u001b[1;32m    309\u001b[0m )\n\u001b[1;32m    310\u001b[0m traced_func_graph \u001b[38;5;241m=\u001b[39m func_graph_module\u001b[38;5;241m.\u001b[39mfunc_graph_from_py_func(\n\u001b[1;32m    311\u001b[0m     tracing_options\u001b[38;5;241m.\u001b[39mname,\n\u001b[1;32m    312\u001b[0m     tracing_options\u001b[38;5;241m.\u001b[39mpython_function,\n\u001b[0;32m   (...)\u001b[0m\n\u001b[1;32m    319\u001b[0m     create_placeholders\u001b[38;5;241m=\u001b[39m\u001b[38;5;28;01mFalse\u001b[39;00m,\n\u001b[1;32m    320\u001b[0m )\n",
      "File \u001b[0;32m~/miniconda3/envs/ml-ops/lib/python3.12/site-packages/tensorflow/core/function/polymorphism/function_type.py:356\u001b[0m, in \u001b[0;36mFunctionType.placeholder_arguments\u001b[0;34m(self, placeholder_context)\u001b[0m\n\u001b[1;32m    353\u001b[0m     \u001b[38;5;28;01mraise\u001b[39;00m \u001b[38;5;167;01mValueError\u001b[39;00m(\u001b[38;5;124m\"\u001b[39m\u001b[38;5;124mCan not generate placeholder value for \u001b[39m\u001b[38;5;124m\"\u001b[39m\n\u001b[1;32m    354\u001b[0m                      \u001b[38;5;124m\"\u001b[39m\u001b[38;5;124mpartially defined function type.\u001b[39m\u001b[38;5;124m\"\u001b[39m)\n\u001b[1;32m    355\u001b[0m   placeholder_context\u001b[38;5;241m.\u001b[39mupdate_naming_scope(parameter\u001b[38;5;241m.\u001b[39mname)\n\u001b[0;32m--> 356\u001b[0m   arguments[parameter\u001b[38;5;241m.\u001b[39mname] \u001b[38;5;241m=\u001b[39m \u001b[43mparameter\u001b[49m\u001b[38;5;241;43m.\u001b[39;49m\u001b[43mtype_constraint\u001b[49m\u001b[38;5;241;43m.\u001b[39;49m\u001b[43mplaceholder_value\u001b[49m\u001b[43m(\u001b[49m\n\u001b[1;32m    357\u001b[0m \u001b[43m      \u001b[49m\u001b[43mplaceholder_context\u001b[49m\u001b[43m)\u001b[49m\n\u001b[1;32m    359\u001b[0m \u001b[38;5;28;01mreturn\u001b[39;00m inspect\u001b[38;5;241m.\u001b[39mBoundArguments(\u001b[38;5;28mself\u001b[39m, arguments)\n",
      "File \u001b[0;32m~/miniconda3/envs/ml-ops/lib/python3.12/site-packages/tensorflow/python/framework/tensor.py:1021\u001b[0m, in \u001b[0;36mTensorSpec.placeholder_value\u001b[0;34m(self, placeholder_context)\u001b[0m\n\u001b[1;32m   1019\u001b[0m     placeholder \u001b[38;5;241m=\u001b[39m \u001b[38;5;28mself\u001b[39m\u001b[38;5;241m.\u001b[39m_graph_placeholder(context_graph, name\u001b[38;5;241m=\u001b[39mname)\n\u001b[1;32m   1020\u001b[0m \u001b[38;5;28;01melse\u001b[39;00m:\n\u001b[0;32m-> 1021\u001b[0m   placeholder \u001b[38;5;241m=\u001b[39m \u001b[38;5;28;43mself\u001b[39;49m\u001b[38;5;241;43m.\u001b[39;49m\u001b[43m_graph_placeholder\u001b[49m\u001b[43m(\u001b[49m\u001b[43mcontext_graph\u001b[49m\u001b[43m,\u001b[49m\u001b[43m \u001b[49m\u001b[43mname\u001b[49m\u001b[38;5;241;43m=\u001b[39;49m\u001b[43mname\u001b[49m\u001b[43m)\u001b[49m\n\u001b[1;32m   1023\u001b[0m \u001b[38;5;28;01mif\u001b[39;00m name \u001b[38;5;129;01mis\u001b[39;00m \u001b[38;5;129;01mnot\u001b[39;00m \u001b[38;5;28;01mNone\u001b[39;00m:\n\u001b[1;32m   1024\u001b[0m   \u001b[38;5;66;03m# Record the requested/user-specified name in case it's different than\u001b[39;00m\n\u001b[1;32m   1025\u001b[0m   \u001b[38;5;66;03m# the uniquified name, for validation when exporting signatures.\u001b[39;00m\n\u001b[1;32m   1026\u001b[0m   placeholder\u001b[38;5;241m.\u001b[39mop\u001b[38;5;241m.\u001b[39m_set_attr(  \u001b[38;5;66;03m# pylint: disable=protected-access\u001b[39;00m\n\u001b[1;32m   1027\u001b[0m       \u001b[38;5;124m\"\u001b[39m\u001b[38;5;124m_user_specified_name\u001b[39m\u001b[38;5;124m\"\u001b[39m,\n\u001b[1;32m   1028\u001b[0m       attr_value_pb2\u001b[38;5;241m.\u001b[39mAttrValue(s\u001b[38;5;241m=\u001b[39mcompat\u001b[38;5;241m.\u001b[39mas_bytes(name)))\n",
      "File \u001b[0;32m~/miniconda3/envs/ml-ops/lib/python3.12/site-packages/tensorflow/python/framework/tensor.py:1059\u001b[0m, in \u001b[0;36mTensorSpec._graph_placeholder\u001b[0;34m(self, graph, name)\u001b[0m\n\u001b[1;32m   1057\u001b[0m attrs \u001b[38;5;241m=\u001b[39m {\u001b[38;5;124m\"\u001b[39m\u001b[38;5;124mdtype\u001b[39m\u001b[38;5;124m\"\u001b[39m: dtype_value, \u001b[38;5;124m\"\u001b[39m\u001b[38;5;124mshape\u001b[39m\u001b[38;5;124m\"\u001b[39m: shape}\n\u001b[1;32m   1058\u001b[0m \u001b[38;5;28;01mtry\u001b[39;00m:\n\u001b[0;32m-> 1059\u001b[0m   op \u001b[38;5;241m=\u001b[39m \u001b[43mgraph\u001b[49m\u001b[38;5;241;43m.\u001b[39;49m\u001b[43m_create_op_internal\u001b[49m\u001b[43m(\u001b[49m\u001b[43m  \u001b[49m\u001b[38;5;66;43;03m# pylint: disable=protected-access\u001b[39;49;00m\n\u001b[1;32m   1060\u001b[0m \u001b[43m      \u001b[49m\u001b[38;5;124;43m\"\u001b[39;49m\u001b[38;5;124;43mPlaceholder\u001b[39;49m\u001b[38;5;124;43m\"\u001b[39;49m\u001b[43m,\u001b[49m\u001b[43m \u001b[49m\u001b[43m[\u001b[49m\u001b[43m]\u001b[49m\u001b[43m,\u001b[49m\u001b[43m \u001b[49m\u001b[43m[\u001b[49m\u001b[43mdtype\u001b[49m\u001b[43m]\u001b[49m\u001b[43m,\u001b[49m\u001b[43m \u001b[49m\u001b[43minput_types\u001b[49m\u001b[38;5;241;43m=\u001b[39;49m\u001b[43m[\u001b[49m\u001b[43m]\u001b[49m\u001b[43m,\u001b[49m\n\u001b[1;32m   1061\u001b[0m \u001b[43m      \u001b[49m\u001b[43mattrs\u001b[49m\u001b[38;5;241;43m=\u001b[39;49m\u001b[43mattrs\u001b[49m\u001b[43m,\u001b[49m\u001b[43m \u001b[49m\u001b[43mname\u001b[49m\u001b[38;5;241;43m=\u001b[39;49m\u001b[43mname\u001b[49m\u001b[43m)\u001b[49m\n\u001b[1;32m   1062\u001b[0m \u001b[38;5;28;01mexcept\u001b[39;00m \u001b[38;5;167;01mValueError\u001b[39;00m \u001b[38;5;28;01mas\u001b[39;00m e:\n\u001b[1;32m   1063\u001b[0m   \u001b[38;5;66;03m# TODO(b/262413656) Sometimes parameter names are not valid op names, in\u001b[39;00m\n\u001b[1;32m   1064\u001b[0m   \u001b[38;5;66;03m# which case an unnamed placeholder is created instead. Update this logic\u001b[39;00m\n\u001b[1;32m   1065\u001b[0m   \u001b[38;5;66;03m# to sanitize the name instead of falling back on unnamed placeholders.\u001b[39;00m\n\u001b[1;32m   1066\u001b[0m   logging\u001b[38;5;241m.\u001b[39mwarning(e)\n",
      "File \u001b[0;32m~/miniconda3/envs/ml-ops/lib/python3.12/site-packages/tensorflow/python/framework/func_graph.py:670\u001b[0m, in \u001b[0;36mFuncGraph._create_op_internal\u001b[0;34m(self, op_type, inputs, dtypes, input_types, name, attrs, op_def, compute_device)\u001b[0m\n\u001b[1;32m    668\u001b[0m   inp \u001b[38;5;241m=\u001b[39m \u001b[38;5;28mself\u001b[39m\u001b[38;5;241m.\u001b[39mcapture(inp)\n\u001b[1;32m    669\u001b[0m   captured_inputs\u001b[38;5;241m.\u001b[39mappend(inp)\n\u001b[0;32m--> 670\u001b[0m \u001b[38;5;28;01mreturn\u001b[39;00m \u001b[38;5;28;43msuper\u001b[39;49m\u001b[43m(\u001b[49m\u001b[43m)\u001b[49m\u001b[38;5;241;43m.\u001b[39;49m\u001b[43m_create_op_internal\u001b[49m\u001b[43m(\u001b[49m\u001b[43m  \u001b[49m\u001b[38;5;66;43;03m# pylint: disable=protected-access\u001b[39;49;00m\n\u001b[1;32m    671\u001b[0m \u001b[43m    \u001b[49m\u001b[43mop_type\u001b[49m\u001b[43m,\u001b[49m\u001b[43m \u001b[49m\u001b[43mcaptured_inputs\u001b[49m\u001b[43m,\u001b[49m\u001b[43m \u001b[49m\u001b[43mdtypes\u001b[49m\u001b[43m,\u001b[49m\u001b[43m \u001b[49m\u001b[43minput_types\u001b[49m\u001b[43m,\u001b[49m\u001b[43m \u001b[49m\u001b[43mname\u001b[49m\u001b[43m,\u001b[49m\u001b[43m \u001b[49m\u001b[43mattrs\u001b[49m\u001b[43m,\u001b[49m\u001b[43m \u001b[49m\u001b[43mop_def\u001b[49m\u001b[43m,\u001b[49m\n\u001b[1;32m    672\u001b[0m \u001b[43m    \u001b[49m\u001b[43mcompute_device\u001b[49m\u001b[43m)\u001b[49m\n",
      "File \u001b[0;32m~/miniconda3/envs/ml-ops/lib/python3.12/site-packages/tensorflow/python/framework/ops.py:2682\u001b[0m, in \u001b[0;36mGraph._create_op_internal\u001b[0;34m(self, op_type, inputs, dtypes, input_types, name, attrs, op_def, compute_device)\u001b[0m\n\u001b[1;32m   2679\u001b[0m \u001b[38;5;66;03m# _create_op_helper mutates the new Operation. `_mutation_lock` ensures a\u001b[39;00m\n\u001b[1;32m   2680\u001b[0m \u001b[38;5;66;03m# Session.run call cannot occur between creating and mutating the op.\u001b[39;00m\n\u001b[1;32m   2681\u001b[0m \u001b[38;5;28;01mwith\u001b[39;00m \u001b[38;5;28mself\u001b[39m\u001b[38;5;241m.\u001b[39m_mutation_lock():\n\u001b[0;32m-> 2682\u001b[0m   ret \u001b[38;5;241m=\u001b[39m \u001b[43mOperation\u001b[49m\u001b[38;5;241;43m.\u001b[39;49m\u001b[43mfrom_node_def\u001b[49m\u001b[43m(\u001b[49m\n\u001b[1;32m   2683\u001b[0m \u001b[43m      \u001b[49m\u001b[43mnode_def\u001b[49m\u001b[43m,\u001b[49m\n\u001b[1;32m   2684\u001b[0m \u001b[43m      \u001b[49m\u001b[38;5;28;43mself\u001b[39;49m\u001b[43m,\u001b[49m\n\u001b[1;32m   2685\u001b[0m \u001b[43m      \u001b[49m\u001b[43minputs\u001b[49m\u001b[38;5;241;43m=\u001b[39;49m\u001b[43minputs\u001b[49m\u001b[43m,\u001b[49m\n\u001b[1;32m   2686\u001b[0m \u001b[43m      \u001b[49m\u001b[43moutput_types\u001b[49m\u001b[38;5;241;43m=\u001b[39;49m\u001b[43mdtypes\u001b[49m\u001b[43m,\u001b[49m\n\u001b[1;32m   2687\u001b[0m \u001b[43m      \u001b[49m\u001b[43mcontrol_inputs\u001b[49m\u001b[38;5;241;43m=\u001b[39;49m\u001b[43mcontrol_inputs\u001b[49m\u001b[43m,\u001b[49m\n\u001b[1;32m   2688\u001b[0m \u001b[43m      \u001b[49m\u001b[43minput_types\u001b[49m\u001b[38;5;241;43m=\u001b[39;49m\u001b[43minput_types\u001b[49m\u001b[43m,\u001b[49m\n\u001b[1;32m   2689\u001b[0m \u001b[43m      \u001b[49m\u001b[43moriginal_op\u001b[49m\u001b[38;5;241;43m=\u001b[39;49m\u001b[38;5;28;43mself\u001b[39;49m\u001b[38;5;241;43m.\u001b[39;49m\u001b[43m_default_original_op\u001b[49m\u001b[43m,\u001b[49m\n\u001b[1;32m   2690\u001b[0m \u001b[43m      \u001b[49m\u001b[43mop_def\u001b[49m\u001b[38;5;241;43m=\u001b[39;49m\u001b[43mop_def\u001b[49m\u001b[43m,\u001b[49m\n\u001b[1;32m   2691\u001b[0m \u001b[43m  \u001b[49m\u001b[43m)\u001b[49m\n\u001b[1;32m   2692\u001b[0m   \u001b[38;5;28mself\u001b[39m\u001b[38;5;241m.\u001b[39m_create_op_helper(ret, compute_device\u001b[38;5;241m=\u001b[39mcompute_device)\n\u001b[1;32m   2693\u001b[0m \u001b[38;5;28;01mreturn\u001b[39;00m ret\n",
      "File \u001b[0;32m~/miniconda3/envs/ml-ops/lib/python3.12/site-packages/tensorflow/python/framework/ops.py:1178\u001b[0m, in \u001b[0;36mOperation.from_node_def\u001b[0;34m(***failed resolving arguments***)\u001b[0m\n\u001b[1;32m   1176\u001b[0m \u001b[38;5;66;03m# Initialize c_op from node_def and other inputs\u001b[39;00m\n\u001b[1;32m   1177\u001b[0m c_op \u001b[38;5;241m=\u001b[39m _create_c_op(g, node_def, inputs, control_input_ops, op_def\u001b[38;5;241m=\u001b[39mop_def)\n\u001b[0;32m-> 1178\u001b[0m \u001b[38;5;28mself\u001b[39m \u001b[38;5;241m=\u001b[39m \u001b[43mOperation\u001b[49m\u001b[43m(\u001b[49m\u001b[43mc_op\u001b[49m\u001b[43m,\u001b[49m\u001b[43m \u001b[49m\u001b[43mSymbolicTensor\u001b[49m\u001b[43m)\u001b[49m\n\u001b[1;32m   1179\u001b[0m \u001b[38;5;28mself\u001b[39m\u001b[38;5;241m.\u001b[39m_init(g)\n\u001b[1;32m   1181\u001b[0m \u001b[38;5;28mself\u001b[39m\u001b[38;5;241m.\u001b[39m_original_op \u001b[38;5;241m=\u001b[39m original_op\n",
      "\u001b[0;31mKeyboardInterrupt\u001b[0m: "
     ]
    }
   ],
   "source": [
    "import numpy as np\n",
    "from sklearn.metrics import confusion_matrix\n",
    "import seaborn as sns\n",
    "\n",
    "#모델 평가: validation dataset에 대한 정확도 계산}\n",
    "val_loss, val_accuracy = model.evaluate(val_dataset)\n",
    "print(f\"Validation Accuracy: {val_accuracy * 100:.2f}%\")\n",
    "\n",
    "\n",
    "#예측 및 실제 레이블을 추출하여 Confusion Matrix 계산\n",
    "y_true = []\n",
    "y_pred = []\n",
    "\n",
    "#validation dataset에 대해 예측 수행\n",
    "for images, labels in val_dataset:\n",
    "    predictions = model.predict(images, verbose=0)#로그 출력 생략verbose=0\n",
    "    # print(predictions)\n",
    "    # y_true.extend(labels)  #실제 레이블\n",
    "    # y_pred.extend(np.round(predictions).astype(int))  #예측 레이블 (0 또는 1로 변환)\n",
    "\n",
    "# #Confusion Matrix 계산\n",
    "# cm = confusion_matrix(y_true, y_pred)\n",
    "\n",
    "# #Confusion Matrix 시각화\n",
    "# plt.figure(figsize=(6, 6))\n",
    "# sns.heatmap(cm, annot=True, fmt='d', cmap='Blues', xticklabels=CONFIGURATION[\"CLASS_NAMES\"], yticklabels=CONFIGURATION[\"CLASS_NAMES\"])\n",
    "# plt.xlabel('Predicted')\n",
    "# plt.ylabel('True')\n",
    "# plt.title('Confusion Matrix')\n",
    "# plt.show()\n",
    "\n",
    "# #Confusion Matrix 출력\n",
    "# print(\"Confusion Matrix:\")\n",
    "# print(cm)"
   ]
  },
  {
   "cell_type": "markdown",
   "metadata": {},
   "source": [
    "## 자체 데이터셋에 대하여 테스트"
   ]
  },
  {
   "cell_type": "markdown",
   "metadata": {},
   "source": [
    "### 데이터셋 준비"
   ]
  },
  {
   "cell_type": "code",
   "execution_count": 20,
   "metadata": {},
   "outputs": [],
   "source": [
    "# from PIL import Image\n",
    "# import os\n",
    "\n",
    "# MAX_PIXELS = 178956970  # 허용되는 최대 픽셀 크기 (Pillow 기본값)\n",
    "# VALID_EXTENSIONS = {\".jpg\", \".jpeg\", \".png\"}\n",
    "# def remove_invalid_images(directory):\n",
    "#     for root, _, files in os.walk(directory):\n",
    "#         for file in files:\n",
    "#             file_path = os.path.join(root, file)\n",
    "#             if not any(file.lower().endswith(ext) for ext in VALID_EXTENSIONS):\n",
    "#                 continue  # 유효한 확장자가 아니면 건너뜀\n",
    "#             try:\n",
    "#                 img = Image.open(file_path)\n",
    "#                 img.verify()  # 손상 여부 확인\n",
    "#                 if img.size[0] * img.size[1] > MAX_PIXELS:\n",
    "#                     print(f\"Removing oversized image: {file_path}\")\n",
    "#                     os.remove(file_path)\n",
    "#             except (IOError, SyntaxError, Image.DecompressionBombError):\n",
    "#                 print(f\"Removing invalid image: {file_path}\")\n",
    "#                 os.remove(file_path)\n",
    "\n",
    "# remove_invalid_images(fake_dir)\n",
    "# remove_invalid_images(real_dir)"
   ]
  },
  {
   "cell_type": "markdown",
   "metadata": {},
   "source": [
    "### 평가 수행"
   ]
  },
  {
   "cell_type": "code",
   "execution_count": 21,
   "metadata": {},
   "outputs": [],
   "source": [
    "import os\n",
    "import numpy as np\n",
    "import matplotlib.pyplot as plt\n",
    "import seaborn as sns\n",
    "import tensorflow as tf\n",
    "from tensorflow.keras.models import load_model\n",
    "from tensorflow.keras.preprocessing.image import ImageDataGenerator\n",
    "from sklearn.metrics import confusion_matrix, classification_report\n",
    "\n",
    "# 데이터셋 경로\n",
    "dataset_dir = \"data/gen_without_envir\"\n",
    "fake_dir = \"data/gen_without_envir/fake\"\n",
    "real_dir = \"data/gen_without_envir/real\""
   ]
  },
  {
   "cell_type": "code",
   "execution_count": 22,
   "metadata": {},
   "outputs": [
    {
     "name": "stdout",
     "output_type": "stream",
     "text": [
      "Fake: 270, Real: 133\n"
     ]
    }
   ],
   "source": [
    "fake_count = len(os.listdir(fake_dir)) if os.path.exists(fake_dir) else 0\n",
    "real_count = len(os.listdir(real_dir)) if os.path.exists(real_dir) else 0\n",
    "\n",
    "print(f\"Fake: {fake_count}, Real: {real_count}\")"
   ]
  },
  {
   "cell_type": "code",
   "execution_count": 23,
   "metadata": {},
   "outputs": [
    {
     "name": "stderr",
     "output_type": "stream",
     "text": [
      "WARNING:absl:Compiled the loaded model, but the compiled metrics have yet to be built. `model.compile_metrics` will be empty until you train or evaluate the model.\n"
     ]
    }
   ],
   "source": [
    "# 모델 로드\n",
    "model_path = \"model/model_v5.h5\"\n",
    "model = load_model(model_path, compile=True)"
   ]
  },
  {
   "cell_type": "code",
   "execution_count": 24,
   "metadata": {},
   "outputs": [
    {
     "name": "stdout",
     "output_type": "stream",
     "text": [
      "Found 398 images belonging to 2 classes.\n",
      "\u001b[1m398/398\u001b[0m \u001b[32m━━━━━━━━━━━━━━━━━━━━\u001b[0m\u001b[37m\u001b[0m \u001b[1m18s\u001b[0m 21ms/step\n",
      "[[8.38019371e-01]\n",
      " [8.03517878e-01]\n",
      " [7.88213015e-01]\n",
      " [6.77662790e-01]\n",
      " [1.60534129e-01]\n",
      " [8.77469033e-02]\n",
      " [5.93383685e-02]\n",
      " [5.83548769e-02]\n",
      " [4.36208211e-02]\n",
      " [9.33854520e-01]\n",
      " [9.59848642e-01]\n",
      " [9.54383075e-01]\n",
      " [9.98929918e-01]\n",
      " [9.49314892e-01]\n",
      " [9.64959502e-01]\n",
      " [5.28103709e-02]\n",
      " [5.37581034e-02]\n",
      " [2.28113964e-01]\n",
      " [2.08019674e-01]\n",
      " [8.31587732e-01]\n",
      " [1.12975128e-02]\n",
      " [3.90181929e-01]\n",
      " [4.57148126e-04]\n",
      " [8.72963443e-02]\n",
      " [4.08127569e-02]\n",
      " [4.63384502e-02]\n",
      " [2.31949687e-01]\n",
      " [1.32357344e-01]\n",
      " [3.44468415e-01]\n",
      " [3.98841649e-01]\n",
      " [7.42092356e-02]\n",
      " [6.99538514e-02]\n",
      " [3.31168622e-01]\n",
      " [1.15003683e-01]\n",
      " [2.28055596e-01]\n",
      " [4.29687500e-01]\n",
      " [1.60038605e-01]\n",
      " [5.45361778e-03]\n",
      " [9.92821395e-01]\n",
      " [3.44880596e-02]\n",
      " [2.34002713e-02]\n",
      " [5.65020978e-01]\n",
      " [4.24093641e-02]\n",
      " [1.96195617e-02]\n",
      " [4.85958159e-02]\n",
      " [9.98770654e-01]\n",
      " [9.93182242e-01]\n",
      " [3.12930793e-01]\n",
      " [2.90063441e-01]\n",
      " [7.74335936e-02]\n",
      " [6.52248098e-04]\n",
      " [9.65002120e-01]\n",
      " [5.19532204e-01]\n",
      " [4.25937653e-01]\n",
      " [8.86289597e-01]\n",
      " [1.79040328e-01]\n",
      " [4.05245155e-01]\n",
      " [9.55235541e-01]\n",
      " [5.72938053e-03]\n",
      " [2.94035137e-01]\n",
      " [2.20809667e-03]\n",
      " [8.16376269e-01]\n",
      " [2.02997059e-01]\n",
      " [7.63209462e-01]\n",
      " [6.37679160e-01]\n",
      " [1.00441173e-01]\n",
      " [9.53526556e-01]\n",
      " [7.40666509e-01]\n",
      " [9.56563234e-01]\n",
      " [5.70371151e-01]\n",
      " [1.38167813e-01]\n",
      " [9.82074440e-01]\n",
      " [5.22751689e-01]\n",
      " [3.07416711e-02]\n",
      " [2.38812059e-01]\n",
      " [4.64404561e-02]\n",
      " [8.91568482e-01]\n",
      " [9.87136126e-01]\n",
      " [9.51722980e-01]\n",
      " [2.53539011e-02]\n",
      " [1.80393830e-01]\n",
      " [2.86053985e-01]\n",
      " [6.29934013e-01]\n",
      " [9.92977679e-01]\n",
      " [9.62085605e-01]\n",
      " [9.72980499e-01]\n",
      " [3.77085567e-01]\n",
      " [7.84957767e-01]\n",
      " [2.37187266e-01]\n",
      " [9.76090789e-01]\n",
      " [3.72942954e-01]\n",
      " [6.55233145e-01]\n",
      " [2.31158271e-01]\n",
      " [2.41558068e-02]\n",
      " [5.41266263e-01]\n",
      " [4.19282526e-01]\n",
      " [4.59660850e-02]\n",
      " [1.80622712e-01]\n",
      " [1.25081316e-01]\n",
      " [7.62855470e-01]\n",
      " [5.78881847e-03]\n",
      " [5.90760149e-02]\n",
      " [2.86078423e-01]\n",
      " [7.61561617e-02]\n",
      " [2.36840606e-01]\n",
      " [2.68124249e-02]\n",
      " [9.99310374e-01]\n",
      " [9.54553246e-01]\n",
      " [3.72509092e-01]\n",
      " [8.13740790e-01]\n",
      " [1.54602140e-01]\n",
      " [2.40413338e-01]\n",
      " [4.48948778e-02]\n",
      " [4.98834513e-02]\n",
      " [2.79674143e-01]\n",
      " [9.75142866e-02]\n",
      " [6.25425637e-01]\n",
      " [1.38994567e-02]\n",
      " [3.91822159e-02]\n",
      " [7.52401771e-03]\n",
      " [7.71429479e-01]\n",
      " [2.25354299e-01]\n",
      " [1.98354602e-01]\n",
      " [6.37422442e-01]\n",
      " [3.19994003e-01]\n",
      " [7.46419966e-01]\n",
      " [7.78661132e-01]\n",
      " [1.98614955e-01]\n",
      " [9.54147816e-01]\n",
      " [2.12034024e-03]\n",
      " [9.76734579e-01]\n",
      " [2.10254267e-02]\n",
      " [3.90053540e-03]\n",
      " [3.99580039e-03]\n",
      " [1.95769127e-02]\n",
      " [8.38590320e-03]\n",
      " [9.80460942e-01]\n",
      " [7.70246625e-01]\n",
      " [9.01897848e-01]\n",
      " [6.05379045e-03]\n",
      " [5.25135100e-02]\n",
      " [9.79014575e-01]\n",
      " [8.75363350e-01]\n",
      " [2.41135523e-01]\n",
      " [5.71848340e-02]\n",
      " [3.60818475e-01]\n",
      " [1.79642692e-01]\n",
      " [9.63200212e-01]\n",
      " [2.26272956e-01]\n",
      " [3.80100131e-01]\n",
      " [1.03365079e-01]\n",
      " [7.76763558e-02]\n",
      " [2.35509090e-02]\n",
      " [6.57430710e-03]\n",
      " [9.09013599e-02]\n",
      " [2.51218192e-02]\n",
      " [6.84221461e-02]\n",
      " [2.11141258e-02]\n",
      " [4.73654233e-02]\n",
      " [2.39250772e-02]\n",
      " [5.67095697e-01]\n",
      " [9.39709067e-01]\n",
      " [3.59333575e-01]\n",
      " [4.61490661e-01]\n",
      " [6.60689175e-01]\n",
      " [9.99995351e-01]\n",
      " [9.99956846e-01]\n",
      " [4.49411005e-01]\n",
      " [1.40749708e-01]\n",
      " [1.69445008e-01]\n",
      " [2.08437979e-01]\n",
      " [5.96960671e-02]\n",
      " [1.69445008e-01]\n",
      " [1.21045753e-01]\n",
      " [9.14991200e-02]\n",
      " [1.34903297e-01]\n",
      " [2.35068370e-02]\n",
      " [2.91818362e-02]\n",
      " [6.57419935e-02]\n",
      " [9.69742477e-01]\n",
      " [8.04575324e-01]\n",
      " [6.60705864e-01]\n",
      " [9.24980164e-01]\n",
      " [3.15512381e-02]\n",
      " [1.24143183e-01]\n",
      " [6.21672094e-01]\n",
      " [7.33482093e-02]\n",
      " [7.15929968e-03]\n",
      " [5.25988005e-02]\n",
      " [2.18552686e-02]\n",
      " [7.79758245e-02]\n",
      " [8.99179503e-02]\n",
      " [2.56273955e-01]\n",
      " [7.25086108e-02]\n",
      " [2.44893715e-01]\n",
      " [6.55317426e-01]\n",
      " [2.55901575e-01]\n",
      " [5.57156205e-02]\n",
      " [2.14967102e-01]\n",
      " [3.06268901e-01]\n",
      " [2.21358724e-02]\n",
      " [5.56029845e-03]\n",
      " [9.99877691e-01]\n",
      " [9.94160950e-01]\n",
      " [9.99688864e-01]\n",
      " [9.99622941e-01]\n",
      " [8.95480514e-01]\n",
      " [9.99929905e-01]\n",
      " [1.51178509e-01]\n",
      " [9.97350931e-01]\n",
      " [7.73539305e-01]\n",
      " [4.36477631e-01]\n",
      " [2.45934576e-01]\n",
      " [8.67482722e-01]\n",
      " [6.32045716e-02]\n",
      " [1.00122476e-02]\n",
      " [4.11110878e-01]\n",
      " [8.34934950e-01]\n",
      " [6.85653985e-01]\n",
      " [5.83246887e-01]\n",
      " [3.89123023e-01]\n",
      " [3.85139808e-02]\n",
      " [3.14789936e-02]\n",
      " [1.44879464e-02]\n",
      " [6.51870621e-03]\n",
      " [1.40456352e-02]\n",
      " [1.57143045e-02]\n",
      " [1.12030044e-01]\n",
      " [9.65093225e-02]\n",
      " [8.74157324e-02]\n",
      " [1.36324272e-01]\n",
      " [2.69611388e-01]\n",
      " [9.35868323e-01]\n",
      " [9.75940049e-01]\n",
      " [1.61208641e-02]\n",
      " [9.57645714e-01]\n",
      " [6.75151497e-02]\n",
      " [5.03838062e-02]\n",
      " [1.59861341e-01]\n",
      " [2.50282556e-01]\n",
      " [6.94086611e-01]\n",
      " [9.34553027e-01]\n",
      " [7.29417324e-01]\n",
      " [2.62160718e-01]\n",
      " [5.87243699e-02]\n",
      " [3.73000987e-02]\n",
      " [9.58911538e-01]\n",
      " [4.12733316e-01]\n",
      " [9.77864087e-01]\n",
      " [6.49057865e-01]\n",
      " [2.51053512e-01]\n",
      " [1.35883093e-01]\n",
      " [4.26088721e-01]\n",
      " [3.00292343e-01]\n",
      " [1.45087138e-01]\n",
      " [1.81124359e-01]\n",
      " [1.98583975e-01]\n",
      " [3.64646278e-02]\n",
      " [1.95228849e-02]\n",
      " [5.10593550e-03]\n",
      " [8.48234724e-03]\n",
      " [6.90527678e-01]\n",
      " [4.76390302e-01]\n",
      " [4.52292621e-01]\n",
      " [4.60786551e-01]\n",
      " [5.61493933e-01]\n",
      " [9.89690572e-02]\n",
      " [2.05056757e-01]\n",
      " [9.82922435e-01]\n",
      " [9.99483943e-01]\n",
      " [8.53571951e-01]\n",
      " [9.88703132e-01]\n",
      " [9.58212540e-02]\n",
      " [9.39068317e-01]\n",
      " [8.92354026e-02]\n",
      " [9.95428324e-01]\n",
      " [4.32549268e-01]\n",
      " [9.96295869e-01]\n",
      " [9.42552805e-01]\n",
      " [9.99719799e-01]\n",
      " [8.61117303e-01]\n",
      " [7.63068676e-01]\n",
      " [1.95393682e-01]\n",
      " [7.82424808e-01]\n",
      " [7.29914665e-01]\n",
      " [9.99294639e-01]\n",
      " [7.68225729e-01]\n",
      " [9.98472035e-01]\n",
      " [8.04366112e-01]\n",
      " [7.68101573e-01]\n",
      " [9.24816191e-01]\n",
      " [7.06297040e-01]\n",
      " [2.84888864e-01]\n",
      " [1.19919568e-01]\n",
      " [8.71537089e-01]\n",
      " [5.67938447e-01]\n",
      " [5.98135173e-01]\n",
      " [9.99725044e-01]\n",
      " [9.91574228e-01]\n",
      " [9.98397052e-01]\n",
      " [5.35731196e-01]\n",
      " [9.59992766e-01]\n",
      " [3.79753172e-01]\n",
      " [8.98089945e-01]\n",
      " [1.68997869e-01]\n",
      " [9.95330095e-01]\n",
      " [3.29681158e-01]\n",
      " [6.36342287e-01]\n",
      " [9.41261351e-01]\n",
      " [7.40731239e-01]\n",
      " [9.50629771e-01]\n",
      " [1.16124690e-01]\n",
      " [9.74646151e-01]\n",
      " [9.35071185e-02]\n",
      " [2.55739540e-01]\n",
      " [9.82339203e-01]\n",
      " [9.42912936e-01]\n",
      " [1.23065338e-01]\n",
      " [9.51622784e-01]\n",
      " [5.65941334e-01]\n",
      " [7.90981710e-01]\n",
      " [9.71943378e-01]\n",
      " [3.88858259e-01]\n",
      " [9.66325283e-01]\n",
      " [3.33778590e-01]\n",
      " [1.09937415e-01]\n",
      " [6.49033725e-01]\n",
      " [5.17401136e-02]\n",
      " [4.83696386e-02]\n",
      " [9.99372423e-01]\n",
      " [8.67303848e-01]\n",
      " [1.25881851e-01]\n",
      " [2.86278456e-01]\n",
      " [9.78605568e-01]\n",
      " [9.91187036e-01]\n",
      " [9.66268539e-01]\n",
      " [9.19100285e-01]\n",
      " [1.66010633e-01]\n",
      " [1.38075352e-01]\n",
      " [9.57079902e-02]\n",
      " [1.57866962e-02]\n",
      " [2.73146331e-02]\n",
      " [6.73033535e-01]\n",
      " [1.78424597e-01]\n",
      " [7.31520131e-02]\n",
      " [9.98060286e-01]\n",
      " [8.44442993e-02]\n",
      " [9.97030854e-01]\n",
      " [9.99855399e-01]\n",
      " [9.95840728e-01]\n",
      " [9.49352324e-01]\n",
      " [9.47583199e-01]\n",
      " [9.34556782e-01]\n",
      " [9.96927798e-01]\n",
      " [9.99967098e-01]\n",
      " [9.99658585e-01]\n",
      " [9.99560893e-01]\n",
      " [1.69343591e-01]\n",
      " [9.53245282e-01]\n",
      " [8.84847939e-01]\n",
      " [9.83811319e-01]\n",
      " [9.99764264e-01]\n",
      " [9.99583066e-01]\n",
      " [9.99852657e-01]\n",
      " [9.88589942e-01]\n",
      " [4.02399570e-01]\n",
      " [6.96474016e-01]\n",
      " [6.35366797e-01]\n",
      " [9.44202662e-01]\n",
      " [4.31652337e-01]\n",
      " [9.23806071e-01]\n",
      " [9.97262359e-01]\n",
      " [8.09351653e-02]\n",
      " [3.41051608e-01]\n",
      " [9.99972463e-01]\n",
      " [9.59043741e-01]\n",
      " [9.98019695e-01]\n",
      " [5.19066341e-02]\n",
      " [3.08733415e-02]\n",
      " [9.95151639e-01]\n",
      " [9.99967575e-01]\n",
      " [1.36440843e-01]\n",
      " [9.88761246e-01]\n",
      " [8.85331750e-01]\n",
      " [9.31480944e-01]\n",
      " [2.22703487e-01]\n",
      " [9.88756597e-01]\n",
      " [4.71560031e-01]\n",
      " [5.12623265e-02]\n",
      " [1.41544035e-02]\n",
      " [9.87489879e-01]\n",
      " [2.85615802e-01]\n",
      " [9.75812554e-01]\n",
      " [9.23513949e-01]\n",
      " [3.55297267e-01]\n",
      " [2.50910372e-01]\n",
      " [1.13722123e-02]\n",
      " [6.18761837e-01]]\n",
      "Model Accuracy: 0.6583\n"
     ]
    },
    {
     "data": {
      "image/png": "[encoded data removed]",
      "text/plain": [
       "<Figure size 600x500 with 2 Axes>"
      ]
     },
     "metadata": {},
     "output_type": "display_data"
    },
    {
     "name": "stdout",
     "output_type": "stream",
     "text": [
      "\n",
      "Classification Report:\n",
      "              precision    recall  f1-score   support\n",
      "\n",
      "        fake       0.80      0.66      0.72       270\n",
      "        real       0.48      0.66      0.55       128\n",
      "\n",
      "    accuracy                           0.66       398\n",
      "   macro avg       0.64      0.66      0.64       398\n",
      "weighted avg       0.70      0.66      0.67       398\n",
      "\n"
     ]
    }
   ],
   "source": [
    "# 이미지 크기 및 배치 사이즈 설정\n",
    "img_size = (528, 528)  # EfficientNetB6의 입력 크기에 맞게 변경 가능\n",
    "batch_size = 1\n",
    "\n",
    "# 데이터 로더 설정 (test용)\n",
    "datagen = ImageDataGenerator(\n",
    "    preprocessing_function=tf.keras.applications.efficientnet.preprocess_input\n",
    ")\n",
    "\n",
    "test_generator = datagen.flow_from_directory(\n",
    "    dataset_dir,\n",
    "    target_size=img_size,\n",
    "    batch_size=batch_size,\n",
    "    class_mode=\"binary\",  # 이진 분류 (fake vs real)\n",
    "    shuffle= False\n",
    ")\n",
    "\n",
    "# 실제 라벨 가져오기\n",
    "y_true = test_generator.classes  # 0: fake, 1: real\n",
    "#print(y_true)\n",
    "class_names = list(test_generator.class_indices.keys())\n",
    "#print(class_names) #['fake', 'real']\n",
    "#print(test_generator.class_indices)\n",
    "\n",
    "# 예측 수행\n",
    "y_pred_probs = model.predict(test_generator, steps=test_generator.samples)  # 확률값 출력\n",
    "print(y_pred_probs)\n",
    "y_pred = (y_pred_probs > 0.5).astype(int).flatten()  # 0.5 이상이면 1(real), 아니면 0(fake)\n",
    "\n",
    "# 정확도 출력\n",
    "accuracy = np.mean(y_pred == y_true)\n",
    "print(f\"Model Accuracy: {accuracy:.4f}\")\n",
    "\n",
    "# Confusion Matrix 생성\n",
    "cm = confusion_matrix(y_true, y_pred)\n",
    "\n",
    "# Confusion Matrix 시각화\n",
    "plt.figure(figsize=(6, 5))\n",
    "sns.heatmap(cm, annot=True, fmt=\"d\", cmap=\"Blues\", xticklabels=class_names, yticklabels=class_names)\n",
    "plt.xlabel(\"Predicted Label\")\n",
    "plt.ylabel(\"True Label\")\n",
    "plt.title(\"Confusion Matrix\")\n",
    "plt.show()\n",
    "\n",
    "# 분류 보고서 출력\n",
    "print(\"\\nClassification Report:\")\n",
    "print(classification_report(y_true, y_pred, target_names=class_names))\n"
   ]
  },
  {
   "cell_type": "markdown",
   "metadata": {},
   "source": [
    "## 자체 환경 데이터셋 추가 후, 테스트"
   ]
  },
  {
   "cell_type": "markdown",
   "metadata": {
    "id": "0K7briMGE6eR"
   },
   "source": [
    "### 자체 데이터셋 준비"
   ]
  },
  {
   "cell_type": "code",
   "execution_count": 25,
   "metadata": {
    "colab": {
     "base_uri": "https://localhost:8080/"
    },
    "executionInfo": {
     "elapsed": 1488,
     "status": "ok",
     "timestamp": 1740137750775,
     "user": {
      "displayName": "이하은",
      "userId": "06607701604719915973"
     },
     "user_tz": -540
    },
    "id": "mw_7TUhzC-g8",
    "outputId": "d69a26eb-1ac2-4a37-eef2-6bdeb02a52d9"
   },
   "outputs": [
    {
     "name": "stdout",
     "output_type": "stream",
     "text": [
      "Fake: 350, Real: 175\n"
     ]
    }
   ],
   "source": [
    "import os\n",
    "\n",
    "dataset_dir = \"data/generated_dataset/labeled\"\n",
    "fake_dir = os.path.join(dataset_dir, \"fake\")\n",
    "real_dir = os.path.join(dataset_dir, \"real\")\n",
    "\n",
    "fake_count = len(os.listdir(fake_dir)) if os.path.exists(fake_dir) else 0\n",
    "real_count = len(os.listdir(real_dir)) if os.path.exists(real_dir) else 0\n",
    "\n",
    "print(f\"Fake: {fake_count}, Real: {real_count}\")\n"
   ]
  },
  {
   "cell_type": "markdown",
   "metadata": {
    "id": "uAqmLRYiTtSR"
   },
   "source": [
    "### 자체데이터 평가 수행"
   ]
  },
  {
   "cell_type": "code",
   "execution_count": 26,
   "metadata": {
    "executionInfo": {
     "elapsed": 13,
     "status": "ok",
     "timestamp": 1740143978678,
     "user": {
      "displayName": "이하은",
      "userId": "06607701604719915973"
     },
     "user_tz": -540
    },
    "id": "FLRCxx5m_Hnb"
   },
   "outputs": [],
   "source": [
    "import os\n",
    "import numpy as np\n",
    "import matplotlib.pyplot as plt\n",
    "import seaborn as sns\n",
    "from tensorflow.keras.models import load_model\n",
    "from tensorflow.keras.preprocessing.image import ImageDataGenerator\n",
    "from sklearn.metrics import confusion_matrix, classification_report\n",
    "\n",
    "# 데이터셋 경로\n",
    "dataset_dir = \"data/generated_dataset/labeled\"\n",
    "fake_dir = \"data/generated_dataset/labeled/fake\"\n",
    "real_dir = \"data/generated_dataset/labeled/real\""
   ]
  },
  {
   "cell_type": "code",
   "execution_count": 27,
   "metadata": {
    "colab": {
     "base_uri": "https://localhost:8080/"
    },
    "executionInfo": {
     "elapsed": 34,
     "status": "ok",
     "timestamp": 1740143978730,
     "user": {
      "displayName": "이하은",
      "userId": "06607701604719915973"
     },
     "user_tz": -540
    },
    "id": "zMHYX4VgmnTl",
    "outputId": "0dc2eda6-0aa3-4cef-954c-8dbc5fa12248"
   },
   "outputs": [
    {
     "name": "stdout",
     "output_type": "stream",
     "text": [
      "Fake: 350, Real: 175\n"
     ]
    }
   ],
   "source": [
    "fake_count = len(os.listdir(fake_dir)) if os.path.exists(fake_dir) else 0\n",
    "real_count = len(os.listdir(real_dir)) if os.path.exists(real_dir) else 0\n",
    "\n",
    "print(f\"Fake: {fake_count}, Real: {real_count}\")"
   ]
  },
  {
   "cell_type": "code",
   "execution_count": 28,
   "metadata": {
    "colab": {
     "base_uri": "https://localhost:8080/"
    },
    "executionInfo": {
     "elapsed": 4612,
     "status": "ok",
     "timestamp": 1740143097995,
     "user": {
      "displayName": "이하은",
      "userId": "06607701604719915973"
     },
     "user_tz": -540
    },
    "id": "3sYELdsPFDaE",
    "outputId": "21e2cdaa-6356-4fa3-a30d-2da4d6113ae9"
   },
   "outputs": [
    {
     "name": "stderr",
     "output_type": "stream",
     "text": [
      "WARNING:absl:Compiled the loaded model, but the compiled metrics have yet to be built. `model.compile_metrics` will be empty until you train or evaluate the model.\n"
     ]
    }
   ],
   "source": [
    "# 모델 로드\n",
    "model_path = \"model/model_v5.h5\"\n",
    "model = load_model(model_path)"
   ]
  },
  {
   "cell_type": "code",
   "execution_count": 29,
   "metadata": {
    "colab": {
     "base_uri": "https://localhost:8080/",
     "height": 1000
    },
    "executionInfo": {
     "elapsed": 13833,
     "status": "ok",
     "timestamp": 1740144714670,
     "user": {
      "displayName": "이하은",
      "userId": "06607701604719915973"
     },
     "user_tz": -540
    },
    "id": "uPQw4aklTxvA",
    "outputId": "989f5859-0719-40a9-cea2-93f31923c2a0"
   },
   "outputs": [
    {
     "name": "stdout",
     "output_type": "stream",
     "text": [
      "Found 520 images belonging to 2 classes.\n"
     ]
    },
    {
     "name": "stderr",
     "output_type": "stream",
     "text": [
      "/home/jangminoh_2/miniconda3/envs/ml-ops/lib/python3.12/site-packages/keras/src/trainers/data_adapters/py_dataset_adapter.py:121: UserWarning: Your `PyDataset` class should call `super().__init__(**kwargs)` in its constructor. `**kwargs` can include `workers`, `use_multiprocessing`, `max_queue_size`. Do not pass these arguments to `fit()`, as they will be ignored.\n",
      "  self._warn_if_super_not_called()\n"
     ]
    },
    {
     "name": "stdout",
     "output_type": "stream",
     "text": [
      "\u001b[1m520/520\u001b[0m \u001b[32m━━━━━━━━━━━━━━━━━━━━\u001b[0m\u001b[37m\u001b[0m \u001b[1m21s\u001b[0m 21ms/step\n",
      "[[9.99228835e-01]\n",
      " [7.33408034e-01]\n",
      " [9.81774151e-01]\n",
      " [2.94172525e-01]\n",
      " [7.71809816e-01]\n",
      " [7.75452852e-01]\n",
      " [1.63943339e-02]\n",
      " [1.00630550e-02]\n",
      " [9.68562663e-01]\n",
      " [6.97514936e-02]\n",
      " [7.43634999e-02]\n",
      " [8.43604028e-01]\n",
      " [1.71409905e-01]\n",
      " [5.76417968e-02]\n",
      " [2.06668779e-01]\n",
      " [2.09861115e-01]\n",
      " [8.65361989e-01]\n",
      " [8.98837745e-01]\n",
      " [8.83530498e-01]\n",
      " [9.44079161e-01]\n",
      " [9.34612513e-01]\n",
      " [8.47432204e-03]\n",
      " [8.56635273e-01]\n",
      " [1.51398331e-02]\n",
      " [9.16393876e-01]\n",
      " [8.52544308e-01]\n",
      " [8.36552918e-01]\n",
      " [8.71368706e-01]\n",
      " [9.20504779e-02]\n",
      " [9.32731748e-01]\n",
      " [8.38019371e-01]\n",
      " [8.03517878e-01]\n",
      " [7.88213015e-01]\n",
      " [6.77662790e-01]\n",
      " [3.14254642e-01]\n",
      " [9.53493059e-01]\n",
      " [4.42208350e-02]\n",
      " [2.27570519e-01]\n",
      " [9.58454907e-01]\n",
      " [9.09430623e-01]\n",
      " [3.36131811e-01]\n",
      " [9.02663589e-01]\n",
      " [9.57184076e-01]\n",
      " [9.93981898e-01]\n",
      " [7.64180124e-01]\n",
      " [6.36390090e-01]\n",
      " [9.68738079e-01]\n",
      " [8.09241772e-01]\n",
      " [8.55241656e-01]\n",
      " [9.37212408e-01]\n",
      " [1.18496798e-01]\n",
      " [2.39114892e-02]\n",
      " [2.68265098e-01]\n",
      " [3.98145318e-01]\n",
      " [1.34991184e-01]\n",
      " [9.47735965e-01]\n",
      " [4.57202166e-01]\n",
      " [8.28255177e-01]\n",
      " [3.25723469e-01]\n",
      " [3.80105853e-01]\n",
      " [3.54158193e-01]\n",
      " [7.39739180e-01]\n",
      " [3.80117923e-01]\n",
      " [2.65626758e-01]\n",
      " [1.60534129e-01]\n",
      " [8.77469033e-02]\n",
      " [5.93383685e-02]\n",
      " [5.83548769e-02]\n",
      " [4.36208211e-02]\n",
      " [7.69530416e-01]\n",
      " [8.45871806e-01]\n",
      " [5.22801936e-01]\n",
      " [9.92505312e-01]\n",
      " [9.90531027e-01]\n",
      " [9.53278124e-01]\n",
      " [9.99833345e-01]\n",
      " [9.93415952e-01]\n",
      " [9.29685295e-01]\n",
      " [9.98134434e-01]\n",
      " [7.51032233e-01]\n",
      " [3.25542390e-01]\n",
      " [1.31204939e-02]\n",
      " [9.84954953e-01]\n",
      " [3.74413460e-01]\n",
      " [8.21918428e-01]\n",
      " [5.17817214e-03]\n",
      " [2.69252747e-01]\n",
      " [8.17360938e-01]\n",
      " [1.12579558e-02]\n",
      " [9.33854520e-01]\n",
      " [9.59848642e-01]\n",
      " [9.54383075e-01]\n",
      " [9.98929918e-01]\n",
      " [9.49314892e-01]\n",
      " [9.64959502e-01]\n",
      " [5.28103709e-02]\n",
      " [5.37581034e-02]\n",
      " [2.28113964e-01]\n",
      " [2.08019674e-01]\n",
      " [8.31587732e-01]\n",
      " [1.12975128e-02]\n",
      " [3.90181929e-01]\n",
      " [4.57148126e-04]\n",
      " [8.72963443e-02]\n",
      " [4.08127569e-02]\n",
      " [4.63384502e-02]\n",
      " [2.31949687e-01]\n",
      " [1.32357344e-01]\n",
      " [3.44468415e-01]\n",
      " [3.98841649e-01]\n",
      " [7.42092356e-02]\n",
      " [6.99538514e-02]\n",
      " [3.31168622e-01]\n",
      " [1.15003683e-01]\n",
      " [2.28055596e-01]\n",
      " [4.29687500e-01]\n",
      " [1.60038605e-01]\n",
      " [5.45361778e-03]\n",
      " [9.92821395e-01]\n",
      " [3.44880596e-02]\n",
      " [2.34002713e-02]\n",
      " [5.65020978e-01]\n",
      " [4.24093641e-02]\n",
      " [1.96195617e-02]\n",
      " [4.85958159e-02]\n",
      " [9.98770654e-01]\n",
      " [9.93182242e-01]\n",
      " [3.12930793e-01]\n",
      " [2.90063441e-01]\n",
      " [7.74335936e-02]\n",
      " [6.52248098e-04]\n",
      " [9.65002120e-01]\n",
      " [5.19532204e-01]\n",
      " [3.90053540e-03]\n",
      " [3.99580039e-03]\n",
      " [1.95769127e-02]\n",
      " [8.38590320e-03]\n",
      " [9.80460942e-01]\n",
      " [7.70246625e-01]\n",
      " [9.01897848e-01]\n",
      " [4.25937653e-01]\n",
      " [6.05379045e-03]\n",
      " [5.25135100e-02]\n",
      " [9.79014575e-01]\n",
      " [8.75363350e-01]\n",
      " [8.86289597e-01]\n",
      " [1.79040328e-01]\n",
      " [4.05245155e-01]\n",
      " [9.55235541e-01]\n",
      " [2.41135523e-01]\n",
      " [5.71848340e-02]\n",
      " [5.72938053e-03]\n",
      " [2.94035137e-01]\n",
      " [3.60818475e-01]\n",
      " [1.79642692e-01]\n",
      " [9.63200212e-01]\n",
      " [2.26272956e-01]\n",
      " [3.80100131e-01]\n",
      " [1.03365079e-01]\n",
      " [7.76763558e-02]\n",
      " [2.20809667e-03]\n",
      " [8.16376269e-01]\n",
      " [2.35509090e-02]\n",
      " [6.57430710e-03]\n",
      " [2.02997059e-01]\n",
      " [7.63209462e-01]\n",
      " [9.09013599e-02]\n",
      " [2.51218192e-02]\n",
      " [6.84221461e-02]\n",
      " [2.11141258e-02]\n",
      " [4.73654233e-02]\n",
      " [2.39250772e-02]\n",
      " [6.37679160e-01]\n",
      " [1.00441173e-01]\n",
      " [5.67095697e-01]\n",
      " [9.39709067e-01]\n",
      " [3.59333575e-01]\n",
      " [4.61490661e-01]\n",
      " [6.60689175e-01]\n",
      " [9.53526556e-01]\n",
      " [7.40666509e-01]\n",
      " [9.56563234e-01]\n",
      " [5.70371151e-01]\n",
      " [1.38167813e-01]\n",
      " [9.99995351e-01]\n",
      " [9.99956846e-01]\n",
      " [9.82074440e-01]\n",
      " [4.49411005e-01]\n",
      " [1.40749708e-01]\n",
      " [5.22751689e-01]\n",
      " [3.07416711e-02]\n",
      " [1.69445008e-01]\n",
      " [2.08437979e-01]\n",
      " [5.96960671e-02]\n",
      " [1.69445008e-01]\n",
      " [1.21045753e-01]\n",
      " [9.14991200e-02]\n",
      " [1.34903297e-01]\n",
      " [2.35068370e-02]\n",
      " [2.38812059e-01]\n",
      " [4.64404561e-02]\n",
      " [2.91818362e-02]\n",
      " [6.57419935e-02]\n",
      " [9.69742477e-01]\n",
      " [8.04575324e-01]\n",
      " [6.60705864e-01]\n",
      " [9.24980164e-01]\n",
      " [8.91568482e-01]\n",
      " [9.87136126e-01]\n",
      " [9.51722980e-01]\n",
      " [2.53539011e-02]\n",
      " [1.80393830e-01]\n",
      " [2.86053985e-01]\n",
      " [3.15512381e-02]\n",
      " [1.24143183e-01]\n",
      " [6.21672094e-01]\n",
      " [6.29934013e-01]\n",
      " [9.92977679e-01]\n",
      " [9.62085605e-01]\n",
      " [9.72980499e-01]\n",
      " [7.33482093e-02]\n",
      " [7.15929968e-03]\n",
      " [5.25988005e-02]\n",
      " [2.18552686e-02]\n",
      " [7.79758245e-02]\n",
      " [8.99179503e-02]\n",
      " [2.56273955e-01]\n",
      " [7.25086108e-02]\n",
      " [2.44893715e-01]\n",
      " [6.55317426e-01]\n",
      " [2.55901575e-01]\n",
      " [5.57156205e-02]\n",
      " [2.14967102e-01]\n",
      " [3.06268901e-01]\n",
      " [2.21358724e-02]\n",
      " [5.56029845e-03]\n",
      " [3.77085567e-01]\n",
      " [9.99877691e-01]\n",
      " [9.94160950e-01]\n",
      " [9.99688864e-01]\n",
      " [9.99622941e-01]\n",
      " [7.84957767e-01]\n",
      " [8.95480514e-01]\n",
      " [9.99929905e-01]\n",
      " [1.51178509e-01]\n",
      " [9.97350931e-01]\n",
      " [7.73539305e-01]\n",
      " [2.37187266e-01]\n",
      " [4.36477631e-01]\n",
      " [2.45934576e-01]\n",
      " [8.67482722e-01]\n",
      " [9.76090789e-01]\n",
      " [3.72942954e-01]\n",
      " [6.32045716e-02]\n",
      " [6.55233145e-01]\n",
      " [1.00122476e-02]\n",
      " [4.11110878e-01]\n",
      " [8.34934950e-01]\n",
      " [6.85653985e-01]\n",
      " [5.83246887e-01]\n",
      " [2.31158271e-01]\n",
      " [2.41558068e-02]\n",
      " [3.89123023e-01]\n",
      " [5.41266263e-01]\n",
      " [3.85139808e-02]\n",
      " [3.14789936e-02]\n",
      " [4.19282526e-01]\n",
      " [1.44879464e-02]\n",
      " [6.51870621e-03]\n",
      " [1.40456352e-02]\n",
      " [1.57143045e-02]\n",
      " [4.59660850e-02]\n",
      " [1.12030044e-01]\n",
      " [9.65093225e-02]\n",
      " [8.74157324e-02]\n",
      " [1.36324272e-01]\n",
      " [2.69611388e-01]\n",
      " [9.35868323e-01]\n",
      " [9.75940049e-01]\n",
      " [1.61208641e-02]\n",
      " [9.57645714e-01]\n",
      " [1.80622712e-01]\n",
      " [1.25081316e-01]\n",
      " [7.62855470e-01]\n",
      " [6.75151497e-02]\n",
      " [5.03838062e-02]\n",
      " [5.78881847e-03]\n",
      " [5.90760149e-02]\n",
      " [2.86078423e-01]\n",
      " [7.61561617e-02]\n",
      " [1.59861341e-01]\n",
      " [2.50282556e-01]\n",
      " [2.36840606e-01]\n",
      " [2.68124249e-02]\n",
      " [9.99310374e-01]\n",
      " [9.54553246e-01]\n",
      " [3.72509092e-01]\n",
      " [8.13740790e-01]\n",
      " [1.54602140e-01]\n",
      " [2.40413338e-01]\n",
      " [6.94086611e-01]\n",
      " [9.34553027e-01]\n",
      " [4.48948778e-02]\n",
      " [4.98834513e-02]\n",
      " [2.79674143e-01]\n",
      " [9.75142866e-02]\n",
      " [7.29417324e-01]\n",
      " [2.62160718e-01]\n",
      " [6.25425637e-01]\n",
      " [5.87243699e-02]\n",
      " [3.73000987e-02]\n",
      " [1.38994567e-02]\n",
      " [9.58911538e-01]\n",
      " [3.91822159e-02]\n",
      " [7.52401771e-03]\n",
      " [7.71429479e-01]\n",
      " [4.12733316e-01]\n",
      " [9.77864087e-01]\n",
      " [2.25354299e-01]\n",
      " [1.98354602e-01]\n",
      " [6.49057865e-01]\n",
      " [2.51053512e-01]\n",
      " [1.35883093e-01]\n",
      " [4.26088721e-01]\n",
      " [3.00292343e-01]\n",
      " [1.45087138e-01]\n",
      " [1.81124359e-01]\n",
      " [1.98583975e-01]\n",
      " [3.64646278e-02]\n",
      " [1.95228849e-02]\n",
      " [5.10593550e-03]\n",
      " [8.48234724e-03]\n",
      " [6.37422442e-01]\n",
      " [3.19994003e-01]\n",
      " [6.90527678e-01]\n",
      " [4.76390302e-01]\n",
      " [4.52292621e-01]\n",
      " [4.60786551e-01]\n",
      " [5.61493933e-01]\n",
      " [7.46419966e-01]\n",
      " [7.78661132e-01]\n",
      " [9.89690572e-02]\n",
      " [2.05056757e-01]\n",
      " [1.98614955e-01]\n",
      " [9.54147816e-01]\n",
      " [2.12034024e-03]\n",
      " [9.76734579e-01]\n",
      " [9.82922435e-01]\n",
      " [9.99483943e-01]\n",
      " [2.10254267e-02]\n",
      " [8.53571951e-01]\n",
      " [9.88703132e-01]\n",
      " [9.58212540e-02]\n",
      " [9.39068317e-01]\n",
      " [8.92354026e-02]\n",
      " [9.95428324e-01]\n",
      " [4.32549268e-01]\n",
      " [9.96295869e-01]\n",
      " [9.42552805e-01]\n",
      " [9.99719799e-01]\n",
      " [8.61117303e-01]\n",
      " [7.63068676e-01]\n",
      " [1.95393682e-01]\n",
      " [7.82424808e-01]\n",
      " [7.29914665e-01]\n",
      " [9.99294639e-01]\n",
      " [7.68225729e-01]\n",
      " [9.98472035e-01]\n",
      " [8.04366112e-01]\n",
      " [7.68101573e-01]\n",
      " [9.24816191e-01]\n",
      " [7.06297040e-01]\n",
      " [2.84888864e-01]\n",
      " [1.19919568e-01]\n",
      " [8.71537089e-01]\n",
      " [5.67938447e-01]\n",
      " [5.98135173e-01]\n",
      " [9.99725044e-01]\n",
      " [9.91574228e-01]\n",
      " [9.98397052e-01]\n",
      " [5.35731196e-01]\n",
      " [9.59992766e-01]\n",
      " [3.79753172e-01]\n",
      " [8.98089945e-01]\n",
      " [1.68997869e-01]\n",
      " [9.95330095e-01]\n",
      " [3.29681158e-01]\n",
      " [6.36342287e-01]\n",
      " [9.41261351e-01]\n",
      " [7.40731239e-01]\n",
      " [9.50629771e-01]\n",
      " [1.16124690e-01]\n",
      " [9.74646151e-01]\n",
      " [9.35071185e-02]\n",
      " [2.55739540e-01]\n",
      " [9.82339203e-01]\n",
      " [9.42912936e-01]\n",
      " [1.23065338e-01]\n",
      " [9.51622784e-01]\n",
      " [5.65941334e-01]\n",
      " [7.90981710e-01]\n",
      " [9.71943378e-01]\n",
      " [3.88858259e-01]\n",
      " [9.66325283e-01]\n",
      " [3.33778590e-01]\n",
      " [1.09937415e-01]\n",
      " [6.49033725e-01]\n",
      " [5.17401136e-02]\n",
      " [4.83696386e-02]\n",
      " [9.99372423e-01]\n",
      " [8.67303848e-01]\n",
      " [1.25881851e-01]\n",
      " [2.86278456e-01]\n",
      " [9.78605568e-01]\n",
      " [9.91187036e-01]\n",
      " [9.66268539e-01]\n",
      " [9.19100285e-01]\n",
      " [1.66010633e-01]\n",
      " [1.38075352e-01]\n",
      " [9.57079902e-02]\n",
      " [1.57866962e-02]\n",
      " [2.73146331e-02]\n",
      " [6.73033535e-01]\n",
      " [1.78424597e-01]\n",
      " [7.31520131e-02]\n",
      " [9.98060286e-01]\n",
      " [8.44442993e-02]\n",
      " [9.97030854e-01]\n",
      " [9.99855399e-01]\n",
      " [9.95840728e-01]\n",
      " [9.49352324e-01]\n",
      " [9.47583199e-01]\n",
      " [9.34556782e-01]\n",
      " [9.96927798e-01]\n",
      " [9.99967098e-01]\n",
      " [9.99658585e-01]\n",
      " [9.99560893e-01]\n",
      " [1.69343591e-01]\n",
      " [9.53245282e-01]\n",
      " [8.84847939e-01]\n",
      " [9.83811319e-01]\n",
      " [9.99764264e-01]\n",
      " [9.99583066e-01]\n",
      " [9.99852657e-01]\n",
      " [9.88589942e-01]\n",
      " [9.95325565e-01]\n",
      " [7.25472987e-01]\n",
      " [9.98105884e-01]\n",
      " [7.95563519e-01]\n",
      " [7.44925201e-01]\n",
      " [9.97557282e-01]\n",
      " [9.53545749e-01]\n",
      " [9.05550122e-01]\n",
      " [4.11224186e-01]\n",
      " [9.24697280e-01]\n",
      " [9.97332811e-01]\n",
      " [9.07290459e-01]\n",
      " [9.93096769e-01]\n",
      " [9.75004733e-01]\n",
      " [9.94841039e-01]\n",
      " [9.47234571e-01]\n",
      " [9.91926253e-01]\n",
      " [9.98460054e-01]\n",
      " [9.96060550e-01]\n",
      " [9.99450505e-01]\n",
      " [9.24026549e-01]\n",
      " [8.05146337e-01]\n",
      " [9.72429216e-01]\n",
      " [9.96256471e-01]\n",
      " [9.99734223e-01]\n",
      " [7.90976226e-01]\n",
      " [9.86147761e-01]\n",
      " [9.92593825e-01]\n",
      " [9.73897338e-01]\n",
      " [9.99881506e-01]\n",
      " [9.79104400e-01]\n",
      " [9.99947190e-01]\n",
      " [9.83329594e-01]\n",
      " [9.77718890e-01]\n",
      " [9.99650955e-01]\n",
      " [9.99481857e-01]\n",
      " [8.33391190e-01]\n",
      " [9.50977623e-01]\n",
      " [9.99981284e-01]\n",
      " [8.26266110e-01]\n",
      " [9.89887655e-01]\n",
      " [9.90219414e-01]\n",
      " [4.02399570e-01]\n",
      " [6.96474016e-01]\n",
      " [6.35366797e-01]\n",
      " [9.44202662e-01]\n",
      " [4.31652337e-01]\n",
      " [9.23806071e-01]\n",
      " [9.97262359e-01]\n",
      " [8.09351653e-02]\n",
      " [3.41051608e-01]\n",
      " [9.99972463e-01]\n",
      " [9.59043741e-01]\n",
      " [9.98019695e-01]\n",
      " [5.19066341e-02]\n",
      " [3.08733415e-02]\n",
      " [9.95151639e-01]\n",
      " [9.99967575e-01]\n",
      " [1.36440843e-01]\n",
      " [9.88761246e-01]\n",
      " [8.85331750e-01]\n",
      " [9.31480944e-01]\n",
      " [2.22703487e-01]\n",
      " [9.88756597e-01]\n",
      " [4.71560031e-01]\n",
      " [5.12623265e-02]\n",
      " [1.41544035e-02]\n",
      " [9.87489879e-01]\n",
      " [2.85615802e-01]\n",
      " [9.75812554e-01]\n",
      " [9.23513949e-01]\n",
      " [3.55297267e-01]\n",
      " [2.50910372e-01]\n",
      " [1.13722123e-02]\n",
      " [6.18761837e-01]]\n",
      "Model Accuracy: 0.6462\n"
     ]
    },
    {
     "data": {
      "image/png": "[encoded data removed]",
      "text/plain": [
       "<Figure size 600x500 with 2 Axes>"
      ]
     },
     "metadata": {},
     "output_type": "display_data"
    },
    {
     "name": "stdout",
     "output_type": "stream",
     "text": [
      "\n",
      "Classification Report:\n",
      "              precision    recall  f1-score   support\n",
      "\n",
      "        fake       0.82      0.60      0.70       350\n",
      "        real       0.47      0.74      0.58       170\n",
      "\n",
      "    accuracy                           0.65       520\n",
      "   macro avg       0.65      0.67      0.64       520\n",
      "weighted avg       0.71      0.65      0.66       520\n",
      "\n"
     ]
    }
   ],
   "source": [
    "# 이미지 크기 및 배치 사이즈 설정\n",
    "img_size = (528, 528)  # EfficientNetB6의 입력 크기에 맞게 변경 가능\n",
    "batch_size = 1\n",
    "\n",
    "# 데이터 로더 설정 (test용)\n",
    "datagen = ImageDataGenerator(\n",
    "    preprocessing_function=tf.keras.applications.efficientnet.preprocess_input\n",
    ")\n",
    "\n",
    "test_generator = datagen.flow_from_directory(\n",
    "    dataset_dir,\n",
    "    target_size=img_size,\n",
    "    batch_size=batch_size,\n",
    "    class_mode=\"binary\",  # 이진 분류 (fake vs real)\n",
    "    shuffle= False\n",
    ")\n",
    "\n",
    "# 실제 라벨 가져오기\n",
    "y_true = test_generator.classes  # 0: fake, 1: real\n",
    "#print(y_true)\n",
    "class_names = list(test_generator.class_indices.keys())\n",
    "#print(class_names) #['fake', 'real']\n",
    "#print(test_generator.class_indices)\n",
    "\n",
    "# 예측 수행\n",
    "y_pred_probs = model.predict(test_generator, steps=test_generator.samples)  # 확률값 출력\n",
    "print(y_pred_probs)\n",
    "y_pred = (y_pred_probs > 0.5).astype(int).flatten()  # 0.5 이상이면 1(real), 아니면 0(fake)\n",
    "\n",
    "# 정확도 출력\n",
    "accuracy = np.mean(y_pred == y_true)\n",
    "print(f\"Model Accuracy: {accuracy:.4f}\")\n",
    "\n",
    "# Confusion Matrix 생성\n",
    "cm = confusion_matrix(y_true, y_pred)\n",
    "\n",
    "# Confusion Matrix 시각화\n",
    "plt.figure(figsize=(6, 5))\n",
    "sns.heatmap(cm, annot=True, fmt=\"d\", cmap=\"Blues\", xticklabels=class_names, yticklabels=class_names)\n",
    "plt.xlabel(\"Predicted Label\")\n",
    "plt.ylabel(\"True Label\")\n",
    "plt.title(\"Confusion Matrix\")\n",
    "plt.show()\n",
    "\n",
    "# 분류 보고서 출력\n",
    "print(\"\\nClassification Report:\")\n",
    "print(classification_report(y_true, y_pred, target_names=class_names))\n"
   ]
  },
  {
   "cell_type": "markdown",
   "metadata": {
    "id": "S_HjFuO9AP1P"
   },
   "source": [
    "--------------------------------\n",
    "## 저장된 모델 로딩 -> 자체이미지 데이터셋에서 학습 후 이진분류"
   ]
  },
  {
   "cell_type": "code",
   "execution_count": 2,
   "metadata": {
    "id": "c5YN7zdVBFKd"
   },
   "outputs": [
    {
     "name": "stderr",
     "output_type": "stream",
     "text": [
      "2025-02-27 23:53:57.407735: E external/local_xla/xla/stream_executor/cuda/cuda_fft.cc:485] Unable to register cuFFT factory: Attempting to register factory for plugin cuFFT when one has already been registered\n",
      "2025-02-27 23:53:57.421753: E external/local_xla/xla/stream_executor/cuda/cuda_dnn.cc:8454] Unable to register cuDNN factory: Attempting to register factory for plugin cuDNN when one has already been registered\n",
      "2025-02-27 23:53:57.426212: E external/local_xla/xla/stream_executor/cuda/cuda_blas.cc:1452] Unable to register cuBLAS factory: Attempting to register factory for plugin cuBLAS when one has already been registered\n",
      "2025-02-27 23:53:57.438840: I tensorflow/core/platform/cpu_feature_guard.cc:210] This TensorFlow binary is optimized to use available CPU instructions in performance-critical operations.\n",
      "To enable the following instructions: AVX2 FMA, in other operations, rebuild TensorFlow with the appropriate compiler flags.\n",
      "2025-02-27 23:53:58.304472: W tensorflow/compiler/tf2tensorrt/utils/py_utils.cc:38] TF-TRT Warning: Could not find TensorRT\n"
     ]
    }
   ],
   "source": [
    "import os\n",
    "import shutil\n",
    "import random\n",
    "from sklearn.model_selection import train_test_split\n",
    "\n",
    "import tensorflow as tf\n",
    "from tensorflow.keras.models import load_model\n",
    "from tensorflow.keras.optimizers import Adam\n",
    "from tensorflow.keras.callbacks import EarlyStopping\n",
    "from tensorflow.keras import layers, regularizers\n",
    "import matplotlib.pyplot as plt\n",
    "\n",
    "import numpy as np\n",
    "from sklearn.metrics import confusion_matrix\n",
    "import seaborn as sns"
   ]
  },
  {
   "cell_type": "code",
   "execution_count": 3,
   "metadata": {
    "id": "GTyUnWEK7nhe"
   },
   "outputs": [],
   "source": [
    "train_dir = \"data/generated_dataset/train_new\"\n",
    "test_dir = \"data/generated_dataset/test_new\""
   ]
  },
  {
   "cell_type": "markdown",
   "metadata": {},
   "source": [
    "### train, test 데이터셋 준비"
   ]
  },
  {
   "cell_type": "code",
   "execution_count": null,
   "metadata": {
    "colab": {
     "base_uri": "https://localhost:8080/"
    },
    "executionInfo": {
     "elapsed": 58737,
     "status": "ok",
     "timestamp": 1739766445105,
     "user": {
      "displayName": "이하은",
      "userId": "06607701604719915973"
     },
     "user_tz": -540
    },
    "id": "hbJE2mnv2zNs",
    "outputId": "3cf3760f-6547-4aef-8d3e-d204a5c509d3"
   },
   "outputs": [
    {
     "name": "stdout",
     "output_type": "stream",
     "text": [
      "데이터셋 분할 완료!\n"
     ]
    }
   ],
   "source": [
    "# # 데이터 경로 (가정: images 폴더에 fake와 real 이미지들이 있음)\n",
    "# dataset_dir = \"data/generated_dataset\"\n",
    "# fake_dir = os.path.join(dataset_dir, \"fake\")\n",
    "# real_dir = os.path.join(dataset_dir, \"real\")\n",
    "\n",
    "# # Train-Test Split을 위한 디렉토리 생성\n",
    "# train_dir = \"data/generated_dataset/train_new\"\n",
    "# test_dir = \"data/generated_dataset/test_new\"\n",
    "# os.makedirs(train_dir, exist_ok=True)\n",
    "# os.makedirs(test_dir, exist_ok=True)\n",
    "\n",
    "# train_fake_dir = os.path.join(train_dir, \"fake\")\n",
    "# test_fake_dir = os.path.join(test_dir, \"fake\")\n",
    "# train_real_dir = os.path.join(train_dir, \"real\")\n",
    "# test_real_dir = os.path.join(test_dir, \"real\")\n",
    "\n",
    "# os.makedirs(train_fake_dir, exist_ok=True)\n",
    "# os.makedirs(test_fake_dir, exist_ok=True)\n",
    "# os.makedirs(train_real_dir, exist_ok=True)\n",
    "# os.makedirs(test_real_dir, exist_ok=True)\n",
    "\n",
    "# # 이미지 파일 리스트 가져오기\n",
    "# fake_files = [os.path.join(fake_dir, f) for f in os.listdir(fake_dir) if os.path.isfile(os.path.join(fake_dir, f))]\n",
    "# real_files = [os.path.join(real_dir, f) for f in os.listdir(real_dir) if os.path.isfile(os.path.join(real_dir, f))]\n",
    "\n",
    "# # train-test split (80% train, 20% test)\n",
    "# fake_train, fake_test = train_test_split(fake_files, test_size=0.2, random_state=42)\n",
    "# real_train, real_test = train_test_split(real_files, test_size=0.2, random_state=42)\n",
    "\n",
    "# # 파일 이동\n",
    "# for file in fake_train:\n",
    "#     shutil.copy(file, train_fake_dir)\n",
    "# for file in fake_test:\n",
    "#     shutil.copy(file, test_fake_dir)\n",
    "# for file in real_train:\n",
    "#     shutil.copy(file, train_real_dir)\n",
    "# for file in real_test:\n",
    "#     shutil.copy(file, test_real_dir)\n",
    "\n",
    "# print(\"데이터셋 분할 완료!\")\n"
   ]
  },
  {
   "cell_type": "code",
   "execution_count": null,
   "metadata": {
    "id": "c2qeVUPd5fiI"
   },
   "outputs": [],
   "source": [
    "# from PIL import Image\n",
    "# import os\n",
    "\n",
    "# MAX_PIXELS = 178956970  # 허용되는 최대 픽셀 크기 (Pillow 기본값)\n",
    "# VALID_EXTENSIONS = {\".jpg\", \".jpeg\", \".png\"}\n",
    "# def remove_invalid_images(directory):\n",
    "#     for root, _, files in os.walk(directory):\n",
    "#         for file in files:\n",
    "#             file_path = os.path.join(root, file)\n",
    "#             if not any(file.lower().endswith(ext) for ext in VALID_EXTENSIONS):\n",
    "#                 continue  # 유효한 확장자가 아니면 건너뜀\n",
    "#             try:\n",
    "#                 img = Image.open(file_path)\n",
    "#                 img.verify()  # 손상 여부 확인\n",
    "#                 if img.size[0] * img.size[1] > MAX_PIXELS:\n",
    "#                     print(f\"Removing oversized image: {file_path}\")\n",
    "#                     os.remove(file_path)\n",
    "#             except (IOError, SyntaxError, Image.DecompressionBombError):\n",
    "#                 print(f\"Removing invalid image: {file_path}\")\n",
    "#                 os.remove(file_path)\n",
    "\n",
    "# remove_invalid_images(train_dir)\n",
    "# remove_invalid_images(test_dir)"
   ]
  },
  {
   "cell_type": "code",
   "execution_count": 50,
   "metadata": {
    "colab": {
     "base_uri": "https://localhost:8080/"
    },
    "executionInfo": {
     "elapsed": 278,
     "status": "ok",
     "timestamp": 1739769130520,
     "user": {
      "displayName": "이하은",
      "userId": "06607701604719915973"
     },
     "user_tz": -540
    },
    "id": "ZEJ80mM-Jguv",
    "outputId": "588e7ea9-21e2-419e-b782-8c44273275e6"
   },
   "outputs": [
    {
     "name": "stdout",
     "output_type": "stream",
     "text": [
      "280 140 70 35\n",
      "Fake: 350, Real: 175\n"
     ]
    }
   ],
   "source": [
    "import os\n",
    "\n",
    "train_fake_dir = os.path.join(train_dir, \"fake\")\n",
    "train_real_dir = os.path.join(train_dir, \"real\")\n",
    "test_fake_dir = os.path.join(test_dir, \"fake\")\n",
    "test_real_dir = os.path.join(test_dir, \"real\")\n",
    "\n",
    "train_fake_count = len(os.listdir(train_fake_dir)) if os.path.exists(train_fake_dir) else 0\n",
    "train_real_count = len(os.listdir(train_real_dir)) if os.path.exists(train_real_dir) else 0\n",
    "test_fake_count = len(os.listdir(test_fake_dir)) if os.path.exists(test_fake_dir) else 0\n",
    "test_real_count = len(os.listdir(test_real_dir)) if os.path.exists(test_real_dir) else 0\n",
    "\n",
    "print(train_fake_count,train_real_count,test_fake_count,test_real_count )\n",
    "print(f\"Fake: {train_fake_count + test_fake_count}, Real: {train_real_count + test_real_count}\")\n"
   ]
  },
  {
   "cell_type": "markdown",
   "metadata": {},
   "source": [
    "### 학습"
   ]
  },
  {
   "cell_type": "code",
   "execution_count": 4,
   "metadata": {
    "colab": {
     "base_uri": "https://localhost:8080/"
    },
    "executionInfo": {
     "elapsed": 1316,
     "status": "ok",
     "timestamp": 1739768778725,
     "user": {
      "displayName": "이하은",
      "userId": "06607701604719915973"
     },
     "user_tz": -540
    },
    "id": "pdUAoptDSazp",
    "outputId": "48d93bac-4821-4dc1-d011-e8bcd24acf9a"
   },
   "outputs": [
    {
     "name": "stderr",
     "output_type": "stream",
     "text": [
      "2025-02-27 23:54:20.300653: I tensorflow/core/common_runtime/gpu/gpu_device.cc:2021] Created device /job:localhost/replica:0/task:0/device:GPU:0 with 22495 MB memory:  -> device: 0, name: NVIDIA RTX A5000, pci bus id: 0000:01:00.0, compute capability: 8.6\n",
      "2025-02-27 23:54:20.302012: I tensorflow/core/common_runtime/gpu/gpu_device.cc:2021] Created device /job:localhost/replica:0/task:0/device:GPU:1 with 22495 MB memory:  -> device: 1, name: NVIDIA RTX A5000, pci bus id: 0000:21:00.0, compute capability: 8.6\n",
      "2025-02-27 23:54:20.303176: I tensorflow/core/common_runtime/gpu/gpu_device.cc:2021] Created device /job:localhost/replica:0/task:0/device:GPU:2 with 22495 MB memory:  -> device: 2, name: NVIDIA RTX A5000, pci bus id: 0000:41:00.0, compute capability: 8.6\n",
      "2025-02-27 23:54:20.304278: I tensorflow/core/common_runtime/gpu/gpu_device.cc:2021] Created device /job:localhost/replica:0/task:0/device:GPU:3 with 22495 MB memory:  -> device: 3, name: NVIDIA RTX A5000, pci bus id: 0000:61:00.0, compute capability: 8.6\n",
      "2025-02-27 23:54:20.305275: I tensorflow/core/common_runtime/gpu/gpu_device.cc:2021] Created device /job:localhost/replica:0/task:0/device:GPU:4 with 22495 MB memory:  -> device: 4, name: NVIDIA RTX A5000, pci bus id: 0000:81:00.0, compute capability: 8.6\n",
      "2025-02-27 23:54:20.306289: I tensorflow/core/common_runtime/gpu/gpu_device.cc:2021] Created device /job:localhost/replica:0/task:0/device:GPU:5 with 22495 MB memory:  -> device: 5, name: NVIDIA RTX A5000, pci bus id: 0000:a1:00.0, compute capability: 8.6\n",
      "2025-02-27 23:54:20.307294: I tensorflow/core/common_runtime/gpu/gpu_device.cc:2021] Created device /job:localhost/replica:0/task:0/device:GPU:6 with 22495 MB memory:  -> device: 6, name: NVIDIA RTX A5000, pci bus id: 0000:c1:00.0, compute capability: 8.6\n",
      "2025-02-27 23:54:20.308259: I tensorflow/core/common_runtime/gpu/gpu_device.cc:2021] Created device /job:localhost/replica:0/task:0/device:GPU:7 with 22495 MB memory:  -> device: 7, name: NVIDIA RTX A5000, pci bus id: 0000:e1:00.0, compute capability: 8.6\n",
      "WARNING:absl:Compiled the loaded model, but the compiled metrics have yet to be built. `model.compile_metrics` will be empty until you train or evaluate the model.\n"
     ]
    }
   ],
   "source": [
    "#저장된 EfficientNetB6 모델 로드\n",
    "model_path = \"model/model_v7.h5\"\n",
    "model = load_model(model_path)"
   ]
  },
  {
   "cell_type": "markdown",
   "metadata": {
    "id": "bH396jDqOtaV"
   },
   "source": []
  },
  {
   "cell_type": "code",
   "execution_count": 5,
   "metadata": {
    "id": "DVbTwxcMzyS_"
   },
   "outputs": [],
   "source": [
    "#하이퍼파라미터 설정\n",
    "CONFIGURATION = {\n",
    "    \"BATCH_SIZE\": 4,\n",
    "    \"IM_SIZE\": 528,  # EfficientNetB6의 입력 크기\n",
    "    \"LEARNING_RATE\": 1e-4,\n",
    "    \"N_EPOCHS\": 10,\n",
    "    \"DROPOUT_RATE\": 0.2,\n",
    "    \"REGULARIZATION_RATE\": 0.001,\n",
    "    \"N_DENSE_1\": 1024,\n",
    "    \"CLASS_NAMES\": [\"fake\", \"real\"]\n",
    "}\n",
    "\n",
    "n = 1\n",
    "for layer in model.layers[:-n]:\n",
    "    layer.trainable = False\n",
    "for layer in model.layers[-n:]:\n",
    "    layer.trainable = True"
   ]
  },
  {
   "cell_type": "code",
   "execution_count": 6,
   "metadata": {
    "colab": {
     "base_uri": "https://localhost:8080/",
     "height": 827
    },
    "executionInfo": {
     "elapsed": 223952,
     "status": "ok",
     "timestamp": 1739766780043,
     "user": {
      "displayName": "이하은",
      "userId": "06607701604719915973"
     },
     "user_tz": -540
    },
    "id": "cV4FGHa9vxLn",
    "outputId": "3b277583-c0f8-4648-ab88-70f8d4e31371"
   },
   "outputs": [
    {
     "name": "stdout",
     "output_type": "stream",
     "text": [
      "Found 415 images belonging to 2 classes.\n",
      "Found 105 images belonging to 2 classes.\n"
     ]
    },
    {
     "name": "stderr",
     "output_type": "stream",
     "text": [
      "/home/jangminoh_2/miniconda3/envs/ml-ops/lib/python3.12/site-packages/keras/src/trainers/data_adapters/py_dataset_adapter.py:121: UserWarning: Your `PyDataset` class should call `super().__init__(**kwargs)` in its constructor. `**kwargs` can include `workers`, `use_multiprocessing`, `max_queue_size`. Do not pass these arguments to `fit()`, as they will be ignored.\n",
      "  self._warn_if_super_not_called()\n"
     ]
    },
    {
     "name": "stdout",
     "output_type": "stream",
     "text": [
      "Epoch 1/10\n"
     ]
    },
    {
     "name": "stderr",
     "output_type": "stream",
     "text": [
      "WARNING: All log messages before absl::InitializeLog() is called are written to STDERR\n",
      "I0000 00:00:1740668078.358736  706812 service.cc:146] XLA service 0x7ed8240c91f0 initialized for platform CUDA (this does not guarantee that XLA will be used). Devices:\n",
      "I0000 00:00:1740668078.358777  706812 service.cc:154]   StreamExecutor device (0): NVIDIA RTX A5000, Compute Capability 8.6\n",
      "I0000 00:00:1740668078.358781  706812 service.cc:154]   StreamExecutor device (1): NVIDIA RTX A5000, Compute Capability 8.6\n",
      "I0000 00:00:1740668078.358785  706812 service.cc:154]   StreamExecutor device (2): NVIDIA RTX A5000, Compute Capability 8.6\n",
      "I0000 00:00:1740668078.358789  706812 service.cc:154]   StreamExecutor device (3): NVIDIA RTX A5000, Compute Capability 8.6\n",
      "I0000 00:00:1740668078.358794  706812 service.cc:154]   StreamExecutor device (4): NVIDIA RTX A5000, Compute Capability 8.6\n",
      "I0000 00:00:1740668078.358804  706812 service.cc:154]   StreamExecutor device (5): NVIDIA RTX A5000, Compute Capability 8.6\n",
      "I0000 00:00:1740668078.358809  706812 service.cc:154]   StreamExecutor device (6): NVIDIA RTX A5000, Compute Capability 8.6\n",
      "I0000 00:00:1740668078.358812  706812 service.cc:154]   StreamExecutor device (7): NVIDIA RTX A5000, Compute Capability 8.6\n",
      "2025-02-27 23:54:38.877243: I tensorflow/compiler/mlir/tensorflow/utils/dump_mlir_util.cc:268] disabling MLIR crash reproducer, set env var `MLIR_CRASH_REPRODUCER_DIRECTORY` to enable.\n",
      "2025-02-27 23:54:41.773904: I external/local_xla/xla/stream_executor/cuda/cuda_dnn.cc:531] Loaded cuDNN version 8907\n"
     ]
    },
    {
     "name": "stdout",
     "output_type": "stream",
     "text": [
      "\u001b[1m  2/104\u001b[0m \u001b[37m━━━━━━━━━━━━━━━━━━━━\u001b[0m \u001b[1m5s\u001b[0m 56ms/step - accuracy: 0.5625 - loss: 1.0335    "
     ]
    },
    {
     "name": "stderr",
     "output_type": "stream",
     "text": [
      "I0000 00:00:1740668104.195077  706812 device_compiler.h:188] Compiled cluster using XLA!  This line is logged at most once for the lifetime of the process.\n"
     ]
    },
    {
     "name": "stdout",
     "output_type": "stream",
     "text": [
      "\u001b[1m104/104\u001b[0m \u001b[32m━━━━━━━━━━━━━━━━━━━━\u001b[0m\u001b[37m\u001b[0m \u001b[1m0s\u001b[0m 390ms/step - accuracy: 0.5844 - loss: 0.9543"
     ]
    },
    {
     "name": "stderr",
     "output_type": "stream",
     "text": [
      "2025-02-27 23:55:58.861923: I external/local_xla/xla/stream_executor/cuda/cuda_asm_compiler.cc:393] ptxas warning : Registers are spilled to local memory in function 'gemm_fusion_dot_2', 36 bytes spill stores, 36 bytes spill loads\n",
      "\n"
     ]
    },
    {
     "name": "stdout",
     "output_type": "stream",
     "text": [
      "\u001b[1m104/104\u001b[0m \u001b[32m━━━━━━━━━━━━━━━━━━━━\u001b[0m\u001b[37m\u001b[0m \u001b[1m104s\u001b[0m 617ms/step - accuracy: 0.5846 - loss: 0.9538 - val_accuracy: 0.5524 - val_loss: 1.0071\n",
      "Epoch 2/10\n",
      "\u001b[1m104/104\u001b[0m \u001b[32m━━━━━━━━━━━━━━━━━━━━\u001b[0m\u001b[37m\u001b[0m \u001b[1m19s\u001b[0m 183ms/step - accuracy: 0.5845 - loss: 0.9364 - val_accuracy: 0.5619 - val_loss: 0.9762\n",
      "Epoch 3/10\n",
      "\u001b[1m104/104\u001b[0m \u001b[32m━━━━━━━━━━━━━━━━━━━━\u001b[0m\u001b[37m\u001b[0m \u001b[1m20s\u001b[0m 187ms/step - accuracy: 0.5908 - loss: 0.8363 - val_accuracy: 0.5524 - val_loss: 0.9489\n",
      "Epoch 4/10\n",
      "\u001b[1m104/104\u001b[0m \u001b[32m━━━━━━━━━━━━━━━━━━━━\u001b[0m\u001b[37m\u001b[0m \u001b[1m19s\u001b[0m 180ms/step - accuracy: 0.6107 - loss: 0.8629 - val_accuracy: 0.5429 - val_loss: 0.9210\n",
      "Epoch 5/10\n",
      "\u001b[1m104/104\u001b[0m \u001b[32m━━━━━━━━━━━━━━━━━━━━\u001b[0m\u001b[37m\u001b[0m \u001b[1m19s\u001b[0m 182ms/step - accuracy: 0.6175 - loss: 0.8876 - val_accuracy: 0.5333 - val_loss: 0.8967\n",
      "Epoch 6/10\n",
      "\u001b[1m104/104\u001b[0m \u001b[32m━━━━━━━━━━━━━━━━━━━━\u001b[0m\u001b[37m\u001b[0m \u001b[1m19s\u001b[0m 183ms/step - accuracy: 0.5881 - loss: 0.8786 - val_accuracy: 0.5333 - val_loss: 0.8718\n",
      "Epoch 7/10\n",
      "\u001b[1m104/104\u001b[0m \u001b[32m━━━━━━━━━━━━━━━━━━━━\u001b[0m\u001b[37m\u001b[0m \u001b[1m19s\u001b[0m 184ms/step - accuracy: 0.5711 - loss: 0.9040 - val_accuracy: 0.5333 - val_loss: 0.8488\n",
      "Epoch 8/10\n",
      "\u001b[1m104/104\u001b[0m \u001b[32m━━━━━━━━━━━━━━━━━━━━\u001b[0m\u001b[37m\u001b[0m \u001b[1m19s\u001b[0m 183ms/step - accuracy: 0.6295 - loss: 0.8034 - val_accuracy: 0.5333 - val_loss: 0.8300\n",
      "Epoch 9/10\n",
      "\u001b[1m104/104\u001b[0m \u001b[32m━━━━━━━━━━━━━━━━━━━━\u001b[0m\u001b[37m\u001b[0m \u001b[1m19s\u001b[0m 185ms/step - accuracy: 0.6163 - loss: 0.7191 - val_accuracy: 0.5333 - val_loss: 0.8118\n",
      "Epoch 10/10\n",
      "\u001b[1m104/104\u001b[0m \u001b[32m━━━━━━━━━━━━━━━━━━━━\u001b[0m\u001b[37m\u001b[0m \u001b[1m19s\u001b[0m 184ms/step - accuracy: 0.6511 - loss: 0.6744 - val_accuracy: 0.5238 - val_loss: 0.7947\n"
     ]
    },
    {
     "data": {
      "image/png": "[encoded data removed]",
      "text/plain": [
       "<Figure size 1000x600 with 1 Axes>"
      ]
     },
     "metadata": {},
     "output_type": "display_data"
    }
   ],
   "source": [
    "#데이터 증강 및 로드\n",
    "train_datagen = tf.keras.preprocessing.image.ImageDataGenerator(\n",
    "    preprocessing_function=tf.keras.applications.efficientnet.preprocess_input,  # EfficientNet용 전처리\n",
    "    width_shift_range=0.2,\n",
    "    height_shift_range=0.2,\n",
    "    shear_range=0.2,\n",
    "    zoom_range=0.1,\n",
    "    fill_mode='reflect',\n",
    "    rotation_range=30\n",
    ")\n",
    "\n",
    "val_datagen = tf.keras.preprocessing.image.ImageDataGenerator( preprocessing_function=tf.keras.applications.efficientnet.preprocess_input,)\n",
    "\n",
    "train_dataset = train_datagen.flow_from_directory(\n",
    "    train_dir,\n",
    "    target_size=(CONFIGURATION[\"IM_SIZE\"], CONFIGURATION[\"IM_SIZE\"]),\n",
    "    batch_size=CONFIGURATION[\"BATCH_SIZE\"],\n",
    "    class_mode='binary'\n",
    ")\n",
    "val_dataset = val_datagen.flow_from_directory(\n",
    "    test_dir,\n",
    "    target_size=(CONFIGURATION[\"IM_SIZE\"], CONFIGURATION[\"IM_SIZE\"]),\n",
    "    batch_size=CONFIGURATION[\"BATCH_SIZE\"],\n",
    "    class_mode='binary',\n",
    "    shuffle=False,\n",
    "    seed = 99\n",
    ")\n",
    "\n",
    "#모델 컴파일\n",
    "model.compile(optimizer=Adam(learning_rate=CONFIGURATION[\"LEARNING_RATE\"]),\n",
    "              loss='binary_crossentropy',\n",
    "              metrics=['accuracy'])\n",
    "\n",
    "#early_stopping = EarlyStopping(monitor='val_accuracy', patience=3, restore_best_weights=True)\n",
    "early_stopping = EarlyStopping(monitor='loss', patience=5, restore_best_weights=True)\n",
    "\n",
    "#모델 학습\n",
    "history = model.fit(\n",
    "    train_dataset,\n",
    "    validation_data=val_dataset,\n",
    "    epochs=CONFIGURATION[\"N_EPOCHS\"],\n",
    "    callbacks=[early_stopping],\n",
    "    verbose=1\n",
    ")\n",
    "\n",
    "#학습 과정 시각화\n",
    "plt.figure(figsize=(10, 6))\n",
    "plt.plot(history.history['loss'], label='Train Loss')\n",
    "plt.plot(history.history['val_loss'], label='Validation Loss')\n",
    "plt.title('Model Loss')\n",
    "plt.xlabel('Epochs')\n",
    "plt.ylabel('Loss')\n",
    "plt.legend()\n",
    "plt.show()"
   ]
  },
  {
   "cell_type": "code",
   "execution_count": null,
   "metadata": {
    "id": "b5jVtfYVYxMF"
   },
   "outputs": [
    {
     "name": "stderr",
     "output_type": "stream",
     "text": [
      "WARNING:absl:The `save_format` argument is deprecated in Keras 3. We recommend removing this argument as it can be inferred from the file path. Received: save_format=h5\n",
      "WARNING:absl:You are saving your model as an HDF5 file via `model.save()` or `keras.saving.save_model(model)`. This file format is considered legacy. We recommend using instead the native Keras format, e.g. `model.save('my_model.keras')` or `keras.saving.save_model(model, 'my_model.keras')`. \n"
     ]
    },
    {
     "ename": "TypeError",
     "evalue": "cannot pickle 'module' object",
     "output_type": "error",
     "traceback": [
      "\u001b[0;31m---------------------------------------------------------------------------\u001b[0m",
      "\u001b[0;31mTypeError\u001b[0m                                 Traceback (most recent call last)",
      "Cell \u001b[0;32mIn[7], line 5\u001b[0m\n\u001b[1;32m      2\u001b[0m \u001b[38;5;28;01mimport\u001b[39;00m\u001b[38;5;250m \u001b[39m\u001b[38;5;21;01mtensorflow\u001b[39;00m\u001b[38;5;250m \u001b[39m\u001b[38;5;28;01mas\u001b[39;00m\u001b[38;5;250m \u001b[39m\u001b[38;5;21;01mtf\u001b[39;00m\n\u001b[1;32m      4\u001b[0m \u001b[38;5;66;03m#model.save(\"model/final_model_v7.keras\")  # 최신 Keras 형식 사용\u001b[39;00m\n\u001b[0;32m----> 5\u001b[0m \u001b[43mmodel\u001b[49m\u001b[38;5;241;43m.\u001b[39;49m\u001b[43msave\u001b[49m\u001b[43m(\u001b[49m\u001b[38;5;124;43m\"\u001b[39;49m\u001b[38;5;124;43mmodel/final_model_v7.h5\u001b[39;49m\u001b[38;5;124;43m\"\u001b[39;49m\u001b[43m,\u001b[49m\u001b[43m \u001b[49m\u001b[43msave_format\u001b[49m\u001b[38;5;241;43m=\u001b[39;49m\u001b[38;5;124;43m\"\u001b[39;49m\u001b[38;5;124;43mh5\u001b[39;49m\u001b[38;5;124;43m\"\u001b[39;49m\u001b[43m)\u001b[49m\n",
      "File \u001b[0;32m~/miniconda3/envs/ml-ops/lib/python3.12/site-packages/keras/src/utils/traceback_utils.py:122\u001b[0m, in \u001b[0;36mfilter_traceback.<locals>.error_handler\u001b[0;34m(*args, **kwargs)\u001b[0m\n\u001b[1;32m    119\u001b[0m     filtered_tb \u001b[38;5;241m=\u001b[39m _process_traceback_frames(e\u001b[38;5;241m.\u001b[39m__traceback__)\n\u001b[1;32m    120\u001b[0m     \u001b[38;5;66;03m# To get the full stack trace, call:\u001b[39;00m\n\u001b[1;32m    121\u001b[0m     \u001b[38;5;66;03m# `keras.config.disable_traceback_filtering()`\u001b[39;00m\n\u001b[0;32m--> 122\u001b[0m     \u001b[38;5;28;01mraise\u001b[39;00m e\u001b[38;5;241m.\u001b[39mwith_traceback(filtered_tb) \u001b[38;5;28;01mfrom\u001b[39;00m\u001b[38;5;250m \u001b[39m\u001b[38;5;28;01mNone\u001b[39;00m\n\u001b[1;32m    123\u001b[0m \u001b[38;5;28;01mfinally\u001b[39;00m:\n\u001b[1;32m    124\u001b[0m     \u001b[38;5;28;01mdel\u001b[39;00m filtered_tb\n",
      "File \u001b[0;32m~/miniconda3/envs/ml-ops/lib/python3.12/copy.py:136\u001b[0m, in \u001b[0;36mdeepcopy\u001b[0;34m(x, memo, _nil)\u001b[0m\n\u001b[1;32m    134\u001b[0m copier \u001b[38;5;241m=\u001b[39m _deepcopy_dispatch\u001b[38;5;241m.\u001b[39mget(\u001b[38;5;28mcls\u001b[39m)\n\u001b[1;32m    135\u001b[0m \u001b[38;5;28;01mif\u001b[39;00m copier \u001b[38;5;129;01mis\u001b[39;00m \u001b[38;5;129;01mnot\u001b[39;00m \u001b[38;5;28;01mNone\u001b[39;00m:\n\u001b[0;32m--> 136\u001b[0m     y \u001b[38;5;241m=\u001b[39m \u001b[43mcopier\u001b[49m\u001b[43m(\u001b[49m\u001b[43mx\u001b[49m\u001b[43m,\u001b[49m\u001b[43m \u001b[49m\u001b[43mmemo\u001b[49m\u001b[43m)\u001b[49m\n\u001b[1;32m    137\u001b[0m \u001b[38;5;28;01melse\u001b[39;00m:\n\u001b[1;32m    138\u001b[0m     \u001b[38;5;28;01mif\u001b[39;00m \u001b[38;5;28missubclass\u001b[39m(\u001b[38;5;28mcls\u001b[39m, \u001b[38;5;28mtype\u001b[39m):\n",
      "File \u001b[0;32m~/miniconda3/envs/ml-ops/lib/python3.12/copy.py:221\u001b[0m, in \u001b[0;36m_deepcopy_dict\u001b[0;34m(x, memo, deepcopy)\u001b[0m\n\u001b[1;32m    219\u001b[0m memo[\u001b[38;5;28mid\u001b[39m(x)] \u001b[38;5;241m=\u001b[39m y\n\u001b[1;32m    220\u001b[0m \u001b[38;5;28;01mfor\u001b[39;00m key, value \u001b[38;5;129;01min\u001b[39;00m x\u001b[38;5;241m.\u001b[39mitems():\n\u001b[0;32m--> 221\u001b[0m     y[deepcopy(key, memo)] \u001b[38;5;241m=\u001b[39m \u001b[43mdeepcopy\u001b[49m\u001b[43m(\u001b[49m\u001b[43mvalue\u001b[49m\u001b[43m,\u001b[49m\u001b[43m \u001b[49m\u001b[43mmemo\u001b[49m\u001b[43m)\u001b[49m\n\u001b[1;32m    222\u001b[0m \u001b[38;5;28;01mreturn\u001b[39;00m y\n",
      "File \u001b[0;32m~/miniconda3/envs/ml-ops/lib/python3.12/copy.py:136\u001b[0m, in \u001b[0;36mdeepcopy\u001b[0;34m(x, memo, _nil)\u001b[0m\n\u001b[1;32m    134\u001b[0m copier \u001b[38;5;241m=\u001b[39m _deepcopy_dispatch\u001b[38;5;241m.\u001b[39mget(\u001b[38;5;28mcls\u001b[39m)\n\u001b[1;32m    135\u001b[0m \u001b[38;5;28;01mif\u001b[39;00m copier \u001b[38;5;129;01mis\u001b[39;00m \u001b[38;5;129;01mnot\u001b[39;00m \u001b[38;5;28;01mNone\u001b[39;00m:\n\u001b[0;32m--> 136\u001b[0m     y \u001b[38;5;241m=\u001b[39m \u001b[43mcopier\u001b[49m\u001b[43m(\u001b[49m\u001b[43mx\u001b[49m\u001b[43m,\u001b[49m\u001b[43m \u001b[49m\u001b[43mmemo\u001b[49m\u001b[43m)\u001b[49m\n\u001b[1;32m    137\u001b[0m \u001b[38;5;28;01melse\u001b[39;00m:\n\u001b[1;32m    138\u001b[0m     \u001b[38;5;28;01mif\u001b[39;00m \u001b[38;5;28missubclass\u001b[39m(\u001b[38;5;28mcls\u001b[39m, \u001b[38;5;28mtype\u001b[39m):\n",
      "File \u001b[0;32m~/miniconda3/envs/ml-ops/lib/python3.12/copy.py:196\u001b[0m, in \u001b[0;36m_deepcopy_list\u001b[0;34m(x, memo, deepcopy)\u001b[0m\n\u001b[1;32m    194\u001b[0m append \u001b[38;5;241m=\u001b[39m y\u001b[38;5;241m.\u001b[39mappend\n\u001b[1;32m    195\u001b[0m \u001b[38;5;28;01mfor\u001b[39;00m a \u001b[38;5;129;01min\u001b[39;00m x:\n\u001b[0;32m--> 196\u001b[0m     append(\u001b[43mdeepcopy\u001b[49m\u001b[43m(\u001b[49m\u001b[43ma\u001b[49m\u001b[43m,\u001b[49m\u001b[43m \u001b[49m\u001b[43mmemo\u001b[49m\u001b[43m)\u001b[49m)\n\u001b[1;32m    197\u001b[0m \u001b[38;5;28;01mreturn\u001b[39;00m y\n",
      "File \u001b[0;32m~/miniconda3/envs/ml-ops/lib/python3.12/copy.py:136\u001b[0m, in \u001b[0;36mdeepcopy\u001b[0;34m(x, memo, _nil)\u001b[0m\n\u001b[1;32m    134\u001b[0m copier \u001b[38;5;241m=\u001b[39m _deepcopy_dispatch\u001b[38;5;241m.\u001b[39mget(\u001b[38;5;28mcls\u001b[39m)\n\u001b[1;32m    135\u001b[0m \u001b[38;5;28;01mif\u001b[39;00m copier \u001b[38;5;129;01mis\u001b[39;00m \u001b[38;5;129;01mnot\u001b[39;00m \u001b[38;5;28;01mNone\u001b[39;00m:\n\u001b[0;32m--> 136\u001b[0m     y \u001b[38;5;241m=\u001b[39m \u001b[43mcopier\u001b[49m\u001b[43m(\u001b[49m\u001b[43mx\u001b[49m\u001b[43m,\u001b[49m\u001b[43m \u001b[49m\u001b[43mmemo\u001b[49m\u001b[43m)\u001b[49m\n\u001b[1;32m    137\u001b[0m \u001b[38;5;28;01melse\u001b[39;00m:\n\u001b[1;32m    138\u001b[0m     \u001b[38;5;28;01mif\u001b[39;00m \u001b[38;5;28missubclass\u001b[39m(\u001b[38;5;28mcls\u001b[39m, \u001b[38;5;28mtype\u001b[39m):\n",
      "File \u001b[0;32m~/miniconda3/envs/ml-ops/lib/python3.12/copy.py:221\u001b[0m, in \u001b[0;36m_deepcopy_dict\u001b[0;34m(x, memo, deepcopy)\u001b[0m\n\u001b[1;32m    219\u001b[0m memo[\u001b[38;5;28mid\u001b[39m(x)] \u001b[38;5;241m=\u001b[39m y\n\u001b[1;32m    220\u001b[0m \u001b[38;5;28;01mfor\u001b[39;00m key, value \u001b[38;5;129;01min\u001b[39;00m x\u001b[38;5;241m.\u001b[39mitems():\n\u001b[0;32m--> 221\u001b[0m     y[deepcopy(key, memo)] \u001b[38;5;241m=\u001b[39m \u001b[43mdeepcopy\u001b[49m\u001b[43m(\u001b[49m\u001b[43mvalue\u001b[49m\u001b[43m,\u001b[49m\u001b[43m \u001b[49m\u001b[43mmemo\u001b[49m\u001b[43m)\u001b[49m\n\u001b[1;32m    222\u001b[0m \u001b[38;5;28;01mreturn\u001b[39;00m y\n",
      "File \u001b[0;32m~/miniconda3/envs/ml-ops/lib/python3.12/copy.py:136\u001b[0m, in \u001b[0;36mdeepcopy\u001b[0;34m(x, memo, _nil)\u001b[0m\n\u001b[1;32m    134\u001b[0m copier \u001b[38;5;241m=\u001b[39m _deepcopy_dispatch\u001b[38;5;241m.\u001b[39mget(\u001b[38;5;28mcls\u001b[39m)\n\u001b[1;32m    135\u001b[0m \u001b[38;5;28;01mif\u001b[39;00m copier \u001b[38;5;129;01mis\u001b[39;00m \u001b[38;5;129;01mnot\u001b[39;00m \u001b[38;5;28;01mNone\u001b[39;00m:\n\u001b[0;32m--> 136\u001b[0m     y \u001b[38;5;241m=\u001b[39m \u001b[43mcopier\u001b[49m\u001b[43m(\u001b[49m\u001b[43mx\u001b[49m\u001b[43m,\u001b[49m\u001b[43m \u001b[49m\u001b[43mmemo\u001b[49m\u001b[43m)\u001b[49m\n\u001b[1;32m    137\u001b[0m \u001b[38;5;28;01melse\u001b[39;00m:\n\u001b[1;32m    138\u001b[0m     \u001b[38;5;28;01mif\u001b[39;00m \u001b[38;5;28missubclass\u001b[39m(\u001b[38;5;28mcls\u001b[39m, \u001b[38;5;28mtype\u001b[39m):\n",
      "File \u001b[0;32m~/miniconda3/envs/ml-ops/lib/python3.12/copy.py:221\u001b[0m, in \u001b[0;36m_deepcopy_dict\u001b[0;34m(x, memo, deepcopy)\u001b[0m\n\u001b[1;32m    219\u001b[0m memo[\u001b[38;5;28mid\u001b[39m(x)] \u001b[38;5;241m=\u001b[39m y\n\u001b[1;32m    220\u001b[0m \u001b[38;5;28;01mfor\u001b[39;00m key, value \u001b[38;5;129;01min\u001b[39;00m x\u001b[38;5;241m.\u001b[39mitems():\n\u001b[0;32m--> 221\u001b[0m     y[deepcopy(key, memo)] \u001b[38;5;241m=\u001b[39m \u001b[43mdeepcopy\u001b[49m\u001b[43m(\u001b[49m\u001b[43mvalue\u001b[49m\u001b[43m,\u001b[49m\u001b[43m \u001b[49m\u001b[43mmemo\u001b[49m\u001b[43m)\u001b[49m\n\u001b[1;32m    222\u001b[0m \u001b[38;5;28;01mreturn\u001b[39;00m y\n",
      "File \u001b[0;32m~/miniconda3/envs/ml-ops/lib/python3.12/copy.py:162\u001b[0m, in \u001b[0;36mdeepcopy\u001b[0;34m(x, memo, _nil)\u001b[0m\n\u001b[1;32m    160\u001b[0m                 y \u001b[38;5;241m=\u001b[39m x\n\u001b[1;32m    161\u001b[0m             \u001b[38;5;28;01melse\u001b[39;00m:\n\u001b[0;32m--> 162\u001b[0m                 y \u001b[38;5;241m=\u001b[39m \u001b[43m_reconstruct\u001b[49m\u001b[43m(\u001b[49m\u001b[43mx\u001b[49m\u001b[43m,\u001b[49m\u001b[43m \u001b[49m\u001b[43mmemo\u001b[49m\u001b[43m,\u001b[49m\u001b[43m \u001b[49m\u001b[38;5;241;43m*\u001b[39;49m\u001b[43mrv\u001b[49m\u001b[43m)\u001b[49m\n\u001b[1;32m    164\u001b[0m \u001b[38;5;66;03m# If is its own copy, don't memoize.\u001b[39;00m\n\u001b[1;32m    165\u001b[0m \u001b[38;5;28;01mif\u001b[39;00m y \u001b[38;5;129;01mis\u001b[39;00m \u001b[38;5;129;01mnot\u001b[39;00m x:\n",
      "File \u001b[0;32m~/miniconda3/envs/ml-ops/lib/python3.12/copy.py:259\u001b[0m, in \u001b[0;36m_reconstruct\u001b[0;34m(x, memo, func, args, state, listiter, dictiter, deepcopy)\u001b[0m\n\u001b[1;32m    257\u001b[0m \u001b[38;5;28;01mif\u001b[39;00m state \u001b[38;5;129;01mis\u001b[39;00m \u001b[38;5;129;01mnot\u001b[39;00m \u001b[38;5;28;01mNone\u001b[39;00m:\n\u001b[1;32m    258\u001b[0m     \u001b[38;5;28;01mif\u001b[39;00m deep:\n\u001b[0;32m--> 259\u001b[0m         state \u001b[38;5;241m=\u001b[39m \u001b[43mdeepcopy\u001b[49m\u001b[43m(\u001b[49m\u001b[43mstate\u001b[49m\u001b[43m,\u001b[49m\u001b[43m \u001b[49m\u001b[43mmemo\u001b[49m\u001b[43m)\u001b[49m\n\u001b[1;32m    260\u001b[0m     \u001b[38;5;28;01mif\u001b[39;00m \u001b[38;5;28mhasattr\u001b[39m(y, \u001b[38;5;124m'\u001b[39m\u001b[38;5;124m__setstate__\u001b[39m\u001b[38;5;124m'\u001b[39m):\n\u001b[1;32m    261\u001b[0m         y\u001b[38;5;241m.\u001b[39m__setstate__(state)\n",
      "File \u001b[0;32m~/miniconda3/envs/ml-ops/lib/python3.12/copy.py:136\u001b[0m, in \u001b[0;36mdeepcopy\u001b[0;34m(x, memo, _nil)\u001b[0m\n\u001b[1;32m    134\u001b[0m copier \u001b[38;5;241m=\u001b[39m _deepcopy_dispatch\u001b[38;5;241m.\u001b[39mget(\u001b[38;5;28mcls\u001b[39m)\n\u001b[1;32m    135\u001b[0m \u001b[38;5;28;01mif\u001b[39;00m copier \u001b[38;5;129;01mis\u001b[39;00m \u001b[38;5;129;01mnot\u001b[39;00m \u001b[38;5;28;01mNone\u001b[39;00m:\n\u001b[0;32m--> 136\u001b[0m     y \u001b[38;5;241m=\u001b[39m \u001b[43mcopier\u001b[49m\u001b[43m(\u001b[49m\u001b[43mx\u001b[49m\u001b[43m,\u001b[49m\u001b[43m \u001b[49m\u001b[43mmemo\u001b[49m\u001b[43m)\u001b[49m\n\u001b[1;32m    137\u001b[0m \u001b[38;5;28;01melse\u001b[39;00m:\n\u001b[1;32m    138\u001b[0m     \u001b[38;5;28;01mif\u001b[39;00m \u001b[38;5;28missubclass\u001b[39m(\u001b[38;5;28mcls\u001b[39m, \u001b[38;5;28mtype\u001b[39m):\n",
      "File \u001b[0;32m~/miniconda3/envs/ml-ops/lib/python3.12/copy.py:221\u001b[0m, in \u001b[0;36m_deepcopy_dict\u001b[0;34m(x, memo, deepcopy)\u001b[0m\n\u001b[1;32m    219\u001b[0m memo[\u001b[38;5;28mid\u001b[39m(x)] \u001b[38;5;241m=\u001b[39m y\n\u001b[1;32m    220\u001b[0m \u001b[38;5;28;01mfor\u001b[39;00m key, value \u001b[38;5;129;01min\u001b[39;00m x\u001b[38;5;241m.\u001b[39mitems():\n\u001b[0;32m--> 221\u001b[0m     y[deepcopy(key, memo)] \u001b[38;5;241m=\u001b[39m \u001b[43mdeepcopy\u001b[49m\u001b[43m(\u001b[49m\u001b[43mvalue\u001b[49m\u001b[43m,\u001b[49m\u001b[43m \u001b[49m\u001b[43mmemo\u001b[49m\u001b[43m)\u001b[49m\n\u001b[1;32m    222\u001b[0m \u001b[38;5;28;01mreturn\u001b[39;00m y\n",
      "File \u001b[0;32m~/miniconda3/envs/ml-ops/lib/python3.12/copy.py:162\u001b[0m, in \u001b[0;36mdeepcopy\u001b[0;34m(x, memo, _nil)\u001b[0m\n\u001b[1;32m    160\u001b[0m                 y \u001b[38;5;241m=\u001b[39m x\n\u001b[1;32m    161\u001b[0m             \u001b[38;5;28;01melse\u001b[39;00m:\n\u001b[0;32m--> 162\u001b[0m                 y \u001b[38;5;241m=\u001b[39m \u001b[43m_reconstruct\u001b[49m\u001b[43m(\u001b[49m\u001b[43mx\u001b[49m\u001b[43m,\u001b[49m\u001b[43m \u001b[49m\u001b[43mmemo\u001b[49m\u001b[43m,\u001b[49m\u001b[43m \u001b[49m\u001b[38;5;241;43m*\u001b[39;49m\u001b[43mrv\u001b[49m\u001b[43m)\u001b[49m\n\u001b[1;32m    164\u001b[0m \u001b[38;5;66;03m# If is its own copy, don't memoize.\u001b[39;00m\n\u001b[1;32m    165\u001b[0m \u001b[38;5;28;01mif\u001b[39;00m y \u001b[38;5;129;01mis\u001b[39;00m \u001b[38;5;129;01mnot\u001b[39;00m x:\n",
      "File \u001b[0;32m~/miniconda3/envs/ml-ops/lib/python3.12/copy.py:259\u001b[0m, in \u001b[0;36m_reconstruct\u001b[0;34m(x, memo, func, args, state, listiter, dictiter, deepcopy)\u001b[0m\n\u001b[1;32m    257\u001b[0m \u001b[38;5;28;01mif\u001b[39;00m state \u001b[38;5;129;01mis\u001b[39;00m \u001b[38;5;129;01mnot\u001b[39;00m \u001b[38;5;28;01mNone\u001b[39;00m:\n\u001b[1;32m    258\u001b[0m     \u001b[38;5;28;01mif\u001b[39;00m deep:\n\u001b[0;32m--> 259\u001b[0m         state \u001b[38;5;241m=\u001b[39m \u001b[43mdeepcopy\u001b[49m\u001b[43m(\u001b[49m\u001b[43mstate\u001b[49m\u001b[43m,\u001b[49m\u001b[43m \u001b[49m\u001b[43mmemo\u001b[49m\u001b[43m)\u001b[49m\n\u001b[1;32m    260\u001b[0m     \u001b[38;5;28;01mif\u001b[39;00m \u001b[38;5;28mhasattr\u001b[39m(y, \u001b[38;5;124m'\u001b[39m\u001b[38;5;124m__setstate__\u001b[39m\u001b[38;5;124m'\u001b[39m):\n\u001b[1;32m    261\u001b[0m         y\u001b[38;5;241m.\u001b[39m__setstate__(state)\n",
      "File \u001b[0;32m~/miniconda3/envs/ml-ops/lib/python3.12/copy.py:136\u001b[0m, in \u001b[0;36mdeepcopy\u001b[0;34m(x, memo, _nil)\u001b[0m\n\u001b[1;32m    134\u001b[0m copier \u001b[38;5;241m=\u001b[39m _deepcopy_dispatch\u001b[38;5;241m.\u001b[39mget(\u001b[38;5;28mcls\u001b[39m)\n\u001b[1;32m    135\u001b[0m \u001b[38;5;28;01mif\u001b[39;00m copier \u001b[38;5;129;01mis\u001b[39;00m \u001b[38;5;129;01mnot\u001b[39;00m \u001b[38;5;28;01mNone\u001b[39;00m:\n\u001b[0;32m--> 136\u001b[0m     y \u001b[38;5;241m=\u001b[39m \u001b[43mcopier\u001b[49m\u001b[43m(\u001b[49m\u001b[43mx\u001b[49m\u001b[43m,\u001b[49m\u001b[43m \u001b[49m\u001b[43mmemo\u001b[49m\u001b[43m)\u001b[49m\n\u001b[1;32m    137\u001b[0m \u001b[38;5;28;01melse\u001b[39;00m:\n\u001b[1;32m    138\u001b[0m     \u001b[38;5;28;01mif\u001b[39;00m \u001b[38;5;28missubclass\u001b[39m(\u001b[38;5;28mcls\u001b[39m, \u001b[38;5;28mtype\u001b[39m):\n",
      "File \u001b[0;32m~/miniconda3/envs/ml-ops/lib/python3.12/copy.py:221\u001b[0m, in \u001b[0;36m_deepcopy_dict\u001b[0;34m(x, memo, deepcopy)\u001b[0m\n\u001b[1;32m    219\u001b[0m memo[\u001b[38;5;28mid\u001b[39m(x)] \u001b[38;5;241m=\u001b[39m y\n\u001b[1;32m    220\u001b[0m \u001b[38;5;28;01mfor\u001b[39;00m key, value \u001b[38;5;129;01min\u001b[39;00m x\u001b[38;5;241m.\u001b[39mitems():\n\u001b[0;32m--> 221\u001b[0m     y[deepcopy(key, memo)] \u001b[38;5;241m=\u001b[39m \u001b[43mdeepcopy\u001b[49m\u001b[43m(\u001b[49m\u001b[43mvalue\u001b[49m\u001b[43m,\u001b[49m\u001b[43m \u001b[49m\u001b[43mmemo\u001b[49m\u001b[43m)\u001b[49m\n\u001b[1;32m    222\u001b[0m \u001b[38;5;28;01mreturn\u001b[39;00m y\n",
      "File \u001b[0;32m~/miniconda3/envs/ml-ops/lib/python3.12/copy.py:136\u001b[0m, in \u001b[0;36mdeepcopy\u001b[0;34m(x, memo, _nil)\u001b[0m\n\u001b[1;32m    134\u001b[0m copier \u001b[38;5;241m=\u001b[39m _deepcopy_dispatch\u001b[38;5;241m.\u001b[39mget(\u001b[38;5;28mcls\u001b[39m)\n\u001b[1;32m    135\u001b[0m \u001b[38;5;28;01mif\u001b[39;00m copier \u001b[38;5;129;01mis\u001b[39;00m \u001b[38;5;129;01mnot\u001b[39;00m \u001b[38;5;28;01mNone\u001b[39;00m:\n\u001b[0;32m--> 136\u001b[0m     y \u001b[38;5;241m=\u001b[39m \u001b[43mcopier\u001b[49m\u001b[43m(\u001b[49m\u001b[43mx\u001b[49m\u001b[43m,\u001b[49m\u001b[43m \u001b[49m\u001b[43mmemo\u001b[49m\u001b[43m)\u001b[49m\n\u001b[1;32m    137\u001b[0m \u001b[38;5;28;01melse\u001b[39;00m:\n\u001b[1;32m    138\u001b[0m     \u001b[38;5;28;01mif\u001b[39;00m \u001b[38;5;28missubclass\u001b[39m(\u001b[38;5;28mcls\u001b[39m, \u001b[38;5;28mtype\u001b[39m):\n",
      "File \u001b[0;32m~/miniconda3/envs/ml-ops/lib/python3.12/copy.py:221\u001b[0m, in \u001b[0;36m_deepcopy_dict\u001b[0;34m(x, memo, deepcopy)\u001b[0m\n\u001b[1;32m    219\u001b[0m memo[\u001b[38;5;28mid\u001b[39m(x)] \u001b[38;5;241m=\u001b[39m y\n\u001b[1;32m    220\u001b[0m \u001b[38;5;28;01mfor\u001b[39;00m key, value \u001b[38;5;129;01min\u001b[39;00m x\u001b[38;5;241m.\u001b[39mitems():\n\u001b[0;32m--> 221\u001b[0m     y[deepcopy(key, memo)] \u001b[38;5;241m=\u001b[39m \u001b[43mdeepcopy\u001b[49m\u001b[43m(\u001b[49m\u001b[43mvalue\u001b[49m\u001b[43m,\u001b[49m\u001b[43m \u001b[49m\u001b[43mmemo\u001b[49m\u001b[43m)\u001b[49m\n\u001b[1;32m    222\u001b[0m \u001b[38;5;28;01mreturn\u001b[39;00m y\n",
      "File \u001b[0;32m~/miniconda3/envs/ml-ops/lib/python3.12/copy.py:136\u001b[0m, in \u001b[0;36mdeepcopy\u001b[0;34m(x, memo, _nil)\u001b[0m\n\u001b[1;32m    134\u001b[0m copier \u001b[38;5;241m=\u001b[39m _deepcopy_dispatch\u001b[38;5;241m.\u001b[39mget(\u001b[38;5;28mcls\u001b[39m)\n\u001b[1;32m    135\u001b[0m \u001b[38;5;28;01mif\u001b[39;00m copier \u001b[38;5;129;01mis\u001b[39;00m \u001b[38;5;129;01mnot\u001b[39;00m \u001b[38;5;28;01mNone\u001b[39;00m:\n\u001b[0;32m--> 136\u001b[0m     y \u001b[38;5;241m=\u001b[39m \u001b[43mcopier\u001b[49m\u001b[43m(\u001b[49m\u001b[43mx\u001b[49m\u001b[43m,\u001b[49m\u001b[43m \u001b[49m\u001b[43mmemo\u001b[49m\u001b[43m)\u001b[49m\n\u001b[1;32m    137\u001b[0m \u001b[38;5;28;01melse\u001b[39;00m:\n\u001b[1;32m    138\u001b[0m     \u001b[38;5;28;01mif\u001b[39;00m \u001b[38;5;28missubclass\u001b[39m(\u001b[38;5;28mcls\u001b[39m, \u001b[38;5;28mtype\u001b[39m):\n",
      "File \u001b[0;32m~/miniconda3/envs/ml-ops/lib/python3.12/copy.py:201\u001b[0m, in \u001b[0;36m_deepcopy_tuple\u001b[0;34m(x, memo, deepcopy)\u001b[0m\n\u001b[1;32m    200\u001b[0m \u001b[38;5;28;01mdef\u001b[39;00m\u001b[38;5;250m \u001b[39m\u001b[38;5;21m_deepcopy_tuple\u001b[39m(x, memo, deepcopy\u001b[38;5;241m=\u001b[39mdeepcopy):\n\u001b[0;32m--> 201\u001b[0m     y \u001b[38;5;241m=\u001b[39m [deepcopy(a, memo) \u001b[38;5;28;01mfor\u001b[39;00m a \u001b[38;5;129;01min\u001b[39;00m x]\n\u001b[1;32m    202\u001b[0m     \u001b[38;5;66;03m# We're not going to put the tuple in the memo, but it's still important we\u001b[39;00m\n\u001b[1;32m    203\u001b[0m     \u001b[38;5;66;03m# check for it, in case the tuple contains recursive mutable structures.\u001b[39;00m\n\u001b[1;32m    204\u001b[0m     \u001b[38;5;28;01mtry\u001b[39;00m:\n",
      "File \u001b[0;32m~/miniconda3/envs/ml-ops/lib/python3.12/copy.py:136\u001b[0m, in \u001b[0;36mdeepcopy\u001b[0;34m(x, memo, _nil)\u001b[0m\n\u001b[1;32m    134\u001b[0m copier \u001b[38;5;241m=\u001b[39m _deepcopy_dispatch\u001b[38;5;241m.\u001b[39mget(\u001b[38;5;28mcls\u001b[39m)\n\u001b[1;32m    135\u001b[0m \u001b[38;5;28;01mif\u001b[39;00m copier \u001b[38;5;129;01mis\u001b[39;00m \u001b[38;5;129;01mnot\u001b[39;00m \u001b[38;5;28;01mNone\u001b[39;00m:\n\u001b[0;32m--> 136\u001b[0m     y \u001b[38;5;241m=\u001b[39m \u001b[43mcopier\u001b[49m\u001b[43m(\u001b[49m\u001b[43mx\u001b[49m\u001b[43m,\u001b[49m\u001b[43m \u001b[49m\u001b[43mmemo\u001b[49m\u001b[43m)\u001b[49m\n\u001b[1;32m    137\u001b[0m \u001b[38;5;28;01melse\u001b[39;00m:\n\u001b[1;32m    138\u001b[0m     \u001b[38;5;28;01mif\u001b[39;00m \u001b[38;5;28missubclass\u001b[39m(\u001b[38;5;28mcls\u001b[39m, \u001b[38;5;28mtype\u001b[39m):\n",
      "File \u001b[0;32m~/miniconda3/envs/ml-ops/lib/python3.12/copy.py:196\u001b[0m, in \u001b[0;36m_deepcopy_list\u001b[0;34m(x, memo, deepcopy)\u001b[0m\n\u001b[1;32m    194\u001b[0m append \u001b[38;5;241m=\u001b[39m y\u001b[38;5;241m.\u001b[39mappend\n\u001b[1;32m    195\u001b[0m \u001b[38;5;28;01mfor\u001b[39;00m a \u001b[38;5;129;01min\u001b[39;00m x:\n\u001b[0;32m--> 196\u001b[0m     append(\u001b[43mdeepcopy\u001b[49m\u001b[43m(\u001b[49m\u001b[43ma\u001b[49m\u001b[43m,\u001b[49m\u001b[43m \u001b[49m\u001b[43mmemo\u001b[49m\u001b[43m)\u001b[49m)\n\u001b[1;32m    197\u001b[0m \u001b[38;5;28;01mreturn\u001b[39;00m y\n",
      "File \u001b[0;32m~/miniconda3/envs/ml-ops/lib/python3.12/copy.py:162\u001b[0m, in \u001b[0;36mdeepcopy\u001b[0;34m(x, memo, _nil)\u001b[0m\n\u001b[1;32m    160\u001b[0m                 y \u001b[38;5;241m=\u001b[39m x\n\u001b[1;32m    161\u001b[0m             \u001b[38;5;28;01melse\u001b[39;00m:\n\u001b[0;32m--> 162\u001b[0m                 y \u001b[38;5;241m=\u001b[39m \u001b[43m_reconstruct\u001b[49m\u001b[43m(\u001b[49m\u001b[43mx\u001b[49m\u001b[43m,\u001b[49m\u001b[43m \u001b[49m\u001b[43mmemo\u001b[49m\u001b[43m,\u001b[49m\u001b[43m \u001b[49m\u001b[38;5;241;43m*\u001b[39;49m\u001b[43mrv\u001b[49m\u001b[43m)\u001b[49m\n\u001b[1;32m    164\u001b[0m \u001b[38;5;66;03m# If is its own copy, don't memoize.\u001b[39;00m\n\u001b[1;32m    165\u001b[0m \u001b[38;5;28;01mif\u001b[39;00m y \u001b[38;5;129;01mis\u001b[39;00m \u001b[38;5;129;01mnot\u001b[39;00m x:\n",
      "File \u001b[0;32m~/miniconda3/envs/ml-ops/lib/python3.12/copy.py:259\u001b[0m, in \u001b[0;36m_reconstruct\u001b[0;34m(x, memo, func, args, state, listiter, dictiter, deepcopy)\u001b[0m\n\u001b[1;32m    257\u001b[0m \u001b[38;5;28;01mif\u001b[39;00m state \u001b[38;5;129;01mis\u001b[39;00m \u001b[38;5;129;01mnot\u001b[39;00m \u001b[38;5;28;01mNone\u001b[39;00m:\n\u001b[1;32m    258\u001b[0m     \u001b[38;5;28;01mif\u001b[39;00m deep:\n\u001b[0;32m--> 259\u001b[0m         state \u001b[38;5;241m=\u001b[39m \u001b[43mdeepcopy\u001b[49m\u001b[43m(\u001b[49m\u001b[43mstate\u001b[49m\u001b[43m,\u001b[49m\u001b[43m \u001b[49m\u001b[43mmemo\u001b[49m\u001b[43m)\u001b[49m\n\u001b[1;32m    260\u001b[0m     \u001b[38;5;28;01mif\u001b[39;00m \u001b[38;5;28mhasattr\u001b[39m(y, \u001b[38;5;124m'\u001b[39m\u001b[38;5;124m__setstate__\u001b[39m\u001b[38;5;124m'\u001b[39m):\n\u001b[1;32m    261\u001b[0m         y\u001b[38;5;241m.\u001b[39m__setstate__(state)\n",
      "File \u001b[0;32m~/miniconda3/envs/ml-ops/lib/python3.12/copy.py:136\u001b[0m, in \u001b[0;36mdeepcopy\u001b[0;34m(x, memo, _nil)\u001b[0m\n\u001b[1;32m    134\u001b[0m copier \u001b[38;5;241m=\u001b[39m _deepcopy_dispatch\u001b[38;5;241m.\u001b[39mget(\u001b[38;5;28mcls\u001b[39m)\n\u001b[1;32m    135\u001b[0m \u001b[38;5;28;01mif\u001b[39;00m copier \u001b[38;5;129;01mis\u001b[39;00m \u001b[38;5;129;01mnot\u001b[39;00m \u001b[38;5;28;01mNone\u001b[39;00m:\n\u001b[0;32m--> 136\u001b[0m     y \u001b[38;5;241m=\u001b[39m \u001b[43mcopier\u001b[49m\u001b[43m(\u001b[49m\u001b[43mx\u001b[49m\u001b[43m,\u001b[49m\u001b[43m \u001b[49m\u001b[43mmemo\u001b[49m\u001b[43m)\u001b[49m\n\u001b[1;32m    137\u001b[0m \u001b[38;5;28;01melse\u001b[39;00m:\n\u001b[1;32m    138\u001b[0m     \u001b[38;5;28;01mif\u001b[39;00m \u001b[38;5;28missubclass\u001b[39m(\u001b[38;5;28mcls\u001b[39m, \u001b[38;5;28mtype\u001b[39m):\n",
      "File \u001b[0;32m~/miniconda3/envs/ml-ops/lib/python3.12/copy.py:221\u001b[0m, in \u001b[0;36m_deepcopy_dict\u001b[0;34m(x, memo, deepcopy)\u001b[0m\n\u001b[1;32m    219\u001b[0m memo[\u001b[38;5;28mid\u001b[39m(x)] \u001b[38;5;241m=\u001b[39m y\n\u001b[1;32m    220\u001b[0m \u001b[38;5;28;01mfor\u001b[39;00m key, value \u001b[38;5;129;01min\u001b[39;00m x\u001b[38;5;241m.\u001b[39mitems():\n\u001b[0;32m--> 221\u001b[0m     y[deepcopy(key, memo)] \u001b[38;5;241m=\u001b[39m \u001b[43mdeepcopy\u001b[49m\u001b[43m(\u001b[49m\u001b[43mvalue\u001b[49m\u001b[43m,\u001b[49m\u001b[43m \u001b[49m\u001b[43mmemo\u001b[49m\u001b[43m)\u001b[49m\n\u001b[1;32m    222\u001b[0m \u001b[38;5;28;01mreturn\u001b[39;00m y\n",
      "File \u001b[0;32m~/miniconda3/envs/ml-ops/lib/python3.12/copy.py:151\u001b[0m, in \u001b[0;36mdeepcopy\u001b[0;34m(x, memo, _nil)\u001b[0m\n\u001b[1;32m    149\u001b[0m reductor \u001b[38;5;241m=\u001b[39m \u001b[38;5;28mgetattr\u001b[39m(x, \u001b[38;5;124m\"\u001b[39m\u001b[38;5;124m__reduce_ex__\u001b[39m\u001b[38;5;124m\"\u001b[39m, \u001b[38;5;28;01mNone\u001b[39;00m)\n\u001b[1;32m    150\u001b[0m \u001b[38;5;28;01mif\u001b[39;00m reductor \u001b[38;5;129;01mis\u001b[39;00m \u001b[38;5;129;01mnot\u001b[39;00m \u001b[38;5;28;01mNone\u001b[39;00m:\n\u001b[0;32m--> 151\u001b[0m     rv \u001b[38;5;241m=\u001b[39m \u001b[43mreductor\u001b[49m\u001b[43m(\u001b[49m\u001b[38;5;241;43m4\u001b[39;49m\u001b[43m)\u001b[49m\n\u001b[1;32m    152\u001b[0m \u001b[38;5;28;01melse\u001b[39;00m:\n\u001b[1;32m    153\u001b[0m     reductor \u001b[38;5;241m=\u001b[39m \u001b[38;5;28mgetattr\u001b[39m(x, \u001b[38;5;124m\"\u001b[39m\u001b[38;5;124m__reduce__\u001b[39m\u001b[38;5;124m\"\u001b[39m, \u001b[38;5;28;01mNone\u001b[39;00m)\n",
      "\u001b[0;31mTypeError\u001b[0m: cannot pickle 'module' object"
     ]
    }
   ],
   "source": [
    "#모델 저장\n",
    "import tensorflow as tf\n",
    "\n",
    "model.save(\"model/final_model_v7.keras\")  # 최신 Keras 형식 사용\n",
    "#model.save(\"model/final_model_v7.h5\", save_format=\"h5\")\n"
   ]
  },
  {
   "cell_type": "code",
   "execution_count": null,
   "metadata": {
    "colab": {
     "base_uri": "https://localhost:8080/",
     "height": 391
    },
    "executionInfo": {
     "elapsed": 1841798,
     "status": "error",
     "timestamp": 1739768737551,
     "user": {
      "displayName": "이하은",
      "userId": "06607701604719915973"
     },
     "user_tz": -540
    },
    "id": "nISPcfzzpgs1",
    "outputId": "1e9f7b06-7fe4-496a-da21-8de78f1c6c63"
   },
   "outputs": [
    {
     "name": "stdout",
     "output_type": "stream",
     "text": [
      "\u001b[1m27/27\u001b[0m \u001b[32m━━━━━━━━━━━━━━━━━━━━\u001b[0m\u001b[37m\u001b[0m \u001b[1m2s\u001b[0m 54ms/step - accuracy: 0.4942 - loss: 0.9055\n",
      "Validation Accuracy: 52.38%\n"
     ]
    }
   ],
   "source": [
    "from sklearn.metrics import confusion_matrix\n",
    "import matplotlib.pyplot as plt\n",
    "import seaborn as sns\n",
    "import numpy as np\n",
    "\n",
    "# 모델 평가: Validation 데이터셋에 대한 정확도 계산\n",
    "val_loss, val_accuracy = model.evaluate(val_dataset)\n",
    "print(f\"Validation Accuracy: {val_accuracy * 100:.2f}%\")\n",
    "\n",
    "# 예측 및 실제 레이블 추출\n",
    "y_true = []\n",
    "y_pred = []\n",
    "\n",
    "# Validation 데이터셋에서 예측 수행\n",
    "for images, labels in val_dataset:\n",
    "    predictions = model.predict(images, verbose=0)  # 로그 출력 생략\n",
    "    y_true.extend(labels)  # 실제 레이블\n",
    "    y_pred.extend(np.round(predictions).flatten())  # 예측 레이블 (0 또는 1로 변환)\n",
    "\n",
    "# Confusion Matrix 계산\n",
    "cm = confusion_matrix(y_true, y_pred)\n",
    "\n",
    "# Confusion Matrix 시각화\n",
    "plt.figure(figsize=(6, 6))\n",
    "sns.heatmap(\n",
    "    cm,\n",
    "    annot=True,\n",
    "    fmt='d',\n",
    "    cmap='Blues',\n",
    "    xticklabels=CONFIGURATION[\"CLASS_NAMES\"],\n",
    "    yticklabels=CONFIGURATION[\"CLASS_NAMES\"],\n",
    ")\n",
    "plt.xlabel('Predicted')\n",
    "plt.ylabel('True')\n",
    "plt.title('Confusion Matrix')\n",
    "plt.show()\n",
    "\n",
    "# Confusion Matrix 출력\n",
    "print(\"Confusion Matrix:\")\n",
    "print(cm)\n"
   ]
  },
  {
   "cell_type": "code",
   "execution_count": null,
   "metadata": {
    "id": "MNNacRwEMBLV"
   },
   "outputs": [],
   "source": []
  },
  {
   "cell_type": "code",
   "execution_count": null,
   "metadata": {},
   "outputs": [],
   "source": []
  }
 ],
 "metadata": {
  "accelerator": "GPU",
  "colab": {
   "gpuType": "T4",
   "provenance": [],
   "toc_visible": true
  },
  "kernelspec": {
   "display_name": "ml-ops",
   "language": "python",
   "name": "python3"
  },
  "language_info": {
   "codemirror_mode": {
    "name": "ipython",
    "version": 3
   },
   "file_extension": ".py",
   "mimetype": "text/x-python",
   "name": "python",
   "nbconvert_exporter": "python",
   "pygments_lexer": "ipython3",
   "version": "3.12.9"
  }
 },
 "nbformat": 4,
 "nbformat_minor": 0
}
