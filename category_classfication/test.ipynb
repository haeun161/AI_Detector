{
 "cells": [
  {
   "cell_type": "markdown",
   "metadata": {},
   "source": [
    "자체 데이터셋 평가"
   ]
  },
  {
   "cell_type": "markdown",
   "metadata": {},
   "source": [
    "# GPU 할당"
   ]
  },
  {
   "cell_type": "code",
   "execution_count": 8,
   "metadata": {},
   "outputs": [
    {
     "name": "stdout",
     "output_type": "stream",
     "text": [
      "Visible devices cannot be modified after being initialized\n",
      "[LogicalDevice(name='/device:GPU:0', device_type='GPU'), LogicalDevice(name='/device:GPU:1', device_type='GPU'), LogicalDevice(name='/device:GPU:2', device_type='GPU'), LogicalDevice(name='/device:GPU:3', device_type='GPU'), LogicalDevice(name='/device:GPU:4', device_type='GPU'), LogicalDevice(name='/device:GPU:5', device_type='GPU'), LogicalDevice(name='/device:GPU:6', device_type='GPU'), LogicalDevice(name='/device:GPU:7', device_type='GPU')]\n"
     ]
    }
   ],
   "source": [
    "import tensorflow as tf\n",
    "\n",
    "# GPU 0만 사용\n",
    "gpus = tf.config.experimental.list_physical_devices('GPU')\n",
    "if gpus:\n",
    "    try:\n",
    "        tf.config.experimental.set_visible_devices(gpus[0], 'GPU')  # GPU 0만 사용\n",
    "        tf.config.experimental.set_memory_growth(gpus[0], True)  # 메모리 동적 할당\n",
    "    except RuntimeError as e:\n",
    "        print(e)\n",
    "\n",
    "# TensorFlow에서 사용할 장치 확인\n",
    "print(tf.config.experimental.list_logical_devices('GPU'))\n"
   ]
  },
  {
   "cell_type": "code",
   "execution_count": 12,
   "metadata": {},
   "outputs": [],
   "source": [
    "import os\n",
    "os.environ[\"CUDA_VISIBLE_DEVICES\"] = \"0\""
   ]
  },
  {
   "cell_type": "markdown",
   "metadata": {},
   "source": [
    "# 필요한 라이브러리 로드"
   ]
  },
  {
   "cell_type": "code",
   "execution_count": 6,
   "metadata": {},
   "outputs": [],
   "source": [
    "import os\n",
    "import numpy as np\n",
    "import matplotlib.pyplot as plt\n",
    "import seaborn as sns\n",
    "import tensorflow as tf\n",
    "from tensorflow.keras.models import load_model\n",
    "from tensorflow.keras.preprocessing.image import ImageDataGenerator\n",
    "from sklearn.metrics import confusion_matrix, classification_report"
   ]
  },
  {
   "cell_type": "markdown",
   "metadata": {},
   "source": [
    "# 모델 로드"
   ]
  },
  {
   "cell_type": "code",
   "execution_count": 7,
   "metadata": {},
   "outputs": [
    {
     "name": "stderr",
     "output_type": "stream",
     "text": [
      "WARNING:absl:Compiled the loaded model, but the compiled metrics have yet to be built. `model.compile_metrics` will be empty until you train or evaluate the model.\n"
     ]
    }
   ],
   "source": [
    "# 모델 로드\n",
    "model_path = \"/home/jangminoh_2/AI_Detector/model/model_v7.h5\"\n",
    "model = load_model(model_path)"
   ]
  },
  {
   "cell_type": "markdown",
   "metadata": {},
   "source": [
    "# 건축물 데이터셋"
   ]
  },
  {
   "cell_type": "code",
   "execution_count": 9,
   "metadata": {},
   "outputs": [],
   "source": [
    "# 데이터셋 경로\n",
    "dataset_dir = \"/home/jangminoh_2/AI_Detector/data/자체 데이터셋 분류/건축물(빌딩, 유적지 등)\"\n",
    "fake_dir = \"/home/jangminoh_2/AI_Detector/data/자체 데이터셋 분류/건축물(빌딩, 유적지 등)/fake\"\n",
    "real_dir = \"/home/jangminoh_2/AI_Detector/data/자체 데이터셋 분류/건축물(빌딩, 유적지 등)/real\""
   ]
  },
  {
   "cell_type": "code",
   "execution_count": 10,
   "metadata": {},
   "outputs": [
    {
     "name": "stdout",
     "output_type": "stream",
     "text": [
      "Fake: 48, Real: 28\n"
     ]
    }
   ],
   "source": [
    "fake_count = len(os.listdir(fake_dir)) if os.path.exists(fake_dir) else 0\n",
    "real_count = len(os.listdir(real_dir)) if os.path.exists(real_dir) else 0\n",
    "\n",
    "print(f\"Fake: {fake_count}, Real: {real_count}\")"
   ]
  },
  {
   "cell_type": "code",
   "execution_count": 11,
   "metadata": {},
   "outputs": [
    {
     "name": "stdout",
     "output_type": "stream",
     "text": [
      "Found 76 images belonging to 2 classes.\n"
     ]
    },
    {
     "name": "stderr",
     "output_type": "stream",
     "text": [
      "/home/jangminoh_2/miniconda3/envs/ml-ops/lib/python3.12/site-packages/keras/src/trainers/data_adapters/py_dataset_adapter.py:121: UserWarning: Your `PyDataset` class should call `super().__init__(**kwargs)` in its constructor. `**kwargs` can include `workers`, `use_multiprocessing`, `max_queue_size`. Do not pass these arguments to `fit()`, as they will be ignored.\n",
      "  self._warn_if_super_not_called()\n",
      "WARNING: All log messages before absl::InitializeLog() is called are written to STDERR\n",
      "I0000 00:00:1741365363.740508 3307925 service.cc:146] XLA service 0x7bf7680ba310 initialized for platform CUDA (this does not guarantee that XLA will be used). Devices:\n",
      "I0000 00:00:1741365363.740582 3307925 service.cc:154]   StreamExecutor device (0): NVIDIA RTX A5000, Compute Capability 8.6\n",
      "I0000 00:00:1741365363.740587 3307925 service.cc:154]   StreamExecutor device (1): NVIDIA RTX A5000, Compute Capability 8.6\n",
      "I0000 00:00:1741365363.740617 3307925 service.cc:154]   StreamExecutor device (2): NVIDIA RTX A5000, Compute Capability 8.6\n",
      "I0000 00:00:1741365363.740622 3307925 service.cc:154]   StreamExecutor device (3): NVIDIA RTX A5000, Compute Capability 8.6\n",
      "I0000 00:00:1741365363.740626 3307925 service.cc:154]   StreamExecutor device (4): NVIDIA RTX A5000, Compute Capability 8.6\n",
      "I0000 00:00:1741365363.740630 3307925 service.cc:154]   StreamExecutor device (5): NVIDIA RTX A5000, Compute Capability 8.6\n",
      "I0000 00:00:1741365363.740634 3307925 service.cc:154]   StreamExecutor device (6): NVIDIA RTX A5000, Compute Capability 8.6\n",
      "I0000 00:00:1741365363.740637 3307925 service.cc:154]   StreamExecutor device (7): NVIDIA RTX A5000, Compute Capability 8.6\n",
      "2025-03-08 01:36:03.894894: I tensorflow/compiler/mlir/tensorflow/utils/dump_mlir_util.cc:268] disabling MLIR crash reproducer, set env var `MLIR_CRASH_REPRODUCER_DIRECTORY` to enable.\n",
      "2025-03-08 01:36:04.922011: I external/local_xla/xla/stream_executor/cuda/cuda_dnn.cc:531] Loaded cuDNN version 8907\n",
      "2025-03-08 01:36:05.806730: I external/local_xla/xla/stream_executor/cuda/cuda_asm_compiler.cc:393] ptxas warning : Registers are spilled to local memory in function 'gemm_fusion_dot_2', 36 bytes spill stores, 36 bytes spill loads\n",
      "\n"
     ]
    },
    {
     "name": "stdout",
     "output_type": "stream",
     "text": [
      "\u001b[1m 4/76\u001b[0m \u001b[32m━\u001b[0m\u001b[37m━━━━━━━━━━━━━━━━━━━\u001b[0m \u001b[1m1s\u001b[0m 23ms/step  "
     ]
    },
    {
     "name": "stderr",
     "output_type": "stream",
     "text": [
      "I0000 00:00:1741365374.362266 3307925 device_compiler.h:188] Compiled cluster using XLA!  This line is logged at most once for the lifetime of the process.\n"
     ]
    },
    {
     "name": "stdout",
     "output_type": "stream",
     "text": [
      "\u001b[1m76/76\u001b[0m \u001b[32m━━━━━━━━━━━━━━━━━━━━\u001b[0m\u001b[37m\u001b[0m \u001b[1m16s\u001b[0m 23ms/step\n",
      "[[0.17732894]\n",
      " [0.17223279]\n",
      " [0.18719964]\n",
      " [0.6022489 ]\n",
      " [0.43189558]\n",
      " [0.3658998 ]\n",
      " [0.01652322]\n",
      " [0.22059211]\n",
      " [0.16776621]\n",
      " [0.09039018]\n",
      " [0.29656112]\n",
      " [0.01959887]\n",
      " [0.02748545]\n",
      " [0.06250079]\n",
      " [0.20208542]\n",
      " [0.66959184]\n",
      " [0.67927045]\n",
      " [0.10154098]\n",
      " [0.10268503]\n",
      " [0.09110326]\n",
      " [0.12417696]\n",
      " [0.18513335]\n",
      " [0.05209919]\n",
      " [0.52306426]\n",
      " [0.37348223]\n",
      " [0.0179692 ]\n",
      " [0.12121009]\n",
      " [0.12250319]\n",
      " [0.07281674]\n",
      " [0.04991569]\n",
      " [0.33543032]\n",
      " [0.90445614]\n",
      " [0.9849327 ]\n",
      " [0.2518742 ]\n",
      " [0.8096452 ]\n",
      " [0.3492865 ]\n",
      " [0.22967452]\n",
      " [0.10434654]\n",
      " [0.18675783]\n",
      " [0.6241628 ]\n",
      " [0.7122728 ]\n",
      " [0.21529514]\n",
      " [0.3194767 ]\n",
      " [0.26397753]\n",
      " [0.23199041]\n",
      " [0.23199041]\n",
      " [0.5984664 ]\n",
      " [0.5984664 ]\n",
      " [0.53595984]\n",
      " [0.56767046]\n",
      " [0.5464734 ]\n",
      " [0.37562597]\n",
      " [0.45429248]\n",
      " [0.10203574]\n",
      " [0.8291996 ]\n",
      " [0.10281237]\n",
      " [0.556655  ]\n",
      " [0.10517495]\n",
      " [0.2825425 ]\n",
      " [0.17927103]\n",
      " [0.53726196]\n",
      " [0.52058053]\n",
      " [0.28488836]\n",
      " [0.40546912]\n",
      " [0.6300481 ]\n",
      " [0.26686996]\n",
      " [0.40798274]\n",
      " [0.0670728 ]\n",
      " [0.46789324]\n",
      " [0.36522394]\n",
      " [0.7455706 ]\n",
      " [0.16608873]\n",
      " [0.15800032]\n",
      " [0.0877061 ]\n",
      " [0.8236257 ]\n",
      " [0.40430722]]\n",
      "Model Accuracy: 0.6184\n"
     ]
    },
    {
     "data": {
      "image/png": "[encoded data removed]",
      "text/plain": [
       "<Figure size 600x500 with 2 Axes>"
      ]
     },
     "metadata": {},
     "output_type": "display_data"
    },
    {
     "name": "stdout",
     "output_type": "stream",
     "text": [
      "\n",
      "Classification Report:\n",
      "              precision    recall  f1-score   support\n",
      "\n",
      "        fake       0.67      0.77      0.72        48\n",
      "        real       0.48      0.36      0.41        28\n",
      "\n",
      "    accuracy                           0.62        76\n",
      "   macro avg       0.57      0.56      0.56        76\n",
      "weighted avg       0.60      0.62      0.60        76\n",
      "\n"
     ]
    }
   ],
   "source": [
    "# 이미지 크기 및 배치 사이즈 설정\n",
    "img_size = (528, 528)  # EfficientNetB6의 입력 크기에 맞게 변경 가능\n",
    "batch_size = 1\n",
    "\n",
    "# 데이터 로더 설정 (test용)\n",
    "datagen = ImageDataGenerator(\n",
    "    preprocessing_function=tf.keras.applications.efficientnet.preprocess_input\n",
    ")\n",
    "\n",
    "test_generator = datagen.flow_from_directory(\n",
    "    dataset_dir,\n",
    "    target_size=img_size,\n",
    "    batch_size=batch_size,\n",
    "    class_mode=\"binary\",  # 이진 분류 (fake vs real)\n",
    "    shuffle= False\n",
    ")\n",
    "\n",
    "# 실제 라벨 가져오기\n",
    "y_true = test_generator.classes  # 0: fake, 1: real\n",
    "#print(y_true)\n",
    "class_names = list(test_generator.class_indices.keys())\n",
    "#print(class_names) #['fake', 'real']\n",
    "#print(test_generator.class_indices)\n",
    "\n",
    "# 예측 수행\n",
    "y_pred_probs = model.predict(test_generator, steps=test_generator.samples)  # 확률값 출력\n",
    "print(y_pred_probs)\n",
    "y_pred = (y_pred_probs > 0.5).astype(int).flatten()  # 0.5 이상이면 1(real), 아니면 0(fake)\n",
    "\n",
    "# 정확도 출력\n",
    "accuracy = np.mean(y_pred == y_true)\n",
    "print(f\"Model Accuracy: {accuracy:.4f}\")\n",
    "\n",
    "# Confusion Matrix 생성\n",
    "cm = confusion_matrix(y_true, y_pred)\n",
    "\n",
    "# Confusion Matrix 시각화\n",
    "plt.figure(figsize=(6, 5))\n",
    "sns.heatmap(cm, annot=True, fmt=\"d\", cmap=\"Blues\", xticklabels=class_names, yticklabels=class_names)\n",
    "plt.xlabel(\"Predicted Label\")\n",
    "plt.ylabel(\"True Label\")\n",
    "plt.title(\"Confusion Matrix\")\n",
    "plt.show()\n",
    "\n",
    "# 분류 보고서 출력\n",
    "print(\"\\nClassification Report:\")\n",
    "print(classification_report(y_true, y_pred, target_names=class_names))\n"
   ]
  },
  {
   "cell_type": "markdown",
   "metadata": {},
   "source": [
    "# 동물"
   ]
  },
  {
   "cell_type": "code",
   "execution_count": 13,
   "metadata": {},
   "outputs": [],
   "source": [
    "# 데이터셋 경로\n",
    "dataset_dir = \"/home/jangminoh_2/AI_Detector/data/자체 데이터셋 분류/동물\"\n",
    "fake_dir = \"/home/jangminoh_2/AI_Detector/data/자체 데이터셋 분류/동물/fake\"\n",
    "real_dir = \"/home/jangminoh_2/AI_Detector/data/자체 데이터셋 분류/동물/real\""
   ]
  },
  {
   "cell_type": "code",
   "execution_count": 14,
   "metadata": {},
   "outputs": [
    {
     "name": "stdout",
     "output_type": "stream",
     "text": [
      "Fake: 51, Real: 22\n"
     ]
    }
   ],
   "source": [
    "fake_count = len(os.listdir(fake_dir)) if os.path.exists(fake_dir) else 0\n",
    "real_count = len(os.listdir(real_dir)) if os.path.exists(real_dir) else 0\n",
    "\n",
    "print(f\"Fake: {fake_count}, Real: {real_count}\")"
   ]
  },
  {
   "cell_type": "code",
   "execution_count": 15,
   "metadata": {},
   "outputs": [
    {
     "name": "stdout",
     "output_type": "stream",
     "text": [
      "Found 73 images belonging to 2 classes.\n",
      "\u001b[1m 1/73\u001b[0m \u001b[37m━━━━━━━━━━━━━━━━━━━━\u001b[0m \u001b[1m7s\u001b[0m 108ms/step"
     ]
    },
    {
     "name": "stderr",
     "output_type": "stream",
     "text": [
      "/home/jangminoh_2/miniconda3/envs/ml-ops/lib/python3.12/site-packages/keras/src/trainers/data_adapters/py_dataset_adapter.py:121: UserWarning: Your `PyDataset` class should call `super().__init__(**kwargs)` in its constructor. `**kwargs` can include `workers`, `use_multiprocessing`, `max_queue_size`. Do not pass these arguments to `fit()`, as they will be ignored.\n",
      "  self._warn_if_super_not_called()\n"
     ]
    },
    {
     "name": "stdout",
     "output_type": "stream",
     "text": [
      "\u001b[1m73/73\u001b[0m \u001b[32m━━━━━━━━━━━━━━━━━━━━\u001b[0m\u001b[37m\u001b[0m \u001b[1m2s\u001b[0m 21ms/step\n",
      "[[0.9002156 ]\n",
      " [0.1262672 ]\n",
      " [0.05725848]\n",
      " [0.19564697]\n",
      " [0.53516376]\n",
      " [0.06997342]\n",
      " [0.8377765 ]\n",
      " [0.07946479]\n",
      " [0.937794  ]\n",
      " [0.4469002 ]\n",
      " [0.99677175]\n",
      " [0.99753916]\n",
      " [0.8791093 ]\n",
      " [0.02615037]\n",
      " [0.0515761 ]\n",
      " [0.09948242]\n",
      " [0.04316114]\n",
      " [0.97119707]\n",
      " [0.67031175]\n",
      " [0.21795875]\n",
      " [0.00518357]\n",
      " [0.7174882 ]\n",
      " [0.10994659]\n",
      " [0.04551271]\n",
      " [0.9174018 ]\n",
      " [0.05828972]\n",
      " [0.421914  ]\n",
      " [0.2858855 ]\n",
      " [0.25400537]\n",
      " [0.7815192 ]\n",
      " [0.5265462 ]\n",
      " [0.7723026 ]\n",
      " [0.7723026 ]\n",
      " [0.70185655]\n",
      " [0.9380902 ]\n",
      " [0.8357951 ]\n",
      " [0.7382259 ]\n",
      " [0.9890704 ]\n",
      " [0.9029784 ]\n",
      " [0.22035389]\n",
      " [0.9166032 ]\n",
      " [0.62307906]\n",
      " [0.94549453]\n",
      " [0.9244072 ]\n",
      " [0.13189736]\n",
      " [0.17281298]\n",
      " [0.7236297 ]\n",
      " [0.03649962]\n",
      " [0.98647875]\n",
      " [0.3527375 ]\n",
      " [0.12082484]\n",
      " [0.99779713]\n",
      " [0.93517673]\n",
      " [0.78646886]\n",
      " [0.9836676 ]\n",
      " [0.92800444]\n",
      " [0.94239503]\n",
      " [0.9962006 ]\n",
      " [0.13865338]\n",
      " [0.82386893]\n",
      " [0.9690558 ]\n",
      " [0.42594057]\n",
      " [0.60115   ]\n",
      " [0.99921715]\n",
      " [0.9998323 ]\n",
      " [0.2988111 ]\n",
      " [0.95987374]\n",
      " [0.99312055]\n",
      " [0.9929762 ]\n",
      " [0.9900467 ]\n",
      " [0.8816446 ]\n",
      " [0.9440197 ]\n",
      " [0.13687636]]\n",
      "Model Accuracy: 0.5753\n"
     ]
    },
    {
     "data": {
      "image/png": "[encoded data removed]",
      "text/plain": [
       "<Figure size 600x500 with 2 Axes>"
      ]
     },
     "metadata": {},
     "output_type": "display_data"
    },
    {
     "name": "stdout",
     "output_type": "stream",
     "text": [
      "\n",
      "Classification Report:\n",
      "              precision    recall  f1-score   support\n",
      "\n",
      "        fake       0.86      0.47      0.61        51\n",
      "        real       0.40      0.82      0.54        22\n",
      "\n",
      "    accuracy                           0.58        73\n",
      "   macro avg       0.63      0.64      0.57        73\n",
      "weighted avg       0.72      0.58      0.59        73\n",
      "\n"
     ]
    }
   ],
   "source": [
    "# 이미지 크기 및 배치 사이즈 설정\n",
    "img_size = (528, 528)  # EfficientNetB6의 입력 크기에 맞게 변경 가능\n",
    "batch_size = 1\n",
    "\n",
    "# 데이터 로더 설정 (test용)\n",
    "datagen = ImageDataGenerator(\n",
    "    preprocessing_function=tf.keras.applications.efficientnet.preprocess_input\n",
    ")\n",
    "\n",
    "test_generator = datagen.flow_from_directory(\n",
    "    dataset_dir,\n",
    "    target_size=img_size,\n",
    "    batch_size=batch_size,\n",
    "    class_mode=\"binary\",  # 이진 분류 (fake vs real)\n",
    "    shuffle= False\n",
    ")\n",
    "\n",
    "# 실제 라벨 가져오기\n",
    "y_true = test_generator.classes  # 0: fake, 1: real\n",
    "#print(y_true)\n",
    "class_names = list(test_generator.class_indices.keys())\n",
    "#print(class_names) #['fake', 'real']\n",
    "#print(test_generator.class_indices)\n",
    "\n",
    "# 예측 수행\n",
    "y_pred_probs = model.predict(test_generator, steps=test_generator.samples)  # 확률값 출력\n",
    "print(y_pred_probs)\n",
    "y_pred = (y_pred_probs > 0.5).astype(int).flatten()  # 0.5 이상이면 1(real), 아니면 0(fake)\n",
    "\n",
    "# 정확도 출력\n",
    "accuracy = np.mean(y_pred == y_true)\n",
    "print(f\"Model Accuracy: {accuracy:.4f}\")\n",
    "\n",
    "# Confusion Matrix 생성\n",
    "cm = confusion_matrix(y_true, y_pred)\n",
    "\n",
    "# Confusion Matrix 시각화\n",
    "plt.figure(figsize=(6, 5))\n",
    "sns.heatmap(cm, annot=True, fmt=\"d\", cmap=\"Blues\", xticklabels=class_names, yticklabels=class_names)\n",
    "plt.xlabel(\"Predicted Label\")\n",
    "plt.ylabel(\"True Label\")\n",
    "plt.title(\"Confusion Matrix\")\n",
    "plt.show()\n",
    "\n",
    "# 분류 보고서 출력\n",
    "print(\"\\nClassification Report:\")\n",
    "print(classification_report(y_true, y_pred, target_names=class_names))"
   ]
  },
  {
   "cell_type": "markdown",
   "metadata": {},
   "source": [
    "# 사물"
   ]
  },
  {
   "cell_type": "code",
   "execution_count": 16,
   "metadata": {},
   "outputs": [],
   "source": [
    "# 데이터셋 경로\n",
    "dataset_dir = \"/home/jangminoh_2/AI_Detector/data/자체 데이터셋 분류/사물\"\n",
    "fake_dir = \"/home/jangminoh_2/AI_Detector/data/자체 데이터셋 분류/사물/fake\"\n",
    "real_dir = \"/home/jangminoh_2/AI_Detector/data/자체 데이터셋 분류/사물/real\""
   ]
  },
  {
   "cell_type": "code",
   "execution_count": 17,
   "metadata": {},
   "outputs": [
    {
     "name": "stdout",
     "output_type": "stream",
     "text": [
      "Fake: 40, Real: 29\n"
     ]
    }
   ],
   "source": [
    "fake_count = len(os.listdir(fake_dir)) if os.path.exists(fake_dir) else 0\n",
    "real_count = len(os.listdir(real_dir)) if os.path.exists(real_dir) else 0\n",
    "\n",
    "print(f\"Fake: {fake_count}, Real: {real_count}\")"
   ]
  },
  {
   "cell_type": "code",
   "execution_count": 34,
   "metadata": {},
   "outputs": [
    {
     "name": "stdout",
     "output_type": "stream",
     "text": [
      "Found 68 images belonging to 2 classes.\n"
     ]
    },
    {
     "name": "stderr",
     "output_type": "stream",
     "text": [
      "/home/jangminoh_2/miniconda3/envs/ml-ops/lib/python3.12/site-packages/keras/src/trainers/data_adapters/py_dataset_adapter.py:121: UserWarning: Your `PyDataset` class should call `super().__init__(**kwargs)` in its constructor. `**kwargs` can include `workers`, `use_multiprocessing`, `max_queue_size`. Do not pass these arguments to `fit()`, as they will be ignored.\n",
      "  self._warn_if_super_not_called()\n"
     ]
    },
    {
     "name": "stdout",
     "output_type": "stream",
     "text": [
      "\u001b[1m68/68\u001b[0m \u001b[32m━━━━━━━━━━━━━━━━━━━━\u001b[0m\u001b[37m\u001b[0m \u001b[1m12s\u001b[0m 23ms/step\n",
      "[[0.21183345]\n",
      " [0.08009291]\n",
      " [0.14740667]\n",
      " [0.71275735]\n",
      " [0.00319585]\n",
      " [0.2526136 ]\n",
      " [0.7429628 ]\n",
      " [0.5778701 ]\n",
      " [0.20550404]\n",
      " [0.3983346 ]\n",
      " [0.91291916]\n",
      " [0.8340137 ]\n",
      " [0.6834165 ]\n",
      " [0.905584  ]\n",
      " [0.98970044]\n",
      " [0.48954967]\n",
      " [0.981138  ]\n",
      " [0.2849239 ]\n",
      " [0.11803117]\n",
      " [0.15967737]\n",
      " [0.22579905]\n",
      " [0.34200427]\n",
      " [0.72918344]\n",
      " [0.91719353]\n",
      " [0.89977366]\n",
      " [0.19211476]\n",
      " [0.40313962]\n",
      " [0.7994009 ]\n",
      " [0.33622065]\n",
      " [0.54625964]\n",
      " [0.56706434]\n",
      " [0.13585554]\n",
      " [0.06739751]\n",
      " [0.3907044 ]\n",
      " [0.66425824]\n",
      " [0.0512494 ]\n",
      " [0.99396235]\n",
      " [0.926524  ]\n",
      " [0.99221706]\n",
      " [0.36420417]\n",
      " [0.22596775]\n",
      " [0.38450503]\n",
      " [0.3588411 ]\n",
      " [0.80479634]\n",
      " [0.9048327 ]\n",
      " [0.29066098]\n",
      " [0.8303871 ]\n",
      " [0.64820766]\n",
      " [0.41569456]\n",
      " [0.89451903]\n",
      " [0.21589822]\n",
      " [0.19672199]\n",
      " [0.9956851 ]\n",
      " [0.16311519]\n",
      " [0.6460735 ]\n",
      " [0.16895637]\n",
      " [0.9190882 ]\n",
      " [0.07051343]\n",
      " [0.72616875]\n",
      " [0.93844604]\n",
      " [0.51190364]\n",
      " [0.7226336 ]\n",
      " [0.09108297]\n",
      " [0.80706495]\n",
      " [0.70465916]\n",
      " [0.5929248 ]\n",
      " [0.11309368]\n",
      " [0.9965784 ]]\n",
      "Model Accuracy: 0.5441\n"
     ]
    },
    {
     "data": {
      "image/png": "[encoded data removed]",
      "text/plain": [
       "<Figure size 600x500 with 2 Axes>"
      ]
     },
     "metadata": {},
     "output_type": "display_data"
    },
    {
     "name": "stdout",
     "output_type": "stream",
     "text": [
      "\n",
      "Classification Report:\n",
      "              precision    recall  f1-score   support\n",
      "\n",
      "        fake       0.64      0.53      0.58        40\n",
      "        real       0.46      0.57      0.51        28\n",
      "\n",
      "    accuracy                           0.54        68\n",
      "   macro avg       0.55      0.55      0.54        68\n",
      "weighted avg       0.56      0.54      0.55        68\n",
      "\n"
     ]
    }
   ],
   "source": [
    "# 이미지 크기 및 배치 사이즈 설정\n",
    "img_size = (528, 528)  # EfficientNetB6의 입력 크기에 맞게 변경 가능\n",
    "batch_size = 1\n",
    "\n",
    "# 데이터 로더 설정 (test용)\n",
    "datagen = ImageDataGenerator(\n",
    "    preprocessing_function=tf.keras.applications.efficientnet.preprocess_input\n",
    ")\n",
    "\n",
    "test_generator = datagen.flow_from_directory(\n",
    "    dataset_dir,\n",
    "    target_size=img_size,\n",
    "    batch_size=batch_size,\n",
    "    class_mode=\"binary\",  # 이진 분류 (fake vs real)\n",
    "    shuffle= False\n",
    ")\n",
    "\n",
    "# 실제 라벨 가져오기\n",
    "y_true = test_generator.classes  # 0: fake, 1: real\n",
    "#print(y_true)\n",
    "class_names = list(test_generator.class_indices.keys())\n",
    "#print(class_names) #['fake', 'real']\n",
    "#print(test_generator.class_indices)\n",
    "\n",
    "# 예측 수행\n",
    "y_pred_probs = model.predict(test_generator, steps=test_generator.samples)  # 확률값 출력\n",
    "print(y_pred_probs)\n",
    "y_pred = (y_pred_probs > 0.5).astype(int).flatten()  # 0.5 이상이면 1(real), 아니면 0(fake)\n",
    "\n",
    "# 정확도 출력\n",
    "accuracy = np.mean(y_pred == y_true)\n",
    "print(f\"Model Accuracy: {accuracy:.4f}\")\n",
    "\n",
    "# Confusion Matrix 생성\n",
    "cm = confusion_matrix(y_true, y_pred)\n",
    "\n",
    "# Confusion Matrix 시각화\n",
    "plt.figure(figsize=(6, 5))\n",
    "sns.heatmap(cm, annot=True, fmt=\"d\", cmap=\"Blues\", xticklabels=class_names, yticklabels=class_names)\n",
    "plt.xlabel(\"Predicted Label\")\n",
    "plt.ylabel(\"True Label\")\n",
    "plt.title(\"Confusion Matrix\")\n",
    "plt.show()\n",
    "\n",
    "# 분류 보고서 출력\n",
    "print(\"\\nClassification Report:\")\n",
    "print(classification_report(y_true, y_pred, target_names=class_names))\n"
   ]
  },
  {
   "cell_type": "markdown",
   "metadata": {},
   "source": [
    "# 실내공간"
   ]
  },
  {
   "cell_type": "code",
   "execution_count": null,
   "metadata": {},
   "outputs": [],
   "source": [
    "# 데이터셋 경로\n",
    "dataset_dir = \"/home/jangminoh_2/AI_Detector/data/자체 데이터셋 분류/실내공간\"\n",
    "fake_dir = \"/home/jangminoh_2/AI_Detector/data/자체 데이터셋 분류/실내공간/fake\"\n",
    "real_dir = \"/home/jangminoh_2/AI_Detector/data/자체 데이터셋 분류/실내공간/real\""
   ]
  },
  {
   "cell_type": "code",
   "execution_count": 27,
   "metadata": {},
   "outputs": [
    {
     "name": "stdout",
     "output_type": "stream",
     "text": [
      "Fake: 16, Real: 6\n"
     ]
    }
   ],
   "source": [
    "fake_count = len(os.listdir(fake_dir)) if os.path.exists(fake_dir) else 0\n",
    "real_count = len(os.listdir(real_dir)) if os.path.exists(real_dir) else 0\n",
    "\n",
    "print(f\"Fake: {fake_count}, Real: {real_count}\")"
   ]
  },
  {
   "cell_type": "code",
   "execution_count": 29,
   "metadata": {},
   "outputs": [
    {
     "name": "stdout",
     "output_type": "stream",
     "text": [
      "Found 21 images belonging to 2 classes.\n"
     ]
    },
    {
     "name": "stderr",
     "output_type": "stream",
     "text": [
      "/home/jangminoh_2/miniconda3/envs/ml-ops/lib/python3.12/site-packages/keras/src/trainers/data_adapters/py_dataset_adapter.py:121: UserWarning: Your `PyDataset` class should call `super().__init__(**kwargs)` in its constructor. `**kwargs` can include `workers`, `use_multiprocessing`, `max_queue_size`. Do not pass these arguments to `fit()`, as they will be ignored.\n",
      "  self._warn_if_super_not_called()\n"
     ]
    },
    {
     "name": "stdout",
     "output_type": "stream",
     "text": [
      "\u001b[1m21/21\u001b[0m \u001b[32m━━━━━━━━━━━━━━━━━━━━\u001b[0m\u001b[37m\u001b[0m \u001b[1m10s\u001b[0m 22ms/step\n",
      "[[0.2286393 ]\n",
      " [0.09379126]\n",
      " [0.30664006]\n",
      " [0.10424885]\n",
      " [0.10424885]\n",
      " [0.21716523]\n",
      " [0.21716523]\n",
      " [0.4186833 ]\n",
      " [0.06573128]\n",
      " [0.6637066 ]\n",
      " [0.2621243 ]\n",
      " [0.6065994 ]\n",
      " [0.26787534]\n",
      " [0.9619595 ]\n",
      " [0.22765236]\n",
      " [0.1599063 ]\n",
      " [0.5900045 ]\n",
      " [0.12010881]\n",
      " [0.98295766]\n",
      " [0.88200384]\n",
      " [0.88200384]]\n",
      "Model Accuracy: 0.8095\n"
     ]
    },
    {
     "data": {
      "image/png": "[encoded data removed]",
      "text/plain": [
       "<Figure size 600x500 with 2 Axes>"
      ]
     },
     "metadata": {},
     "output_type": "display_data"
    },
    {
     "name": "stdout",
     "output_type": "stream",
     "text": [
      "\n",
      "Classification Report:\n",
      "              precision    recall  f1-score   support\n",
      "\n",
      "        fake       0.93      0.81      0.87        16\n",
      "        real       0.57      0.80      0.67         5\n",
      "\n",
      "    accuracy                           0.81        21\n",
      "   macro avg       0.75      0.81      0.77        21\n",
      "weighted avg       0.84      0.81      0.82        21\n",
      "\n"
     ]
    }
   ],
   "source": [
    "# 이미지 크기 및 배치 사이즈 설정\n",
    "img_size = (528, 528)  # EfficientNetB6의 입력 크기에 맞게 변경 가능\n",
    "batch_size = 1\n",
    "\n",
    "# 데이터 로더 설정 (test용)\n",
    "datagen = ImageDataGenerator(\n",
    "    preprocessing_function=tf.keras.applications.efficientnet.preprocess_input\n",
    ")\n",
    "\n",
    "test_generator = datagen.flow_from_directory(\n",
    "    dataset_dir,\n",
    "    target_size=img_size,\n",
    "    batch_size=batch_size,\n",
    "    class_mode=\"binary\",  # 이진 분류 (fake vs real)\n",
    "    shuffle= False\n",
    ")\n",
    "\n",
    "# 실제 라벨 가져오기\n",
    "y_true = test_generator.classes  # 0: fake, 1: real\n",
    "#print(y_true)\n",
    "class_names = list(test_generator.class_indices.keys())\n",
    "#print(class_names) #['fake', 'real']\n",
    "#print(test_generator.class_indices)\n",
    "\n",
    "# 예측 수행\n",
    "y_pred_probs = model.predict(test_generator, steps=test_generator.samples)  # 확률값 출력\n",
    "print(y_pred_probs)\n",
    "y_pred = (y_pred_probs > 0.5).astype(int).flatten()  # 0.5 이상이면 1(real), 아니면 0(fake)\n",
    "\n",
    "# 정확도 출력\n",
    "accuracy = np.mean(y_pred == y_true)\n",
    "print(f\"Model Accuracy: {accuracy:.4f}\")\n",
    "\n",
    "# Confusion Matrix 생성\n",
    "cm = confusion_matrix(y_true, y_pred)\n",
    "\n",
    "# Confusion Matrix 시각화\n",
    "plt.figure(figsize=(6, 5))\n",
    "sns.heatmap(cm, annot=True, fmt=\"d\", cmap=\"Blues\", xticklabels=class_names, yticklabels=class_names)\n",
    "plt.xlabel(\"Predicted Label\")\n",
    "plt.ylabel(\"True Label\")\n",
    "plt.title(\"Confusion Matrix\")\n",
    "plt.show()\n",
    "\n",
    "# 분류 보고서 출력\n",
    "print(\"\\nClassification Report:\")\n",
    "print(classification_report(y_true, y_pred, target_names=class_names))\n"
   ]
  },
  {
   "cell_type": "markdown",
   "metadata": {},
   "source": [
    "# 음식"
   ]
  },
  {
   "cell_type": "code",
   "execution_count": 19,
   "metadata": {},
   "outputs": [
    {
     "name": "stdout",
     "output_type": "stream",
     "text": [
      "Fake: 76, Real: 28\n"
     ]
    }
   ],
   "source": [
    "import os\n",
    "\n",
    "dataset_dir = \"/home/jangminoh_2/AI_Detector/data/자체 데이터셋 분류/음식\"\n",
    "fake_dir = os.path.join(dataset_dir, \"fake\")\n",
    "real_dir = os.path.join(dataset_dir, \"real\")\n",
    "\n",
    "fake_count = len(os.listdir(fake_dir)) if os.path.exists(fake_dir) else 0\n",
    "real_count = len(os.listdir(real_dir)) if os.path.exists(real_dir) else 0\n",
    "\n",
    "print(f\"Fake: {fake_count}, Real: {real_count}\")\n"
   ]
  },
  {
   "cell_type": "code",
   "execution_count": 20,
   "metadata": {},
   "outputs": [],
   "source": [
    "import os\n",
    "import numpy as np\n",
    "import matplotlib.pyplot as plt\n",
    "import seaborn as sns\n",
    "from tensorflow.keras.models import load_model\n",
    "from tensorflow.keras.preprocessing.image import ImageDataGenerator\n",
    "from sklearn.metrics import confusion_matrix, classification_report\n",
    "\n",
    "# 데이터셋 경로\n",
    "dataset_dir = \"/home/jangminoh_2/AI_Detector/data/자체 데이터셋 분류/음식\"\n",
    "fake_dir = \"/home/jangminoh_2/AI_Detector/data/자체 데이터셋 분류/음식/fake\"\n",
    "real_dir = \"/home/jangminoh_2/AI_Detector/data/자체 데이터셋 분류/음식/real\""
   ]
  },
  {
   "cell_type": "code",
   "execution_count": 21,
   "metadata": {},
   "outputs": [
    {
     "name": "stdout",
     "output_type": "stream",
     "text": [
      "Fake: 76, Real: 28\n"
     ]
    }
   ],
   "source": [
    "fake_count = len(os.listdir(fake_dir)) if os.path.exists(fake_dir) else 0\n",
    "real_count = len(os.listdir(real_dir)) if os.path.exists(real_dir) else 0\n",
    "\n",
    "print(f\"Fake: {fake_count}, Real: {real_count}\")"
   ]
  },
  {
   "cell_type": "code",
   "execution_count": 22,
   "metadata": {},
   "outputs": [
    {
     "name": "stderr",
     "output_type": "stream",
     "text": [
      "WARNING:absl:Compiled the loaded model, but the compiled metrics have yet to be built. `model.compile_metrics` will be empty until you train or evaluate the model.\n"
     ]
    }
   ],
   "source": [
    "# 모델 로드\n",
    "model_path = \"/home/jangminoh_2/AI_Detector/model/model_v7.h5\"\n",
    "model = load_model(model_path)"
   ]
  },
  {
   "cell_type": "code",
   "execution_count": 23,
   "metadata": {},
   "outputs": [
    {
     "name": "stdout",
     "output_type": "stream",
     "text": [
      "Found 101 images belonging to 2 classes.\n"
     ]
    },
    {
     "name": "stderr",
     "output_type": "stream",
     "text": [
      "/home/jangminoh_2/miniconda3/envs/ml-ops/lib/python3.12/site-packages/keras/src/trainers/data_adapters/py_dataset_adapter.py:121: UserWarning: Your `PyDataset` class should call `super().__init__(**kwargs)` in its constructor. `**kwargs` can include `workers`, `use_multiprocessing`, `max_queue_size`. Do not pass these arguments to `fit()`, as they will be ignored.\n",
      "  self._warn_if_super_not_called()\n"
     ]
    },
    {
     "name": "stdout",
     "output_type": "stream",
     "text": [
      "\u001b[1m101/101\u001b[0m \u001b[32m━━━━━━━━━━━━━━━━━━━━\u001b[0m\u001b[37m\u001b[0m \u001b[1m12s\u001b[0m 22ms/step\n",
      "[[0.8734183 ]\n",
      " [0.88067055]\n",
      " [0.9030298 ]\n",
      " [0.9035058 ]\n",
      " [0.04287704]\n",
      " [0.00910917]\n",
      " [0.2134913 ]\n",
      " [0.0389348 ]\n",
      " [0.09141076]\n",
      " [0.074808  ]\n",
      " [0.15465462]\n",
      " [0.28244856]\n",
      " [0.13968758]\n",
      " [0.0486726 ]\n",
      " [0.40670627]\n",
      " [0.16500029]\n",
      " [0.10736094]\n",
      " [0.11633839]\n",
      " [0.07669707]\n",
      " [0.30728212]\n",
      " [0.75492364]\n",
      " [0.663733  ]\n",
      " [0.93805104]\n",
      " [0.75492364]\n",
      " [0.79112285]\n",
      " [0.71737075]\n",
      " [0.8643783 ]\n",
      " [0.748712  ]\n",
      " [0.540439  ]\n",
      " [0.34879577]\n",
      " [0.48865333]\n",
      " [0.18189797]\n",
      " [0.29707313]\n",
      " [0.78286046]\n",
      " [0.21397007]\n",
      " [0.87639093]\n",
      " [0.9972572 ]\n",
      " [0.9972572 ]\n",
      " [0.02740067]\n",
      " [0.05444529]\n",
      " [0.07472464]\n",
      " [0.17394991]\n",
      " [0.8546976 ]\n",
      " [0.17062823]\n",
      " [0.5531912 ]\n",
      " [0.14549762]\n",
      " [0.19627681]\n",
      " [0.2495259 ]\n",
      " [0.5554515 ]\n",
      " [0.6449831 ]\n",
      " [0.01879318]\n",
      " [0.905234  ]\n",
      " [0.31191236]\n",
      " [0.49349004]\n",
      " [0.9272143 ]\n",
      " [0.34804234]\n",
      " [0.2981046 ]\n",
      " [0.11451326]\n",
      " [0.11451326]\n",
      " [0.19904031]\n",
      " [0.19904031]\n",
      " [0.09924442]\n",
      " [0.10582214]\n",
      " [0.26019937]\n",
      " [0.20084916]\n",
      " [0.0829179 ]\n",
      " [0.7270122 ]\n",
      " [0.73855865]\n",
      " [0.8387816 ]\n",
      " [0.60131496]\n",
      " [0.5424515 ]\n",
      " [0.58918506]\n",
      " [0.10994536]\n",
      " [0.27057895]\n",
      " [0.27136576]\n",
      " [0.2694485 ]\n",
      " [0.7870554 ]\n",
      " [0.75208044]\n",
      " [0.2268644 ]\n",
      " [0.9021512 ]\n",
      " [0.86821103]\n",
      " [0.57345986]\n",
      " [0.11539061]\n",
      " [0.18675677]\n",
      " [0.9480231 ]\n",
      " [0.93356603]\n",
      " [0.20034169]\n",
      " [0.36092198]\n",
      " [0.92722815]\n",
      " [0.80600464]\n",
      " [0.6744188 ]\n",
      " [0.7817909 ]\n",
      " [0.5561599 ]\n",
      " [0.14656201]\n",
      " [0.32329348]\n",
      " [0.8655947 ]\n",
      " [0.90682054]\n",
      " [0.9639324 ]\n",
      " [0.88377327]\n",
      " [0.7185528 ]\n",
      " [0.6818582 ]]\n",
      "Model Accuracy: 0.6436\n"
     ]
    },
    {
     "data": {
      "image/png": "[encoded data removed]",
      "text/plain": [
       "<Figure size 600x500 with 2 Axes>"
      ]
     },
     "metadata": {},
     "output_type": "display_data"
    },
    {
     "name": "stdout",
     "output_type": "stream",
     "text": [
      "\n",
      "Classification Report:\n",
      "              precision    recall  f1-score   support\n",
      "\n",
      "        fake       0.87      0.62      0.72        76\n",
      "        real       0.38      0.72      0.50        25\n",
      "\n",
      "    accuracy                           0.64       101\n",
      "   macro avg       0.63      0.67      0.61       101\n",
      "weighted avg       0.75      0.64      0.67       101\n",
      "\n"
     ]
    }
   ],
   "source": [
    "# 이미지 크기 및 배치 사이즈 설정\n",
    "img_size = (528, 528)  # EfficientNetB6의 입력 크기에 맞게 변경 가능\n",
    "batch_size = 1\n",
    "\n",
    "# 데이터 로더 설정 (test용)\n",
    "datagen = ImageDataGenerator(\n",
    "    preprocessing_function=tf.keras.applications.efficientnet.preprocess_input\n",
    ")\n",
    "\n",
    "test_generator = datagen.flow_from_directory(\n",
    "    dataset_dir,\n",
    "    target_size=img_size,\n",
    "    batch_size=batch_size,\n",
    "    class_mode=\"binary\",  # 이진 분류 (fake vs real)\n",
    "    shuffle= False\n",
    ")\n",
    "\n",
    "# 실제 라벨 가져오기\n",
    "y_true = test_generator.classes  # 0: fake, 1: real\n",
    "#print(y_true)\n",
    "class_names = list(test_generator.class_indices.keys())\n",
    "#print(class_names) #['fake', 'real']\n",
    "#print(test_generator.class_indices)\n",
    "\n",
    "# 예측 수행\n",
    "y_pred_probs = model.predict(test_generator, steps=test_generator.samples)  # 확률값 출력\n",
    "print(y_pred_probs)\n",
    "y_pred = (y_pred_probs > 0.5).astype(int).flatten()  # 0.5 이상이면 1(real), 아니면 0(fake)\n",
    "\n",
    "# 정확도 출력\n",
    "accuracy = np.mean(y_pred == y_true)\n",
    "print(f\"Model Accuracy: {accuracy:.4f}\")\n",
    "\n",
    "# Confusion Matrix 생성\n",
    "cm = confusion_matrix(y_true, y_pred)\n",
    "\n",
    "# Confusion Matrix 시각화\n",
    "plt.figure(figsize=(6, 5))\n",
    "sns.heatmap(cm, annot=True, fmt=\"d\", cmap=\"Blues\", xticklabels=class_names, yticklabels=class_names)\n",
    "plt.xlabel(\"Predicted Label\")\n",
    "plt.ylabel(\"True Label\")\n",
    "plt.title(\"Confusion Matrix\")\n",
    "plt.show()\n",
    "\n",
    "# 분류 보고서 출력\n",
    "print(\"\\nClassification Report:\")\n",
    "print(classification_report(y_true, y_pred, target_names=class_names))\n"
   ]
  },
  {
   "cell_type": "markdown",
   "metadata": {},
   "source": [
    "# 인물"
   ]
  },
  {
   "cell_type": "code",
   "execution_count": 14,
   "metadata": {},
   "outputs": [
    {
     "name": "stdout",
     "output_type": "stream",
     "text": [
      "Fake: 6, Real: 4\n"
     ]
    }
   ],
   "source": [
    "import os\n",
    "\n",
    "dataset_dir = \"/home/jangminoh_2/AI_Detector/data/자체 데이터셋 분류/인물\"\n",
    "fake_dir = os.path.join(dataset_dir, \"fake\")\n",
    "real_dir = os.path.join(dataset_dir, \"real\")\n",
    "\n",
    "fake_count = len(os.listdir(fake_dir)) if os.path.exists(fake_dir) else 0\n",
    "real_count = len(os.listdir(real_dir)) if os.path.exists(real_dir) else 0\n",
    "\n",
    "print(f\"Fake: {fake_count}, Real: {real_count}\")\n"
   ]
  },
  {
   "cell_type": "code",
   "execution_count": 15,
   "metadata": {},
   "outputs": [],
   "source": [
    "import os\n",
    "import numpy as np\n",
    "import matplotlib.pyplot as plt\n",
    "import seaborn as sns\n",
    "from tensorflow.keras.models import load_model\n",
    "from tensorflow.keras.preprocessing.image import ImageDataGenerator\n",
    "from sklearn.metrics import confusion_matrix, classification_report\n",
    "\n",
    "# 데이터셋 경로\n",
    "dataset_dir = \"/home/jangminoh_2/AI_Detector/data/자체 데이터셋 분류/인물\"\n",
    "fake_dir = \"/home/jangminoh_2/AI_Detector/data/자체 데이터셋 분류/인물/fake\"\n",
    "real_dir = \"/home/jangminoh_2/AI_Detector/data/자체 데이터셋 분류/인물/real\""
   ]
  },
  {
   "cell_type": "code",
   "execution_count": 16,
   "metadata": {},
   "outputs": [
    {
     "name": "stdout",
     "output_type": "stream",
     "text": [
      "Fake: 6, Real: 4\n"
     ]
    }
   ],
   "source": [
    "fake_count = len(os.listdir(fake_dir)) if os.path.exists(fake_dir) else 0\n",
    "real_count = len(os.listdir(real_dir)) if os.path.exists(real_dir) else 0\n",
    "\n",
    "print(f\"Fake: {fake_count}, Real: {real_count}\")"
   ]
  },
  {
   "cell_type": "code",
   "execution_count": 17,
   "metadata": {},
   "outputs": [
    {
     "name": "stderr",
     "output_type": "stream",
     "text": [
      "WARNING:absl:Compiled the loaded model, but the compiled metrics have yet to be built. `model.compile_metrics` will be empty until you train or evaluate the model.\n"
     ]
    }
   ],
   "source": [
    "# 모델 로드\n",
    "model_path = \"/home/jangminoh_2/AI_Detector/model/model_v7.h5\"\n",
    "model = load_model(model_path)"
   ]
  },
  {
   "cell_type": "code",
   "execution_count": 18,
   "metadata": {},
   "outputs": [
    {
     "name": "stdout",
     "output_type": "stream",
     "text": [
      "Found 10 images belonging to 2 classes.\n"
     ]
    },
    {
     "name": "stderr",
     "output_type": "stream",
     "text": [
      "/home/jangminoh_2/miniconda3/envs/ml-ops/lib/python3.12/site-packages/keras/src/trainers/data_adapters/py_dataset_adapter.py:121: UserWarning: Your `PyDataset` class should call `super().__init__(**kwargs)` in its constructor. `**kwargs` can include `workers`, `use_multiprocessing`, `max_queue_size`. Do not pass these arguments to `fit()`, as they will be ignored.\n",
      "  self._warn_if_super_not_called()\n"
     ]
    },
    {
     "name": "stdout",
     "output_type": "stream",
     "text": [
      "\u001b[1m10/10\u001b[0m \u001b[32m━━━━━━━━━━━━━━━━━━━━\u001b[0m\u001b[37m\u001b[0m \u001b[1m10s\u001b[0m 21ms/step\n",
      "[[0.00531207]\n",
      " [0.13854848]\n",
      " [0.45369694]\n",
      " [0.16337006]\n",
      " [0.09007104]\n",
      " [0.46694037]\n",
      " [0.04490915]\n",
      " [0.16102204]\n",
      " [0.80217564]\n",
      " [0.3178485 ]]\n",
      "Model Accuracy: 0.7000\n"
     ]
    },
    {
     "data": {
      "image/png": "[encoded data removed]",
      "text/plain": [
       "<Figure size 600x500 with 2 Axes>"
      ]
     },
     "metadata": {},
     "output_type": "display_data"
    },
    {
     "name": "stdout",
     "output_type": "stream",
     "text": [
      "\n",
      "Classification Report:\n",
      "              precision    recall  f1-score   support\n",
      "\n",
      "        fake       0.67      1.00      0.80         6\n",
      "        real       1.00      0.25      0.40         4\n",
      "\n",
      "    accuracy                           0.70        10\n",
      "   macro avg       0.83      0.62      0.60        10\n",
      "weighted avg       0.80      0.70      0.64        10\n",
      "\n"
     ]
    }
   ],
   "source": [
    "# 이미지 크기 및 배치 사이즈 설정\n",
    "img_size = (528, 528)  # EfficientNetB6의 입력 크기에 맞게 변경 가능\n",
    "batch_size = 1\n",
    "\n",
    "# 데이터 로더 설정 (test용)\n",
    "datagen = ImageDataGenerator(\n",
    "    preprocessing_function=tf.keras.applications.efficientnet.preprocess_input\n",
    ")\n",
    "\n",
    "test_generator = datagen.flow_from_directory(\n",
    "    dataset_dir,\n",
    "    target_size=img_size,\n",
    "    batch_size=batch_size,\n",
    "    class_mode=\"binary\",  # 이진 분류 (fake vs real)\n",
    "    shuffle= False\n",
    ")\n",
    "\n",
    "# 실제 라벨 가져오기\n",
    "y_true = test_generator.classes  # 0: fake, 1: real\n",
    "#print(y_true)\n",
    "class_names = list(test_generator.class_indices.keys())\n",
    "#print(class_names) #['fake', 'real']\n",
    "#print(test_generator.class_indices)\n",
    "\n",
    "# 예측 수행\n",
    "y_pred_probs = model.predict(test_generator, steps=test_generator.samples)  # 확률값 출력\n",
    "print(y_pred_probs)\n",
    "y_pred = (y_pred_probs > 0.5).astype(int).flatten()  # 0.5 이상이면 1(real), 아니면 0(fake)\n",
    "\n",
    "# 정확도 출력\n",
    "accuracy = np.mean(y_pred == y_true)\n",
    "print(f\"Model Accuracy: {accuracy:.4f}\")\n",
    "\n",
    "# Confusion Matrix 생성\n",
    "cm = confusion_matrix(y_true, y_pred)\n",
    "\n",
    "# Confusion Matrix 시각화\n",
    "plt.figure(figsize=(6, 5))\n",
    "sns.heatmap(cm, annot=True, fmt=\"d\", cmap=\"Blues\", xticklabels=class_names, yticklabels=class_names)\n",
    "plt.xlabel(\"Predicted Label\")\n",
    "plt.ylabel(\"True Label\")\n",
    "plt.title(\"Confusion Matrix\")\n",
    "plt.show()\n",
    "\n",
    "# 분류 보고서 출력\n",
    "print(\"\\nClassification Report:\")\n",
    "print(classification_report(y_true, y_pred, target_names=class_names))\n"
   ]
  },
  {
   "cell_type": "markdown",
   "metadata": {},
   "source": [
    "# 풍경"
   ]
  },
  {
   "cell_type": "code",
   "execution_count": 3,
   "metadata": {},
   "outputs": [
    {
     "name": "stdout",
     "output_type": "stream",
     "text": [
      "Fake: 90, Real: 42\n"
     ]
    }
   ],
   "source": [
    "import os\n",
    "\n",
    "dataset_dir = \"/home/jangminoh_2/AI_Detector/data/자체 데이터셋 분류/풍경(70)\"\n",
    "fake_dir = os.path.join(dataset_dir, \"fake\")\n",
    "real_dir = os.path.join(dataset_dir, \"real\")\n",
    "\n",
    "fake_count = len(os.listdir(fake_dir)) if os.path.exists(fake_dir) else 0\n",
    "real_count = len(os.listdir(real_dir)) if os.path.exists(real_dir) else 0\n",
    "\n",
    "print(f\"Fake: {fake_count}, Real: {real_count}\")\n"
   ]
  },
  {
   "cell_type": "code",
   "execution_count": 9,
   "metadata": {},
   "outputs": [],
   "source": [
    "import os\n",
    "import numpy as np\n",
    "import matplotlib.pyplot as plt\n",
    "import seaborn as sns\n",
    "from tensorflow.keras.models import load_model\n",
    "from tensorflow.keras.preprocessing.image import ImageDataGenerator\n",
    "from sklearn.metrics import confusion_matrix, classification_report\n",
    "# 데이터셋 경로\n",
    "dataset_dir = \"/home/jangminoh_2/AI_Detector/data/자체 데이터셋 분류/풍경(70)\"\n",
    "fake_dir = \"/home/jangminoh_2/AI_Detector/data/자체 데이터셋 분류/풍경(70)/fake\"\n",
    "real_dir = \"/home/jangminoh_2/AI_Detector/data/자체 데이터셋 분류/풍경(70)/real\""
   ]
  },
  {
   "cell_type": "code",
   "execution_count": 4,
   "metadata": {},
   "outputs": [
    {
     "name": "stdout",
     "output_type": "stream",
     "text": [
      "Fake: 90, Real: 42\n"
     ]
    }
   ],
   "source": [
    "fake_count = len(os.listdir(fake_dir)) if os.path.exists(fake_dir) else 0\n",
    "real_count = len(os.listdir(real_dir)) if os.path.exists(real_dir) else 0\n",
    "\n",
    "print(f\"Fake: {fake_count}, Real: {real_count}\")"
   ]
  },
  {
   "cell_type": "code",
   "execution_count": 7,
   "metadata": {},
   "outputs": [
    {
     "name": "stderr",
     "output_type": "stream",
     "text": [
      "WARNING:absl:Compiled the loaded model, but the compiled metrics have yet to be built. `model.compile_metrics` will be empty until you train or evaluate the model.\n"
     ]
    }
   ],
   "source": [
    "# 모델 로드\n",
    "model_path = \"/home/jangminoh_2/AI_Detector/model/model_v7.h5\"\n",
    "model = load_model(model_path)"
   ]
  },
  {
   "cell_type": "code",
   "execution_count": 12,
   "metadata": {},
   "outputs": [
    {
     "name": "stdout",
     "output_type": "stream",
     "text": [
      "Found 122 images belonging to 2 classes.\n"
     ]
    },
    {
     "name": "stderr",
     "output_type": "stream",
     "text": [
      "/home/jangminoh_2/miniconda3/envs/ml-ops/lib/python3.12/site-packages/keras/src/trainers/data_adapters/py_dataset_adapter.py:121: UserWarning: Your `PyDataset` class should call `super().__init__(**kwargs)` in its constructor. `**kwargs` can include `workers`, `use_multiprocessing`, `max_queue_size`. Do not pass these arguments to `fit()`, as they will be ignored.\n",
      "  self._warn_if_super_not_called()\n",
      "WARNING: All log messages before absl::InitializeLog() is called are written to STDERR\n",
      "I0000 00:00:1741278974.799326 3290269 service.cc:146] XLA service 0x709f340ba5d0 initialized for platform CUDA (this does not guarantee that XLA will be used). Devices:\n",
      "I0000 00:00:1741278974.799374 3290269 service.cc:154]   StreamExecutor device (0): NVIDIA RTX A5000, Compute Capability 8.6\n",
      "I0000 00:00:1741278974.799381 3290269 service.cc:154]   StreamExecutor device (1): NVIDIA RTX A5000, Compute Capability 8.6\n",
      "I0000 00:00:1741278974.799385 3290269 service.cc:154]   StreamExecutor device (2): NVIDIA RTX A5000, Compute Capability 8.6\n",
      "I0000 00:00:1741278974.799390 3290269 service.cc:154]   StreamExecutor device (3): NVIDIA RTX A5000, Compute Capability 8.6\n",
      "I0000 00:00:1741278974.799394 3290269 service.cc:154]   StreamExecutor device (4): NVIDIA RTX A5000, Compute Capability 8.6\n",
      "I0000 00:00:1741278974.799398 3290269 service.cc:154]   StreamExecutor device (5): NVIDIA RTX A5000, Compute Capability 8.6\n",
      "I0000 00:00:1741278974.799418 3290269 service.cc:154]   StreamExecutor device (6): NVIDIA RTX A5000, Compute Capability 8.6\n",
      "I0000 00:00:1741278974.799422 3290269 service.cc:154]   StreamExecutor device (7): NVIDIA RTX A5000, Compute Capability 8.6\n",
      "2025-03-07 01:36:14.957882: I tensorflow/compiler/mlir/tensorflow/utils/dump_mlir_util.cc:268] disabling MLIR crash reproducer, set env var `MLIR_CRASH_REPRODUCER_DIRECTORY` to enable.\n",
      "2025-03-07 01:36:15.968405: I external/local_xla/xla/stream_executor/cuda/cuda_dnn.cc:531] Loaded cuDNN version 8907\n",
      "2025-03-07 01:36:16.863942: I external/local_xla/xla/stream_executor/cuda/cuda_asm_compiler.cc:393] ptxas warning : Registers are spilled to local memory in function 'gemm_fusion_dot_2', 36 bytes spill stores, 36 bytes spill loads\n",
      "\n"
     ]
    },
    {
     "name": "stdout",
     "output_type": "stream",
     "text": [
      "\u001b[1m  6/122\u001b[0m \u001b[37m━━━━━━━━━━━━━━━━━━━━\u001b[0m \u001b[1m2s\u001b[0m 25ms/step "
     ]
    },
    {
     "name": "stderr",
     "output_type": "stream",
     "text": [
      "I0000 00:00:1741278985.373650 3290269 device_compiler.h:188] Compiled cluster using XLA!  This line is logged at most once for the lifetime of the process.\n"
     ]
    },
    {
     "name": "stdout",
     "output_type": "stream",
     "text": [
      "\u001b[1m122/122\u001b[0m \u001b[32m━━━━━━━━━━━━━━━━━━━━\u001b[0m\u001b[37m\u001b[0m \u001b[1m16s\u001b[0m 19ms/step\n",
      "[[0.4704145 ]\n",
      " [0.4758956 ]\n",
      " [0.83187234]\n",
      " [0.4840318 ]\n",
      " [0.825369  ]\n",
      " [0.84865564]\n",
      " [0.19271983]\n",
      " [0.47292653]\n",
      " [0.69632447]\n",
      " [0.89075667]\n",
      " [0.84250563]\n",
      " [0.99112236]\n",
      " [0.99937505]\n",
      " [0.9984017 ]\n",
      " [0.92881393]\n",
      " [0.84219784]\n",
      " [0.9884996 ]\n",
      " [0.8476486 ]\n",
      " [0.98037237]\n",
      " [0.9832307 ]\n",
      " [0.31892544]\n",
      " [0.17595491]\n",
      " [0.05899636]\n",
      " [0.7009232 ]\n",
      " [0.4597378 ]\n",
      " [0.72440225]\n",
      " [0.65842456]\n",
      " [0.99931824]\n",
      " [0.11055131]\n",
      " [0.12957034]\n",
      " [0.6977147 ]\n",
      " [0.19683841]\n",
      " [0.72940093]\n",
      " [0.04426123]\n",
      " [0.42575368]\n",
      " [0.12184759]\n",
      " [0.27403542]\n",
      " [0.6084318 ]\n",
      " [0.25803864]\n",
      " [0.11055111]\n",
      " [0.01049796]\n",
      " [0.14504983]\n",
      " [0.5584994 ]\n",
      " [0.55568683]\n",
      " [0.42965323]\n",
      " [0.9485737 ]\n",
      " [0.07061031]\n",
      " [0.31549594]\n",
      " [0.34681183]\n",
      " [0.2751837 ]\n",
      " [0.45773086]\n",
      " [0.49155325]\n",
      " [0.3460059 ]\n",
      " [0.17753407]\n",
      " [0.64727014]\n",
      " [0.15791236]\n",
      " [0.57123256]\n",
      " [0.07758926]\n",
      " [0.04718125]\n",
      " [0.13492423]\n",
      " [0.21261652]\n",
      " [0.2767711 ]\n",
      " [0.1428769 ]\n",
      " [0.26791203]\n",
      " [0.39564046]\n",
      " [0.2243464 ]\n",
      " [0.96941805]\n",
      " [0.26535413]\n",
      " [0.6500025 ]\n",
      " [0.35838294]\n",
      " [0.7814754 ]\n",
      " [0.11489484]\n",
      " [0.60288787]\n",
      " [0.51081127]\n",
      " [0.35052964]\n",
      " [0.30454168]\n",
      " [0.3218065 ]\n",
      " [0.4336746 ]\n",
      " [0.3406074 ]\n",
      " [0.63043547]\n",
      " [0.8305142 ]\n",
      " [0.93031484]\n",
      " [0.832519  ]\n",
      " [0.46667707]\n",
      " [0.47576475]\n",
      " [0.77151394]\n",
      " [0.56441295]\n",
      " [0.1925345 ]\n",
      " [0.20483248]\n",
      " [0.65037465]\n",
      " [0.6671239 ]\n",
      " [0.25742888]\n",
      " [0.8195471 ]\n",
      " [0.7229012 ]\n",
      " [0.6638119 ]\n",
      " [0.38108155]\n",
      " [0.24494068]\n",
      " [0.94770426]\n",
      " [0.39427704]\n",
      " [0.7991137 ]\n",
      " [0.52460456]\n",
      " [0.3480921 ]\n",
      " [0.3929135 ]\n",
      " [0.24514706]\n",
      " [0.7474863 ]\n",
      " [0.48383498]\n",
      " [0.68467903]\n",
      " [0.8729296 ]\n",
      " [0.59372044]\n",
      " [0.8938126 ]\n",
      " [0.37682715]\n",
      " [0.7001816 ]\n",
      " [0.3439252 ]\n",
      " [0.64068097]\n",
      " [0.5863313 ]\n",
      " [0.25672904]\n",
      " [0.92967737]\n",
      " [0.8015148 ]\n",
      " [0.8611532 ]\n",
      " [0.29658216]\n",
      " [0.8799089 ]\n",
      " [0.9194334 ]]\n",
      "Model Accuracy: 0.5984\n"
     ]
    },
    {
     "data": {
      "image/png": "[encoded data removed]",
      "text/plain": [
       "<Figure size 600x500 with 2 Axes>"
      ]
     },
     "metadata": {},
     "output_type": "display_data"
    },
    {
     "name": "stdout",
     "output_type": "stream",
     "text": [
      "\n",
      "Classification Report:\n",
      "              precision    recall  f1-score   support\n",
      "\n",
      "        fake       0.75      0.59      0.66        80\n",
      "        real       0.44      0.62      0.51        42\n",
      "\n",
      "    accuracy                           0.60       122\n",
      "   macro avg       0.59      0.60      0.59       122\n",
      "weighted avg       0.64      0.60      0.61       122\n",
      "\n"
     ]
    }
   ],
   "source": [
    "# 이미지 크기 및 배치 사이즈 설정\n",
    "img_size = (528, 528)  # EfficientNetB6의 입력 크기에 맞게 변경 가능\n",
    "batch_size = 1\n",
    "\n",
    "# 데이터 로더 설정 (test용)\n",
    "datagen = ImageDataGenerator(\n",
    "    preprocessing_function=tf.keras.applications.efficientnet.preprocess_input\n",
    ")\n",
    "\n",
    "test_generator = datagen.flow_from_directory(\n",
    "    dataset_dir,\n",
    "    target_size=img_size,\n",
    "    batch_size=batch_size,\n",
    "    class_mode=\"binary\",  # 이진 분류 (fake vs real)\n",
    "    shuffle= False\n",
    ")\n",
    "\n",
    "# 실제 라벨 가져오기\n",
    "y_true = test_generator.classes  # 0: fake, 1: real\n",
    "#print(y_true)\n",
    "class_names = list(test_generator.class_indices.keys())\n",
    "#print(class_names) #['fake', 'real']\n",
    "#print(test_generator.class_indices)\n",
    "\n",
    "# 예측 수행\n",
    "y_pred_probs = model.predict(test_generator, steps=test_generator.samples)  # 확률값 출력\n",
    "print(y_pred_probs)\n",
    "y_pred = (y_pred_probs > 0.5).astype(int).flatten()  # 0.5 이상이면 1(real), 아니면 0(fake)\n",
    "\n",
    "# 정확도 출력\n",
    "accuracy = np.mean(y_pred == y_true)\n",
    "print(f\"Model Accuracy: {accuracy:.4f}\")\n",
    "\n",
    "# Confusion Matrix 생성\n",
    "cm = confusion_matrix(y_true, y_pred)\n",
    "\n",
    "# Confusion Matrix 시각화\n",
    "plt.figure(figsize=(6, 5))\n",
    "sns.heatmap(cm, annot=True, fmt=\"d\", cmap=\"Blues\", xticklabels=class_names, yticklabels=class_names)\n",
    "plt.xlabel(\"Predicted Label\")\n",
    "plt.ylabel(\"True Label\")\n",
    "plt.title(\"Confusion Matrix\")\n",
    "plt.show()\n",
    "\n",
    "# 분류 보고서 출력\n",
    "print(\"\\nClassification Report:\")\n",
    "print(classification_report(y_true, y_pred, target_names=class_names))\n"
   ]
  },
  {
   "cell_type": "markdown",
   "metadata": {},
   "source": [
    "# 풍경화"
   ]
  },
  {
   "cell_type": "code",
   "execution_count": 26,
   "metadata": {},
   "outputs": [
    {
     "name": "stdout",
     "output_type": "stream",
     "text": [
      "Fake: 111, Real: 0\n"
     ]
    }
   ],
   "source": [
    "import os\n",
    "\n",
    "dataset_dir = \"/home/jangminoh_2/AI_Detector/data/자체 데이터셋 분류/풍경화(111)\"\n",
    "fake_dir = os.path.join(dataset_dir, \"fake\")\n",
    "real_dir = os.path.join(dataset_dir, \"real\")\n",
    "\n",
    "fake_count = len(os.listdir(fake_dir)) if os.path.exists(fake_dir) else 0\n",
    "real_count = len(os.listdir(real_dir)) if os.path.exists(real_dir) else 0\n",
    "\n",
    "print(f\"Fake: {fake_count}, Real: {real_count}\")\n"
   ]
  },
  {
   "cell_type": "code",
   "execution_count": 27,
   "metadata": {},
   "outputs": [],
   "source": [
    "import os\n",
    "import numpy as np\n",
    "import matplotlib.pyplot as plt\n",
    "import seaborn as sns\n",
    "from tensorflow.keras.models import load_model\n",
    "from tensorflow.keras.preprocessing.image import ImageDataGenerator\n",
    "from sklearn.metrics import confusion_matrix, classification_report\n",
    "\n",
    "# 데이터셋 경로\n",
    "dataset_dir = \"/home/jangminoh_2/AI_Detector/data/자체 데이터셋 분류/풍경화(111)\"\n",
    "fake_dir = \"/home/jangminoh_2/AI_Detector/data/자체 데이터셋 분류/풍경화(111)/fake\"\n",
    "real_dir = \"/home/jangminoh_2/AI_Detector/data/자체 데이터셋 분류/풍경화(111)/real\""
   ]
  },
  {
   "cell_type": "code",
   "execution_count": 28,
   "metadata": {},
   "outputs": [
    {
     "name": "stdout",
     "output_type": "stream",
     "text": [
      "Fake: 111, Real: 0\n"
     ]
    }
   ],
   "source": [
    "fake_count = len(os.listdir(fake_dir)) if os.path.exists(fake_dir) else 0\n",
    "real_count = len(os.listdir(real_dir)) if os.path.exists(real_dir) else 0\n",
    "\n",
    "print(f\"Fake: {fake_count}, Real: {real_count}\")"
   ]
  },
  {
   "cell_type": "code",
   "execution_count": 29,
   "metadata": {},
   "outputs": [
    {
     "name": "stderr",
     "output_type": "stream",
     "text": [
      "WARNING:absl:Compiled the loaded model, but the compiled metrics have yet to be built. `model.compile_metrics` will be empty until you train or evaluate the model.\n"
     ]
    }
   ],
   "source": [
    "# 모델 로드\n",
    "model_path = \"/home/jangminoh_2/AI_Detector/model/model_v7.h5\"\n",
    "model = load_model(model_path)"
   ]
  },
  {
   "cell_type": "code",
   "execution_count": 30,
   "metadata": {},
   "outputs": [
    {
     "name": "stdout",
     "output_type": "stream",
     "text": [
      "Found 92 images belonging to 2 classes.\n"
     ]
    },
    {
     "name": "stderr",
     "output_type": "stream",
     "text": [
      "/home/jangminoh_2/miniconda3/envs/ml-ops/lib/python3.12/site-packages/keras/src/trainers/data_adapters/py_dataset_adapter.py:121: UserWarning: Your `PyDataset` class should call `super().__init__(**kwargs)` in its constructor. `**kwargs` can include `workers`, `use_multiprocessing`, `max_queue_size`. Do not pass these arguments to `fit()`, as they will be ignored.\n",
      "  self._warn_if_super_not_called()\n"
     ]
    },
    {
     "name": "stdout",
     "output_type": "stream",
     "text": [
      "\u001b[1m92/92\u001b[0m \u001b[32m━━━━━━━━━━━━━━━━━━━━\u001b[0m\u001b[37m\u001b[0m \u001b[1m11s\u001b[0m 18ms/step\n",
      "[[0.07385627]\n",
      " [0.8192027 ]\n",
      " [0.9774531 ]\n",
      " [0.80721414]\n",
      " [0.7073258 ]\n",
      " [0.46421987]\n",
      " [0.5895461 ]\n",
      " [0.09868811]\n",
      " [0.34569514]\n",
      " [0.8745071 ]\n",
      " [0.69618255]\n",
      " [0.6273772 ]\n",
      " [0.5827907 ]\n",
      " [0.7650781 ]\n",
      " [0.2737435 ]\n",
      " [0.5516127 ]\n",
      " [0.42626223]\n",
      " [0.30116183]\n",
      " [0.24985239]\n",
      " [0.41896385]\n",
      " [0.95119005]\n",
      " [0.7830082 ]\n",
      " [0.74663615]\n",
      " [0.573383  ]\n",
      " [0.98240465]\n",
      " [0.7597887 ]\n",
      " [0.8294096 ]\n",
      " [0.6551394 ]\n",
      " [0.78804904]\n",
      " [0.9067355 ]\n",
      " [0.28039715]\n",
      " [0.7906481 ]\n",
      " [0.67660946]\n",
      " [0.8636569 ]\n",
      " [0.89297825]\n",
      " [0.7291087 ]\n",
      " [0.71554357]\n",
      " [0.56233793]\n",
      " [0.546483  ]\n",
      " [0.9283046 ]\n",
      " [0.29606038]\n",
      " [0.9200967 ]\n",
      " [0.4758484 ]\n",
      " [0.5002553 ]\n",
      " [0.6037502 ]\n",
      " [0.7758955 ]\n",
      " [0.22149497]\n",
      " [0.6023013 ]\n",
      " [0.85440195]\n",
      " [0.87558794]\n",
      " [0.7724998 ]\n",
      " [0.4886005 ]\n",
      " [0.3584918 ]\n",
      " [0.35640255]\n",
      " [0.5338402 ]\n",
      " [0.42517292]\n",
      " [0.6132011 ]\n",
      " [0.32563877]\n",
      " [0.33491105]\n",
      " [0.84592324]\n",
      " [0.5828656 ]\n",
      " [0.38046914]\n",
      " [0.82638407]\n",
      " [0.21901648]\n",
      " [0.10650811]\n",
      " [0.8185375 ]\n",
      " [0.87587833]\n",
      " [0.56464195]\n",
      " [0.4073074 ]\n",
      " [0.42707425]\n",
      " [0.24268067]\n",
      " [0.49527153]\n",
      " [0.51498586]\n",
      " [0.27715898]\n",
      " [0.19244014]\n",
      " [0.7707897 ]\n",
      " [0.86656874]\n",
      " [0.32069078]\n",
      " [0.4998921 ]\n",
      " [0.4320224 ]\n",
      " [0.76713556]\n",
      " [0.67860055]\n",
      " [0.8275091 ]\n",
      " [0.43700913]\n",
      " [0.36613575]\n",
      " [0.77598363]\n",
      " [0.7961292 ]\n",
      " [0.8383479 ]\n",
      " [0.22725174]\n",
      " [0.66149276]\n",
      " [0.8780205 ]\n",
      " [0.8693939 ]]\n",
      "Model Accuracy: 0.3696\n"
     ]
    },
    {
     "data": {
      "image/png": "[encoded data removed]",
      "text/plain": [
       "<Figure size 600x500 with 2 Axes>"
      ]
     },
     "metadata": {},
     "output_type": "display_data"
    },
    {
     "name": "stdout",
     "output_type": "stream",
     "text": [
      "\n",
      "Classification Report:\n",
      "              precision    recall  f1-score   support\n",
      "\n",
      "        fake       1.00      0.37      0.54        92\n",
      "        real       0.00      0.00      0.00         0\n",
      "\n",
      "    accuracy                           0.37        92\n",
      "   macro avg       0.50      0.18      0.27        92\n",
      "weighted avg       1.00      0.37      0.54        92\n",
      "\n"
     ]
    },
    {
     "name": "stderr",
     "output_type": "stream",
     "text": [
      "/home/jangminoh_2/miniconda3/envs/ml-ops/lib/python3.12/site-packages/sklearn/metrics/_classification.py:1565: UndefinedMetricWarning: Recall is ill-defined and being set to 0.0 in labels with no true samples. Use `zero_division` parameter to control this behavior.\n",
      "  _warn_prf(average, modifier, f\"{metric.capitalize()} is\", len(result))\n",
      "/home/jangminoh_2/miniconda3/envs/ml-ops/lib/python3.12/site-packages/sklearn/metrics/_classification.py:1565: UndefinedMetricWarning: Recall is ill-defined and being set to 0.0 in labels with no true samples. Use `zero_division` parameter to control this behavior.\n",
      "  _warn_prf(average, modifier, f\"{metric.capitalize()} is\", len(result))\n",
      "/home/jangminoh_2/miniconda3/envs/ml-ops/lib/python3.12/site-packages/sklearn/metrics/_classification.py:1565: UndefinedMetricWarning: Recall is ill-defined and being set to 0.0 in labels with no true samples. Use `zero_division` parameter to control this behavior.\n",
      "  _warn_prf(average, modifier, f\"{metric.capitalize()} is\", len(result))\n"
     ]
    }
   ],
   "source": [
    "# 이미지 크기 및 배치 사이즈 설정\n",
    "img_size = (528, 528)  # EfficientNetB6의 입력 크기에 맞게 변경 가능\n",
    "batch_size = 1\n",
    "\n",
    "# 데이터 로더 설정 (test용)\n",
    "datagen = ImageDataGenerator(\n",
    "    preprocessing_function=tf.keras.applications.efficientnet.preprocess_input\n",
    ")\n",
    "\n",
    "test_generator = datagen.flow_from_directory(\n",
    "    dataset_dir,\n",
    "    target_size=img_size,\n",
    "    batch_size=batch_size,\n",
    "    class_mode=\"binary\",  # 이진 분류 (fake vs real)\n",
    "    shuffle= False\n",
    ")\n",
    "\n",
    "# 실제 라벨 가져오기\n",
    "y_true = test_generator.classes  # 0: fake, 1: real\n",
    "#print(y_true)\n",
    "class_names = list(test_generator.class_indices.keys())\n",
    "#print(class_names) #['fake', 'real']\n",
    "#print(test_generator.class_indices)\n",
    "\n",
    "# 예측 수행\n",
    "y_pred_probs = model.predict(test_generator, steps=test_generator.samples)  # 확률값 출력\n",
    "print(y_pred_probs)\n",
    "y_pred = (y_pred_probs > 0.5).astype(int).flatten()  # 0.5 이상이면 1(real), 아니면 0(fake)\n",
    "\n",
    "# 정확도 출력\n",
    "accuracy = np.mean(y_pred == y_true)\n",
    "print(f\"Model Accuracy: {accuracy:.4f}\")\n",
    "\n",
    "# Confusion Matrix 생성\n",
    "cm = confusion_matrix(y_true, y_pred)\n",
    "\n",
    "# Confusion Matrix 시각화\n",
    "plt.figure(figsize=(6, 5))\n",
    "sns.heatmap(cm, annot=True, fmt=\"d\", cmap=\"Blues\", xticklabels=class_names, yticklabels=class_names)\n",
    "plt.xlabel(\"Predicted Label\")\n",
    "plt.ylabel(\"True Label\")\n",
    "plt.title(\"Confusion Matrix\")\n",
    "plt.show()\n",
    "\n",
    "# 분류 보고서 출력\n",
    "print(\"\\nClassification Report:\")\n",
    "print(classification_report(y_true, y_pred, target_names=class_names))\n"
   ]
  },
  {
   "cell_type": "markdown",
   "metadata": {},
   "source": [
    "# 흑백사진"
   ]
  },
  {
   "cell_type": "code",
   "execution_count": 20,
   "metadata": {},
   "outputs": [
    {
     "name": "stdout",
     "output_type": "stream",
     "text": [
      "Fake: 11, Real: 3\n"
     ]
    }
   ],
   "source": [
    "import os\n",
    "\n",
    "dataset_dir = \"/home/jangminoh_2/AI_Detector/data/자체 데이터셋 분류/흑백사진\"\n",
    "fake_dir = os.path.join(dataset_dir, \"fake\")\n",
    "real_dir = os.path.join(dataset_dir, \"real\")\n",
    "\n",
    "fake_count = len(os.listdir(fake_dir)) if os.path.exists(fake_dir) else 0\n",
    "real_count = len(os.listdir(real_dir)) if os.path.exists(real_dir) else 0\n",
    "\n",
    "print(f\"Fake: {fake_count}, Real: {real_count}\")\n"
   ]
  },
  {
   "cell_type": "code",
   "execution_count": 22,
   "metadata": {},
   "outputs": [],
   "source": [
    "import os\n",
    "import numpy as np\n",
    "import matplotlib.pyplot as plt\n",
    "import seaborn as sns\n",
    "from tensorflow.keras.models import load_model\n",
    "from tensorflow.keras.preprocessing.image import ImageDataGenerator\n",
    "from sklearn.metrics import confusion_matrix, classification_report\n",
    "\n",
    "# 데이터셋 경로\n",
    "dataset_dir = \"/home/jangminoh_2/AI_Detector/data/자체 데이터셋 분류/흑백사진\"\n",
    "fake_dir = \"/home/jangminoh_2/AI_Detector/data/자체 데이터셋 분류/흑백사진/fake\"\n",
    "real_dir = \"/home/jangminoh_2/AI_Detector/data/자체 데이터셋 분류/흑백사진/real\""
   ]
  },
  {
   "cell_type": "code",
   "execution_count": 23,
   "metadata": {},
   "outputs": [
    {
     "name": "stdout",
     "output_type": "stream",
     "text": [
      "Fake: 11, Real: 3\n"
     ]
    }
   ],
   "source": [
    "fake_count = len(os.listdir(fake_dir)) if os.path.exists(fake_dir) else 0\n",
    "real_count = len(os.listdir(real_dir)) if os.path.exists(real_dir) else 0\n",
    "\n",
    "print(f\"Fake: {fake_count}, Real: {real_count}\")"
   ]
  },
  {
   "cell_type": "code",
   "execution_count": 24,
   "metadata": {},
   "outputs": [
    {
     "name": "stderr",
     "output_type": "stream",
     "text": [
      "WARNING:absl:Compiled the loaded model, but the compiled metrics have yet to be built. `model.compile_metrics` will be empty until you train or evaluate the model.\n"
     ]
    }
   ],
   "source": [
    "# 모델 로드\n",
    "model_path = \"/home/jangminoh_2/AI_Detector/model/model_v7.h5\"\n",
    "model = load_model(model_path)"
   ]
  },
  {
   "cell_type": "code",
   "execution_count": 25,
   "metadata": {},
   "outputs": [
    {
     "name": "stdout",
     "output_type": "stream",
     "text": [
      "Found 14 images belonging to 2 classes.\n",
      "\u001b[1m14/14\u001b[0m \u001b[32m━━━━━━━━━━━━━━━━━━━━\u001b[0m\u001b[37m\u001b[0m \u001b[1m10s\u001b[0m 22ms/step\n",
      "[[0.7957028 ]\n",
      " [0.9318818 ]\n",
      " [0.49320042]\n",
      " [0.38654935]\n",
      " [0.98185056]\n",
      " [0.15084372]\n",
      " [0.3259857 ]\n",
      " [0.8675444 ]\n",
      " [0.9509084 ]\n",
      " [0.60916924]\n",
      " [0.814808  ]\n",
      " [0.96695286]\n",
      " [0.82530105]\n",
      " [0.00762278]]\n",
      "Model Accuracy: 0.4286\n"
     ]
    },
    {
     "data": {
      "image/png": "[encoded data removed]",
      "text/plain": [
       "<Figure size 600x500 with 2 Axes>"
      ]
     },
     "metadata": {},
     "output_type": "display_data"
    },
    {
     "name": "stdout",
     "output_type": "stream",
     "text": [
      "\n",
      "Classification Report:\n",
      "              precision    recall  f1-score   support\n",
      "\n",
      "        fake       0.80      0.36      0.50        11\n",
      "        real       0.22      0.67      0.33         3\n",
      "\n",
      "    accuracy                           0.43        14\n",
      "   macro avg       0.51      0.52      0.42        14\n",
      "weighted avg       0.68      0.43      0.46        14\n",
      "\n"
     ]
    }
   ],
   "source": [
    "# 이미지 크기 및 배치 사이즈 설정\n",
    "img_size = (528, 528)  # EfficientNetB6의 입력 크기에 맞게 변경 가능\n",
    "batch_size = 1\n",
    "\n",
    "# 데이터 로더 설정 (test용)\n",
    "datagen = ImageDataGenerator(\n",
    "    preprocessing_function=tf.keras.applications.efficientnet.preprocess_input\n",
    ")\n",
    "\n",
    "test_generator = datagen.flow_from_directory(\n",
    "    dataset_dir,\n",
    "    target_size=img_size,\n",
    "    batch_size=batch_size,\n",
    "    class_mode=\"binary\",  # 이진 분류 (fake vs real)\n",
    "    shuffle= False\n",
    ")\n",
    "\n",
    "# 실제 라벨 가져오기\n",
    "y_true = test_generator.classes  # 0: fake, 1: real\n",
    "#print(y_true)\n",
    "class_names = list(test_generator.class_indices.keys())\n",
    "#print(class_names) #['fake', 'real']\n",
    "#print(test_generator.class_indices)\n",
    "\n",
    "# 예측 수행\n",
    "y_pred_probs = model.predict(test_generator, steps=test_generator.samples)  # 확률값 출력\n",
    "print(y_pred_probs)\n",
    "y_pred = (y_pred_probs > 0.5).astype(int).flatten()  # 0.5 이상이면 1(real), 아니면 0(fake)\n",
    "\n",
    "# 정확도 출력\n",
    "accuracy = np.mean(y_pred == y_true)\n",
    "print(f\"Model Accuracy: {accuracy:.4f}\")\n",
    "\n",
    "# Confusion Matrix 생성\n",
    "cm = confusion_matrix(y_true, y_pred)\n",
    "\n",
    "# Confusion Matrix 시각화\n",
    "plt.figure(figsize=(6, 5))\n",
    "sns.heatmap(cm, annot=True, fmt=\"d\", cmap=\"Blues\", xticklabels=class_names, yticklabels=class_names)\n",
    "plt.xlabel(\"Predicted Label\")\n",
    "plt.ylabel(\"True Label\")\n",
    "plt.title(\"Confusion Matrix\")\n",
    "plt.show()\n",
    "\n",
    "# 분류 보고서 출력\n",
    "print(\"\\nClassification Report:\")\n",
    "print(classification_report(y_true, y_pred, target_names=class_names))\n"
   ]
  },
  {
   "cell_type": "markdown",
   "metadata": {},
   "source": []
  }
 ],
 "metadata": {
  "kernelspec": {
   "display_name": "Python (ml-ops)",
   "language": "python",
   "name": "ml-ops"
  },
  "language_info": {
   "codemirror_mode": {
    "name": "ipython",
    "version": 3
   },
   "file_extension": ".py",
   "mimetype": "text/x-python",
   "name": "python",
   "nbconvert_exporter": "python",
   "pygments_lexer": "ipython3",
   "version": "3.12.9"
  }
 },
 "nbformat": 4,
 "nbformat_minor": 2
}
