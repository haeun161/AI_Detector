{
 "cells": [
  {
   "cell_type": "markdown",
   "metadata": {},
   "source": [
    "자체 데이터셋 평가"
   ]
  },
  {
   "cell_type": "markdown",
   "metadata": {},
   "source": [
    "# GPU 할당"
   ]
  },
  {
   "cell_type": "code",
   "execution_count": 3,
   "metadata": {},
   "outputs": [
    {
     "name": "stdout",
     "output_type": "stream",
     "text": [
      "[LogicalDevice(name='/device:GPU:0', device_type='GPU')]\n"
     ]
    }
   ],
   "source": [
    "import tensorflow as tf\n",
    "\n",
    "# GPU 0만 사용\n",
    "gpus = tf.config.experimental.list_physical_devices('GPU')\n",
    "if gpus:\n",
    "    try:\n",
    "        tf.config.experimental.set_visible_devices(gpus[0], 'GPU')  # GPU 0만 사용\n",
    "        tf.config.experimental.set_memory_growth(gpus[0], True)  # 메모리 동적 할당\n",
    "    except RuntimeError as e:\n",
    "        print(e)\n",
    "\n",
    "# TensorFlow에서 사용할 장치 확인\n",
    "print(tf.config.experimental.list_logical_devices('GPU'))\n"
   ]
  },
  {
   "cell_type": "code",
   "execution_count": 2,
   "metadata": {},
   "outputs": [],
   "source": [
    "import os\n",
    "os.environ[\"CUDA_VISIBLE_DEVICES\"] = \"0\""
   ]
  },
  {
   "cell_type": "markdown",
   "metadata": {},
   "source": [
    "# 필요한 라이브러리 로드"
   ]
  },
  {
   "cell_type": "code",
   "execution_count": 4,
   "metadata": {},
   "outputs": [],
   "source": [
    "import os\n",
    "import numpy as np\n",
    "import matplotlib.pyplot as plt\n",
    "import seaborn as sns\n",
    "import tensorflow as tf\n",
    "from tensorflow.keras.models import load_model\n",
    "from tensorflow.keras.preprocessing.image import ImageDataGenerator\n",
    "from sklearn.metrics import confusion_matrix, classification_report"
   ]
  },
  {
   "cell_type": "markdown",
   "metadata": {},
   "source": [
    "# 모델 로드"
   ]
  },
  {
   "cell_type": "code",
   "execution_count": null,
   "metadata": {},
   "outputs": [
    {
     "name": "stderr",
     "output_type": "stream",
     "text": [
      "WARNING:absl:Compiled the loaded model, but the compiled metrics have yet to be built. `model.compile_metrics` will be empty until you train or evaluate the model.\n"
     ]
    }
   ],
   "source": [
    "## 모델 로드\n",
    "# model_path = \"/home/jangminoh_2/AI_Detector/model/model_v7.h5\"\n",
    "# model = load_model(model_path)"
   ]
  },
  {
   "cell_type": "code",
   "execution_count": 6,
   "metadata": {},
   "outputs": [],
   "source": [
    "# 모델 로드\n",
    "from tensorflow.keras.models import load_model\n",
    "\n",
    "model = load_model(\"/home/jangminoh_2/AI_Detector/3/my_model.keras\")"
   ]
  },
  {
   "cell_type": "markdown",
   "metadata": {},
   "source": [
    "# 건축물 데이터셋"
   ]
  },
  {
   "cell_type": "code",
   "execution_count": 7,
   "metadata": {},
   "outputs": [],
   "source": [
    "# 데이터셋 경로\n",
    "dataset_dir = \"/home/jangminoh_2/AI_Detector/data/자체 데이터셋 분류/건축물(빌딩, 유적지 등)\"\n",
    "fake_dir = \"/home/jangminoh_2/AI_Detector/data/자체 데이터셋 분류/건축물(빌딩, 유적지 등)/fake\"\n",
    "real_dir = \"/home/jangminoh_2/AI_Detector/data/자체 데이터셋 분류/건축물(빌딩, 유적지 등)/real\""
   ]
  },
  {
   "cell_type": "code",
   "execution_count": 8,
   "metadata": {},
   "outputs": [
    {
     "name": "stdout",
     "output_type": "stream",
     "text": [
      "Fake: 48, Real: 28\n"
     ]
    }
   ],
   "source": [
    "fake_count = len(os.listdir(fake_dir)) if os.path.exists(fake_dir) else 0\n",
    "real_count = len(os.listdir(real_dir)) if os.path.exists(real_dir) else 0\n",
    "\n",
    "print(f\"Fake: {fake_count}, Real: {real_count}\")"
   ]
  },
  {
   "cell_type": "code",
   "execution_count": 9,
   "metadata": {},
   "outputs": [
    {
     "name": "stdout",
     "output_type": "stream",
     "text": [
      "Found 76 images belonging to 2 classes.\n"
     ]
    },
    {
     "name": "stderr",
     "output_type": "stream",
     "text": [
      "/home/jangminoh_2/miniconda3/envs/ml-ops/lib/python3.12/site-packages/keras/src/trainers/data_adapters/py_dataset_adapter.py:121: UserWarning: Your `PyDataset` class should call `super().__init__(**kwargs)` in its constructor. `**kwargs` can include `workers`, `use_multiprocessing`, `max_queue_size`. Do not pass these arguments to `fit()`, as they will be ignored.\n",
      "  self._warn_if_super_not_called()\n",
      "WARNING: All log messages before absl::InitializeLog() is called are written to STDERR\n",
      "I0000 00:00:1741862611.525449  562474 service.cc:146] XLA service 0x7cbb90002ee0 initialized for platform CUDA (this does not guarantee that XLA will be used). Devices:\n",
      "I0000 00:00:1741862611.525490  562474 service.cc:154]   StreamExecutor device (0): NVIDIA RTX A5000, Compute Capability 8.6\n",
      "2025-03-13 19:43:31.744287: I tensorflow/compiler/mlir/tensorflow/utils/dump_mlir_util.cc:268] disabling MLIR crash reproducer, set env var `MLIR_CRASH_REPRODUCER_DIRECTORY` to enable.\n",
      "2025-03-13 19:43:32.815126: I external/local_xla/xla/stream_executor/cuda/cuda_dnn.cc:531] Loaded cuDNN version 8907\n",
      "2025-03-13 19:43:33.722904: I external/local_xla/xla/stream_executor/cuda/cuda_asm_compiler.cc:393] ptxas warning : Registers are spilled to local memory in function 'gemm_fusion_dot_2', 36 bytes spill stores, 36 bytes spill loads\n",
      "\n"
     ]
    },
    {
     "name": "stdout",
     "output_type": "stream",
     "text": [
      "\u001b[1m 7/76\u001b[0m \u001b[32m━\u001b[0m\u001b[37m━━━━━━━━━━━━━━━━━━━\u001b[0m \u001b[1m1s\u001b[0m 24ms/step "
     ]
    },
    {
     "name": "stderr",
     "output_type": "stream",
     "text": [
      "I0000 00:00:1741862621.422385  562474 device_compiler.h:188] Compiled cluster using XLA!  This line is logged at most once for the lifetime of the process.\n"
     ]
    },
    {
     "name": "stdout",
     "output_type": "stream",
     "text": [
      "\u001b[1m76/76\u001b[0m \u001b[32m━━━━━━━━━━━━━━━━━━━━\u001b[0m\u001b[37m\u001b[0m \u001b[1m15s\u001b[0m 20ms/step\n",
      "[[0.60824794]\n",
      " [0.749865  ]\n",
      " [0.5356135 ]\n",
      " [0.2115498 ]\n",
      " [0.30523756]\n",
      " [0.801304  ]\n",
      " [0.00689299]\n",
      " [0.46853656]\n",
      " [0.360465  ]\n",
      " [0.00247219]\n",
      " [0.07425108]\n",
      " [0.00494856]\n",
      " [0.25952086]\n",
      " [0.0579601 ]\n",
      " [0.62526083]\n",
      " [0.8722406 ]\n",
      " [0.39622062]\n",
      " [0.38375944]\n",
      " [0.48982736]\n",
      " [0.02830949]\n",
      " [0.04274753]\n",
      " [0.02263529]\n",
      " [0.01448666]\n",
      " [0.09923631]\n",
      " [0.12939471]\n",
      " [0.2882686 ]\n",
      " [0.02361234]\n",
      " [0.02274284]\n",
      " [0.02723315]\n",
      " [0.01545613]\n",
      " [0.26124513]\n",
      " [0.01975201]\n",
      " [0.09495848]\n",
      " [0.02084322]\n",
      " [0.12492914]\n",
      " [0.27243716]\n",
      " [0.00247996]\n",
      " [0.7620145 ]\n",
      " [0.11647148]\n",
      " [0.01134446]\n",
      " [0.3366702 ]\n",
      " [0.01772027]\n",
      " [0.35543677]\n",
      " [0.04430676]\n",
      " [0.1537461 ]\n",
      " [0.1537461 ]\n",
      " [0.18558358]\n",
      " [0.18558358]\n",
      " [0.4502174 ]\n",
      " [0.65566087]\n",
      " [0.01717927]\n",
      " [0.6431168 ]\n",
      " [0.5655901 ]\n",
      " [0.3422853 ]\n",
      " [0.13312784]\n",
      " [0.9530539 ]\n",
      " [0.7404975 ]\n",
      " [0.41543376]\n",
      " [0.07134389]\n",
      " [0.32346126]\n",
      " [0.97691363]\n",
      " [0.23814538]\n",
      " [0.5004397 ]\n",
      " [0.8794724 ]\n",
      " [0.8900156 ]\n",
      " [0.9332532 ]\n",
      " [0.79706085]\n",
      " [0.74127793]\n",
      " [0.8040148 ]\n",
      " [0.91970843]\n",
      " [0.7772959 ]\n",
      " [0.35088992]\n",
      " [0.08475584]\n",
      " [0.160939  ]\n",
      " [0.07407042]\n",
      " [0.14442562]]\n",
      "Model Accuracy: 0.7368\n"
     ]
    },
    {
     "data": {
      "image/png": "[encoded data removed]",
      "text/plain": [
       "<Figure size 600x500 with 2 Axes>"
      ]
     },
     "metadata": {},
     "output_type": "display_data"
    },
    {
     "name": "stdout",
     "output_type": "stream",
     "text": [
      "\n",
      "Classification Report:\n",
      "              precision    recall  f1-score   support\n",
      "\n",
      "        fake       0.76      0.85      0.80        48\n",
      "        real       0.68      0.54      0.60        28\n",
      "\n",
      "    accuracy                           0.74        76\n",
      "   macro avg       0.72      0.69      0.70        76\n",
      "weighted avg       0.73      0.74      0.73        76\n",
      "\n"
     ]
    }
   ],
   "source": [
    "# 이미지 크기 및 배치 사이즈 설정\n",
    "img_size = (528, 528)  # EfficientNetB6의 입력 크기에 맞게 변경 가능\n",
    "batch_size = 1\n",
    "\n",
    "# 데이터 로더 설정 (test용)\n",
    "datagen = ImageDataGenerator(\n",
    "    preprocessing_function=tf.keras.applications.efficientnet.preprocess_input\n",
    ")\n",
    "\n",
    "test_generator = datagen.flow_from_directory(\n",
    "    dataset_dir,\n",
    "    target_size=img_size,\n",
    "    batch_size=batch_size,\n",
    "    class_mode=\"binary\",  # 이진 분류 (fake vs real)\n",
    "    shuffle= False\n",
    ")\n",
    "\n",
    "# 실제 라벨 가져오기\n",
    "y_true = test_generator.classes  # 0: fake, 1: real\n",
    "#print(y_true)\n",
    "class_names = list(test_generator.class_indices.keys())\n",
    "#print(class_names) #['fake', 'real']\n",
    "#print(test_generator.class_indices)\n",
    "\n",
    "# 예측 수행\n",
    "y_pred_probs = model.predict(test_generator, steps=test_generator.samples)  # 확률값 출력\n",
    "print(y_pred_probs)\n",
    "y_pred = (y_pred_probs > 0.5).astype(int).flatten()  # 0.5 이상이면 1(real), 아니면 0(fake)\n",
    "\n",
    "# 정확도 출력\n",
    "accuracy = np.mean(y_pred == y_true)\n",
    "print(f\"Model Accuracy: {accuracy:.4f}\")\n",
    "\n",
    "# Confusion Matrix 생성\n",
    "cm = confusion_matrix(y_true, y_pred)\n",
    "\n",
    "# Confusion Matrix 시각화\n",
    "plt.figure(figsize=(6, 5))\n",
    "sns.heatmap(cm, annot=True, fmt=\"d\", cmap=\"Blues\", xticklabels=class_names, yticklabels=class_names)\n",
    "plt.xlabel(\"Predicted Label\")\n",
    "plt.ylabel(\"True Label\")\n",
    "plt.title(\"Confusion Matrix\")\n",
    "plt.show()\n",
    "\n",
    "# 분류 보고서 출력\n",
    "print(\"\\nClassification Report:\")\n",
    "print(classification_report(y_true, y_pred, target_names=class_names))\n"
   ]
  },
  {
   "cell_type": "markdown",
   "metadata": {},
   "source": [
    "# 동물"
   ]
  },
  {
   "cell_type": "code",
   "execution_count": 10,
   "metadata": {},
   "outputs": [],
   "source": [
    "# 데이터셋 경로\n",
    "dataset_dir = \"/home/jangminoh_2/AI_Detector/data/자체 데이터셋 분류/동물\"\n",
    "fake_dir = \"/home/jangminoh_2/AI_Detector/data/자체 데이터셋 분류/동물/fake\"\n",
    "real_dir = \"/home/jangminoh_2/AI_Detector/data/자체 데이터셋 분류/동물/real\""
   ]
  },
  {
   "cell_type": "code",
   "execution_count": 11,
   "metadata": {},
   "outputs": [
    {
     "name": "stdout",
     "output_type": "stream",
     "text": [
      "Fake: 51, Real: 22\n"
     ]
    }
   ],
   "source": [
    "fake_count = len(os.listdir(fake_dir)) if os.path.exists(fake_dir) else 0\n",
    "real_count = len(os.listdir(real_dir)) if os.path.exists(real_dir) else 0\n",
    "\n",
    "print(f\"Fake: {fake_count}, Real: {real_count}\")"
   ]
  },
  {
   "cell_type": "code",
   "execution_count": 12,
   "metadata": {},
   "outputs": [
    {
     "name": "stdout",
     "output_type": "stream",
     "text": [
      "Found 73 images belonging to 2 classes.\n"
     ]
    },
    {
     "name": "stdout",
     "output_type": "stream",
     "text": [
      "\u001b[1m 3/73\u001b[0m \u001b[37m━━━━━━━━━━━━━━━━━━━━\u001b[0m \u001b[1m1s\u001b[0m 27ms/step"
     ]
    },
    {
     "name": "stderr",
     "output_type": "stream",
     "text": [
      "/home/jangminoh_2/miniconda3/envs/ml-ops/lib/python3.12/site-packages/keras/src/trainers/data_adapters/py_dataset_adapter.py:121: UserWarning: Your `PyDataset` class should call `super().__init__(**kwargs)` in its constructor. `**kwargs` can include `workers`, `use_multiprocessing`, `max_queue_size`. Do not pass these arguments to `fit()`, as they will be ignored.\n",
      "  self._warn_if_super_not_called()\n"
     ]
    },
    {
     "name": "stdout",
     "output_type": "stream",
     "text": [
      "\u001b[1m73/73\u001b[0m \u001b[32m━━━━━━━━━━━━━━━━━━━━\u001b[0m\u001b[37m\u001b[0m \u001b[1m1s\u001b[0m 19ms/step\n",
      "[[4.8505110e-04]\n",
      " [4.3694045e-02]\n",
      " [7.9696532e-04]\n",
      " [8.2379319e-03]\n",
      " [1.2852296e-02]\n",
      " [2.1001302e-02]\n",
      " [1.3520205e-03]\n",
      " [1.5795514e-02]\n",
      " [1.8647544e-02]\n",
      " [5.6195998e-01]\n",
      " [1.4711472e-01]\n",
      " [3.0176884e-02]\n",
      " [1.0329348e-01]\n",
      " [1.6118642e-02]\n",
      " [2.0710506e-02]\n",
      " [3.3321254e-02]\n",
      " [1.5612921e-02]\n",
      " [1.6913430e-01]\n",
      " [5.8510307e-02]\n",
      " [4.6580130e-01]\n",
      " [1.7903616e-01]\n",
      " [1.7195678e-01]\n",
      " [1.3033941e-02]\n",
      " [8.3412424e-02]\n",
      " [7.0905131e-01]\n",
      " [9.2530817e-02]\n",
      " [1.7736059e-01]\n",
      " [2.3008429e-02]\n",
      " [4.1105755e-02]\n",
      " [5.5738509e-01]\n",
      " [1.7938437e-01]\n",
      " [2.4305521e-01]\n",
      " [2.4305521e-01]\n",
      " [9.9108532e-02]\n",
      " [2.1254869e-01]\n",
      " [9.8638654e-01]\n",
      " [9.4383997e-01]\n",
      " [7.2847241e-01]\n",
      " [1.6945210e-01]\n",
      " [5.3028256e-01]\n",
      " [2.0830281e-02]\n",
      " [6.8183742e-02]\n",
      " [6.5732427e-02]\n",
      " [1.3420979e-02]\n",
      " [1.9025298e-02]\n",
      " [1.1415825e-02]\n",
      " [2.5030036e-02]\n",
      " [3.5453153e-01]\n",
      " [4.0225707e-02]\n",
      " [2.2017814e-02]\n",
      " [3.7941869e-02]\n",
      " [8.6468798e-01]\n",
      " [9.9743998e-01]\n",
      " [8.8039273e-01]\n",
      " [8.6143416e-01]\n",
      " [8.6721528e-01]\n",
      " [2.0174852e-01]\n",
      " [2.2480491e-01]\n",
      " [4.8636876e-02]\n",
      " [3.0451879e-01]\n",
      " [1.1822330e-01]\n",
      " [9.7391576e-01]\n",
      " [9.3831289e-01]\n",
      " [8.4804404e-01]\n",
      " [4.4703090e-01]\n",
      " [7.0142657e-01]\n",
      " [2.9122762e-02]\n",
      " [1.6330968e-01]\n",
      " [1.0252851e-01]\n",
      " [8.9289433e-01]\n",
      " [4.8119441e-01]\n",
      " [7.4955833e-01]\n",
      " [2.1326360e-01]]\n",
      "Model Accuracy: 0.7534\n"
     ]
    },
    {
     "data": {
      "image/png": "[encoded data removed]",
      "text/plain": [
       "<Figure size 600x500 with 2 Axes>"
      ]
     },
     "metadata": {},
     "output_type": "display_data"
    },
    {
     "name": "stdout",
     "output_type": "stream",
     "text": [
      "\n",
      "Classification Report:\n",
      "              precision    recall  f1-score   support\n",
      "\n",
      "        fake       0.80      0.86      0.83        51\n",
      "        real       0.61      0.50      0.55        22\n",
      "\n",
      "    accuracy                           0.75        73\n",
      "   macro avg       0.71      0.68      0.69        73\n",
      "weighted avg       0.74      0.75      0.75        73\n",
      "\n"
     ]
    }
   ],
   "source": [
    "# 이미지 크기 및 배치 사이즈 설정\n",
    "img_size = (528, 528)  # EfficientNetB6의 입력 크기에 맞게 변경 가능\n",
    "batch_size = 1\n",
    "\n",
    "# 데이터 로더 설정 (test용)\n",
    "datagen = ImageDataGenerator(\n",
    "    preprocessing_function=tf.keras.applications.efficientnet.preprocess_input\n",
    ")\n",
    "\n",
    "test_generator = datagen.flow_from_directory(\n",
    "    dataset_dir,\n",
    "    target_size=img_size,\n",
    "    batch_size=batch_size,\n",
    "    class_mode=\"binary\",  # 이진 분류 (fake vs real)\n",
    "    shuffle= False\n",
    ")\n",
    "\n",
    "# 실제 라벨 가져오기\n",
    "y_true = test_generator.classes  # 0: fake, 1: real\n",
    "#print(y_true)\n",
    "class_names = list(test_generator.class_indices.keys())\n",
    "#print(class_names) #['fake', 'real']\n",
    "#print(test_generator.class_indices)\n",
    "\n",
    "# 예측 수행\n",
    "y_pred_probs = model.predict(test_generator, steps=test_generator.samples)  # 확률값 출력\n",
    "print(y_pred_probs)\n",
    "y_pred = (y_pred_probs > 0.5).astype(int).flatten()  # 0.5 이상이면 1(real), 아니면 0(fake)\n",
    "\n",
    "# 정확도 출력\n",
    "accuracy = np.mean(y_pred == y_true)\n",
    "print(f\"Model Accuracy: {accuracy:.4f}\")\n",
    "\n",
    "# Confusion Matrix 생성\n",
    "cm = confusion_matrix(y_true, y_pred)\n",
    "\n",
    "# Confusion Matrix 시각화\n",
    "plt.figure(figsize=(6, 5))\n",
    "sns.heatmap(cm, annot=True, fmt=\"d\", cmap=\"Blues\", xticklabels=class_names, yticklabels=class_names)\n",
    "plt.xlabel(\"Predicted Label\")\n",
    "plt.ylabel(\"True Label\")\n",
    "plt.title(\"Confusion Matrix\")\n",
    "plt.show()\n",
    "\n",
    "# 분류 보고서 출력\n",
    "print(\"\\nClassification Report:\")\n",
    "print(classification_report(y_true, y_pred, target_names=class_names))"
   ]
  },
  {
   "cell_type": "markdown",
   "metadata": {},
   "source": [
    "# 사물"
   ]
  },
  {
   "cell_type": "code",
   "execution_count": 14,
   "metadata": {},
   "outputs": [],
   "source": [
    "# 데이터셋 경로\n",
    "dataset_dir = \"/home/jangminoh_2/AI_Detector/data/자체 데이터셋 분류/사물\"\n",
    "fake_dir = \"/home/jangminoh_2/AI_Detector/data/자체 데이터셋 분류/사물/fake\"\n",
    "real_dir = \"/home/jangminoh_2/AI_Detector/data/자체 데이터셋 분류/사물/real\""
   ]
  },
  {
   "cell_type": "code",
   "execution_count": 15,
   "metadata": {},
   "outputs": [
    {
     "name": "stdout",
     "output_type": "stream",
     "text": [
      "Fake: 40, Real: 29\n"
     ]
    }
   ],
   "source": [
    "fake_count = len(os.listdir(fake_dir)) if os.path.exists(fake_dir) else 0\n",
    "real_count = len(os.listdir(real_dir)) if os.path.exists(real_dir) else 0\n",
    "\n",
    "print(f\"Fake: {fake_count}, Real: {real_count}\")"
   ]
  },
  {
   "cell_type": "code",
   "execution_count": 16,
   "metadata": {},
   "outputs": [
    {
     "name": "stdout",
     "output_type": "stream",
     "text": [
      "Found 68 images belonging to 2 classes.\n"
     ]
    },
    {
     "name": "stdout",
     "output_type": "stream",
     "text": [
      "\u001b[1m 4/68\u001b[0m \u001b[32m━\u001b[0m\u001b[37m━━━━━━━━━━━━━━━━━━━\u001b[0m \u001b[1m1s\u001b[0m 20ms/step"
     ]
    },
    {
     "name": "stderr",
     "output_type": "stream",
     "text": [
      "/home/jangminoh_2/miniconda3/envs/ml-ops/lib/python3.12/site-packages/keras/src/trainers/data_adapters/py_dataset_adapter.py:121: UserWarning: Your `PyDataset` class should call `super().__init__(**kwargs)` in its constructor. `**kwargs` can include `workers`, `use_multiprocessing`, `max_queue_size`. Do not pass these arguments to `fit()`, as they will be ignored.\n",
      "  self._warn_if_super_not_called()\n"
     ]
    },
    {
     "name": "stdout",
     "output_type": "stream",
     "text": [
      "\u001b[1m68/68\u001b[0m \u001b[32m━━━━━━━━━━━━━━━━━━━━\u001b[0m\u001b[37m\u001b[0m \u001b[1m2s\u001b[0m 21ms/step\n",
      "[[2.66284227e-01]\n",
      " [4.03337091e-01]\n",
      " [3.03686768e-01]\n",
      " [1.50989637e-01]\n",
      " [8.52264464e-04]\n",
      " [5.45207202e-01]\n",
      " [2.62604319e-02]\n",
      " [2.89793015e-01]\n",
      " [1.72091708e-01]\n",
      " [1.72563776e-01]\n",
      " [1.97552927e-02]\n",
      " [2.51764134e-02]\n",
      " [9.05977096e-03]\n",
      " [1.29664056e-02]\n",
      " [2.95888335e-01]\n",
      " [4.59780172e-02]\n",
      " [2.36416087e-01]\n",
      " [2.00132579e-01]\n",
      " [2.79444128e-01]\n",
      " [1.46687061e-01]\n",
      " [1.07616685e-01]\n",
      " [2.09682405e-01]\n",
      " [1.71548337e-01]\n",
      " [4.29126294e-03]\n",
      " [1.27178757e-02]\n",
      " [1.05466368e-02]\n",
      " [1.60528999e-02]\n",
      " [3.59403491e-02]\n",
      " [5.56511395e-02]\n",
      " [9.52477753e-02]\n",
      " [1.51824251e-01]\n",
      " [3.85381132e-01]\n",
      " [2.67801546e-02]\n",
      " [3.40938449e-01]\n",
      " [3.19320038e-02]\n",
      " [1.46398908e-02]\n",
      " [4.89672333e-01]\n",
      " [3.15520763e-01]\n",
      " [3.00887585e-01]\n",
      " [7.50762165e-01]\n",
      " [5.06462753e-01]\n",
      " [1.35546073e-01]\n",
      " [1.37634203e-01]\n",
      " [9.89058763e-02]\n",
      " [2.09933072e-01]\n",
      " [1.51004508e-01]\n",
      " [9.04187486e-02]\n",
      " [2.34385412e-02]\n",
      " [4.23293620e-01]\n",
      " [2.86332853e-02]\n",
      " [5.74392863e-02]\n",
      " [3.04107964e-01]\n",
      " [8.98527503e-01]\n",
      " [5.52953966e-02]\n",
      " [4.87483710e-01]\n",
      " [3.91978174e-01]\n",
      " [5.12937963e-01]\n",
      " [3.16914846e-03]\n",
      " [4.34300542e-01]\n",
      " [3.94745231e-01]\n",
      " [9.15484317e-03]\n",
      " [3.27906311e-01]\n",
      " [4.00745243e-01]\n",
      " [1.40269935e-01]\n",
      " [7.34850764e-02]\n",
      " [5.27960770e-02]\n",
      " [1.93238378e-01]\n",
      " [9.26937461e-01]]\n",
      "Model Accuracy: 0.6176\n"
     ]
    },
    {
     "data": {
      "image/png": "[encoded data removed]",
      "text/plain": [
       "<Figure size 600x500 with 2 Axes>"
      ]
     },
     "metadata": {},
     "output_type": "display_data"
    },
    {
     "name": "stdout",
     "output_type": "stream",
     "text": [
      "\n",
      "Classification Report:\n",
      "              precision    recall  f1-score   support\n",
      "\n",
      "        fake       0.61      0.95      0.75        40\n",
      "        real       0.67      0.14      0.24        28\n",
      "\n",
      "    accuracy                           0.62        68\n",
      "   macro avg       0.64      0.55      0.49        68\n",
      "weighted avg       0.64      0.62      0.54        68\n",
      "\n"
     ]
    }
   ],
   "source": [
    "# 이미지 크기 및 배치 사이즈 설정\n",
    "img_size = (528, 528)  # EfficientNetB6의 입력 크기에 맞게 변경 가능\n",
    "batch_size = 1\n",
    "\n",
    "# 데이터 로더 설정 (test용)\n",
    "datagen = ImageDataGenerator(\n",
    "    preprocessing_function=tf.keras.applications.efficientnet.preprocess_input\n",
    ")\n",
    "\n",
    "test_generator = datagen.flow_from_directory(\n",
    "    dataset_dir,\n",
    "    target_size=img_size,\n",
    "    batch_size=batch_size,\n",
    "    class_mode=\"binary\",  # 이진 분류 (fake vs real)\n",
    "    shuffle= False\n",
    ")\n",
    "\n",
    "# 실제 라벨 가져오기\n",
    "y_true = test_generator.classes  # 0: fake, 1: real\n",
    "#print(y_true)\n",
    "class_names = list(test_generator.class_indices.keys())\n",
    "#print(class_names) #['fake', 'real']\n",
    "#print(test_generator.class_indices)\n",
    "\n",
    "# 예측 수행\n",
    "y_pred_probs = model.predict(test_generator, steps=test_generator.samples)  # 확률값 출력\n",
    "print(y_pred_probs)\n",
    "y_pred = (y_pred_probs > 0.5).astype(int).flatten()  # 0.5 이상이면 1(real), 아니면 0(fake)\n",
    "\n",
    "# 정확도 출력\n",
    "accuracy = np.mean(y_pred == y_true)\n",
    "print(f\"Model Accuracy: {accuracy:.4f}\")\n",
    "\n",
    "# Confusion Matrix 생성\n",
    "cm = confusion_matrix(y_true, y_pred)\n",
    "\n",
    "# Confusion Matrix 시각화\n",
    "plt.figure(figsize=(6, 5))\n",
    "sns.heatmap(cm, annot=True, fmt=\"d\", cmap=\"Blues\", xticklabels=class_names, yticklabels=class_names)\n",
    "plt.xlabel(\"Predicted Label\")\n",
    "plt.ylabel(\"True Label\")\n",
    "plt.title(\"Confusion Matrix\")\n",
    "plt.show()\n",
    "\n",
    "# 분류 보고서 출력\n",
    "print(\"\\nClassification Report:\")\n",
    "print(classification_report(y_true, y_pred, target_names=class_names))\n"
   ]
  },
  {
   "cell_type": "markdown",
   "metadata": {},
   "source": [
    "# 실내공간"
   ]
  },
  {
   "cell_type": "code",
   "execution_count": 17,
   "metadata": {},
   "outputs": [],
   "source": [
    "# 데이터셋 경로\n",
    "dataset_dir = \"/home/jangminoh_2/AI_Detector/data/자체 데이터셋 분류/실내공간\"\n",
    "fake_dir = \"/home/jangminoh_2/AI_Detector/data/자체 데이터셋 분류/실내공간/fake\"\n",
    "real_dir = \"/home/jangminoh_2/AI_Detector/data/자체 데이터셋 분류/실내공간/real\""
   ]
  },
  {
   "cell_type": "code",
   "execution_count": 18,
   "metadata": {},
   "outputs": [
    {
     "name": "stdout",
     "output_type": "stream",
     "text": [
      "Fake: 16, Real: 6\n"
     ]
    }
   ],
   "source": [
    "fake_count = len(os.listdir(fake_dir)) if os.path.exists(fake_dir) else 0\n",
    "real_count = len(os.listdir(real_dir)) if os.path.exists(real_dir) else 0\n",
    "\n",
    "print(f\"Fake: {fake_count}, Real: {real_count}\")"
   ]
  },
  {
   "cell_type": "code",
   "execution_count": 19,
   "metadata": {},
   "outputs": [
    {
     "name": "stdout",
     "output_type": "stream",
     "text": [
      "Found 21 images belonging to 2 classes.\n"
     ]
    },
    {
     "name": "stdout",
     "output_type": "stream",
     "text": [
      "\u001b[1m 4/21\u001b[0m \u001b[32m━━━\u001b[0m\u001b[37m━━━━━━━━━━━━━━━━━\u001b[0m \u001b[1m0s\u001b[0m 18ms/step"
     ]
    },
    {
     "name": "stderr",
     "output_type": "stream",
     "text": [
      "/home/jangminoh_2/miniconda3/envs/ml-ops/lib/python3.12/site-packages/keras/src/trainers/data_adapters/py_dataset_adapter.py:121: UserWarning: Your `PyDataset` class should call `super().__init__(**kwargs)` in its constructor. `**kwargs` can include `workers`, `use_multiprocessing`, `max_queue_size`. Do not pass these arguments to `fit()`, as they will be ignored.\n",
      "  self._warn_if_super_not_called()\n"
     ]
    },
    {
     "name": "stdout",
     "output_type": "stream",
     "text": [
      "\u001b[1m21/21\u001b[0m \u001b[32m━━━━━━━━━━━━━━━━━━━━\u001b[0m\u001b[37m\u001b[0m \u001b[1m0s\u001b[0m 19ms/step\n",
      "[[4.45649177e-02]\n",
      " [1.49876237e-01]\n",
      " [1.13558963e-01]\n",
      " [5.25118947e-01]\n",
      " [5.25118947e-01]\n",
      " [2.96619922e-01]\n",
      " [2.96619922e-01]\n",
      " [1.93718582e-01]\n",
      " [1.42837822e-01]\n",
      " [2.19244626e-04]\n",
      " [2.06597120e-04]\n",
      " [4.36638715e-04]\n",
      " [1.04438564e-04]\n",
      " [6.25865981e-02]\n",
      " [4.31542844e-02]\n",
      " [3.21864933e-02]\n",
      " [4.00450110e-01]\n",
      " [7.36150026e-01]\n",
      " [7.23581016e-01]\n",
      " [5.22228517e-03]\n",
      " [5.22228517e-03]]\n",
      "Model Accuracy: 0.7619\n"
     ]
    },
    {
     "data": {
      "image/png": "[encoded data removed]",
      "text/plain": [
       "<Figure size 600x500 with 2 Axes>"
      ]
     },
     "metadata": {},
     "output_type": "display_data"
    },
    {
     "name": "stdout",
     "output_type": "stream",
     "text": [
      "\n",
      "Classification Report:\n",
      "              precision    recall  f1-score   support\n",
      "\n",
      "        fake       0.82      0.88      0.85        16\n",
      "        real       0.50      0.40      0.44         5\n",
      "\n",
      "    accuracy                           0.76        21\n",
      "   macro avg       0.66      0.64      0.65        21\n",
      "weighted avg       0.75      0.76      0.75        21\n",
      "\n"
     ]
    }
   ],
   "source": [
    "# 이미지 크기 및 배치 사이즈 설정\n",
    "img_size = (528, 528)  # EfficientNetB6의 입력 크기에 맞게 변경 가능\n",
    "batch_size = 1\n",
    "\n",
    "# 데이터 로더 설정 (test용)\n",
    "datagen = ImageDataGenerator(\n",
    "    preprocessing_function=tf.keras.applications.efficientnet.preprocess_input\n",
    ")\n",
    "\n",
    "test_generator = datagen.flow_from_directory(\n",
    "    dataset_dir,\n",
    "    target_size=img_size,\n",
    "    batch_size=batch_size,\n",
    "    class_mode=\"binary\",  # 이진 분류 (fake vs real)\n",
    "    shuffle= False\n",
    ")\n",
    "\n",
    "# 실제 라벨 가져오기\n",
    "y_true = test_generator.classes  # 0: fake, 1: real\n",
    "#print(y_true)\n",
    "class_names = list(test_generator.class_indices.keys())\n",
    "#print(class_names) #['fake', 'real']\n",
    "#print(test_generator.class_indices)\n",
    "\n",
    "# 예측 수행\n",
    "y_pred_probs = model.predict(test_generator, steps=test_generator.samples)  # 확률값 출력\n",
    "print(y_pred_probs)\n",
    "y_pred = (y_pred_probs > 0.5).astype(int).flatten()  # 0.5 이상이면 1(real), 아니면 0(fake)\n",
    "\n",
    "# 정확도 출력\n",
    "accuracy = np.mean(y_pred == y_true)\n",
    "print(f\"Model Accuracy: {accuracy:.4f}\")\n",
    "\n",
    "# Confusion Matrix 생성\n",
    "cm = confusion_matrix(y_true, y_pred)\n",
    "\n",
    "# Confusion Matrix 시각화\n",
    "plt.figure(figsize=(6, 5))\n",
    "sns.heatmap(cm, annot=True, fmt=\"d\", cmap=\"Blues\", xticklabels=class_names, yticklabels=class_names)\n",
    "plt.xlabel(\"Predicted Label\")\n",
    "plt.ylabel(\"True Label\")\n",
    "plt.title(\"Confusion Matrix\")\n",
    "plt.show()\n",
    "\n",
    "# 분류 보고서 출력\n",
    "print(\"\\nClassification Report:\")\n",
    "print(classification_report(y_true, y_pred, target_names=class_names))\n"
   ]
  },
  {
   "cell_type": "markdown",
   "metadata": {},
   "source": [
    "# 음식"
   ]
  },
  {
   "cell_type": "code",
   "execution_count": 26,
   "metadata": {},
   "outputs": [
    {
     "name": "stdout",
     "output_type": "stream",
     "text": [
      "Fake: 76, Real: 28\n"
     ]
    }
   ],
   "source": [
    "import os\n",
    "\n",
    "dataset_dir = \"/home/jangminoh_2/AI_Detector/data/자체 데이터셋 분류/음식\"\n",
    "fake_dir = os.path.join(dataset_dir, \"fake\")\n",
    "real_dir = os.path.join(dataset_dir, \"real\")\n",
    "\n",
    "fake_count = len(os.listdir(fake_dir)) if os.path.exists(fake_dir) else 0\n",
    "real_count = len(os.listdir(real_dir)) if os.path.exists(real_dir) else 0\n",
    "\n",
    "print(f\"Fake: {fake_count}, Real: {real_count}\")\n"
   ]
  },
  {
   "cell_type": "code",
   "execution_count": 21,
   "metadata": {},
   "outputs": [],
   "source": [
    "import os\n",
    "import numpy as np\n",
    "import matplotlib.pyplot as plt\n",
    "import seaborn as sns\n",
    "from tensorflow.keras.models import load_model\n",
    "from tensorflow.keras.preprocessing.image import ImageDataGenerator\n",
    "from sklearn.metrics import confusion_matrix, classification_report\n",
    "\n",
    "# 데이터셋 경로\n",
    "dataset_dir = \"/home/jangminoh_2/AI_Detector/data/자체 데이터셋 분류/음식\"\n",
    "fake_dir = \"/home/jangminoh_2/AI_Detector/data/자체 데이터셋 분류/음식/fake\"\n",
    "real_dir = \"/home/jangminoh_2/AI_Detector/data/자체 데이터셋 분류/음식/real\""
   ]
  },
  {
   "cell_type": "code",
   "execution_count": 22,
   "metadata": {},
   "outputs": [
    {
     "name": "stdout",
     "output_type": "stream",
     "text": [
      "Fake: 76, Real: 28\n"
     ]
    }
   ],
   "source": [
    "fake_count = len(os.listdir(fake_dir)) if os.path.exists(fake_dir) else 0\n",
    "real_count = len(os.listdir(real_dir)) if os.path.exists(real_dir) else 0\n",
    "\n",
    "print(f\"Fake: {fake_count}, Real: {real_count}\")"
   ]
  },
  {
   "cell_type": "code",
   "execution_count": 24,
   "metadata": {},
   "outputs": [],
   "source": [
    "# 모델 로드\n",
    "from tensorflow.keras.models import load_model\n",
    "\n",
    "model = load_model(\"/home/jangminoh_2/AI_Detector/3/my_model.keras\")"
   ]
  },
  {
   "cell_type": "code",
   "execution_count": 25,
   "metadata": {},
   "outputs": [
    {
     "name": "stdout",
     "output_type": "stream",
     "text": [
      "Found 101 images belonging to 2 classes.\n"
     ]
    },
    {
     "name": "stderr",
     "output_type": "stream",
     "text": [
      "/home/jangminoh_2/miniconda3/envs/ml-ops/lib/python3.12/site-packages/keras/src/trainers/data_adapters/py_dataset_adapter.py:121: UserWarning: Your `PyDataset` class should call `super().__init__(**kwargs)` in its constructor. `**kwargs` can include `workers`, `use_multiprocessing`, `max_queue_size`. Do not pass these arguments to `fit()`, as they will be ignored.\n",
      "  self._warn_if_super_not_called()\n"
     ]
    },
    {
     "name": "stdout",
     "output_type": "stream",
     "text": [
      "\u001b[1m101/101\u001b[0m \u001b[32m━━━━━━━━━━━━━━━━━━━━\u001b[0m\u001b[37m\u001b[0m \u001b[1m12s\u001b[0m 20ms/step\n",
      "[[4.4928783e-01]\n",
      " [5.9139591e-01]\n",
      " [6.2519598e-01]\n",
      " [5.1493150e-01]\n",
      " [1.7961907e-01]\n",
      " [1.0925381e-01]\n",
      " [5.2853346e-02]\n",
      " [1.5250463e-03]\n",
      " [4.6051230e-02]\n",
      " [9.5115177e-04]\n",
      " [2.6301482e-01]\n",
      " [3.0625774e-02]\n",
      " [1.6172566e-01]\n",
      " [1.4591622e-01]\n",
      " [1.3481404e-01]\n",
      " [3.5559889e-02]\n",
      " [2.3532003e-02]\n",
      " [2.1686883e-01]\n",
      " [3.0295290e-02]\n",
      " [1.7704315e-01]\n",
      " [3.9527077e-02]\n",
      " [9.1965050e-03]\n",
      " [5.8545146e-02]\n",
      " [3.9527077e-02]\n",
      " [7.0362665e-02]\n",
      " [5.4195050e-02]\n",
      " [1.1603089e-01]\n",
      " [5.5054444e-01]\n",
      " [2.6204200e-02]\n",
      " [6.4271368e-02]\n",
      " [2.2963825e-01]\n",
      " [6.4852989e-01]\n",
      " [9.3069337e-03]\n",
      " [1.1773265e-01]\n",
      " [4.9464859e-02]\n",
      " [3.1893533e-02]\n",
      " [3.7816113e-01]\n",
      " [3.7816113e-01]\n",
      " [3.1345498e-02]\n",
      " [2.8669875e-02]\n",
      " [1.1115538e-01]\n",
      " [7.7453561e-02]\n",
      " [2.1021336e-01]\n",
      " [6.0560339e-04]\n",
      " [6.6305307e-04]\n",
      " [3.3223438e-01]\n",
      " [4.1079432e-02]\n",
      " [2.1266583e-02]\n",
      " [5.5660728e-02]\n",
      " [2.2574160e-02]\n",
      " [4.2404611e-02]\n",
      " [2.1328014e-01]\n",
      " [4.3008029e-01]\n",
      " [1.6103053e-01]\n",
      " [3.5415307e-01]\n",
      " [6.0094461e-02]\n",
      " [4.5959730e-02]\n",
      " [7.0352033e-02]\n",
      " [7.0352033e-02]\n",
      " [2.5398627e-01]\n",
      " [2.5398627e-01]\n",
      " [1.4325344e-02]\n",
      " [6.7790806e-02]\n",
      " [1.8632311e-01]\n",
      " [1.3734558e-01]\n",
      " [6.1001587e-01]\n",
      " [1.7676760e-01]\n",
      " [1.7036040e-01]\n",
      " [1.9455533e-01]\n",
      " [2.1428272e-01]\n",
      " [3.0527151e-01]\n",
      " [3.3967328e-01]\n",
      " [3.3457261e-01]\n",
      " [1.9361125e-01]\n",
      " [2.5059551e-01]\n",
      " [1.8344291e-01]\n",
      " [1.3943358e-01]\n",
      " [1.2714532e-01]\n",
      " [9.4744198e-02]\n",
      " [1.5289906e-01]\n",
      " [5.2444881e-01]\n",
      " [1.1878507e-01]\n",
      " [1.9202690e-01]\n",
      " [4.0044509e-02]\n",
      " [2.4366477e-01]\n",
      " [2.0237525e-01]\n",
      " [7.3070370e-02]\n",
      " [1.0152651e-01]\n",
      " [5.6977361e-02]\n",
      " [3.1706429e-01]\n",
      " [4.4242619e-03]\n",
      " [3.1723577e-01]\n",
      " [1.7821912e-01]\n",
      " [4.7621306e-02]\n",
      " [6.3915980e-01]\n",
      " [6.7319131e-01]\n",
      " [3.6918095e-01]\n",
      " [7.5994653e-01]\n",
      " [4.3957481e-01]\n",
      " [2.8099969e-01]\n",
      " [2.6433057e-01]]\n",
      "Model Accuracy: 0.7327\n"
     ]
    },
    {
     "data": {
      "image/png": "[encoded data removed]",
      "text/plain": [
       "<Figure size 600x500 with 2 Axes>"
      ]
     },
     "metadata": {},
     "output_type": "display_data"
    },
    {
     "name": "stdout",
     "output_type": "stream",
     "text": [
      "\n",
      "Classification Report:\n",
      "              precision    recall  f1-score   support\n",
      "\n",
      "        fake       0.77      0.92      0.84        76\n",
      "        real       0.40      0.16      0.23        25\n",
      "\n",
      "    accuracy                           0.73       101\n",
      "   macro avg       0.58      0.54      0.53       101\n",
      "weighted avg       0.68      0.73      0.69       101\n",
      "\n"
     ]
    }
   ],
   "source": [
    "# 이미지 크기 및 배치 사이즈 설정\n",
    "img_size = (528, 528)  # EfficientNetB6의 입력 크기에 맞게 변경 가능\n",
    "batch_size = 1\n",
    "\n",
    "# 데이터 로더 설정 (test용)\n",
    "datagen = ImageDataGenerator(\n",
    "    preprocessing_function=tf.keras.applications.efficientnet.preprocess_input\n",
    ")\n",
    "\n",
    "test_generator = datagen.flow_from_directory(\n",
    "    dataset_dir,\n",
    "    target_size=img_size,\n",
    "    batch_size=batch_size,\n",
    "    class_mode=\"binary\",  # 이진 분류 (fake vs real)\n",
    "    shuffle= False\n",
    ")\n",
    "\n",
    "# 실제 라벨 가져오기\n",
    "y_true = test_generator.classes  # 0: fake, 1: real\n",
    "#print(y_true)\n",
    "class_names = list(test_generator.class_indices.keys())\n",
    "#print(class_names) #['fake', 'real']\n",
    "#print(test_generator.class_indices)\n",
    "\n",
    "# 예측 수행\n",
    "y_pred_probs = model.predict(test_generator, steps=test_generator.samples)  # 확률값 출력\n",
    "print(y_pred_probs)\n",
    "y_pred = (y_pred_probs > 0.5).astype(int).flatten()  # 0.5 이상이면 1(real), 아니면 0(fake)\n",
    "\n",
    "# 정확도 출력\n",
    "accuracy = np.mean(y_pred == y_true)\n",
    "print(f\"Model Accuracy: {accuracy:.4f}\")\n",
    "\n",
    "# Confusion Matrix 생성\n",
    "cm = confusion_matrix(y_true, y_pred)\n",
    "\n",
    "# Confusion Matrix 시각화\n",
    "plt.figure(figsize=(6, 5))\n",
    "sns.heatmap(cm, annot=True, fmt=\"d\", cmap=\"Blues\", xticklabels=class_names, yticklabels=class_names)\n",
    "plt.xlabel(\"Predicted Label\")\n",
    "plt.ylabel(\"True Label\")\n",
    "plt.title(\"Confusion Matrix\")\n",
    "plt.show()\n",
    "\n",
    "# 분류 보고서 출력\n",
    "print(\"\\nClassification Report:\")\n",
    "print(classification_report(y_true, y_pred, target_names=class_names))\n"
   ]
  },
  {
   "cell_type": "markdown",
   "metadata": {},
   "source": [
    "# 인물"
   ]
  },
  {
   "cell_type": "code",
   "execution_count": 27,
   "metadata": {},
   "outputs": [
    {
     "name": "stdout",
     "output_type": "stream",
     "text": [
      "Fake: 6, Real: 4\n"
     ]
    }
   ],
   "source": [
    "import os\n",
    "\n",
    "dataset_dir = \"/home/jangminoh_2/AI_Detector/data/자체 데이터셋 분류/인물\"\n",
    "fake_dir = os.path.join(dataset_dir, \"fake\")\n",
    "real_dir = os.path.join(dataset_dir, \"real\")\n",
    "\n",
    "fake_count = len(os.listdir(fake_dir)) if os.path.exists(fake_dir) else 0\n",
    "real_count = len(os.listdir(real_dir)) if os.path.exists(real_dir) else 0\n",
    "\n",
    "print(f\"Fake: {fake_count}, Real: {real_count}\")\n"
   ]
  },
  {
   "cell_type": "code",
   "execution_count": 28,
   "metadata": {},
   "outputs": [],
   "source": [
    "import os\n",
    "import numpy as np\n",
    "import matplotlib.pyplot as plt\n",
    "import seaborn as sns\n",
    "from tensorflow.keras.models import load_model\n",
    "from tensorflow.keras.preprocessing.image import ImageDataGenerator\n",
    "from sklearn.metrics import confusion_matrix, classification_report\n",
    "\n",
    "# 데이터셋 경로\n",
    "dataset_dir = \"/home/jangminoh_2/AI_Detector/data/자체 데이터셋 분류/인물\"\n",
    "fake_dir = \"/home/jangminoh_2/AI_Detector/data/자체 데이터셋 분류/인물/fake\"\n",
    "real_dir = \"/home/jangminoh_2/AI_Detector/data/자체 데이터셋 분류/인물/real\""
   ]
  },
  {
   "cell_type": "code",
   "execution_count": 29,
   "metadata": {},
   "outputs": [
    {
     "name": "stdout",
     "output_type": "stream",
     "text": [
      "Fake: 6, Real: 4\n"
     ]
    }
   ],
   "source": [
    "fake_count = len(os.listdir(fake_dir)) if os.path.exists(fake_dir) else 0\n",
    "real_count = len(os.listdir(real_dir)) if os.path.exists(real_dir) else 0\n",
    "\n",
    "print(f\"Fake: {fake_count}, Real: {real_count}\")"
   ]
  },
  {
   "cell_type": "code",
   "execution_count": 30,
   "metadata": {},
   "outputs": [],
   "source": [
    "# 모델 로드\n",
    "from tensorflow.keras.models import load_model\n",
    "\n",
    "model = load_model(\"/home/jangminoh_2/AI_Detector/3/my_model.keras\")"
   ]
  },
  {
   "cell_type": "code",
   "execution_count": 31,
   "metadata": {},
   "outputs": [
    {
     "name": "stdout",
     "output_type": "stream",
     "text": [
      "Found 10 images belonging to 2 classes.\n"
     ]
    },
    {
     "name": "stderr",
     "output_type": "stream",
     "text": [
      "/home/jangminoh_2/miniconda3/envs/ml-ops/lib/python3.12/site-packages/keras/src/trainers/data_adapters/py_dataset_adapter.py:121: UserWarning: Your `PyDataset` class should call `super().__init__(**kwargs)` in its constructor. `**kwargs` can include `workers`, `use_multiprocessing`, `max_queue_size`. Do not pass these arguments to `fit()`, as they will be ignored.\n",
      "  self._warn_if_super_not_called()\n"
     ]
    },
    {
     "name": "stdout",
     "output_type": "stream",
     "text": [
      "\u001b[1m10/10\u001b[0m \u001b[32m━━━━━━━━━━━━━━━━━━━━\u001b[0m\u001b[37m\u001b[0m \u001b[1m10s\u001b[0m 20ms/step\n",
      "[[0.05790767]\n",
      " [0.84691805]\n",
      " [0.8986482 ]\n",
      " [0.9211959 ]\n",
      " [0.93965   ]\n",
      " [0.03244559]\n",
      " [0.9769339 ]\n",
      " [0.2138729 ]\n",
      " [0.18801387]\n",
      " [0.9538474 ]]\n",
      "Model Accuracy: 0.4000\n"
     ]
    },
    {
     "data": {
      "image/png": "[encoded data removed]",
      "text/plain": [
       "<Figure size 600x500 with 2 Axes>"
      ]
     },
     "metadata": {},
     "output_type": "display_data"
    },
    {
     "name": "stdout",
     "output_type": "stream",
     "text": [
      "\n",
      "Classification Report:\n",
      "              precision    recall  f1-score   support\n",
      "\n",
      "        fake       0.50      0.33      0.40         6\n",
      "        real       0.33      0.50      0.40         4\n",
      "\n",
      "    accuracy                           0.40        10\n",
      "   macro avg       0.42      0.42      0.40        10\n",
      "weighted avg       0.43      0.40      0.40        10\n",
      "\n"
     ]
    }
   ],
   "source": [
    "# 이미지 크기 및 배치 사이즈 설정\n",
    "img_size = (528, 528)  # EfficientNetB6의 입력 크기에 맞게 변경 가능\n",
    "batch_size = 1\n",
    "\n",
    "# 데이터 로더 설정 (test용)\n",
    "datagen = ImageDataGenerator(\n",
    "    preprocessing_function=tf.keras.applications.efficientnet.preprocess_input\n",
    ")\n",
    "\n",
    "test_generator = datagen.flow_from_directory(\n",
    "    dataset_dir,\n",
    "    target_size=img_size,\n",
    "    batch_size=batch_size,\n",
    "    class_mode=\"binary\",  # 이진 분류 (fake vs real)\n",
    "    shuffle= False\n",
    ")\n",
    "\n",
    "# 실제 라벨 가져오기\n",
    "y_true = test_generator.classes  # 0: fake, 1: real\n",
    "#print(y_true)\n",
    "class_names = list(test_generator.class_indices.keys())\n",
    "#print(class_names) #['fake', 'real']\n",
    "#print(test_generator.class_indices)\n",
    "\n",
    "# 예측 수행\n",
    "y_pred_probs = model.predict(test_generator, steps=test_generator.samples)  # 확률값 출력\n",
    "print(y_pred_probs)\n",
    "y_pred = (y_pred_probs > 0.5).astype(int).flatten()  # 0.5 이상이면 1(real), 아니면 0(fake)\n",
    "\n",
    "# 정확도 출력\n",
    "accuracy = np.mean(y_pred == y_true)\n",
    "print(f\"Model Accuracy: {accuracy:.4f}\")\n",
    "\n",
    "# Confusion Matrix 생성\n",
    "cm = confusion_matrix(y_true, y_pred)\n",
    "\n",
    "# Confusion Matrix 시각화\n",
    "plt.figure(figsize=(6, 5))\n",
    "sns.heatmap(cm, annot=True, fmt=\"d\", cmap=\"Blues\", xticklabels=class_names, yticklabels=class_names)\n",
    "plt.xlabel(\"Predicted Label\")\n",
    "plt.ylabel(\"True Label\")\n",
    "plt.title(\"Confusion Matrix\")\n",
    "plt.show()\n",
    "\n",
    "# 분류 보고서 출력\n",
    "print(\"\\nClassification Report:\")\n",
    "print(classification_report(y_true, y_pred, target_names=class_names))\n"
   ]
  },
  {
   "cell_type": "markdown",
   "metadata": {},
   "source": [
    "# 풍경"
   ]
  },
  {
   "cell_type": "code",
   "execution_count": 32,
   "metadata": {},
   "outputs": [
    {
     "name": "stdout",
     "output_type": "stream",
     "text": [
      "Fake: 90, Real: 42\n"
     ]
    }
   ],
   "source": [
    "import os\n",
    "\n",
    "dataset_dir = \"/home/jangminoh_2/AI_Detector/data/자체 데이터셋 분류/풍경(70)\"\n",
    "fake_dir = os.path.join(dataset_dir, \"fake\")\n",
    "real_dir = os.path.join(dataset_dir, \"real\")\n",
    "\n",
    "fake_count = len(os.listdir(fake_dir)) if os.path.exists(fake_dir) else 0\n",
    "real_count = len(os.listdir(real_dir)) if os.path.exists(real_dir) else 0\n",
    "\n",
    "print(f\"Fake: {fake_count}, Real: {real_count}\")\n"
   ]
  },
  {
   "cell_type": "code",
   "execution_count": 9,
   "metadata": {},
   "outputs": [],
   "source": [
    "import os\n",
    "import numpy as np\n",
    "import matplotlib.pyplot as plt\n",
    "import seaborn as sns\n",
    "from tensorflow.keras.models import load_model\n",
    "from tensorflow.keras.preprocessing.image import ImageDataGenerator\n",
    "from sklearn.metrics import confusion_matrix, classification_report\n",
    "# 데이터셋 경로\n",
    "dataset_dir = \"/home/jangminoh_2/AI_Detector/data/자체 데이터셋 분류/풍경(70)\"\n",
    "fake_dir = \"/home/jangminoh_2/AI_Detector/data/자체 데이터셋 분류/풍경(70)/fake\"\n",
    "real_dir = \"/home/jangminoh_2/AI_Detector/data/자체 데이터셋 분류/풍경(70)/real\""
   ]
  },
  {
   "cell_type": "code",
   "execution_count": 33,
   "metadata": {},
   "outputs": [
    {
     "name": "stdout",
     "output_type": "stream",
     "text": [
      "Fake: 90, Real: 42\n"
     ]
    }
   ],
   "source": [
    "fake_count = len(os.listdir(fake_dir)) if os.path.exists(fake_dir) else 0\n",
    "real_count = len(os.listdir(real_dir)) if os.path.exists(real_dir) else 0\n",
    "\n",
    "print(f\"Fake: {fake_count}, Real: {real_count}\")"
   ]
  },
  {
   "cell_type": "code",
   "execution_count": 34,
   "metadata": {},
   "outputs": [],
   "source": [
    "# 모델 로드\n",
    "from tensorflow.keras.models import load_model\n",
    "\n",
    "model = load_model(\"/home/jangminoh_2/AI_Detector/3/my_model.keras\")"
   ]
  },
  {
   "cell_type": "code",
   "execution_count": 35,
   "metadata": {},
   "outputs": [
    {
     "name": "stdout",
     "output_type": "stream",
     "text": [
      "Found 122 images belonging to 2 classes.\n"
     ]
    },
    {
     "name": "stderr",
     "output_type": "stream",
     "text": [
      "/home/jangminoh_2/miniconda3/envs/ml-ops/lib/python3.12/site-packages/keras/src/trainers/data_adapters/py_dataset_adapter.py:121: UserWarning: Your `PyDataset` class should call `super().__init__(**kwargs)` in its constructor. `**kwargs` can include `workers`, `use_multiprocessing`, `max_queue_size`. Do not pass these arguments to `fit()`, as they will be ignored.\n",
      "  self._warn_if_super_not_called()\n"
     ]
    },
    {
     "name": "stdout",
     "output_type": "stream",
     "text": [
      "\u001b[1m122/122\u001b[0m \u001b[32m━━━━━━━━━━━━━━━━━━━━\u001b[0m\u001b[37m\u001b[0m \u001b[1m12s\u001b[0m 18ms/step\n",
      "[[0.14052881]\n",
      " [0.8386706 ]\n",
      " [0.19803199]\n",
      " [0.42645925]\n",
      " [0.86892545]\n",
      " [0.26665494]\n",
      " [0.1492503 ]\n",
      " [0.9026742 ]\n",
      " [0.808254  ]\n",
      " [0.9676425 ]\n",
      " [0.41111755]\n",
      " [0.69850236]\n",
      " [0.7947111 ]\n",
      " [0.7400158 ]\n",
      " [0.83084095]\n",
      " [0.80873746]\n",
      " [0.96858764]\n",
      " [0.6569693 ]\n",
      " [0.8679257 ]\n",
      " [0.97333366]\n",
      " [0.7146714 ]\n",
      " [0.5627921 ]\n",
      " [0.12988645]\n",
      " [0.935108  ]\n",
      " [0.93391305]\n",
      " [0.8163633 ]\n",
      " [0.30149138]\n",
      " [0.80136716]\n",
      " [0.61903596]\n",
      " [0.7122535 ]\n",
      " [0.84982157]\n",
      " [0.3059315 ]\n",
      " [0.9646653 ]\n",
      " [0.00248966]\n",
      " [0.8563525 ]\n",
      " [0.3012574 ]\n",
      " [0.14031024]\n",
      " [0.5651302 ]\n",
      " [0.20994988]\n",
      " [0.00933128]\n",
      " [0.09471034]\n",
      " [0.03378855]\n",
      " [0.08117491]\n",
      " [0.16502646]\n",
      " [0.10066283]\n",
      " [0.10063308]\n",
      " [0.4412128 ]\n",
      " [0.6316744 ]\n",
      " [0.5669365 ]\n",
      " [0.2949048 ]\n",
      " [0.18881384]\n",
      " [0.02168618]\n",
      " [0.01725116]\n",
      " [0.04597682]\n",
      " [0.64261526]\n",
      " [0.1016432 ]\n",
      " [0.03613789]\n",
      " [0.19753774]\n",
      " [0.02829029]\n",
      " [0.64026165]\n",
      " [0.13783951]\n",
      " [0.26502448]\n",
      " [0.01448464]\n",
      " [0.10759628]\n",
      " [0.02424892]\n",
      " [0.16457982]\n",
      " [0.24024177]\n",
      " [0.5596078 ]\n",
      " [0.21567379]\n",
      " [0.22545284]\n",
      " [0.45736817]\n",
      " [0.30434275]\n",
      " [0.705769  ]\n",
      " [0.2244496 ]\n",
      " [0.512765  ]\n",
      " [0.5560157 ]\n",
      " [0.513192  ]\n",
      " [0.8057106 ]\n",
      " [0.8443661 ]\n",
      " [0.9516927 ]\n",
      " [0.7522983 ]\n",
      " [0.48461992]\n",
      " [0.8188549 ]\n",
      " [0.5067898 ]\n",
      " [0.5153947 ]\n",
      " [0.967671  ]\n",
      " [0.78515685]\n",
      " [0.5871385 ]\n",
      " [0.8864568 ]\n",
      " [0.8424624 ]\n",
      " [0.7395785 ]\n",
      " [0.585272  ]\n",
      " [0.8081896 ]\n",
      " [0.92135656]\n",
      " [0.92055255]\n",
      " [0.6354211 ]\n",
      " [0.75051177]\n",
      " [0.7873145 ]\n",
      " [0.8153569 ]\n",
      " [0.9717672 ]\n",
      " [0.718846  ]\n",
      " [0.8845872 ]\n",
      " [0.8329695 ]\n",
      " [0.9153428 ]\n",
      " [0.93420273]\n",
      " [0.3318654 ]\n",
      " [0.8637084 ]\n",
      " [0.8013239 ]\n",
      " [0.8597382 ]\n",
      " [0.97932863]\n",
      " [0.7485805 ]\n",
      " [0.95110345]\n",
      " [0.91802573]\n",
      " [0.79991066]\n",
      " [0.98646   ]\n",
      " [0.9305421 ]\n",
      " [0.39584905]\n",
      " [0.77830935]\n",
      " [0.89055055]\n",
      " [0.785759  ]\n",
      " [0.8625056 ]\n",
      " [0.9285564 ]]\n",
      "Model Accuracy: 0.6639\n"
     ]
    },
    {
     "data": {
      "image/png": "[encoded data removed]",
      "text/plain": [
       "<Figure size 600x500 with 2 Axes>"
      ]
     },
     "metadata": {},
     "output_type": "display_data"
    },
    {
     "name": "stdout",
     "output_type": "stream",
     "text": [
      "\n",
      "Classification Report:\n",
      "              precision    recall  f1-score   support\n",
      "\n",
      "        fake       0.93      0.53      0.67        80\n",
      "        real       0.51      0.93      0.66        42\n",
      "\n",
      "    accuracy                           0.66       122\n",
      "   macro avg       0.72      0.73      0.66       122\n",
      "weighted avg       0.79      0.66      0.67       122\n",
      "\n"
     ]
    }
   ],
   "source": [
    "# 이미지 크기 및 배치 사이즈 설정\n",
    "img_size = (528, 528)  # EfficientNetB6의 입력 크기에 맞게 변경 가능\n",
    "batch_size = 1\n",
    "\n",
    "# 데이터 로더 설정 (test용)\n",
    "datagen = ImageDataGenerator(\n",
    "    preprocessing_function=tf.keras.applications.efficientnet.preprocess_input\n",
    ")\n",
    "\n",
    "test_generator = datagen.flow_from_directory(\n",
    "    dataset_dir,\n",
    "    target_size=img_size,\n",
    "    batch_size=batch_size,\n",
    "    class_mode=\"binary\",  # 이진 분류 (fake vs real)\n",
    "    shuffle= False\n",
    ")\n",
    "\n",
    "# 실제 라벨 가져오기\n",
    "y_true = test_generator.classes  # 0: fake, 1: real\n",
    "#print(y_true)\n",
    "class_names = list(test_generator.class_indices.keys())\n",
    "#print(class_names) #['fake', 'real']\n",
    "#print(test_generator.class_indices)\n",
    "\n",
    "# 예측 수행\n",
    "y_pred_probs = model.predict(test_generator, steps=test_generator.samples)  # 확률값 출력\n",
    "print(y_pred_probs)\n",
    "y_pred = (y_pred_probs > 0.5).astype(int).flatten()  # 0.5 이상이면 1(real), 아니면 0(fake)\n",
    "\n",
    "# 정확도 출력\n",
    "accuracy = np.mean(y_pred == y_true)\n",
    "print(f\"Model Accuracy: {accuracy:.4f}\")\n",
    "\n",
    "# Confusion Matrix 생성\n",
    "cm = confusion_matrix(y_true, y_pred)\n",
    "\n",
    "# Confusion Matrix 시각화\n",
    "plt.figure(figsize=(6, 5))\n",
    "sns.heatmap(cm, annot=True, fmt=\"d\", cmap=\"Blues\", xticklabels=class_names, yticklabels=class_names)\n",
    "plt.xlabel(\"Predicted Label\")\n",
    "plt.ylabel(\"True Label\")\n",
    "plt.title(\"Confusion Matrix\")\n",
    "plt.show()\n",
    "\n",
    "# 분류 보고서 출력\n",
    "print(\"\\nClassification Report:\")\n",
    "print(classification_report(y_true, y_pred, target_names=class_names))\n"
   ]
  },
  {
   "cell_type": "markdown",
   "metadata": {},
   "source": [
    "# 풍경화"
   ]
  },
  {
   "cell_type": "code",
   "execution_count": 36,
   "metadata": {},
   "outputs": [
    {
     "name": "stdout",
     "output_type": "stream",
     "text": [
      "Fake: 111, Real: 0\n"
     ]
    }
   ],
   "source": [
    "import os\n",
    "\n",
    "dataset_dir = \"/home/jangminoh_2/AI_Detector/data/자체 데이터셋 분류/풍경화(111)\"\n",
    "fake_dir = os.path.join(dataset_dir, \"fake\")\n",
    "real_dir = os.path.join(dataset_dir, \"real\")\n",
    "\n",
    "fake_count = len(os.listdir(fake_dir)) if os.path.exists(fake_dir) else 0\n",
    "real_count = len(os.listdir(real_dir)) if os.path.exists(real_dir) else 0\n",
    "\n",
    "print(f\"Fake: {fake_count}, Real: {real_count}\")\n"
   ]
  },
  {
   "cell_type": "code",
   "execution_count": 37,
   "metadata": {},
   "outputs": [],
   "source": [
    "import os\n",
    "import numpy as np\n",
    "import matplotlib.pyplot as plt\n",
    "import seaborn as sns\n",
    "from tensorflow.keras.models import load_model\n",
    "from tensorflow.keras.preprocessing.image import ImageDataGenerator\n",
    "from sklearn.metrics import confusion_matrix, classification_report\n",
    "\n",
    "# 데이터셋 경로\n",
    "dataset_dir = \"/home/jangminoh_2/AI_Detector/data/자체 데이터셋 분류/풍경화(111)\"\n",
    "fake_dir = \"/home/jangminoh_2/AI_Detector/data/자체 데이터셋 분류/풍경화(111)/fake\"\n",
    "real_dir = \"/home/jangminoh_2/AI_Detector/data/자체 데이터셋 분류/풍경화(111)/real\""
   ]
  },
  {
   "cell_type": "code",
   "execution_count": 38,
   "metadata": {},
   "outputs": [
    {
     "name": "stdout",
     "output_type": "stream",
     "text": [
      "Fake: 111, Real: 0\n"
     ]
    }
   ],
   "source": [
    "fake_count = len(os.listdir(fake_dir)) if os.path.exists(fake_dir) else 0\n",
    "real_count = len(os.listdir(real_dir)) if os.path.exists(real_dir) else 0\n",
    "\n",
    "print(f\"Fake: {fake_count}, Real: {real_count}\")"
   ]
  },
  {
   "cell_type": "code",
   "execution_count": 40,
   "metadata": {},
   "outputs": [],
   "source": [
    "# 모델 로드\n",
    "from tensorflow.keras.models import load_model\n",
    "\n",
    "model = load_model(\"/home/jangminoh_2/AI_Detector/3/my_model.keras\")"
   ]
  },
  {
   "cell_type": "code",
   "execution_count": 41,
   "metadata": {},
   "outputs": [
    {
     "name": "stdout",
     "output_type": "stream",
     "text": [
      "Found 92 images belonging to 2 classes.\n"
     ]
    },
    {
     "name": "stderr",
     "output_type": "stream",
     "text": [
      "/home/jangminoh_2/miniconda3/envs/ml-ops/lib/python3.12/site-packages/keras/src/trainers/data_adapters/py_dataset_adapter.py:121: UserWarning: Your `PyDataset` class should call `super().__init__(**kwargs)` in its constructor. `**kwargs` can include `workers`, `use_multiprocessing`, `max_queue_size`. Do not pass these arguments to `fit()`, as they will be ignored.\n",
      "  self._warn_if_super_not_called()\n"
     ]
    },
    {
     "name": "stdout",
     "output_type": "stream",
     "text": [
      "\u001b[1m92/92\u001b[0m \u001b[32m━━━━━━━━━━━━━━━━━━━━\u001b[0m\u001b[37m\u001b[0m \u001b[1m12s\u001b[0m 19ms/step\n",
      "[[0.0272081 ]\n",
      " [0.36922777]\n",
      " [0.02102146]\n",
      " [0.650875  ]\n",
      " [0.11439946]\n",
      " [0.41949216]\n",
      " [0.30771512]\n",
      " [0.41709152]\n",
      " [0.02535986]\n",
      " [0.10556185]\n",
      " [0.04752468]\n",
      " [0.04076263]\n",
      " [0.74020964]\n",
      " [0.02064686]\n",
      " [0.52682394]\n",
      " [0.03161431]\n",
      " [0.28884035]\n",
      " [0.04418907]\n",
      " [0.4996424 ]\n",
      " [0.06076394]\n",
      " [0.05320615]\n",
      " [0.06380723]\n",
      " [0.296295  ]\n",
      " [0.18207482]\n",
      " [0.3928727 ]\n",
      " [0.43317136]\n",
      " [0.23917225]\n",
      " [0.02387947]\n",
      " [0.05789607]\n",
      " [0.54119325]\n",
      " [0.00830407]\n",
      " [0.22086371]\n",
      " [0.8093245 ]\n",
      " [0.12290834]\n",
      " [0.13745977]\n",
      " [0.22937894]\n",
      " [0.36298367]\n",
      " [0.6742821 ]\n",
      " [0.420887  ]\n",
      " [0.7847959 ]\n",
      " [0.07551434]\n",
      " [0.7283428 ]\n",
      " [0.04644058]\n",
      " [0.73054373]\n",
      " [0.09591634]\n",
      " [0.32954225]\n",
      " [0.01186997]\n",
      " [0.2452351 ]\n",
      " [0.5545151 ]\n",
      " [0.81475365]\n",
      " [0.55993223]\n",
      " [0.41754594]\n",
      " [0.5802381 ]\n",
      " [0.8057203 ]\n",
      " [0.05747326]\n",
      " [0.24455805]\n",
      " [0.20149222]\n",
      " [0.28167653]\n",
      " [0.28642413]\n",
      " [0.52251315]\n",
      " [0.9251755 ]\n",
      " [0.3585117 ]\n",
      " [0.5124089 ]\n",
      " [0.06452191]\n",
      " [0.10435513]\n",
      " [0.026746  ]\n",
      " [0.09683064]\n",
      " [0.35712868]\n",
      " [0.7225001 ]\n",
      " [0.22754414]\n",
      " [0.01222758]\n",
      " [0.59871006]\n",
      " [0.32084897]\n",
      " [0.1977819 ]\n",
      " [0.0230019 ]\n",
      " [0.04156843]\n",
      " [0.03472362]\n",
      " [0.0224263 ]\n",
      " [0.2310368 ]\n",
      " [0.27835834]\n",
      " [0.26629084]\n",
      " [0.76753587]\n",
      " [0.5188195 ]\n",
      " [0.40188438]\n",
      " [0.0924325 ]\n",
      " [0.8203971 ]\n",
      " [0.21325783]\n",
      " [0.2875724 ]\n",
      " [0.14660466]\n",
      " [0.09690222]\n",
      " [0.6614387 ]\n",
      " [0.5201075 ]]\n",
      "Model Accuracy: 0.7391\n"
     ]
    },
    {
     "data": {
      "image/png": "[encoded data removed]",
      "text/plain": [
       "<Figure size 600x500 with 2 Axes>"
      ]
     },
     "metadata": {},
     "output_type": "display_data"
    },
    {
     "name": "stdout",
     "output_type": "stream",
     "text": [
      "\n",
      "Classification Report:\n",
      "              precision    recall  f1-score   support\n",
      "\n",
      "        fake       1.00      0.74      0.85        92\n",
      "        real       0.00      0.00      0.00         0\n",
      "\n",
      "    accuracy                           0.74        92\n",
      "   macro avg       0.50      0.37      0.42        92\n",
      "weighted avg       1.00      0.74      0.85        92\n",
      "\n"
     ]
    },
    {
     "name": "stderr",
     "output_type": "stream",
     "text": [
      "/home/jangminoh_2/miniconda3/envs/ml-ops/lib/python3.12/site-packages/sklearn/metrics/_classification.py:1565: UndefinedMetricWarning: Recall is ill-defined and being set to 0.0 in labels with no true samples. Use `zero_division` parameter to control this behavior.\n",
      "  _warn_prf(average, modifier, f\"{metric.capitalize()} is\", len(result))\n",
      "/home/jangminoh_2/miniconda3/envs/ml-ops/lib/python3.12/site-packages/sklearn/metrics/_classification.py:1565: UndefinedMetricWarning: Recall is ill-defined and being set to 0.0 in labels with no true samples. Use `zero_division` parameter to control this behavior.\n",
      "  _warn_prf(average, modifier, f\"{metric.capitalize()} is\", len(result))\n",
      "/home/jangminoh_2/miniconda3/envs/ml-ops/lib/python3.12/site-packages/sklearn/metrics/_classification.py:1565: UndefinedMetricWarning: Recall is ill-defined and being set to 0.0 in labels with no true samples. Use `zero_division` parameter to control this behavior.\n",
      "  _warn_prf(average, modifier, f\"{metric.capitalize()} is\", len(result))\n"
     ]
    }
   ],
   "source": [
    "# 이미지 크기 및 배치 사이즈 설정\n",
    "img_size = (528, 528)  # EfficientNetB6의 입력 크기에 맞게 변경 가능\n",
    "batch_size = 1\n",
    "\n",
    "# 데이터 로더 설정 (test용)\n",
    "datagen = ImageDataGenerator(\n",
    "    preprocessing_function=tf.keras.applications.efficientnet.preprocess_input\n",
    ")\n",
    "\n",
    "test_generator = datagen.flow_from_directory(\n",
    "    dataset_dir,\n",
    "    target_size=img_size,\n",
    "    batch_size=batch_size,\n",
    "    class_mode=\"binary\",  # 이진 분류 (fake vs real)\n",
    "    shuffle= False\n",
    ")\n",
    "\n",
    "# 실제 라벨 가져오기\n",
    "y_true = test_generator.classes  # 0: fake, 1: real\n",
    "#print(y_true)\n",
    "class_names = list(test_generator.class_indices.keys())\n",
    "#print(class_names) #['fake', 'real']\n",
    "#print(test_generator.class_indices)\n",
    "\n",
    "# 예측 수행\n",
    "y_pred_probs = model.predict(test_generator, steps=test_generator.samples)  # 확률값 출력\n",
    "print(y_pred_probs)\n",
    "y_pred = (y_pred_probs > 0.5).astype(int).flatten()  # 0.5 이상이면 1(real), 아니면 0(fake)\n",
    "\n",
    "# 정확도 출력\n",
    "accuracy = np.mean(y_pred == y_true)\n",
    "print(f\"Model Accuracy: {accuracy:.4f}\")\n",
    "\n",
    "# Confusion Matrix 생성\n",
    "cm = confusion_matrix(y_true, y_pred)\n",
    "\n",
    "# Confusion Matrix 시각화\n",
    "plt.figure(figsize=(6, 5))\n",
    "sns.heatmap(cm, annot=True, fmt=\"d\", cmap=\"Blues\", xticklabels=class_names, yticklabels=class_names)\n",
    "plt.xlabel(\"Predicted Label\")\n",
    "plt.ylabel(\"True Label\")\n",
    "plt.title(\"Confusion Matrix\")\n",
    "plt.show()\n",
    "\n",
    "# 분류 보고서 출력\n",
    "print(\"\\nClassification Report:\")\n",
    "print(classification_report(y_true, y_pred, target_names=class_names))\n"
   ]
  },
  {
   "cell_type": "markdown",
   "metadata": {},
   "source": [
    "# 흑백사진"
   ]
  },
  {
   "cell_type": "code",
   "execution_count": 42,
   "metadata": {},
   "outputs": [
    {
     "name": "stdout",
     "output_type": "stream",
     "text": [
      "Fake: 11, Real: 3\n"
     ]
    }
   ],
   "source": [
    "import os\n",
    "\n",
    "dataset_dir = \"/home/jangminoh_2/AI_Detector/data/자체 데이터셋 분류/흑백사진\"\n",
    "fake_dir = os.path.join(dataset_dir, \"fake\")\n",
    "real_dir = os.path.join(dataset_dir, \"real\")\n",
    "\n",
    "fake_count = len(os.listdir(fake_dir)) if os.path.exists(fake_dir) else 0\n",
    "real_count = len(os.listdir(real_dir)) if os.path.exists(real_dir) else 0\n",
    "\n",
    "print(f\"Fake: {fake_count}, Real: {real_count}\")\n"
   ]
  },
  {
   "cell_type": "code",
   "execution_count": 43,
   "metadata": {},
   "outputs": [],
   "source": [
    "import os\n",
    "import numpy as np\n",
    "import matplotlib.pyplot as plt\n",
    "import seaborn as sns\n",
    "from tensorflow.keras.models import load_model\n",
    "from tensorflow.keras.preprocessing.image import ImageDataGenerator\n",
    "from sklearn.metrics import confusion_matrix, classification_report\n",
    "\n",
    "# 데이터셋 경로\n",
    "dataset_dir = \"/home/jangminoh_2/AI_Detector/data/자체 데이터셋 분류/흑백사진\"\n",
    "fake_dir = \"/home/jangminoh_2/AI_Detector/data/자체 데이터셋 분류/흑백사진/fake\"\n",
    "real_dir = \"/home/jangminoh_2/AI_Detector/data/자체 데이터셋 분류/흑백사진/real\""
   ]
  },
  {
   "cell_type": "code",
   "execution_count": 44,
   "metadata": {},
   "outputs": [
    {
     "name": "stdout",
     "output_type": "stream",
     "text": [
      "Fake: 11, Real: 3\n"
     ]
    }
   ],
   "source": [
    "fake_count = len(os.listdir(fake_dir)) if os.path.exists(fake_dir) else 0\n",
    "real_count = len(os.listdir(real_dir)) if os.path.exists(real_dir) else 0\n",
    "\n",
    "print(f\"Fake: {fake_count}, Real: {real_count}\")"
   ]
  },
  {
   "cell_type": "code",
   "execution_count": 45,
   "metadata": {},
   "outputs": [],
   "source": [
    "\n",
    "# 모델 로드\n",
    "from tensorflow.keras.models import load_model\n",
    "\n",
    "model = load_model(\"/home/jangminoh_2/AI_Detector/3/my_model.keras\")"
   ]
  },
  {
   "cell_type": "code",
   "execution_count": 46,
   "metadata": {},
   "outputs": [
    {
     "name": "stdout",
     "output_type": "stream",
     "text": [
      "Found 14 images belonging to 2 classes.\n"
     ]
    },
    {
     "name": "stderr",
     "output_type": "stream",
     "text": [
      "/home/jangminoh_2/miniconda3/envs/ml-ops/lib/python3.12/site-packages/keras/src/trainers/data_adapters/py_dataset_adapter.py:121: UserWarning: Your `PyDataset` class should call `super().__init__(**kwargs)` in its constructor. `**kwargs` can include `workers`, `use_multiprocessing`, `max_queue_size`. Do not pass these arguments to `fit()`, as they will be ignored.\n",
      "  self._warn_if_super_not_called()\n"
     ]
    },
    {
     "name": "stdout",
     "output_type": "stream",
     "text": [
      "\u001b[1m14/14\u001b[0m \u001b[32m━━━━━━━━━━━━━━━━━━━━\u001b[0m\u001b[37m\u001b[0m \u001b[1m11s\u001b[0m 23ms/step\n",
      "[[0.13786808]\n",
      " [0.0434328 ]\n",
      " [0.02737618]\n",
      " [0.01243809]\n",
      " [0.02282736]\n",
      " [0.00862113]\n",
      " [0.07477557]\n",
      " [0.0876234 ]\n",
      " [0.11998044]\n",
      " [0.08772662]\n",
      " [0.06521602]\n",
      " [0.26215705]\n",
      " [0.18009502]\n",
      " [0.8882809 ]]\n",
      "Model Accuracy: 0.8571\n"
     ]
    },
    {
     "data": {
      "image/png": "[encoded data removed]",
      "text/plain": [
       "<Figure size 600x500 with 2 Axes>"
      ]
     },
     "metadata": {},
     "output_type": "display_data"
    },
    {
     "name": "stdout",
     "output_type": "stream",
     "text": [
      "\n",
      "Classification Report:\n",
      "              precision    recall  f1-score   support\n",
      "\n",
      "        fake       0.85      1.00      0.92        11\n",
      "        real       1.00      0.33      0.50         3\n",
      "\n",
      "    accuracy                           0.86        14\n",
      "   macro avg       0.92      0.67      0.71        14\n",
      "weighted avg       0.88      0.86      0.83        14\n",
      "\n"
     ]
    }
   ],
   "source": [
    "# 이미지 크기 및 배치 사이즈 설정\n",
    "img_size = (528, 528)  # EfficientNetB6의 입력 크기에 맞게 변경 가능\n",
    "batch_size = 1\n",
    "\n",
    "# 데이터 로더 설정 (test용)\n",
    "datagen = ImageDataGenerator(\n",
    "    preprocessing_function=tf.keras.applications.efficientnet.preprocess_input\n",
    ")\n",
    "\n",
    "test_generator = datagen.flow_from_directory(\n",
    "    dataset_dir,\n",
    "    target_size=img_size,\n",
    "    batch_size=batch_size,\n",
    "    class_mode=\"binary\",  # 이진 분류 (fake vs real)\n",
    "    shuffle= False\n",
    ")\n",
    "\n",
    "# 실제 라벨 가져오기\n",
    "y_true = test_generator.classes  # 0: fake, 1: real\n",
    "#print(y_true)\n",
    "class_names = list(test_generator.class_indices.keys())\n",
    "#print(class_names) #['fake', 'real']\n",
    "#print(test_generator.class_indices)\n",
    "\n",
    "# 예측 수행\n",
    "y_pred_probs = model.predict(test_generator, steps=test_generator.samples)  # 확률값 출력\n",
    "print(y_pred_probs)\n",
    "y_pred = (y_pred_probs > 0.5).astype(int).flatten()  # 0.5 이상이면 1(real), 아니면 0(fake)\n",
    "\n",
    "# 정확도 출력\n",
    "accuracy = np.mean(y_pred == y_true)\n",
    "print(f\"Model Accuracy: {accuracy:.4f}\")\n",
    "\n",
    "# Confusion Matrix 생성\n",
    "cm = confusion_matrix(y_true, y_pred)\n",
    "\n",
    "# Confusion Matrix 시각화\n",
    "plt.figure(figsize=(6, 5))\n",
    "sns.heatmap(cm, annot=True, fmt=\"d\", cmap=\"Blues\", xticklabels=class_names, yticklabels=class_names)\n",
    "plt.xlabel(\"Predicted Label\")\n",
    "plt.ylabel(\"True Label\")\n",
    "plt.title(\"Confusion Matrix\")\n",
    "plt.show()\n",
    "\n",
    "# 분류 보고서 출력\n",
    "print(\"\\nClassification Report:\")\n",
    "print(classification_report(y_true, y_pred, target_names=class_names))\n"
   ]
  },
  {
   "cell_type": "markdown",
   "metadata": {},
   "source": []
  }
 ],
 "metadata": {
  "kernelspec": {
   "display_name": "ml-ops",
   "language": "python",
   "name": "python3"
  },
  "language_info": {
   "codemirror_mode": {
    "name": "ipython",
    "version": 3
   },
   "file_extension": ".py",
   "mimetype": "text/x-python",
   "name": "python",
   "nbconvert_exporter": "python",
   "pygments_lexer": "ipython3",
   "version": "3.12.9"
  }
 },
 "nbformat": 4,
 "nbformat_minor": 2
}
