{
 "cells": [
  {
   "cell_type": "markdown",
   "metadata": {},
   "source": [
    "# 데이터 전처리"
   ]
  },
  {
   "cell_type": "code",
   "execution_count": 1,
   "metadata": {},
   "outputs": [],
   "source": [
    "# import os\n",
    "# import unicodedata\n",
    "# from PIL import Image\n",
    "\n",
    "# # 이미지 경로 설정\n",
    "# dataset_dir = \"/home/jangminoh_2/AI_Detector/data/GeneratedModel 분류/DALLE\"\n",
    "# fake_dir = os.path.join(dataset_dir, \"fake\")\n",
    "\n",
    "# # 파일명 정리 + 변환 함수\n",
    "# def clean_and_convert_images(directory):\n",
    "#     for filename in os.listdir(directory):\n",
    "#         # 유니코드 정규화 (한글 깨짐 방지)\n",
    "#         normalized_filename = unicodedata.normalize(\"NFC\", filename)\n",
    "#         new_filename = normalized_filename  # 기본 파일명 설정\n",
    "\n",
    "#         # \"의 사본\" 삭제\n",
    "#         if \"의 사본\" in new_filename:\n",
    "#             new_filename = new_filename.replace(\"의 사본\", \"\").strip()\n",
    "\n",
    "#         # 중복 확장자 제거 (예: .webp.webp → .webp)\n",
    "#         root, ext = os.path.splitext(new_filename)\n",
    "#         if root.endswith(ext):\n",
    "#             new_filename = root\n",
    "\n",
    "#         old_path = os.path.join(directory, filename)\n",
    "#         new_path = os.path.join(directory, new_filename)\n",
    "\n",
    "#         # 파일명이 변경되었을 경우만 수정\n",
    "#         if filename != new_filename:\n",
    "#             os.rename(old_path, new_path)\n",
    "#             print(f\"Renamed: {filename} -> {new_filename}\")\n",
    "#             old_path = new_path  # 변경된 파일명을 기반으로 다시 설정\n",
    "\n",
    "#         # 확장자가 .webp인 경우 .png로 변환\n",
    "#         if new_filename.endswith(\".webp\"):\n",
    "#             png_filename = new_filename.replace(\".webp\", \".png\")\n",
    "#             png_path = os.path.join(directory, png_filename)\n",
    "\n",
    "#             with Image.open(old_path) as img:\n",
    "#                 img.save(png_path, \"PNG\")  # PNG로 저장\n",
    "\n",
    "#             os.remove(old_path)  # 원본 .webp 파일 삭제\n",
    "#             print(f\"Converted: {new_filename} -> {png_filename}\")\n",
    "\n",
    "# # fake 디렉토리에서만 실행\n",
    "# clean_and_convert_images(fake_dir)\n",
    "\n",
    "# print(\"📂 fake 디렉토리 파일 정리 및 변환 완료! ✅\")\n"
   ]
  },
  {
   "cell_type": "markdown",
   "metadata": {},
   "source": [
    "# GPU 할당"
   ]
  },
  {
   "cell_type": "code",
   "execution_count": 1,
   "metadata": {},
   "outputs": [
    {
     "name": "stderr",
     "output_type": "stream",
     "text": [
      "2025-03-13 20:12:47.162408: E external/local_xla/xla/stream_executor/cuda/cuda_fft.cc:485] Unable to register cuFFT factory: Attempting to register factory for plugin cuFFT when one has already been registered\n",
      "2025-03-13 20:12:47.178028: E external/local_xla/xla/stream_executor/cuda/cuda_dnn.cc:8454] Unable to register cuDNN factory: Attempting to register factory for plugin cuDNN when one has already been registered\n",
      "2025-03-13 20:12:47.182746: E external/local_xla/xla/stream_executor/cuda/cuda_blas.cc:1452] Unable to register cuBLAS factory: Attempting to register factory for plugin cuBLAS when one has already been registered\n",
      "2025-03-13 20:12:47.197999: I tensorflow/core/platform/cpu_feature_guard.cc:210] This TensorFlow binary is optimized to use available CPU instructions in performance-critical operations.\n",
      "To enable the following instructions: AVX2 FMA, in other operations, rebuild TensorFlow with the appropriate compiler flags.\n",
      "2025-03-13 20:12:48.004592: W tensorflow/compiler/tf2tensorrt/utils/py_utils.cc:38] TF-TRT Warning: Could not find TensorRT\n"
     ]
    },
    {
     "name": "stdout",
     "output_type": "stream",
     "text": [
      "[LogicalDevice(name='/device:GPU:0', device_type='GPU')]\n"
     ]
    },
    {
     "name": "stderr",
     "output_type": "stream",
     "text": [
      "2025-03-13 20:12:49.484558: I tensorflow/core/common_runtime/gpu/gpu_device.cc:2021] Created device /job:localhost/replica:0/task:0/device:GPU:0 with 17169 MB memory:  -> device: 0, name: NVIDIA RTX A5000, pci bus id: 0000:01:00.0, compute capability: 8.6\n"
     ]
    }
   ],
   "source": [
    "import tensorflow as tf\n",
    "\n",
    "# GPU 0만 사용\n",
    "gpus = tf.config.experimental.list_physical_devices('GPU')\n",
    "if gpus:\n",
    "    try:\n",
    "        tf.config.experimental.set_visible_devices(gpus[0], 'GPU')  # GPU 0만 사용\n",
    "        tf.config.experimental.set_memory_growth(gpus[0], True)  # 메모리 동적 할당\n",
    "    except RuntimeError as e:\n",
    "        print(e)\n",
    "\n",
    "# TensorFlow에서 사용할 장치 확인\n",
    "print(tf.config.experimental.list_logical_devices('GPU'))\n"
   ]
  },
  {
   "cell_type": "markdown",
   "metadata": {},
   "source": [
    "# 필요한 라이브러리 로드"
   ]
  },
  {
   "cell_type": "code",
   "execution_count": 2,
   "metadata": {},
   "outputs": [],
   "source": [
    "import os\n",
    "import numpy as np\n",
    "import matplotlib.pyplot as plt\n",
    "import seaborn as sns\n",
    "from tensorflow.keras.models import load_model\n",
    "from tensorflow.keras.preprocessing.image import ImageDataGenerator\n",
    "from sklearn.metrics import confusion_matrix, classification_report"
   ]
  },
  {
   "cell_type": "markdown",
   "metadata": {},
   "source": [
    "# 모델 로드"
   ]
  },
  {
   "cell_type": "code",
   "execution_count": null,
   "metadata": {},
   "outputs": [
    {
     "name": "stderr",
     "output_type": "stream",
     "text": [
      "WARNING:absl:Compiled the loaded model, but the compiled metrics have yet to be built. `model.compile_metrics` will be empty until you train or evaluate the model.\n"
     ]
    }
   ],
   "source": [
    "## 모델 로드\n",
    "# model_path = \"/home/jangminoh_2/AI_Detector/model/model_v3.h5\"\n",
    "# model = load_model(model_path)"
   ]
  },
  {
   "cell_type": "code",
   "execution_count": 3,
   "metadata": {},
   "outputs": [],
   "source": [
    "# 모델 로드\n",
    "from tensorflow.keras.models import load_model\n",
    "\n",
    "model = load_model(\"/home/jangminoh_2/AI_Detector/3/my_model.keras\")"
   ]
  },
  {
   "cell_type": "markdown",
   "metadata": {},
   "source": [
    "# DALLE"
   ]
  },
  {
   "cell_type": "code",
   "execution_count": 4,
   "metadata": {},
   "outputs": [],
   "source": [
    "# 데이터셋 경로\n",
    "dataset_dir = \"/home/jangminoh_2/AI_Detector/data/GeneratedModel 분류/DALLE\"\n",
    "fake_dir = \"/home/jangminoh_2/AI_Detector/data/GeneratedModel 분류/DALLE/fake\"\n",
    "real_dir = \"/home/jangminoh_2/AI_Detector/data/GeneratedModel 분류/DALLE/real\""
   ]
  },
  {
   "cell_type": "code",
   "execution_count": 5,
   "metadata": {},
   "outputs": [
    {
     "name": "stdout",
     "output_type": "stream",
     "text": [
      "Found 60 images belonging to 2 classes.\n"
     ]
    },
    {
     "name": "stderr",
     "output_type": "stream",
     "text": [
      "/home/jangminoh_2/miniconda3/envs/ml-ops/lib/python3.12/site-packages/keras/src/trainers/data_adapters/py_dataset_adapter.py:121: UserWarning: Your `PyDataset` class should call `super().__init__(**kwargs)` in its constructor. `**kwargs` can include `workers`, `use_multiprocessing`, `max_queue_size`. Do not pass these arguments to `fit()`, as they will be ignored.\n",
      "  self._warn_if_super_not_called()\n",
      "WARNING: All log messages before absl::InitializeLog() is called are written to STDERR\n",
      "I0000 00:00:1741864404.616357  567943 service.cc:146] XLA service 0x72eddc0ba010 initialized for platform CUDA (this does not guarantee that XLA will be used). Devices:\n",
      "I0000 00:00:1741864404.616433  567943 service.cc:154]   StreamExecutor device (0): NVIDIA RTX A5000, Compute Capability 8.6\n",
      "2025-03-13 20:13:24.854978: I tensorflow/compiler/mlir/tensorflow/utils/dump_mlir_util.cc:268] disabling MLIR crash reproducer, set env var `MLIR_CRASH_REPRODUCER_DIRECTORY` to enable.\n",
      "2025-03-13 20:13:25.922450: I external/local_xla/xla/stream_executor/cuda/cuda_dnn.cc:531] Loaded cuDNN version 8907\n",
      "2025-03-13 20:13:26.861672: I external/local_xla/xla/stream_executor/cuda/cuda_asm_compiler.cc:393] ptxas warning : Registers are spilled to local memory in function 'gemm_fusion_dot_2', 36 bytes spill stores, 36 bytes spill loads\n",
      "\n"
     ]
    },
    {
     "name": "stdout",
     "output_type": "stream",
     "text": [
      "\u001b[1m 5/60\u001b[0m \u001b[32m━\u001b[0m\u001b[37m━━━━━━━━━━━━━━━━━━━\u001b[0m \u001b[1m2s\u001b[0m 40ms/step "
     ]
    },
    {
     "name": "stderr",
     "output_type": "stream",
     "text": [
      "I0000 00:00:1741864415.114658  567943 device_compiler.h:188] Compiled cluster using XLA!  This line is logged at most once for the lifetime of the process.\n"
     ]
    },
    {
     "name": "stdout",
     "output_type": "stream",
     "text": [
      "\u001b[1m60/60\u001b[0m \u001b[32m━━━━━━━━━━━━━━━━━━━━\u001b[0m\u001b[37m\u001b[0m \u001b[1m16s\u001b[0m 34ms/step\n",
      "[[1.0189080e-01]\n",
      " [5.4582603e-02]\n",
      " [5.4023112e-03]\n",
      " [1.4653587e-01]\n",
      " [1.8865551e-01]\n",
      " [6.1463460e-02]\n",
      " [3.2030800e-01]\n",
      " [1.7594743e-01]\n",
      " [3.0726624e-01]\n",
      " [4.4230378e-01]\n",
      " [2.7204353e-02]\n",
      " [8.0752268e-02]\n",
      " [5.1587060e-02]\n",
      " [3.3597615e-01]\n",
      " [1.6732933e-03]\n",
      " [2.5326020e-01]\n",
      " [2.2142924e-01]\n",
      " [1.4656289e-01]\n",
      " [4.1506162e-01]\n",
      " [6.0581481e-01]\n",
      " [7.1546471e-01]\n",
      " [8.7074272e-04]\n",
      " [1.8766600e-01]\n",
      " [1.7681811e-02]\n",
      " [1.0522055e-01]\n",
      " [5.7993587e-02]\n",
      " [5.3372569e-02]\n",
      " [3.8212547e-01]\n",
      " [5.8555700e-02]\n",
      " [1.1324123e-01]\n",
      " [1.7961907e-01]\n",
      " [1.0925551e-01]\n",
      " [6.8929931e-03]\n",
      " [4.6853656e-01]\n",
      " [3.6052826e-01]\n",
      " [2.4710007e-03]\n",
      " [7.4274063e-02]\n",
      " [4.9540116e-03]\n",
      " [2.5952581e-01]\n",
      " [4.4564918e-02]\n",
      " [5.7960100e-02]\n",
      " [5.2855778e-02]\n",
      " [6.2539870e-01]\n",
      " [4.8479150e-04]\n",
      " [4.3678343e-02]\n",
      " [7.9821446e-04]\n",
      " [8.2376674e-03]\n",
      " [1.2853561e-02]\n",
      " [2.1026189e-02]\n",
      " [1.3526208e-03]\n",
      " [1.5795514e-02]\n",
      " [1.8637750e-02]\n",
      " [1.5250463e-03]\n",
      " [5.6195998e-01]\n",
      " [4.6030771e-02]\n",
      " [9.4966398e-04]\n",
      " [2.6301482e-01]\n",
      " [3.0625774e-02]\n",
      " [1.6171362e-01]\n",
      " [1.4591622e-01]]\n",
      "Model Accuracy: 0.9333\n"
     ]
    },
    {
     "data": {
      "image/png": "[encoded data removed]",
      "text/plain": [
       "<Figure size 600x500 with 2 Axes>"
      ]
     },
     "metadata": {},
     "output_type": "display_data"
    },
    {
     "name": "stdout",
     "output_type": "stream",
     "text": [
      "\n",
      "Classification Report:\n",
      "              precision    recall  f1-score   support\n",
      "\n",
      "        fake       1.00      0.93      0.97        60\n",
      "        real       0.00      0.00      0.00         0\n",
      "\n",
      "    accuracy                           0.93        60\n",
      "   macro avg       0.50      0.47      0.48        60\n",
      "weighted avg       1.00      0.93      0.97        60\n",
      "\n"
     ]
    },
    {
     "name": "stderr",
     "output_type": "stream",
     "text": [
      "/home/jangminoh_2/miniconda3/envs/ml-ops/lib/python3.12/site-packages/sklearn/metrics/_classification.py:1565: UndefinedMetricWarning: Recall is ill-defined and being set to 0.0 in labels with no true samples. Use `zero_division` parameter to control this behavior.\n",
      "  _warn_prf(average, modifier, f\"{metric.capitalize()} is\", len(result))\n",
      "/home/jangminoh_2/miniconda3/envs/ml-ops/lib/python3.12/site-packages/sklearn/metrics/_classification.py:1565: UndefinedMetricWarning: Recall is ill-defined and being set to 0.0 in labels with no true samples. Use `zero_division` parameter to control this behavior.\n",
      "  _warn_prf(average, modifier, f\"{metric.capitalize()} is\", len(result))\n",
      "/home/jangminoh_2/miniconda3/envs/ml-ops/lib/python3.12/site-packages/sklearn/metrics/_classification.py:1565: UndefinedMetricWarning: Recall is ill-defined and being set to 0.0 in labels with no true samples. Use `zero_division` parameter to control this behavior.\n",
      "  _warn_prf(average, modifier, f\"{metric.capitalize()} is\", len(result))\n"
     ]
    }
   ],
   "source": [
    "# 이미지 크기 및 배치 사이즈 설정\n",
    "img_size = (528, 528)  # EfficientNetB6의 입력 크기에 맞게 변경 가능\n",
    "batch_size = 1\n",
    "\n",
    "# 데이터 로더 설정 (test용)\n",
    "datagen = ImageDataGenerator(\n",
    "    preprocessing_function=tf.keras.applications.efficientnet.preprocess_input\n",
    ")\n",
    "\n",
    "test_generator = datagen.flow_from_directory(\n",
    "    dataset_dir,\n",
    "    target_size=img_size,\n",
    "    batch_size=batch_size,\n",
    "    class_mode=\"binary\",  # 이진 분류 (fake vs real)\n",
    "    shuffle= False\n",
    ")\n",
    "\n",
    "# 실제 라벨 가져오기\n",
    "y_true = test_generator.classes  # 0: fake, 1: real\n",
    "#print(y_true)\n",
    "class_names = list(test_generator.class_indices.keys())\n",
    "#print(class_names) #['fake', 'real']\n",
    "#print(test_generator.class_indices)\n",
    "\n",
    "# 예측 수행\n",
    "y_pred_probs = model.predict(test_generator, steps=test_generator.samples)  # 확률값 출력\n",
    "print(y_pred_probs)\n",
    "y_pred = (y_pred_probs > 0.5).astype(int).flatten()  # 0.5 이상이면 1(real), 아니면 0(fake)\n",
    "\n",
    "# 정확도 출력\n",
    "accuracy = np.mean(y_pred == y_true)\n",
    "print(f\"Model Accuracy: {accuracy:.4f}\")\n",
    "\n",
    "# Confusion Matrix 생성\n",
    "cm = confusion_matrix(y_true, y_pred)\n",
    "\n",
    "# Confusion Matrix 시각화\n",
    "plt.figure(figsize=(6, 5))\n",
    "sns.heatmap(cm, annot=True, fmt=\"d\", cmap=\"Blues\", xticklabels=class_names, yticklabels=class_names)\n",
    "plt.xlabel(\"Predicted Label\")\n",
    "plt.ylabel(\"True Label\")\n",
    "plt.title(\"Confusion Matrix\")\n",
    "plt.show()\n",
    "\n",
    "# 분류 보고서 출력\n",
    "print(\"\\nClassification Report:\")\n",
    "print(classification_report(y_true, y_pred, target_names=class_names))\n"
   ]
  },
  {
   "cell_type": "markdown",
   "metadata": {},
   "source": [
    "# Flamel"
   ]
  },
  {
   "cell_type": "code",
   "execution_count": 6,
   "metadata": {},
   "outputs": [],
   "source": [
    "# 데이터셋 경로\n",
    "dataset_dir = \"/home/jangminoh_2/AI_Detector/data/GeneratedModel 분류/Flamel\"\n",
    "fake_dir = \"/home/jangminoh_2/AI_Detector/data/GeneratedModel 분류/Flamel/fake\"\n",
    "real_dir = \"/home/jangminoh_2/AI_Detector/data/GeneratedModel 분류/Flamel/real\""
   ]
  },
  {
   "cell_type": "code",
   "execution_count": 7,
   "metadata": {},
   "outputs": [
    {
     "name": "stdout",
     "output_type": "stream",
     "text": [
      "Fake: 128, Real: 0\n"
     ]
    }
   ],
   "source": [
    "fake_count = len(os.listdir(fake_dir)) if os.path.exists(fake_dir) else 0\n",
    "real_count = len(os.listdir(real_dir)) if os.path.exists(real_dir) else 0\n",
    "\n",
    "print(f\"Fake: {fake_count}, Real: {real_count}\")"
   ]
  },
  {
   "cell_type": "code",
   "execution_count": 8,
   "metadata": {},
   "outputs": [
    {
     "name": "stdout",
     "output_type": "stream",
     "text": [
      "Found 128 images belonging to 2 classes.\n"
     ]
    },
    {
     "name": "stdout",
     "output_type": "stream",
     "text": [
      "\u001b[1m  4/128\u001b[0m \u001b[37m━━━━━━━━━━━━━━━━━━━━\u001b[0m \u001b[1m2s\u001b[0m 19ms/step"
     ]
    },
    {
     "name": "stderr",
     "output_type": "stream",
     "text": [
      "/home/jangminoh_2/miniconda3/envs/ml-ops/lib/python3.12/site-packages/keras/src/trainers/data_adapters/py_dataset_adapter.py:121: UserWarning: Your `PyDataset` class should call `super().__init__(**kwargs)` in its constructor. `**kwargs` can include `workers`, `use_multiprocessing`, `max_queue_size`. Do not pass these arguments to `fit()`, as they will be ignored.\n",
      "  self._warn_if_super_not_called()\n"
     ]
    },
    {
     "name": "stdout",
     "output_type": "stream",
     "text": [
      "\u001b[1m128/128\u001b[0m \u001b[32m━━━━━━━━━━━━━━━━━━━━\u001b[0m\u001b[37m\u001b[0m \u001b[1m2s\u001b[0m 19ms/step\n",
      "[[1.40533715e-01]\n",
      " [8.38670611e-01]\n",
      " [1.98031992e-01]\n",
      " [4.26445335e-01]\n",
      " [8.68995667e-01]\n",
      " [2.66619861e-01]\n",
      " [1.49250299e-01]\n",
      " [9.02680695e-01]\n",
      " [8.08272541e-01]\n",
      " [9.67645049e-01]\n",
      " [3.69285852e-01]\n",
      " [2.10070480e-02]\n",
      " [6.50798738e-01]\n",
      " [1.14384301e-01]\n",
      " [4.19527233e-01]\n",
      " [3.07675779e-01]\n",
      " [4.17091519e-01]\n",
      " [2.53598634e-02]\n",
      " [1.05561845e-01]\n",
      " [4.74953130e-02]\n",
      " [4.07626256e-02]\n",
      " [7.40285695e-01]\n",
      " [2.06447206e-02]\n",
      " [5.26808858e-01]\n",
      " [3.16143073e-02]\n",
      " [2.88817734e-01]\n",
      " [4.41903472e-02]\n",
      " [4.99642402e-01]\n",
      " [6.07559159e-02]\n",
      " [5.32061458e-02]\n",
      " [6.46383166e-01]\n",
      " [1.03335299e-01]\n",
      " [1.13558963e-01]\n",
      " [8.72240603e-01]\n",
      " [3.96220624e-01]\n",
      " [3.83641690e-01]\n",
      " [4.89787489e-01]\n",
      " [3.36776763e-01]\n",
      " [1.50989637e-01]\n",
      " [7.14648366e-01]\n",
      " [1.79026827e-01]\n",
      " [1.30292922e-02]\n",
      " [8.33612904e-02]\n",
      " [7.08909094e-01]\n",
      " [8.52264464e-04]\n",
      " [5.25118947e-01]\n",
      " [5.45238733e-01]\n",
      " [5.62815785e-01]\n",
      " [2.62613520e-02]\n",
      " [2.89793015e-01]\n",
      " [9.35115397e-01]\n",
      " [9.92624611e-02]\n",
      " [1.29372373e-01]\n",
      " [2.88229257e-01]\n",
      " [2.35320069e-02]\n",
      " [7.28467166e-01]\n",
      " [1.72009960e-01]\n",
      " [1.77057445e-01]\n",
      " [2.62042005e-02]\n",
      " [1.72561124e-01]\n",
      " [6.48529887e-01]\n",
      " [2.95895159e-01]\n",
      " [4.59780172e-02]\n",
      " [9.30851325e-03]\n",
      " [1.17723346e-01]\n",
      " [1.42839044e-01]\n",
      " [4.94862534e-02]\n",
      " [3.19003053e-02]\n",
      " [3.78084898e-01]\n",
      " [9.33878124e-01]\n",
      " [8.16363275e-01]\n",
      " [3.01504880e-01]\n",
      " [6.05023582e-04]\n",
      " [6.63053070e-04]\n",
      " [5.30207634e-01]\n",
      " [2.36354634e-01]\n",
      " [2.00177714e-01]\n",
      " [8.01375866e-01]\n",
      " [1.03605606e-01]\n",
      " [6.18939221e-01]\n",
      " [7.12306798e-01]\n",
      " [8.49821568e-01]\n",
      " [6.25988469e-02]\n",
      " [4.31347191e-02]\n",
      " [3.05931509e-01]\n",
      " [5.56281544e-02]\n",
      " [3.54531527e-01]\n",
      " [9.64670181e-01]\n",
      " [2.48965761e-03]\n",
      " [8.56320560e-01]\n",
      " [2.47995905e-03]\n",
      " [2.25741602e-02]\n",
      " [5.56441247e-02]\n",
      " [4.23983969e-02]\n",
      " [1.38523415e-01]\n",
      " [2.13226318e-01]\n",
      " [4.30080295e-01]\n",
      " [1.61030531e-01]\n",
      " [3.54307532e-01]\n",
      " [7.61859655e-01]\n",
      " [1.16471484e-01]\n",
      " [1.13460151e-02]\n",
      " [1.77161153e-02]\n",
      " [3.55424672e-01]\n",
      " [3.85381132e-01]\n",
      " [4.43172455e-02]\n",
      " [4.89427745e-02]\n",
      " [2.67801546e-02]\n",
      " [3.40938449e-01]\n",
      " [3.19320038e-02]\n",
      " [6.00944608e-02]\n",
      " [4.59694006e-02]\n",
      " [1.57948107e-01]\n",
      " [7.03845099e-02]\n",
      " [1.46394642e-02]\n",
      " [2.85469275e-03]\n",
      " [5.79076707e-02]\n",
      " [4.89781648e-01]\n",
      " [2.20420007e-02]\n",
      " [3.79345417e-02]\n",
      " [3.52097349e-03]\n",
      " [1.93611249e-01]\n",
      " [3.00929695e-01]\n",
      " [7.50689447e-01]\n",
      " [6.78173840e-01]\n",
      " [3.24610695e-02]\n",
      " [8.05717826e-01]\n",
      " [3.21858637e-02]]\n",
      "Model Accuracy: 0.7578\n"
     ]
    },
    {
     "data": {
      "image/png": "[encoded data removed]",
      "text/plain": [
       "<Figure size 600x500 with 2 Axes>"
      ]
     },
     "metadata": {},
     "output_type": "display_data"
    },
    {
     "name": "stdout",
     "output_type": "stream",
     "text": [
      "\n",
      "Classification Report:\n",
      "              precision    recall  f1-score   support\n",
      "\n",
      "        fake       1.00      0.76      0.86       128\n",
      "        real       0.00      0.00      0.00         0\n",
      "\n",
      "    accuracy                           0.76       128\n",
      "   macro avg       0.50      0.38      0.43       128\n",
      "weighted avg       1.00      0.76      0.86       128\n",
      "\n"
     ]
    },
    {
     "name": "stderr",
     "output_type": "stream",
     "text": [
      "/home/jangminoh_2/miniconda3/envs/ml-ops/lib/python3.12/site-packages/sklearn/metrics/_classification.py:1565: UndefinedMetricWarning: Recall is ill-defined and being set to 0.0 in labels with no true samples. Use `zero_division` parameter to control this behavior.\n",
      "  _warn_prf(average, modifier, f\"{metric.capitalize()} is\", len(result))\n",
      "/home/jangminoh_2/miniconda3/envs/ml-ops/lib/python3.12/site-packages/sklearn/metrics/_classification.py:1565: UndefinedMetricWarning: Recall is ill-defined and being set to 0.0 in labels with no true samples. Use `zero_division` parameter to control this behavior.\n",
      "  _warn_prf(average, modifier, f\"{metric.capitalize()} is\", len(result))\n",
      "/home/jangminoh_2/miniconda3/envs/ml-ops/lib/python3.12/site-packages/sklearn/metrics/_classification.py:1565: UndefinedMetricWarning: Recall is ill-defined and being set to 0.0 in labels with no true samples. Use `zero_division` parameter to control this behavior.\n",
      "  _warn_prf(average, modifier, f\"{metric.capitalize()} is\", len(result))\n"
     ]
    }
   ],
   "source": [
    "# 이미지 크기 및 배치 사이즈 설정\n",
    "img_size = (528, 528)  # EfficientNetB6의 입력 크기에 맞게 변경 가능\n",
    "batch_size = 1\n",
    "\n",
    "# 데이터 로더 설정 (test용)\n",
    "datagen = ImageDataGenerator(\n",
    "    preprocessing_function=tf.keras.applications.efficientnet.preprocess_input\n",
    ")\n",
    "\n",
    "test_generator = datagen.flow_from_directory(\n",
    "    dataset_dir,\n",
    "    target_size=img_size,\n",
    "    batch_size=batch_size,\n",
    "    class_mode=\"binary\",  # 이진 분류 (fake vs real)\n",
    "    shuffle= False\n",
    ")\n",
    "\n",
    "# 실제 라벨 가져오기\n",
    "y_true = test_generator.classes  # 0: fake, 1: real\n",
    "#print(y_true)\n",
    "class_names = list(test_generator.class_indices.keys())\n",
    "#print(class_names) #['fake', 'real']\n",
    "#print(test_generator.class_indices)\n",
    "\n",
    "# 예측 수행\n",
    "y_pred_probs = model.predict(test_generator, steps=test_generator.samples)  # 확률값 출력\n",
    "print(y_pred_probs)\n",
    "y_pred = (y_pred_probs > 0.5).astype(int).flatten()  # 0.5 이상이면 1(real), 아니면 0(fake)\n",
    "\n",
    "# 정확도 출력\n",
    "accuracy = np.mean(y_pred == y_true)\n",
    "print(f\"Model Accuracy: {accuracy:.4f}\")\n",
    "\n",
    "# Confusion Matrix 생성\n",
    "cm = confusion_matrix(y_true, y_pred)\n",
    "\n",
    "# Confusion Matrix 시각화\n",
    "plt.figure(figsize=(6, 5))\n",
    "sns.heatmap(cm, annot=True, fmt=\"d\", cmap=\"Blues\", xticklabels=class_names, yticklabels=class_names)\n",
    "plt.xlabel(\"Predicted Label\")\n",
    "plt.ylabel(\"True Label\")\n",
    "plt.title(\"Confusion Matrix\")\n",
    "plt.show()\n",
    "\n",
    "# 분류 보고서 출력\n",
    "print(\"\\nClassification Report:\")\n",
    "print(classification_report(y_true, y_pred, target_names=class_names))\n"
   ]
  },
  {
   "cell_type": "markdown",
   "metadata": {},
   "source": [
    "# Midjourney"
   ]
  },
  {
   "cell_type": "code",
   "execution_count": 9,
   "metadata": {},
   "outputs": [],
   "source": [
    "# 데이터셋 경로\n",
    "dataset_dir = \"/home/jangminoh_2/AI_Detector/data/GeneratedModel 분류/Midjourney\"\n",
    "fake_dir = \"/home/jangminoh_2/AI_Detector/data/GeneratedModel 분류/Midjourney/fake\"\n",
    "real_dir = \"/home/jangminoh_2/AI_Detector/data/GeneratedModel 분류/Midjourney/real\""
   ]
  },
  {
   "cell_type": "code",
   "execution_count": 10,
   "metadata": {},
   "outputs": [
    {
     "name": "stdout",
     "output_type": "stream",
     "text": [
      "Fake: 132, Real: 0\n"
     ]
    }
   ],
   "source": [
    "fake_count = len(os.listdir(fake_dir)) if os.path.exists(fake_dir) else 0\n",
    "real_count = len(os.listdir(real_dir)) if os.path.exists(real_dir) else 0\n",
    "\n",
    "print(f\"Fake: {fake_count}, Real: {real_count}\")"
   ]
  },
  {
   "cell_type": "code",
   "execution_count": 11,
   "metadata": {},
   "outputs": [
    {
     "name": "stdout",
     "output_type": "stream",
     "text": [
      "Found 132 images belonging to 2 classes.\n"
     ]
    },
    {
     "name": "stdout",
     "output_type": "stream",
     "text": [
      "\u001b[1m  4/132\u001b[0m \u001b[37m━━━━━━━━━━━━━━━━━━━━\u001b[0m \u001b[1m2s\u001b[0m 18ms/step"
     ]
    },
    {
     "name": "stderr",
     "output_type": "stream",
     "text": [
      "/home/jangminoh_2/miniconda3/envs/ml-ops/lib/python3.12/site-packages/keras/src/trainers/data_adapters/py_dataset_adapter.py:121: UserWarning: Your `PyDataset` class should call `super().__init__(**kwargs)` in its constructor. `**kwargs` can include `workers`, `use_multiprocessing`, `max_queue_size`. Do not pass these arguments to `fit()`, as they will be ignored.\n",
      "  self._warn_if_super_not_called()\n"
     ]
    },
    {
     "name": "stdout",
     "output_type": "stream",
     "text": [
      "\u001b[1m132/132\u001b[0m \u001b[32m━━━━━━━━━━━━━━━━━━━━\u001b[0m\u001b[37m\u001b[0m \u001b[1m2s\u001b[0m 18ms/step\n",
      "[[1.24321878e-02]\n",
      " [2.28182003e-02]\n",
      " [2.11575985e-01]\n",
      " [8.01323593e-01]\n",
      " [1.60822086e-02]\n",
      " [6.39229789e-02]\n",
      " [1.21933809e-02]\n",
      " [2.92788278e-02]\n",
      " [2.31214929e-02]\n",
      " [6.79423138e-02]\n",
      " [1.26886619e-02]\n",
      " [6.41460344e-02]\n",
      " [6.16534725e-02]\n",
      " [1.85475200e-01]\n",
      " [1.41273171e-01]\n",
      " [1.53758764e-01]\n",
      " [6.32981434e-02]\n",
      " [1.48554012e-01]\n",
      " [4.03277650e-02]\n",
      " [1.93590507e-01]\n",
      " [9.25241187e-02]\n",
      " [1.77394241e-01]\n",
      " [2.29983404e-02]\n",
      " [4.11027856e-02]\n",
      " [5.57385087e-01]\n",
      " [1.79452404e-01]\n",
      " [2.43055210e-01]\n",
      " [9.91085321e-02]\n",
      " [2.12516636e-01]\n",
      " [9.86389101e-01]\n",
      " [9.43857253e-01]\n",
      " [3.95270772e-02]\n",
      " [9.19335987e-03]\n",
      " [5.85337542e-02]\n",
      " [3.95270772e-02]\n",
      " [6.42713681e-02]\n",
      " [2.29680672e-01]\n",
      " [1.97528489e-02]\n",
      " [2.51826271e-02]\n",
      " [9.05890111e-03]\n",
      " [1.29664056e-02]\n",
      " [2.19177935e-04]\n",
      " [2.06572688e-04]\n",
      " [4.36812785e-04]\n",
      " [1.04438564e-04]\n",
      " [3.13483328e-02]\n",
      " [2.86698751e-02]\n",
      " [1.11155383e-01]\n",
      " [7.74535611e-02]\n",
      " [2.36123390e-02]\n",
      " [2.27428395e-02]\n",
      " [2.72079222e-02]\n",
      " [1.54439649e-02]\n",
      " [2.10213363e-01]\n",
      " [1.97333097e-02]\n",
      " [9.50064287e-02]\n",
      " [2.08330341e-02]\n",
      " [1.24877125e-01]\n",
      " [2.79441357e-01]\n",
      " [1.46687061e-01]\n",
      " [1.07573345e-01]\n",
      " [2.09710002e-01]\n",
      " [1.05452091e-02]\n",
      " [1.60471704e-02]\n",
      " [3.59310061e-02]\n",
      " [9.52090174e-02]\n",
      " [1.51854455e-01]\n",
      " [3.15729439e-01]\n",
      " [3.01113855e-02]\n",
      " [1.76850855e-01]\n",
      " [1.70337006e-01]\n",
      " [8.46918046e-01]\n",
      " [8.98664892e-01]\n",
      " [9.21210051e-01]\n",
      " [9.39626336e-01]\n",
      " [6.06678724e-01]\n",
      " [8.54027033e-01]\n",
      " [8.91673744e-01]\n",
      " [6.74291074e-01]\n",
      " [4.20993477e-01]\n",
      " [7.84791291e-01]\n",
      " [7.54926354e-02]\n",
      " [7.28342772e-01]\n",
      " [4.64432985e-02]\n",
      " [9.59163383e-02]\n",
      " [3.29566956e-01]\n",
      " [1.18742678e-02]\n",
      " [2.45307669e-01]\n",
      " [5.54504812e-01]\n",
      " [8.14843297e-01]\n",
      " [5.59894323e-01]\n",
      " [4.17434275e-01]\n",
      " [5.80150485e-01]\n",
      " [5.74855432e-02]\n",
      " [2.44558051e-01]\n",
      " [2.01461375e-01]\n",
      " [2.81676531e-01]\n",
      " [2.86480904e-01]\n",
      " [5.22433579e-01]\n",
      " [9.25161719e-01]\n",
      " [3.58612686e-01]\n",
      " [5.12452722e-01]\n",
      " [6.45286292e-02]\n",
      " [2.67337617e-02]\n",
      " [9.67890695e-02]\n",
      " [3.57128680e-01]\n",
      " [7.22499013e-01]\n",
      " [2.27556393e-01]\n",
      " [1.22275827e-02]\n",
      " [5.98828375e-01]\n",
      " [3.20722371e-01]\n",
      " [1.97751597e-01]\n",
      " [2.30040774e-02]\n",
      " [3.47236171e-02]\n",
      " [2.24229265e-02]\n",
      " [2.31018782e-01]\n",
      " [2.78378487e-01]\n",
      " [2.66290843e-01]\n",
      " [7.67564058e-01]\n",
      " [5.18850446e-01]\n",
      " [4.01884377e-01]\n",
      " [9.24167633e-02]\n",
      " [8.20401669e-01]\n",
      " [2.87665516e-01]\n",
      " [1.46594539e-01]\n",
      " [6.15547906e-05]\n",
      " [1.29873410e-01]\n",
      " [2.04482853e-01]\n",
      " [3.85760665e-01]\n",
      " [8.91462803e-01]\n",
      " [6.95489168e-01]\n",
      " [6.11710787e-01]]\n",
      "Model Accuracy: 0.7803\n"
     ]
    },
    {
     "data": {
      "image/png": "[encoded data removed]",
      "text/plain": [
       "<Figure size 600x500 with 2 Axes>"
      ]
     },
     "metadata": {},
     "output_type": "display_data"
    },
    {
     "name": "stdout",
     "output_type": "stream",
     "text": [
      "\n",
      "Classification Report:\n",
      "              precision    recall  f1-score   support\n",
      "\n",
      "        fake       1.00      0.78      0.88       132\n",
      "        real       0.00      0.00      0.00         0\n",
      "\n",
      "    accuracy                           0.78       132\n",
      "   macro avg       0.50      0.39      0.44       132\n",
      "weighted avg       1.00      0.78      0.88       132\n",
      "\n"
     ]
    },
    {
     "name": "stderr",
     "output_type": "stream",
     "text": [
      "/home/jangminoh_2/miniconda3/envs/ml-ops/lib/python3.12/site-packages/sklearn/metrics/_classification.py:1565: UndefinedMetricWarning: Recall is ill-defined and being set to 0.0 in labels with no true samples. Use `zero_division` parameter to control this behavior.\n",
      "  _warn_prf(average, modifier, f\"{metric.capitalize()} is\", len(result))\n",
      "/home/jangminoh_2/miniconda3/envs/ml-ops/lib/python3.12/site-packages/sklearn/metrics/_classification.py:1565: UndefinedMetricWarning: Recall is ill-defined and being set to 0.0 in labels with no true samples. Use `zero_division` parameter to control this behavior.\n",
      "  _warn_prf(average, modifier, f\"{metric.capitalize()} is\", len(result))\n",
      "/home/jangminoh_2/miniconda3/envs/ml-ops/lib/python3.12/site-packages/sklearn/metrics/_classification.py:1565: UndefinedMetricWarning: Recall is ill-defined and being set to 0.0 in labels with no true samples. Use `zero_division` parameter to control this behavior.\n",
      "  _warn_prf(average, modifier, f\"{metric.capitalize()} is\", len(result))\n"
     ]
    }
   ],
   "source": [
    "# 이미지 크기 및 배치 사이즈 설정\n",
    "img_size = (528, 528)  # EfficientNetB6의 입력 크기에 맞게 변경 가능\n",
    "batch_size = 1\n",
    "\n",
    "# 데이터 로더 설정 (test용)\n",
    "datagen = ImageDataGenerator(\n",
    "    preprocessing_function=tf.keras.applications.efficientnet.preprocess_input\n",
    ")\n",
    "\n",
    "test_generator = datagen.flow_from_directory(\n",
    "    dataset_dir,\n",
    "    target_size=img_size,\n",
    "    batch_size=batch_size,\n",
    "    class_mode=\"binary\",  # 이진 분류 (fake vs real)\n",
    "    shuffle= False\n",
    ")\n",
    "\n",
    "# 실제 라벨 가져오기\n",
    "y_true = test_generator.classes  # 0: fake, 1: real\n",
    "#print(y_true)\n",
    "class_names = list(test_generator.class_indices.keys())\n",
    "#print(class_names) #['fake', 'real']\n",
    "#print(test_generator.class_indices)\n",
    "\n",
    "# 예측 수행\n",
    "y_pred_probs = model.predict(test_generator, steps=test_generator.samples)  # 확률값 출력\n",
    "print(y_pred_probs)\n",
    "y_pred = (y_pred_probs > 0.5).astype(int).flatten()  # 0.5 이상이면 1(real), 아니면 0(fake)\n",
    "\n",
    "# 정확도 출력\n",
    "accuracy = np.mean(y_pred == y_true)\n",
    "print(f\"Model Accuracy: {accuracy:.4f}\")\n",
    "\n",
    "# Confusion Matrix 생성\n",
    "cm = confusion_matrix(y_true, y_pred)\n",
    "\n",
    "# Confusion Matrix 시각화\n",
    "plt.figure(figsize=(6, 5))\n",
    "sns.heatmap(cm, annot=True, fmt=\"d\", cmap=\"Blues\", xticklabels=class_names, yticklabels=class_names)\n",
    "plt.xlabel(\"Predicted Label\")\n",
    "plt.ylabel(\"True Label\")\n",
    "plt.title(\"Confusion Matrix\")\n",
    "plt.show()\n",
    "\n",
    "# 분류 보고서 출력\n",
    "print(\"\\nClassification Report:\")\n",
    "print(classification_report(y_true, y_pred, target_names=class_names))"
   ]
  },
  {
   "cell_type": "markdown",
   "metadata": {},
   "source": [
    "# StableDiffusion"
   ]
  },
  {
   "cell_type": "code",
   "execution_count": 13,
   "metadata": {},
   "outputs": [],
   "source": [
    "# 데이터셋 경로\n",
    "dataset_dir = \"/home/jangminoh_2/AI_Detector/data/GeneratedModel 분류/StableDiffusion\"\n",
    "fake_dir = \"/home/jangminoh_2/AI_Detector/data/GeneratedModel 분류/StableDiffusion/fake\"\n",
    "real_dir = \"/home/jangminoh_2/AI_Detector/data/GeneratedModel 분류/StableDiffusion/real\""
   ]
  },
  {
   "cell_type": "code",
   "execution_count": 14,
   "metadata": {},
   "outputs": [
    {
     "name": "stdout",
     "output_type": "stream",
     "text": [
      "Fake: 20, Real: 0\n"
     ]
    }
   ],
   "source": [
    "fake_count = len(os.listdir(fake_dir)) if os.path.exists(fake_dir) else 0\n",
    "real_count = len(os.listdir(real_dir)) if os.path.exists(real_dir) else 0\n",
    "\n",
    "print(f\"Fake: {fake_count}, Real: {real_count}\")"
   ]
  },
  {
   "cell_type": "code",
   "execution_count": 15,
   "metadata": {},
   "outputs": [
    {
     "name": "stdout",
     "output_type": "stream",
     "text": [
      "Found 20 images belonging to 2 classes.\n"
     ]
    },
    {
     "name": "stdout",
     "output_type": "stream",
     "text": [
      "\u001b[1m 4/20\u001b[0m \u001b[32m━━━━\u001b[0m\u001b[37m━━━━━━━━━━━━━━━━\u001b[0m \u001b[1m0s\u001b[0m 19ms/step"
     ]
    },
    {
     "name": "stderr",
     "output_type": "stream",
     "text": [
      "/home/jangminoh_2/miniconda3/envs/ml-ops/lib/python3.12/site-packages/keras/src/trainers/data_adapters/py_dataset_adapter.py:121: UserWarning: Your `PyDataset` class should call `super().__init__(**kwargs)` in its constructor. `**kwargs` can include `workers`, `use_multiprocessing`, `max_queue_size`. Do not pass these arguments to `fit()`, as they will be ignored.\n",
      "  self._warn_if_super_not_called()\n"
     ]
    },
    {
     "name": "stdout",
     "output_type": "stream",
     "text": [
      "\u001b[1m20/20\u001b[0m \u001b[32m━━━━━━━━━━━━━━━━━━━━\u001b[0m\u001b[37m\u001b[0m \u001b[1m0s\u001b[0m 19ms/step\n",
      "[[0.41128328]\n",
      " [0.69850236]\n",
      " [0.7947292 ]\n",
      " [0.7400126 ]\n",
      " [0.83090013]\n",
      " [0.8087094 ]\n",
      " [0.968592  ]\n",
      " [0.6569415 ]\n",
      " [0.8679257 ]\n",
      " [0.9733261 ]\n",
      " [0.06379167]\n",
      " [0.29627466]\n",
      " [0.18213528]\n",
      " [0.3928773 ]\n",
      " [0.43317136]\n",
      " [0.23917225]\n",
      " [0.02388703]\n",
      " [0.05789607]\n",
      " [0.54125184]\n",
      " [0.00830472]]\n",
      "Model Accuracy: 0.5000\n"
     ]
    },
    {
     "data": {
      "image/png": "[encoded data removed]",
      "text/plain": [
       "<Figure size 600x500 with 2 Axes>"
      ]
     },
     "metadata": {},
     "output_type": "display_data"
    },
    {
     "name": "stdout",
     "output_type": "stream",
     "text": [
      "\n",
      "Classification Report:\n",
      "              precision    recall  f1-score   support\n",
      "\n",
      "        fake       1.00      0.50      0.67        20\n",
      "        real       0.00      0.00      0.00         0\n",
      "\n",
      "    accuracy                           0.50        20\n",
      "   macro avg       0.50      0.25      0.33        20\n",
      "weighted avg       1.00      0.50      0.67        20\n",
      "\n"
     ]
    },
    {
     "name": "stderr",
     "output_type": "stream",
     "text": [
      "/home/jangminoh_2/miniconda3/envs/ml-ops/lib/python3.12/site-packages/sklearn/metrics/_classification.py:1565: UndefinedMetricWarning: Recall is ill-defined and being set to 0.0 in labels with no true samples. Use `zero_division` parameter to control this behavior.\n",
      "  _warn_prf(average, modifier, f\"{metric.capitalize()} is\", len(result))\n",
      "/home/jangminoh_2/miniconda3/envs/ml-ops/lib/python3.12/site-packages/sklearn/metrics/_classification.py:1565: UndefinedMetricWarning: Recall is ill-defined and being set to 0.0 in labels with no true samples. Use `zero_division` parameter to control this behavior.\n",
      "  _warn_prf(average, modifier, f\"{metric.capitalize()} is\", len(result))\n",
      "/home/jangminoh_2/miniconda3/envs/ml-ops/lib/python3.12/site-packages/sklearn/metrics/_classification.py:1565: UndefinedMetricWarning: Recall is ill-defined and being set to 0.0 in labels with no true samples. Use `zero_division` parameter to control this behavior.\n",
      "  _warn_prf(average, modifier, f\"{metric.capitalize()} is\", len(result))\n"
     ]
    }
   ],
   "source": [
    "# 이미지 크기 및 배치 사이즈 설정\n",
    "img_size = (528, 528)  # EfficientNetB6의 입력 크기에 맞게 변경 가능\n",
    "batch_size = 1\n",
    "\n",
    "# 데이터 로더 설정 (test용)\n",
    "datagen = ImageDataGenerator(\n",
    "    preprocessing_function=tf.keras.applications.efficientnet.preprocess_input\n",
    ")\n",
    "\n",
    "test_generator = datagen.flow_from_directory(\n",
    "    dataset_dir,\n",
    "    target_size=img_size,\n",
    "    batch_size=batch_size,\n",
    "    class_mode=\"binary\",  # 이진 분류 (fake vs real)\n",
    "    shuffle= False\n",
    ")\n",
    "\n",
    "# 실제 라벨 가져오기\n",
    "y_true = test_generator.classes  # 0: fake, 1: real\n",
    "#print(y_true)\n",
    "class_names = list(test_generator.class_indices.keys())\n",
    "#print(class_names) #['fake', 'real']\n",
    "#print(test_generator.class_indices)\n",
    "\n",
    "# 예측 수행\n",
    "y_pred_probs = model.predict(test_generator, steps=test_generator.samples)  # 확률값 출력\n",
    "print(y_pred_probs)\n",
    "y_pred = (y_pred_probs > 0.5).astype(int).flatten()  # 0.5 이상이면 1(real), 아니면 0(fake)\n",
    "\n",
    "# 정확도 출력\n",
    "accuracy = np.mean(y_pred == y_true)\n",
    "print(f\"Model Accuracy: {accuracy:.4f}\")\n",
    "\n",
    "# Confusion Matrix 생성\n",
    "cm = confusion_matrix(y_true, y_pred)\n",
    "\n",
    "# Confusion Matrix 시각화\n",
    "plt.figure(figsize=(6, 5))\n",
    "sns.heatmap(cm, annot=True, fmt=\"d\", cmap=\"Blues\", xticklabels=class_names, yticklabels=class_names)\n",
    "plt.xlabel(\"Predicted Label\")\n",
    "plt.ylabel(\"True Label\")\n",
    "plt.title(\"Confusion Matrix\")\n",
    "plt.show()\n",
    "\n",
    "# 분류 보고서 출력\n",
    "print(\"\\nClassification Report:\")\n",
    "print(classification_report(y_true, y_pred, target_names=class_names))\n"
   ]
  },
  {
   "cell_type": "code",
   "execution_count": null,
   "metadata": {},
   "outputs": [],
   "source": []
  },
  {
   "cell_type": "code",
   "execution_count": null,
   "metadata": {},
   "outputs": [],
   "source": []
  }
 ],
 "metadata": {
  "kernelspec": {
   "display_name": "ml-ops",
   "language": "python",
   "name": "python3"
  },
  "language_info": {
   "codemirror_mode": {
    "name": "ipython",
    "version": 3
   },
   "file_extension": ".py",
   "mimetype": "text/x-python",
   "name": "python",
   "nbconvert_exporter": "python",
   "pygments_lexer": "ipython3",
   "version": "3.12.9"
  }
 },
 "nbformat": 4,
 "nbformat_minor": 2
}
