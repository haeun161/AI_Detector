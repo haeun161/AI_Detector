{
 "cells": [
  {
   "cell_type": "markdown",
   "metadata": {
    "id": "hgUeI-zlTHSj"
   },
   "source": []
  },
  {
   "cell_type": "markdown",
   "metadata": {
    "id": "R_VelDRqHGgn"
   },
   "source": [
    "## 필요한 라이브러리 install"
   ]
  },
  {
   "cell_type": "code",
   "execution_count": 42,
   "metadata": {
    "colab": {
     "base_uri": "https://localhost:8080/"
    },
    "executionInfo": {
     "elapsed": 117353,
     "status": "ok",
     "timestamp": 1739341520044,
     "user": {
      "displayName": "이하은",
      "userId": "06607701604719915973"
     },
     "user_tz": -540
    },
    "id": "V49o4HtsE9dw",
    "outputId": "70d5a609-a3cc-4b07-84ac-566bd68eca47"
   },
   "outputs": [
    {
     "name": "stdout",
     "output_type": "stream",
     "text": [
      "Requirement already satisfied: torch in /home/jangminoh_2/miniconda3/envs/ml-ops/lib/python3.12/site-packages (2.6.0)\n",
      "Requirement already satisfied: torchvision in /home/jangminoh_2/miniconda3/envs/ml-ops/lib/python3.12/site-packages (0.21.0)\n",
      "Requirement already satisfied: torchaudio in /home/jangminoh_2/miniconda3/envs/ml-ops/lib/python3.12/site-packages (2.6.0)\n",
      "Requirement already satisfied: tensorflow in /home/jangminoh_2/miniconda3/envs/ml-ops/lib/python3.12/site-packages (2.17.0)\n",
      "Requirement already satisfied: albumentations in /home/jangminoh_2/miniconda3/envs/ml-ops/lib/python3.12/site-packages (2.0.4)\n",
      "Requirement already satisfied: timm in /home/jangminoh_2/miniconda3/envs/ml-ops/lib/python3.12/site-packages (1.0.14)\n",
      "Requirement already satisfied: opencv-python in /home/jangminoh_2/miniconda3/envs/ml-ops/lib/python3.12/site-packages (4.11.0.86)\n",
      "Requirement already satisfied: matplotlib in /home/jangminoh_2/miniconda3/envs/ml-ops/lib/python3.12/site-packages (3.10.0)\n",
      "Requirement already satisfied: kagglehub in /home/jangminoh_2/miniconda3/envs/ml-ops/lib/python3.12/site-packages (0.3.9)\n",
      "Requirement already satisfied: pandas in /home/jangminoh_2/miniconda3/envs/ml-ops/lib/python3.12/site-packages (2.2.3)\n",
      "Requirement already satisfied: scikit-learn in /home/jangminoh_2/miniconda3/envs/ml-ops/lib/python3.12/site-packages (1.6.1)\n",
      "Collecting seaborn\n",
      "  Downloading seaborn-0.13.2-py3-none-any.whl.metadata (5.4 kB)\n",
      "Requirement already satisfied: filelock in /home/jangminoh_2/miniconda3/envs/ml-ops/lib/python3.12/site-packages (from torch) (3.17.0)\n",
      "Requirement already satisfied: typing-extensions>=4.10.0 in /home/jangminoh_2/miniconda3/envs/ml-ops/lib/python3.12/site-packages (from torch) (4.12.2)\n",
      "Requirement already satisfied: networkx in /home/jangminoh_2/miniconda3/envs/ml-ops/lib/python3.12/site-packages (from torch) (3.4.2)\n",
      "Requirement already satisfied: jinja2 in /home/jangminoh_2/miniconda3/envs/ml-ops/lib/python3.12/site-packages (from torch) (3.1.5)\n",
      "Requirement already satisfied: fsspec in /home/jangminoh_2/miniconda3/envs/ml-ops/lib/python3.12/site-packages (from torch) (2025.2.0)\n",
      "Requirement already satisfied: nvidia-cuda-nvrtc-cu12==12.4.127 in /home/jangminoh_2/miniconda3/envs/ml-ops/lib/python3.12/site-packages (from torch) (12.4.127)\n",
      "Requirement already satisfied: nvidia-cuda-runtime-cu12==12.4.127 in /home/jangminoh_2/miniconda3/envs/ml-ops/lib/python3.12/site-packages (from torch) (12.4.127)\n",
      "Requirement already satisfied: nvidia-cuda-cupti-cu12==12.4.127 in /home/jangminoh_2/miniconda3/envs/ml-ops/lib/python3.12/site-packages (from torch) (12.4.127)\n",
      "Requirement already satisfied: nvidia-cudnn-cu12==9.1.0.70 in /home/jangminoh_2/miniconda3/envs/ml-ops/lib/python3.12/site-packages (from torch) (9.1.0.70)\n",
      "Requirement already satisfied: nvidia-cublas-cu12==12.4.5.8 in /home/jangminoh_2/miniconda3/envs/ml-ops/lib/python3.12/site-packages (from torch) (12.4.5.8)\n",
      "Requirement already satisfied: nvidia-cufft-cu12==11.2.1.3 in /home/jangminoh_2/miniconda3/envs/ml-ops/lib/python3.12/site-packages (from torch) (11.2.1.3)\n",
      "Requirement already satisfied: nvidia-curand-cu12==10.3.5.147 in /home/jangminoh_2/miniconda3/envs/ml-ops/lib/python3.12/site-packages (from torch) (10.3.5.147)\n",
      "Requirement already satisfied: nvidia-cusolver-cu12==11.6.1.9 in /home/jangminoh_2/miniconda3/envs/ml-ops/lib/python3.12/site-packages (from torch) (11.6.1.9)\n",
      "Requirement already satisfied: nvidia-cusparse-cu12==12.3.1.170 in /home/jangminoh_2/miniconda3/envs/ml-ops/lib/python3.12/site-packages (from torch) (12.3.1.170)\n",
      "Requirement already satisfied: nvidia-cusparselt-cu12==0.6.2 in /home/jangminoh_2/miniconda3/envs/ml-ops/lib/python3.12/site-packages (from torch) (0.6.2)\n",
      "Requirement already satisfied: nvidia-nccl-cu12==2.21.5 in /home/jangminoh_2/miniconda3/envs/ml-ops/lib/python3.12/site-packages (from torch) (2.21.5)\n",
      "Requirement already satisfied: nvidia-nvtx-cu12==12.4.127 in /home/jangminoh_2/miniconda3/envs/ml-ops/lib/python3.12/site-packages (from torch) (12.4.127)\n",
      "Requirement already satisfied: nvidia-nvjitlink-cu12==12.4.127 in /home/jangminoh_2/miniconda3/envs/ml-ops/lib/python3.12/site-packages (from torch) (12.4.127)\n",
      "Requirement already satisfied: triton==3.2.0 in /home/jangminoh_2/miniconda3/envs/ml-ops/lib/python3.12/site-packages (from torch) (3.2.0)\n",
      "Requirement already satisfied: setuptools in /home/jangminoh_2/miniconda3/envs/ml-ops/lib/python3.12/site-packages (from torch) (75.8.0)\n",
      "Requirement already satisfied: sympy==1.13.1 in /home/jangminoh_2/miniconda3/envs/ml-ops/lib/python3.12/site-packages (from torch) (1.13.1)\n",
      "Requirement already satisfied: mpmath<1.4,>=1.1.0 in /home/jangminoh_2/miniconda3/envs/ml-ops/lib/python3.12/site-packages (from sympy==1.13.1->torch) (1.3.0)\n",
      "Requirement already satisfied: numpy in /home/jangminoh_2/miniconda3/envs/ml-ops/lib/python3.12/site-packages (from torchvision) (1.26.4)\n",
      "Requirement already satisfied: pillow!=8.3.*,>=5.3.0 in /home/jangminoh_2/miniconda3/envs/ml-ops/lib/python3.12/site-packages (from torchvision) (11.1.0)\n",
      "Requirement already satisfied: absl-py>=1.0.0 in /home/jangminoh_2/miniconda3/envs/ml-ops/lib/python3.12/site-packages (from tensorflow) (2.1.0)\n",
      "Requirement already satisfied: astunparse>=1.6.0 in /home/jangminoh_2/miniconda3/envs/ml-ops/lib/python3.12/site-packages (from tensorflow) (1.6.3)\n",
      "Requirement already satisfied: flatbuffers>=24.3.25 in /home/jangminoh_2/miniconda3/envs/ml-ops/lib/python3.12/site-packages (from tensorflow) (25.2.10)\n",
      "Requirement already satisfied: gast!=0.5.0,!=0.5.1,!=0.5.2,>=0.2.1 in /home/jangminoh_2/miniconda3/envs/ml-ops/lib/python3.12/site-packages (from tensorflow) (0.6.0)\n",
      "Requirement already satisfied: google-pasta>=0.1.1 in /home/jangminoh_2/miniconda3/envs/ml-ops/lib/python3.12/site-packages (from tensorflow) (0.2.0)\n",
      "Requirement already satisfied: h5py>=3.10.0 in /home/jangminoh_2/miniconda3/envs/ml-ops/lib/python3.12/site-packages (from tensorflow) (3.13.0)\n",
      "Requirement already satisfied: libclang>=13.0.0 in /home/jangminoh_2/miniconda3/envs/ml-ops/lib/python3.12/site-packages (from tensorflow) (18.1.1)\n",
      "Requirement already satisfied: ml-dtypes<0.5.0,>=0.3.1 in /home/jangminoh_2/miniconda3/envs/ml-ops/lib/python3.12/site-packages (from tensorflow) (0.4.1)\n",
      "Requirement already satisfied: opt-einsum>=2.3.2 in /home/jangminoh_2/miniconda3/envs/ml-ops/lib/python3.12/site-packages (from tensorflow) (3.4.0)\n",
      "Requirement already satisfied: packaging in /home/jangminoh_2/miniconda3/envs/ml-ops/lib/python3.12/site-packages (from tensorflow) (24.2)\n",
      "Requirement already satisfied: protobuf!=4.21.0,!=4.21.1,!=4.21.2,!=4.21.3,!=4.21.4,!=4.21.5,<5.0.0dev,>=3.20.3 in /home/jangminoh_2/miniconda3/envs/ml-ops/lib/python3.12/site-packages (from tensorflow) (4.25.6)\n",
      "Requirement already satisfied: requests<3,>=2.21.0 in /home/jangminoh_2/miniconda3/envs/ml-ops/lib/python3.12/site-packages (from tensorflow) (2.32.3)\n",
      "Requirement already satisfied: six>=1.12.0 in /home/jangminoh_2/miniconda3/envs/ml-ops/lib/python3.12/site-packages (from tensorflow) (1.17.0)\n",
      "Requirement already satisfied: termcolor>=1.1.0 in /home/jangminoh_2/miniconda3/envs/ml-ops/lib/python3.12/site-packages (from tensorflow) (2.5.0)\n",
      "Requirement already satisfied: wrapt>=1.11.0 in /home/jangminoh_2/miniconda3/envs/ml-ops/lib/python3.12/site-packages (from tensorflow) (1.17.2)\n",
      "Requirement already satisfied: grpcio<2.0,>=1.24.3 in /home/jangminoh_2/miniconda3/envs/ml-ops/lib/python3.12/site-packages (from tensorflow) (1.70.0)\n",
      "Requirement already satisfied: tensorboard<2.18,>=2.17 in /home/jangminoh_2/miniconda3/envs/ml-ops/lib/python3.12/site-packages (from tensorflow) (2.17.1)\n",
      "Requirement already satisfied: keras>=3.2.0 in /home/jangminoh_2/miniconda3/envs/ml-ops/lib/python3.12/site-packages (from tensorflow) (3.8.0)\n",
      "Requirement already satisfied: scipy>=1.10.0 in /home/jangminoh_2/miniconda3/envs/ml-ops/lib/python3.12/site-packages (from albumentations) (1.15.2)\n",
      "Requirement already satisfied: PyYAML in /home/jangminoh_2/miniconda3/envs/ml-ops/lib/python3.12/site-packages (from albumentations) (6.0.2)\n",
      "Requirement already satisfied: pydantic>=2.9.2 in /home/jangminoh_2/miniconda3/envs/ml-ops/lib/python3.12/site-packages (from albumentations) (2.10.6)\n",
      "Requirement already satisfied: albucore==0.0.23 in /home/jangminoh_2/miniconda3/envs/ml-ops/lib/python3.12/site-packages (from albumentations) (0.0.23)\n",
      "Requirement already satisfied: opencv-python-headless>=4.9.0.80 in /home/jangminoh_2/miniconda3/envs/ml-ops/lib/python3.12/site-packages (from albumentations) (4.11.0.86)\n",
      "Requirement already satisfied: stringzilla>=3.10.4 in /home/jangminoh_2/miniconda3/envs/ml-ops/lib/python3.12/site-packages (from albucore==0.0.23->albumentations) (3.11.3)\n",
      "Requirement already satisfied: simsimd>=5.9.2 in /home/jangminoh_2/miniconda3/envs/ml-ops/lib/python3.12/site-packages (from albucore==0.0.23->albumentations) (6.2.1)\n",
      "Requirement already satisfied: huggingface_hub in /home/jangminoh_2/miniconda3/envs/ml-ops/lib/python3.12/site-packages (from timm) (0.29.1)\n",
      "Requirement already satisfied: safetensors in /home/jangminoh_2/miniconda3/envs/ml-ops/lib/python3.12/site-packages (from timm) (0.5.2)\n",
      "Requirement already satisfied: contourpy>=1.0.1 in /home/jangminoh_2/miniconda3/envs/ml-ops/lib/python3.12/site-packages (from matplotlib) (1.3.1)\n",
      "Requirement already satisfied: cycler>=0.10 in /home/jangminoh_2/miniconda3/envs/ml-ops/lib/python3.12/site-packages (from matplotlib) (0.12.1)\n",
      "Requirement already satisfied: fonttools>=4.22.0 in /home/jangminoh_2/miniconda3/envs/ml-ops/lib/python3.12/site-packages (from matplotlib) (4.56.0)\n",
      "Requirement already satisfied: kiwisolver>=1.3.1 in /home/jangminoh_2/miniconda3/envs/ml-ops/lib/python3.12/site-packages (from matplotlib) (1.4.8)\n",
      "Requirement already satisfied: pyparsing>=2.3.1 in /home/jangminoh_2/miniconda3/envs/ml-ops/lib/python3.12/site-packages (from matplotlib) (3.2.1)\n",
      "Requirement already satisfied: python-dateutil>=2.7 in /home/jangminoh_2/miniconda3/envs/ml-ops/lib/python3.12/site-packages (from matplotlib) (2.9.0.post0)\n",
      "Requirement already satisfied: tqdm in /home/jangminoh_2/miniconda3/envs/ml-ops/lib/python3.12/site-packages (from kagglehub) (4.67.1)\n",
      "Requirement already satisfied: pytz>=2020.1 in /home/jangminoh_2/miniconda3/envs/ml-ops/lib/python3.12/site-packages (from pandas) (2025.1)\n",
      "Requirement already satisfied: tzdata>=2022.7 in /home/jangminoh_2/miniconda3/envs/ml-ops/lib/python3.12/site-packages (from pandas) (2025.1)\n",
      "Requirement already satisfied: joblib>=1.2.0 in /home/jangminoh_2/miniconda3/envs/ml-ops/lib/python3.12/site-packages (from scikit-learn) (1.4.2)\n",
      "Requirement already satisfied: threadpoolctl>=3.1.0 in /home/jangminoh_2/miniconda3/envs/ml-ops/lib/python3.12/site-packages (from scikit-learn) (3.5.0)\n",
      "Requirement already satisfied: wheel<1.0,>=0.23.0 in /home/jangminoh_2/miniconda3/envs/ml-ops/lib/python3.12/site-packages (from astunparse>=1.6.0->tensorflow) (0.45.1)\n",
      "Requirement already satisfied: rich in /home/jangminoh_2/miniconda3/envs/ml-ops/lib/python3.12/site-packages (from keras>=3.2.0->tensorflow) (13.9.4)\n",
      "Requirement already satisfied: namex in /home/jangminoh_2/miniconda3/envs/ml-ops/lib/python3.12/site-packages (from keras>=3.2.0->tensorflow) (0.0.8)\n",
      "Requirement already satisfied: optree in /home/jangminoh_2/miniconda3/envs/ml-ops/lib/python3.12/site-packages (from keras>=3.2.0->tensorflow) (0.14.0)\n",
      "Requirement already satisfied: annotated-types>=0.6.0 in /home/jangminoh_2/miniconda3/envs/ml-ops/lib/python3.12/site-packages (from pydantic>=2.9.2->albumentations) (0.7.0)\n",
      "Requirement already satisfied: pydantic-core==2.27.2 in /home/jangminoh_2/miniconda3/envs/ml-ops/lib/python3.12/site-packages (from pydantic>=2.9.2->albumentations) (2.27.2)\n",
      "Requirement already satisfied: charset-normalizer<4,>=2 in /home/jangminoh_2/miniconda3/envs/ml-ops/lib/python3.12/site-packages (from requests<3,>=2.21.0->tensorflow) (3.4.1)\n",
      "Requirement already satisfied: idna<4,>=2.5 in /home/jangminoh_2/miniconda3/envs/ml-ops/lib/python3.12/site-packages (from requests<3,>=2.21.0->tensorflow) (3.10)\n",
      "Requirement already satisfied: urllib3<3,>=1.21.1 in /home/jangminoh_2/miniconda3/envs/ml-ops/lib/python3.12/site-packages (from requests<3,>=2.21.0->tensorflow) (2.3.0)\n",
      "Requirement already satisfied: certifi>=2017.4.17 in /home/jangminoh_2/miniconda3/envs/ml-ops/lib/python3.12/site-packages (from requests<3,>=2.21.0->tensorflow) (2025.1.31)\n",
      "Requirement already satisfied: markdown>=2.6.8 in /home/jangminoh_2/miniconda3/envs/ml-ops/lib/python3.12/site-packages (from tensorboard<2.18,>=2.17->tensorflow) (3.7)\n",
      "Requirement already satisfied: tensorboard-data-server<0.8.0,>=0.7.0 in /home/jangminoh_2/miniconda3/envs/ml-ops/lib/python3.12/site-packages (from tensorboard<2.18,>=2.17->tensorflow) (0.7.2)\n",
      "Requirement already satisfied: werkzeug>=1.0.1 in /home/jangminoh_2/miniconda3/envs/ml-ops/lib/python3.12/site-packages (from tensorboard<2.18,>=2.17->tensorflow) (3.1.3)\n",
      "Requirement already satisfied: MarkupSafe>=2.0 in /home/jangminoh_2/miniconda3/envs/ml-ops/lib/python3.12/site-packages (from jinja2->torch) (3.0.2)\n",
      "Requirement already satisfied: markdown-it-py>=2.2.0 in /home/jangminoh_2/miniconda3/envs/ml-ops/lib/python3.12/site-packages (from rich->keras>=3.2.0->tensorflow) (3.0.0)\n",
      "Requirement already satisfied: pygments<3.0.0,>=2.13.0 in /home/jangminoh_2/miniconda3/envs/ml-ops/lib/python3.12/site-packages (from rich->keras>=3.2.0->tensorflow) (2.19.1)\n",
      "Requirement already satisfied: mdurl~=0.1 in /home/jangminoh_2/miniconda3/envs/ml-ops/lib/python3.12/site-packages (from markdown-it-py>=2.2.0->rich->keras>=3.2.0->tensorflow) (0.1.2)\n",
      "Downloading seaborn-0.13.2-py3-none-any.whl (294 kB)\n",
      "Installing collected packages: seaborn\n",
      "Successfully installed seaborn-0.13.2\n"
     ]
    }
   ],
   "source": [
    " !pip install torch torchvision torchaudio tensorflow albumentations timm opencv-python matplotlib kagglehub pandas scikit-learn seaborn"
   ]
  },
  {
   "cell_type": "markdown",
   "metadata": {},
   "source": [
    "## GPU 환경 설정"
   ]
  },
  {
   "cell_type": "code",
   "execution_count": 1,
   "metadata": {},
   "outputs": [
    {
     "name": "stderr",
     "output_type": "stream",
     "text": [
      "2025-02-24 00:54:07.407843: E external/local_xla/xla/stream_executor/cuda/cuda_fft.cc:485] Unable to register cuFFT factory: Attempting to register factory for plugin cuFFT when one has already been registered\n",
      "2025-02-24 00:54:07.422092: E external/local_xla/xla/stream_executor/cuda/cuda_dnn.cc:8454] Unable to register cuDNN factory: Attempting to register factory for plugin cuDNN when one has already been registered\n",
      "2025-02-24 00:54:07.426408: E external/local_xla/xla/stream_executor/cuda/cuda_blas.cc:1452] Unable to register cuBLAS factory: Attempting to register factory for plugin cuBLAS when one has already been registered\n",
      "2025-02-24 00:54:07.439152: I tensorflow/core/platform/cpu_feature_guard.cc:210] This TensorFlow binary is optimized to use available CPU instructions in performance-critical operations.\n",
      "To enable the following instructions: AVX2 FMA, in other operations, rebuild TensorFlow with the appropriate compiler flags.\n",
      "2025-02-24 00:54:08.168953: W tensorflow/compiler/tf2tensorrt/utils/py_utils.cc:38] TF-TRT Warning: Could not find TensorRT\n"
     ]
    },
    {
     "name": "stdout",
     "output_type": "stream",
     "text": [
      "[LogicalDevice(name='/device:GPU:0', device_type='GPU')]\n"
     ]
    },
    {
     "name": "stderr",
     "output_type": "stream",
     "text": [
      "2025-02-24 00:54:09.615536: I tensorflow/core/common_runtime/gpu/gpu_device.cc:2021] Created device /job:localhost/replica:0/task:0/device:GPU:0 with 8290 MB memory:  -> device: 0, name: NVIDIA RTX A5000, pci bus id: 0000:01:00.0, compute capability: 8.6\n"
     ]
    }
   ],
   "source": [
    "import tensorflow as tf\n",
    "\n",
    "# GPU 0만 사용\n",
    "gpus = tf.config.experimental.list_physical_devices('GPU')\n",
    "if gpus:\n",
    "    try:\n",
    "        tf.config.experimental.set_visible_devices(gpus[0], 'GPU')  # GPU 0만 사용\n",
    "        tf.config.experimental.set_memory_growth(gpus[0], True)  # 메모리 동적 할당\n",
    "    except RuntimeError as e:\n",
    "        print(e)\n",
    "\n",
    "# TensorFlow에서 사용할 장치 확인\n",
    "print(tf.config.experimental.list_logical_devices('GPU'))\n"
   ]
  },
  {
   "cell_type": "markdown",
   "metadata": {
    "id": "po_0dOVbepaM"
   },
   "source": []
  },
  {
   "cell_type": "code",
   "execution_count": 2,
   "metadata": {},
   "outputs": [],
   "source": [
    "import os\n",
    "os.environ[\"CUDA_VISIBLE_DEVICES\"] = \"0\""
   ]
  },
  {
   "cell_type": "code",
   "execution_count": 7,
   "metadata": {},
   "outputs": [],
   "source": [
    "# import os\n",
    "# os.environ[\"CUDA_VISIBLE_DEVICES\"] = \"0\"\n",
    "# os.environ[\"CUDNN_PATH\"] = \"/usr/local/cuda\"\n",
    "# os.environ[\"LD_LIBRARY_PATH\"] = \"/usr/local/cuda/lib64\"\n",
    "\n",
    "# import tensorflow as tf\n",
    "# print(tf.sysconfig.get_build_info()[\"cudnn_version\"])  # 9.1.0 출력 확인"
   ]
  },
  {
   "cell_type": "code",
   "execution_count": 8,
   "metadata": {},
   "outputs": [
    {
     "name": "stdout",
     "output_type": "stream",
     "text": [
      "8\n"
     ]
    }
   ],
   "source": [
    "import tensorflow as tf\n",
    "print(tf.sysconfig.get_build_info()[\"cudnn_version\"])"
   ]
  },
  {
   "cell_type": "markdown",
   "metadata": {
    "id": "T4wWg1QfTHSy"
   },
   "source": [
    "## 데이터셋 합치기 + 불러오기"
   ]
  },
  {
   "cell_type": "code",
   "execution_count": 1,
   "metadata": {
    "id": "aMDjZ0oDTHSz"
   },
   "outputs": [],
   "source": [
    "# 캐글 데이터셋 다운로드 라이브러리\n",
    "import kagglehub"
   ]
  },
  {
   "cell_type": "code",
   "execution_count": 2,
   "metadata": {
    "colab": {
     "base_uri": "https://localhost:8080/"
    },
    "executionInfo": {
     "elapsed": 143792,
     "status": "ok",
     "timestamp": 1739368905302,
     "user": {
      "displayName": "이하은",
      "userId": "06607701604719915973"
     },
     "user_tz": -540
    },
    "id": "IcZQpm-PTHS2",
    "outputId": "94e36c19-117e-4d4b-ab06-c5b3c5aa5229"
   },
   "outputs": [
    {
     "name": "stdout",
     "output_type": "stream",
     "text": [
      "Path to dataset files: /home/jangminoh_2/.cache/kagglehub/datasets/xhlulu/140k-real-and-fake-faces/versions/2\n"
     ]
    }
   ],
   "source": [
    "## face_data\n",
    "\n",
    "# Download latest version\n",
    "path1 = kagglehub.dataset_download(\"xhlulu/140k-real-and-fake-faces\")\n",
    "\n",
    "print(\"Path to dataset files:\", path1)"
   ]
  },
  {
   "cell_type": "code",
   "execution_count": 3,
   "metadata": {
    "colab": {
     "base_uri": "https://localhost:8080/"
    },
    "executionInfo": {
     "elapsed": 99170,
     "status": "ok",
     "timestamp": 1739369004469,
     "user": {
      "displayName": "이하은",
      "userId": "06607701604719915973"
     },
     "user_tz": -540
    },
    "id": "uhQ7IjJ2THS4",
    "outputId": "123baf3c-b670-47a7-e6d3-5a39fc4cb2fd"
   },
   "outputs": [
    {
     "name": "stdout",
     "output_type": "stream",
     "text": [
      "Path to dataset files: /home/jangminoh_2/.cache/kagglehub/datasets/mariammarioma/midjourney-cifake-inspired/versions/1\n"
     ]
    }
   ],
   "source": [
    "#CIFAKE Midjourney 변형 데이터셋\n",
    "\n",
    "# Download latest version\n",
    "path2 = kagglehub.dataset_download(\"mariammarioma/midjourney-cifake-inspired\")\n",
    "\n",
    "print(\"Path to dataset files:\", path2)"
   ]
  },
  {
   "cell_type": "code",
   "execution_count": 4,
   "metadata": {
    "colab": {
     "base_uri": "https://localhost:8080/"
    },
    "executionInfo": {
     "elapsed": 21434,
     "status": "ok",
     "timestamp": 1739369025894,
     "user": {
      "displayName": "이하은",
      "userId": "06607701604719915973"
     },
     "user_tz": -540
    },
    "id": "86w99P00THS5",
    "outputId": "e83d5d19-ee57-44e8-822c-a3c000589873"
   },
   "outputs": [
    {
     "name": "stdout",
     "output_type": "stream",
     "text": [
      "Path to dataset files: /home/jangminoh_2/.cache/kagglehub/datasets/birdy654/cifake-real-and-ai-generated-synthetic-images/versions/3\n"
     ]
    }
   ],
   "source": [
    "#CIFAKE 데이터셋\n",
    "\n",
    "# Download latest version\n",
    "path3 = kagglehub.dataset_download(\"birdy654/cifake-real-and-ai-generated-synthetic-images\")\n",
    "\n",
    "print(\"Path to dataset files:\", path3)"
   ]
  },
  {
   "cell_type": "code",
   "execution_count": 5,
   "metadata": {
    "colab": {
     "base_uri": "https://localhost:8080/"
    },
    "executionInfo": {
     "elapsed": 474402,
     "status": "ok",
     "timestamp": 1739369500288,
     "user": {
      "displayName": "이하은",
      "userId": "06607701604719915973"
     },
     "user_tz": -540
    },
    "id": "snRlT7_CTgZO",
    "outputId": "d9599dfb-93e0-416a-99ee-8ec3f34a5e6f"
   },
   "outputs": [
    {
     "name": "stdout",
     "output_type": "stream",
     "text": [
      "Path to dataset files: /home/jangminoh_2/.cache/kagglehub/datasets/superpotato9/dalle-recognition-dataset/versions/7\n"
     ]
    }
   ],
   "source": [
    "## Dalle, midjourney\n",
    "\n",
    "path4 = kagglehub.dataset_download(\"superpotato9/dalle-recognition-dataset\")\n",
    "\n",
    "print(\"Path to dataset files:\", path4)"
   ]
  },
  {
   "cell_type": "markdown",
   "metadata": {
    "id": "ar4RozrRUIK0"
   },
   "source": [
    "### 데이터셋 경로 설정"
   ]
  },
  {
   "cell_type": "code",
   "execution_count": 8,
   "metadata": {
    "id": "WTYzHNy_THS7"
   },
   "outputs": [],
   "source": [
    "#face 데이터셋 경로 설정 #70,000 real & 70,000 fake\n",
    "face_train_directory = \"/home/jangminoh_2/.cache/kagglehub/datasets/xhlulu/140k-real-and-fake-faces/versions/2/real_vs_fake/real-vs-fake/train\"\n",
    "face_test_directory = \"/home/jangminoh_2/.cache/kagglehub/datasets/xhlulu/140k-real-and-fake-faces/versions/2/real_vs_fake/real-vs-fake/test\"\n",
    "\n",
    "#CIFAKE #60,000 real & 60,000 fake\n",
    "cifake_train_directory = \"/home/jangminoh_2/.cache/kagglehub/datasets/birdy654/cifake-real-and-ai-generated-synthetic-images/versions/3/train\"\n",
    "cifake_test_directory = \"/home/jangminoh_2/.cache/kagglehub/datasets/birdy654/cifake-real-and-ai-generated-synthetic-images/versions/3/test\"\n",
    "\n",
    "#CIFAKE Midjourney #2,000 real & 2,000 fake\n",
    "cifake_mid_train_directory = \"/home/jangminoh_2/.cache/kagglehub/datasets/mariammarioma/midjourney-cifake-inspired/versions/1/Midjourney/train\"\n",
    "cifake_mid_test_directory = \"/home/jangminoh_2/.cache/kagglehub/datasets/mariammarioma/midjourney-cifake-inspired/versions/1/Midjourney/test\"\n",
    "cifake_mid_val_directory = \"/home/jangminoh_2/.cache/kagglehub/datasets/mariammarioma/midjourney-cifake-inspired/versions/1/Midjourney/valid\"\n",
    "\n",
    "## dalle + midjourney #17855 & Real Images: 3780\n",
    "fake_dir = \"/home/jangminoh_2/.cache/kagglehub/datasets/superpotato9/dalle-recognition-dataset/versions/7/fakeV2/fake-v2\"\n",
    "real_dir = \"/home/jangminoh_2/.cache/kagglehub/datasets/superpotato9/dalle-recognition-dataset/versions/7/real\""
   ]
  },
  {
   "cell_type": "code",
   "execution_count": 18,
   "metadata": {
    "colab": {
     "base_uri": "https://localhost:8080/"
    },
    "executionInfo": {
     "elapsed": 385,
     "status": "ok",
     "timestamp": 1739369500666,
     "user": {
      "displayName": "이하은",
      "userId": "06607701604719915973"
     },
     "user_tz": -540
    },
    "id": "J9b8kMjDbX-H",
    "outputId": "38050d33-a6a2-4187-fbaf-27d3739f09fd"
   },
   "outputs": [
    {
     "name": "stdout",
     "output_type": "stream",
     "text": [
      "Checking directory structure for: /home/jangminoh_2/.cache/kagglehub/datasets/xhlulu/140k-real-and-fake-faces/versions/2/real_vs_fake/real-vs-fake/train\n",
      "  /home/jangminoh_2/.cache/kagglehub/datasets/xhlulu/140k-real-and-fake-faces/versions/2/real_vs_fake/real-vs-fake/train/fake exists as a directory\n",
      "  /home/jangminoh_2/.cache/kagglehub/datasets/xhlulu/140k-real-and-fake-faces/versions/2/real_vs_fake/real-vs-fake/train/real exists as a directory\n",
      "\n",
      "\n",
      "Checking directory structure for: /home/jangminoh_2/.cache/kagglehub/datasets/xhlulu/140k-real-and-fake-faces/versions/2/real_vs_fake/real-vs-fake/test\n",
      "  /home/jangminoh_2/.cache/kagglehub/datasets/xhlulu/140k-real-and-fake-faces/versions/2/real_vs_fake/real-vs-fake/test/fake exists as a directory\n",
      "  /home/jangminoh_2/.cache/kagglehub/datasets/xhlulu/140k-real-and-fake-faces/versions/2/real_vs_fake/real-vs-fake/test/real exists as a directory\n",
      "\n",
      "\n",
      "Checking directory structure for: /home/jangminoh_2/.cache/kagglehub/datasets/birdy654/cifake-real-and-ai-generated-synthetic-images/versions/3/train\n",
      "  /home/jangminoh_2/.cache/kagglehub/datasets/birdy654/cifake-real-and-ai-generated-synthetic-images/versions/3/train/REAL exists as a directory\n",
      "  /home/jangminoh_2/.cache/kagglehub/datasets/birdy654/cifake-real-and-ai-generated-synthetic-images/versions/3/train/FAKE exists as a directory\n",
      "\n",
      "\n",
      "Checking directory structure for: /home/jangminoh_2/.cache/kagglehub/datasets/birdy654/cifake-real-and-ai-generated-synthetic-images/versions/3/test\n",
      "  /home/jangminoh_2/.cache/kagglehub/datasets/birdy654/cifake-real-and-ai-generated-synthetic-images/versions/3/test/REAL exists as a directory\n",
      "  /home/jangminoh_2/.cache/kagglehub/datasets/birdy654/cifake-real-and-ai-generated-synthetic-images/versions/3/test/FAKE exists as a directory\n",
      "\n",
      "\n",
      "Checking directory structure for: /home/jangminoh_2/.cache/kagglehub/datasets/mariammarioma/midjourney-cifake-inspired/versions/1/Midjourney/train\n",
      "  /home/jangminoh_2/.cache/kagglehub/datasets/mariammarioma/midjourney-cifake-inspired/versions/1/Midjourney/train/REAL exists as a directory\n",
      "  /home/jangminoh_2/.cache/kagglehub/datasets/mariammarioma/midjourney-cifake-inspired/versions/1/Midjourney/train/FAKE exists as a directory\n",
      "\n",
      "\n",
      "Checking directory structure for: /home/jangminoh_2/.cache/kagglehub/datasets/mariammarioma/midjourney-cifake-inspired/versions/1/Midjourney/test\n",
      "  /home/jangminoh_2/.cache/kagglehub/datasets/mariammarioma/midjourney-cifake-inspired/versions/1/Midjourney/test/REAL exists as a directory\n",
      "  /home/jangminoh_2/.cache/kagglehub/datasets/mariammarioma/midjourney-cifake-inspired/versions/1/Midjourney/test/FAKE exists as a directory\n",
      "\n",
      "\n",
      "Checking directory structure for: /home/jangminoh_2/.cache/kagglehub/datasets/mariammarioma/midjourney-cifake-inspired/versions/1/Midjourney/valid\n",
      "  /home/jangminoh_2/.cache/kagglehub/datasets/mariammarioma/midjourney-cifake-inspired/versions/1/Midjourney/valid/REAL exists as a directory\n",
      "  /home/jangminoh_2/.cache/kagglehub/datasets/mariammarioma/midjourney-cifake-inspired/versions/1/Midjourney/valid/FAKE exists as a directory\n",
      "\n",
      "\n",
      "Checking directory structure for: /home/jangminoh_2/.cache/kagglehub/datasets/birdy654/cifake-real-and-ai-generated-synthetic-images/versions/3/train/FAKE\n"
     ]
    },
    {
     "name": "stdout",
     "output_type": "stream",
     "text": [
      "\n",
      "\n",
      "Checking directory structure for: /home/jangminoh_2/.cache/kagglehub/datasets/birdy654/cifake-real-and-ai-generated-synthetic-images/versions/3/train/REAL\n",
      "\n",
      "\n"
     ]
    }
   ],
   "source": [
    "import os\n",
    "# 디렉토리 리스트로 구성\n",
    "directories = [\n",
    "    face_train_directory,\n",
    "    face_test_directory,\n",
    "    cifake_train_directory,\n",
    "    cifake_test_directory,\n",
    "    cifake_mid_train_directory,\n",
    "    cifake_mid_test_directory,\n",
    "    cifake_mid_val_directory,\n",
    "    fake_dir,\n",
    "    real_dir\n",
    "]\n",
    "\n",
    "# 각 디렉토리에서 real과 fake 폴더의 구조 출력\n",
    "for directory in directories:\n",
    "    print(f\"Checking directory structure for: {directory}\")\n",
    "\n",
    "    if os.path.exists(directory):\n",
    "        for subdir in os.listdir(directory):\n",
    "            subdir_path = os.path.join(directory, subdir)\n",
    "            if os.path.isdir(subdir_path):\n",
    "                print(f\"  {subdir_path} exists as a directory\")\n",
    "    else:\n",
    "        print(f\"  {directory} does not exist\")\n",
    "    print(\"\\n\")"
   ]
  },
  {
   "cell_type": "code",
   "execution_count": 19,
   "metadata": {},
   "outputs": [
    {
     "data": {
      "text/html": [
       "<div>\n",
       "<style scoped>\n",
       "    .dataframe tbody tr th:only-of-type {\n",
       "        vertical-align: middle;\n",
       "    }\n",
       "\n",
       "    .dataframe tbody tr th {\n",
       "        vertical-align: top;\n",
       "    }\n",
       "\n",
       "    .dataframe thead th {\n",
       "        text-align: right;\n",
       "    }\n",
       "</style>\n",
       "<table border=\"1\" class=\"dataframe\">\n",
       "  <thead>\n",
       "    <tr style=\"text-align: right;\">\n",
       "      <th></th>\n",
       "      <th>Directory</th>\n",
       "      <th>Image Count</th>\n",
       "    </tr>\n",
       "  </thead>\n",
       "  <tbody>\n",
       "    <tr>\n",
       "      <th>0</th>\n",
       "      <td>GAN_FaceData_train/fake</td>\n",
       "      <td>50000</td>\n",
       "    </tr>\n",
       "    <tr>\n",
       "      <th>1</th>\n",
       "      <td>GAN_FaceData_train/real</td>\n",
       "      <td>50000</td>\n",
       "    </tr>\n",
       "    <tr>\n",
       "      <th>2</th>\n",
       "      <td>GAN_FaceData_test/fake</td>\n",
       "      <td>10000</td>\n",
       "    </tr>\n",
       "    <tr>\n",
       "      <th>3</th>\n",
       "      <td>GAN_FaceData_test/real</td>\n",
       "      <td>10000</td>\n",
       "    </tr>\n",
       "    <tr>\n",
       "      <th>4</th>\n",
       "      <td>Diffusion_train/fake</td>\n",
       "      <td>50000</td>\n",
       "    </tr>\n",
       "    <tr>\n",
       "      <th>5</th>\n",
       "      <td>Diffusion_train/real</td>\n",
       "      <td>50000</td>\n",
       "    </tr>\n",
       "    <tr>\n",
       "      <th>6</th>\n",
       "      <td>Diffusion_test/fake</td>\n",
       "      <td>10000</td>\n",
       "    </tr>\n",
       "    <tr>\n",
       "      <th>7</th>\n",
       "      <td>Diffusion_test/real</td>\n",
       "      <td>10000</td>\n",
       "    </tr>\n",
       "    <tr>\n",
       "      <th>8</th>\n",
       "      <td>Midjourney_train/fake</td>\n",
       "      <td>1000</td>\n",
       "    </tr>\n",
       "    <tr>\n",
       "      <th>9</th>\n",
       "      <td>Midjourney_train/real</td>\n",
       "      <td>1000</td>\n",
       "    </tr>\n",
       "    <tr>\n",
       "      <th>10</th>\n",
       "      <td>Midjourney_test/fake</td>\n",
       "      <td>500</td>\n",
       "    </tr>\n",
       "    <tr>\n",
       "      <th>11</th>\n",
       "      <td>Midjourney_test/real</td>\n",
       "      <td>500</td>\n",
       "    </tr>\n",
       "    <tr>\n",
       "      <th>12</th>\n",
       "      <td>Midjourney_val/fake</td>\n",
       "      <td>500</td>\n",
       "    </tr>\n",
       "    <tr>\n",
       "      <th>13</th>\n",
       "      <td>Midjourney_val/real</td>\n",
       "      <td>500</td>\n",
       "    </tr>\n",
       "    <tr>\n",
       "      <th>14</th>\n",
       "      <td>Midjourney&amp;Dalle/fake</td>\n",
       "      <td>50000</td>\n",
       "    </tr>\n",
       "    <tr>\n",
       "      <th>15</th>\n",
       "      <td>Midjourney&amp;Dalle/real</td>\n",
       "      <td>50000</td>\n",
       "    </tr>\n",
       "  </tbody>\n",
       "</table>\n",
       "</div>"
      ],
      "text/plain": [
       "                  Directory  Image Count\n",
       "0   GAN_FaceData_train/fake        50000\n",
       "1   GAN_FaceData_train/real        50000\n",
       "2    GAN_FaceData_test/fake        10000\n",
       "3    GAN_FaceData_test/real        10000\n",
       "4      Diffusion_train/fake        50000\n",
       "5      Diffusion_train/real        50000\n",
       "6       Diffusion_test/fake        10000\n",
       "7       Diffusion_test/real        10000\n",
       "8     Midjourney_train/fake         1000\n",
       "9     Midjourney_train/real         1000\n",
       "10     Midjourney_test/fake          500\n",
       "11     Midjourney_test/real          500\n",
       "12      Midjourney_val/fake          500\n",
       "13      Midjourney_val/real          500\n",
       "14    Midjourney&Dalle/fake        50000\n",
       "15    Midjourney&Dalle/real        50000"
      ]
     },
     "metadata": {},
     "output_type": "display_data"
    }
   ],
   "source": [
    "import os\n",
    "import pandas as pd\n",
    "from IPython.display import display\n",
    "\n",
    "# ✅ 이미지 확장자 목록\n",
    "image_extensions = (\".jpg\", \".jpeg\", \".png\", \".bmp\", \".tiff\", \".webp\", \".gif\")\n",
    "\n",
    "# ✅ 디렉토리 매핑 (fake/real 추가)\n",
    "directories_with_labels = {\n",
    "    \"GAN_FaceData_train/fake\": f\"{face_train_directory}/fake\",\n",
    "    \"GAN_FaceData_train/real\": f\"{face_train_directory}/real\",\n",
    "    \"GAN_FaceData_test/fake\": f\"{face_test_directory}/fake\",\n",
    "    \"GAN_FaceData_test/real\": f\"{face_test_directory}/real\",\n",
    "    \"Diffusion_train/fake\": f\"{cifake_train_directory}/FAKE\",\n",
    "    \"Diffusion_train/real\": f\"{cifake_train_directory}/REAL\",\n",
    "    \"Diffusion_test/fake\": f\"{cifake_test_directory}/FAKE\",\n",
    "    \"Diffusion_test/real\": f\"{cifake_test_directory}/REAL\",    \n",
    "    \"Midjourney_train/fake\": f\"{cifake_mid_train_directory}/FAKE\",\n",
    "    \"Midjourney_train/real\": f\"{cifake_mid_train_directory}/REAL\",\n",
    "    \"Midjourney_test/fake\": f\"{cifake_mid_test_directory}/FAKE\",\n",
    "    \"Midjourney_test/real\": f\"{cifake_mid_test_directory}/REAL\",\n",
    "    \"Midjourney_val/fake\": f\"{cifake_mid_val_directory}/FAKE\",\n",
    "    \"Midjourney_val/real\": f\"{cifake_mid_val_directory}/REAL\", \n",
    "    \"Midjourney&Dalle/fake\":fake_dir,\n",
    "    \"Midjourney&Dalle/real\":real_dir   \n",
    "    \n",
    "}\n",
    "\n",
    "# ✅ 각 디렉토리 내 이미지 개수 확인\n",
    "image_counts = {}\n",
    "\n",
    "for label, directory in directories_with_labels.items():\n",
    "    if os.path.exists(directory) and os.path.isdir(directory):\n",
    "        image_counts[label] = sum(\n",
    "            1 for f in os.listdir(directory) if f.lower().endswith(image_extensions)\n",
    "        )\n",
    "    else:\n",
    "        image_counts[label] = \"Directory not found\"\n",
    "\n",
    "# ✅ 결과 출력\n",
    "df = pd.DataFrame(list(image_counts.items()), columns=[\"Directory\", \"Image Count\"])\n",
    "\n",
    "# Jupyter Notebook에서 보기 좋게 출력\n",
    "display(df)\n"
   ]
  },
  {
   "cell_type": "markdown",
   "metadata": {
    "id": "uWr2RT0ZVAIM"
   },
   "source": [
    "### 데이터 전처리"
   ]
  },
  {
   "cell_type": "code",
   "execution_count": 17,
   "metadata": {
    "id": "XRl7qhHrd0vx"
   },
   "outputs": [],
   "source": [
    "# import os\n",
    "\n",
    "# # 잘못 저장된 경로\n",
    "# wrong_directory = \"/content/drive/MyDrive/\"\n",
    "\n",
    "# # 삭제할 이미지 확장자 목록\n",
    "# image_extensions = [\".jpg\", \".jpeg\", \".png\", \".gif\", \".bmp\", \".tiff\", \".webp\"]\n",
    "\n",
    "# # 삭제할 파일 찾기\n",
    "# files_to_delete = [f for f in os.listdir(wrong_directory) if f.lower().endswith(tuple(image_extensions))]\n",
    "\n",
    "# # 삭제 수행\n",
    "# for file in files_to_delete:\n",
    "#     file_path = os.path.join(wrong_directory, file)\n",
    "#     try:\n",
    "#         os.remove(file_path)\n",
    "#         print(f\"✅ Deleted: {file_path}\")\n",
    "#     except Exception as e:\n",
    "#         print(f\"❌ Error deleting {file_path}: {e}\")\n",
    "\n",
    "# print(f\"총 {len(files_to_delete)}개의 이미지 파일이 삭제되었습니다!\")\n"
   ]
  },
  {
   "cell_type": "code",
   "execution_count": 31,
   "metadata": {
    "colab": {
     "background_save": true,
     "base_uri": "https://localhost:8080/"
    },
    "id": "pKhrEY9oDNPx",
    "outputId": "fb77c030-b20a-48c6-d1a7-d37e006336c0"
   },
   "outputs": [
    {
     "name": "stdout",
     "output_type": "stream",
     "text": [
      "📊 전체 Fake 데이터 개수: 5000\n",
      "📊 전체 Real 데이터 개수: 5000\n",
      "\n",
      "📊 최종 데이터셋 크기:\n",
      "  🔹 Train - Fake: 4000, Real: 4000\n",
      "  🔹 Test - Fake: 1000, Real: 1000\n",
      "\n",
      "✅ 데이터셋 준비가 완료되었습니다!\n"
     ]
    }
   ],
   "source": [
    "import os\n",
    "import shutil\n",
    "import random\n",
    "from sklearn.model_selection import train_test_split\n",
    "\n",
    "# 저장 디렉토리 설정\n",
    "output_directory = \"data/mixed_Dataset\"\n",
    "train_dir = os.path.join(output_directory, \"train\")\n",
    "test_dir = os.path.join(output_directory, \"test\")\n",
    "os.makedirs(train_dir, exist_ok=True)\n",
    "os.makedirs(test_dir, exist_ok=True)\n",
    "\n",
    "def sample_n_files(directory, n):\n",
    "    \"\"\"디렉토리에서 n개 파일을 랜덤 샘플링\"\"\"\n",
    "    if not os.path.exists(directory) or not os.path.isdir(directory):\n",
    "        print(f\"❌ {directory} 경로가 존재하지 않음!\")\n",
    "        return []\n",
    "    \n",
    "    files = os.listdir(directory)\n",
    "    if len(files) < n:\n",
    "        print(f\"⚠️ {directory}: 데이터 부족 ({len(files)}/{n}) → 모든 파일 사용\")\n",
    "        return [os.path.join(directory, f) for f in files]\n",
    "    \n",
    "    return [os.path.join(directory, f) for f in random.sample(files, n)]\n",
    "\n",
    "def copy_files(files, target_dir):\n",
    "    \"\"\"파일 복사\"\"\"\n",
    "    os.makedirs(target_dir, exist_ok=True)\n",
    "    for file in files:\n",
    "        destination = os.path.join(target_dir, os.path.basename(file))\n",
    "        try:\n",
    "            shutil.copy(file, destination)\n",
    "        except Exception as e:\n",
    "            print(f\"❌ Error copying {file}: {e}\")\n",
    "\n",
    "# 데이터셋 샘플링\n",
    "fake_files = []\n",
    "real_files = []\n",
    "\n",
    "# face 데이터셋\n",
    "fake_files.extend(sample_n_files(os.path.join(face_train_directory, \"fake\"), 500))\n",
    "real_files.extend(sample_n_files(os.path.join(face_train_directory, \"real\"), 500))\n",
    "\n",
    "# cifake_midjourney 데이터셋\n",
    "fake_files.extend(sample_n_files(os.path.join(cifake_mid_train_directory, \"FAKE\"), 1000))\n",
    "real_files.extend(sample_n_files(os.path.join(cifake_mid_train_directory, \"REAL\"), 1000))\n",
    "fake_files.extend(sample_n_files(os.path.join(cifake_mid_test_directory, \"FAKE\"), 500))\n",
    "real_files.extend(sample_n_files(os.path.join(cifake_mid_test_directory, \"REAL\"), 500))\n",
    "\n",
    "# cifake 데이터셋\n",
    "fake_files.extend(sample_n_files(os.path.join(cifake_train_directory, \"FAKE\"), 2000))\n",
    "real_files.extend(sample_n_files(os.path.join(cifake_train_directory, \"REAL\"), 2000))\n",
    "\n",
    "# dalle + midjourney 데이터셋\n",
    "fake_files.extend(sample_n_files(fake_dir, 1000))\n",
    "real_files.extend(sample_n_files(real_dir, 1000))\n",
    "\n",
    "# Train-Test Split (8:2)\n",
    "print(f\"📊 전체 Fake 데이터 개수: {len(fake_files)}\")\n",
    "print(f\"📊 전체 Real 데이터 개수: {len(real_files)}\")\n",
    "\n",
    "fake_train, fake_test = train_test_split(fake_files, test_size=0.2, random_state=42)\n",
    "real_train, real_test = train_test_split(real_files, test_size=0.2, random_state=42)\n",
    "\n",
    "# 데이터 저장\n",
    "copy_files(fake_train, os.path.join(train_dir, \"fake\"))\n",
    "copy_files(real_train, os.path.join(train_dir, \"real\"))\n",
    "copy_files(fake_test, os.path.join(test_dir, \"fake\"))\n",
    "copy_files(real_test, os.path.join(test_dir, \"real\"))\n",
    "\n",
    "print(f\"\\n📊 최종 데이터셋 크기:\")\n",
    "print(f\"  🔹 Train - Fake: {len(fake_train)}, Real: {len(real_train)}\")\n",
    "print(f\"  🔹 Test - Fake: {len(fake_test)}, Real: {len(real_test)}\")\n",
    "print(\"\\n✅ 데이터셋 준비가 완료되었습니다!\")\n"
   ]
  },
  {
   "cell_type": "markdown",
   "metadata": {
    "id": "Q1RwILWwSZPz"
   },
   "source": [
    "## EfficientNetb6로 데이터셋에 대해 detection(이진분류)태스크 수행"
   ]
  },
  {
   "cell_type": "markdown",
   "metadata": {
    "id": "gjpMRwYakhBI"
   },
   "source": [
    "### 데이터셋 준비"
   ]
  },
  {
   "cell_type": "code",
   "execution_count": 1,
   "metadata": {
    "executionInfo": {
     "elapsed": 18,
     "status": "ok",
     "timestamp": 1740143009762,
     "user": {
      "displayName": "이하은",
      "userId": "06607701604719915973"
     },
     "user_tz": -540
    },
    "id": "f-kSKQgjfjbX"
   },
   "outputs": [],
   "source": [
    "train_dir = \"data/mixed_Dataset/train\"\n",
    "test_dir = \"data/mixed_Dataset/test\""
   ]
  },
  {
   "cell_type": "code",
   "execution_count": 2,
   "metadata": {
    "colab": {
     "base_uri": "https://localhost:8080/"
    },
    "executionInfo": {
     "elapsed": 43862,
     "status": "ok",
     "timestamp": 1740143054096,
     "user": {
      "displayName": "이하은",
      "userId": "06607701604719915973"
     },
     "user_tz": -540
    },
    "id": "MZfLpfcm3bAg",
    "outputId": "734caaf4-37b2-479a-b843-f36e4b926548"
   },
   "outputs": [
    {
     "name": "stdout",
     "output_type": "stream",
     "text": [
      "Train Fake: 4398\n",
      "Train Real: 4357\n",
      "Test Fake: 1100\n",
      "Test Real: 1099\n"
     ]
    }
   ],
   "source": [
    "import os\n",
    "\n",
    "train_fake_dir = os.path.join(train_dir, \"fake\")\n",
    "train_real_dir = os.path.join(train_dir, \"real\")\n",
    "test_fake_dir = os.path.join(test_dir, \"fake\")\n",
    "test_real_dir = os.path.join(test_dir, \"real\")\n",
    "\n",
    "# 파일 개수 세기\n",
    "train_fake_count = len(os.listdir(train_fake_dir))\n",
    "train_real_count = len(os.listdir(train_real_dir))\n",
    "test_fake_count = len(os.listdir(test_fake_dir))\n",
    "test_real_count = len(os.listdir(test_real_dir))\n",
    "\n",
    "# 출력\n",
    "print(f\"Train Fake: {train_fake_count}\")\n",
    "print(f\"Train Real: {train_real_count}\")\n",
    "print(f\"Test Fake: {test_fake_count}\")\n",
    "print(f\"Test Real: {test_real_count}\")"
   ]
  },
  {
   "cell_type": "code",
   "execution_count": 3,
   "metadata": {
    "executionInfo": {
     "elapsed": 10,
     "status": "ok",
     "timestamp": 1740143054125,
     "user": {
      "displayName": "이하은",
      "userId": "06607701604719915973"
     },
     "user_tz": -540
    },
    "id": "BMaKs4jHkaQW"
   },
   "outputs": [],
   "source": [
    "# from PIL import Image\n",
    "# import os\n",
    "\n",
    "# MAX_PIXELS = 178956970  # 허용되는 최대 픽셀 크기 (Pillow 기본값)\n",
    "# VALID_EXTENSIONS = {\".jpg\", \".jpeg\", \".png\"}\n",
    "# def remove_invalid_images(directory):\n",
    "#     for root, _, files in os.walk(directory):\n",
    "#         for file in files:\n",
    "#             file_path = os.path.join(root, file)\n",
    "#             if not any(file.lower().endswith(ext) for ext in VALID_EXTENSIONS):\n",
    "#                 continue  # 유효한 확장자가 아니면 건너뜀\n",
    "#             try:\n",
    "#                 img = Image.open(file_path)\n",
    "#                 img.verify()  # 손상 여부 확인\n",
    "#                 if img.size[0] * img.size[1] > MAX_PIXELS:\n",
    "#                     print(f\"Removing oversized image: {file_path}\")\n",
    "#                     os.remove(file_path)\n",
    "#             except (IOError, SyntaxError, Image.DecompressionBombError):\n",
    "#                 print(f\"Removing invalid image: {file_path}\")\n",
    "#                 os.remove(file_path)\n",
    "\n",
    "# remove_invalid_images(train_dir)\n",
    "# remove_invalid_images(test_dir)"
   ]
  },
  {
   "cell_type": "markdown",
   "metadata": {},
   "source": [
    "### 학습 시작"
   ]
  },
  {
   "cell_type": "code",
   "execution_count": 4,
   "metadata": {
    "executionInfo": {
     "elapsed": 50,
     "status": "ok",
     "timestamp": 1740144791035,
     "user": {
      "displayName": "이하은",
      "userId": "06607701604719915973"
     },
     "user_tz": -540
    },
    "id": "qatkA2kUTHS-"
   },
   "outputs": [
    {
     "name": "stderr",
     "output_type": "stream",
     "text": [
      "2025-02-24 13:49:14.527582: E external/local_xla/xla/stream_executor/cuda/cuda_fft.cc:485] Unable to register cuFFT factory: Attempting to register factory for plugin cuFFT when one has already been registered\n",
      "2025-02-24 13:49:14.542385: E external/local_xla/xla/stream_executor/cuda/cuda_dnn.cc:8454] Unable to register cuDNN factory: Attempting to register factory for plugin cuDNN when one has already been registered\n",
      "2025-02-24 13:49:14.546973: E external/local_xla/xla/stream_executor/cuda/cuda_blas.cc:1452] Unable to register cuBLAS factory: Attempting to register factory for plugin cuBLAS when one has already been registered\n",
      "2025-02-24 13:49:14.562108: I tensorflow/core/platform/cpu_feature_guard.cc:210] This TensorFlow binary is optimized to use available CPU instructions in performance-critical operations.\n",
      "To enable the following instructions: AVX2 FMA, in other operations, rebuild TensorFlow with the appropriate compiler flags.\n",
      "2025-02-24 13:49:15.312720: W tensorflow/compiler/tf2tensorrt/utils/py_utils.cc:38] TF-TRT Warning: Could not find TensorRT\n"
     ]
    }
   ],
   "source": [
    "#필수 라이브러리 임포트\n",
    "import tensorflow as tf\n",
    "from tensorflow.keras import layers, models,regularizers\n",
    "#from tensorflow.keras.applications import EfficientNetB0\n",
    "from tensorflow.keras.applications import EfficientNetB6\n",
    "from tensorflow.keras.optimizers import Adam\n",
    "from tensorflow.keras.losses import BinaryCrossentropy\n",
    "import matplotlib.pyplot as plt\n",
    "from tensorflow.keras.callbacks import EarlyStopping\n",
    "from tensorflow.keras.applications.efficientnet import preprocess_input"
   ]
  },
  {
   "cell_type": "code",
   "execution_count": 5,
   "metadata": {
    "executionInfo": {
     "elapsed": 21,
     "status": "aborted",
     "timestamp": 1740145208328,
     "user": {
      "displayName": "이하은",
      "userId": "06607701604719915973"
     },
     "user_tz": -540
    },
    "id": "HzID_wGO6tHy"
   },
   "outputs": [],
   "source": [
    "# CONFIGURATION 설정\n",
    "CONFIGURATION = {\n",
    "    \"BATCH_SIZE\": 4,\n",
    "    \"IM_SIZE\": 528,\n",
    "    \"LEARNING_RATE\": 1e-4,\n",
    "    \"N_EPOCHS\": 20,\n",
    "    \"DROPOUT_RATE\": 0.01, #일반적으로 0.2~0.5\n",
    "    \"REGULARIZATION_RATE\": 0.001,\n",
    "    \"N_DENSE_1\": 1024,\n",
    "    \"NUM_CLASSES\": 2,\n",
    "    \"CLASS_NAMES\": ['fake', 'real']\n",
    "}"
   ]
  },
  {
   "cell_type": "code",
   "execution_count": 6,
   "metadata": {},
   "outputs": [],
   "source": [
    "## Layer 개수\n",
    "n = 15 #20~25"
   ]
  },
  {
   "cell_type": "code",
   "execution_count": 7,
   "metadata": {
    "executionInfo": {
     "elapsed": 4,
     "status": "ok",
     "timestamp": 1740144818459,
     "user": {
      "displayName": "이하은",
      "userId": "06607701604719915973"
     },
     "user_tz": -540
    },
    "id": "ueNtbe-Xf9Hw"
   },
   "outputs": [
    {
     "name": "stderr",
     "output_type": "stream",
     "text": [
      "2025-02-24 13:50:01.372904: I tensorflow/core/common_runtime/gpu/gpu_device.cc:2021] Created device /job:localhost/replica:0/task:0/device:GPU:0 with 20196 MB memory:  -> device: 0, name: NVIDIA RTX A5000, pci bus id: 0000:01:00.0, compute capability: 8.6\n",
      "2025-02-24 13:50:01.374260: I tensorflow/core/common_runtime/gpu/gpu_device.cc:2021] Created device /job:localhost/replica:0/task:0/device:GPU:1 with 22495 MB memory:  -> device: 1, name: NVIDIA RTX A5000, pci bus id: 0000:21:00.0, compute capability: 8.6\n",
      "2025-02-24 13:50:01.375362: I tensorflow/core/common_runtime/gpu/gpu_device.cc:2021] Created device /job:localhost/replica:0/task:0/device:GPU:2 with 22495 MB memory:  -> device: 2, name: NVIDIA RTX A5000, pci bus id: 0000:41:00.0, compute capability: 8.6\n",
      "2025-02-24 13:50:01.376366: I tensorflow/core/common_runtime/gpu/gpu_device.cc:2021] Created device /job:localhost/replica:0/task:0/device:GPU:3 with 22495 MB memory:  -> device: 3, name: NVIDIA RTX A5000, pci bus id: 0000:61:00.0, compute capability: 8.6\n",
      "2025-02-24 13:50:01.377316: I tensorflow/core/common_runtime/gpu/gpu_device.cc:2021] Created device /job:localhost/replica:0/task:0/device:GPU:4 with 22495 MB memory:  -> device: 4, name: NVIDIA RTX A5000, pci bus id: 0000:81:00.0, compute capability: 8.6\n",
      "2025-02-24 13:50:01.378289: I tensorflow/core/common_runtime/gpu/gpu_device.cc:2021] Created device /job:localhost/replica:0/task:0/device:GPU:5 with 22495 MB memory:  -> device: 5, name: NVIDIA RTX A5000, pci bus id: 0000:a1:00.0, compute capability: 8.6\n",
      "2025-02-24 13:50:01.379242: I tensorflow/core/common_runtime/gpu/gpu_device.cc:2021] Created device /job:localhost/replica:0/task:0/device:GPU:6 with 22495 MB memory:  -> device: 6, name: NVIDIA RTX A5000, pci bus id: 0000:c1:00.0, compute capability: 8.6\n",
      "2025-02-24 13:50:01.380162: I tensorflow/core/common_runtime/gpu/gpu_device.cc:2021] Created device /job:localhost/replica:0/task:0/device:GPU:7 with 22495 MB memory:  -> device: 7, name: NVIDIA RTX A5000, pci bus id: 0000:e1:00.0, compute capability: 8.6\n"
     ]
    }
   ],
   "source": [
    "#EfficientNetB0,B6 모델 구성\n",
    "input_shape = (CONFIGURATION[\"IM_SIZE\"], CONFIGURATION[\"IM_SIZE\"], 3)\n",
    "\n",
    "# EfficientNetB6 모델 불러오기\n",
    "base_model = tf.keras.applications.EfficientNetB6(\n",
    "    weights='imagenet',\n",
    "    include_top=False,\n",
    "    input_shape=input_shape\n",
    ")\n",
    "\n",
    "# EfficientNet의 마지막 n개 레이어만 학습 가능하도록 설정\n",
    "for layer in base_model.layers[:-n]:  # 마지막 N개 레이어만 학습 가능\n",
    "    layer.trainable = False\n",
    "for layer in base_model.layers[-n:]:\n",
    "    layer.trainable = True\n",
    "    \n",
    "#Sequential 모델 정의 및 추가 계층 설정\n",
    "model = models.Sequential([\n",
    "    base_model,\n",
    "    layers.GlobalAveragePooling2D(),\n",
    "    layers.Dropout(CONFIGURATION[\"DROPOUT_RATE\"]),\n",
    "    layers.Dense(CONFIGURATION[\"N_DENSE_1\"], activation=\"relu\",\n",
    "                 kernel_regularizer=regularizers.l2(CONFIGURATION[\"REGULARIZATION_RATE\"])),\n",
    "    layers.Dropout(CONFIGURATION[\"DROPOUT_RATE\"]),\n",
    "    layers.Dense(1, activation=\"sigmoid\")  #이진 분류\n",
    "])\n",
    "\n",
    "\n",
    "#모델 컴파일 (binary_crossentropy 사용)\n",
    "loss_function = 'binary_crossentropy'\n",
    "model.compile(optimizer=Adam(learning_rate=CONFIGURATION[\"LEARNING_RATE\"]),\n",
    "              loss=loss_function,\n",
    "              metrics=['accuracy'])\n"
   ]
  },
  {
   "cell_type": "code",
   "execution_count": 8,
   "metadata": {},
   "outputs": [
    {
     "name": "stdout",
     "output_type": "stream",
     "text": [
      "Found 8754 images belonging to 2 classes.\n",
      "Found 2199 images belonging to 2 classes.\n"
     ]
    }
   ],
   "source": [
    "\n",
    "#데이터 증강을 위한 ImageDataGenerator 사용\n",
    "train_datagen = tf.keras.preprocessing.image.ImageDataGenerator(\n",
    "    rescale=1./255,\n",
    "    # rotation_range=30,\n",
    "    # width_shift_range=0.2,\n",
    "    # height_shift_range=0.2,\n",
    "    # shear_range=0.2,\n",
    "    # zoom_range=0.2,\n",
    "    # horizontal_flip=True,\n",
    "    # fill_mode='nearest'\n",
    ")\n",
    "\n",
    "val_datagen = tf.keras.preprocessing.image.ImageDataGenerator(rescale=1./255)\n",
    "\n",
    "#학습 데이터 로드 및 전처리\n",
    "#train_dataset\n",
    "train_dataset = train_datagen.flow_from_directory(\n",
    "    train_dir,  # 학습 데이터가 있는 디렉토리\n",
    "    class_mode='binary',  # 이진 분류 (fake vs real)\n",
    "    color_mode='rgb',\n",
    "    batch_size=CONFIGURATION[\"BATCH_SIZE\"],\n",
    "    target_size=(CONFIGURATION[\"IM_SIZE\"], CONFIGURATION[\"IM_SIZE\"]),\n",
    "    shuffle=True\n",
    ")\n",
    "\n",
    "#val_dataset\n",
    "val_dataset = val_datagen.flow_from_directory(\n",
    "    test_dir,  # 검증 데이터가 있는 디렉토리\n",
    "    class_mode='binary',  # 이진 분류 (fake vs real)\n",
    "    color_mode='rgb',\n",
    "    batch_size=1,  # 검증에서는 배치 크기를 1로 설정\n",
    "    target_size=(CONFIGURATION[\"IM_SIZE\"], CONFIGURATION[\"IM_SIZE\"]),\n",
    "    shuffle=False,  # 검증 데이터셋에서는 shuffle=False\n",
    "    seed=99  # 동일한 검증 데이터를 항상 사용할 수 있도록 시드 설정\n",
    ")"
   ]
  },
  {
   "cell_type": "code",
   "execution_count": 9,
   "metadata": {
    "colab": {
     "base_uri": "https://localhost:8080/",
     "height": 408
    },
    "executionInfo": {
     "elapsed": 256359,
     "status": "error",
     "timestamp": 1740145208323,
     "user": {
      "displayName": "이하은",
      "userId": "06607701604719915973"
     },
     "user_tz": -540
    },
    "id": "OQqzo7zrvxQi",
    "outputId": "5247b4db-019d-467a-cd45-01554e6bf7d2"
   },
   "outputs": [
    {
     "name": "stdout",
     "output_type": "stream",
     "text": [
      "Epoch 1/20\n"
     ]
    },
    {
     "name": "stderr",
     "output_type": "stream",
     "text": [
      "/home/jangminoh_2/miniconda3/envs/ml-ops/lib/python3.12/site-packages/keras/src/trainers/data_adapters/py_dataset_adapter.py:121: UserWarning: Your `PyDataset` class should call `super().__init__(**kwargs)` in its constructor. `**kwargs` can include `workers`, `use_multiprocessing`, `max_queue_size`. Do not pass these arguments to `fit()`, as they will be ignored.\n",
      "  self._warn_if_super_not_called()\n",
      "WARNING: All log messages before absl::InitializeLog() is called are written to STDERR\n",
      "I0000 00:00:1740372626.084187 1321777 service.cc:146] XLA service 0x19db12a0 initialized for platform CUDA (this does not guarantee that XLA will be used). Devices:\n",
      "I0000 00:00:1740372626.084269 1321777 service.cc:154]   StreamExecutor device (0): NVIDIA RTX A5000, Compute Capability 8.6\n",
      "I0000 00:00:1740372626.084276 1321777 service.cc:154]   StreamExecutor device (1): NVIDIA RTX A5000, Compute Capability 8.6\n",
      "I0000 00:00:1740372626.084285 1321777 service.cc:154]   StreamExecutor device (2): NVIDIA RTX A5000, Compute Capability 8.6\n",
      "I0000 00:00:1740372626.084293 1321777 service.cc:154]   StreamExecutor device (3): NVIDIA RTX A5000, Compute Capability 8.6\n",
      "I0000 00:00:1740372626.084302 1321777 service.cc:154]   StreamExecutor device (4): NVIDIA RTX A5000, Compute Capability 8.6\n",
      "I0000 00:00:1740372626.084306 1321777 service.cc:154]   StreamExecutor device (5): NVIDIA RTX A5000, Compute Capability 8.6\n",
      "I0000 00:00:1740372626.084315 1321777 service.cc:154]   StreamExecutor device (6): NVIDIA RTX A5000, Compute Capability 8.6\n",
      "I0000 00:00:1740372626.084323 1321777 service.cc:154]   StreamExecutor device (7): NVIDIA RTX A5000, Compute Capability 8.6\n",
      "2025-02-24 13:50:26.786334: I tensorflow/compiler/mlir/tensorflow/utils/dump_mlir_util.cc:268] disabling MLIR crash reproducer, set env var `MLIR_CRASH_REPRODUCER_DIRECTORY` to enable.\n",
      "2025-02-24 13:50:29.824004: I external/local_xla/xla/stream_executor/cuda/cuda_dnn.cc:531] Loaded cuDNN version 8907\n"
     ]
    },
    {
     "name": "stdout",
     "output_type": "stream",
     "text": [
      "\u001b[1m   2/2189\u001b[0m \u001b[37m━━━━━━━━━━━━━━━━━━━━\u001b[0m \u001b[1m2:21\u001b[0m 65ms/step - accuracy: 0.6250 - loss: 2.0802   "
     ]
    },
    {
     "name": "stderr",
     "output_type": "stream",
     "text": [
      "I0000 00:00:1740372655.361261 1321777 device_compiler.h:188] Compiled cluster using XLA!  This line is logged at most once for the lifetime of the process.\n"
     ]
    },
    {
     "name": "stdout",
     "output_type": "stream",
     "text": [
      "\u001b[1m 895/2189\u001b[0m \u001b[32m━━━━━━━━\u001b[0m\u001b[37m━━━━━━━━━━━━\u001b[0m \u001b[1m1:38\u001b[0m 76ms/step - accuracy: 0.6180 - loss: 1.6948"
     ]
    },
    {
     "name": "stderr",
     "output_type": "stream",
     "text": [
      "/home/jangminoh_2/miniconda3/envs/ml-ops/lib/python3.12/site-packages/PIL/Image.py:1045: UserWarning: Palette images with Transparency expressed in bytes should be converted to RGBA images\n",
      "  warnings.warn(\n"
     ]
    },
    {
     "name": "stdout",
     "output_type": "stream",
     "text": [
      "\u001b[1m2188/2189\u001b[0m \u001b[32m━━━━━━━━━━━━━━━━━━━\u001b[0m\u001b[37m━\u001b[0m \u001b[1m0s\u001b[0m 58ms/step - accuracy: 0.6313 - loss: 1.4051"
     ]
    },
    {
     "name": "stderr",
     "output_type": "stream",
     "text": [
      "2025-02-24 13:53:09.648779: I external/local_xla/xla/stream_executor/cuda/cuda_asm_compiler.cc:393] ptxas warning : Registers are spilled to local memory in function 'gemm_fusion_dot_2', 36 bytes spill stores, 36 bytes spill loads\n",
      "\n"
     ]
    },
    {
     "name": "stdout",
     "output_type": "stream",
     "text": [
      "\u001b[1m2189/2189\u001b[0m \u001b[32m━━━━━━━━━━━━━━━━━━━━\u001b[0m\u001b[37m\u001b[0m \u001b[1m236s\u001b[0m 87ms/step - accuracy: 0.6313 - loss: 1.4048 - val_accuracy: 0.6858 - val_loss: 0.6967\n",
      "Epoch 2/20\n",
      "\u001b[1m2189/2189\u001b[0m \u001b[32m━━━━━━━━━━━━━━━━━━━━\u001b[0m\u001b[37m\u001b[0m \u001b[1m152s\u001b[0m 69ms/step - accuracy: 0.6558 - loss: 0.6892 - val_accuracy: 0.6876 - val_loss: 0.6253\n",
      "Epoch 3/20\n",
      "\u001b[1m2189/2189\u001b[0m \u001b[32m━━━━━━━━━━━━━━━━━━━━\u001b[0m\u001b[37m\u001b[0m \u001b[1m150s\u001b[0m 68ms/step - accuracy: 0.6681 - loss: 0.6386 - val_accuracy: 0.6744 - val_loss: 0.6196\n",
      "Epoch 4/20\n",
      "\u001b[1m2189/2189\u001b[0m \u001b[32m━━━━━━━━━━━━━━━━━━━━\u001b[0m\u001b[37m\u001b[0m \u001b[1m149s\u001b[0m 68ms/step - accuracy: 0.6744 - loss: 0.6285 - val_accuracy: 0.6744 - val_loss: 0.6181\n",
      "Epoch 5/20\n",
      "\u001b[1m2189/2189\u001b[0m \u001b[32m━━━━━━━━━━━━━━━━━━━━\u001b[0m\u001b[37m\u001b[0m \u001b[1m148s\u001b[0m 67ms/step - accuracy: 0.6686 - loss: 0.6318 - val_accuracy: 0.6780 - val_loss: 0.6196\n",
      "Epoch 6/20\n",
      "\u001b[1m2189/2189\u001b[0m \u001b[32m━━━━━━━━━━━━━━━━━━━━\u001b[0m\u001b[37m\u001b[0m \u001b[1m149s\u001b[0m 68ms/step - accuracy: 0.6626 - loss: 0.6325 - val_accuracy: 0.6849 - val_loss: 0.6151\n",
      "Epoch 7/20\n",
      "\u001b[1m2189/2189\u001b[0m \u001b[32m━━━━━━━━━━━━━━━━━━━━\u001b[0m\u001b[37m\u001b[0m \u001b[1m148s\u001b[0m 68ms/step - accuracy: 0.6720 - loss: 0.6289 - val_accuracy: 0.6739 - val_loss: 0.6168\n",
      "Epoch 8/20\n",
      "\u001b[1m2189/2189\u001b[0m \u001b[32m━━━━━━━━━━━━━━━━━━━━\u001b[0m\u001b[37m\u001b[0m \u001b[1m149s\u001b[0m 68ms/step - accuracy: 0.6651 - loss: 0.6322 - val_accuracy: 0.6885 - val_loss: 0.6104\n",
      "Epoch 9/20\n",
      "\u001b[1m2189/2189\u001b[0m \u001b[32m━━━━━━━━━━━━━━━━━━━━\u001b[0m\u001b[37m\u001b[0m \u001b[1m150s\u001b[0m 69ms/step - accuracy: 0.6645 - loss: 0.6287 - val_accuracy: 0.6762 - val_loss: 0.6131\n",
      "Epoch 10/20\n",
      "\u001b[1m2189/2189\u001b[0m \u001b[32m━━━━━━━━━━━━━━━━━━━━\u001b[0m\u001b[37m\u001b[0m \u001b[1m150s\u001b[0m 69ms/step - accuracy: 0.6617 - loss: 0.6349 - val_accuracy: 0.6753 - val_loss: 0.6140\n",
      "Epoch 11/20\n",
      "\u001b[1m2189/2189\u001b[0m \u001b[32m━━━━━━━━━━━━━━━━━━━━\u001b[0m\u001b[37m\u001b[0m \u001b[1m152s\u001b[0m 70ms/step - accuracy: 0.6700 - loss: 0.6266 - val_accuracy: 0.6762 - val_loss: 0.6178\n"
     ]
    },
    {
     "data": {
      "image/png": "[encoded data removed]",
      "text/plain": [
       "<Figure size 640x480 with 1 Axes>"
      ]
     },
     "metadata": {},
     "output_type": "display_data"
    }
   ],
   "source": [
    "#모델 컴파일\n",
    "model.compile(optimizer=Adam(learning_rate=CONFIGURATION[\"LEARNING_RATE\"]),\n",
    "              loss='binary_crossentropy',  #이진 분류에 적합한 손실 함수\n",
    "              metrics=['accuracy'])\n",
    "#조기멈춤 도입\n",
    "early_stopping = EarlyStopping(monitor='val_loss', #accuracy\n",
    "                               patience=3,           #3번의 에폭 동안 개선이 없으면 중단\n",
    "                               restore_best_weights=True)  #중단된 지점에서 최적의 가중치로 복원\n",
    "\n",
    "#모델 학습\n",
    "history = model.fit(\n",
    "    train_dataset,\n",
    "    validation_data=val_dataset,\n",
    "    epochs=CONFIGURATION[\"N_EPOCHS\"],\n",
    "    verbose=1,\n",
    "    callbacks=[early_stopping]  # EarlyStopping 콜백 추가\n",
    ")\n",
    "\n",
    "#학습 과정 시각화\n",
    "plt.plot(history.history['loss'], label='train_loss')\n",
    "plt.plot(history.history['val_loss'], label='val_loss')\n",
    "plt.title('Model loss')\n",
    "plt.xlabel('Epoch')\n",
    "plt.ylabel('Loss')\n",
    "plt.legend(['Train Loss', 'Validation Loss'])\n",
    "plt.show()"
   ]
  },
  {
   "cell_type": "markdown",
   "metadata": {
    "id": "ZeFaVCyhSop7"
   },
   "source": [
    "### 모델 저장"
   ]
  },
  {
   "cell_type": "code",
   "execution_count": 161,
   "metadata": {},
   "outputs": [
    {
     "data": {
      "text/html": [
       "<pre style=\"white-space:pre;overflow-x:auto;line-height:normal;font-family:Menlo,'DejaVu Sans Mono',consolas,'Courier New',monospace\"><span style=\"font-weight: bold\">Model: \"sequential_2\"</span>\n",
       "</pre>\n"
      ],
      "text/plain": [
       "\u001b[1mModel: \"sequential_2\"\u001b[0m\n"
      ]
     },
     "metadata": {},
     "output_type": "display_data"
    },
    {
     "data": {
      "text/html": [
       "<pre style=\"white-space:pre;overflow-x:auto;line-height:normal;font-family:Menlo,'DejaVu Sans Mono',consolas,'Courier New',monospace\">┏━━━━━━━━━━━━━━━━━━━━━━━━━━━━━━━━━┳━━━━━━━━━━━━━━━━━━━━━━━━┳━━━━━━━━━━━━━━━┓\n",
       "┃<span style=\"font-weight: bold\"> Layer (type)                    </span>┃<span style=\"font-weight: bold\"> Output Shape           </span>┃<span style=\"font-weight: bold\">       Param # </span>┃\n",
       "┡━━━━━━━━━━━━━━━━━━━━━━━━━━━━━━━━━╇━━━━━━━━━━━━━━━━━━━━━━━━╇━━━━━━━━━━━━━━━┩\n",
       "│ efficientnetb6 (<span style=\"color: #0087ff; text-decoration-color: #0087ff\">Functional</span>)     │ (<span style=\"color: #00d7ff; text-decoration-color: #00d7ff\">None</span>, <span style=\"color: #00af00; text-decoration-color: #00af00\">17</span>, <span style=\"color: #00af00; text-decoration-color: #00af00\">17</span>, <span style=\"color: #00af00; text-decoration-color: #00af00\">2304</span>)   │    <span style=\"color: #00af00; text-decoration-color: #00af00\">40,960,143</span> │\n",
       "├─────────────────────────────────┼────────────────────────┼───────────────┤\n",
       "│ global_average_pooling2d_2      │ (<span style=\"color: #00d7ff; text-decoration-color: #00d7ff\">None</span>, <span style=\"color: #00af00; text-decoration-color: #00af00\">2304</span>)           │             <span style=\"color: #00af00; text-decoration-color: #00af00\">0</span> │\n",
       "│ (<span style=\"color: #0087ff; text-decoration-color: #0087ff\">GlobalAveragePooling2D</span>)        │                        │               │\n",
       "├─────────────────────────────────┼────────────────────────┼───────────────┤\n",
       "│ dropout_4 (<span style=\"color: #0087ff; text-decoration-color: #0087ff\">Dropout</span>)             │ (<span style=\"color: #00d7ff; text-decoration-color: #00d7ff\">None</span>, <span style=\"color: #00af00; text-decoration-color: #00af00\">2304</span>)           │             <span style=\"color: #00af00; text-decoration-color: #00af00\">0</span> │\n",
       "├─────────────────────────────────┼────────────────────────┼───────────────┤\n",
       "│ dense_4 (<span style=\"color: #0087ff; text-decoration-color: #0087ff\">Dense</span>)                 │ (<span style=\"color: #00d7ff; text-decoration-color: #00d7ff\">None</span>, <span style=\"color: #00af00; text-decoration-color: #00af00\">1024</span>)           │     <span style=\"color: #00af00; text-decoration-color: #00af00\">2,360,320</span> │\n",
       "├─────────────────────────────────┼────────────────────────┼───────────────┤\n",
       "│ dropout_5 (<span style=\"color: #0087ff; text-decoration-color: #0087ff\">Dropout</span>)             │ (<span style=\"color: #00d7ff; text-decoration-color: #00d7ff\">None</span>, <span style=\"color: #00af00; text-decoration-color: #00af00\">1024</span>)           │             <span style=\"color: #00af00; text-decoration-color: #00af00\">0</span> │\n",
       "├─────────────────────────────────┼────────────────────────┼───────────────┤\n",
       "│ dense_5 (<span style=\"color: #0087ff; text-decoration-color: #0087ff\">Dense</span>)                 │ (<span style=\"color: #00d7ff; text-decoration-color: #00d7ff\">None</span>, <span style=\"color: #00af00; text-decoration-color: #00af00\">1</span>)              │         <span style=\"color: #00af00; text-decoration-color: #00af00\">1,025</span> │\n",
       "└─────────────────────────────────┴────────────────────────┴───────────────┘\n",
       "</pre>\n"
      ],
      "text/plain": [
       "┏━━━━━━━━━━━━━━━━━━━━━━━━━━━━━━━━━┳━━━━━━━━━━━━━━━━━━━━━━━━┳━━━━━━━━━━━━━━━┓\n",
       "┃\u001b[1m \u001b[0m\u001b[1mLayer (type)                   \u001b[0m\u001b[1m \u001b[0m┃\u001b[1m \u001b[0m\u001b[1mOutput Shape          \u001b[0m\u001b[1m \u001b[0m┃\u001b[1m \u001b[0m\u001b[1m      Param #\u001b[0m\u001b[1m \u001b[0m┃\n",
       "┡━━━━━━━━━━━━━━━━━━━━━━━━━━━━━━━━━╇━━━━━━━━━━━━━━━━━━━━━━━━╇━━━━━━━━━━━━━━━┩\n",
       "│ efficientnetb6 (\u001b[38;5;33mFunctional\u001b[0m)     │ (\u001b[38;5;45mNone\u001b[0m, \u001b[38;5;34m17\u001b[0m, \u001b[38;5;34m17\u001b[0m, \u001b[38;5;34m2304\u001b[0m)   │    \u001b[38;5;34m40,960,143\u001b[0m │\n",
       "├─────────────────────────────────┼────────────────────────┼───────────────┤\n",
       "│ global_average_pooling2d_2      │ (\u001b[38;5;45mNone\u001b[0m, \u001b[38;5;34m2304\u001b[0m)           │             \u001b[38;5;34m0\u001b[0m │\n",
       "│ (\u001b[38;5;33mGlobalAveragePooling2D\u001b[0m)        │                        │               │\n",
       "├─────────────────────────────────┼────────────────────────┼───────────────┤\n",
       "│ dropout_4 (\u001b[38;5;33mDropout\u001b[0m)             │ (\u001b[38;5;45mNone\u001b[0m, \u001b[38;5;34m2304\u001b[0m)           │             \u001b[38;5;34m0\u001b[0m │\n",
       "├─────────────────────────────────┼────────────────────────┼───────────────┤\n",
       "│ dense_4 (\u001b[38;5;33mDense\u001b[0m)                 │ (\u001b[38;5;45mNone\u001b[0m, \u001b[38;5;34m1024\u001b[0m)           │     \u001b[38;5;34m2,360,320\u001b[0m │\n",
       "├─────────────────────────────────┼────────────────────────┼───────────────┤\n",
       "│ dropout_5 (\u001b[38;5;33mDropout\u001b[0m)             │ (\u001b[38;5;45mNone\u001b[0m, \u001b[38;5;34m1024\u001b[0m)           │             \u001b[38;5;34m0\u001b[0m │\n",
       "├─────────────────────────────────┼────────────────────────┼───────────────┤\n",
       "│ dense_5 (\u001b[38;5;33mDense\u001b[0m)                 │ (\u001b[38;5;45mNone\u001b[0m, \u001b[38;5;34m1\u001b[0m)              │         \u001b[38;5;34m1,025\u001b[0m │\n",
       "└─────────────────────────────────┴────────────────────────┴───────────────┘\n"
      ]
     },
     "metadata": {},
     "output_type": "display_data"
    },
    {
     "data": {
      "text/html": [
       "<pre style=\"white-space:pre;overflow-x:auto;line-height:normal;font-family:Menlo,'DejaVu Sans Mono',consolas,'Courier New',monospace\"><span style=\"font-weight: bold\"> Total params: </span><span style=\"color: #00af00; text-decoration-color: #00af00\">43,321,490</span> (165.26 MB)\n",
       "</pre>\n"
      ],
      "text/plain": [
       "\u001b[1m Total params: \u001b[0m\u001b[38;5;34m43,321,490\u001b[0m (165.26 MB)\n"
      ]
     },
     "metadata": {},
     "output_type": "display_data"
    },
    {
     "data": {
      "text/html": [
       "<pre style=\"white-space:pre;overflow-x:auto;line-height:normal;font-family:Menlo,'DejaVu Sans Mono',consolas,'Courier New',monospace\"><span style=\"font-weight: bold\"> Trainable params: </span><span style=\"color: #00af00; text-decoration-color: #00af00\">6,683,793</span> (25.50 MB)\n",
       "</pre>\n"
      ],
      "text/plain": [
       "\u001b[1m Trainable params: \u001b[0m\u001b[38;5;34m6,683,793\u001b[0m (25.50 MB)\n"
      ]
     },
     "metadata": {},
     "output_type": "display_data"
    },
    {
     "data": {
      "text/html": [
       "<pre style=\"white-space:pre;overflow-x:auto;line-height:normal;font-family:Menlo,'DejaVu Sans Mono',consolas,'Courier New',monospace\"><span style=\"font-weight: bold\"> Non-trainable params: </span><span style=\"color: #00af00; text-decoration-color: #00af00\">36,637,695</span> (139.76 MB)\n",
       "</pre>\n"
      ],
      "text/plain": [
       "\u001b[1m Non-trainable params: \u001b[0m\u001b[38;5;34m36,637,695\u001b[0m (139.76 MB)\n"
      ]
     },
     "metadata": {},
     "output_type": "display_data"
    },
    {
     "data": {
      "text/html": [
       "<pre style=\"white-space:pre;overflow-x:auto;line-height:normal;font-family:Menlo,'DejaVu Sans Mono',consolas,'Courier New',monospace\"><span style=\"font-weight: bold\"> Optimizer params: </span><span style=\"color: #00af00; text-decoration-color: #00af00\">2</span> (12.00 B)\n",
       "</pre>\n"
      ],
      "text/plain": [
       "\u001b[1m Optimizer params: \u001b[0m\u001b[38;5;34m2\u001b[0m (12.00 B)\n"
      ]
     },
     "metadata": {},
     "output_type": "display_data"
    }
   ],
   "source": [
    "model.summary()"
   ]
  },
  {
   "cell_type": "code",
   "execution_count": 10,
   "metadata": {
    "colab": {
     "base_uri": "https://localhost:8080/"
    },
    "executionInfo": {
     "elapsed": 624,
     "status": "ok",
     "timestamp": 1739774930932,
     "user": {
      "displayName": "이하은",
      "userId": "06607701604719915973"
     },
     "user_tz": -540
    },
    "id": "rRWHSAGE_Jmf",
    "outputId": "676b86eb-6b11-4dc3-9bcb-6a6ac8e8df2f"
   },
   "outputs": [
    {
     "name": "stderr",
     "output_type": "stream",
     "text": [
      "WARNING:absl:You are saving your model as an HDF5 file via `model.save()` or `keras.saving.save_model(model)`. This file format is considered legacy. We recommend using instead the native Keras format, e.g. `model.save('my_model.keras')` or `keras.saving.save_model(model, 'my_model.keras')`. \n"
     ]
    }
   ],
   "source": [
    "#모델 저장\n",
    "model.save(\"model/model_v2.h5\")"
   ]
  },
  {
   "cell_type": "code",
   "execution_count": 12,
   "metadata": {},
   "outputs": [],
   "source": [
    "# # 모델 로드\n",
    "# from tensorflow.keras.models import load_model\n",
    "\n",
    "# model_path = \"model/model_v6.h5\"\n",
    "# model = load_model(model_path)"
   ]
  },
  {
   "cell_type": "code",
   "execution_count": 11,
   "metadata": {
    "colab": {
     "background_save": true,
     "base_uri": "https://localhost:8080/"
    },
    "id": "IA_V-jIQzyVu",
    "outputId": "5b442490-6618-4743-99c0-5b85328bf2c7"
   },
   "outputs": [
    {
     "name": "stdout",
     "output_type": "stream",
     "text": [
      "\u001b[1m 591/2199\u001b[0m \u001b[32m━━━━━\u001b[0m\u001b[37m━━━━━━━━━━━━━━━\u001b[0m \u001b[1m40s\u001b[0m 25ms/step - accuracy: 0.8927 - loss: 0.4256"
     ]
    },
    {
     "name": "stderr",
     "output_type": "stream",
     "text": [
      "/home/jangminoh_2/miniconda3/envs/ml-ops/lib/python3.12/site-packages/PIL/Image.py:1045: UserWarning: Palette images with Transparency expressed in bytes should be converted to RGBA images\n",
      "  warnings.warn(\n"
     ]
    },
    {
     "name": "stdout",
     "output_type": "stream",
     "text": [
      "\u001b[1m2199/2199\u001b[0m \u001b[32m━━━━━━━━━━━━━━━━━━━━\u001b[0m\u001b[37m\u001b[0m \u001b[1m48s\u001b[0m 22ms/step - accuracy: 0.7922 - loss: 0.5063\n",
      "Validation Accuracy: 68.85%\n",
      "[[0.27773878]]\n",
      "[[0.3094828]]\n",
      "[[0.3009565]]\n",
      "[[0.43508276]]\n",
      "[[0.28073093]]\n",
      "[[0.30745646]]\n",
      "[[0.29773855]]\n",
      "[[0.52349555]]\n",
      "[[0.49016538]]\n",
      "[[0.26853156]]\n",
      "[[0.37677735]]\n",
      "[[0.7025868]]\n",
      "[[0.2995064]]\n",
      "[[0.31534857]]\n",
      "[[0.26656035]]\n",
      "[[0.28475776]]\n",
      "[[0.2979376]]\n",
      "[[0.3426775]]\n",
      "[[0.27912802]]\n",
      "[[0.29004407]]\n",
      "[[0.575312]]\n",
      "[[0.29635182]]\n",
      "[[0.51488686]]\n",
      "[[0.26360312]]\n",
      "[[0.31976092]]\n",
      "[[0.48560506]]\n",
      "[[0.26292673]]\n",
      "[[0.19777253]]\n",
      "[[0.3510154]]\n",
      "[[0.2902288]]\n",
      "[[0.30523688]]\n",
      "[[0.3648185]]\n",
      "[[0.29025778]]\n",
      "[[0.31022343]]\n",
      "[[0.3248262]]\n",
      "[[0.32761055]]\n",
      "[[0.29017648]]\n",
      "[[0.5850602]]\n",
      "[[0.28982818]]\n",
      "[[0.22915709]]\n",
      "[[0.26905832]]\n",
      "[[0.345247]]\n",
      "[[0.33322614]]\n",
      "[[0.3019861]]\n",
      "[[0.2999452]]\n",
      "[[0.2589197]]\n",
      "[[0.28743377]]\n",
      "[[0.2809767]]\n",
      "[[0.66522247]]\n",
      "[[0.2929272]]\n",
      "[[0.42266643]]\n",
      "[[0.2808773]]\n",
      "[[0.28778914]]\n",
      "[[0.16359006]]\n",
      "[[0.34981352]]\n",
      "[[0.26498157]]\n",
      "[[0.41174266]]\n",
      "[[0.23810515]]\n",
      "[[0.30382094]]\n",
      "[[0.6363994]]\n",
      "[[0.29030332]]\n",
      "[[0.2793977]]\n",
      "[[0.31705046]]\n",
      "[[0.41900644]]\n",
      "[[0.1605046]]\n",
      "[[0.32311326]]\n",
      "[[0.20781174]]\n",
      "[[0.1475709]]\n",
      "[[0.30881256]]\n",
      "[[0.6333631]]\n",
      "[[0.38892993]]\n",
      "[[0.22760873]]\n"
     ]
    },
    {
     "ename": "KeyboardInterrupt",
     "evalue": "",
     "output_type": "error",
     "traceback": [
      "\u001b[0;31m---------------------------------------------------------------------------\u001b[0m",
      "\u001b[0;31mKeyboardInterrupt\u001b[0m                         Traceback (most recent call last)",
      "Cell \u001b[0;32mIn[11], line 17\u001b[0m\n\u001b[1;32m     15\u001b[0m \u001b[38;5;66;03m#validation dataset에 대해 예측 수행\u001b[39;00m\n\u001b[1;32m     16\u001b[0m \u001b[38;5;28;01mfor\u001b[39;00m images, labels \u001b[38;5;129;01min\u001b[39;00m val_dataset:\n\u001b[0;32m---> 17\u001b[0m     predictions \u001b[38;5;241m=\u001b[39m \u001b[43mmodel\u001b[49m\u001b[38;5;241;43m.\u001b[39;49m\u001b[43mpredict\u001b[49m\u001b[43m(\u001b[49m\u001b[43mimages\u001b[49m\u001b[43m,\u001b[49m\u001b[43m \u001b[49m\u001b[43mbatch_size\u001b[49m\u001b[38;5;241;43m=\u001b[39;49m\u001b[38;5;241;43m4\u001b[39;49m\u001b[43m,\u001b[49m\u001b[43m \u001b[49m\u001b[43mverbose\u001b[49m\u001b[38;5;241;43m=\u001b[39;49m\u001b[38;5;241;43m0\u001b[39;49m\u001b[43m)\u001b[49m\u001b[38;5;66;03m#로그 출력 생략verbose=0\u001b[39;00m\n\u001b[1;32m     18\u001b[0m     \u001b[38;5;28mprint\u001b[39m(predictions)\n\u001b[1;32m     19\u001b[0m     y_true\u001b[38;5;241m.\u001b[39mextend(labels)  \u001b[38;5;66;03m#실제 레이블\u001b[39;00m\n",
      "File \u001b[0;32m~/miniconda3/envs/ml-ops/lib/python3.12/site-packages/keras/src/utils/traceback_utils.py:117\u001b[0m, in \u001b[0;36mfilter_traceback.<locals>.error_handler\u001b[0;34m(*args, **kwargs)\u001b[0m\n\u001b[1;32m    115\u001b[0m filtered_tb \u001b[38;5;241m=\u001b[39m \u001b[38;5;28;01mNone\u001b[39;00m\n\u001b[1;32m    116\u001b[0m \u001b[38;5;28;01mtry\u001b[39;00m:\n\u001b[0;32m--> 117\u001b[0m     \u001b[38;5;28;01mreturn\u001b[39;00m \u001b[43mfn\u001b[49m\u001b[43m(\u001b[49m\u001b[38;5;241;43m*\u001b[39;49m\u001b[43margs\u001b[49m\u001b[43m,\u001b[49m\u001b[43m \u001b[49m\u001b[38;5;241;43m*\u001b[39;49m\u001b[38;5;241;43m*\u001b[39;49m\u001b[43mkwargs\u001b[49m\u001b[43m)\u001b[49m\n\u001b[1;32m    118\u001b[0m \u001b[38;5;28;01mexcept\u001b[39;00m \u001b[38;5;167;01mException\u001b[39;00m \u001b[38;5;28;01mas\u001b[39;00m e:\n\u001b[1;32m    119\u001b[0m     filtered_tb \u001b[38;5;241m=\u001b[39m _process_traceback_frames(e\u001b[38;5;241m.\u001b[39m__traceback__)\n",
      "File \u001b[0;32m~/miniconda3/envs/ml-ops/lib/python3.12/site-packages/keras/src/backend/tensorflow/trainer.py:559\u001b[0m, in \u001b[0;36mTensorFlowTrainer.predict\u001b[0;34m(self, x, batch_size, verbose, steps, callbacks)\u001b[0m\n\u001b[1;32m    557\u001b[0m outputs \u001b[38;5;241m=\u001b[39m \u001b[38;5;28;01mNone\u001b[39;00m\n\u001b[1;32m    558\u001b[0m \u001b[38;5;28;01mwith\u001b[39;00m epoch_iterator\u001b[38;5;241m.\u001b[39mcatch_stop_iteration():\n\u001b[0;32m--> 559\u001b[0m \u001b[43m    \u001b[49m\u001b[38;5;28;43;01mfor\u001b[39;49;00m\u001b[43m \u001b[49m\u001b[43mstep\u001b[49m\u001b[43m,\u001b[49m\u001b[43m \u001b[49m\u001b[43miterator\u001b[49m\u001b[43m \u001b[49m\u001b[38;5;129;43;01min\u001b[39;49;00m\u001b[43m \u001b[49m\u001b[43mepoch_iterator\u001b[49m\u001b[43m:\u001b[49m\n\u001b[1;32m    560\u001b[0m \u001b[43m        \u001b[49m\u001b[43mcallbacks\u001b[49m\u001b[38;5;241;43m.\u001b[39;49m\u001b[43mon_predict_batch_begin\u001b[49m\u001b[43m(\u001b[49m\u001b[43mstep\u001b[49m\u001b[43m)\u001b[49m\n\u001b[1;32m    561\u001b[0m \u001b[43m        \u001b[49m\u001b[43mdata\u001b[49m\u001b[43m \u001b[49m\u001b[38;5;241;43m=\u001b[39;49m\u001b[43m \u001b[49m\u001b[43mget_data\u001b[49m\u001b[43m(\u001b[49m\u001b[43miterator\u001b[49m\u001b[43m)\u001b[49m\n",
      "File \u001b[0;32m~/miniconda3/envs/ml-ops/lib/python3.12/site-packages/keras/src/backend/tensorflow/trainer.py:736\u001b[0m, in \u001b[0;36mTFEpochIterator.__next__\u001b[0;34m(self)\u001b[0m\n\u001b[1;32m    735\u001b[0m \u001b[38;5;28;01mdef\u001b[39;00m\u001b[38;5;250m \u001b[39m\u001b[38;5;21m__next__\u001b[39m(\u001b[38;5;28mself\u001b[39m):\n\u001b[0;32m--> 736\u001b[0m     \u001b[38;5;28;01mreturn\u001b[39;00m \u001b[38;5;28;43mnext\u001b[39;49m\u001b[43m(\u001b[49m\u001b[38;5;28;43mself\u001b[39;49m\u001b[38;5;241;43m.\u001b[39;49m\u001b[43m_epoch_iterator\u001b[49m\u001b[43m)\u001b[49m\n",
      "File \u001b[0;32m~/miniconda3/envs/ml-ops/lib/python3.12/site-packages/keras/src/trainers/epoch_iterator.py:112\u001b[0m, in \u001b[0;36mEpochIterator._enumerate_iterator\u001b[0;34m(self)\u001b[0m\n\u001b[1;32m    110\u001b[0m         \u001b[38;5;28;01myield\u001b[39;00m step, \u001b[38;5;28mself\u001b[39m\u001b[38;5;241m.\u001b[39m_current_iterator\n\u001b[1;32m    111\u001b[0m     \u001b[38;5;28;01mif\u001b[39;00m \u001b[38;5;28mself\u001b[39m\u001b[38;5;241m.\u001b[39m_num_batches \u001b[38;5;129;01mand\u001b[39;00m \u001b[38;5;28mself\u001b[39m\u001b[38;5;241m.\u001b[39m_steps_seen \u001b[38;5;241m>\u001b[39m\u001b[38;5;241m=\u001b[39m \u001b[38;5;28mself\u001b[39m\u001b[38;5;241m.\u001b[39m_num_batches:\n\u001b[0;32m--> 112\u001b[0m         \u001b[38;5;28mself\u001b[39m\u001b[38;5;241m.\u001b[39m_current_iterator \u001b[38;5;241m=\u001b[39m \u001b[38;5;28;43miter\u001b[39;49m\u001b[43m(\u001b[49m\u001b[38;5;28;43mself\u001b[39;49m\u001b[38;5;241;43m.\u001b[39;49m\u001b[43m_get_iterator\u001b[49m\u001b[43m(\u001b[49m\u001b[43m)\u001b[49m\u001b[43m)\u001b[49m\n\u001b[1;32m    113\u001b[0m         \u001b[38;5;28mself\u001b[39m\u001b[38;5;241m.\u001b[39m_steps_seen \u001b[38;5;241m=\u001b[39m \u001b[38;5;241m0\u001b[39m\n\u001b[1;32m    114\u001b[0m \u001b[38;5;28;01melse\u001b[39;00m:\n",
      "File \u001b[0;32m~/miniconda3/envs/ml-ops/lib/python3.12/site-packages/tensorflow/python/data/ops/dataset_ops.py:501\u001b[0m, in \u001b[0;36mDatasetV2.__iter__\u001b[0;34m(self)\u001b[0m\n\u001b[1;32m    499\u001b[0m \u001b[38;5;28;01mif\u001b[39;00m context\u001b[38;5;241m.\u001b[39mexecuting_eagerly() \u001b[38;5;129;01mor\u001b[39;00m ops\u001b[38;5;241m.\u001b[39minside_function():\n\u001b[1;32m    500\u001b[0m   \u001b[38;5;28;01mwith\u001b[39;00m ops\u001b[38;5;241m.\u001b[39mcolocate_with(\u001b[38;5;28mself\u001b[39m\u001b[38;5;241m.\u001b[39m_variant_tensor):\n\u001b[0;32m--> 501\u001b[0m     \u001b[38;5;28;01mreturn\u001b[39;00m \u001b[43miterator_ops\u001b[49m\u001b[38;5;241;43m.\u001b[39;49m\u001b[43mOwnedIterator\u001b[49m\u001b[43m(\u001b[49m\u001b[38;5;28;43mself\u001b[39;49m\u001b[43m)\u001b[49m\n\u001b[1;32m    502\u001b[0m \u001b[38;5;28;01melse\u001b[39;00m:\n\u001b[1;32m    503\u001b[0m   \u001b[38;5;28;01mraise\u001b[39;00m \u001b[38;5;167;01mRuntimeError\u001b[39;00m(\u001b[38;5;124m\"\u001b[39m\u001b[38;5;124m`tf.data.Dataset` only supports Python-style \u001b[39m\u001b[38;5;124m\"\u001b[39m\n\u001b[1;32m    504\u001b[0m                      \u001b[38;5;124m\"\u001b[39m\u001b[38;5;124miteration in eager mode or within tf.function.\u001b[39m\u001b[38;5;124m\"\u001b[39m)\n",
      "File \u001b[0;32m~/miniconda3/envs/ml-ops/lib/python3.12/site-packages/tensorflow/python/data/ops/iterator_ops.py:709\u001b[0m, in \u001b[0;36mOwnedIterator.__init__\u001b[0;34m(self, dataset, components, element_spec)\u001b[0m\n\u001b[1;32m    705\u001b[0m   \u001b[38;5;28;01mif\u001b[39;00m (components \u001b[38;5;129;01mis\u001b[39;00m \u001b[38;5;129;01mnot\u001b[39;00m \u001b[38;5;28;01mNone\u001b[39;00m \u001b[38;5;129;01mor\u001b[39;00m element_spec \u001b[38;5;129;01mis\u001b[39;00m \u001b[38;5;129;01mnot\u001b[39;00m \u001b[38;5;28;01mNone\u001b[39;00m):\n\u001b[1;32m    706\u001b[0m     \u001b[38;5;28;01mraise\u001b[39;00m \u001b[38;5;167;01mValueError\u001b[39;00m(\n\u001b[1;32m    707\u001b[0m         \u001b[38;5;124m\"\u001b[39m\u001b[38;5;124mWhen `dataset` is provided, `element_spec` and `components` must \u001b[39m\u001b[38;5;124m\"\u001b[39m\n\u001b[1;32m    708\u001b[0m         \u001b[38;5;124m\"\u001b[39m\u001b[38;5;124mnot be specified.\u001b[39m\u001b[38;5;124m\"\u001b[39m)\n\u001b[0;32m--> 709\u001b[0m   \u001b[38;5;28;43mself\u001b[39;49m\u001b[38;5;241;43m.\u001b[39;49m\u001b[43m_create_iterator\u001b[49m\u001b[43m(\u001b[49m\u001b[43mdataset\u001b[49m\u001b[43m)\u001b[49m\n\u001b[1;32m    711\u001b[0m \u001b[38;5;28mself\u001b[39m\u001b[38;5;241m.\u001b[39m_get_next_call_count \u001b[38;5;241m=\u001b[39m \u001b[38;5;241m0\u001b[39m\n",
      "File \u001b[0;32m~/miniconda3/envs/ml-ops/lib/python3.12/site-packages/tensorflow/python/data/ops/iterator_ops.py:748\u001b[0m, in \u001b[0;36mOwnedIterator._create_iterator\u001b[0;34m(self, dataset)\u001b[0m\n\u001b[1;32m    745\u001b[0m   \u001b[38;5;28;01massert\u001b[39;00m \u001b[38;5;28mlen\u001b[39m(fulltype\u001b[38;5;241m.\u001b[39margs[\u001b[38;5;241m0\u001b[39m]\u001b[38;5;241m.\u001b[39margs[\u001b[38;5;241m0\u001b[39m]\u001b[38;5;241m.\u001b[39margs) \u001b[38;5;241m==\u001b[39m \u001b[38;5;28mlen\u001b[39m(\n\u001b[1;32m    746\u001b[0m       \u001b[38;5;28mself\u001b[39m\u001b[38;5;241m.\u001b[39m_flat_output_types)\n\u001b[1;32m    747\u001b[0m   \u001b[38;5;28mself\u001b[39m\u001b[38;5;241m.\u001b[39m_iterator_resource\u001b[38;5;241m.\u001b[39mop\u001b[38;5;241m.\u001b[39mexperimental_set_type(fulltype)\n\u001b[0;32m--> 748\u001b[0m \u001b[43mgen_dataset_ops\u001b[49m\u001b[38;5;241;43m.\u001b[39;49m\u001b[43mmake_iterator\u001b[49m\u001b[43m(\u001b[49m\u001b[43mds_variant\u001b[49m\u001b[43m,\u001b[49m\u001b[43m \u001b[49m\u001b[38;5;28;43mself\u001b[39;49m\u001b[38;5;241;43m.\u001b[39;49m\u001b[43m_iterator_resource\u001b[49m\u001b[43m)\u001b[49m\n",
      "File \u001b[0;32m~/miniconda3/envs/ml-ops/lib/python3.12/site-packages/tensorflow/python/ops/gen_dataset_ops.py:3478\u001b[0m, in \u001b[0;36mmake_iterator\u001b[0;34m(dataset, iterator, name)\u001b[0m\n\u001b[1;32m   3476\u001b[0m \u001b[38;5;28;01mif\u001b[39;00m tld\u001b[38;5;241m.\u001b[39mis_eager:\n\u001b[1;32m   3477\u001b[0m   \u001b[38;5;28;01mtry\u001b[39;00m:\n\u001b[0;32m-> 3478\u001b[0m     _result \u001b[38;5;241m=\u001b[39m \u001b[43mpywrap_tfe\u001b[49m\u001b[38;5;241;43m.\u001b[39;49m\u001b[43mTFE_Py_FastPathExecute\u001b[49m\u001b[43m(\u001b[49m\n\u001b[1;32m   3479\u001b[0m \u001b[43m      \u001b[49m\u001b[43m_ctx\u001b[49m\u001b[43m,\u001b[49m\u001b[43m \u001b[49m\u001b[38;5;124;43m\"\u001b[39;49m\u001b[38;5;124;43mMakeIterator\u001b[39;49m\u001b[38;5;124;43m\"\u001b[39;49m\u001b[43m,\u001b[49m\u001b[43m \u001b[49m\u001b[43mname\u001b[49m\u001b[43m,\u001b[49m\u001b[43m \u001b[49m\u001b[43mdataset\u001b[49m\u001b[43m,\u001b[49m\u001b[43m \u001b[49m\u001b[43miterator\u001b[49m\u001b[43m)\u001b[49m\n\u001b[1;32m   3480\u001b[0m     \u001b[38;5;28;01mreturn\u001b[39;00m _result\n\u001b[1;32m   3481\u001b[0m   \u001b[38;5;28;01mexcept\u001b[39;00m _core\u001b[38;5;241m.\u001b[39m_NotOkStatusException \u001b[38;5;28;01mas\u001b[39;00m e:\n",
      "\u001b[0;31mKeyboardInterrupt\u001b[0m: "
     ]
    }
   ],
   "source": [
    "import numpy as np\n",
    "from sklearn.metrics import confusion_matrix\n",
    "import seaborn as sns\n",
    "\n",
    "model.trainable = False  # 모델을 평가 모드로 전환\n",
    "\n",
    "#모델 평가: validation dataset에 대한 정확도 계산\n",
    "val_loss, val_accuracy = model.evaluate(val_dataset)\n",
    "print(f\"Validation Accuracy: {val_accuracy * 100:.2f}%\")\n",
    "\n",
    "#예측 및 실제 레이블을 추출하여 Confusion Matrix 계산\n",
    "y_true = []\n",
    "y_pred = []\n",
    "\n",
    "#validation dataset에 대해 예측 수행\n",
    "for images, labels in val_dataset:\n",
    "    predictions = model.predict(images, batch_size=4, verbose=0)#로그 출력 생략verbose=0\n",
    "    print(predictions)\n",
    "    y_true.extend(labels)  #실제 레이블\n",
    "    y_pred.extend(np.round(predictions).astype(int))  #예측 레이블 (0 또는 1로 변환)\n",
    "\n",
    "#Confusion Matrix 계산\n",
    "cm = confusion_matrix(y_true, y_pred)\n",
    "\n",
    "#Confusion Matrix 시각화\n",
    "plt.figure(figsize=(6, 6))\n",
    "sns.heatmap(cm, annot=True, fmt='d', cmap='Blues', xticklabels=CONFIGURATION[\"CLASS_NAMES\"], yticklabels=CONFIGURATION[\"CLASS_NAMES\"])\n",
    "plt.xlabel('Predicted')\n",
    "plt.ylabel('True')\n",
    "plt.title('Confusion Matrix')\n",
    "plt.show()\n",
    "\n",
    "#Confusion Matrix 출력\n",
    "print(\"Confusion Matrix:\")\n",
    "print(cm)"
   ]
  },
  {
   "cell_type": "markdown",
   "metadata": {},
   "source": [
    "## 자체 데이터셋에 대하여 테스트"
   ]
  },
  {
   "cell_type": "markdown",
   "metadata": {},
   "source": [
    "### 데이터셋 준비"
   ]
  },
  {
   "cell_type": "code",
   "execution_count": 23,
   "metadata": {},
   "outputs": [],
   "source": [
    "# from PIL import Image\n",
    "# import os\n",
    "\n",
    "# MAX_PIXELS = 178956970  # 허용되는 최대 픽셀 크기 (Pillow 기본값)\n",
    "# VALID_EXTENSIONS = {\".jpg\", \".jpeg\", \".png\"}\n",
    "# def remove_invalid_images(directory):\n",
    "#     for root, _, files in os.walk(directory):\n",
    "#         for file in files:\n",
    "#             file_path = os.path.join(root, file)\n",
    "#             if not any(file.lower().endswith(ext) for ext in VALID_EXTENSIONS):\n",
    "#                 continue  # 유효한 확장자가 아니면 건너뜀\n",
    "#             try:\n",
    "#                 img = Image.open(file_path)\n",
    "#                 img.verify()  # 손상 여부 확인\n",
    "#                 if img.size[0] * img.size[1] > MAX_PIXELS:\n",
    "#                     print(f\"Removing oversized image: {file_path}\")\n",
    "#                     os.remove(file_path)\n",
    "#             except (IOError, SyntaxError, Image.DecompressionBombError):\n",
    "#                 print(f\"Removing invalid image: {file_path}\")\n",
    "#                 os.remove(file_path)\n",
    "\n",
    "# remove_invalid_images(fake_dir)\n",
    "# remove_invalid_images(real_dir)"
   ]
  },
  {
   "cell_type": "markdown",
   "metadata": {},
   "source": [
    "### 평가 수행"
   ]
  },
  {
   "cell_type": "code",
   "execution_count": 13,
   "metadata": {},
   "outputs": [],
   "source": [
    "import os\n",
    "import numpy as np\n",
    "import matplotlib.pyplot as plt\n",
    "import seaborn as sns\n",
    "from tensorflow.keras.models import load_model\n",
    "from tensorflow.keras.preprocessing.image import ImageDataGenerator\n",
    "from sklearn.metrics import confusion_matrix, classification_report\n",
    "\n",
    "# 데이터셋 경로\n",
    "dataset_dir = \"data/gen_without_envir\"\n",
    "fake_dir = \"data/gen_without_envir/fake\"\n",
    "real_dir = \"data/gen_without_envir/real\""
   ]
  },
  {
   "cell_type": "code",
   "execution_count": 14,
   "metadata": {},
   "outputs": [
    {
     "name": "stdout",
     "output_type": "stream",
     "text": [
      "Fake: 270, Real: 133\n"
     ]
    }
   ],
   "source": [
    "fake_count = len(os.listdir(fake_dir)) if os.path.exists(fake_dir) else 0\n",
    "real_count = len(os.listdir(real_dir)) if os.path.exists(real_dir) else 0\n",
    "\n",
    "print(f\"Fake: {fake_count}, Real: {real_count}\")"
   ]
  },
  {
   "cell_type": "code",
   "execution_count": null,
   "metadata": {},
   "outputs": [],
   "source": [
    "# # 모델 로드\n",
    "# model_path = \"model/model_v2.h5\"\n",
    "# model = load_model(model_path, compile=True)"
   ]
  },
  {
   "cell_type": "code",
   "execution_count": 15,
   "metadata": {},
   "outputs": [
    {
     "name": "stdout",
     "output_type": "stream",
     "text": [
      "Found 398 images belonging to 2 classes.\n"
     ]
    },
    {
     "name": "stderr",
     "output_type": "stream",
     "text": [
      "/home/jangminoh_2/miniconda3/envs/ml-ops/lib/python3.12/site-packages/keras/src/trainers/data_adapters/py_dataset_adapter.py:121: UserWarning: Your `PyDataset` class should call `super().__init__(**kwargs)` in its constructor. `**kwargs` can include `workers`, `use_multiprocessing`, `max_queue_size`. Do not pass these arguments to `fit()`, as they will be ignored.\n",
      "  self._warn_if_super_not_called()\n"
     ]
    },
    {
     "name": "stdout",
     "output_type": "stream",
     "text": [
      "\u001b[1m100/100\u001b[0m \u001b[32m━━━━━━━━━━━━━━━━━━━━\u001b[0m\u001b[37m\u001b[0m \u001b[1m28s\u001b[0m 167ms/step\n",
      "[[0.2593884 ]\n",
      " [0.2643706 ]\n",
      " [0.2597748 ]\n",
      " [0.25106254]\n",
      " [0.2778706 ]\n",
      " [0.29190007]\n",
      " [0.26488826]\n",
      " [0.23494296]\n",
      " [0.25624833]\n",
      " [0.26523662]\n",
      " [0.2617455 ]\n",
      " [0.26261187]\n",
      " [0.26047927]\n",
      " [0.25210288]\n",
      " [0.29454696]\n",
      " [0.28050372]\n",
      " [0.23876823]\n",
      " [0.24714874]\n",
      " [0.31030414]\n",
      " [0.28390372]\n",
      " [0.27981827]\n",
      " [0.2704158 ]\n",
      " [0.28469902]\n",
      " [0.20031196]\n",
      " [0.2581672 ]\n",
      " [0.2386112 ]\n",
      " [0.376414  ]\n",
      " [0.28817987]\n",
      " [0.26591226]\n",
      " [0.30923414]\n",
      " [0.2232232 ]\n",
      " [0.38425994]\n",
      " [0.65312195]\n",
      " [0.19212563]\n",
      " [0.3053092 ]\n",
      " [0.2909891 ]\n",
      " [0.2449692 ]\n",
      " [0.34326774]\n",
      " [0.286256  ]\n",
      " [0.19564396]\n",
      " [0.25067174]\n",
      " [0.20673501]\n",
      " [0.06632179]\n",
      " [0.22194734]\n",
      " [0.19699268]\n",
      " [0.36239162]\n",
      " [0.43503547]\n",
      " [0.29877034]\n",
      " [0.2870084 ]\n",
      " [0.48566568]\n",
      " [0.34616795]\n",
      " [0.30168173]\n",
      " [0.26425198]\n",
      " [0.27362022]\n",
      " [0.2782891 ]\n",
      " [0.30636704]\n",
      " [0.20246874]\n",
      " [0.49845448]\n",
      " [0.27431574]\n",
      " [0.26220053]\n",
      " [0.19902357]\n",
      " [0.2835689 ]\n",
      " [0.21158546]\n",
      " [0.24792096]\n",
      " [0.31617156]\n",
      " [0.6594473 ]\n",
      " [0.64335144]\n",
      " [0.2579614 ]\n",
      " [0.29282543]\n",
      " [0.2827894 ]\n",
      " [0.32716715]\n",
      " [0.22699809]\n",
      " [0.52764404]\n",
      " [0.27905363]\n",
      " [0.2572877 ]\n",
      " [0.2571391 ]\n",
      " [0.10972315]\n",
      " [0.32026097]\n",
      " [0.12648259]\n",
      " [0.2262893 ]\n",
      " [0.30096135]\n",
      " [0.20249571]\n",
      " [0.6059639 ]\n",
      " [0.34262857]\n",
      " [0.30900967]\n",
      " [0.34364134]\n",
      " [0.274055  ]\n",
      " [0.21882436]\n",
      " [0.6678673 ]\n",
      " [0.33274806]\n",
      " [0.6881705 ]\n",
      " [0.2943822 ]\n",
      " [0.160419  ]\n",
      " [0.31239998]\n",
      " [0.25363544]\n",
      " [0.6345118 ]\n",
      " [0.5749903 ]\n",
      " [0.30190188]\n",
      " [0.33928886]\n",
      " [0.27449822]\n",
      " [0.31696472]\n",
      " [0.22581159]\n",
      " [0.44669205]\n",
      " [0.25969532]\n",
      " [0.27068284]\n",
      " [0.3121128 ]\n",
      " [0.2557597 ]\n",
      " [0.31890073]\n",
      " [0.21867755]\n",
      " [0.2960889 ]\n",
      " [0.10988789]\n",
      " [0.24899986]\n",
      " [0.256575  ]\n",
      " [0.4147098 ]\n",
      " [0.2538875 ]\n",
      " [0.15075427]\n",
      " [0.31823292]\n",
      " [0.29278708]\n",
      " [0.24402559]\n",
      " [0.21423616]\n",
      " [0.3047819 ]\n",
      " [0.2858288 ]\n",
      " [0.29606912]\n",
      " [0.31161734]\n",
      " [0.25932628]\n",
      " [0.6336068 ]\n",
      " [0.29311356]\n",
      " [0.64546794]\n",
      " [0.34097004]\n",
      " [0.3234788 ]\n",
      " [0.28345826]\n",
      " [0.30864564]\n",
      " [0.6523485 ]\n",
      " [0.5750333 ]\n",
      " [0.63871646]\n",
      " [0.58398134]\n",
      " [0.21387468]\n",
      " [0.2943519 ]\n",
      " [0.25105524]\n",
      " [0.46755454]\n",
      " [0.25117674]\n",
      " [0.3274421 ]\n",
      " [0.34012175]\n",
      " [0.24207236]\n",
      " [0.18249029]\n",
      " [0.31850648]\n",
      " [0.6401859 ]\n",
      " [0.30045068]\n",
      " [0.31848544]\n",
      " [0.35420796]\n",
      " [0.4982093 ]\n",
      " [0.4177379 ]\n",
      " [0.23416696]\n",
      " [0.24564196]\n",
      " [0.2638111 ]\n",
      " [0.32768393]\n",
      " [0.2574288 ]\n",
      " [0.2359198 ]\n",
      " [0.22363067]\n",
      " [0.2254637 ]\n",
      " [0.2678914 ]\n",
      " [0.27309304]\n",
      " [0.2481792 ]\n",
      " [0.24648736]\n",
      " [0.26091567]\n",
      " [0.33065414]\n",
      " [0.3372066 ]\n",
      " [0.25850254]\n",
      " [0.27541968]\n",
      " [0.25335526]\n",
      " [0.25622475]\n",
      " [0.3071812 ]\n",
      " [0.25335526]\n",
      " [0.2851459 ]\n",
      " [0.29508016]\n",
      " [0.29377085]\n",
      " [0.26040652]\n",
      " [0.3004846 ]\n",
      " [0.33330268]\n",
      " [0.281151  ]\n",
      " [0.25731415]\n",
      " [0.29120183]\n",
      " [0.26867285]\n",
      " [0.28588748]\n",
      " [0.25850546]\n",
      " [0.45786145]\n",
      " [0.29366073]\n",
      " [0.27219912]\n",
      " [0.28279132]\n",
      " [0.29525298]\n",
      " [0.22693636]\n",
      " [0.26239   ]\n",
      " [0.24027419]\n",
      " [0.20783001]\n",
      " [0.17625134]\n",
      " [0.21407387]\n",
      " [0.19328843]\n",
      " [0.21332847]\n",
      " [0.1829931 ]\n",
      " [0.08799788]\n",
      " [0.2732848 ]\n",
      " [0.28494692]\n",
      " [0.43391815]\n",
      " [0.5349512 ]\n",
      " [0.37224773]\n",
      " [0.4622929 ]\n",
      " [0.29179806]\n",
      " [0.2565449 ]\n",
      " [0.30817315]\n",
      " [0.27277514]\n",
      " [0.2770963 ]\n",
      " [0.3948145 ]\n",
      " [0.32491195]\n",
      " [0.34603822]\n",
      " [0.29380554]\n",
      " [0.31258065]\n",
      " [0.30456474]\n",
      " [0.18146242]\n",
      " [0.20717756]\n",
      " [0.2568753 ]\n",
      " [0.17824054]\n",
      " [0.2864564 ]\n",
      " [0.3005776 ]\n",
      " [0.27750313]\n",
      " [0.20676255]\n",
      " [0.31321856]\n",
      " [0.31327978]\n",
      " [0.06291465]\n",
      " [0.2675016 ]\n",
      " [0.23550694]\n",
      " [0.38108316]\n",
      " [0.52531105]\n",
      " [0.32418466]\n",
      " [0.34707633]\n",
      " [0.28855443]\n",
      " [0.31508175]\n",
      " [0.60540056]\n",
      " [0.624226  ]\n",
      " [0.25129342]\n",
      " [0.22745678]\n",
      " [0.26317364]\n",
      " [0.268029  ]\n",
      " [0.27007157]\n",
      " [0.22151081]\n",
      " [0.29597405]\n",
      " [0.27061984]\n",
      " [0.29507256]\n",
      " [0.27138597]\n",
      " [0.2969345 ]\n",
      " [0.2014988 ]\n",
      " [0.39225608]\n",
      " [0.24496669]\n",
      " [0.23035885]\n",
      " [0.2679172 ]\n",
      " [0.24792342]\n",
      " [0.27571422]\n",
      " [0.26856643]\n",
      " [0.2883571 ]\n",
      " [0.25700387]\n",
      " [0.3602329 ]\n",
      " [0.3244081 ]\n",
      " [0.29458946]\n",
      " [0.2995343 ]\n",
      " [0.29433233]\n",
      " [0.25691476]\n",
      " [0.31688544]\n",
      " [0.235076  ]\n",
      " [0.20817035]\n",
      " [0.30221564]\n",
      " [0.32405025]\n",
      " [0.28081265]\n",
      " [0.24171464]\n",
      " [0.1832838 ]\n",
      " [0.5676723 ]\n",
      " [0.30734956]\n",
      " [0.26807126]\n",
      " [0.17303838]\n",
      " [0.2776123 ]\n",
      " [0.25152373]\n",
      " [0.32489312]\n",
      " [0.18942542]\n",
      " [0.27844313]\n",
      " [0.25208503]\n",
      " [0.27336818]\n",
      " [0.30469438]\n",
      " [0.4230944 ]\n",
      " [0.26700655]\n",
      " [0.4099779 ]\n",
      " [0.25018147]\n",
      " [0.3167019 ]\n",
      " [0.30036485]\n",
      " [0.278391  ]\n",
      " [0.3018966 ]\n",
      " [0.32851   ]\n",
      " [0.24643424]\n",
      " [0.2754125 ]\n",
      " [0.27947313]\n",
      " [0.40810174]\n",
      " [0.25727832]\n",
      " [0.28205955]\n",
      " [0.3160901 ]\n",
      " [0.22837165]\n",
      " [0.19504483]\n",
      " [0.26807377]\n",
      " [0.24428189]\n",
      " [0.32140133]\n",
      " [0.27013564]\n",
      " [0.25862032]\n",
      " [0.54896307]\n",
      " [0.24727035]\n",
      " [0.28751105]\n",
      " [0.3059232 ]\n",
      " [0.4805929 ]\n",
      " [0.27921483]\n",
      " [0.21485946]\n",
      " [0.55676687]\n",
      " [0.43797094]\n",
      " [0.27836233]\n",
      " [0.29663026]\n",
      " [0.28680933]\n",
      " [0.43943238]\n",
      " [0.5165869 ]\n",
      " [0.21674551]\n",
      " [0.29787397]\n",
      " [0.30565184]\n",
      " [0.2469334 ]\n",
      " [0.32089156]\n",
      " [0.5622372 ]\n",
      " [0.26083705]\n",
      " [0.35897344]\n",
      " [0.34176016]\n",
      " [0.30283764]\n",
      " [0.31738278]\n",
      " [0.26780877]\n",
      " [0.32237655]\n",
      " [0.29991397]\n",
      " [0.27594545]\n",
      " [0.27695668]\n",
      " [0.31569186]\n",
      " [0.3195957 ]\n",
      " [0.10126921]\n",
      " [0.28355393]\n",
      " [0.2855575 ]\n",
      " [0.22278656]\n",
      " [0.21311069]\n",
      " [0.269963  ]\n",
      " [0.26022196]\n",
      " [0.33936754]\n",
      " [0.33497584]\n",
      " [0.32148668]\n",
      " [0.30391502]\n",
      " [0.2481264 ]\n",
      " [0.2717969 ]\n",
      " [0.29642394]\n",
      " [0.24710943]\n",
      " [0.311403  ]\n",
      " [0.2709945 ]\n",
      " [0.5454087 ]\n",
      " [0.32357436]\n",
      " [0.37522307]\n",
      " [0.13985574]\n",
      " [0.28369975]\n",
      " [0.25610983]\n",
      " [0.2910356 ]\n",
      " [0.283662  ]\n",
      " [0.25580788]\n",
      " [0.29326633]\n",
      " [0.30812126]\n",
      " [0.28007093]\n",
      " [0.63580185]\n",
      " [0.28456393]\n",
      " [0.33834323]\n",
      " [0.31463304]\n",
      " [0.18280055]\n",
      " [0.525698  ]\n",
      " [0.31675923]\n",
      " [0.3134279 ]\n",
      " [0.3235416 ]\n",
      " [0.27207145]\n",
      " [0.2923575 ]\n",
      " [0.3282619 ]\n",
      " [0.3045245 ]\n",
      " [0.3071716 ]\n",
      " [0.3550123 ]\n",
      " [0.24069233]\n",
      " [0.20810689]\n",
      " [0.28328288]\n",
      " [0.5072599 ]\n",
      " [0.6208878 ]\n",
      " [0.22431554]\n",
      " [0.4199354 ]\n",
      " [0.29447538]\n",
      " [0.27267954]\n",
      " [0.2661294 ]\n",
      " [0.45326686]\n",
      " [0.27649415]\n",
      " [0.33098835]\n",
      " [0.28069404]]\n",
      "y_true length: 398\n",
      "y_pred length: 398\n",
      "Model Accuracy: 0.6533\n"
     ]
    },
    {
     "data": {
      "image/png": "[encoded data removed]",
      "text/plain": [
       "<Figure size 600x500 with 2 Axes>"
      ]
     },
     "metadata": {},
     "output_type": "display_data"
    },
    {
     "name": "stdout",
     "output_type": "stream",
     "text": [
      "\n",
      "Classification Report:\n",
      "              precision    recall  f1-score   support\n",
      "\n",
      "        fake       0.68      0.93      0.78       270\n",
      "        real       0.33      0.08      0.13       128\n",
      "\n",
      "    accuracy                           0.65       398\n",
      "   macro avg       0.51      0.50      0.46       398\n",
      "weighted avg       0.57      0.65      0.57       398\n",
      "\n"
     ]
    }
   ],
   "source": [
    "# 이미지 크기 및 배치 사이즈 설정\n",
    "img_size = (528, 528)  # EfficientNetB6의 입력 크기에 맞게 변경 가능\n",
    "batch_size = 4\n",
    "\n",
    "# 데이터 로더 설정 (test용)\n",
    "datagen = ImageDataGenerator(rescale=1./255)\n",
    "\n",
    "\n",
    "test_generator = datagen.flow_from_directory(\n",
    "    dataset_dir,\n",
    "    target_size=img_size,\n",
    "    batch_size=batch_size,\n",
    "    class_mode=\"binary\",  # 이진 분류 (fake vs real)\n",
    "    shuffle= False\n",
    ")\n",
    "\n",
    "# 실제 라벨 가져오기\n",
    "y_true = test_generator.classes  # 0: fake, 1: real\n",
    "#print(y_true)\n",
    "class_names = list(test_generator.class_indices.keys())\n",
    "#print(class_names) #['fake', 'real']\n",
    "#print(test_generator.class_indices)\n",
    "\n",
    "\n",
    "# 예측 수행 (전체 데이터에 대해 예측)\n",
    "y_pred_probs = model.predict(test_generator)  \n",
    "print(y_pred_probs)\n",
    "# 이진 분류 (0.5 이상이면 1, 아니면 0)\n",
    "y_pred = (y_pred_probs > 0.5).astype(int).flatten()\n",
    "\n",
    "# 크기 확인\n",
    "print(f\"y_true length: {len(y_true)}\")\n",
    "print(f\"y_pred length: {len(y_pred)}\")\n",
    "\n",
    "# 데이터 개수가 맞지 않으면 맞춰줌\n",
    "min_len = min(len(y_true), len(y_pred))\n",
    "y_true, y_pred = y_true[:min_len], y_pred[:min_len]\n",
    "\n",
    "# 정확도 출력\n",
    "accuracy = np.mean(y_pred == y_true)\n",
    "print(f\"Model Accuracy: {accuracy:.4f}\")\n",
    "\n",
    "# Confusion Matrix 생성\n",
    "cm = confusion_matrix(y_true, y_pred)\n",
    "plt.figure(figsize=(6, 5))\n",
    "sns.heatmap(cm, annot=True, fmt=\"d\", cmap=\"Blues\", xticklabels=class_names, yticklabels=class_names)\n",
    "plt.xlabel(\"Predicted Label\")\n",
    "plt.ylabel(\"True Label\")\n",
    "plt.title(\"Confusion Matrix\")\n",
    "plt.show()\n",
    "\n",
    "# 분류 보고서 출력\n",
    "print(\"\\nClassification Report:\")\n",
    "print(classification_report(y_true, y_pred, target_names=class_names))\n",
    "\n"
   ]
  },
  {
   "cell_type": "markdown",
   "metadata": {},
   "source": [
    "## 자체 환경 데이터셋 추가 후, 테스트"
   ]
  },
  {
   "cell_type": "markdown",
   "metadata": {
    "id": "0K7briMGE6eR"
   },
   "source": [
    "### 자체 데이터셋 준비"
   ]
  },
  {
   "cell_type": "code",
   "execution_count": 89,
   "metadata": {
    "id": "6vNY7vrjFl2t"
   },
   "outputs": [],
   "source": [
    "# import os\n",
    "# import unicodedata\n",
    "# from PIL import Image\n",
    "\n",
    "# # 이미지 경로 설정\n",
    "# dataset_dir = \"data/generated_dataset\"\n",
    "# fake_dir = os.path.join(dataset_dir, \"fake\")\n",
    "\n",
    "# # 파일명 정리 + 변환 함수\n",
    "# def clean_and_convert_images(directory):\n",
    "#     for filename in os.listdir(directory):\n",
    "#         # 유니코드 정규화 (한글 깨짐 방지)\n",
    "#         normalized_filename = unicodedata.normalize(\"NFC\", filename)\n",
    "#         new_filename = normalized_filename  # 기본 파일명 설정\n",
    "\n",
    "#         # \"의 사본\" 삭제\n",
    "#         if \"의 사본\" in new_filename:\n",
    "#             new_filename = new_filename.replace(\"의 사본\", \"\").strip()\n",
    "\n",
    "#         # 중복 확장자 제거 (예: .webp.webp → .webp)\n",
    "#         root, ext = os.path.splitext(new_filename)\n",
    "#         if root.endswith(ext):\n",
    "#             new_filename = root\n",
    "\n",
    "#         old_path = os.path.join(directory, filename)\n",
    "#         new_path = os.path.join(directory, new_filename)\n",
    "\n",
    "#         # 파일명이 변경되었을 경우만 수정\n",
    "#         if filename != new_filename:\n",
    "#             os.rename(old_path, new_path)\n",
    "#             print(f\"Renamed: {filename} -> {new_filename}\")\n",
    "#             old_path = new_path  # 변경된 파일명을 기반으로 다시 설정\n",
    "\n",
    "#         # 확장자가 .webp인 경우 .png로 변환\n",
    "#         if new_filename.endswith(\".webp\"):\n",
    "#             png_filename = new_filename.replace(\".webp\", \".png\")\n",
    "#             png_path = os.path.join(directory, png_filename)\n",
    "\n",
    "#             with Image.open(old_path) as img:\n",
    "#                 img.save(png_path, \"PNG\")  # PNG로 저장\n",
    "\n",
    "#             os.remove(old_path)  # 원본 .webp 파일 삭제\n",
    "#             print(f\"Converted: {new_filename} -> {png_filename}\")\n",
    "\n",
    "# # fake 디렉토리에서만 실행\n",
    "# clean_and_convert_images(fake_dir)\n",
    "\n",
    "# print(\"📂 fake 디렉토리 파일 정리 및 변환 완료! ✅\")\n"
   ]
  },
  {
   "cell_type": "code",
   "execution_count": 90,
   "metadata": {
    "id": "SkJax2NPDjHG"
   },
   "outputs": [],
   "source": [
    "# import os\n",
    "# from PIL import Image\n",
    "\n",
    "# # 이미지 경로 설정\n",
    "# dataset_dir = \"data/generated_dataset\"\n",
    "# fake_dir = os.path.join(dataset_dir, \"fake\")\n",
    "# real_dir = os.path.join(dataset_dir, \"real\")\n",
    "\n",
    "# # 변환 함수\n",
    "# def convert_webp_to_jpeg(directory):\n",
    "#     for filename in os.listdir(directory):\n",
    "#         if filename.endswith(\".webp\"):\n",
    "#             webp_path = os.path.join(directory, filename)\n",
    "#             jpeg_path = os.path.join(directory, filename.replace(\".webp\", \".jpeg\"))\n",
    "\n",
    "#             # 이미지 변환\n",
    "#             with Image.open(webp_path) as img:\n",
    "#                 img = img.convert(\"RGB\")  # RGB 모드로 변환\n",
    "#                 img.save(jpeg_path, \"JPEG\", quality=95)  # JPEG로 저장\n",
    "\n",
    "#             # 원본 webp 삭제\n",
    "#             os.remove(webp_path)\n",
    "#             print(f\"Converted and deleted: {webp_path}\")\n",
    "\n",
    "# # 각 디렉토리에서 변환 실행\n",
    "# convert_webp_to_jpeg(fake_dir)\n",
    "# convert_webp_to_jpeg(real_dir)\n",
    "\n",
    "# print(\"변환 완료!\")\n"
   ]
  },
  {
   "cell_type": "code",
   "execution_count": 16,
   "metadata": {
    "colab": {
     "base_uri": "https://localhost:8080/"
    },
    "executionInfo": {
     "elapsed": 1488,
     "status": "ok",
     "timestamp": 1740137750775,
     "user": {
      "displayName": "이하은",
      "userId": "06607701604719915973"
     },
     "user_tz": -540
    },
    "id": "mw_7TUhzC-g8",
    "outputId": "d69a26eb-1ac2-4a37-eef2-6bdeb02a52d9"
   },
   "outputs": [
    {
     "name": "stdout",
     "output_type": "stream",
     "text": [
      "Fake: 350, Real: 175\n"
     ]
    }
   ],
   "source": [
    "import os\n",
    "\n",
    "dataset_dir = \"data/generated_dataset/labeled\"\n",
    "fake_dir = os.path.join(dataset_dir, \"fake\")\n",
    "real_dir = os.path.join(dataset_dir, \"real\")\n",
    "\n",
    "fake_count = len(os.listdir(fake_dir)) if os.path.exists(fake_dir) else 0\n",
    "real_count = len(os.listdir(real_dir)) if os.path.exists(real_dir) else 0\n",
    "\n",
    "print(f\"Fake: {fake_count}, Real: {real_count}\")\n"
   ]
  },
  {
   "cell_type": "code",
   "execution_count": 148,
   "metadata": {
    "id": "BpgocXMOU6Uh"
   },
   "outputs": [],
   "source": [
    "# from PIL import Image\n",
    "# import os\n",
    "\n",
    "# MAX_PIXELS = 178956970  # 허용되는 최대 픽셀 크기 (Pillow 기본값)\n",
    "# VALID_EXTENSIONS = {\".jpg\", \".jpeg\", \".png\"}\n",
    "# def remove_invalid_images(directory):\n",
    "#     for root, _, files in os.walk(directory):\n",
    "#         for file in files:\n",
    "#             file_path = os.path.join(root, file)\n",
    "#             if not any(file.lower().endswith(ext) for ext in VALID_EXTENSIONS):\n",
    "#                 continue  # 유효한 확장자가 아니면 건너뜀\n",
    "#             try:\n",
    "#                 img = Image.open(file_path)\n",
    "#                 img.verify()  # 손상 여부 확인\n",
    "#                 if img.size[0] * img.size[1] > MAX_PIXELS:\n",
    "#                     print(f\"Removing oversized image: {file_path}\")\n",
    "#                     os.remove(file_path)\n",
    "#             except (IOError, SyntaxError, Image.DecompressionBombError):\n",
    "#                 print(f\"Removing invalid image: {file_path}\")\n",
    "#                 os.remove(file_path)\n",
    "\n",
    "# remove_invalid_images(fake_dir)\n",
    "# remove_invalid_images(real_dir)"
   ]
  },
  {
   "cell_type": "markdown",
   "metadata": {
    "id": "uAqmLRYiTtSR"
   },
   "source": [
    "### 자체데이터 평가 수행"
   ]
  },
  {
   "cell_type": "code",
   "execution_count": 17,
   "metadata": {
    "executionInfo": {
     "elapsed": 13,
     "status": "ok",
     "timestamp": 1740143978678,
     "user": {
      "displayName": "이하은",
      "userId": "06607701604719915973"
     },
     "user_tz": -540
    },
    "id": "FLRCxx5m_Hnb"
   },
   "outputs": [],
   "source": [
    "import os\n",
    "import numpy as np\n",
    "import matplotlib.pyplot as plt\n",
    "import seaborn as sns\n",
    "from tensorflow.keras.models import load_model\n",
    "from tensorflow.keras.preprocessing.image import ImageDataGenerator\n",
    "from sklearn.metrics import confusion_matrix, classification_report\n",
    "\n",
    "# 데이터셋 경로\n",
    "dataset_dir = \"data/generated_dataset/labeled\"\n",
    "fake_dir = \"data/generated_dataset/labeled/fake\"\n",
    "real_dir = \"data/generated_dataset/labeled/real\""
   ]
  },
  {
   "cell_type": "code",
   "execution_count": 18,
   "metadata": {
    "colab": {
     "base_uri": "https://localhost:8080/"
    },
    "executionInfo": {
     "elapsed": 34,
     "status": "ok",
     "timestamp": 1740143978730,
     "user": {
      "displayName": "이하은",
      "userId": "06607701604719915973"
     },
     "user_tz": -540
    },
    "id": "zMHYX4VgmnTl",
    "outputId": "0dc2eda6-0aa3-4cef-954c-8dbc5fa12248"
   },
   "outputs": [
    {
     "name": "stdout",
     "output_type": "stream",
     "text": [
      "Fake: 350, Real: 175\n"
     ]
    }
   ],
   "source": [
    "fake_count = len(os.listdir(fake_dir)) if os.path.exists(fake_dir) else 0\n",
    "real_count = len(os.listdir(real_dir)) if os.path.exists(real_dir) else 0\n",
    "\n",
    "print(f\"Fake: {fake_count}, Real: {real_count}\")"
   ]
  },
  {
   "cell_type": "code",
   "execution_count": null,
   "metadata": {
    "colab": {
     "base_uri": "https://localhost:8080/"
    },
    "executionInfo": {
     "elapsed": 4612,
     "status": "ok",
     "timestamp": 1740143097995,
     "user": {
      "displayName": "이하은",
      "userId": "06607701604719915973"
     },
     "user_tz": -540
    },
    "id": "3sYELdsPFDaE",
    "outputId": "21e2cdaa-6356-4fa3-a30d-2da4d6113ae9"
   },
   "outputs": [
    {
     "name": "stderr",
     "output_type": "stream",
     "text": [
      "WARNING:absl:Compiled the loaded model, but the compiled metrics have yet to be built. `model.compile_metrics` will be empty until you train or evaluate the model.\n"
     ]
    }
   ],
   "source": [
    "# # 모델 로드\n",
    "# model_path = \"model/model_v6.h5\"\n",
    "# model = load_model(model_path)"
   ]
  },
  {
   "cell_type": "code",
   "execution_count": 19,
   "metadata": {
    "colab": {
     "base_uri": "https://localhost:8080/",
     "height": 1000
    },
    "executionInfo": {
     "elapsed": 13833,
     "status": "ok",
     "timestamp": 1740144714670,
     "user": {
      "displayName": "이하은",
      "userId": "06607701604719915973"
     },
     "user_tz": -540
    },
    "id": "uPQw4aklTxvA",
    "outputId": "989f5859-0719-40a9-cea2-93f31923c2a0"
   },
   "outputs": [
    {
     "name": "stdout",
     "output_type": "stream",
     "text": [
      "Found 520 images belonging to 2 classes.\n"
     ]
    },
    {
     "name": "stderr",
     "output_type": "stream",
     "text": [
      "/home/jangminoh_2/miniconda3/envs/ml-ops/lib/python3.12/site-packages/keras/src/trainers/data_adapters/py_dataset_adapter.py:121: UserWarning: Your `PyDataset` class should call `super().__init__(**kwargs)` in its constructor. `**kwargs` can include `workers`, `use_multiprocessing`, `max_queue_size`. Do not pass these arguments to `fit()`, as they will be ignored.\n",
      "  self._warn_if_super_not_called()\n"
     ]
    },
    {
     "name": "stdout",
     "output_type": "stream",
     "text": [
      "\u001b[1m130/130\u001b[0m \u001b[32m━━━━━━━━━━━━━━━━━━━━\u001b[0m\u001b[37m\u001b[0m \u001b[1m8s\u001b[0m 59ms/step\n",
      "[[0.24510933]\n",
      " [0.30851737]\n",
      " [0.24880335]\n",
      " [0.28225836]\n",
      " [0.27727997]\n",
      " [0.2559583 ]\n",
      " [0.24026994]\n",
      " [0.28750908]\n",
      " [0.27064902]\n",
      " [0.27932665]\n",
      " [0.23816417]\n",
      " [0.28327972]\n",
      " [0.27818957]\n",
      " [0.28004882]\n",
      " [0.3046253 ]\n",
      " [0.32197928]\n",
      " [0.31922776]\n",
      " [0.30339074]\n",
      " [0.262812  ]\n",
      " [0.5832473 ]\n",
      " [0.32194248]\n",
      " [0.19743194]\n",
      " [0.318962  ]\n",
      " [0.32482314]\n",
      " [0.25858545]\n",
      " [0.2620967 ]\n",
      " [0.30546585]\n",
      " [0.2997366 ]\n",
      " [0.25235435]\n",
      " [0.29171047]\n",
      " [0.2593884 ]\n",
      " [0.2643706 ]\n",
      " [0.2597748 ]\n",
      " [0.25106254]\n",
      " [0.37617284]\n",
      " [0.39709038]\n",
      " [0.29719383]\n",
      " [0.32612544]\n",
      " [0.32510528]\n",
      " [0.29193848]\n",
      " [0.31106588]\n",
      " [0.2832211 ]\n",
      " [0.6064467 ]\n",
      " [0.6781459 ]\n",
      " [0.3297688 ]\n",
      " [0.3160876 ]\n",
      " [0.28052303]\n",
      " [0.3144583 ]\n",
      " [0.29578042]\n",
      " [0.31269708]\n",
      " [0.29191172]\n",
      " [0.3027934 ]\n",
      " [0.3156464 ]\n",
      " [0.2808424 ]\n",
      " [0.2569892 ]\n",
      " [0.29621342]\n",
      " [0.28518537]\n",
      " [0.32821536]\n",
      " [0.22668421]\n",
      " [0.36623448]\n",
      " [0.26185223]\n",
      " [0.22221978]\n",
      " [0.33597544]\n",
      " [0.28912756]\n",
      " [0.2778706 ]\n",
      " [0.29190007]\n",
      " [0.26488826]\n",
      " [0.23494296]\n",
      " [0.25624833]\n",
      " [0.6603744 ]\n",
      " [0.2925031 ]\n",
      " [0.46978748]\n",
      " [0.6791783 ]\n",
      " [0.3369849 ]\n",
      " [0.5697571 ]\n",
      " [0.6599134 ]\n",
      " [0.19794583]\n",
      " [0.62927496]\n",
      " [0.6930565 ]\n",
      " [0.28308862]\n",
      " [0.564131  ]\n",
      " [0.27454868]\n",
      " [0.6896943 ]\n",
      " [0.3010079 ]\n",
      " [0.31692848]\n",
      " [0.2706904 ]\n",
      " [0.5255792 ]\n",
      " [0.43489933]\n",
      " [0.32295632]\n",
      " [0.26523662]\n",
      " [0.2617455 ]\n",
      " [0.26261187]\n",
      " [0.26047927]\n",
      " [0.25210288]\n",
      " [0.29454696]\n",
      " [0.28050372]\n",
      " [0.23876823]\n",
      " [0.24714874]\n",
      " [0.31030414]\n",
      " [0.28390372]\n",
      " [0.27981827]\n",
      " [0.2704158 ]\n",
      " [0.28469902]\n",
      " [0.20031196]\n",
      " [0.2581672 ]\n",
      " [0.2386112 ]\n",
      " [0.376414  ]\n",
      " [0.28817987]\n",
      " [0.26591226]\n",
      " [0.30923414]\n",
      " [0.2232232 ]\n",
      " [0.38425994]\n",
      " [0.65312195]\n",
      " [0.19212563]\n",
      " [0.3053092 ]\n",
      " [0.2909891 ]\n",
      " [0.2449692 ]\n",
      " [0.34326774]\n",
      " [0.286256  ]\n",
      " [0.19564396]\n",
      " [0.25067174]\n",
      " [0.20673501]\n",
      " [0.06632179]\n",
      " [0.22194734]\n",
      " [0.19699268]\n",
      " [0.36239162]\n",
      " [0.43503547]\n",
      " [0.29877034]\n",
      " [0.2870084 ]\n",
      " [0.48566568]\n",
      " [0.34616795]\n",
      " [0.30168173]\n",
      " [0.26425198]\n",
      " [0.6523485 ]\n",
      " [0.5750333 ]\n",
      " [0.63871646]\n",
      " [0.58398134]\n",
      " [0.21387468]\n",
      " [0.2943519 ]\n",
      " [0.25105524]\n",
      " [0.27362022]\n",
      " [0.46755454]\n",
      " [0.25117674]\n",
      " [0.3274421 ]\n",
      " [0.34012175]\n",
      " [0.2782891 ]\n",
      " [0.30636704]\n",
      " [0.20246874]\n",
      " [0.49845448]\n",
      " [0.24207236]\n",
      " [0.18249029]\n",
      " [0.27431574]\n",
      " [0.26220053]\n",
      " [0.31850648]\n",
      " [0.6401859 ]\n",
      " [0.30045068]\n",
      " [0.31848544]\n",
      " [0.35420796]\n",
      " [0.4982093 ]\n",
      " [0.4177379 ]\n",
      " [0.19902357]\n",
      " [0.2835689 ]\n",
      " [0.23416696]\n",
      " [0.24564196]\n",
      " [0.21158546]\n",
      " [0.24792096]\n",
      " [0.2638111 ]\n",
      " [0.32768393]\n",
      " [0.2574288 ]\n",
      " [0.2359198 ]\n",
      " [0.22363067]\n",
      " [0.2254637 ]\n",
      " [0.31617156]\n",
      " [0.6594473 ]\n",
      " [0.2678914 ]\n",
      " [0.27309304]\n",
      " [0.2481792 ]\n",
      " [0.24648736]\n",
      " [0.26091567]\n",
      " [0.64335144]\n",
      " [0.2579614 ]\n",
      " [0.29282543]\n",
      " [0.2827894 ]\n",
      " [0.32716715]\n",
      " [0.33065414]\n",
      " [0.3372066 ]\n",
      " [0.22699809]\n",
      " [0.25850254]\n",
      " [0.27541968]\n",
      " [0.52764404]\n",
      " [0.27905363]\n",
      " [0.25335526]\n",
      " [0.25622475]\n",
      " [0.3071812 ]\n",
      " [0.25335526]\n",
      " [0.2851459 ]\n",
      " [0.29508016]\n",
      " [0.29377085]\n",
      " [0.26040652]\n",
      " [0.2572877 ]\n",
      " [0.2571391 ]\n",
      " [0.3004846 ]\n",
      " [0.33330268]\n",
      " [0.281151  ]\n",
      " [0.25731415]\n",
      " [0.29120183]\n",
      " [0.26867285]\n",
      " [0.10972315]\n",
      " [0.32026097]\n",
      " [0.12648259]\n",
      " [0.2262893 ]\n",
      " [0.30096135]\n",
      " [0.20249571]\n",
      " [0.28588748]\n",
      " [0.25850546]\n",
      " [0.45786145]\n",
      " [0.6059639 ]\n",
      " [0.34262857]\n",
      " [0.30900967]\n",
      " [0.34364134]\n",
      " [0.29366073]\n",
      " [0.27219912]\n",
      " [0.28279132]\n",
      " [0.29525298]\n",
      " [0.22693636]\n",
      " [0.26239   ]\n",
      " [0.24027419]\n",
      " [0.20783001]\n",
      " [0.17625134]\n",
      " [0.21407387]\n",
      " [0.19328843]\n",
      " [0.21332847]\n",
      " [0.1829931 ]\n",
      " [0.08799788]\n",
      " [0.2732848 ]\n",
      " [0.28494692]\n",
      " [0.274055  ]\n",
      " [0.43391815]\n",
      " [0.5349512 ]\n",
      " [0.37224773]\n",
      " [0.4622929 ]\n",
      " [0.21882436]\n",
      " [0.29179806]\n",
      " [0.2565449 ]\n",
      " [0.30817315]\n",
      " [0.27277514]\n",
      " [0.2770963 ]\n",
      " [0.6678673 ]\n",
      " [0.3948145 ]\n",
      " [0.32491195]\n",
      " [0.34603822]\n",
      " [0.33274806]\n",
      " [0.6881705 ]\n",
      " [0.29380554]\n",
      " [0.2943822 ]\n",
      " [0.31258065]\n",
      " [0.30456474]\n",
      " [0.18146242]\n",
      " [0.20717756]\n",
      " [0.2568753 ]\n",
      " [0.160419  ]\n",
      " [0.31239998]\n",
      " [0.17824054]\n",
      " [0.25363544]\n",
      " [0.2864564 ]\n",
      " [0.3005776 ]\n",
      " [0.6345118 ]\n",
      " [0.27750313]\n",
      " [0.20676255]\n",
      " [0.31321856]\n",
      " [0.31327978]\n",
      " [0.5749903 ]\n",
      " [0.06291465]\n",
      " [0.2675016 ]\n",
      " [0.23550694]\n",
      " [0.38108316]\n",
      " [0.52531105]\n",
      " [0.32418466]\n",
      " [0.34707633]\n",
      " [0.28855443]\n",
      " [0.31508175]\n",
      " [0.30190188]\n",
      " [0.33928886]\n",
      " [0.27449822]\n",
      " [0.60540056]\n",
      " [0.624226  ]\n",
      " [0.31696472]\n",
      " [0.22581159]\n",
      " [0.44669205]\n",
      " [0.25969532]\n",
      " [0.25129342]\n",
      " [0.22745678]\n",
      " [0.27068284]\n",
      " [0.3121128 ]\n",
      " [0.2557597 ]\n",
      " [0.31890073]\n",
      " [0.21867755]\n",
      " [0.2960889 ]\n",
      " [0.10988789]\n",
      " [0.24899986]\n",
      " [0.26317364]\n",
      " [0.268029  ]\n",
      " [0.256575  ]\n",
      " [0.4147098 ]\n",
      " [0.2538875 ]\n",
      " [0.15075427]\n",
      " [0.27007157]\n",
      " [0.22151081]\n",
      " [0.31823292]\n",
      " [0.29597405]\n",
      " [0.27061984]\n",
      " [0.29278708]\n",
      " [0.29507256]\n",
      " [0.24402559]\n",
      " [0.21423616]\n",
      " [0.3047819 ]\n",
      " [0.27138597]\n",
      " [0.2969345 ]\n",
      " [0.2858288 ]\n",
      " [0.29606912]\n",
      " [0.2014988 ]\n",
      " [0.39225608]\n",
      " [0.24496669]\n",
      " [0.23035885]\n",
      " [0.2679172 ]\n",
      " [0.24792342]\n",
      " [0.27571422]\n",
      " [0.26856643]\n",
      " [0.2883571 ]\n",
      " [0.25700387]\n",
      " [0.3602329 ]\n",
      " [0.3244081 ]\n",
      " [0.31161734]\n",
      " [0.25932628]\n",
      " [0.29458946]\n",
      " [0.2995343 ]\n",
      " [0.29433233]\n",
      " [0.25691476]\n",
      " [0.31688544]\n",
      " [0.6336068 ]\n",
      " [0.29311356]\n",
      " [0.235076  ]\n",
      " [0.20817035]\n",
      " [0.64546794]\n",
      " [0.34097004]\n",
      " [0.3234788 ]\n",
      " [0.28345826]\n",
      " [0.30221564]\n",
      " [0.32405025]\n",
      " [0.30864564]\n",
      " [0.28081265]\n",
      " [0.24171464]\n",
      " [0.1832838 ]\n",
      " [0.5676723 ]\n",
      " [0.30734956]\n",
      " [0.26807126]\n",
      " [0.17303838]\n",
      " [0.2776123 ]\n",
      " [0.25152373]\n",
      " [0.32489312]\n",
      " [0.18942542]\n",
      " [0.27844313]\n",
      " [0.25208503]\n",
      " [0.27336818]\n",
      " [0.30469438]\n",
      " [0.4230944 ]\n",
      " [0.26700655]\n",
      " [0.4099779 ]\n",
      " [0.25018147]\n",
      " [0.3167019 ]\n",
      " [0.30036485]\n",
      " [0.278391  ]\n",
      " [0.3018966 ]\n",
      " [0.32851   ]\n",
      " [0.24643424]\n",
      " [0.2754125 ]\n",
      " [0.27947313]\n",
      " [0.40810174]\n",
      " [0.25727832]\n",
      " [0.28205955]\n",
      " [0.3160901 ]\n",
      " [0.22837165]\n",
      " [0.19504483]\n",
      " [0.26807377]\n",
      " [0.24428189]\n",
      " [0.32140133]\n",
      " [0.27013564]\n",
      " [0.25862032]\n",
      " [0.54896307]\n",
      " [0.24727035]\n",
      " [0.28751105]\n",
      " [0.3059232 ]\n",
      " [0.4805929 ]\n",
      " [0.27921483]\n",
      " [0.21485946]\n",
      " [0.55676687]\n",
      " [0.43797094]\n",
      " [0.27836233]\n",
      " [0.29663026]\n",
      " [0.28680933]\n",
      " [0.43943238]\n",
      " [0.5165869 ]\n",
      " [0.21674551]\n",
      " [0.29787397]\n",
      " [0.30565184]\n",
      " [0.2469334 ]\n",
      " [0.32089156]\n",
      " [0.5622372 ]\n",
      " [0.26083705]\n",
      " [0.35897344]\n",
      " [0.34176016]\n",
      " [0.30283764]\n",
      " [0.31738278]\n",
      " [0.26780877]\n",
      " [0.32237655]\n",
      " [0.29991397]\n",
      " [0.27594545]\n",
      " [0.27695668]\n",
      " [0.31569186]\n",
      " [0.3195957 ]\n",
      " [0.10126921]\n",
      " [0.28355393]\n",
      " [0.2855575 ]\n",
      " [0.22278656]\n",
      " [0.21311069]\n",
      " [0.269963  ]\n",
      " [0.26022196]\n",
      " [0.33936754]\n",
      " [0.33497584]\n",
      " [0.32148668]\n",
      " [0.30391502]\n",
      " [0.2481264 ]\n",
      " [0.2717969 ]\n",
      " [0.29642394]\n",
      " [0.24710943]\n",
      " [0.311403  ]\n",
      " [0.2709945 ]\n",
      " [0.5454087 ]\n",
      " [0.32357436]\n",
      " [0.37522307]\n",
      " [0.13985574]\n",
      " [0.28369975]\n",
      " [0.25610983]\n",
      " [0.2910356 ]\n",
      " [0.283662  ]\n",
      " [0.61640286]\n",
      " [0.31142566]\n",
      " [0.61781615]\n",
      " [0.33729473]\n",
      " [0.4293124 ]\n",
      " [0.3226864 ]\n",
      " [0.30582243]\n",
      " [0.27671072]\n",
      " [0.31662574]\n",
      " [0.3175364 ]\n",
      " [0.6680056 ]\n",
      " [0.31411105]\n",
      " [0.33127132]\n",
      " [0.7136151 ]\n",
      " [0.5105118 ]\n",
      " [0.3194374 ]\n",
      " [0.31671166]\n",
      " [0.20273948]\n",
      " [0.29876465]\n",
      " [0.46045065]\n",
      " [0.213029  ]\n",
      " [0.3137727 ]\n",
      " [0.3320334 ]\n",
      " [0.25275087]\n",
      " [0.6689131 ]\n",
      " [0.5754089 ]\n",
      " [0.68993545]\n",
      " [0.36187986]\n",
      " [0.31622952]\n",
      " [0.71047515]\n",
      " [0.3845025 ]\n",
      " [0.5599381 ]\n",
      " [0.33651152]\n",
      " [0.27516183]\n",
      " [0.3100932 ]\n",
      " [0.31034535]\n",
      " [0.35259598]\n",
      " [0.27564895]\n",
      " [0.2769088 ]\n",
      " [0.5153695 ]\n",
      " [0.32144758]\n",
      " [0.36181816]\n",
      " [0.25580788]\n",
      " [0.29326633]\n",
      " [0.30812126]\n",
      " [0.28007093]\n",
      " [0.63580185]\n",
      " [0.28456393]\n",
      " [0.33834323]\n",
      " [0.31463304]\n",
      " [0.18280055]\n",
      " [0.525698  ]\n",
      " [0.31675923]\n",
      " [0.3134279 ]\n",
      " [0.3235416 ]\n",
      " [0.27207145]\n",
      " [0.2923575 ]\n",
      " [0.3282619 ]\n",
      " [0.3045245 ]\n",
      " [0.3071716 ]\n",
      " [0.3550123 ]\n",
      " [0.24069233]\n",
      " [0.20810689]\n",
      " [0.28328288]\n",
      " [0.5072599 ]\n",
      " [0.6208878 ]\n",
      " [0.22431554]\n",
      " [0.4199354 ]\n",
      " [0.29447538]\n",
      " [0.27267954]\n",
      " [0.2661294 ]\n",
      " [0.45326686]\n",
      " [0.27649415]\n",
      " [0.33098835]\n",
      " [0.28069404]]\n",
      "Model Accuracy: 0.6519\n"
     ]
    },
    {
     "data": {
      "image/png": "[encoded data removed]",
      "text/plain": [
       "<Figure size 600x500 with 2 Axes>"
      ]
     },
     "metadata": {},
     "output_type": "display_data"
    },
    {
     "name": "stdout",
     "output_type": "stream",
     "text": [
      "\n",
      "Classification Report:\n",
      "              precision    recall  f1-score   support\n",
      "\n",
      "        fake       0.68      0.91      0.78       350\n",
      "        real       0.40      0.12      0.19       170\n",
      "\n",
      "    accuracy                           0.65       520\n",
      "   macro avg       0.54      0.52      0.48       520\n",
      "weighted avg       0.59      0.65      0.59       520\n",
      "\n"
     ]
    }
   ],
   "source": [
    "# 이미지 크기 및 배치 사이즈 설정\n",
    "img_size = (528, 528)  # EfficientNetB6의 입력 크기에 맞게 변경 가능\n",
    "batch_size = 4\n",
    "\n",
    "# 데이터 로더 설정 (test용)\n",
    "datagen = ImageDataGenerator(rescale=1./255)\n",
    "\n",
    "\n",
    "test_generator = datagen.flow_from_directory(\n",
    "    dataset_dir,\n",
    "    target_size=img_size,\n",
    "    batch_size=batch_size,\n",
    "    class_mode=\"binary\",  # 이진 분류 (fake vs real)\n",
    "    shuffle= False\n",
    ")\n",
    "\n",
    "# 실제 라벨 가져오기\n",
    "y_true = test_generator.classes  # 0: fake, 1: real\n",
    "#print(y_true)\n",
    "class_names = list(test_generator.class_indices.keys())\n",
    "#print(class_names) #['fake', 'real']\n",
    "#print(test_generator.class_indices)\n",
    "\n",
    "# 예측 수행\n",
    "y_pred_probs = model.predict(test_generator, steps=test_generator.samples // batch_size)  # 확률값 출력\n",
    "print(y_pred_probs)\n",
    "y_pred = (y_pred_probs > 0.5).astype(int).flatten()  # 0.5 이상이면 1(real), 아니면 0(fake)\n",
    "\n",
    "# 정확도 출력\n",
    "accuracy = np.mean(y_pred == y_true)\n",
    "print(f\"Model Accuracy: {accuracy:.4f}\")\n",
    "\n",
    "# Confusion Matrix 생성\n",
    "cm = confusion_matrix(y_true, y_pred)\n",
    "\n",
    "# Confusion Matrix 시각화\n",
    "plt.figure(figsize=(6, 5))\n",
    "sns.heatmap(cm, annot=True, fmt=\"d\", cmap=\"Blues\", xticklabels=class_names, yticklabels=class_names)\n",
    "plt.xlabel(\"Predicted Label\")\n",
    "plt.ylabel(\"True Label\")\n",
    "plt.title(\"Confusion Matrix\")\n",
    "plt.show()\n",
    "\n",
    "# 분류 보고서 출력\n",
    "print(\"\\nClassification Report:\")\n",
    "print(classification_report(y_true, y_pred, target_names=class_names))\n"
   ]
  },
  {
   "cell_type": "markdown",
   "metadata": {
    "id": "S_HjFuO9AP1P"
   },
   "source": [
    "## 저장된 모델 로딩 -> 자체이미지 데이터셋에서 학습 후 이진분류"
   ]
  },
  {
   "cell_type": "code",
   "execution_count": 37,
   "metadata": {
    "id": "c5YN7zdVBFKd"
   },
   "outputs": [],
   "source": [
    "import os\n",
    "import shutil\n",
    "import random\n",
    "from sklearn.model_selection import train_test_split\n",
    "\n",
    "import tensorflow as tf\n",
    "from tensorflow.keras.models import load_model\n",
    "from tensorflow.keras.optimizers import Adam\n",
    "from tensorflow.keras.callbacks import EarlyStopping\n",
    "from tensorflow.keras import layers, regularizers\n",
    "import matplotlib.pyplot as plt\n",
    "\n",
    "import numpy as np\n",
    "from sklearn.metrics import confusion_matrix\n",
    "import seaborn as sns"
   ]
  },
  {
   "cell_type": "code",
   "execution_count": 39,
   "metadata": {
    "id": "GTyUnWEK7nhe"
   },
   "outputs": [],
   "source": [
    "train_dir = \"data/generated_dataset/train_new\"\n",
    "test_dir = \"data/generated_dataset/test_new\""
   ]
  },
  {
   "cell_type": "markdown",
   "metadata": {},
   "source": [
    "### train, test 데이터셋 준비"
   ]
  },
  {
   "cell_type": "code",
   "execution_count": null,
   "metadata": {
    "colab": {
     "base_uri": "https://localhost:8080/"
    },
    "executionInfo": {
     "elapsed": 58737,
     "status": "ok",
     "timestamp": 1739766445105,
     "user": {
      "displayName": "이하은",
      "userId": "06607701604719915973"
     },
     "user_tz": -540
    },
    "id": "hbJE2mnv2zNs",
    "outputId": "3cf3760f-6547-4aef-8d3e-d204a5c509d3"
   },
   "outputs": [
    {
     "name": "stdout",
     "output_type": "stream",
     "text": [
      "데이터셋 분할 완료!\n"
     ]
    }
   ],
   "source": [
    "# # 데이터 경로 (가정: images 폴더에 fake와 real 이미지들이 있음)\n",
    "# dataset_dir = \"data/generated_dataset\"\n",
    "# fake_dir = os.path.join(dataset_dir, \"fake\")\n",
    "# real_dir = os.path.join(dataset_dir, \"real\")\n",
    "\n",
    "# # Train-Test Split을 위한 디렉토리 생성\n",
    "# train_dir = \"data/generated_dataset/train_new\"\n",
    "# test_dir = \"data/generated_dataset/test_new\"\n",
    "# os.makedirs(train_dir, exist_ok=True)\n",
    "# os.makedirs(test_dir, exist_ok=True)\n",
    "\n",
    "# train_fake_dir = os.path.join(train_dir, \"fake\")\n",
    "# test_fake_dir = os.path.join(test_dir, \"fake\")\n",
    "# train_real_dir = os.path.join(train_dir, \"real\")\n",
    "# test_real_dir = os.path.join(test_dir, \"real\")\n",
    "\n",
    "# os.makedirs(train_fake_dir, exist_ok=True)\n",
    "# os.makedirs(test_fake_dir, exist_ok=True)\n",
    "# os.makedirs(train_real_dir, exist_ok=True)\n",
    "# os.makedirs(test_real_dir, exist_ok=True)\n",
    "\n",
    "# # 이미지 파일 리스트 가져오기\n",
    "# fake_files = [os.path.join(fake_dir, f) for f in os.listdir(fake_dir) if os.path.isfile(os.path.join(fake_dir, f))]\n",
    "# real_files = [os.path.join(real_dir, f) for f in os.listdir(real_dir) if os.path.isfile(os.path.join(real_dir, f))]\n",
    "\n",
    "# # train-test split (80% train, 20% test)\n",
    "# fake_train, fake_test = train_test_split(fake_files, test_size=0.2, random_state=42)\n",
    "# real_train, real_test = train_test_split(real_files, test_size=0.2, random_state=42)\n",
    "\n",
    "# # 파일 이동\n",
    "# for file in fake_train:\n",
    "#     shutil.copy(file, train_fake_dir)\n",
    "# for file in fake_test:\n",
    "#     shutil.copy(file, test_fake_dir)\n",
    "# for file in real_train:\n",
    "#     shutil.copy(file, train_real_dir)\n",
    "# for file in real_test:\n",
    "#     shutil.copy(file, test_real_dir)\n",
    "\n",
    "# print(\"데이터셋 분할 완료!\")\n"
   ]
  },
  {
   "cell_type": "code",
   "execution_count": null,
   "metadata": {
    "id": "c2qeVUPd5fiI"
   },
   "outputs": [],
   "source": [
    "# from PIL import Image\n",
    "# import os\n",
    "\n",
    "# MAX_PIXELS = 178956970  # 허용되는 최대 픽셀 크기 (Pillow 기본값)\n",
    "# VALID_EXTENSIONS = {\".jpg\", \".jpeg\", \".png\"}\n",
    "# def remove_invalid_images(directory):\n",
    "#     for root, _, files in os.walk(directory):\n",
    "#         for file in files:\n",
    "#             file_path = os.path.join(root, file)\n",
    "#             if not any(file.lower().endswith(ext) for ext in VALID_EXTENSIONS):\n",
    "#                 continue  # 유효한 확장자가 아니면 건너뜀\n",
    "#             try:\n",
    "#                 img = Image.open(file_path)\n",
    "#                 img.verify()  # 손상 여부 확인\n",
    "#                 if img.size[0] * img.size[1] > MAX_PIXELS:\n",
    "#                     print(f\"Removing oversized image: {file_path}\")\n",
    "#                     os.remove(file_path)\n",
    "#             except (IOError, SyntaxError, Image.DecompressionBombError):\n",
    "#                 print(f\"Removing invalid image: {file_path}\")\n",
    "#                 os.remove(file_path)\n",
    "\n",
    "# remove_invalid_images(train_dir)\n",
    "# remove_invalid_images(test_dir)"
   ]
  },
  {
   "cell_type": "code",
   "execution_count": 42,
   "metadata": {
    "colab": {
     "base_uri": "https://localhost:8080/"
    },
    "executionInfo": {
     "elapsed": 278,
     "status": "ok",
     "timestamp": 1739769130520,
     "user": {
      "displayName": "이하은",
      "userId": "06607701604719915973"
     },
     "user_tz": -540
    },
    "id": "ZEJ80mM-Jguv",
    "outputId": "588e7ea9-21e2-419e-b782-8c44273275e6"
   },
   "outputs": [
    {
     "name": "stdout",
     "output_type": "stream",
     "text": [
      "280 140 70 35\n",
      "Fake: 350, Real: 175\n"
     ]
    }
   ],
   "source": [
    "import os\n",
    "\n",
    "train_fake_dir = os.path.join(train_dir, \"fake\")\n",
    "train_real_dir = os.path.join(train_dir, \"real\")\n",
    "test_fake_dir = os.path.join(test_dir, \"fake\")\n",
    "test_real_dir = os.path.join(test_dir, \"real\")\n",
    "\n",
    "train_fake_count = len(os.listdir(train_fake_dir)) if os.path.exists(train_fake_dir) else 0\n",
    "train_real_count = len(os.listdir(train_real_dir)) if os.path.exists(train_real_dir) else 0\n",
    "test_fake_count = len(os.listdir(test_fake_dir)) if os.path.exists(test_fake_dir) else 0\n",
    "test_real_count = len(os.listdir(test_real_dir)) if os.path.exists(test_real_dir) else 0\n",
    "\n",
    "print(train_fake_count,train_real_count,test_fake_count,test_real_count )\n",
    "print(f\"Fake: {train_fake_count + test_fake_count}, Real: {train_real_count + test_real_count}\")\n"
   ]
  },
  {
   "cell_type": "markdown",
   "metadata": {},
   "source": [
    "### 학습"
   ]
  },
  {
   "cell_type": "code",
   "execution_count": 43,
   "metadata": {
    "colab": {
     "base_uri": "https://localhost:8080/"
    },
    "executionInfo": {
     "elapsed": 1316,
     "status": "ok",
     "timestamp": 1739768778725,
     "user": {
      "displayName": "이하은",
      "userId": "06607701604719915973"
     },
     "user_tz": -540
    },
    "id": "pdUAoptDSazp",
    "outputId": "48d93bac-4821-4dc1-d011-e8bcd24acf9a"
   },
   "outputs": [
    {
     "name": "stderr",
     "output_type": "stream",
     "text": [
      "WARNING:absl:Compiled the loaded model, but the compiled metrics have yet to be built. `model.compile_metrics` will be empty until you train or evaluate the model.\n"
     ]
    }
   ],
   "source": [
    "#저장된 EfficientNetB6 모델 로드\n",
    "model_path = \"model/model_v3.h5\"\n",
    "model = load_model(model_path)"
   ]
  },
  {
   "cell_type": "markdown",
   "metadata": {
    "id": "bH396jDqOtaV"
   },
   "source": []
  },
  {
   "cell_type": "code",
   "execution_count": 44,
   "metadata": {
    "id": "DVbTwxcMzyS_"
   },
   "outputs": [],
   "source": [
    "#하이퍼파라미터 설정\n",
    "CONFIGURATION = {\n",
    "    \"BATCH_SIZE\": 4,\n",
    "    \"IM_SIZE\": 528,  # EfficientNetB6의 입력 크기\n",
    "    \"LEARNING_RATE\": 1e-4,\n",
    "    \"N_EPOCHS\": 5,\n",
    "    \"DROPOUT_RATE\": 0.2,\n",
    "    \"REGULARIZATION_RATE\": 0.001,\n",
    "    \"N_DENSE_1\": 1024,\n",
    "    \"CLASS_NAMES\": [\"fake\", \"real\"]\n",
    "}\n",
    "\n",
    "n = 1\n",
    "for layer in model.layers[:-n]:\n",
    "    layer.trainable = False\n",
    "for layer in model.layers[-n:]:\n",
    "    layer.trainable = True"
   ]
  },
  {
   "cell_type": "code",
   "execution_count": 46,
   "metadata": {
    "colab": {
     "base_uri": "https://localhost:8080/",
     "height": 827
    },
    "executionInfo": {
     "elapsed": 223952,
     "status": "ok",
     "timestamp": 1739766780043,
     "user": {
      "displayName": "이하은",
      "userId": "06607701604719915973"
     },
     "user_tz": -540
    },
    "id": "cV4FGHa9vxLn",
    "outputId": "3b277583-c0f8-4648-ab88-70f8d4e31371"
   },
   "outputs": [
    {
     "name": "stdout",
     "output_type": "stream",
     "text": [
      "Found 415 images belonging to 2 classes.\n",
      "Found 105 images belonging to 2 classes.\n",
      "Epoch 1/5\n",
      "\u001b[1m104/104\u001b[0m \u001b[32m━━━━━━━━━━━━━━━━━━━━\u001b[0m\u001b[37m\u001b[0m \u001b[1m90s\u001b[0m 519ms/step - accuracy: 0.5630 - loss: 0.6904 - val_accuracy: 0.6667 - val_loss: 0.6712\n",
      "Epoch 2/5\n",
      "\u001b[1m104/104\u001b[0m \u001b[32m━━━━━━━━━━━━━━━━━━━━\u001b[0m\u001b[37m\u001b[0m \u001b[1m19s\u001b[0m 178ms/step - accuracy: 0.5132 - loss: 0.7032 - val_accuracy: 0.6667 - val_loss: 0.6660\n",
      "Epoch 3/5\n",
      "\u001b[1m104/104\u001b[0m \u001b[32m━━━━━━━━━━━━━━━━━━━━\u001b[0m\u001b[37m\u001b[0m \u001b[1m18s\u001b[0m 175ms/step - accuracy: 0.5862 - loss: 0.6741 - val_accuracy: 0.6667 - val_loss: 0.6611\n",
      "Epoch 4/5\n",
      "\u001b[1m104/104\u001b[0m \u001b[32m━━━━━━━━━━━━━━━━━━━━\u001b[0m\u001b[37m\u001b[0m \u001b[1m18s\u001b[0m 175ms/step - accuracy: 0.6440 - loss: 0.6676 - val_accuracy: 0.6667 - val_loss: 0.6582\n",
      "Epoch 5/5\n",
      "\u001b[1m104/104\u001b[0m \u001b[32m━━━━━━━━━━━━━━━━━━━━\u001b[0m\u001b[37m\u001b[0m \u001b[1m18s\u001b[0m 174ms/step - accuracy: 0.5711 - loss: 0.6904 - val_accuracy: 0.6667 - val_loss: 0.6547\n"
     ]
    },
    {
     "data": {
      "image/png": "[encoded data removed]",
      "text/plain": [
       "<Figure size 1000x600 with 1 Axes>"
      ]
     },
     "metadata": {},
     "output_type": "display_data"
    }
   ],
   "source": [
    "#데이터 증강 및 로드\n",
    "train_datagen = tf.keras.preprocessing.image.ImageDataGenerator(\n",
    "    rescale=1./255,\n",
    "    rotation_range=30,\n",
    "    width_shift_range=0.2,\n",
    "    height_shift_range=0.2,\n",
    "    shear_range=0.2,\n",
    "    zoom_range=0.2,\n",
    "    horizontal_flip=True,\n",
    "    fill_mode='nearest'\n",
    ")\n",
    "val_datagen = tf.keras.preprocessing.image.ImageDataGenerator(rescale=1./255)\n",
    "\n",
    "train_dataset = train_datagen.flow_from_directory(\n",
    "    train_dir,\n",
    "    target_size=(CONFIGURATION[\"IM_SIZE\"], CONFIGURATION[\"IM_SIZE\"]),\n",
    "    batch_size=CONFIGURATION[\"BATCH_SIZE\"],\n",
    "    class_mode='binary'\n",
    ")\n",
    "val_dataset = val_datagen.flow_from_directory(\n",
    "    test_dir,\n",
    "    target_size=(CONFIGURATION[\"IM_SIZE\"], CONFIGURATION[\"IM_SIZE\"]),\n",
    "    batch_size=CONFIGURATION[\"BATCH_SIZE\"],\n",
    "    class_mode='binary',\n",
    "    shuffle=False,\n",
    "    seed = 99\n",
    ")\n",
    "\n",
    "#모델 컴파일\n",
    "model.compile(optimizer=Adam(learning_rate=CONFIGURATION[\"LEARNING_RATE\"]),\n",
    "              loss='binary_crossentropy',\n",
    "              metrics=['accuracy'])\n",
    "\n",
    "#early_stopping = EarlyStopping(monitor='val_accuracy', patience=3, restore_best_weights=True)\n",
    "early_stopping = EarlyStopping(monitor='accuracy', patience=3, restore_best_weights=True)\n",
    "\n",
    "#모델 학습\n",
    "history = model.fit(\n",
    "    train_dataset,\n",
    "    validation_data=val_dataset,\n",
    "    epochs=CONFIGURATION[\"N_EPOCHS\"],\n",
    "    callbacks=[early_stopping],\n",
    "    verbose=1\n",
    ")\n",
    "\n",
    "#학습 과정 시각화\n",
    "plt.figure(figsize=(10, 6))\n",
    "plt.plot(history.history['loss'], label='Train Loss')\n",
    "plt.plot(history.history['val_loss'], label='Validation Loss')\n",
    "plt.title('Model Loss')\n",
    "plt.xlabel('Epochs')\n",
    "plt.ylabel('Loss')\n",
    "plt.legend()\n",
    "plt.show()"
   ]
  },
  {
   "cell_type": "code",
   "execution_count": null,
   "metadata": {
    "id": "b5jVtfYVYxMF"
   },
   "outputs": [],
   "source": [
    "#모델 저장}|\n",
    "model.save(\"/content/drive/MyDrive/Generative_AI/model/final_model_v1.keras\")"
   ]
  },
  {
   "cell_type": "code",
   "execution_count": null,
   "metadata": {
    "colab": {
     "base_uri": "https://localhost:8080/",
     "height": 391
    },
    "executionInfo": {
     "elapsed": 1841798,
     "status": "error",
     "timestamp": 1739768737551,
     "user": {
      "displayName": "이하은",
      "userId": "06607701604719915973"
     },
     "user_tz": -540
    },
    "id": "nISPcfzzpgs1",
    "outputId": "1e9f7b06-7fe4-496a-da21-8de78f1c6c63"
   },
   "outputs": [
    {
     "name": "stdout",
     "output_type": "stream",
     "text": [
      "\u001b[1m27/27\u001b[0m \u001b[32m━━━━━━━━━━━━━━━━━━━━\u001b[0m\u001b[37m\u001b[0m \u001b[1m2s\u001b[0m 50ms/step - accuracy: 0.9141 - loss: 0.5954\n",
      "Validation Accuracy: 66.67%\n"
     ]
    }
   ],
   "source": [
    "from sklearn.metrics import confusion_matrix\n",
    "import matplotlib.pyplot as plt\n",
    "import seaborn as sns\n",
    "import numpy as np\n",
    "\n",
    "# 모델 평가: Validation 데이터셋에 대한 정확도 계산\n",
    "val_loss, val_accuracy = model.evaluate(val_dataset)\n",
    "print(f\"Validation Accuracy: {val_accuracy * 100:.2f}%\")\n",
    "\n",
    "# 예측 및 실제 레이블 추출\n",
    "y_true = []\n",
    "y_pred = []\n",
    "\n",
    "# Validation 데이터셋에서 예측 수행\n",
    "for images, labels in val_dataset:\n",
    "    predictions = model.predict(images, verbose=0)  # 로그 출력 생략\n",
    "    y_true.extend(labels)  # 실제 레이블\n",
    "    y_pred.extend(np.round(predictions).flatten())  # 예측 레이블 (0 또는 1로 변환)\n",
    "\n",
    "# Confusion Matrix 계산\n",
    "cm = confusion_matrix(y_true, y_pred)\n",
    "\n",
    "# Confusion Matrix 시각화\n",
    "plt.figure(figsize=(6, 6))\n",
    "sns.heatmap(\n",
    "    cm,\n",
    "    annot=True,\n",
    "    fmt='d',\n",
    "    cmap='Blues',\n",
    "    xticklabels=CONFIGURATION[\"CLASS_NAMES\"],\n",
    "    yticklabels=CONFIGURATION[\"CLASS_NAMES\"],\n",
    ")\n",
    "plt.xlabel('Predicted')\n",
    "plt.ylabel('True')\n",
    "plt.title('Confusion Matrix')\n",
    "plt.show()\n",
    "\n",
    "# Confusion Matrix 출력\n",
    "print(\"Confusion Matrix:\")\n",
    "print(cm)\n"
   ]
  },
  {
   "cell_type": "code",
   "execution_count": null,
   "metadata": {
    "id": "MNNacRwEMBLV"
   },
   "outputs": [],
   "source": []
  }
 ],
 "metadata": {
  "accelerator": "GPU",
  "colab": {
   "gpuType": "T4",
   "provenance": [],
   "toc_visible": true
  },
  "kernelspec": {
   "display_name": "Python (ml-ops)",
   "language": "python",
   "name": "ml-ops"
  },
  "language_info": {
   "codemirror_mode": {
    "name": "ipython",
    "version": 3
   },
   "file_extension": ".py",
   "mimetype": "text/x-python",
   "name": "python",
   "nbconvert_exporter": "python",
   "pygments_lexer": "ipython3",
   "version": "3.12.9"
  }
 },
 "nbformat": 4,
 "nbformat_minor": 0
}
