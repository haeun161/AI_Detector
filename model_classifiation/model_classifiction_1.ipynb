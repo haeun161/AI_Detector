{
 "cells": [
  {
   "cell_type": "markdown",
   "metadata": {},
   "source": [
    "# 데이터 전처리"
   ]
  },
  {
   "cell_type": "code",
   "execution_count": 1,
   "metadata": {},
   "outputs": [],
   "source": [
    "# import os\n",
    "# import unicodedata\n",
    "# from PIL import Image\n",
    "\n",
    "# # 이미지 경로 설정\n",
    "# dataset_dir = \"/home/jangminoh_2/AI_Detector/data/GeneratedModel 분류/DALLE\"\n",
    "# fake_dir = os.path.join(dataset_dir, \"fake\")\n",
    "\n",
    "# # 파일명 정리 + 변환 함수\n",
    "# def clean_and_convert_images(directory):\n",
    "#     for filename in os.listdir(directory):\n",
    "#         # 유니코드 정규화 (한글 깨짐 방지)\n",
    "#         normalized_filename = unicodedata.normalize(\"NFC\", filename)\n",
    "#         new_filename = normalized_filename  # 기본 파일명 설정\n",
    "\n",
    "#         # \"의 사본\" 삭제\n",
    "#         if \"의 사본\" in new_filename:\n",
    "#             new_filename = new_filename.replace(\"의 사본\", \"\").strip()\n",
    "\n",
    "#         # 중복 확장자 제거 (예: .webp.webp → .webp)\n",
    "#         root, ext = os.path.splitext(new_filename)\n",
    "#         if root.endswith(ext):\n",
    "#             new_filename = root\n",
    "\n",
    "#         old_path = os.path.join(directory, filename)\n",
    "#         new_path = os.path.join(directory, new_filename)\n",
    "\n",
    "#         # 파일명이 변경되었을 경우만 수정\n",
    "#         if filename != new_filename:\n",
    "#             os.rename(old_path, new_path)\n",
    "#             print(f\"Renamed: {filename} -> {new_filename}\")\n",
    "#             old_path = new_path  # 변경된 파일명을 기반으로 다시 설정\n",
    "\n",
    "#         # 확장자가 .webp인 경우 .png로 변환\n",
    "#         if new_filename.endswith(\".webp\"):\n",
    "#             png_filename = new_filename.replace(\".webp\", \".png\")\n",
    "#             png_path = os.path.join(directory, png_filename)\n",
    "\n",
    "#             with Image.open(old_path) as img:\n",
    "#                 img.save(png_path, \"PNG\")  # PNG로 저장\n",
    "\n",
    "#             os.remove(old_path)  # 원본 .webp 파일 삭제\n",
    "#             print(f\"Converted: {new_filename} -> {png_filename}\")\n",
    "\n",
    "# # fake 디렉토리에서만 실행\n",
    "# clean_and_convert_images(fake_dir)\n",
    "\n",
    "# print(\"📂 fake 디렉토리 파일 정리 및 변환 완료! ✅\")\n"
   ]
  },
  {
   "cell_type": "markdown",
   "metadata": {},
   "source": [
    "# GPU 할당"
   ]
  },
  {
   "cell_type": "code",
   "execution_count": 1,
   "metadata": {},
   "outputs": [
    {
     "name": "stderr",
     "output_type": "stream",
     "text": [
      "2025-03-13 19:43:44.110657: E external/local_xla/xla/stream_executor/cuda/cuda_fft.cc:485] Unable to register cuFFT factory: Attempting to register factory for plugin cuFFT when one has already been registered\n",
      "2025-03-13 19:43:44.125746: E external/local_xla/xla/stream_executor/cuda/cuda_dnn.cc:8454] Unable to register cuDNN factory: Attempting to register factory for plugin cuDNN when one has already been registered\n",
      "2025-03-13 19:43:44.130515: E external/local_xla/xla/stream_executor/cuda/cuda_blas.cc:1452] Unable to register cuBLAS factory: Attempting to register factory for plugin cuBLAS when one has already been registered\n",
      "2025-03-13 19:43:44.146457: I tensorflow/core/platform/cpu_feature_guard.cc:210] This TensorFlow binary is optimized to use available CPU instructions in performance-critical operations.\n",
      "To enable the following instructions: AVX2 FMA, in other operations, rebuild TensorFlow with the appropriate compiler flags.\n",
      "2025-03-13 19:43:44.967619: W tensorflow/compiler/tf2tensorrt/utils/py_utils.cc:38] TF-TRT Warning: Could not find TensorRT\n"
     ]
    },
    {
     "name": "stdout",
     "output_type": "stream",
     "text": [
      "[LogicalDevice(name='/device:GPU:0', device_type='GPU')]\n"
     ]
    },
    {
     "name": "stderr",
     "output_type": "stream",
     "text": [
      "2025-03-13 19:43:46.463899: I tensorflow/core/common_runtime/gpu/gpu_device.cc:2021] Created device /job:localhost/replica:0/task:0/device:GPU:0 with 21746 MB memory:  -> device: 0, name: NVIDIA RTX A5000, pci bus id: 0000:01:00.0, compute capability: 8.6\n"
     ]
    }
   ],
   "source": [
    "import tensorflow as tf\n",
    "\n",
    "# GPU 0만 사용\n",
    "gpus = tf.config.experimental.list_physical_devices('GPU')\n",
    "if gpus:\n",
    "    try:\n",
    "        tf.config.experimental.set_visible_devices(gpus[0], 'GPU')  # GPU 0만 사용\n",
    "        tf.config.experimental.set_memory_growth(gpus[0], True)  # 메모리 동적 할당\n",
    "    except RuntimeError as e:\n",
    "        print(e)\n",
    "\n",
    "# TensorFlow에서 사용할 장치 확인\n",
    "print(tf.config.experimental.list_logical_devices('GPU'))\n"
   ]
  },
  {
   "cell_type": "markdown",
   "metadata": {},
   "source": [
    "# 필요한 라이브러리 로드"
   ]
  },
  {
   "cell_type": "code",
   "execution_count": 2,
   "metadata": {},
   "outputs": [],
   "source": [
    "import os\n",
    "import numpy as np\n",
    "import matplotlib.pyplot as plt\n",
    "import seaborn as sns\n",
    "from tensorflow.keras.models import load_model\n",
    "from tensorflow.keras.preprocessing.image import ImageDataGenerator\n",
    "from sklearn.metrics import confusion_matrix, classification_report"
   ]
  },
  {
   "cell_type": "markdown",
   "metadata": {},
   "source": [
    "# 모델 로드"
   ]
  },
  {
   "cell_type": "code",
   "execution_count": 3,
   "metadata": {},
   "outputs": [
    {
     "name": "stderr",
     "output_type": "stream",
     "text": [
      "WARNING:absl:Compiled the loaded model, but the compiled metrics have yet to be built. `model.compile_metrics` will be empty until you train or evaluate the model.\n"
     ]
    }
   ],
   "source": [
    "# 모델 로드\n",
    "model_path = \"/home/jangminoh_2/AI_Detector/model/model_v3.h5\"\n",
    "model = load_model(model_path)"
   ]
  },
  {
   "cell_type": "markdown",
   "metadata": {},
   "source": [
    "# DALLE"
   ]
  },
  {
   "cell_type": "code",
   "execution_count": 4,
   "metadata": {},
   "outputs": [],
   "source": [
    "# 데이터셋 경로\n",
    "dataset_dir = \"/home/jangminoh_2/AI_Detector/data/GeneratedModel 분류/DALLE\"\n",
    "fake_dir = \"/home/jangminoh_2/AI_Detector/data/GeneratedModel 분류/DALLE/fake\"\n",
    "real_dir = \"/home/jangminoh_2/AI_Detector/data/GeneratedModel 분류/DALLE/real\""
   ]
  },
  {
   "cell_type": "code",
   "execution_count": 5,
   "metadata": {},
   "outputs": [
    {
     "name": "stdout",
     "output_type": "stream",
     "text": [
      "Found 60 images belonging to 2 classes.\n"
     ]
    },
    {
     "name": "stderr",
     "output_type": "stream",
     "text": [
      "/home/jangminoh_2/miniconda3/envs/ml-ops/lib/python3.12/site-packages/keras/src/trainers/data_adapters/py_dataset_adapter.py:121: UserWarning: Your `PyDataset` class should call `super().__init__(**kwargs)` in its constructor. `**kwargs` can include `workers`, `use_multiprocessing`, `max_queue_size`. Do not pass these arguments to `fit()`, as they will be ignored.\n",
      "  self._warn_if_super_not_called()\n",
      "WARNING: All log messages before absl::InitializeLog() is called are written to STDERR\n",
      "I0000 00:00:1741862656.173544  563539 service.cc:146] XLA service 0x79d0a40035b0 initialized for platform CUDA (this does not guarantee that XLA will be used). Devices:\n",
      "I0000 00:00:1741862656.173607  563539 service.cc:154]   StreamExecutor device (0): NVIDIA RTX A5000, Compute Capability 8.6\n",
      "2025-03-13 19:44:16.321032: I tensorflow/compiler/mlir/tensorflow/utils/dump_mlir_util.cc:268] disabling MLIR crash reproducer, set env var `MLIR_CRASH_REPRODUCER_DIRECTORY` to enable.\n",
      "2025-03-13 19:44:17.338569: I external/local_xla/xla/stream_executor/cuda/cuda_dnn.cc:531] Loaded cuDNN version 8907\n",
      "2025-03-13 19:44:18.247331: I external/local_xla/xla/stream_executor/cuda/cuda_asm_compiler.cc:393] ptxas warning : Registers are spilled to local memory in function 'gemm_fusion_dot_2', 36 bytes spill stores, 36 bytes spill loads\n",
      "\n"
     ]
    },
    {
     "name": "stdout",
     "output_type": "stream",
     "text": [
      "\u001b[1m 5/60\u001b[0m \u001b[32m━\u001b[0m\u001b[37m━━━━━━━━━━━━━━━━━━━\u001b[0m \u001b[1m1s\u001b[0m 30ms/step "
     ]
    },
    {
     "name": "stderr",
     "output_type": "stream",
     "text": [
      "I0000 00:00:1741862666.445829  563539 device_compiler.h:188] Compiled cluster using XLA!  This line is logged at most once for the lifetime of the process.\n"
     ]
    },
    {
     "name": "stdout",
     "output_type": "stream",
     "text": [
      "\u001b[1m60/60\u001b[0m \u001b[32m━━━━━━━━━━━━━━━━━━━━\u001b[0m\u001b[37m\u001b[0m \u001b[1m15s\u001b[0m 32ms/step\n",
      "[[9.6006793e-01]\n",
      " [6.1268252e-01]\n",
      " [2.5480160e-01]\n",
      " [1.7865068e-01]\n",
      " [2.2910933e-01]\n",
      " [2.7599076e-02]\n",
      " [2.1411781e-01]\n",
      " [5.8820751e-03]\n",
      " [4.2488497e-01]\n",
      " [1.8031023e-01]\n",
      " [1.4547892e-04]\n",
      " [3.9972335e-01]\n",
      " [2.5491104e-01]\n",
      " [5.9185714e-01]\n",
      " [1.4294587e-01]\n",
      " [8.1720695e-02]\n",
      " [4.4718981e-01]\n",
      " [4.1074088e-01]\n",
      " [2.0765034e-02]\n",
      " [9.9301791e-01]\n",
      " [9.5421183e-01]\n",
      " [2.7787473e-02]\n",
      " [9.9256927e-01]\n",
      " [4.3190930e-02]\n",
      " [9.0152688e-02]\n",
      " [5.9983995e-02]\n",
      " [7.0478782e-02]\n",
      " [9.3618351e-01]\n",
      " [8.0540583e-02]\n",
      " [2.1526179e-01]\n",
      " [1.4181483e-02]\n",
      " [4.2077443e-01]\n",
      " [1.5389895e-01]\n",
      " [1.6432194e-01]\n",
      " [1.7605281e-01]\n",
      " [2.2583584e-04]\n",
      " [8.1535541e-02]\n",
      " [1.3677151e-03]\n",
      " [1.0387578e-01]\n",
      " [4.8939697e-02]\n",
      " [6.4477252e-05]\n",
      " [2.7808836e-01]\n",
      " [5.5719521e-02]\n",
      " [6.2547684e-01]\n",
      " [1.4417545e-01]\n",
      " [7.1886061e-03]\n",
      " [6.9100857e-02]\n",
      " [3.5413426e-01]\n",
      " [3.2014798e-02]\n",
      " [6.7911661e-01]\n",
      " [4.5580283e-01]\n",
      " [6.9817379e-02]\n",
      " [8.4259110e-03]\n",
      " [1.9510846e-01]\n",
      " [1.1574940e-01]\n",
      " [6.4783827e-03]\n",
      " [2.7022478e-01]\n",
      " [1.1173405e-01]\n",
      " [3.0870534e-02]\n",
      " [9.1543607e-02]]\n",
      "Model Accuracy: 0.8500\n"
     ]
    },
    {
     "data": {
      "image/png": "[encoded data removed]",
      "text/plain": [
       "<Figure size 600x500 with 2 Axes>"
      ]
     },
     "metadata": {},
     "output_type": "display_data"
    },
    {
     "name": "stdout",
     "output_type": "stream",
     "text": [
      "\n",
      "Classification Report:\n",
      "              precision    recall  f1-score   support\n",
      "\n",
      "        fake       1.00      0.85      0.92        60\n",
      "        real       0.00      0.00      0.00         0\n",
      "\n",
      "    accuracy                           0.85        60\n",
      "   macro avg       0.50      0.42      0.46        60\n",
      "weighted avg       1.00      0.85      0.92        60\n",
      "\n"
     ]
    },
    {
     "name": "stderr",
     "output_type": "stream",
     "text": [
      "/home/jangminoh_2/miniconda3/envs/ml-ops/lib/python3.12/site-packages/sklearn/metrics/_classification.py:1565: UndefinedMetricWarning: Recall is ill-defined and being set to 0.0 in labels with no true samples. Use `zero_division` parameter to control this behavior.\n",
      "  _warn_prf(average, modifier, f\"{metric.capitalize()} is\", len(result))\n",
      "/home/jangminoh_2/miniconda3/envs/ml-ops/lib/python3.12/site-packages/sklearn/metrics/_classification.py:1565: UndefinedMetricWarning: Recall is ill-defined and being set to 0.0 in labels with no true samples. Use `zero_division` parameter to control this behavior.\n",
      "  _warn_prf(average, modifier, f\"{metric.capitalize()} is\", len(result))\n",
      "/home/jangminoh_2/miniconda3/envs/ml-ops/lib/python3.12/site-packages/sklearn/metrics/_classification.py:1565: UndefinedMetricWarning: Recall is ill-defined and being set to 0.0 in labels with no true samples. Use `zero_division` parameter to control this behavior.\n",
      "  _warn_prf(average, modifier, f\"{metric.capitalize()} is\", len(result))\n"
     ]
    }
   ],
   "source": [
    "# 이미지 크기 및 배치 사이즈 설정\n",
    "img_size = (528, 528)  # EfficientNetB6의 입력 크기에 맞게 변경 가능\n",
    "batch_size = 1\n",
    "\n",
    "# 데이터 로더 설정 (test용)\n",
    "datagen = ImageDataGenerator(\n",
    "    preprocessing_function=tf.keras.applications.efficientnet.preprocess_input\n",
    ")\n",
    "\n",
    "test_generator = datagen.flow_from_directory(\n",
    "    dataset_dir,\n",
    "    target_size=img_size,\n",
    "    batch_size=batch_size,\n",
    "    class_mode=\"binary\",  # 이진 분류 (fake vs real)\n",
    "    shuffle= False\n",
    ")\n",
    "\n",
    "# 실제 라벨 가져오기\n",
    "y_true = test_generator.classes  # 0: fake, 1: real\n",
    "#print(y_true)\n",
    "class_names = list(test_generator.class_indices.keys())\n",
    "#print(class_names) #['fake', 'real']\n",
    "#print(test_generator.class_indices)\n",
    "\n",
    "# 예측 수행\n",
    "y_pred_probs = model.predict(test_generator, steps=test_generator.samples)  # 확률값 출력\n",
    "print(y_pred_probs)\n",
    "y_pred = (y_pred_probs > 0.5).astype(int).flatten()  # 0.5 이상이면 1(real), 아니면 0(fake)\n",
    "\n",
    "# 정확도 출력\n",
    "accuracy = np.mean(y_pred == y_true)\n",
    "print(f\"Model Accuracy: {accuracy:.4f}\")\n",
    "\n",
    "# Confusion Matrix 생성\n",
    "cm = confusion_matrix(y_true, y_pred)\n",
    "\n",
    "# Confusion Matrix 시각화\n",
    "plt.figure(figsize=(6, 5))\n",
    "sns.heatmap(cm, annot=True, fmt=\"d\", cmap=\"Blues\", xticklabels=class_names, yticklabels=class_names)\n",
    "plt.xlabel(\"Predicted Label\")\n",
    "plt.ylabel(\"True Label\")\n",
    "plt.title(\"Confusion Matrix\")\n",
    "plt.show()\n",
    "\n",
    "# 분류 보고서 출력\n",
    "print(\"\\nClassification Report:\")\n",
    "print(classification_report(y_true, y_pred, target_names=class_names))\n"
   ]
  },
  {
   "cell_type": "markdown",
   "metadata": {},
   "source": [
    "# Flamel"
   ]
  },
  {
   "cell_type": "code",
   "execution_count": 6,
   "metadata": {},
   "outputs": [],
   "source": [
    "# 데이터셋 경로\n",
    "dataset_dir = \"/home/jangminoh_2/AI_Detector/data/GeneratedModel 분류/Flamel\"\n",
    "fake_dir = \"/home/jangminoh_2/AI_Detector/data/GeneratedModel 분류/Flamel/fake\"\n",
    "real_dir = \"/home/jangminoh_2/AI_Detector/data/GeneratedModel 분류/Flamel/real\""
   ]
  },
  {
   "cell_type": "code",
   "execution_count": 7,
   "metadata": {},
   "outputs": [
    {
     "name": "stdout",
     "output_type": "stream",
     "text": [
      "Fake: 128, Real: 0\n"
     ]
    }
   ],
   "source": [
    "fake_count = len(os.listdir(fake_dir)) if os.path.exists(fake_dir) else 0\n",
    "real_count = len(os.listdir(real_dir)) if os.path.exists(real_dir) else 0\n",
    "\n",
    "print(f\"Fake: {fake_count}, Real: {real_count}\")"
   ]
  },
  {
   "cell_type": "code",
   "execution_count": 8,
   "metadata": {},
   "outputs": [
    {
     "name": "stdout",
     "output_type": "stream",
     "text": [
      "Found 128 images belonging to 2 classes.\n",
      "\u001b[1m  4/128\u001b[0m \u001b[37m━━━━━━━━━━━━━━━━━━━━\u001b[0m \u001b[1m2s\u001b[0m 23ms/step"
     ]
    },
    {
     "name": "stderr",
     "output_type": "stream",
     "text": [
      "/home/jangminoh_2/miniconda3/envs/ml-ops/lib/python3.12/site-packages/keras/src/trainers/data_adapters/py_dataset_adapter.py:121: UserWarning: Your `PyDataset` class should call `super().__init__(**kwargs)` in its constructor. `**kwargs` can include `workers`, `use_multiprocessing`, `max_queue_size`. Do not pass these arguments to `fit()`, as they will be ignored.\n",
      "  self._warn_if_super_not_called()\n"
     ]
    },
    {
     "name": "stdout",
     "output_type": "stream",
     "text": [
      "\u001b[1m128/128\u001b[0m \u001b[32m━━━━━━━━━━━━━━━━━━━━\u001b[0m\u001b[37m\u001b[0m \u001b[1m2s\u001b[0m 19ms/step\n",
      "[[6.80699766e-01]\n",
      " [9.30160403e-01]\n",
      " [4.19802405e-02]\n",
      " [3.31213593e-01]\n",
      " [9.57451701e-01]\n",
      " [8.44904244e-01]\n",
      " [2.09379897e-01]\n",
      " [9.44100857e-01]\n",
      " [9.34011102e-01]\n",
      " [9.90376770e-01]\n",
      " [9.08488750e-01]\n",
      " [8.88575912e-01]\n",
      " [9.94577646e-01]\n",
      " [9.90309536e-01]\n",
      " [9.46466863e-01]\n",
      " [5.93398333e-01]\n",
      " [8.76226783e-01]\n",
      " [1.76033616e-01]\n",
      " [8.49511147e-01]\n",
      " [4.71898735e-01]\n",
      " [4.78091449e-01]\n",
      " [9.07307744e-01]\n",
      " [9.01472747e-01]\n",
      " [7.94438183e-01]\n",
      " [8.05500507e-01]\n",
      " [7.55849302e-01]\n",
      " [2.32817337e-01]\n",
      " [8.19604993e-01]\n",
      " [7.17166483e-01]\n",
      " [7.33904958e-01]\n",
      " [4.08970535e-01]\n",
      " [5.88032156e-02]\n",
      " [2.31195688e-01]\n",
      " [9.75784004e-01]\n",
      " [8.90846431e-01]\n",
      " [2.95097619e-01]\n",
      " [5.13855875e-01]\n",
      " [1.23931795e-01]\n",
      " [8.91914219e-02]\n",
      " [9.85111773e-01]\n",
      " [1.14932628e-02]\n",
      " [1.10155024e-01]\n",
      " [2.83222586e-01]\n",
      " [4.14400667e-01]\n",
      " [1.66665792e-04]\n",
      " [9.70574319e-01]\n",
      " [3.76763120e-02]\n",
      " [6.93151534e-01]\n",
      " [1.46938980e-01]\n",
      " [2.69581765e-01]\n",
      " [9.59597230e-01]\n",
      " [3.39503527e-01]\n",
      " [3.47607464e-01]\n",
      " [3.65698367e-01]\n",
      " [7.74209574e-02]\n",
      " [9.66161668e-01]\n",
      " [2.27462798e-01]\n",
      " [2.87406087e-01]\n",
      " [7.35649467e-01]\n",
      " [5.20225102e-03]\n",
      " [9.31843281e-01]\n",
      " [9.50719059e-01]\n",
      " [4.15501416e-01]\n",
      " [1.29542619e-01]\n",
      " [4.53609526e-01]\n",
      " [3.69413644e-01]\n",
      " [1.01616994e-01]\n",
      " [2.84440249e-01]\n",
      " [7.55852163e-01]\n",
      " [9.91264224e-01]\n",
      " [8.95516753e-01]\n",
      " [9.08776939e-01]\n",
      " [1.20050961e-03]\n",
      " [9.60820762e-05]\n",
      " [8.11651826e-01]\n",
      " [7.99561560e-01]\n",
      " [8.12942907e-02]\n",
      " [9.58960652e-01]\n",
      " [1.45368949e-01]\n",
      " [3.68005037e-01]\n",
      " [3.26271385e-01]\n",
      " [9.28775966e-01]\n",
      " [3.17872375e-01]\n",
      " [3.69687885e-01]\n",
      " [4.75490391e-01]\n",
      " [1.84768111e-01]\n",
      " [6.28369972e-02]\n",
      " [9.89005923e-01]\n",
      " [5.97754400e-03]\n",
      " [9.27093804e-01]\n",
      " [2.18064457e-01]\n",
      " [1.80482432e-01]\n",
      " [1.97174817e-01]\n",
      " [9.76805296e-03]\n",
      " [2.36469924e-01]\n",
      " [8.26827884e-01]\n",
      " [4.10521507e-01]\n",
      " [7.49336720e-01]\n",
      " [1.47523761e-01]\n",
      " [6.21676326e-01]\n",
      " [1.38676703e-01]\n",
      " [8.59743714e-01]\n",
      " [3.12602222e-01]\n",
      " [2.25872830e-01]\n",
      " [2.05703288e-01]\n",
      " [1.11291893e-01]\n",
      " [5.27239079e-03]\n",
      " [7.02580586e-02]\n",
      " [8.40304121e-02]\n",
      " [2.84071509e-02]\n",
      " [8.14669907e-01]\n",
      " [5.54025844e-02]\n",
      " [8.68034422e-01]\n",
      " [3.72941315e-01]\n",
      " [2.96980236e-03]\n",
      " [1.75373465e-01]\n",
      " [1.73081141e-02]\n",
      " [6.19739413e-01]\n",
      " [7.44317174e-02]\n",
      " [1.46345899e-01]\n",
      " [6.38363138e-03]\n",
      " [7.36042738e-01]\n",
      " [6.38027370e-01]\n",
      " [3.05987120e-01]\n",
      " [8.47839653e-01]\n",
      " [3.77482525e-03]\n",
      " [9.70474839e-01]\n",
      " [2.66171575e-01]]\n",
      "Model Accuracy: 0.5703\n"
     ]
    },
    {
     "data": {
      "image/png": "[encoded data removed]",
      "text/plain": [
       "<Figure size 600x500 with 2 Axes>"
      ]
     },
     "metadata": {},
     "output_type": "display_data"
    },
    {
     "name": "stdout",
     "output_type": "stream",
     "text": [
      "\n",
      "Classification Report:\n",
      "              precision    recall  f1-score   support\n",
      "\n",
      "        fake       1.00      0.57      0.73       128\n",
      "        real       0.00      0.00      0.00         0\n",
      "\n",
      "    accuracy                           0.57       128\n",
      "   macro avg       0.50      0.29      0.36       128\n",
      "weighted avg       1.00      0.57      0.73       128\n",
      "\n"
     ]
    },
    {
     "name": "stderr",
     "output_type": "stream",
     "text": [
      "/home/jangminoh_2/miniconda3/envs/ml-ops/lib/python3.12/site-packages/sklearn/metrics/_classification.py:1565: UndefinedMetricWarning: Recall is ill-defined and being set to 0.0 in labels with no true samples. Use `zero_division` parameter to control this behavior.\n",
      "  _warn_prf(average, modifier, f\"{metric.capitalize()} is\", len(result))\n",
      "/home/jangminoh_2/miniconda3/envs/ml-ops/lib/python3.12/site-packages/sklearn/metrics/_classification.py:1565: UndefinedMetricWarning: Recall is ill-defined and being set to 0.0 in labels with no true samples. Use `zero_division` parameter to control this behavior.\n",
      "  _warn_prf(average, modifier, f\"{metric.capitalize()} is\", len(result))\n",
      "/home/jangminoh_2/miniconda3/envs/ml-ops/lib/python3.12/site-packages/sklearn/metrics/_classification.py:1565: UndefinedMetricWarning: Recall is ill-defined and being set to 0.0 in labels with no true samples. Use `zero_division` parameter to control this behavior.\n",
      "  _warn_prf(average, modifier, f\"{metric.capitalize()} is\", len(result))\n"
     ]
    }
   ],
   "source": [
    "# 이미지 크기 및 배치 사이즈 설정\n",
    "img_size = (528, 528)  # EfficientNetB6의 입력 크기에 맞게 변경 가능\n",
    "batch_size = 1\n",
    "\n",
    "# 데이터 로더 설정 (test용)\n",
    "datagen = ImageDataGenerator(\n",
    "    preprocessing_function=tf.keras.applications.efficientnet.preprocess_input\n",
    ")\n",
    "\n",
    "test_generator = datagen.flow_from_directory(\n",
    "    dataset_dir,\n",
    "    target_size=img_size,\n",
    "    batch_size=batch_size,\n",
    "    class_mode=\"binary\",  # 이진 분류 (fake vs real)\n",
    "    shuffle= False\n",
    ")\n",
    "\n",
    "# 실제 라벨 가져오기\n",
    "y_true = test_generator.classes  # 0: fake, 1: real\n",
    "#print(y_true)\n",
    "class_names = list(test_generator.class_indices.keys())\n",
    "#print(class_names) #['fake', 'real']\n",
    "#print(test_generator.class_indices)\n",
    "\n",
    "# 예측 수행\n",
    "y_pred_probs = model.predict(test_generator, steps=test_generator.samples)  # 확률값 출력\n",
    "print(y_pred_probs)\n",
    "y_pred = (y_pred_probs > 0.5).astype(int).flatten()  # 0.5 이상이면 1(real), 아니면 0(fake)\n",
    "\n",
    "# 정확도 출력\n",
    "accuracy = np.mean(y_pred == y_true)\n",
    "print(f\"Model Accuracy: {accuracy:.4f}\")\n",
    "\n",
    "# Confusion Matrix 생성\n",
    "cm = confusion_matrix(y_true, y_pred)\n",
    "\n",
    "# Confusion Matrix 시각화\n",
    "plt.figure(figsize=(6, 5))\n",
    "sns.heatmap(cm, annot=True, fmt=\"d\", cmap=\"Blues\", xticklabels=class_names, yticklabels=class_names)\n",
    "plt.xlabel(\"Predicted Label\")\n",
    "plt.ylabel(\"True Label\")\n",
    "plt.title(\"Confusion Matrix\")\n",
    "plt.show()\n",
    "\n",
    "# 분류 보고서 출력\n",
    "print(\"\\nClassification Report:\")\n",
    "print(classification_report(y_true, y_pred, target_names=class_names))\n"
   ]
  },
  {
   "cell_type": "markdown",
   "metadata": {},
   "source": [
    "# Midjourney"
   ]
  },
  {
   "cell_type": "code",
   "execution_count": 9,
   "metadata": {},
   "outputs": [],
   "source": [
    "# 데이터셋 경로\n",
    "dataset_dir = \"/home/jangminoh_2/AI_Detector/data/GeneratedModel 분류/Midjourney\"\n",
    "fake_dir = \"/home/jangminoh_2/AI_Detector/data/GeneratedModel 분류/Midjourney/fake\"\n",
    "real_dir = \"/home/jangminoh_2/AI_Detector/data/GeneratedModel 분류/Midjourney/real\""
   ]
  },
  {
   "cell_type": "code",
   "execution_count": 10,
   "metadata": {},
   "outputs": [
    {
     "name": "stdout",
     "output_type": "stream",
     "text": [
      "Fake: 132, Real: 0\n"
     ]
    }
   ],
   "source": [
    "fake_count = len(os.listdir(fake_dir)) if os.path.exists(fake_dir) else 0\n",
    "real_count = len(os.listdir(real_dir)) if os.path.exists(real_dir) else 0\n",
    "\n",
    "print(f\"Fake: {fake_count}, Real: {real_count}\")"
   ]
  },
  {
   "cell_type": "code",
   "execution_count": 11,
   "metadata": {},
   "outputs": [
    {
     "name": "stdout",
     "output_type": "stream",
     "text": [
      "Found 132 images belonging to 2 classes.\n",
      "\u001b[1m  1/132\u001b[0m \u001b[37m━━━━━━━━━━━━━━━━━━━━\u001b[0m \u001b[1m7s\u001b[0m 59ms/step"
     ]
    },
    {
     "name": "stdout",
     "output_type": "stream",
     "text": [
      "\u001b[1m  4/132\u001b[0m \u001b[37m━━━━━━━━━━━━━━━━━━━━\u001b[0m \u001b[1m2s\u001b[0m 20ms/step"
     ]
    },
    {
     "name": "stderr",
     "output_type": "stream",
     "text": [
      "/home/jangminoh_2/miniconda3/envs/ml-ops/lib/python3.12/site-packages/keras/src/trainers/data_adapters/py_dataset_adapter.py:121: UserWarning: Your `PyDataset` class should call `super().__init__(**kwargs)` in its constructor. `**kwargs` can include `workers`, `use_multiprocessing`, `max_queue_size`. Do not pass these arguments to `fit()`, as they will be ignored.\n",
      "  self._warn_if_super_not_called()\n"
     ]
    },
    {
     "name": "stdout",
     "output_type": "stream",
     "text": [
      "\u001b[1m132/132\u001b[0m \u001b[32m━━━━━━━━━━━━━━━━━━━━\u001b[0m\u001b[37m\u001b[0m \u001b[1m3s\u001b[0m 19ms/step\n",
      "[[7.40268603e-02]\n",
      " [9.78927910e-02]\n",
      " [7.82874405e-01]\n",
      " [8.18651140e-01]\n",
      " [2.05816790e-01]\n",
      " [5.24166405e-01]\n",
      " [2.33729899e-01]\n",
      " [2.45340452e-01]\n",
      " [2.59881586e-01]\n",
      " [2.69798726e-01]\n",
      " [4.32381332e-01]\n",
      " [4.80316460e-01]\n",
      " [3.93779606e-01]\n",
      " [8.01873267e-01]\n",
      " [8.08998644e-02]\n",
      " [2.54447013e-01]\n",
      " [9.20830250e-01]\n",
      " [6.74864173e-01]\n",
      " [3.41592103e-01]\n",
      " [9.64017093e-01]\n",
      " [5.15251309e-02]\n",
      " [5.82415499e-02]\n",
      " [1.08560145e-01]\n",
      " [7.33949095e-02]\n",
      " [3.41241509e-02]\n",
      " [1.42905489e-02]\n",
      " [2.64428072e-02]\n",
      " [2.71457117e-02]\n",
      " [7.66674280e-02]\n",
      " [9.99989867e-01]\n",
      " [9.99795020e-01]\n",
      " [4.44691122e-01]\n",
      " [1.75421074e-01]\n",
      " [8.21796834e-01]\n",
      " [4.44691122e-01]\n",
      " [7.67302334e-01]\n",
      " [9.45055902e-01]\n",
      " [1.07283793e-01]\n",
      " [1.09434001e-01]\n",
      " [3.42078432e-02]\n",
      " [4.93081175e-02]\n",
      " [1.20194796e-02]\n",
      " [3.59166833e-03]\n",
      " [1.43749025e-02]\n",
      " [2.51586828e-02]\n",
      " [2.13523507e-02]\n",
      " [8.41585100e-02]\n",
      " [8.02419558e-02]\n",
      " [9.34009999e-02]\n",
      " [9.68386233e-02]\n",
      " [2.57236153e-01]\n",
      " [1.10256024e-01]\n",
      " [8.09370726e-03]\n",
      " [1.95718184e-01]\n",
      " [2.09042609e-01]\n",
      " [4.70985830e-01]\n",
      " [9.33125708e-03]\n",
      " [3.45944911e-01]\n",
      " [5.37489727e-02]\n",
      " [3.17833163e-02]\n",
      " [6.86233565e-02]\n",
      " [9.61068496e-02]\n",
      " [7.20865577e-02]\n",
      " [4.36051525e-02]\n",
      " [1.92277476e-01]\n",
      " [1.75998971e-01]\n",
      " [1.29526109e-01]\n",
      " [6.07244521e-02]\n",
      " [2.42012665e-01]\n",
      " [9.23122764e-02]\n",
      " [1.70547739e-01]\n",
      " [2.15329558e-01]\n",
      " [1.74074933e-01]\n",
      " [1.39350533e-01]\n",
      " [1.22160032e-01]\n",
      " [9.54095602e-01]\n",
      " [9.91660893e-01]\n",
      " [9.81148064e-01]\n",
      " [3.57377648e-01]\n",
      " [9.50554371e-01]\n",
      " [9.98215318e-01]\n",
      " [4.76867780e-02]\n",
      " [9.72702742e-01]\n",
      " [7.85165250e-01]\n",
      " [8.93903255e-01]\n",
      " [9.71032977e-01]\n",
      " [7.65063822e-01]\n",
      " [7.76241958e-01]\n",
      " [8.14100266e-01]\n",
      " [9.84735966e-01]\n",
      " [9.04783130e-01]\n",
      " [8.44461918e-01]\n",
      " [5.93255162e-01]\n",
      " [2.37140551e-01]\n",
      " [5.78669012e-01]\n",
      " [9.89289701e-01]\n",
      " [3.79591078e-01]\n",
      " [8.18246827e-02]\n",
      " [9.90966976e-01]\n",
      " [9.96764183e-01]\n",
      " [3.25738251e-01]\n",
      " [9.10903513e-01]\n",
      " [1.69858590e-01]\n",
      " [4.78252232e-01]\n",
      " [3.13350797e-01]\n",
      " [5.39810896e-01]\n",
      " [9.73033786e-01]\n",
      " [8.12066972e-01]\n",
      " [3.25749457e-01]\n",
      " [7.65951931e-01]\n",
      " [7.49967277e-01]\n",
      " [1.85118616e-02]\n",
      " [1.40791222e-01]\n",
      " [1.66775435e-01]\n",
      " [5.20834513e-02]\n",
      " [8.37284029e-01]\n",
      " [4.46842015e-01]\n",
      " [8.13849986e-01]\n",
      " [9.89877284e-01]\n",
      " [8.76909018e-01]\n",
      " [9.76662636e-01]\n",
      " [3.68334234e-01]\n",
      " [8.19485486e-01]\n",
      " [9.98046041e-01]\n",
      " [9.51527059e-02]\n",
      " [5.33050759e-08]\n",
      " [2.91992701e-03]\n",
      " [9.70640872e-03]\n",
      " [1.16327025e-01]\n",
      " [9.05241847e-01]\n",
      " [3.06237340e-01]\n",
      " [4.78741620e-03]]\n",
      "Model Accuracy: 0.6515\n"
     ]
    },
    {
     "data": {
      "image/png": "[encoded data removed]",
      "text/plain": [
       "<Figure size 600x500 with 2 Axes>"
      ]
     },
     "metadata": {},
     "output_type": "display_data"
    },
    {
     "name": "stdout",
     "output_type": "stream",
     "text": [
      "\n",
      "Classification Report:\n",
      "              precision    recall  f1-score   support\n",
      "\n",
      "        fake       1.00      0.65      0.79       132\n",
      "        real       0.00      0.00      0.00         0\n",
      "\n",
      "    accuracy                           0.65       132\n",
      "   macro avg       0.50      0.33      0.39       132\n",
      "weighted avg       1.00      0.65      0.79       132\n",
      "\n"
     ]
    },
    {
     "name": "stderr",
     "output_type": "stream",
     "text": [
      "/home/jangminoh_2/miniconda3/envs/ml-ops/lib/python3.12/site-packages/sklearn/metrics/_classification.py:1565: UndefinedMetricWarning: Recall is ill-defined and being set to 0.0 in labels with no true samples. Use `zero_division` parameter to control this behavior.\n",
      "  _warn_prf(average, modifier, f\"{metric.capitalize()} is\", len(result))\n",
      "/home/jangminoh_2/miniconda3/envs/ml-ops/lib/python3.12/site-packages/sklearn/metrics/_classification.py:1565: UndefinedMetricWarning: Recall is ill-defined and being set to 0.0 in labels with no true samples. Use `zero_division` parameter to control this behavior.\n",
      "  _warn_prf(average, modifier, f\"{metric.capitalize()} is\", len(result))\n",
      "/home/jangminoh_2/miniconda3/envs/ml-ops/lib/python3.12/site-packages/sklearn/metrics/_classification.py:1565: UndefinedMetricWarning: Recall is ill-defined and being set to 0.0 in labels with no true samples. Use `zero_division` parameter to control this behavior.\n",
      "  _warn_prf(average, modifier, f\"{metric.capitalize()} is\", len(result))\n"
     ]
    }
   ],
   "source": [
    "# 이미지 크기 및 배치 사이즈 설정\n",
    "img_size = (528, 528)  # EfficientNetB6의 입력 크기에 맞게 변경 가능\n",
    "batch_size = 1\n",
    "\n",
    "# 데이터 로더 설정 (test용)\n",
    "datagen = ImageDataGenerator(\n",
    "    preprocessing_function=tf.keras.applications.efficientnet.preprocess_input\n",
    ")\n",
    "\n",
    "test_generator = datagen.flow_from_directory(\n",
    "    dataset_dir,\n",
    "    target_size=img_size,\n",
    "    batch_size=batch_size,\n",
    "    class_mode=\"binary\",  # 이진 분류 (fake vs real)\n",
    "    shuffle= False\n",
    ")\n",
    "\n",
    "# 실제 라벨 가져오기\n",
    "y_true = test_generator.classes  # 0: fake, 1: real\n",
    "#print(y_true)\n",
    "class_names = list(test_generator.class_indices.keys())\n",
    "#print(class_names) #['fake', 'real']\n",
    "#print(test_generator.class_indices)\n",
    "\n",
    "# 예측 수행\n",
    "y_pred_probs = model.predict(test_generator, steps=test_generator.samples)  # 확률값 출력\n",
    "print(y_pred_probs)\n",
    "y_pred = (y_pred_probs > 0.5).astype(int).flatten()  # 0.5 이상이면 1(real), 아니면 0(fake)\n",
    "\n",
    "# 정확도 출력\n",
    "accuracy = np.mean(y_pred == y_true)\n",
    "print(f\"Model Accuracy: {accuracy:.4f}\")\n",
    "\n",
    "# Confusion Matrix 생성\n",
    "cm = confusion_matrix(y_true, y_pred)\n",
    "\n",
    "# Confusion Matrix 시각화\n",
    "plt.figure(figsize=(6, 5))\n",
    "sns.heatmap(cm, annot=True, fmt=\"d\", cmap=\"Blues\", xticklabels=class_names, yticklabels=class_names)\n",
    "plt.xlabel(\"Predicted Label\")\n",
    "plt.ylabel(\"True Label\")\n",
    "plt.title(\"Confusion Matrix\")\n",
    "plt.show()\n",
    "\n",
    "# 분류 보고서 출력\n",
    "print(\"\\nClassification Report:\")\n",
    "print(classification_report(y_true, y_pred, target_names=class_names))"
   ]
  },
  {
   "cell_type": "markdown",
   "metadata": {},
   "source": [
    "# StableDiffusion"
   ]
  },
  {
   "cell_type": "code",
   "execution_count": 12,
   "metadata": {},
   "outputs": [],
   "source": [
    "# 데이터셋 경로\n",
    "dataset_dir = \"/home/jangminoh_2/AI_Detector/data/GeneratedModel 분류/StableDiffusion\"\n",
    "fake_dir = \"/home/jangminoh_2/AI_Detector/data/GeneratedModel 분류/StableDiffusion/fake\"\n",
    "real_dir = \"/home/jangminoh_2/AI_Detector/data/GeneratedModel 분류/StableDiffusion/real\""
   ]
  },
  {
   "cell_type": "code",
   "execution_count": 13,
   "metadata": {},
   "outputs": [
    {
     "name": "stdout",
     "output_type": "stream",
     "text": [
      "Fake: 20, Real: 0\n"
     ]
    }
   ],
   "source": [
    "fake_count = len(os.listdir(fake_dir)) if os.path.exists(fake_dir) else 0\n",
    "real_count = len(os.listdir(real_dir)) if os.path.exists(real_dir) else 0\n",
    "\n",
    "print(f\"Fake: {fake_count}, Real: {real_count}\")"
   ]
  },
  {
   "cell_type": "code",
   "execution_count": 15,
   "metadata": {},
   "outputs": [
    {
     "name": "stdout",
     "output_type": "stream",
     "text": [
      "Found 20 images belonging to 2 classes.\n",
      "\u001b[1m 4/20\u001b[0m \u001b[32m━━━━\u001b[0m\u001b[37m━━━━━━━━━━━━━━━━\u001b[0m \u001b[1m0s\u001b[0m 19ms/step"
     ]
    },
    {
     "name": "stderr",
     "output_type": "stream",
     "text": [
      "/home/jangminoh_2/miniconda3/envs/ml-ops/lib/python3.12/site-packages/keras/src/trainers/data_adapters/py_dataset_adapter.py:121: UserWarning: Your `PyDataset` class should call `super().__init__(**kwargs)` in its constructor. `**kwargs` can include `workers`, `use_multiprocessing`, `max_queue_size`. Do not pass these arguments to `fit()`, as they will be ignored.\n",
      "  self._warn_if_super_not_called()\n"
     ]
    },
    {
     "name": "stdout",
     "output_type": "stream",
     "text": [
      "\u001b[1m20/20\u001b[0m \u001b[32m━━━━━━━━━━━━━━━━━━━━\u001b[0m\u001b[37m\u001b[0m \u001b[1m0s\u001b[0m 19ms/step\n",
      "[[0.8300289 ]\n",
      " [0.20607679]\n",
      " [0.07971633]\n",
      " [0.9023981 ]\n",
      " [0.8718951 ]\n",
      " [0.45328087]\n",
      " [0.99416935]\n",
      " [0.99617875]\n",
      " [0.839995  ]\n",
      " [0.9313809 ]\n",
      " [0.02461922]\n",
      " [0.7719072 ]\n",
      " [0.01381815]\n",
      " [0.99687934]\n",
      " [0.10843885]\n",
      " [0.9708874 ]\n",
      " [0.0173803 ]\n",
      " [0.1477058 ]\n",
      " [0.10651548]\n",
      " [0.06992171]]\n",
      "Model Accuracy: 0.5000\n"
     ]
    },
    {
     "data": {
      "image/png": "[encoded data removed]",
      "text/plain": [
       "<Figure size 600x500 with 2 Axes>"
      ]
     },
     "metadata": {},
     "output_type": "display_data"
    },
    {
     "name": "stdout",
     "output_type": "stream",
     "text": [
      "\n",
      "Classification Report:\n",
      "              precision    recall  f1-score   support\n",
      "\n",
      "        fake       1.00      0.50      0.67        20\n",
      "        real       0.00      0.00      0.00         0\n",
      "\n",
      "    accuracy                           0.50        20\n",
      "   macro avg       0.50      0.25      0.33        20\n",
      "weighted avg       1.00      0.50      0.67        20\n",
      "\n"
     ]
    },
    {
     "name": "stderr",
     "output_type": "stream",
     "text": [
      "/home/jangminoh_2/miniconda3/envs/ml-ops/lib/python3.12/site-packages/sklearn/metrics/_classification.py:1565: UndefinedMetricWarning: Recall is ill-defined and being set to 0.0 in labels with no true samples. Use `zero_division` parameter to control this behavior.\n",
      "  _warn_prf(average, modifier, f\"{metric.capitalize()} is\", len(result))\n",
      "/home/jangminoh_2/miniconda3/envs/ml-ops/lib/python3.12/site-packages/sklearn/metrics/_classification.py:1565: UndefinedMetricWarning: Recall is ill-defined and being set to 0.0 in labels with no true samples. Use `zero_division` parameter to control this behavior.\n",
      "  _warn_prf(average, modifier, f\"{metric.capitalize()} is\", len(result))\n",
      "/home/jangminoh_2/miniconda3/envs/ml-ops/lib/python3.12/site-packages/sklearn/metrics/_classification.py:1565: UndefinedMetricWarning: Recall is ill-defined and being set to 0.0 in labels with no true samples. Use `zero_division` parameter to control this behavior.\n",
      "  _warn_prf(average, modifier, f\"{metric.capitalize()} is\", len(result))\n"
     ]
    }
   ],
   "source": [
    "# 이미지 크기 및 배치 사이즈 설정\n",
    "img_size = (528, 528)  # EfficientNetB6의 입력 크기에 맞게 변경 가능\n",
    "batch_size = 1\n",
    "\n",
    "# 데이터 로더 설정 (test용)\n",
    "datagen = ImageDataGenerator(\n",
    "    preprocessing_function=tf.keras.applications.efficientnet.preprocess_input\n",
    ")\n",
    "\n",
    "test_generator = datagen.flow_from_directory(\n",
    "    dataset_dir,\n",
    "    target_size=img_size,\n",
    "    batch_size=batch_size,\n",
    "    class_mode=\"binary\",  # 이진 분류 (fake vs real)\n",
    "    shuffle= False\n",
    ")\n",
    "\n",
    "# 실제 라벨 가져오기\n",
    "y_true = test_generator.classes  # 0: fake, 1: real\n",
    "#print(y_true)\n",
    "class_names = list(test_generator.class_indices.keys())\n",
    "#print(class_names) #['fake', 'real']\n",
    "#print(test_generator.class_indices)\n",
    "\n",
    "# 예측 수행\n",
    "y_pred_probs = model.predict(test_generator, steps=test_generator.samples)  # 확률값 출력\n",
    "print(y_pred_probs)\n",
    "y_pred = (y_pred_probs > 0.5).astype(int).flatten()  # 0.5 이상이면 1(real), 아니면 0(fake)\n",
    "\n",
    "# 정확도 출력\n",
    "accuracy = np.mean(y_pred == y_true)\n",
    "print(f\"Model Accuracy: {accuracy:.4f}\")\n",
    "\n",
    "# Confusion Matrix 생성\n",
    "cm = confusion_matrix(y_true, y_pred)\n",
    "\n",
    "# Confusion Matrix 시각화\n",
    "plt.figure(figsize=(6, 5))\n",
    "sns.heatmap(cm, annot=True, fmt=\"d\", cmap=\"Blues\", xticklabels=class_names, yticklabels=class_names)\n",
    "plt.xlabel(\"Predicted Label\")\n",
    "plt.ylabel(\"True Label\")\n",
    "plt.title(\"Confusion Matrix\")\n",
    "plt.show()\n",
    "\n",
    "# 분류 보고서 출력\n",
    "print(\"\\nClassification Report:\")\n",
    "print(classification_report(y_true, y_pred, target_names=class_names))\n"
   ]
  },
  {
   "cell_type": "code",
   "execution_count": null,
   "metadata": {},
   "outputs": [],
   "source": []
  },
  {
   "cell_type": "code",
   "execution_count": null,
   "metadata": {},
   "outputs": [],
   "source": []
  }
 ],
 "metadata": {
  "kernelspec": {
   "display_name": "ml-ops",
   "language": "python",
   "name": "python3"
  },
  "language_info": {
   "codemirror_mode": {
    "name": "ipython",
    "version": 3
   },
   "file_extension": ".py",
   "mimetype": "text/x-python",
   "name": "python",
   "nbconvert_exporter": "python",
   "pygments_lexer": "ipython3",
   "version": "3.12.9"
  }
 },
 "nbformat": 4,
 "nbformat_minor": 2
}
