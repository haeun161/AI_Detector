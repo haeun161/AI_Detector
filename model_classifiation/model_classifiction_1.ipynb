{
 "cells": [
  {
   "cell_type": "markdown",
   "metadata": {},
   "source": [
    "# 데이터 전처리"
   ]
  },
  {
   "cell_type": "code",
   "execution_count": 1,
   "metadata": {},
   "outputs": [],
   "source": [
    "# import os\n",
    "# import unicodedata\n",
    "# from PIL import Image\n",
    "\n",
    "# # 이미지 경로 설정\n",
    "# dataset_dir = \"/home/jangminoh_2/AI_Detector/data/GeneratedModel 분류/DALLE\"\n",
    "# fake_dir = os.path.join(dataset_dir, \"fake\")\n",
    "\n",
    "# # 파일명 정리 + 변환 함수\n",
    "# def clean_and_convert_images(directory):\n",
    "#     for filename in os.listdir(directory):\n",
    "#         # 유니코드 정규화 (한글 깨짐 방지)\n",
    "#         normalized_filename = unicodedata.normalize(\"NFC\", filename)\n",
    "#         new_filename = normalized_filename  # 기본 파일명 설정\n",
    "\n",
    "#         # \"의 사본\" 삭제\n",
    "#         if \"의 사본\" in new_filename:\n",
    "#             new_filename = new_filename.replace(\"의 사본\", \"\").strip()\n",
    "\n",
    "#         # 중복 확장자 제거 (예: .webp.webp → .webp)\n",
    "#         root, ext = os.path.splitext(new_filename)\n",
    "#         if root.endswith(ext):\n",
    "#             new_filename = root\n",
    "\n",
    "#         old_path = os.path.join(directory, filename)\n",
    "#         new_path = os.path.join(directory, new_filename)\n",
    "\n",
    "#         # 파일명이 변경되었을 경우만 수정\n",
    "#         if filename != new_filename:\n",
    "#             os.rename(old_path, new_path)\n",
    "#             print(f\"Renamed: {filename} -> {new_filename}\")\n",
    "#             old_path = new_path  # 변경된 파일명을 기반으로 다시 설정\n",
    "\n",
    "#         # 확장자가 .webp인 경우 .png로 변환\n",
    "#         if new_filename.endswith(\".webp\"):\n",
    "#             png_filename = new_filename.replace(\".webp\", \".png\")\n",
    "#             png_path = os.path.join(directory, png_filename)\n",
    "\n",
    "#             with Image.open(old_path) as img:\n",
    "#                 img.save(png_path, \"PNG\")  # PNG로 저장\n",
    "\n",
    "#             os.remove(old_path)  # 원본 .webp 파일 삭제\n",
    "#             print(f\"Converted: {new_filename} -> {png_filename}\")\n",
    "\n",
    "# # fake 디렉토리에서만 실행\n",
    "# clean_and_convert_images(fake_dir)\n",
    "\n",
    "# print(\"📂 fake 디렉토리 파일 정리 및 변환 완료! ✅\")\n"
   ]
  },
  {
   "cell_type": "markdown",
   "metadata": {},
   "source": [
    "# GPU 할당"
   ]
  },
  {
   "cell_type": "code",
   "execution_count": 1,
   "metadata": {},
   "outputs": [
    {
     "name": "stderr",
     "output_type": "stream",
     "text": [
      "2025-03-08 01:03:40.503071: E external/local_xla/xla/stream_executor/cuda/cuda_fft.cc:485] Unable to register cuFFT factory: Attempting to register factory for plugin cuFFT when one has already been registered\n",
      "2025-03-08 01:03:40.517409: E external/local_xla/xla/stream_executor/cuda/cuda_dnn.cc:8454] Unable to register cuDNN factory: Attempting to register factory for plugin cuDNN when one has already been registered\n",
      "2025-03-08 01:03:40.521752: E external/local_xla/xla/stream_executor/cuda/cuda_blas.cc:1452] Unable to register cuBLAS factory: Attempting to register factory for plugin cuBLAS when one has already been registered\n",
      "2025-03-08 01:03:40.534784: I tensorflow/core/platform/cpu_feature_guard.cc:210] This TensorFlow binary is optimized to use available CPU instructions in performance-critical operations.\n",
      "To enable the following instructions: AVX2 FMA, in other operations, rebuild TensorFlow with the appropriate compiler flags.\n",
      "2025-03-08 01:03:41.326986: W tensorflow/compiler/tf2tensorrt/utils/py_utils.cc:38] TF-TRT Warning: Could not find TensorRT\n"
     ]
    },
    {
     "name": "stdout",
     "output_type": "stream",
     "text": [
      "[LogicalDevice(name='/device:GPU:0', device_type='GPU')]\n"
     ]
    },
    {
     "name": "stderr",
     "output_type": "stream",
     "text": [
      "2025-03-08 01:03:42.893956: I tensorflow/core/common_runtime/gpu/gpu_device.cc:2021] Created device /job:localhost/replica:0/task:0/device:GPU:0 with 22495 MB memory:  -> device: 0, name: NVIDIA RTX A5000, pci bus id: 0000:01:00.0, compute capability: 8.6\n"
     ]
    }
   ],
   "source": [
    "import tensorflow as tf\n",
    "\n",
    "# GPU 0만 사용\n",
    "gpus = tf.config.experimental.list_physical_devices('GPU')\n",
    "if gpus:\n",
    "    try:\n",
    "        tf.config.experimental.set_visible_devices(gpus[0], 'GPU')  # GPU 0만 사용\n",
    "        tf.config.experimental.set_memory_growth(gpus[0], True)  # 메모리 동적 할당\n",
    "    except RuntimeError as e:\n",
    "        print(e)\n",
    "\n",
    "# TensorFlow에서 사용할 장치 확인\n",
    "print(tf.config.experimental.list_logical_devices('GPU'))\n"
   ]
  },
  {
   "cell_type": "markdown",
   "metadata": {},
   "source": [
    "# 필요한 라이브러리 로드"
   ]
  },
  {
   "cell_type": "code",
   "execution_count": 16,
   "metadata": {},
   "outputs": [],
   "source": [
    "import os\n",
    "import numpy as np\n",
    "import matplotlib.pyplot as plt\n",
    "import seaborn as sns\n",
    "from tensorflow.keras.models import load_model\n",
    "from tensorflow.keras.preprocessing.image import ImageDataGenerator\n",
    "from sklearn.metrics import confusion_matrix, classification_report"
   ]
  },
  {
   "cell_type": "markdown",
   "metadata": {},
   "source": [
    "# 모델 로드"
   ]
  },
  {
   "cell_type": "code",
   "execution_count": 19,
   "metadata": {},
   "outputs": [
    {
     "name": "stderr",
     "output_type": "stream",
     "text": [
      "WARNING:absl:Compiled the loaded model, but the compiled metrics have yet to be built. `model.compile_metrics` will be empty until you train or evaluate the model.\n"
     ]
    }
   ],
   "source": [
    "# 모델 로드\n",
    "model_path = \"/home/jangminoh_2/AI_Detector/model/model_v7.h5\"\n",
    "model = load_model(model_path)"
   ]
  },
  {
   "cell_type": "markdown",
   "metadata": {},
   "source": [
    "# DALLE"
   ]
  },
  {
   "cell_type": "code",
   "execution_count": 17,
   "metadata": {},
   "outputs": [],
   "source": [
    "# 데이터셋 경로\n",
    "dataset_dir = \"/home/jangminoh_2/AI_Detector/data/GeneratedModel 분류/DALLE\"\n",
    "fake_dir = \"/home/jangminoh_2/AI_Detector/data/GeneratedModel 분류/DALLE/fake\"\n",
    "real_dir = \"/home/jangminoh_2/AI_Detector/data/GeneratedModel 분류/DALLE/real\""
   ]
  },
  {
   "cell_type": "code",
   "execution_count": 18,
   "metadata": {},
   "outputs": [
    {
     "name": "stdout",
     "output_type": "stream",
     "text": [
      "Found 60 images belonging to 2 classes.\n"
     ]
    },
    {
     "name": "stdout",
     "output_type": "stream",
     "text": [
      "\u001b[1m 1/60\u001b[0m \u001b[37m━━━━━━━━━━━━━━━━━━━━\u001b[0m \u001b[1m4s\u001b[0m 81ms/step"
     ]
    },
    {
     "name": "stderr",
     "output_type": "stream",
     "text": [
      "/home/jangminoh_2/miniconda3/envs/ml-ops/lib/python3.12/site-packages/keras/src/trainers/data_adapters/py_dataset_adapter.py:121: UserWarning: Your `PyDataset` class should call `super().__init__(**kwargs)` in its constructor. `**kwargs` can include `workers`, `use_multiprocessing`, `max_queue_size`. Do not pass these arguments to `fit()`, as they will be ignored.\n",
      "  self._warn_if_super_not_called()\n"
     ]
    },
    {
     "name": "stdout",
     "output_type": "stream",
     "text": [
      "\u001b[1m60/60\u001b[0m \u001b[32m━━━━━━━━━━━━━━━━━━━━\u001b[0m\u001b[37m\u001b[0m \u001b[1m2s\u001b[0m 34ms/step\n",
      "[[0.99958533]\n",
      " [0.47874838]\n",
      " [0.83176684]\n",
      " [0.25970027]\n",
      " [0.341769  ]\n",
      " [0.31617686]\n",
      " [0.2925106 ]\n",
      " [0.08671545]\n",
      " [0.53007823]\n",
      " [0.17365743]\n",
      " [0.07386789]\n",
      " [0.66359556]\n",
      " [0.5306875 ]\n",
      " [0.3742632 ]\n",
      " [0.10974998]\n",
      " [0.33830717]\n",
      " [0.56962705]\n",
      " [0.5774097 ]\n",
      " [0.39338386]\n",
      " [0.57133424]\n",
      " [0.73059773]\n",
      " [0.21438621]\n",
      " [0.78030556]\n",
      " [0.18246059]\n",
      " [0.14356744]\n",
      " [0.08114398]\n",
      " [0.5125822 ]\n",
      " [0.49417332]\n",
      " [0.8553896 ]\n",
      " [0.1185357 ]\n",
      " [0.04287858]\n",
      " [0.00910515]\n",
      " [0.01652789]\n",
      " [0.22059211]\n",
      " [0.16775605]\n",
      " [0.09039018]\n",
      " [0.29656112]\n",
      " [0.01959733]\n",
      " [0.02748545]\n",
      " [0.22865053]\n",
      " [0.0625132 ]\n",
      " [0.21347965]\n",
      " [0.20203733]\n",
      " [0.9002156 ]\n",
      " [0.1262672 ]\n",
      " [0.05734411]\n",
      " [0.19560075]\n",
      " [0.5350796 ]\n",
      " [0.07000478]\n",
      " [0.8377765 ]\n",
      " [0.07946479]\n",
      " [0.9378149 ]\n",
      " [0.03893635]\n",
      " [0.44696468]\n",
      " [0.09136584]\n",
      " [0.07482798]\n",
      " [0.15467602]\n",
      " [0.2823805 ]\n",
      " [0.13969393]\n",
      " [0.04867435]]\n",
      "Model Accuracy: 0.7333\n"
     ]
    },
    {
     "data": {
      "image/png": "[encoded data removed]",
      "text/plain": [
       "<Figure size 600x500 with 2 Axes>"
      ]
     },
     "metadata": {},
     "output_type": "display_data"
    },
    {
     "name": "stdout",
     "output_type": "stream",
     "text": [
      "\n",
      "Classification Report:\n",
      "              precision    recall  f1-score   support\n",
      "\n",
      "        fake       1.00      0.73      0.85        60\n",
      "        real       0.00      0.00      0.00         0\n",
      "\n",
      "    accuracy                           0.73        60\n",
      "   macro avg       0.50      0.37      0.42        60\n",
      "weighted avg       1.00      0.73      0.85        60\n",
      "\n"
     ]
    },
    {
     "name": "stderr",
     "output_type": "stream",
     "text": [
      "/home/jangminoh_2/miniconda3/envs/ml-ops/lib/python3.12/site-packages/sklearn/metrics/_classification.py:1565: UndefinedMetricWarning: Recall is ill-defined and being set to 0.0 in labels with no true samples. Use `zero_division` parameter to control this behavior.\n",
      "  _warn_prf(average, modifier, f\"{metric.capitalize()} is\", len(result))\n",
      "/home/jangminoh_2/miniconda3/envs/ml-ops/lib/python3.12/site-packages/sklearn/metrics/_classification.py:1565: UndefinedMetricWarning: Recall is ill-defined and being set to 0.0 in labels with no true samples. Use `zero_division` parameter to control this behavior.\n",
      "  _warn_prf(average, modifier, f\"{metric.capitalize()} is\", len(result))\n",
      "/home/jangminoh_2/miniconda3/envs/ml-ops/lib/python3.12/site-packages/sklearn/metrics/_classification.py:1565: UndefinedMetricWarning: Recall is ill-defined and being set to 0.0 in labels with no true samples. Use `zero_division` parameter to control this behavior.\n",
      "  _warn_prf(average, modifier, f\"{metric.capitalize()} is\", len(result))\n"
     ]
    }
   ],
   "source": [
    "# 이미지 크기 및 배치 사이즈 설정\n",
    "img_size = (528, 528)  # EfficientNetB6의 입력 크기에 맞게 변경 가능\n",
    "batch_size = 1\n",
    "\n",
    "# 데이터 로더 설정 (test용)\n",
    "datagen = ImageDataGenerator(\n",
    "    preprocessing_function=tf.keras.applications.efficientnet.preprocess_input\n",
    ")\n",
    "\n",
    "test_generator = datagen.flow_from_directory(\n",
    "    dataset_dir,\n",
    "    target_size=img_size,\n",
    "    batch_size=batch_size,\n",
    "    class_mode=\"binary\",  # 이진 분류 (fake vs real)\n",
    "    shuffle= False\n",
    ")\n",
    "\n",
    "# 실제 라벨 가져오기\n",
    "y_true = test_generator.classes  # 0: fake, 1: real\n",
    "#print(y_true)\n",
    "class_names = list(test_generator.class_indices.keys())\n",
    "#print(class_names) #['fake', 'real']\n",
    "#print(test_generator.class_indices)\n",
    "\n",
    "# 예측 수행\n",
    "y_pred_probs = model.predict(test_generator, steps=test_generator.samples)  # 확률값 출력\n",
    "print(y_pred_probs)\n",
    "y_pred = (y_pred_probs > 0.5).astype(int).flatten()  # 0.5 이상이면 1(real), 아니면 0(fake)\n",
    "\n",
    "# 정확도 출력\n",
    "accuracy = np.mean(y_pred == y_true)\n",
    "print(f\"Model Accuracy: {accuracy:.4f}\")\n",
    "\n",
    "# Confusion Matrix 생성\n",
    "cm = confusion_matrix(y_true, y_pred)\n",
    "\n",
    "# Confusion Matrix 시각화\n",
    "plt.figure(figsize=(6, 5))\n",
    "sns.heatmap(cm, annot=True, fmt=\"d\", cmap=\"Blues\", xticklabels=class_names, yticklabels=class_names)\n",
    "plt.xlabel(\"Predicted Label\")\n",
    "plt.ylabel(\"True Label\")\n",
    "plt.title(\"Confusion Matrix\")\n",
    "plt.show()\n",
    "\n",
    "# 분류 보고서 출력\n",
    "print(\"\\nClassification Report:\")\n",
    "print(classification_report(y_true, y_pred, target_names=class_names))\n"
   ]
  },
  {
   "cell_type": "markdown",
   "metadata": {},
   "source": [
    "# Flamel"
   ]
  },
  {
   "cell_type": "code",
   "execution_count": null,
   "metadata": {},
   "outputs": [],
   "source": [
    "# 데이터셋 경로\n",
    "dataset_dir = \"/home/jangminoh_2/AI_Detector/data/GeneratedModel 분류/Flamel\"\n",
    "fake_dir = \"/home/jangminoh_2/AI_Detector/data/GeneratedModel 분류/Flamel/fake\"\n",
    "real_dir = \"/home/jangminoh_2/AI_Detector/data/GeneratedModel 분류/Flamel/real\""
   ]
  },
  {
   "cell_type": "code",
   "execution_count": 5,
   "metadata": {},
   "outputs": [
    {
     "name": "stdout",
     "output_type": "stream",
     "text": [
      "Fake: 128, Real: 0\n"
     ]
    }
   ],
   "source": [
    "fake_count = len(os.listdir(fake_dir)) if os.path.exists(fake_dir) else 0\n",
    "real_count = len(os.listdir(real_dir)) if os.path.exists(real_dir) else 0\n",
    "\n",
    "print(f\"Fake: {fake_count}, Real: {real_count}\")"
   ]
  },
  {
   "cell_type": "code",
   "execution_count": 8,
   "metadata": {},
   "outputs": [
    {
     "name": "stdout",
     "output_type": "stream",
     "text": [
      "Found 128 images belonging to 2 classes.\n"
     ]
    },
    {
     "name": "stderr",
     "output_type": "stream",
     "text": [
      "/home/jangminoh_2/miniconda3/envs/ml-ops/lib/python3.12/site-packages/keras/src/trainers/data_adapters/py_dataset_adapter.py:121: UserWarning: Your `PyDataset` class should call `super().__init__(**kwargs)` in its constructor. `**kwargs` can include `workers`, `use_multiprocessing`, `max_queue_size`. Do not pass these arguments to `fit()`, as they will be ignored.\n",
      "  self._warn_if_super_not_called()\n",
      "WARNING: All log messages before absl::InitializeLog() is called are written to STDERR\n",
      "I0000 00:00:1741362757.140472 3304741 service.cc:146] XLA service 0x736cc8002730 initialized for platform CUDA (this does not guarantee that XLA will be used). Devices:\n",
      "I0000 00:00:1741362757.140537 3304741 service.cc:154]   StreamExecutor device (0): NVIDIA RTX A5000, Compute Capability 8.6\n",
      "I0000 00:00:1741362757.140577 3304741 service.cc:154]   StreamExecutor device (1): NVIDIA RTX A5000, Compute Capability 8.6\n",
      "I0000 00:00:1741362757.140582 3304741 service.cc:154]   StreamExecutor device (2): NVIDIA RTX A5000, Compute Capability 8.6\n",
      "I0000 00:00:1741362757.140586 3304741 service.cc:154]   StreamExecutor device (3): NVIDIA RTX A5000, Compute Capability 8.6\n",
      "I0000 00:00:1741362757.140590 3304741 service.cc:154]   StreamExecutor device (4): NVIDIA RTX A5000, Compute Capability 8.6\n",
      "I0000 00:00:1741362757.140594 3304741 service.cc:154]   StreamExecutor device (5): NVIDIA RTX A5000, Compute Capability 8.6\n",
      "I0000 00:00:1741362757.140598 3304741 service.cc:154]   StreamExecutor device (6): NVIDIA RTX A5000, Compute Capability 8.6\n",
      "I0000 00:00:1741362757.140602 3304741 service.cc:154]   StreamExecutor device (7): NVIDIA RTX A5000, Compute Capability 8.6\n",
      "2025-03-08 00:52:37.303630: I tensorflow/compiler/mlir/tensorflow/utils/dump_mlir_util.cc:268] disabling MLIR crash reproducer, set env var `MLIR_CRASH_REPRODUCER_DIRECTORY` to enable.\n",
      "2025-03-08 00:52:38.314616: I external/local_xla/xla/stream_executor/cuda/cuda_dnn.cc:531] Loaded cuDNN version 8907\n",
      "2025-03-08 00:52:39.200741: I external/local_xla/xla/stream_executor/cuda/cuda_asm_compiler.cc:393] ptxas warning : Registers are spilled to local memory in function 'gemm_fusion_dot_2', 36 bytes spill stores, 36 bytes spill loads\n",
      "\n"
     ]
    },
    {
     "name": "stdout",
     "output_type": "stream",
     "text": [
      "\u001b[1m  7/128\u001b[0m \u001b[32m━\u001b[0m\u001b[37m━━━━━━━━━━━━━━━━━━━\u001b[0m \u001b[1m2s\u001b[0m 20ms/step"
     ]
    },
    {
     "name": "stderr",
     "output_type": "stream",
     "text": [
      "I0000 00:00:1741362767.578324 3304741 device_compiler.h:188] Compiled cluster using XLA!  This line is logged at most once for the lifetime of the process.\n"
     ]
    },
    {
     "name": "stdout",
     "output_type": "stream",
     "text": [
      "\u001b[1m128/128\u001b[0m \u001b[32m━━━━━━━━━━━━━━━━━━━━\u001b[0m\u001b[37m\u001b[0m \u001b[1m16s\u001b[0m 19ms/step\n",
      "[[0.47034284]\n",
      " [0.47569472]\n",
      " [0.8318606 ]\n",
      " [0.48402822]\n",
      " [0.82540894]\n",
      " [0.8486522 ]\n",
      " [0.19273   ]\n",
      " [0.47311026]\n",
      " [0.6963995 ]\n",
      " [0.8907788 ]\n",
      " [0.81922454]\n",
      " [0.97745204]\n",
      " [0.8071931 ]\n",
      " [0.7072897 ]\n",
      " [0.46425733]\n",
      " [0.589615  ]\n",
      " [0.09867805]\n",
      " [0.34577906]\n",
      " [0.8744155 ]\n",
      " [0.6959851 ]\n",
      " [0.6274189 ]\n",
      " [0.5826797 ]\n",
      " [0.765122  ]\n",
      " [0.27373302]\n",
      " [0.5516183 ]\n",
      " [0.4259678 ]\n",
      " [0.30110916]\n",
      " [0.24982198]\n",
      " [0.4188579 ]\n",
      " [0.9512096 ]\n",
      " [0.49076805]\n",
      " [0.8790091 ]\n",
      " [0.30661285]\n",
      " [0.6694972 ]\n",
      " [0.6793493 ]\n",
      " [0.10154165]\n",
      " [0.10269909]\n",
      " [0.71217376]\n",
      " [0.71274364]\n",
      " [0.3189774 ]\n",
      " [0.00518519]\n",
      " [0.10996804]\n",
      " [0.04550503]\n",
      " [0.9173844 ]\n",
      " [0.00319578]\n",
      " [0.10420887]\n",
      " [0.25260854]\n",
      " [0.1759439 ]\n",
      " [0.7429454 ]\n",
      " [0.5778452 ]\n",
      " [0.70083076]\n",
      " [0.52286744]\n",
      " [0.37348133]\n",
      " [0.01796835]\n",
      " [0.10742301]\n",
      " [0.9890689 ]\n",
      " [0.20542182]\n",
      " [0.3072077 ]\n",
      " [0.5405876 ]\n",
      " [0.39839187]\n",
      " [0.18187699]\n",
      " [0.9896954 ]\n",
      " [0.48964444]\n",
      " [0.2971808 ]\n",
      " [0.7828282 ]\n",
      " [0.06574456]\n",
      " [0.21395698]\n",
      " [0.8764238 ]\n",
      " [0.9972572 ]\n",
      " [0.4596821 ]\n",
      " [0.72441393]\n",
      " [0.65845275]\n",
      " [0.17058907]\n",
      " [0.55318034]\n",
      " [0.22029328]\n",
      " [0.98112774]\n",
      " [0.284981  ]\n",
      " [0.9993187 ]\n",
      " [0.08654464]\n",
      " [0.11053997]\n",
      " [0.1295672 ]\n",
      " [0.69755036]\n",
      " [0.96195585]\n",
      " [0.22760922]\n",
      " [0.19691005]\n",
      " [0.5555656 ]\n",
      " [0.03648954]\n",
      " [0.7293537 ]\n",
      " [0.04426988]\n",
      " [0.425572  ]\n",
      " [0.2297196 ]\n",
      " [0.645     ]\n",
      " [0.3362069 ]\n",
      " [0.0187924 ]\n",
      " [0.14431532]\n",
      " [0.90524465]\n",
      " [0.31184712]\n",
      " [0.49359235]\n",
      " [0.92722875]\n",
      " [0.10432481]\n",
      " [0.18671125]\n",
      " [0.6241879 ]\n",
      " [0.2153089 ]\n",
      " [0.31948397]\n",
      " [0.13583589]\n",
      " [0.26394668]\n",
      " [0.17460611]\n",
      " [0.06738117]\n",
      " [0.3907504 ]\n",
      " [0.6643194 ]\n",
      " [0.34787562]\n",
      " [0.29812866]\n",
      " [0.45658532]\n",
      " [0.11449906]\n",
      " [0.05125749]\n",
      " [0.04414328]\n",
      " [0.00531212]\n",
      " [0.993964  ]\n",
      " [0.35292304]\n",
      " [0.12084612]\n",
      " [0.4261871 ]\n",
      " [0.2706043 ]\n",
      " [0.9922156 ]\n",
      " [0.36434186]\n",
      " [0.9555008 ]\n",
      " [0.46687165]\n",
      " [0.43368447]\n",
      " [0.1599216 ]]\n",
      "Model Accuracy: 0.6094\n"
     ]
    },
    {
     "data": {
      "image/png": "[encoded data removed]",
      "text/plain": [
       "<Figure size 600x500 with 2 Axes>"
      ]
     },
     "metadata": {},
     "output_type": "display_data"
    },
    {
     "name": "stdout",
     "output_type": "stream",
     "text": [
      "\n",
      "Classification Report:\n",
      "              precision    recall  f1-score   support\n",
      "\n",
      "        fake       1.00      0.61      0.76       128\n",
      "        real       0.00      0.00      0.00         0\n",
      "\n",
      "    accuracy                           0.61       128\n",
      "   macro avg       0.50      0.30      0.38       128\n",
      "weighted avg       1.00      0.61      0.76       128\n",
      "\n"
     ]
    },
    {
     "name": "stderr",
     "output_type": "stream",
     "text": [
      "/home/jangminoh_2/miniconda3/envs/ml-ops/lib/python3.12/site-packages/sklearn/metrics/_classification.py:1565: UndefinedMetricWarning: Recall is ill-defined and being set to 0.0 in labels with no true samples. Use `zero_division` parameter to control this behavior.\n",
      "  _warn_prf(average, modifier, f\"{metric.capitalize()} is\", len(result))\n",
      "/home/jangminoh_2/miniconda3/envs/ml-ops/lib/python3.12/site-packages/sklearn/metrics/_classification.py:1565: UndefinedMetricWarning: Recall is ill-defined and being set to 0.0 in labels with no true samples. Use `zero_division` parameter to control this behavior.\n",
      "  _warn_prf(average, modifier, f\"{metric.capitalize()} is\", len(result))\n",
      "/home/jangminoh_2/miniconda3/envs/ml-ops/lib/python3.12/site-packages/sklearn/metrics/_classification.py:1565: UndefinedMetricWarning: Recall is ill-defined and being set to 0.0 in labels with no true samples. Use `zero_division` parameter to control this behavior.\n",
      "  _warn_prf(average, modifier, f\"{metric.capitalize()} is\", len(result))\n"
     ]
    }
   ],
   "source": [
    "# 이미지 크기 및 배치 사이즈 설정\n",
    "img_size = (528, 528)  # EfficientNetB6의 입력 크기에 맞게 변경 가능\n",
    "batch_size = 1\n",
    "\n",
    "# 데이터 로더 설정 (test용)\n",
    "datagen = ImageDataGenerator(\n",
    "    preprocessing_function=tf.keras.applications.efficientnet.preprocess_input\n",
    ")\n",
    "\n",
    "test_generator = datagen.flow_from_directory(\n",
    "    dataset_dir,\n",
    "    target_size=img_size,\n",
    "    batch_size=batch_size,\n",
    "    class_mode=\"binary\",  # 이진 분류 (fake vs real)\n",
    "    shuffle= False\n",
    ")\n",
    "\n",
    "# 실제 라벨 가져오기\n",
    "y_true = test_generator.classes  # 0: fake, 1: real\n",
    "#print(y_true)\n",
    "class_names = list(test_generator.class_indices.keys())\n",
    "#print(class_names) #['fake', 'real']\n",
    "#print(test_generator.class_indices)\n",
    "\n",
    "# 예측 수행\n",
    "y_pred_probs = model.predict(test_generator, steps=test_generator.samples)  # 확률값 출력\n",
    "print(y_pred_probs)\n",
    "y_pred = (y_pred_probs > 0.5).astype(int).flatten()  # 0.5 이상이면 1(real), 아니면 0(fake)\n",
    "\n",
    "# 정확도 출력\n",
    "accuracy = np.mean(y_pred == y_true)\n",
    "print(f\"Model Accuracy: {accuracy:.4f}\")\n",
    "\n",
    "# Confusion Matrix 생성\n",
    "cm = confusion_matrix(y_true, y_pred)\n",
    "\n",
    "# Confusion Matrix 시각화\n",
    "plt.figure(figsize=(6, 5))\n",
    "sns.heatmap(cm, annot=True, fmt=\"d\", cmap=\"Blues\", xticklabels=class_names, yticklabels=class_names)\n",
    "plt.xlabel(\"Predicted Label\")\n",
    "plt.ylabel(\"True Label\")\n",
    "plt.title(\"Confusion Matrix\")\n",
    "plt.show()\n",
    "\n",
    "# 분류 보고서 출력\n",
    "print(\"\\nClassification Report:\")\n",
    "print(classification_report(y_true, y_pred, target_names=class_names))\n"
   ]
  },
  {
   "cell_type": "markdown",
   "metadata": {},
   "source": [
    "# Midjourney"
   ]
  },
  {
   "cell_type": "code",
   "execution_count": null,
   "metadata": {},
   "outputs": [],
   "source": [
    "# 데이터셋 경로\n",
    "dataset_dir = \"/home/jangminoh_2/AI_Detector/data/GeneratedModel 분류/Midjourney\"\n",
    "fake_dir = \"/home/jangminoh_2/AI_Detector/data/GeneratedModel 분류/Midjourney/fake\"\n",
    "real_dir = \"/home/jangminoh_2/AI_Detector/data/GeneratedModel 분류/Midjourney/real\""
   ]
  },
  {
   "cell_type": "code",
   "execution_count": 11,
   "metadata": {},
   "outputs": [
    {
     "name": "stdout",
     "output_type": "stream",
     "text": [
      "Fake: 132, Real: 0\n"
     ]
    }
   ],
   "source": [
    "fake_count = len(os.listdir(fake_dir)) if os.path.exists(fake_dir) else 0\n",
    "real_count = len(os.listdir(real_dir)) if os.path.exists(real_dir) else 0\n",
    "\n",
    "print(f\"Fake: {fake_count}, Real: {real_count}\")"
   ]
  },
  {
   "cell_type": "code",
   "execution_count": 13,
   "metadata": {},
   "outputs": [
    {
     "name": "stdout",
     "output_type": "stream",
     "text": [
      "Found 132 images belonging to 2 classes.\n"
     ]
    },
    {
     "name": "stderr",
     "output_type": "stream",
     "text": [
      "/home/jangminoh_2/miniconda3/envs/ml-ops/lib/python3.12/site-packages/keras/src/trainers/data_adapters/py_dataset_adapter.py:121: UserWarning: Your `PyDataset` class should call `super().__init__(**kwargs)` in its constructor. `**kwargs` can include `workers`, `use_multiprocessing`, `max_queue_size`. Do not pass these arguments to `fit()`, as they will be ignored.\n",
      "  self._warn_if_super_not_called()\n"
     ]
    },
    {
     "name": "stdout",
     "output_type": "stream",
     "text": [
      "\u001b[1m132/132\u001b[0m \u001b[32m━━━━━━━━━━━━━━━━━━━━\u001b[0m\u001b[37m\u001b[0m \u001b[1m12s\u001b[0m 19ms/step\n",
      "[[0.38640153]\n",
      " [0.9818419 ]\n",
      " [0.6024916 ]\n",
      " [0.36592788]\n",
      " [0.0371393 ]\n",
      " [0.21196574]\n",
      " [0.180779  ]\n",
      " [0.03243743]\n",
      " [0.05511816]\n",
      " [0.06265891]\n",
      " [0.16960719]\n",
      " [0.05118005]\n",
      " [0.6842439 ]\n",
      " [0.59843916]\n",
      " [0.44949228]\n",
      " [0.23197865]\n",
      " [0.11876605]\n",
      " [0.12356593]\n",
      " [0.70442784]\n",
      " [0.75846076]\n",
      " [0.05827218]\n",
      " [0.4221867 ]\n",
      " [0.28584433]\n",
      " [0.25398737]\n",
      " [0.7814755 ]\n",
      " [0.52641577]\n",
      " [0.77225065]\n",
      " [0.70168334]\n",
      " [0.9380691 ]\n",
      " [0.8359368 ]\n",
      " [0.7383084 ]\n",
      " [0.75495327]\n",
      " [0.66374946]\n",
      " [0.93810844]\n",
      " [0.75495327]\n",
      " [0.34862977]\n",
      " [0.48873064]\n",
      " [0.91292477]\n",
      " [0.8340311 ]\n",
      " [0.68345344]\n",
      " [0.90557486]\n",
      " [0.66367763]\n",
      " [0.26211822]\n",
      " [0.6066148 ]\n",
      " [0.26779738]\n",
      " [0.02740333]\n",
      " [0.05445459]\n",
      " [0.0747319 ]\n",
      " [0.17405042]\n",
      " [0.12117667]\n",
      " [0.12250338]\n",
      " [0.07282975]\n",
      " [0.04990667]\n",
      " [0.85468876]\n",
      " [0.9044195 ]\n",
      " [0.98494613]\n",
      " [0.25184846]\n",
      " [0.80961794]\n",
      " [0.11802603]\n",
      " [0.15962629]\n",
      " [0.22576603]\n",
      " [0.34201178]\n",
      " [0.192206  ]\n",
      " [0.40313318]\n",
      " [0.7994358 ]\n",
      " [0.5462497 ]\n",
      " [0.56720644]\n",
      " [0.9265173 ]\n",
      " [0.08507746]\n",
      " [0.72709846]\n",
      " [0.73850346]\n",
      " [0.13859196]\n",
      " [0.4536989 ]\n",
      " [0.1633061 ]\n",
      " [0.09006929]\n",
      " [0.2437328 ]\n",
      " [0.9134425 ]\n",
      " [0.9038709 ]\n",
      " [0.56233233]\n",
      " [0.5465053 ]\n",
      " [0.9283127 ]\n",
      " [0.2960159 ]\n",
      " [0.920067  ]\n",
      " [0.47576907]\n",
      " [0.60372597]\n",
      " [0.7759096 ]\n",
      " [0.22148122]\n",
      " [0.60226464]\n",
      " [0.8543279 ]\n",
      " [0.875616  ]\n",
      " [0.77252513]\n",
      " [0.48856327]\n",
      " [0.35849568]\n",
      " [0.5337613 ]\n",
      " [0.42532873]\n",
      " [0.61305535]\n",
      " [0.32557017]\n",
      " [0.33501258]\n",
      " [0.8459941 ]\n",
      " [0.5828856 ]\n",
      " [0.38048   ]\n",
      " [0.826363  ]\n",
      " [0.21904418]\n",
      " [0.81859654]\n",
      " [0.8758881 ]\n",
      " [0.56459415]\n",
      " [0.4072657 ]\n",
      " [0.42714715]\n",
      " [0.24271168]\n",
      " [0.49536407]\n",
      " [0.51490587]\n",
      " [0.27719894]\n",
      " [0.19242175]\n",
      " [0.86652845]\n",
      " [0.3207024 ]\n",
      " [0.4999637 ]\n",
      " [0.43193898]\n",
      " [0.7671296 ]\n",
      " [0.6785843 ]\n",
      " [0.8275895 ]\n",
      " [0.4370356 ]\n",
      " [0.36610532]\n",
      " [0.7760449 ]\n",
      " [0.83848584]\n",
      " [0.22731462]\n",
      " [0.00432089]\n",
      " [0.09366412]\n",
      " [0.11246464]\n",
      " [0.11928367]\n",
      " [0.8808432 ]\n",
      " [0.37844425]\n",
      " [0.04452547]]\n",
      "Model Accuracy: 0.5379\n"
     ]
    },
    {
     "data": {
      "image/png": "[encoded data removed]",
      "text/plain": [
       "<Figure size 600x500 with 2 Axes>"
      ]
     },
     "metadata": {},
     "output_type": "display_data"
    },
    {
     "name": "stdout",
     "output_type": "stream",
     "text": [
      "\n",
      "Classification Report:\n",
      "              precision    recall  f1-score   support\n",
      "\n",
      "        fake       1.00      0.54      0.70       132\n",
      "        real       0.00      0.00      0.00         0\n",
      "\n",
      "    accuracy                           0.54       132\n",
      "   macro avg       0.50      0.27      0.35       132\n",
      "weighted avg       1.00      0.54      0.70       132\n",
      "\n"
     ]
    },
    {
     "name": "stderr",
     "output_type": "stream",
     "text": [
      "/home/jangminoh_2/miniconda3/envs/ml-ops/lib/python3.12/site-packages/sklearn/metrics/_classification.py:1565: UndefinedMetricWarning: Recall is ill-defined and being set to 0.0 in labels with no true samples. Use `zero_division` parameter to control this behavior.\n",
      "  _warn_prf(average, modifier, f\"{metric.capitalize()} is\", len(result))\n",
      "/home/jangminoh_2/miniconda3/envs/ml-ops/lib/python3.12/site-packages/sklearn/metrics/_classification.py:1565: UndefinedMetricWarning: Recall is ill-defined and being set to 0.0 in labels with no true samples. Use `zero_division` parameter to control this behavior.\n",
      "  _warn_prf(average, modifier, f\"{metric.capitalize()} is\", len(result))\n",
      "/home/jangminoh_2/miniconda3/envs/ml-ops/lib/python3.12/site-packages/sklearn/metrics/_classification.py:1565: UndefinedMetricWarning: Recall is ill-defined and being set to 0.0 in labels with no true samples. Use `zero_division` parameter to control this behavior.\n",
      "  _warn_prf(average, modifier, f\"{metric.capitalize()} is\", len(result))\n"
     ]
    }
   ],
   "source": [
    "# 이미지 크기 및 배치 사이즈 설정\n",
    "img_size = (528, 528)  # EfficientNetB6의 입력 크기에 맞게 변경 가능\n",
    "batch_size = 1\n",
    "\n",
    "# 데이터 로더 설정 (test용)\n",
    "datagen = ImageDataGenerator(\n",
    "    preprocessing_function=tf.keras.applications.efficientnet.preprocess_input\n",
    ")\n",
    "\n",
    "test_generator = datagen.flow_from_directory(\n",
    "    dataset_dir,\n",
    "    target_size=img_size,\n",
    "    batch_size=batch_size,\n",
    "    class_mode=\"binary\",  # 이진 분류 (fake vs real)\n",
    "    shuffle= False\n",
    ")\n",
    "\n",
    "# 실제 라벨 가져오기\n",
    "y_true = test_generator.classes  # 0: fake, 1: real\n",
    "#print(y_true)\n",
    "class_names = list(test_generator.class_indices.keys())\n",
    "#print(class_names) #['fake', 'real']\n",
    "#print(test_generator.class_indices)\n",
    "\n",
    "# 예측 수행\n",
    "y_pred_probs = model.predict(test_generator, steps=test_generator.samples)  # 확률값 출력\n",
    "print(y_pred_probs)\n",
    "y_pred = (y_pred_probs > 0.5).astype(int).flatten()  # 0.5 이상이면 1(real), 아니면 0(fake)\n",
    "\n",
    "# 정확도 출력\n",
    "accuracy = np.mean(y_pred == y_true)\n",
    "print(f\"Model Accuracy: {accuracy:.4f}\")\n",
    "\n",
    "# Confusion Matrix 생성\n",
    "cm = confusion_matrix(y_true, y_pred)\n",
    "\n",
    "# Confusion Matrix 시각화\n",
    "plt.figure(figsize=(6, 5))\n",
    "sns.heatmap(cm, annot=True, fmt=\"d\", cmap=\"Blues\", xticklabels=class_names, yticklabels=class_names)\n",
    "plt.xlabel(\"Predicted Label\")\n",
    "plt.ylabel(\"True Label\")\n",
    "plt.title(\"Confusion Matrix\")\n",
    "plt.show()\n",
    "\n",
    "# 분류 보고서 출력\n",
    "print(\"\\nClassification Report:\")\n",
    "print(classification_report(y_true, y_pred, target_names=class_names))"
   ]
  },
  {
   "cell_type": "markdown",
   "metadata": {},
   "source": [
    "# StableDiffusion"
   ]
  },
  {
   "cell_type": "code",
   "execution_count": null,
   "metadata": {},
   "outputs": [],
   "source": [
    "# 데이터셋 경로\n",
    "dataset_dir = \"/home/jangminoh_2/AI_Detector/data/GeneratedModel 분류/StableDiffusion\"\n",
    "fake_dir = \"/home/jangminoh_2/AI_Detector/data/GeneratedModel 분류/StableDiffusion/fake\"\n",
    "real_dir = \"/home/jangminoh_2/AI_Detector/data/GeneratedModel 분류/StableDiffusion/real\""
   ]
  },
  {
   "cell_type": "code",
   "execution_count": 10,
   "metadata": {},
   "outputs": [
    {
     "name": "stdout",
     "output_type": "stream",
     "text": [
      "Fake: 20, Real: 0\n"
     ]
    }
   ],
   "source": [
    "fake_count = len(os.listdir(fake_dir)) if os.path.exists(fake_dir) else 0\n",
    "real_count = len(os.listdir(real_dir)) if os.path.exists(real_dir) else 0\n",
    "\n",
    "print(f\"Fake: {fake_count}, Real: {real_count}\")"
   ]
  },
  {
   "cell_type": "code",
   "execution_count": 12,
   "metadata": {},
   "outputs": [
    {
     "name": "stdout",
     "output_type": "stream",
     "text": [
      "Found 20 images belonging to 2 classes.\n"
     ]
    },
    {
     "name": "stderr",
     "output_type": "stream",
     "text": [
      "/home/jangminoh_2/miniconda3/envs/ml-ops/lib/python3.12/site-packages/keras/src/trainers/data_adapters/py_dataset_adapter.py:121: UserWarning: Your `PyDataset` class should call `super().__init__(**kwargs)` in its constructor. `**kwargs` can include `workers`, `use_multiprocessing`, `max_queue_size`. Do not pass these arguments to `fit()`, as they will be ignored.\n",
      "  self._warn_if_super_not_called()\n"
     ]
    },
    {
     "name": "stdout",
     "output_type": "stream",
     "text": [
      "\u001b[1m20/20\u001b[0m \u001b[32m━━━━━━━━━━━━━━━━━━━━\u001b[0m\u001b[37m\u001b[0m \u001b[1m10s\u001b[0m 21ms/step\n",
      "[[0.84255236]\n",
      " [0.9911146 ]\n",
      " [0.9993754 ]\n",
      " [0.9984022 ]\n",
      " [0.9288036 ]\n",
      " [0.8421873 ]\n",
      " [0.98849934]\n",
      " [0.8476753 ]\n",
      " [0.98037153]\n",
      " [0.98324054]\n",
      " [0.78287697]\n",
      " [0.7464866 ]\n",
      " [0.5733086 ]\n",
      " [0.98238635]\n",
      " [0.7596438 ]\n",
      " [0.82937783]\n",
      " [0.6550651 ]\n",
      " [0.7879958 ]\n",
      " [0.90670687]\n",
      " [0.28030214]]\n",
      "Model Accuracy: 0.0500\n"
     ]
    },
    {
     "data": {
      "image/png": "[encoded data removed]",
      "text/plain": [
       "<Figure size 600x500 with 2 Axes>"
      ]
     },
     "metadata": {},
     "output_type": "display_data"
    },
    {
     "name": "stdout",
     "output_type": "stream",
     "text": [
      "\n",
      "Classification Report:\n",
      "              precision    recall  f1-score   support\n",
      "\n",
      "        fake       1.00      0.05      0.10        20\n",
      "        real       0.00      0.00      0.00         0\n",
      "\n",
      "    accuracy                           0.05        20\n",
      "   macro avg       0.50      0.03      0.05        20\n",
      "weighted avg       1.00      0.05      0.10        20\n",
      "\n"
     ]
    },
    {
     "name": "stderr",
     "output_type": "stream",
     "text": [
      "/home/jangminoh_2/miniconda3/envs/ml-ops/lib/python3.12/site-packages/sklearn/metrics/_classification.py:1565: UndefinedMetricWarning: Recall is ill-defined and being set to 0.0 in labels with no true samples. Use `zero_division` parameter to control this behavior.\n",
      "  _warn_prf(average, modifier, f\"{metric.capitalize()} is\", len(result))\n",
      "/home/jangminoh_2/miniconda3/envs/ml-ops/lib/python3.12/site-packages/sklearn/metrics/_classification.py:1565: UndefinedMetricWarning: Recall is ill-defined and being set to 0.0 in labels with no true samples. Use `zero_division` parameter to control this behavior.\n",
      "  _warn_prf(average, modifier, f\"{metric.capitalize()} is\", len(result))\n",
      "/home/jangminoh_2/miniconda3/envs/ml-ops/lib/python3.12/site-packages/sklearn/metrics/_classification.py:1565: UndefinedMetricWarning: Recall is ill-defined and being set to 0.0 in labels with no true samples. Use `zero_division` parameter to control this behavior.\n",
      "  _warn_prf(average, modifier, f\"{metric.capitalize()} is\", len(result))\n"
     ]
    }
   ],
   "source": [
    "# 이미지 크기 및 배치 사이즈 설정\n",
    "img_size = (528, 528)  # EfficientNetB6의 입력 크기에 맞게 변경 가능\n",
    "batch_size = 1\n",
    "\n",
    "# 데이터 로더 설정 (test용)\n",
    "datagen = ImageDataGenerator(\n",
    "    preprocessing_function=tf.keras.applications.efficientnet.preprocess_input\n",
    ")\n",
    "\n",
    "test_generator = datagen.flow_from_directory(\n",
    "    dataset_dir,\n",
    "    target_size=img_size,\n",
    "    batch_size=batch_size,\n",
    "    class_mode=\"binary\",  # 이진 분류 (fake vs real)\n",
    "    shuffle= False\n",
    ")\n",
    "\n",
    "# 실제 라벨 가져오기\n",
    "y_true = test_generator.classes  # 0: fake, 1: real\n",
    "#print(y_true)\n",
    "class_names = list(test_generator.class_indices.keys())\n",
    "#print(class_names) #['fake', 'real']\n",
    "#print(test_generator.class_indices)\n",
    "\n",
    "# 예측 수행\n",
    "y_pred_probs = model.predict(test_generator, steps=test_generator.samples)  # 확률값 출력\n",
    "print(y_pred_probs)\n",
    "y_pred = (y_pred_probs > 0.5).astype(int).flatten()  # 0.5 이상이면 1(real), 아니면 0(fake)\n",
    "\n",
    "# 정확도 출력\n",
    "accuracy = np.mean(y_pred == y_true)\n",
    "print(f\"Model Accuracy: {accuracy:.4f}\")\n",
    "\n",
    "# Confusion Matrix 생성\n",
    "cm = confusion_matrix(y_true, y_pred)\n",
    "\n",
    "# Confusion Matrix 시각화\n",
    "plt.figure(figsize=(6, 5))\n",
    "sns.heatmap(cm, annot=True, fmt=\"d\", cmap=\"Blues\", xticklabels=class_names, yticklabels=class_names)\n",
    "plt.xlabel(\"Predicted Label\")\n",
    "plt.ylabel(\"True Label\")\n",
    "plt.title(\"Confusion Matrix\")\n",
    "plt.show()\n",
    "\n",
    "# 분류 보고서 출력\n",
    "print(\"\\nClassification Report:\")\n",
    "print(classification_report(y_true, y_pred, target_names=class_names))\n"
   ]
  },
  {
   "cell_type": "code",
   "execution_count": null,
   "metadata": {},
   "outputs": [],
   "source": []
  },
  {
   "cell_type": "code",
   "execution_count": null,
   "metadata": {},
   "outputs": [],
   "source": []
  }
 ],
 "metadata": {
  "kernelspec": {
   "display_name": "Python (ml-ops)",
   "language": "python",
   "name": "ml-ops"
  },
  "language_info": {
   "codemirror_mode": {
    "name": "ipython",
    "version": 3
   },
   "file_extension": ".py",
   "mimetype": "text/x-python",
   "name": "python",
   "nbconvert_exporter": "python",
   "pygments_lexer": "ipython3",
   "version": "3.12.9"
  }
 },
 "nbformat": 4,
 "nbformat_minor": 2
}
